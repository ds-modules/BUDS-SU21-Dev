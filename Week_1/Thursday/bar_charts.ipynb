{
 "cells": [
  {
   "cell_type": "markdown",
   "metadata": {},
   "source": [
    "# Data Visualization\n",
    "\n",
    "---\n",
    "\n",
    "### Topics Covered\n",
    "- Types of Data\n",
    "- Creasting and Reading Tables \n",
    "- Table Methods: Select, Drop, Sort\n",
    "- Accessing Columns and Column Artihmetic\n",
    "- Bar chart\n",
    "\n",
    "\n",
    "### Table of Contents\n",
    "1 - [Data Types](#section1)<br>\n",
    "\n",
    "2 - [Data Visualization - Bar Charts](#section2)<br>\n",
    "\n",
    "&nbsp;&nbsp;&nbsp;&nbsp;&nbsp;&nbsp; a) [Fruits Example](#subsection1)<br>\n",
    "\n",
    "&nbsp;&nbsp;&nbsp;&nbsp;&nbsp;&nbsp; b) [Movies Example](#subsection2)<br>\n",
    "\n",
    "### Learning Objectives: \n",
    "\n",
    "By the end of this notebook you should be able to :\n",
    "* Understand the difference between categorical and numerical data \n",
    "* Understand what makes good visualizations and a bad one \n",
    "* Understand how to use bar charts \n",
    "* Understand how make bar charts\n",
    "\n",
    "\n",
    "\n",
    "\n",
    "**Dependencies:**"
   ]
  },
  {
   "cell_type": "code",
   "execution_count": null,
   "metadata": {},
   "outputs": [],
   "source": [
    "from datascience import *\n",
    "import numpy as np\n",
    "from IPython.lib.display import YouTubeVideo\n",
    "\n",
    "import matplotlib.pyplot as plt\n",
    "%matplotlib inline"
   ]
  },
  {
   "cell_type": "markdown",
   "metadata": {},
   "source": [
    "___\n",
    "### Data Types  <a id='section1'></a>\n",
    "\n",
    "#### Please watch the following 4 minute video \n",
    "\n"
   ]
  },
  {
   "cell_type": "code",
   "execution_count": null,
   "metadata": {},
   "outputs": [],
   "source": [
    "# Run thice cell \n",
    "\n",
    "YouTubeVideo('EHRg9ojcVRQ') "
   ]
  },
  {
   "cell_type": "markdown",
   "metadata": {},
   "source": [
    "#### Summary and terminology: \n",
    "\n",
    "Two important data types: \n",
    "\n",
    "1) **Numerical** - Each value is from a numerical scale\n",
    "* Can do arithmetic on them (i.e. difference, addition, average, etc)\n",
    "* Are ordered\n",
    "   \n",
    "2) **Categorical** - Each value is from a fixed inventory\n",
    "* May or may not have order \n",
    "\n",
    "3) **Individuals**: Objects/ subjects whose **features** are recorded\n",
    "\n",
    "4) **Variables**: Features \n",
    "* Variables have different **values** \n",
    "* **Values** are numerical OR categorical (and their sub-types)"
   ]
  },
  {
   "cell_type": "markdown",
   "metadata": {},
   "source": [
    "---\n",
    "#### Test your knowledge! \n",
    "\n",
    "For the following, please type the data type and write down why you selected that answer."
   ]
  },
  {
   "cell_type": "markdown",
   "metadata": {},
   "source": [
    "#### A) \n",
    "\n",
    "student_ID = 12345 \n",
    "        "
   ]
  },
  {
   "cell_type": "markdown",
   "metadata": {},
   "source": [
    "_YOUR ANSWER HERE_"
   ]
  },
  {
   "cell_type": "markdown",
   "metadata": {},
   "source": [
    "#### B)\n",
    "\n",
    "ice_cream_flavors = chocolate "
   ]
  },
  {
   "cell_type": "markdown",
   "metadata": {},
   "source": [
    "_YOUR_ANSWER HERE_"
   ]
  },
  {
   "cell_type": "markdown",
   "metadata": {},
   "source": [
    "#### C)\n",
    "\n",
    "account_balance = 14.59 "
   ]
  },
  {
   "cell_type": "markdown",
   "metadata": {},
   "source": [
    "_YOUR ANSWER HERE_"
   ]
  },
  {
   "cell_type": "markdown",
   "metadata": {},
   "source": [
    "---"
   ]
  },
  {
   "cell_type": "markdown",
   "metadata": {},
   "source": [
    "## Data Visualization <a id='section2'></a>\n",
    "\n",
    "---\n",
    "In order to undertand our data better, a tool you might want to us is data visualization. Data visualization allows you to further your analysis, draw insights, and communicate trends in data that otherise hard to see from just looking at data tables. \n",
    "\n",
    "---"
   ]
  },
  {
   "cell_type": "markdown",
   "metadata": {},
   "source": [
    "As we learned above, data generally falls into two main umbrellas, numerical and categorical. Categorical doesn't necessarily have to have an order. Here are some examples:\n",
    "\n",
    "* Colors: individuals are my color pencils, and the varaible is the color of the pencil\n",
    "* Dogs: individuals are dogs in my house, and the variable is the breed of the dog\n",
    "* Movies: the individuals are years, and the variable is the name of the highest grossing studio of the year. "
   ]
  },
  {
   "cell_type": "markdown",
   "metadata": {},
   "source": [
    "### Fruits Example<a id='subsection1'></a>\n",
    "\n",
    "Jesse loves fruit! In fact, this week she bought 30 fruits at her local supermarket. For this question, you will be creating a table with the following information and saving it on a variable called \"fruits\". She bought 5 *types* of fruit. There are 5 mangos, 10 apples, 8 peaches, 5 bananas, and 2 pineapples. "
   ]
  },
  {
   "cell_type": "code",
   "execution_count": null,
   "metadata": {},
   "outputs": [],
   "source": [
    "\n",
    "fruits = Table().with_columns(\n",
    "    'name', make_array('mango', 'apple', 'peach', 'banana', 'pineapple'),\n",
    "    'quantity', make_array(5, 10, 8, 5, 2))\n",
    "fruits\n"
   ]
  },
  {
   "cell_type": "markdown",
   "metadata": {},
   "source": [
    "The _values_ of of the categorical variable \"name\" are mango, apple, peach, banana, and pineapple.<br>\n",
    "The table above has shows the quantity for each type of fruit. This is the _distribution_ table. A distribution displays all of the values of a variable, and their frequencies. "
   ]
  },
  {
   "cell_type": "markdown",
   "metadata": {},
   "source": [
    "---\n",
    "\n",
    "#### Bar Charts <a id='section3'></a>\n",
    "\n",
    "\n",
    "We can use bar charts to visualize categorical distributions. Bar charts display a bar for each category. In bar chart for the fruit table would display 5 bars since there are 5 categories. These bars are equally spaced and equally wide, with their length being proportional to the frequency of its corresponding category. \n",
    "\n",
    "To empahasize, when drawing these charts keep in mind the following:\n",
    "\n",
    "* One axis is a categorical variable, while the other is numerical frequencies.\n",
    "* The length of the bars are proportioanl to the frequency corresponding to each category.\n",
    "* **Distributions describe frequencies of the variables**\n"
   ]
  },
  {
   "cell_type": "markdown",
   "metadata": {},
   "source": [
    "Let's draw a bar chart for our fruits table. "
   ]
  },
  {
   "cell_type": "code",
   "execution_count": null,
   "metadata": {},
   "outputs": [],
   "source": [
    "# Method (1)\n",
    "\n",
    "fruits.barh('name', 'quantity')"
   ]
  },
  {
   "cell_type": "code",
   "execution_count": null,
   "metadata": {},
   "outputs": [],
   "source": [
    "# Method (2) \n",
    "\n",
    "fruits.barh('name')"
   ]
  },
  {
   "cell_type": "markdown",
   "metadata": {},
   "source": [
    "Can you see why **Method (2)** worked?\n",
    "\n",
    "Whenever we have a table that has just **one** column with categories (e.g. fruit name) and **one** for frequency (e.g. fruit quantity), can can call the method on the column with the _categories_, and the method will know how to draw the frequencies. "
   ]
  },
  {
   "cell_type": "markdown",
   "metadata": {},
   "source": [
    "Another cool thing about bar graphs is that they can be drawn in any order since the categories do not hold a universal rank. This gives us the flexibility to arrange them in an order that makes sense to you and your analysis. \n",
    "* Universal rank: 1, 2, 7, 10 \n",
    "* No universal rank: \"banana\" , \"pineapple\", \"mango\" , etc.\n",
    "\n"
   ]
  },
  {
   "cell_type": "markdown",
   "metadata": {},
   "source": [
    "Let's redo our bar graph, but now we want to display the bars in the decreasing order based on the quantity.\n",
    "\n",
    "Remember our the method **sort**? This is the time to use it. "
   ]
  },
  {
   "cell_type": "code",
   "execution_count": null,
   "metadata": {},
   "outputs": [],
   "source": [
    "fruits.sort('quantity', descending = True).barh('name', 'quantity')"
   ]
  },
  {
   "cell_type": "markdown",
   "metadata": {},
   "source": [
    "This plot contains the same information as before, but now we can easily tell which fruit Jesse has the most of."
   ]
  },
  {
   "cell_type": "markdown",
   "metadata": {},
   "source": [
    "Now, it's your turn to try some visualizations!\n",
    "\n",
    "--- "
   ]
  },
  {
   "cell_type": "markdown",
   "metadata": {},
   "source": [
    "### Movies Example<a id='subsection2'></a>"
   ]
  },
  {
   "cell_type": "markdown",
   "metadata": {},
   "source": [
    "In this section you will be working with the `actors` dataset. The source of data is [Internet Movie Database](https://www.imdb.com/) or IMBD, which is an online service that stores information about movies, televesion shows, video games, and more. The [Box Office Mojo](https://www.boxofficemojo.com/) is site that provided summaries of IMDB data. We will be using data from here. \n",
    "\n",
    "The table `actors` contains the following data: "
   ]
  },
  {
   "cell_type": "markdown",
   "metadata": {},
   "source": [
    "|Column Name|Description|\n",
    "|------|--------|\n",
    "|Actor\t|Name of actor|\n",
    "|Total Gross|\tTotal gross domestic box office receipt, in millions of dollars, of all of the actor's movies|\n",
    "|Number of Movies|\tThe number of movies the actor has been in|\n",
    "|Average per Movie|\tTotal gross divided by number of movies|\n",
    "|#1 Movie|\tThe highest grossing movie the actor has been in|\n",
    "|Gross|\tGross domestic box office receipt, in millions of dollars, of the actor's #1 Movie|"
   ]
  },
  {
   "cell_type": "markdown",
   "metadata": {},
   "source": [
    "<div class=\"alert alert-warning\">\n",
    "    \n",
    "**Question 1.** \n",
    "\n",
    "Read the dataset by running the following cell. Save the output to a new variable, `actors`\n"
   ]
  },
  {
   "cell_type": "code",
   "execution_count": null,
   "metadata": {},
   "outputs": [],
   "source": [
    "... = Table.read_table(\"../data/actors.csv\")\n",
    "..."
   ]
  },
  {
   "cell_type": "code",
   "execution_count": null,
   "metadata": {},
   "outputs": [],
   "source": [
    "# ANSWER KEY\n",
    "actors = Table.read_table(\"../data/actors.csv\")\n",
    "actors"
   ]
  },
  {
   "cell_type": "markdown",
   "metadata": {},
   "source": [
    "Great! Now take a minute to observe the data. Can you see guess which variables are categorical? What about numerical?\n",
    "<br><br>\n",
    "For the next couple of questions we are going to plot the top 10 values for different categorical variables. For this section you will use the table method **take**, which will be introduced at a later section. **take**, is the row version for the method **select**. Recall that **select** returns a table with only somecolumns? **take**, returns a table witn only some number rows. "
   ]
  },
  {
   "cell_type": "markdown",
   "metadata": {},
   "source": [
    "<div class=\"alert alert-warning\">\n",
    "    \n",
    "**Question 2.**\n",
    "\n",
    "Make a bar plot of the top 10 actors base on their total gross income. Recall that total gross income is the total gross domestic box office receipt, in millions of dollars, of all of the actor's movies.\n",
    "    \n"
   ]
  },
  {
   "cell_type": "markdown",
   "metadata": {},
   "source": [
    "**A)** Create a new table follwing the next steps:\n",
    "\n",
    "1) First, let's create a new table that contiains the actor's name and their gross income. <br>\n",
    "2) Call this table **by_total_gross**. <br>\n",
    "3) Sort by descending oder(since we want the information for the top 10 earners) <br>\n",
    "\n",
    "Hint: Use the method **select** and **sort**"
   ]
  },
  {
   "cell_type": "code",
   "execution_count": null,
   "metadata": {},
   "outputs": [],
   "source": [
    "by_total_gross = actors....(\"Actor\", \"...\").sort(\"...\", descending = ...)\n",
    "by_total_gross"
   ]
  },
  {
   "cell_type": "code",
   "execution_count": null,
   "metadata": {},
   "outputs": [],
   "source": [
    "# ANSWER KEY\n",
    "by_total_gross = actors.select(\"Actor\", \"Total Gross\").sort(\"Total Gross\", descending = True)\n",
    "by_total_gross"
   ]
  },
  {
   "cell_type": "markdown",
   "metadata": {},
   "source": [
    "**B)** Now we will use the method **take** to select only the top 10 earners, and we will save it on a variable called **top_10_total_gross**"
   ]
  },
  {
   "cell_type": "code",
   "execution_count": null,
   "metadata": {},
   "outputs": [],
   "source": [
    "top_10_total_gross = by_total_gross.take(np.arange(0,10))\n",
    "top_10_total_gross"
   ]
  },
  {
   "cell_type": "markdown",
   "metadata": {},
   "source": [
    "Who is the the number one top earner? Who came in 10th place?"
   ]
  },
  {
   "cell_type": "markdown",
   "metadata": {},
   "source": [
    "_YOUR ANSWER HERE_"
   ]
  },
  {
   "cell_type": "markdown",
   "metadata": {},
   "source": [
    "**C)** Make a bar plot of the top 10 actors base on their total gross income.\n",
    "\n",
    "Hint: Use the method **barh**. "
   ]
  },
  {
   "cell_type": "code",
   "execution_count": null,
   "metadata": {},
   "outputs": [],
   "source": [
    "top_10_total_gross..."
   ]
  },
  {
   "cell_type": "code",
   "execution_count": null,
   "metadata": {},
   "outputs": [],
   "source": [
    "# ANSWER KEY\n",
    "top_10_total_gross.barh(\"Actor\",\"Total Gross\")"
   ]
  },
  {
   "cell_type": "markdown",
   "metadata": {},
   "source": [
    "Do you notice anything interesting about this chart?"
   ]
  },
  {
   "cell_type": "markdown",
   "metadata": {},
   "source": [
    "_YOUR ANSWER HERE_"
   ]
  },
  {
   "cell_type": "markdown",
   "metadata": {},
   "source": [
    "<div class=\"alert alert-warning\">\n",
    "\n",
    "**Question 2.**\n",
    "\n",
    "Make a bar plot of the top 10 actors base on the number of movies the actor has been in.\n",
    "    "
   ]
  },
  {
   "cell_type": "markdown",
   "metadata": {},
   "source": [
    "**A)** Create a new table follwing the next steps:\n",
    "\n",
    "1) First, let's create a new table that contiains the actor's name and the number of movies the actor has been in . <br>\n",
    "2) Call this table **by_num_movies**. <br>\n",
    "3) Sort by descending oder(since we want the information for the top 10 earners) <br>\n",
    "\n",
    "Hint: Use the method **select** and **sort**"
   ]
  },
  {
   "cell_type": "code",
   "execution_count": null,
   "metadata": {},
   "outputs": [],
   "source": [
    "# ANSWER KEY\n",
    "... = actors.select(\"...\", \"...\").sort(\"...\", ...)\n",
    "..."
   ]
  },
  {
   "cell_type": "code",
   "execution_count": null,
   "metadata": {},
   "outputs": [],
   "source": [
    "# ANSWER KEY\n",
    "by_num_movies = actors.select(\"Actor\", \"Number of Movies\").sort(\"Number of Movies\", descending = True)\n",
    "by_num_movies"
   ]
  },
  {
   "cell_type": "markdown",
   "metadata": {},
   "source": [
    "**B)** Now we will use the method **take** to select only the top 10 earners, and we will save it on a variable called **top_10_num_movies**"
   ]
  },
  {
   "cell_type": "code",
   "execution_count": null,
   "metadata": {},
   "outputs": [],
   "source": [
    "... = by_num_movies.take(np.arange(0,10))\n",
    "..."
   ]
  },
  {
   "cell_type": "code",
   "execution_count": null,
   "metadata": {},
   "outputs": [],
   "source": [
    "# ANSWER KEY\n",
    "top_10_num_movies = by_num_movies.take(np.arange(0,10))\n",
    "top_10_num_movies"
   ]
  },
  {
   "cell_type": "markdown",
   "metadata": {},
   "source": [
    "**C)** Make a bar plot of the top 10 actors base on the number of movies they have been in \n",
    "\n",
    "Hint: Use the method **barh**. "
   ]
  },
  {
   "cell_type": "code",
   "execution_count": null,
   "metadata": {},
   "outputs": [],
   "source": [
    "# YOUR CODE HERE \n",
    "... "
   ]
  },
  {
   "cell_type": "code",
   "execution_count": null,
   "metadata": {},
   "outputs": [],
   "source": [
    "# ANSWER KEY\n",
    "top_10_num_movies.barh(\"Actor\",\"Number of Movies\")"
   ]
  },
  {
   "cell_type": "markdown",
   "metadata": {},
   "source": [
    "Do you notice anything interesting about this chart?"
   ]
  },
  {
   "cell_type": "markdown",
   "metadata": {},
   "source": [
    "_YOUR ANSWER HERE_"
   ]
  },
  {
   "cell_type": "markdown",
   "metadata": {},
   "source": [
    "---\n",
    "\n",
    "## Bibliography"
   ]
  },
  {
   "cell_type": "markdown",
   "metadata": {},
   "source": [
    "The Foundations of Data Science by Ani Adhikari and John Denero with contributions by David Wagner and Henry Milner (Data 8 Textbook - Chapter 7)   https://www.inferentialthinking.com/chapters/07/Visualization.html \n"
   ]
  },
  {
   "cell_type": "markdown",
   "metadata": {},
   "source": [
    "---\n",
    "Notebook developed by: Ashley Quiterio, Alleanna Clark and Karla Palos\n",
    "\n",
    "Data Science Modules: http://data.berkeley.edu/education/modules\n"
   ]
  }
 ],
 "metadata": {
  "anaconda-cloud": {},
  "kernelspec": {
   "display_name": "Python 3",
   "language": "python",
   "name": "python3"
  },
  "language_info": {
   "codemirror_mode": {
    "name": "ipython",
    "version": 3
   },
   "file_extension": ".py",
   "mimetype": "text/x-python",
   "name": "python",
   "nbconvert_exporter": "python",
   "pygments_lexer": "ipython3",
   "version": "3.7.4"
  }
 },
 "nbformat": 4,
 "nbformat_minor": 1
}
