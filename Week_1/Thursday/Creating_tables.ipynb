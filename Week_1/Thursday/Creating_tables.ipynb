{
 "cells": [
  {
   "cell_type": "markdown",
   "metadata": {},
   "source": [
    "Adapted from Data 8 Spring 2020 lab03 and hw02"
   ]
  },
  {
   "cell_type": "markdown",
   "metadata": {},
   "source": [
    "# Table Practice\n",
    "---\n",
    "\n",
    "### Topics Covered\n",
    "- Creating Tables\n",
    "- Accessing Columns and Column Artihmetic\n",
    "- Table Methods: `with_columns`, `column`, `item`\n",
    "\n",
    "## **Table of contents:**\n",
    "\n",
    "1 - Creating Tables \n",
    "\n",
    "    a) Fruits Example\n",
    "\n",
    "2 - Accessing Columns\n",
    "\n",
    "3 -  Column Arithmetic\n",
    "\n",
    "### **Learning objectives:**\n",
    "- In this notebook, you will learn how to create tables from scratch.\n"
   ]
  },
  {
   "cell_type": "code",
   "execution_count": null,
   "metadata": {},
   "outputs": [],
   "source": [
    "import numpy as np\n",
    "from datascience import *"
   ]
  },
  {
   "cell_type": "markdown",
   "metadata": {},
   "source": [
    "### Creating Tables using `with_columns`\n",
    "\n",
    "Tables allow us to compare items across rows, while arrays represent individual columns. We can organize arrays into tables to make comparisons easier. Let's breakdown the first example:"
   ]
  },
  {
   "cell_type": "markdown",
   "metadata": {},
   "source": [
    "- It creates an empty table using the expression `Table()`,\n",
    "- adds two columns by calling `with_columns` with four arguments (separated by commas),\n",
    "- assigns the result to the name `fruits`, and finally\n",
    "- evaluates `fruits` so that we can see the table.\n",
    "\n",
    "The strings `\"fruit names\"` and `\"count\"` are column labels that we have chosen. The names `fruit_names` and `count` were assigned to two arrays of the **same length**. The function `with_columns` takes in alternating strings (to represent column labels) and arrays (representing the data in those columns). "
   ]
  },
  {
   "cell_type": "code",
   "execution_count": null,
   "metadata": {},
   "outputs": [],
   "source": [
    "fruit_names = make_array(\"apple\",\"orange\", \"pineapple\")\n",
    "count = make_array(4, 3, 3)"
   ]
  },
  {
   "cell_type": "code",
   "execution_count": null,
   "metadata": {},
   "outputs": [],
   "source": [
    "fruits = Table().with_columns(\n",
    "    \"fruit names\", fruit_names,\n",
    "    \"count\", count)\n",
    "fruits"
   ]
  },
  {
   "cell_type": "markdown",
   "metadata": {},
   "source": [
    "<div class=\"alert alert-block alert-warning\">\n",
    "<b>Question:</b> We can add more to this table by referencing an existing table where we used `Table()` above. Let's add a column named `\"price\"` using the `prices_array` below. Name the new table `fruits_price`.\n",
    "</div>"
   ]
  },
  {
   "cell_type": "code",
   "execution_count": null,
   "metadata": {},
   "outputs": [],
   "source": [
    "# Notice the array has 3 items in it, which is the same length as the number of \n",
    "# rows in the fruits table.\n",
    "prices_array = make_array(0.79, 1.10, 1.59)\n",
    "prices_array"
   ]
  },
  {
   "cell_type": "code",
   "execution_count": null,
   "metadata": {},
   "outputs": [],
   "source": [
    "fruits_price = fruits.with_column(\n",
    "    \"...\", ...)\n",
    "fruits_price"
   ]
  },
  {
   "cell_type": "markdown",
   "metadata": {},
   "source": [
    "We can also add columns to a table, by inserting the array within `with_columns`. \n",
    "<div class=\"alert alert-block alert-warning\">\n",
    "<b>Question:</b> Fill in the missing code, so that the table called `fruit_availability` has 4 columns. Here is the order of the columns: \"fruit_names\", \"count\", \"price\", and \"available\". The column \"available\" represents whether the fruit is available at Store X.  \n",
    "</div>"
   ]
  },
  {
   "cell_type": "code",
   "execution_count": null,
   "metadata": {},
   "outputs": [],
   "source": [
    "fruit_availability = ...with_columns(\n",
    "    \"...\", make_array(True, False, True)) \n",
    "fruit_availability"
   ]
  },
  {
   "cell_type": "markdown",
   "metadata": {},
   "source": [
    "<div class=\"alert alert-block alert-warning\">\n",
    "<b>Question:</b> We can perform other operations on the new table. Sort the prices from least expensive to most expensive, and call the resulting table sorted_fruits.\n",
    "</div>"
   ]
  },
  {
   "cell_type": "code",
   "execution_count": null,
   "metadata": {},
   "outputs": [],
   "source": [
    "sorted_fruits = fruit_availability...\n",
    "sorted_fruits"
   ]
  },
  {
   "cell_type": "markdown",
   "metadata": {},
   "source": [
    "### Accessing columns with `column`\n",
    "\n",
    "`column` takes the column name of a table and returns the values in that column as an **array**. "
   ]
  },
  {
   "cell_type": "markdown",
   "metadata": {},
   "source": [
    "Like the example above, we can get the `available` column from the `fruit_availability` table. See the code below. It extracts the `available` column from the `fruit_availability` table as an array and gives it the name `availability_array`."
   ]
  },
  {
   "cell_type": "code",
   "execution_count": null,
   "metadata": {},
   "outputs": [],
   "source": [
    "availability_array = fruit_availability.column(\"available\")\n",
    "availability_array"
   ]
  },
  {
   "cell_type": "markdown",
   "metadata": {},
   "source": [
    "Extracting columns from tables is useful, because it allows us to perform calculations on columns in our tables."
   ]
  },
  {
   "cell_type": "markdown",
   "metadata": {},
   "source": [
    "<div class=\"alert alert-block alert-warning\">\n",
    "    <b>Question:</b> Assuming all fruits are available in Store Y, we want to buy one of each fruit. How much will this cost us? Use the `fruits_price` table and not the `prices_array`. Assign the sum to the name `total_cost`.\n",
    "</div>"
   ]
  },
  {
   "cell_type": "code",
   "execution_count": null,
   "metadata": {},
   "outputs": [],
   "source": [
    "total_cost = ...(fruits_price...(\"price\"))\n",
    "total_cost"
   ]
  },
  {
   "cell_type": "markdown",
   "metadata": {},
   "source": [
    "### Column Arithmetic\n",
    "\n",
    "You perform an arithmetic operation (like subtraction, division, etc) on an array, Python will do the operation to every element of the array individually and return an array of all of the results. For example, say there was a new tax on fruit of 40 cents. We can add to the array of values."
   ]
  },
  {
   "cell_type": "code",
   "execution_count": null,
   "metadata": {},
   "outputs": [],
   "source": [
    "new_prices = fruit_availability.column(\"price\") + 0.40\n",
    "new_prices"
   ]
  },
  {
   "cell_type": "markdown",
   "metadata": {},
   "source": [
    "<div class=\"alert alert-block alert-warning\">\n",
    "    <b>Question:</b> Store X just received a new shipment of fruit and has doubled the amount of each fruit. Create an array called `new count`, which has double the number of fruits from `count`. First, get the array from the fruit_availability table, then multiply by 2.\n",
    "</div>"
   ]
  },
  {
   "cell_type": "code",
   "execution_count": null,
   "metadata": {},
   "outputs": [],
   "source": [
    "new_count = fruit_availability...(\"...\") * 2\n",
    "new_count"
   ]
  },
  {
   "cell_type": "markdown",
   "metadata": {},
   "source": [
    "<div class=\"alert alert-block alert-warning\">\n",
    "    <b>Question:</b> Let's add this array to the fruit_availability table. Add the column using `with_columns` and call it \"new count\". Call this new table `updated_fruits`.\n",
    "</div>"
   ]
  },
  {
   "cell_type": "code",
   "execution_count": null,
   "metadata": {},
   "outputs": [],
   "source": [
    "... = fruit_availability...(\n",
    "    \"...\", new_count)\n",
    "updated_fruits"
   ]
  },
  {
   "cell_type": "markdown",
   "metadata": {},
   "source": [
    "<div class=\"alert alert-block alert-warning\">\n",
    "    <b>Question:</b> For the final table, we only want 3 columns: \"fruit names\", \"new counts\", \"price\". Use the `select` function on `updated_fruits` to create the table `final_fruits`. Then, sort prices in descending order (largest to smallest).\n",
    "</div>"
   ]
  },
  {
   "cell_type": "code",
   "execution_count": null,
   "metadata": {},
   "outputs": [],
   "source": [
    "final_fruits = updated_fruits...(\"...\", \"new count\", \"...\").sort(\"...\", descending = ...)\n",
    "final_fruits"
   ]
  }
 ],
 "metadata": {
  "kernelspec": {
   "display_name": "Python 3",
   "language": "python",
   "name": "python3"
  },
  "language_info": {
   "codemirror_mode": {
    "name": "ipython",
    "version": 3
   },
   "file_extension": ".py",
   "mimetype": "text/x-python",
   "name": "python",
   "nbconvert_exporter": "python",
   "pygments_lexer": "ipython3",
   "version": "3.6.6"
  }
 },
 "nbformat": 4,
 "nbformat_minor": 2
}
