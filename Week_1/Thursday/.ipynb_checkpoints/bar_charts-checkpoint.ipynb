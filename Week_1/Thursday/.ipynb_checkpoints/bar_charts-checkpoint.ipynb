{
 "cells": [
  {
   "cell_type": "markdown",
   "metadata": {},
   "source": [
    "# Data Visualization\n",
    "\n",
    "---\n",
    "\n",
    "### Topics Covered\n",
    "- Types of Data\n",
    "- Creasting and Reading Tables \n",
    "- Table Methods: Select, Drop, Sort\n",
    "- Accessing Columns and Column Artihmetic\n",
    "- Bar chart\n",
    "\n",
    "\n",
    "### Table of Contents\n",
    "1 - [Data Types](#section1)<br>\n",
    "\n",
    "2 - [Data Visualization - Bar Charts](#section2)<br>\n",
    "\n",
    "&nbsp;&nbsp;&nbsp;&nbsp;&nbsp;&nbsp; a) [Fruits Example](#subsection1)<br>\n",
    "\n",
    "&nbsp;&nbsp;&nbsp;&nbsp;&nbsp;&nbsp; b) [Movies Example](#subsection2)<br>\n",
    "\n",
    "### Learning Objectives: \n",
    "\n",
    "By the end of this notebook you should be able to _______\n",
    "\n",
    "\n",
    "\n",
    "\n",
    "**Dependencies:**"
   ]
  },
  {
   "cell_type": "code",
   "execution_count": 49,
   "metadata": {},
   "outputs": [],
   "source": [
    "%%capture\n",
    "from datascience import *\n",
    "import numpy as np\n",
    "from IPython.lib.display import YouTubeVideo"
   ]
  },
  {
   "cell_type": "markdown",
   "metadata": {},
   "source": [
    "___\n",
    "### Data Types  <a id='section1'></a>\n",
    "\n",
    "#### Please watch the following 4 minute video \n",
    "\n"
   ]
  },
  {
   "cell_type": "code",
   "execution_count": 50,
   "metadata": {},
   "outputs": [
    {
     "data": {
      "image/jpeg": "[encoded data removed]",
      "text/html": [
       "\n",
       "        <iframe\n",
       "            width=\"400\"\n",
       "            height=\"300\"\n",
       "            src=\"https://www.youtube.com/embed/EHRg9ojcVRQ\"\n",
       "            frameborder=\"0\"\n",
       "            allowfullscreen\n",
       "        ></iframe>\n",
       "        "
      ],
      "text/plain": [
       "<IPython.lib.display.YouTubeVideo at 0x1208717f0>"
      ]
     },
     "execution_count": 50,
     "metadata": {},
     "output_type": "execute_result"
    }
   ],
   "source": [
    "# Run thice cell \n",
    "\n",
    "YouTubeVideo('EHRg9ojcVRQ') "
   ]
  },
  {
   "cell_type": "markdown",
   "metadata": {},
   "source": [
    "#### Summary and terminology: \n",
    "\n",
    "Two important data types: \n",
    "\n",
    "1) **Numerical** - Each value is froma numerical scale\n",
    "* Can do arithmetic on them (i.e. difference, addition, average, etc)\n",
    "* Are ordered\n",
    "   \n",
    "2) **Catergorical** - Each value is froma fix inventory\n",
    "* May or may not have order \n",
    "\n",
    "3) **Individuals**: Objects/ subjects whose **features** are recorded\n",
    "\n",
    "4) **Variables**: Features \n",
    "* Variables have different **values** \n",
    "* **Values** are numerical OR categorical (and their sub-types)"
   ]
  },
  {
   "cell_type": "markdown",
   "metadata": {},
   "source": [
    "---\n",
    "#### Test your knowledge! \n",
    "\n",
    "For the following, please type the data type and write down why you selected that answer."
   ]
  },
  {
   "cell_type": "markdown",
   "metadata": {},
   "source": [
    "#### A) \n",
    "\n",
    "student_ID = 12345 \n",
    "        "
   ]
  },
  {
   "cell_type": "markdown",
   "metadata": {},
   "source": [
    "_YOUR ANSWER HERE_"
   ]
  },
  {
   "cell_type": "markdown",
   "metadata": {},
   "source": [
    "#### B)\n",
    "\n",
    "ice_cream_flavors = chocolate "
   ]
  },
  {
   "cell_type": "markdown",
   "metadata": {},
   "source": [
    "_YOUR_ANSWER HERE_"
   ]
  },
  {
   "cell_type": "markdown",
   "metadata": {},
   "source": [
    "#### C)\n",
    "\n",
    "account_balance = 14.59 "
   ]
  },
  {
   "cell_type": "markdown",
   "metadata": {},
   "source": [
    "_YOUR ANSWER HERE_"
   ]
  },
  {
   "cell_type": "markdown",
   "metadata": {},
   "source": [
    "---"
   ]
  },
  {
   "cell_type": "markdown",
   "metadata": {},
   "source": [
    "## Data Visualization <a id='section2'></a>\n",
    "\n",
    "---\n",
    "In order to undertand our data better, a tool you might want to us is data visualization. Data visualization allows you to further your analysis, draw insights, and communicate trends in data that otherise hard to see from just looking at data tables. \n",
    "\n",
    "---"
   ]
  },
  {
   "cell_type": "markdown",
   "metadata": {},
   "source": [
    "As we learned above, data generally falls into two main umbrellas, numerical and categorical. Categorical doesn't necessarily have to have an order. Here are some examples:\n",
    "\n",
    "* Colors: individuals are my color pencils, and the varaible is the color of the pencil\n",
    "* Dogs: individuals are dogs in my house, and the variable is the breed of the dog\n",
    "* Movies: the individuals are years, and the variable is the name of the highest grossing studio of the year. "
   ]
  },
  {
   "cell_type": "markdown",
   "metadata": {},
   "source": [
    "### Fruits Example<a id='subsection1'></a>\n",
    "\n",
    "Jesse loves fruit! In fact, this week she bought 30 fruits at her local supermarket. For this question, you will be creating a table with the following information and saving it on a variable called \"fruits\". She bought 5 *types* of fruit. There are 5 mangos, 10 apples, 8 peaches, 5 bananas, and 2 pineapples. "
   ]
  },
  {
   "cell_type": "code",
   "execution_count": 51,
   "metadata": {},
   "outputs": [
    {
     "data": {
      "text/html": [
       "<table border=\"1\" class=\"dataframe\">\n",
       "    <thead>\n",
       "        <tr>\n",
       "            <th>name</th> <th>quantity</th>\n",
       "        </tr>\n",
       "    </thead>\n",
       "    <tbody>\n",
       "        <tr>\n",
       "            <td>mango    </td> <td>5       </td>\n",
       "        </tr>\n",
       "        <tr>\n",
       "            <td>apple    </td> <td>10      </td>\n",
       "        </tr>\n",
       "        <tr>\n",
       "            <td>peach    </td> <td>8       </td>\n",
       "        </tr>\n",
       "        <tr>\n",
       "            <td>banana   </td> <td>5       </td>\n",
       "        </tr>\n",
       "        <tr>\n",
       "            <td>pineapple</td> <td>2       </td>\n",
       "        </tr>\n",
       "    </tbody>\n",
       "</table>"
      ],
      "text/plain": [
       "name      | quantity\n",
       "mango     | 5\n",
       "apple     | 10\n",
       "peach     | 8\n",
       "banana    | 5\n",
       "pineapple | 2"
      ]
     },
     "execution_count": 51,
     "metadata": {},
     "output_type": "execute_result"
    }
   ],
   "source": [
    "\n",
    "fruits = Table().with_columns(\n",
    "    'name', make_array('mango', 'apple', 'peach', 'banana', 'pineapple'),\n",
    "    'quantity', make_array(5, 10, 8, 5, 2))\n",
    "fruits\n"
   ]
  },
  {
   "cell_type": "markdown",
   "metadata": {},
   "source": [
    "The _values_ of of the categorical variable \"name\" are mango, apple, peach, banana, and pineapple.<br>\n",
    "The table above has shows the quantity for each type of fruit. This is the _distribution_ table. A distribution displays all of the values of a variable, and their frequencies. "
   ]
  },
  {
   "cell_type": "markdown",
   "metadata": {},
   "source": [
    "---\n",
    "\n",
    "#### Bar Charts <a id='section3'></a>\n",
    "\n",
    "\n",
    "We can use bar charts to visualize categorical distributions. Bar charts display a bar for each category. In bar chart for the fruit table would display 5 bars since there are 5 categories. These bars are equally spaced and equally wide, with their length being proportional to the frequency of its corresponding category. \n",
    "\n",
    "To empahasize, when drawing these charts keep in mind the following:\n",
    "\n",
    "* One axis is a categorical variable, while the other is numerical frequencies.\n",
    "* The length of the bars are proportioanl to the frequency corresponding to each category.\n",
    "* **Distributions describe frequencies of the variables**\n"
   ]
  },
  {
   "cell_type": "markdown",
   "metadata": {},
   "source": [
    "Let's draw a bar chart for our fruits table. "
   ]
  },
  {
   "cell_type": "code",
   "execution_count": 52,
   "metadata": {},
   "outputs": [
    {
     "data": {
      "image/png": "[encoded data removed]",
      "text/plain": [
       "<Figure size 432x288 with 1 Axes>"
      ]
     },
     "metadata": {
      "needs_background": "light"
     },
     "output_type": "display_data"
    }
   ],
   "source": [
    "# Method (1)\n",
    "\n",
    "fruits.barh('name', 'quantity')"
   ]
  },
  {
   "cell_type": "code",
   "execution_count": 53,
   "metadata": {},
   "outputs": [
    {
     "data": {
      "image/png": "[encoded data removed]",
      "text/plain": [
       "<Figure size 432x288 with 1 Axes>"
      ]
     },
     "metadata": {
      "needs_background": "light"
     },
     "output_type": "display_data"
    }
   ],
   "source": [
    "# Method (2) \n",
    "\n",
    "fruits.barh('name')"
   ]
  },
  {
   "cell_type": "markdown",
   "metadata": {},
   "source": [
    "Can you see why **Method (2)** worked?\n",
    "\n",
    "Whenever we have a table that has just **one** column with categories (e.g. fruit name) and **one** for frequency (e.g. fruit quantity), can can call the method on the column with the _categories_, and the method will know how to draw the frequencies. "
   ]
  },
  {
   "cell_type": "markdown",
   "metadata": {},
   "source": [
    "Another cool thing about bar graphs is that they can be drawn in any order since the categories do not hold a universal rank. This gives us the flexibility to arrange them in an order that makes sense to you and your analysis. \n",
    "* Univerisal rank: 1, 2, 7, 10 \n",
    "* No universal rank: \"banana\" , \"pineapple\", \"mango\" , etc.\n",
    "\n"
   ]
  },
  {
   "cell_type": "markdown",
   "metadata": {},
   "source": [
    "Let's redo our bar graph, but now we want to display the bars in the decreasing order based on the quantity.\n",
    "\n",
    "Remember our the method **sort**? This is the time to use it. "
   ]
  },
  {
   "cell_type": "code",
   "execution_count": 54,
   "metadata": {},
   "outputs": [
    {
     "data": {
      "image/png": "[encoded data removed]",
      "text/plain": [
       "<Figure size 432x288 with 1 Axes>"
      ]
     },
     "metadata": {
      "needs_background": "light"
     },
     "output_type": "display_data"
    }
   ],
   "source": [
    "fruits.sort('quantity', descending = True).barh('name', 'quantity')"
   ]
  },
  {
   "cell_type": "markdown",
   "metadata": {},
   "source": [
    "This plot contains the same information as before, but now we can easily tell which fruit Jesse has the most of."
   ]
  },
  {
   "cell_type": "markdown",
   "metadata": {},
   "source": [
    "Now, it's your turn to try some visualizations!\n",
    "\n",
    "--- "
   ]
  },
  {
   "cell_type": "markdown",
   "metadata": {},
   "source": [
    "### Movies Example<a id='subsection2'></a>"
   ]
  },
  {
   "cell_type": "markdown",
   "metadata": {},
   "source": [
    "In this section you will be working with the `actors` dataset. The source of data is [Internet Movie Database](https://www.imdb.com/) or IMBD, which is an online service that stores information about movies, televesion shows, video games, and more. The [Box Office Mojo](https://www.boxofficemojo.com/) is site that provided summaries of IMDB data. We will be using data from here. \n",
    "\n",
    "The table `actors` contains the following data: "
   ]
  },
  {
   "cell_type": "markdown",
   "metadata": {},
   "source": [
    "|Column Name|Description|\n",
    "|------|--------|\n",
    "|Actor\t|Name of actor|\n",
    "|Total Gross|\tTotal gross domestic box office receipt, in millions of dollars, of all of the actor's movies|\n",
    "|Number of Movies|\tThe number of movies the actor has been in|\n",
    "|Average per Movie|\tTotal gross divided by number of movies|\n",
    "|#1 Movie|\tThe highest grossing movie the actor has been in|\n",
    "|Gross|\tGross domestic box office receipt, in millions of dollars, of the actor's #1 Movie|"
   ]
  },
  {
   "cell_type": "markdown",
   "metadata": {},
   "source": [
    "<div class=\"alert alert-warning\">\n",
    "    \n",
    "**Question 1.** \n",
    "\n",
    "Read the dataset.\n"
   ]
  },
  {
   "cell_type": "markdown",
   "metadata": {},
   "source": [
    "Read the dataset **actors.csv** and save it in variable called \"actors\" , and then call the variable. \n",
    "<br><br>\n",
    "Hint: You can use the method **read_table**"
   ]
  },
  {
   "cell_type": "code",
   "execution_count": 55,
   "metadata": {},
   "outputs": [
    {
     "ename": "SyntaxError",
     "evalue": "invalid syntax (<ipython-input-55-fbf1ff0fdac1>, line 1)",
     "output_type": "error",
     "traceback": [
      "\u001b[0;36m  File \u001b[0;32m\"<ipython-input-55-fbf1ff0fdac1>\"\u001b[0;36m, line \u001b[0;32m1\u001b[0m\n\u001b[0;31m    = Table....(\"...\")\u001b[0m\n\u001b[0m    ^\u001b[0m\n\u001b[0;31mSyntaxError\u001b[0m\u001b[0;31m:\u001b[0m invalid syntax\n"
     ]
    }
   ],
   "source": [
    "... = Table....(\"...\")\n",
    "..."
   ]
  },
  {
   "cell_type": "code",
   "execution_count": 56,
   "metadata": {},
   "outputs": [
    {
     "data": {
      "text/html": [
       "<table border=\"1\" class=\"dataframe\">\n",
       "    <thead>\n",
       "        <tr>\n",
       "            <th>Actor</th> <th>Total Gross</th> <th>Number of Movies</th> <th>Average per Movie</th> <th>#1 Movie</th> <th>Gross</th>\n",
       "        </tr>\n",
       "    </thead>\n",
       "    <tbody>\n",
       "        <tr>\n",
       "            <td>Harrison Ford     </td> <td>4871.7     </td> <td>41              </td> <td>118.8            </td> <td>Star Wars: The Force Awakens</td> <td>936.7</td>\n",
       "        </tr>\n",
       "        <tr>\n",
       "            <td>Samuel L. Jackson </td> <td>4772.8     </td> <td>69              </td> <td>69.2             </td> <td>The Avengers                </td> <td>623.4</td>\n",
       "        </tr>\n",
       "        <tr>\n",
       "            <td>Morgan Freeman    </td> <td>4468.3     </td> <td>61              </td> <td>73.3             </td> <td>The Dark Knight             </td> <td>534.9</td>\n",
       "        </tr>\n",
       "        <tr>\n",
       "            <td>Tom Hanks         </td> <td>4340.8     </td> <td>44              </td> <td>98.7             </td> <td>Toy Story 3                 </td> <td>415  </td>\n",
       "        </tr>\n",
       "        <tr>\n",
       "            <td>Robert Downey, Jr.</td> <td>3947.3     </td> <td>53              </td> <td>74.5             </td> <td>The Avengers                </td> <td>623.4</td>\n",
       "        </tr>\n",
       "        <tr>\n",
       "            <td>Eddie Murphy      </td> <td>3810.4     </td> <td>38              </td> <td>100.3            </td> <td>Shrek 2                     </td> <td>441.2</td>\n",
       "        </tr>\n",
       "        <tr>\n",
       "            <td>Tom Cruise        </td> <td>3587.2     </td> <td>36              </td> <td>99.6             </td> <td>War of the Worlds           </td> <td>234.3</td>\n",
       "        </tr>\n",
       "        <tr>\n",
       "            <td>Johnny Depp       </td> <td>3368.6     </td> <td>45              </td> <td>74.9             </td> <td>Dead Man's Chest            </td> <td>423.3</td>\n",
       "        </tr>\n",
       "        <tr>\n",
       "            <td>Michael Caine     </td> <td>3351.5     </td> <td>58              </td> <td>57.8             </td> <td>The Dark Knight             </td> <td>534.9</td>\n",
       "        </tr>\n",
       "        <tr>\n",
       "            <td>Scarlett Johansson</td> <td>3341.2     </td> <td>37              </td> <td>90.3             </td> <td>The Avengers                </td> <td>623.4</td>\n",
       "        </tr>\n",
       "    </tbody>\n",
       "</table>\n",
       "<p>... (40 rows omitted)</p>"
      ],
      "text/plain": [
       "Actor              | Total Gross | Number of Movies | Average per Movie | #1 Movie                     | Gross\n",
       "Harrison Ford      | 4871.7      | 41               | 118.8             | Star Wars: The Force Awakens | 936.7\n",
       "Samuel L. Jackson  | 4772.8      | 69               | 69.2              | The Avengers                 | 623.4\n",
       "Morgan Freeman     | 4468.3      | 61               | 73.3              | The Dark Knight              | 534.9\n",
       "Tom Hanks          | 4340.8      | 44               | 98.7              | Toy Story 3                  | 415\n",
       "Robert Downey, Jr. | 3947.3      | 53               | 74.5              | The Avengers                 | 623.4\n",
       "Eddie Murphy       | 3810.4      | 38               | 100.3             | Shrek 2                      | 441.2\n",
       "Tom Cruise         | 3587.2      | 36               | 99.6              | War of the Worlds            | 234.3\n",
       "Johnny Depp        | 3368.6      | 45               | 74.9              | Dead Man's Chest             | 423.3\n",
       "Michael Caine      | 3351.5      | 58               | 57.8              | The Dark Knight              | 534.9\n",
       "Scarlett Johansson | 3341.2      | 37               | 90.3              | The Avengers                 | 623.4\n",
       "... (40 rows omitted)"
      ]
     },
     "execution_count": 56,
     "metadata": {},
     "output_type": "execute_result"
    }
   ],
   "source": [
    "# ANSWER KEY\n",
    "actors = Table.read_table(\"actors.csv\")\n",
    "actors"
   ]
  },
  {
   "cell_type": "markdown",
   "metadata": {},
   "source": [
    "Great! Now take a minute to observe the data. Can you see guess which variables are categorical? What about numerical?\n",
    "<br><br>\n",
    "For the next couple of questions we are going to plot the top 10 values for different categorical variables. For this section you will use the table method **take**, which will be introduced at a later section. **take**, is the row version for the method **select**. Recall that **select** returns a table with only somecolumns? **take**, returns a table witn only some number rows. "
   ]
  },
  {
   "cell_type": "markdown",
   "metadata": {},
   "source": [
    "<div class=\"alert alert-warning\">\n",
    "    \n",
    "**Question 2.**\n",
    "\n",
    "Make a bar plot of the top 10 actors base on their total gross income. Recall that total gross income is the total gross domestic box office receipt, in millions of dollars, of all of the actor's movies.\n",
    "    \n"
   ]
  },
  {
   "cell_type": "markdown",
   "metadata": {},
   "source": [
    "**A)** Create a new table follwing the next steps:\n",
    "\n",
    "1) First, let's create a new table that contiains the actor's name and their gross income. <br>\n",
    "2) Call this table **by_total_gross**. <br>\n",
    "3) Sort by descending oder(since we want the information for the top 10 earners) <br>\n",
    "\n",
    "Hint: Use the method **select** and **sort**"
   ]
  },
  {
   "cell_type": "code",
   "execution_count": 57,
   "metadata": {},
   "outputs": [
    {
     "ename": "SyntaxError",
     "evalue": "invalid syntax (<ipython-input-57-e23744bab54d>, line 1)",
     "output_type": "error",
     "traceback": [
      "\u001b[0;36m  File \u001b[0;32m\"<ipython-input-57-e23744bab54d>\"\u001b[0;36m, line \u001b[0;32m1\u001b[0m\n\u001b[0;31m    by_total_gross = actors....(\"Actor\", \"...\").sort(\"...\", descending = ...)\u001b[0m\n\u001b[0m                             ^\u001b[0m\n\u001b[0;31mSyntaxError\u001b[0m\u001b[0;31m:\u001b[0m invalid syntax\n"
     ]
    }
   ],
   "source": [
    "by_total_gross = actors....(\"Actor\", \"...\").sort(\"...\", descending = ...)\n",
    "by_total_gross"
   ]
  },
  {
   "cell_type": "code",
   "execution_count": 58,
   "metadata": {},
   "outputs": [
    {
     "data": {
      "text/html": [
       "<table border=\"1\" class=\"dataframe\">\n",
       "    <thead>\n",
       "        <tr>\n",
       "            <th>Actor</th> <th>Total Gross</th>\n",
       "        </tr>\n",
       "    </thead>\n",
       "    <tbody>\n",
       "        <tr>\n",
       "            <td>Harrison Ford     </td> <td>4871.7     </td>\n",
       "        </tr>\n",
       "        <tr>\n",
       "            <td>Samuel L. Jackson </td> <td>4772.8     </td>\n",
       "        </tr>\n",
       "        <tr>\n",
       "            <td>Morgan Freeman    </td> <td>4468.3     </td>\n",
       "        </tr>\n",
       "        <tr>\n",
       "            <td>Tom Hanks         </td> <td>4340.8     </td>\n",
       "        </tr>\n",
       "        <tr>\n",
       "            <td>Robert Downey, Jr.</td> <td>3947.3     </td>\n",
       "        </tr>\n",
       "        <tr>\n",
       "            <td>Eddie Murphy      </td> <td>3810.4     </td>\n",
       "        </tr>\n",
       "        <tr>\n",
       "            <td>Tom Cruise        </td> <td>3587.2     </td>\n",
       "        </tr>\n",
       "        <tr>\n",
       "            <td>Johnny Depp       </td> <td>3368.6     </td>\n",
       "        </tr>\n",
       "        <tr>\n",
       "            <td>Michael Caine     </td> <td>3351.5     </td>\n",
       "        </tr>\n",
       "        <tr>\n",
       "            <td>Scarlett Johansson</td> <td>3341.2     </td>\n",
       "        </tr>\n",
       "    </tbody>\n",
       "</table>\n",
       "<p>... (40 rows omitted)</p>"
      ],
      "text/plain": [
       "Actor              | Total Gross\n",
       "Harrison Ford      | 4871.7\n",
       "Samuel L. Jackson  | 4772.8\n",
       "Morgan Freeman     | 4468.3\n",
       "Tom Hanks          | 4340.8\n",
       "Robert Downey, Jr. | 3947.3\n",
       "Eddie Murphy       | 3810.4\n",
       "Tom Cruise         | 3587.2\n",
       "Johnny Depp        | 3368.6\n",
       "Michael Caine      | 3351.5\n",
       "Scarlett Johansson | 3341.2\n",
       "... (40 rows omitted)"
      ]
     },
     "execution_count": 58,
     "metadata": {},
     "output_type": "execute_result"
    }
   ],
   "source": [
    "# ANSWER KEY\n",
    "by_total_gross = actors.select(\"Actor\", \"Total Gross\").sort(\"Total Gross\", descending = True)\n",
    "by_total_gross"
   ]
  },
  {
   "cell_type": "markdown",
   "metadata": {},
   "source": [
    "**B)** Now we will use the method **take** to select only the top 10 earners, and we will save it on a variable called **top_10_total_gross**"
   ]
  },
  {
   "cell_type": "code",
   "execution_count": 59,
   "metadata": {},
   "outputs": [
    {
     "data": {
      "text/html": [
       "<table border=\"1\" class=\"dataframe\">\n",
       "    <thead>\n",
       "        <tr>\n",
       "            <th>Actor</th> <th>Total Gross</th>\n",
       "        </tr>\n",
       "    </thead>\n",
       "    <tbody>\n",
       "        <tr>\n",
       "            <td>Harrison Ford     </td> <td>4871.7     </td>\n",
       "        </tr>\n",
       "        <tr>\n",
       "            <td>Samuel L. Jackson </td> <td>4772.8     </td>\n",
       "        </tr>\n",
       "        <tr>\n",
       "            <td>Morgan Freeman    </td> <td>4468.3     </td>\n",
       "        </tr>\n",
       "        <tr>\n",
       "            <td>Tom Hanks         </td> <td>4340.8     </td>\n",
       "        </tr>\n",
       "        <tr>\n",
       "            <td>Robert Downey, Jr.</td> <td>3947.3     </td>\n",
       "        </tr>\n",
       "        <tr>\n",
       "            <td>Eddie Murphy      </td> <td>3810.4     </td>\n",
       "        </tr>\n",
       "        <tr>\n",
       "            <td>Tom Cruise        </td> <td>3587.2     </td>\n",
       "        </tr>\n",
       "        <tr>\n",
       "            <td>Johnny Depp       </td> <td>3368.6     </td>\n",
       "        </tr>\n",
       "        <tr>\n",
       "            <td>Michael Caine     </td> <td>3351.5     </td>\n",
       "        </tr>\n",
       "        <tr>\n",
       "            <td>Scarlett Johansson</td> <td>3341.2     </td>\n",
       "        </tr>\n",
       "    </tbody>\n",
       "</table>"
      ],
      "text/plain": [
       "Actor              | Total Gross\n",
       "Harrison Ford      | 4871.7\n",
       "Samuel L. Jackson  | 4772.8\n",
       "Morgan Freeman     | 4468.3\n",
       "Tom Hanks          | 4340.8\n",
       "Robert Downey, Jr. | 3947.3\n",
       "Eddie Murphy       | 3810.4\n",
       "Tom Cruise         | 3587.2\n",
       "Johnny Depp        | 3368.6\n",
       "Michael Caine      | 3351.5\n",
       "Scarlett Johansson | 3341.2"
      ]
     },
     "execution_count": 59,
     "metadata": {},
     "output_type": "execute_result"
    }
   ],
   "source": [
    "top_10_total_gross = by_total_gross.take(np.arange(0,10))\n",
    "top_10_total_gross"
   ]
  },
  {
   "cell_type": "markdown",
   "metadata": {},
   "source": [
    "Who is the the number one top earner? Who came in 10th place?"
   ]
  },
  {
   "cell_type": "markdown",
   "metadata": {},
   "source": [
    "_YOUR ANSWER HERE_"
   ]
  },
  {
   "cell_type": "markdown",
   "metadata": {},
   "source": [
    "**C)** Make a bar plot of the top 10 actors base on their total gross income.\n",
    "\n",
    "Hint: Use the method **barh**. "
   ]
  },
  {
   "cell_type": "code",
   "execution_count": 60,
   "metadata": {},
   "outputs": [
    {
     "ename": "SyntaxError",
     "evalue": "invalid syntax (<ipython-input-60-7f2714128be1>, line 1)",
     "output_type": "error",
     "traceback": [
      "\u001b[0;36m  File \u001b[0;32m\"<ipython-input-60-7f2714128be1>\"\u001b[0;36m, line \u001b[0;32m1\u001b[0m\n\u001b[0;31m    top_10_total_gross...\u001b[0m\n\u001b[0m                        ^\u001b[0m\n\u001b[0;31mSyntaxError\u001b[0m\u001b[0;31m:\u001b[0m invalid syntax\n"
     ]
    }
   ],
   "source": [
    "top_10_total_gross..."
   ]
  },
  {
   "cell_type": "code",
   "execution_count": 61,
   "metadata": {},
   "outputs": [
    {
     "data": {
      "image/png": "[encoded data removed]",
      "text/plain": [
       "<Figure size 432x360 with 1 Axes>"
      ]
     },
     "metadata": {
      "needs_background": "light"
     },
     "output_type": "display_data"
    }
   ],
   "source": [
    "# ANSWER KEY\n",
    "top_10_total_gross.barh(\"Actor\",\"Total Gross\")"
   ]
  },
  {
   "cell_type": "markdown",
   "metadata": {},
   "source": [
    "Do you notice anything interesting about this chart?"
   ]
  },
  {
   "cell_type": "markdown",
   "metadata": {},
   "source": [
    "_YOUR ANSWER HERE_"
   ]
  },
  {
   "cell_type": "markdown",
   "metadata": {},
   "source": [
    "<div class=\"alert alert-warning\">\n",
    "\n",
    "**Question 2.**\n",
    "\n",
    "Make a bar plot of the top 10 actors base on the number of movies the actor has been in.\n",
    "    "
   ]
  },
  {
   "cell_type": "markdown",
   "metadata": {},
   "source": [
    "**A)** Create a new table follwing the next steps:\n",
    "\n",
    "1) First, let's create a new table that contiains the actor's name and the number of movies the actor has been in . <br>\n",
    "2) Call this table **by_num_movies**. <br>\n",
    "3) Sort by descending oder(since we want the information for the top 10 earners) <br>\n",
    "\n",
    "Hint: Use the method **select** and **sort**"
   ]
  },
  {
   "cell_type": "code",
   "execution_count": 62,
   "metadata": {},
   "outputs": [
    {
     "ename": "SyntaxError",
     "evalue": "invalid syntax (<ipython-input-62-777e05baa88c>, line 2)",
     "output_type": "error",
     "traceback": [
      "\u001b[0;36m  File \u001b[0;32m\"<ipython-input-62-777e05baa88c>\"\u001b[0;36m, line \u001b[0;32m2\u001b[0m\n\u001b[0;31m    = actors.select(\"...\", \"...\").sort(\"...\", ...)\u001b[0m\n\u001b[0m    ^\u001b[0m\n\u001b[0;31mSyntaxError\u001b[0m\u001b[0;31m:\u001b[0m invalid syntax\n"
     ]
    }
   ],
   "source": [
    "# ANSWER KEY\n",
    "... = actors.select(\"...\", \"...\").sort(\"...\", ...)\n",
    "..."
   ]
  },
  {
   "cell_type": "code",
   "execution_count": 63,
   "metadata": {},
   "outputs": [
    {
     "data": {
      "text/html": [
       "<table border=\"1\" class=\"dataframe\">\n",
       "    <thead>\n",
       "        <tr>\n",
       "            <th>Actor</th> <th>Number of Movies</th>\n",
       "        </tr>\n",
       "    </thead>\n",
       "    <tbody>\n",
       "        <tr>\n",
       "            <td>Robert DeNiro     </td> <td>79              </td>\n",
       "        </tr>\n",
       "        <tr>\n",
       "            <td>Samuel L. Jackson </td> <td>69              </td>\n",
       "        </tr>\n",
       "        <tr>\n",
       "            <td>Liam Neeson       </td> <td>63              </td>\n",
       "        </tr>\n",
       "        <tr>\n",
       "            <td>Morgan Freeman    </td> <td>61              </td>\n",
       "        </tr>\n",
       "        <tr>\n",
       "            <td>Bruce Willis      </td> <td>60              </td>\n",
       "        </tr>\n",
       "        <tr>\n",
       "            <td>Michael Caine     </td> <td>58              </td>\n",
       "        </tr>\n",
       "        <tr>\n",
       "            <td>Robert Downey, Jr.</td> <td>53              </td>\n",
       "        </tr>\n",
       "        <tr>\n",
       "            <td>Woody Harrelson   </td> <td>50              </td>\n",
       "        </tr>\n",
       "        <tr>\n",
       "            <td>Stanley Tucci     </td> <td>50              </td>\n",
       "        </tr>\n",
       "        <tr>\n",
       "            <td>Robin Williams    </td> <td>49              </td>\n",
       "        </tr>\n",
       "    </tbody>\n",
       "</table>\n",
       "<p>... (40 rows omitted)</p>"
      ],
      "text/plain": [
       "Actor              | Number of Movies\n",
       "Robert DeNiro      | 79\n",
       "Samuel L. Jackson  | 69\n",
       "Liam Neeson        | 63\n",
       "Morgan Freeman     | 61\n",
       "Bruce Willis       | 60\n",
       "Michael Caine      | 58\n",
       "Robert Downey, Jr. | 53\n",
       "Woody Harrelson    | 50\n",
       "Stanley Tucci      | 50\n",
       "Robin Williams     | 49\n",
       "... (40 rows omitted)"
      ]
     },
     "execution_count": 63,
     "metadata": {},
     "output_type": "execute_result"
    }
   ],
   "source": [
    "# ANSWER KEY\n",
    "by_num_movies = actors.select(\"Actor\", \"Number of Movies\").sort(\"Number of Movies\", descending = True)\n",
    "by_num_movies"
   ]
  },
  {
   "cell_type": "markdown",
   "metadata": {},
   "source": [
    "**B)** Now we will use the method **take** to select only the top 10 earners, and we will save it on a variable called **top_10_num_movies**"
   ]
  },
  {
   "cell_type": "code",
   "execution_count": 64,
   "metadata": {},
   "outputs": [
    {
     "ename": "SyntaxError",
     "evalue": "invalid syntax (<ipython-input-64-6930a3107e24>, line 1)",
     "output_type": "error",
     "traceback": [
      "\u001b[0;36m  File \u001b[0;32m\"<ipython-input-64-6930a3107e24>\"\u001b[0;36m, line \u001b[0;32m1\u001b[0m\n\u001b[0;31m    = by_num_movies.take(np.arange(0,10))\u001b[0m\n\u001b[0m    ^\u001b[0m\n\u001b[0;31mSyntaxError\u001b[0m\u001b[0;31m:\u001b[0m invalid syntax\n"
     ]
    }
   ],
   "source": [
    "... = by_num_movies.take(np.arange(0,10))\n",
    "..."
   ]
  },
  {
   "cell_type": "code",
   "execution_count": 65,
   "metadata": {},
   "outputs": [
    {
     "data": {
      "text/html": [
       "<table border=\"1\" class=\"dataframe\">\n",
       "    <thead>\n",
       "        <tr>\n",
       "            <th>Actor</th> <th>Number of Movies</th>\n",
       "        </tr>\n",
       "    </thead>\n",
       "    <tbody>\n",
       "        <tr>\n",
       "            <td>Robert DeNiro     </td> <td>79              </td>\n",
       "        </tr>\n",
       "        <tr>\n",
       "            <td>Samuel L. Jackson </td> <td>69              </td>\n",
       "        </tr>\n",
       "        <tr>\n",
       "            <td>Liam Neeson       </td> <td>63              </td>\n",
       "        </tr>\n",
       "        <tr>\n",
       "            <td>Morgan Freeman    </td> <td>61              </td>\n",
       "        </tr>\n",
       "        <tr>\n",
       "            <td>Bruce Willis      </td> <td>60              </td>\n",
       "        </tr>\n",
       "        <tr>\n",
       "            <td>Michael Caine     </td> <td>58              </td>\n",
       "        </tr>\n",
       "        <tr>\n",
       "            <td>Robert Downey, Jr.</td> <td>53              </td>\n",
       "        </tr>\n",
       "        <tr>\n",
       "            <td>Woody Harrelson   </td> <td>50              </td>\n",
       "        </tr>\n",
       "        <tr>\n",
       "            <td>Stanley Tucci     </td> <td>50              </td>\n",
       "        </tr>\n",
       "        <tr>\n",
       "            <td>Robin Williams    </td> <td>49              </td>\n",
       "        </tr>\n",
       "    </tbody>\n",
       "</table>"
      ],
      "text/plain": [
       "Actor              | Number of Movies\n",
       "Robert DeNiro      | 79\n",
       "Samuel L. Jackson  | 69\n",
       "Liam Neeson        | 63\n",
       "Morgan Freeman     | 61\n",
       "Bruce Willis       | 60\n",
       "Michael Caine      | 58\n",
       "Robert Downey, Jr. | 53\n",
       "Woody Harrelson    | 50\n",
       "Stanley Tucci      | 50\n",
       "Robin Williams     | 49"
      ]
     },
     "execution_count": 65,
     "metadata": {},
     "output_type": "execute_result"
    }
   ],
   "source": [
    "# ANSWER KEY\n",
    "top_10_num_movies = by_num_movies.take(np.arange(0,10))\n",
    "top_10_num_movies"
   ]
  },
  {
   "cell_type": "markdown",
   "metadata": {},
   "source": [
    "**C)** Make a bar plot of the top 10 actors base on the number of movies they have been in \n",
    "\n",
    "Hint: Use the method **barh**. "
   ]
  },
  {
   "cell_type": "code",
   "execution_count": 66,
   "metadata": {},
   "outputs": [],
   "source": [
    "# YOUR CODE HERE \n",
    "... "
   ]
  },
  {
   "cell_type": "code",
   "execution_count": 67,
   "metadata": {},
   "outputs": [
    {
     "data": {
      "image/png": "[encoded data removed]",
      "text/plain": [
       "<Figure size 432x360 with 1 Axes>"
      ]
     },
     "metadata": {
      "needs_background": "light"
     },
     "output_type": "display_data"
    }
   ],
   "source": [
    "# ANSWER KEY\n",
    "top_10_num_movies.barh(\"Actor\",\"Number of Movies\")"
   ]
  },
  {
   "cell_type": "markdown",
   "metadata": {},
   "source": [
    "Do you notice anything interesting about this chart?"
   ]
  },
  {
   "cell_type": "markdown",
   "metadata": {},
   "source": [
    "_YOUR ANSWER HERE_"
   ]
  },
  {
   "cell_type": "markdown",
   "metadata": {},
   "source": [
    "---\n",
    "\n",
    "## Bibliography"
   ]
  },
  {
   "cell_type": "markdown",
   "metadata": {},
   "source": [
    "NEED TO ADD REFERENCES LINK HERE\n"
   ]
  },
  {
   "cell_type": "markdown",
   "metadata": {},
   "source": [
    "---\n",
    "Notebook developed by: Ashley Quiterio, Alleanna Clark and Karla Palos\n",
    "\n",
    "Data Science Modules: http://data.berkeley.edu/education/modules\n"
   ]
  }
 ],
 "metadata": {
  "anaconda-cloud": {},
  "kernelspec": {
   "display_name": "Python 3",
   "language": "python",
   "name": "python3"
  },
  "language_info": {
   "codemirror_mode": {
    "name": "ipython",
    "version": 3
   },
   "file_extension": ".py",
   "mimetype": "text/x-python",
   "name": "python",
   "nbconvert_exporter": "python",
   "pygments_lexer": "ipython3",
   "version": "3.6.9"
  }
 },
 "nbformat": 4,
 "nbformat_minor": 1
}
