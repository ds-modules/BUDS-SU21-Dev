{
 "cells": [
  {
   "cell_type": "markdown",
   "metadata": {},
   "source": [
    "# Tuesday - EPA"
   ]
  },
  {
   "cell_type": "code",
   "execution_count": 2,
   "metadata": {},
   "outputs": [],
   "source": [
    "# RUN THIS CELL or the notebook will not work properly\n",
    "from datascience import *\n",
    "import numpy as np"
   ]
  },
  {
   "cell_type": "markdown",
   "metadata": {},
   "source": [
    "### Mapping\n",
    "A really cool part of data science is the ability to utilize maps to visualize \n",
    "We made a map of Alameda County using Environmental Protection Agency’s EJView website: https://ejscreen.epa.gov/mapper/"
   ]
  },
  {
   "cell_type": "markdown",
   "metadata": {},
   "source": [
    "#### Interpreting the map\n",
    "The darker part of the map have higher minority populations according to the 2010 Census. Toxic chemical releases and waste management activities are recorded and inputted into a database (a description can be found here: https://geopub.epa.gov/arcgis/rest/services/EMEF/efpoints/MapServer/1). \n",
    "\n",
    "The light blue squares represent the toxic release inventory (TRI) data provided by the EPA. \n",
    "\n",
    "**What are some things you notice about the map and the location of the blue squares?**"
   ]
  },
  {
   "cell_type": "markdown",
   "metadata": {},
   "source": [
    "YOUR ANSWER HERE"
   ]
  },
  {
   "cell_type": "markdown",
   "metadata": {},
   "source": [
    "\n",
    "**Alameda County Map**\n",
    "![Map1](map.png) \n"
   ]
  },
  {
   "cell_type": "markdown",
   "metadata": {},
   "source": [
    "|Column    | Definition|\n",
    "|---------------|-------------------|\n",
    "| zipcode       | The zip code of the industrial facility (Integer)                                                             \n",
    "| releases      | Toxicity-weighted pounds of chemicals released to air or water from all TRI facilities within a one kilometer radius of the zip code (Integer)|\n",
    "| below_poverty | Number of people below the poverty line (Integer)|\n",
    "| above_poverty | Number of people above the poverty line (Integer)|"
   ]
  },
  {
   "cell_type": "code",
   "execution_count": 3,
   "metadata": {},
   "outputs": [
    {
     "data": {
      "text/html": [
       "<table border=\"1\" class=\"dataframe\">\n",
       "    <thead>\n",
       "        <tr>\n",
       "            <th>zipcode</th> <th>releases</th> <th>below_poverty</th> <th>above_poverty</th>\n",
       "        </tr>\n",
       "    </thead>\n",
       "    <tbody>\n",
       "        <tr>\n",
       "            <td>94509  </td> <td>1413711  </td> <td>23415        </td> <td>39024        </td>\n",
       "        </tr>\n",
       "        <tr>\n",
       "            <td>94518  </td> <td>56366    </td> <td>5864         </td> <td>20914        </td>\n",
       "        </tr>\n",
       "        <tr>\n",
       "            <td>94520  </td> <td>59481    </td> <td>16520        </td> <td>20688        </td>\n",
       "        </tr>\n",
       "        <tr>\n",
       "            <td>94525  </td> <td>21304051 </td> <td>691          </td> <td>2436         </td>\n",
       "        </tr>\n",
       "        <tr>\n",
       "            <td>94547  </td> <td>501841   </td> <td>2987         </td> <td>21105        </td>\n",
       "        </tr>\n",
       "        <tr>\n",
       "            <td>94553  </td> <td>246758929</td> <td>10213        </td> <td>36852        </td>\n",
       "        </tr>\n",
       "        <tr>\n",
       "            <td>94561  </td> <td>94268    </td> <td>9640         </td> <td>26875        </td>\n",
       "        </tr>\n",
       "        <tr>\n",
       "            <td>94565  </td> <td>16758112 </td> <td>34872        </td> <td>49769        </td>\n",
       "        </tr>\n",
       "        <tr>\n",
       "            <td>94572  </td> <td>175500572</td> <td>2614         </td> <td>6070         </td>\n",
       "        </tr>\n",
       "        <tr>\n",
       "            <td>94801  </td> <td>121104930</td> <td>15109        </td> <td>14286        </td>\n",
       "        </tr>\n",
       "    </tbody>\n",
       "</table>\n",
       "<p>... (2 rows omitted)</p>"
      ],
      "text/plain": [
       "zipcode | releases  | below_poverty | above_poverty\n",
       "94509   | 1413711   | 23415         | 39024\n",
       "94518   | 56366     | 5864          | 20914\n",
       "94520   | 59481     | 16520         | 20688\n",
       "94525   | 21304051  | 691           | 2436\n",
       "94547   | 501841    | 2987          | 21105\n",
       "94553   | 246758929 | 10213         | 36852\n",
       "94561   | 94268     | 9640          | 26875\n",
       "94565   | 16758112  | 34872         | 49769\n",
       "94572   | 175500572 | 2614          | 6070\n",
       "94801   | 121104930 | 15109         | 14286\n",
       "... (2 rows omitted)"
      ]
     },
     "execution_count": 3,
     "metadata": {},
     "output_type": "execute_result"
    }
   ],
   "source": [
    "# read in data\n",
    "data = Table.read_table('data/TRI_data.csv')\n",
    "data"
   ]
  },
  {
   "cell_type": "markdown",
   "metadata": {},
   "source": [
    "Citations: E-157AC module developed by Wendy Hua, Karla Palos Castellanos, Jinsu Elhance, Professor: Khalid Kadir\n",
    "\n",
    "https://github.com/ds-modules/E-157AC"
   ]
  }
 ],
 "metadata": {
  "kernelspec": {
   "display_name": "Python 3",
   "language": "python",
   "name": "python3"
  },
  "language_info": {
   "codemirror_mode": {
    "name": "ipython",
    "version": 3
   },
   "file_extension": ".py",
   "mimetype": "text/x-python",
   "name": "python",
   "nbconvert_exporter": "python",
   "pygments_lexer": "ipython3",
   "version": "3.6.9"
  }
 },
 "nbformat": 4,
 "nbformat_minor": 2
}
