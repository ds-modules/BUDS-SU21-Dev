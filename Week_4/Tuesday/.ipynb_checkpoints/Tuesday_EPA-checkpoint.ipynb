{
 "cells": [
  {
   "cell_type": "markdown",
   "metadata": {},
   "source": [
    "# E 157AC Spring 2019\n",
    "\n",
    "## Assignment: Problem Set 1\n",
    "\n",
    "**Due:**  Friday, March 8, 2019 at 11:59 pm\n",
    "<br>\n",
    "*Submit via bCourses*"
   ]
  },
  {
   "cell_type": "markdown",
   "metadata": {},
   "source": [
    "**Before you begin, run the following cell to load the packages needed for the rest of the notebook**"
   ]
  },
  {
   "cell_type": "code",
   "execution_count": null,
   "metadata": {},
   "outputs": [],
   "source": [
    "# RUN THIS CELL or the notebook will not work properly\n",
    "# import necessary software\n",
    "from datascience import *\n",
    "import numpy as np"
   ]
  },
  {
   "cell_type": "markdown",
   "metadata": {},
   "source": [
    "## Part 1\n",
    "\n",
    "### Create a map of pollution in the San Francisco Bay Area\n",
    "\n",
    "1. Go to the Environmental Protection Agency’s EJView website: https://ejscreen.epa.gov/mapper/\n",
    "\n",
    "2. Enter a city in the Bay Area (e.g., Berkeley, CA), click search, and wait for the map to load. If you have trouble getting a map to load, try using a different web browser.\n",
    "\n",
    "3. Under “Add Maps” choose the following options:\n",
    "    - Additional Maps &rarr; Sites reporting to EPA &rarr; Toxic Releases (*These are based off of TRI (Toxic Release Inventory) sites*)\n",
    "    - More Demographics &rarr; 2012-2016 ACS\n",
    "        - **Category** : Population\n",
    "        - **Variable** : Minority Population\n",
    "        - **Method**  : Quantile *The percent of the population that is not Non-Hispanic White.*\n",
    "        - Click \"Add to Map\"\n",
    "\n",
    "4. Use the arrows to zoom and pan across the areas the way you would with Google Maps. You can also increase the level of transparency of the demographic information for more clarity."
   ]
  },
  {
   "cell_type": "markdown",
   "metadata": {},
   "source": [
    "#### Question 1A\n",
    "What do you notice about the distribution of facilities emitting toxins in relation to community demographic makeup in the SF Bay Area? Notice that the markers for TRI facilities will symbolize more than one facility when you zoom out (click on them to see how many). [2-3 sentences]"
   ]
  },
  {
   "cell_type": "markdown",
   "metadata": {},
   "source": [
    "**Answer:**\n",
    "YOUR ANSWER HERE"
   ]
  },
  {
   "cell_type": "markdown",
   "metadata": {},
   "source": [
    "Under “Add Maps”, explore some of the other options. \n",
    "\n",
    "Click on the (i) next to each option to get more information about the data source. \n",
    "\n",
    "Use the print tool (or screenshots) to create **two maps** that together tell a story about pollution and community characteristics that you find particularly interesting or compelling. \n",
    "\n",
    "Now, we are going to add your two maps to this notebook. First, we'll need to upload the screenshots into your datahub. To do this, click the upload button on the top right-hand corner of the datahub file browser. Then select your files and upload them to datahub. \n",
    "![Demo](demo.png)\n"
   ]
  },
  {
   "cell_type": "markdown",
   "metadata": {},
   "source": [
    "###### Displaying maps (double click on this cell )\n",
    "\n",
    "Once both images have been uploaded, you can display them below by replacing the \"...\" with the filenames.png. Make sure to give them appropriate and descriptive titles. \n",
    "\n",
    "The names for your maps shuld **not** contain spaces or special characters.\n",
    "\n",
    "e.g. `this_is_my_map.png` not `this is my map.png` \n",
    "\n",
    "\n",
    "**Map 1 Title**\n",
    "![Map1](...) \n",
    "\n",
    "**Map 2 Title**\n",
    "![Map2](...)"
   ]
  },
  {
   "cell_type": "markdown",
   "metadata": {},
   "source": [
    "#### Question 1B\n",
    "\n",
    "What pattern do you observe between the variables you’ve chosen to map? What do you find interesting about the pattern? [2 maps and 2-3 sentences of explanation for each]"
   ]
  },
  {
   "cell_type": "markdown",
   "metadata": {},
   "source": [
    "**Answer:**\n",
    "YOUR ANSWER HERE"
   ]
  },
  {
   "cell_type": "markdown",
   "metadata": {},
   "source": [
    "## Part 2\n",
    "\n",
    "### Calculate average toxic releases by poverty status\n",
    "\n",
    "The data relevant to this exploration is represented as a table shown below. We'll be using Python to manipulate the data in ways that allows us to identify averages, proportions and more. You may remember some of the commands we will use from your introduction to Python notebook, but for a refresher we have a short demo below. The data comes from the EPA’s Toxic Release Inventory (TRI), which collects information on the emissions to air, water and land of major industrial facilities. The EPA has multiplied the pounds emitted by a toxicity factor that is higher for more toxic chemicals. The number of people living in poverty comes from the 2010 Census."
   ]
  },
  {
   "cell_type": "markdown",
   "metadata": {},
   "source": [
    "|Column    | Definition|\n",
    "|---------------|-------------------|\n",
    "| zipcode       | The zip code of the industrial facility (Integer)                                                             \n",
    "| releases      | Toxicity-weighted pounds of chemicals released to air or water from all TRI facilities within a one kilometer radius of the zip code (Integer)|\n",
    "| below_poverty | Number of people below the poverty line (Integer)|\n",
    "| above_poverty | Number of people above the poverty line (Integer)|"
   ]
  },
  {
   "cell_type": "code",
   "execution_count": null,
   "metadata": {},
   "outputs": [],
   "source": [
    "# read in data\n",
    "data = Table.read_table('data/TRI_data.csv')"
   ]
  },
  {
   "cell_type": "markdown",
   "metadata": {},
   "source": [
    "###### Manipulating Python Tables\n",
    "The above is how Python displays tables, it is pretty similar to how you might usually see data displayed (in an Excel or Google sheet) and what we come to learn is that Python tables can become intuitive to use and are powerful tools!\n",
    "\n",
    "###### A Brief Reminder on Python\n",
    "Some of the key things we'll want to do is access particular elements in the table at various row by column intersections (cells) and apply some mathematical operations to columns.\n",
    "\n",
    "To access all the values in a column, use the `.column` method with the name of the column in quotation marks as the argument."
   ]
  },
  {
   "cell_type": "code",
   "execution_count": null,
   "metadata": {},
   "outputs": [],
   "source": [
    "releases = data.column(\"releases\") # returns an array of all the values in the 'releases' column\n",
    "releases"
   ]
  },
  {
   "cell_type": "markdown",
   "metadata": {},
   "source": [
    "###### Applying Mathematical Operations to Arrays\n",
    "You can also use math functions such as + - \\* / on these arrays to do *element-wise operations* on the values within them. In an element-wise operation, the operation is performed on each element (value) in the array to get a new array of the same size.\n",
    "\n",
    "For example, adding 10 to an array of three values will result in a new array of three values where each value has increased by 10:"
   ]
  },
  {
   "cell_type": "code",
   "execution_count": null,
   "metadata": {},
   "outputs": [],
   "source": [
    "# element-wise addition on an array\n",
    "np.array([1, 2, 4]) + 10"
   ]
  },
  {
   "cell_type": "markdown",
   "metadata": {},
   "source": [
    "And multiplying an array by 100 will multiply each value inside the array by 100:"
   ]
  },
  {
   "cell_type": "code",
   "execution_count": null,
   "metadata": {},
   "outputs": [],
   "source": [
    "# element-wise multiplication on the releases array\n",
    "print(releases * 100)"
   ]
  },
  {
   "cell_type": "markdown",
   "metadata": {},
   "source": [
    "Another very helpful mathematical operation for arrays is a method called *sum*. *sum* is a function that takes in a single argument, an array in this case, and returns the sum of all of the values of that argument. \n",
    "\n",
    "Here are some examples of sum being used:"
   ]
  },
  {
   "cell_type": "code",
   "execution_count": null,
   "metadata": {},
   "outputs": [],
   "source": [
    "# add all the values in the releases column\n",
    "releases_sum = sum(releases)\n",
    "\n",
    "# add all whole numbers from one to five\n",
    "one_to_five_sum = sum([1, 2, 3, 4, 5])\n",
    "\n",
    "# the next two lines print the results of our sums; don't worry about how to write this code\n",
    "print(\"This is the sum of all the values in releases: \", releases_sum)\n",
    "\n",
    "print(\"This is the sum of all the values in the array [1,2,3,4,5]: \", one_to_five_sum)"
   ]
  },
  {
   "cell_type": "markdown",
   "metadata": {},
   "source": [
    "###### Accessing Elements\n",
    "\n",
    "In order to access elements, we need to know where to find it in the table. Python uses what is called zero-indexing to number off the positions of the elements in an array. Zero-indexing means that the first element in an array is at \"index\" 0 and the last element in the array will be at the \"index\" of the full length of the array -1. Here's an example to help understand how to access elements. "
   ]
  },
  {
   "cell_type": "markdown",
   "metadata": {},
   "source": [
    "![AccessingElements](array.png)"
   ]
  },
  {
   "cell_type": "markdown",
   "metadata": {},
   "source": [
    "You can access particular values of arrays using the *index* notation: put the index (i.e. the numerical position in the array) of the element you want in square brackets next to the name of the array. \n",
    "\n",
    "The next cell has examples of how to get the first and last elements of the `releases` column."
   ]
  },
  {
   "cell_type": "code",
   "execution_count": null,
   "metadata": {},
   "outputs": [],
   "source": [
    "# get the first element in the releases column\n",
    "firstelem = releases[0]\n",
    "\n",
    "# get the last element in the releases column\n",
    "lastelem = releases[11]\n",
    "\n",
    "# the next two code lines print the values we indexed; don't worry about how to write the print statements\n",
    "print(\"First element in releases: \", firstelem)\n",
    "print(\"Last element in releases: \", lastelem)"
   ]
  },
  {
   "cell_type": "markdown",
   "metadata": {},
   "source": [
    "Now, using what you know about Python, and how to mathematically manipulate arrays, try answering the questions in parts 2A and 2B."
   ]
  },
  {
   "cell_type": "markdown",
   "metadata": {},
   "source": [
    "#### Question 2A\n",
    "\n",
    "Calculate the proportion of poor and non-poor residents that have no toxic chemicals being emitted near their zip code. Apply the following formula one at a time for each:<br><br>\n",
    "\n",
    " $Proportion \\:with \\:zero \\:emissions = \\frac{number \\:of \\:people \\:with \\:zero \\:emissions}{Total \\:number \\:of \\:people}$\n",
    "\n",
    "We'll start with calculating the proportion of people who are below the poverty line. Here's the steps that need to be carried out:\n",
    "\n",
    "(1) Select the column of people below the poverty line."
   ]
  },
  {
   "cell_type": "code",
   "execution_count": null,
   "metadata": {},
   "outputs": [],
   "source": [
    "# select the column of people under the poverty line using the .column method\n",
    "below_pov = ...\n",
    "\n",
    "# you should see an array of 11 elements\n",
    "below_pov"
   ]
  },
  {
   "cell_type": "markdown",
   "metadata": {},
   "source": [
    "(2) Index the element in that column that corresponds to the zipcode with no releases\n"
   ]
  },
  {
   "cell_type": "code",
   "execution_count": null,
   "metadata": {},
   "outputs": [],
   "source": [
    "# use indexing (square brackets with a number inside) to select the number of people\n",
    "# below the poverty line in the zip code with no emissions (releases) in the below_pov array\n",
    "below_pov_no_emissions = ...\n",
    "\n",
    "# this should be a number\n",
    "below_pov_no_emissions"
   ]
  },
  {
   "cell_type": "markdown",
   "metadata": {},
   "source": [
    "(3) Sum the column of people below the poverty line to get the total number of people in poverty\n"
   ]
  },
  {
   "cell_type": "code",
   "execution_count": null,
   "metadata": {},
   "outputs": [],
   "source": [
    "# sum together all the people below the poverty line\n",
    "total_below_pov = ...\n",
    "\n",
    "# this should be a number\n",
    "total_below_pov"
   ]
  },
  {
   "cell_type": "markdown",
   "metadata": {},
   "source": [
    "(4) Divide the number of people below the poverty line with no emissions by the total number of people below the poverty line."
   ]
  },
  {
   "cell_type": "code",
   "execution_count": null,
   "metadata": {},
   "outputs": [],
   "source": [
    "# divide the number with no emissions by the total number of people below the poverty line\n",
    "prop_below_pov = ... \n",
    "\n",
    "# this should be a number between 0 and 1\n",
    "prop_below_pov"
   ]
  },
  {
   "cell_type": "markdown",
   "metadata": {},
   "source": [
    "Now, do the same thing for people above the poverty line. Here's the steps again:\n",
    "\n",
    "1. Select the column of people above the poverty line.\n",
    "2. Index the element in that column that corresponds to the zipcode with no releases\n",
    "3. Sum the column of people above the poverty line to get the total number of people not in poverty\n",
    "4. Divide the number of people above the poverty line with no emissions by the total number of people above the poverty line.\n",
    "\n",
    "*Note- if you completed all the steps to calculate the proportion of people below the poverty line, look at how you did it to complete the same steps for people above the poverty line. What variables do you need to change?*"
   ]
  },
  {
   "cell_type": "code",
   "execution_count": null,
   "metadata": {},
   "outputs": [],
   "source": [
    "# select the column of people above the poverty line using the .column method\n",
    "above_pov = ...\n",
    "\n",
    "# use indexing (square brackets with a number inside) to select the number of people\n",
    "# above the poverty line in the zip code with no emissions (releases) in the above_pov array\n",
    "above_pov_no_emissions = ...\n",
    "\n",
    "# sum together all the people who are above the poverty line\n",
    "total_above_pov = ...\n",
    "\n",
    "# divide the number of people with no emissions by the total number of people above the poverty line\n",
    "prop_above_pov = ... \n",
    "\n",
    "# this should be a number between 0 and 1\n",
    "prop_above_pov"
   ]
  },
  {
   "cell_type": "markdown",
   "metadata": {},
   "source": [
    "#### Question 2B\n",
    "\n",
    "   b)  What is the average level of toxicity-weighted pounds for a Contra Costa resident? Apply the following formula for the poor and non-poor groups separately, where $i$ refers to the zip code and $N$ is the number of zip codes with emissions:<br><br>\n",
    "    $$\\text{Average} = \\frac{1}{\\text{Total number of people with emissions}} \\sum_{i=0}^{N}(pounds_{i} \\times people_{i})\\\\ = \\frac{1}{\\text{Total number of people with emissions}} \\times ((pounds_{1} \\times people_{1}) \\:+ \\:(pounds_{2} \\times people_{2}) \\:+ \\:...etc.)$$\n",
    "    <br><br>\n",
    "\n",
    "Once again, we'll start with the calculation for people below the poverty line.\n",
    "\n",
    "(1) Create an array of releases data and an array of data on people below the poverty line. You've actually already done this earlier in the notebook. Run the next cell to remind yourself what they look like- if you get an error, make sure you defined `below_pov` in 2A and that you've re-run all the earlier cells to define the variables (the easiest way to do this is by highlighting this cell, going to the \"Cell\" menu, and clicking \"Run all above\")."
   ]
  },
  {
   "cell_type": "code",
   "execution_count": null,
   "metadata": {},
   "outputs": [],
   "source": [
    "# check that the releases and below_pov arrays have been defined\n",
    "print(\"Releases array: \", releases)\n",
    "print(\"Array of people below the poverty line: \", below_pov)"
   ]
  },
  {
   "cell_type": "markdown",
   "metadata": {},
   "source": [
    "(2) Multiply the array of releases data by the array of data on the number of people below the poverty line. Note that multiplying two arrays together using `*` is also an element-wise operation: \n",
    "\n",
    "`array([1, 2, 3]) * array([1, 2, 3]) = array([1, 4, 9])`\n",
    "\n",
    "The $i$th element in the first array is multiplied by the $i$th element in the second array to create the $i$th element in the result array."
   ]
  },
  {
   "cell_type": "code",
   "execution_count": null,
   "metadata": {},
   "outputs": [],
   "source": [
    "# create an array containing pounds of emissions x people for each zip code\n",
    "lbs_x_people_poverty = ...\n",
    "\n",
    "# this should be an array of length 11\n",
    "lbs_x_people_poverty"
   ]
  },
  {
   "cell_type": "markdown",
   "metadata": {},
   "source": [
    "(3) Add together all of the elements in the array of pounds of emissions times people below the poverty line."
   ]
  },
  {
   "cell_type": "code",
   "execution_count": null,
   "metadata": {},
   "outputs": [],
   "source": [
    "# add the elements in the pouns_times_pov_people array\n",
    "total_lbs_x_people_pov = ...\n",
    "\n",
    "# this should be a number\n",
    "total_lbs_x_people_pov"
   ]
  },
  {
   "cell_type": "markdown",
   "metadata": {},
   "source": [
    "(4) Divide the summed total of pounds of emissions times people in poverty by the total number of people under the poverty line *in zip codes with emissions*. Hint: you've already calculated the total number of people under the poverty line in part 2a and saved it to the variable `total_below_pov`; how could you change this variable to only include people living in zip codes with non-zero emissions?"
   ]
  },
  {
   "cell_type": "code",
   "execution_count": null,
   "metadata": {},
   "outputs": [],
   "source": [
    "# number of people under poverty line in areas with emissions\n",
    "total_poor_w_emissions = ...\n",
    "\n",
    "# divide total pounds times people by the total number of people \n",
    "avg_toxic_poor = ... \n",
    "\n",
    "# this should be a number\n",
    "avg_toxic_poor"
   ]
  },
  {
   "cell_type": "markdown",
   "metadata": {},
   "source": [
    "Now, we'll do the same thing for people above the poverty line. Remember, the formula is:<br>\n",
    "<br>\n",
    "    $$\\text{Average} = \\frac{1}{\\text{Total number of people}} \\sum_{i=0}^{N}(pounds_{i} \\times people_{i})\\\\ = \\frac{1}{\\text{Total number of people}} \\times ((pounds_{1} \\times people_{1}) \\:+ \\:(pounds_{2} \\times people_{2}) \\:+ \\:...etc.)$$\n",
    "    \n",
    "Where $i$ refers to the zip code and $N$ is the number of zip codes with emissions.\n",
    "\n",
    "And the steps are:\n",
    "\n",
    "1. Use the arrays of releases data (`releases`) and data on people above the poverty line (`above_pov`) that you created earlier in the notebook. If you get an error, make sure you defined above_pov in 2A and that you've re-run all the earlier cells to define the variables (the easiest way to do this is by highlighting this cell, going to the \"Cell\" menu, and clicking \"Run all above\").\n",
    "2. Using `releases`, `above_pov`, and a mathematical operator, create a new array that contains all the pounds of emissions by zip code multiplied by the corresponding number of people per zip code\n",
    "3. Add together all of the pounds of emissions times people above the poverty line. \n",
    "4. Divide the summed total of pounds of emissions times people not in poverty by the total number of people above the poverty line *in areas with non-zero emissions*. Hint: you've already calculated the total number of people above the poverty line *in all areas* in part 2a and saved it to the variable `total_above_pov`."
   ]
  },
  {
   "cell_type": "code",
   "execution_count": null,
   "metadata": {},
   "outputs": [],
   "source": [
    "# check that the releases and above_pov arrays have been defined\n",
    "print(\"Releases array: \", releases)\n",
    "print(\"Array of people above the poverty line: \", above_pov)"
   ]
  },
  {
   "cell_type": "code",
   "execution_count": null,
   "metadata": {},
   "outputs": [],
   "source": [
    "# multiply releases by corresponing number of people above the poverty line\n",
    "lbs_x_people_nonpoverty = ..."
   ]
  },
  {
   "cell_type": "code",
   "execution_count": null,
   "metadata": {},
   "outputs": [],
   "source": [
    "# sum all the values of pounds of emissions times people not in poverty\n",
    "total_lbs_x_people_nonpov = ..."
   ]
  },
  {
   "cell_type": "code",
   "execution_count": null,
   "metadata": {},
   "outputs": [],
   "source": [
    "# calculate number of people above the poverty line in areas with non-zero emissions\n",
    "total_nonpoor_w_emissions = ...\n",
    "\n",
    "# divide total pounds times people by the total number of people\n",
    "avg_toxic_nonpoor = ... "
   ]
  },
  {
   "cell_type": "markdown",
   "metadata": {},
   "source": [
    "#### Question 2C\n",
    "\n",
    "Look at the documentation for the TRI dataset: http://www2.epa.gov/toxics-release-inventory-tri-program/basics-tri-reporting\n",
    "\n",
    "Describe one limitation of this dataset that might make it inaccurate or incomplete in terms of capturing the true number of toxic chemicals emitted in a neighborhood. [1-2 sentences]"
   ]
  },
  {
   "cell_type": "markdown",
   "metadata": {},
   "source": [
    "**Answer:**\n",
    "YOUR ANSWER HERE"
   ]
  },
  {
   "cell_type": "markdown",
   "metadata": {},
   "source": [
    "## Conclusion\n",
    "In this problem set we took a look at how we can identify points of interest in data by mapping them, and that helps us tell a story about the data that we'll be studying throughout this course. A familiarity with how we can use technical skills such as mapping, graphing and data analysis will allow us to take a more comprehensive look at the connections in our data and tie our non-technical curriculum to the ever growing need for technical analysis. \n",
    "\n",
    "It will be crucial to remember some of the key skills learned in this notebook. \n",
    "1. How to find relevant and comprehensive data\n",
    "2. Identifying trends/hypotheses from data visualizations\n",
    "3. Basic data analysis in Python"
   ]
  },
  {
   "cell_type": "markdown",
   "metadata": {},
   "source": [
    "## Saving the Notebook as an HTML\n",
    "\n",
    "Congrats on finishing your first notebook! You will be submitting this notebook as an HTML file. To turn in this assignment follow the steps below:\n",
    "\n",
    "1. **Important:** Click the Save icon located at the far left on the top toolbar. Make sure to do this before following the next steps.\n",
    "2. Run the very next cell to convert this notebook to HTML.\n",
    "3. Go to the `ProblemSet1` folder, which contains the HTML file named \"Problem Set 1.html\". (Click the jupyter icon at the top left and navigate to the same folder where this notebook is located)\n",
    "4. Check the box next to the file and click the Download button to download it to your computer\n",
    "5. Click to open in a web browser of your choice to make sure that everything looks okay\n",
    "6. Submit to the Problem Set 1 Assignment on bCourses."
   ]
  },
  {
   "cell_type": "code",
   "execution_count": null,
   "metadata": {},
   "outputs": [],
   "source": [
    "# DO NOT EDIT: This cell converts the current notebook into an HTML file\n",
    "!python ipy2html.py \"Problem Set 1.ipynb\""
   ]
  }
 ],
 "metadata": {
  "kernelspec": {
   "display_name": "Python 3",
   "language": "python",
   "name": "python3"
  },
  "language_info": {
   "codemirror_mode": {
    "name": "ipython",
    "version": 3
   },
   "file_extension": ".py",
   "mimetype": "text/x-python",
   "name": "python",
   "nbconvert_exporter": "python",
   "pygments_lexer": "ipython3",
   "version": "3.6.7"
  }
 },
 "nbformat": 4,
 "nbformat_minor": 2
}
