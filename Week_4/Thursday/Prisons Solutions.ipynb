{
 "cells": [
  {
   "cell_type": "markdown",
   "metadata": {
    "tags": [
     "include"
    ]
   },
   "source": [
    "# State Prisons and County Jails with Professor Victoria Robinson \n",
    "***\n",
    "### Table of Contents\n",
    "\n",
    "[THE DATA](#sectiondata)<br>\n",
    "\n",
    "[CONTEXT](#sectioncontext)<br>\n",
    "\n",
    "[PRISONS](#section1)<br>\n",
    "1. [DATA](#subsection1)<br> \n",
    "2. [DATA ANALYSIS](#subsection2)<br>\n",
    "3. [GENERAL: DESIGNED & STAFFED CAPACITY](#subsection3)<br>\n",
    "4. [GENDER DIVISION](#subsection4)<br>"
   ]
  },
  {
   "cell_type": "code",
   "execution_count": 1,
   "metadata": {
    "collapsed": true
   },
   "outputs": [],
   "source": [
    "from datascience import * \n",
    "import numpy as np \n",
    "\n",
    "import matplotlib  \n",
    "%matplotlib inline\n",
    "import matplotlib.pyplot as plt\n",
    "plt.style.use('fivethirtyeight') "
   ]
  },
  {
   "cell_type": "markdown",
   "metadata": {
    "tags": [
     "ignore"
    ]
   },
   "source": [
    "## Context<a id='sectioncontext'></a>\n",
    "---\n",
    "Prison and county jail are overcrowded, and we will explore how people are moved between the two institutions.\n",
    "\n",
    "The key difference between state prisons and jails involve the process of sentencing. Prisons are designed for long term sentences, while jails are for those who are unsentenced or have short term sentences. It is important to note that short-term sentences are generally one year or less. Another difference is that prisons are larger and controlled at the state level. In contrast, jails are smaller and handled by a city or county."
   ]
  },
  {
   "cell_type": "markdown",
   "metadata": {
    "tags": [
     "ignore"
    ]
   },
   "source": [
    "## **Prisons Data** <a id='subsection1'> </a>\n",
    "The CDCR (California Department of Corrections and Rehabilitation) reports the number of people in state prisons across California. If you are interested in learning more please visit: [CDCR data and infromation](https://github.com/nrjones8/cdcr-population-data)\n",
    "\n",
    "|Column Name   | Description |\n",
    "|--------------|---------|\n",
    "|year |Year that the data was collected  |\n",
    "|month | Month that the data was collected |\n",
    "|institution_name |  Abbreviated Name of the State Prison|\n",
    "|population_felons | People imprisoned for committing felony (serious or violent crime) |\n",
    "|civil_addict | People imprisoned for drug related offenses |\n",
    "|total_population | Sum of civil addict and population felons columns|\n",
    "|designed_capacity | Max number of people the prison was built to hold|\n",
    "|percent_occupied | Percentage of people incarcerated out of designed capacity|\n",
    "|staffed_capacity | Max number of people the prison can hold based on the number of people employed|"
   ]
  },
  {
   "cell_type": "code",
   "execution_count": 2,
   "metadata": {},
   "outputs": [
    {
     "data": {
      "text/html": [
       "<table border=\"1\" class=\"dataframe\">\n",
       "    <thead>\n",
       "        <tr>\n",
       "            <th>year</th> <th>month</th> <th>institution_name</th> <th>population_felons</th> <th>civil_addict</th> <th>total_population</th> <th>designed_capacity</th> <th>percent_occupied</th> <th>staffed_capacity</th>\n",
       "        </tr>\n",
       "    </thead>\n",
       "    <tbody>\n",
       "        <tr>\n",
       "            <td>1996</td> <td>1    </td> <td>VSP (VALLEY SP)                 </td> <td>2294             </td> <td>0           </td> <td>2294            </td> <td>1980             </td> <td>115.9           </td> <td>1980            </td>\n",
       "        </tr>\n",
       "        <tr>\n",
       "            <td>1996</td> <td>1    </td> <td>SCC (SIERRA CONSERVATION CENTER)</td> <td>322              </td> <td>0           </td> <td>322             </td> <td>320              </td> <td>100.6           </td> <td>320             </td>\n",
       "        </tr>\n",
       "        <tr>\n",
       "            <td>1996</td> <td>1    </td> <td>NCWF (NO CAL WOMEN'S FACIL)     </td> <td>786              </td> <td>4           </td> <td>790             </td> <td>400              </td> <td>197.5           </td> <td>760             </td>\n",
       "        </tr>\n",
       "        <tr>\n",
       "            <td>1996</td> <td>1    </td> <td>CCWF (CENTRAL CA WOMEN'S FAC)   </td> <td>2846             </td> <td>13          </td> <td>2859            </td> <td>2004             </td> <td>142.7           </td> <td>3224            </td>\n",
       "        </tr>\n",
       "        <tr>\n",
       "            <td>1996</td> <td>1    </td> <td>CRC (CAL REHAB CTR, WOMEN)      </td> <td>91               </td> <td>703         </td> <td>794             </td> <td>500              </td> <td>158.8           </td> <td>842             </td>\n",
       "        </tr>\n",
       "    </tbody>\n",
       "</table>\n",
       "<p>... (9496 rows omitted)</p>"
      ],
      "text/plain": [
       "<IPython.core.display.HTML object>"
      ]
     },
     "metadata": {},
     "output_type": "display_data"
    }
   ],
   "source": [
    "prisons = Table().read_table(\"data/monthly_cdcr.csv\").drop(0)\n",
    "prisons.sort('year').show(5)"
   ]
  },
  {
   "cell_type": "markdown",
   "metadata": {
    "tags": [
     "ignore"
    ]
   },
   "source": [
    "## **Data Cleaning** <a id='subsection2'> </a>\n",
    "\n",
    "The dataset is made up of prisons in California from the year 1996 to 2018. The counts in the data set were done monthly, meaning for each year we expect there to be at most 12 counts for each prison. Let's calculate the number of times we expect each prison to appear in a cell below."
   ]
  },
  {
   "cell_type": "code",
   "execution_count": 3,
   "metadata": {},
   "outputs": [
    {
     "data": {
      "text/plain": [
       "276"
      ]
     },
     "execution_count": 3,
     "metadata": {},
     "output_type": "execute_result"
    }
   ],
   "source": [
    "months = 12\n",
    "years = 2018 - 1996 + 1 # We add one to our calculation because we want to include 1996\n",
    "\n",
    "months * years"
   ]
  },
  {
   "cell_type": "markdown",
   "metadata": {
    "tags": [
     "ignore"
    ]
   },
   "source": [
    "We expect 276 rows for each prison. If we group by institution, we can see how many times each institution appears."
   ]
  },
  {
   "cell_type": "code",
   "execution_count": 4,
   "metadata": {
    "scrolled": true,
    "tags": [
     "ignore"
    ]
   },
   "outputs": [
    {
     "data": {
      "text/html": [
       "<table border=\"1\" class=\"dataframe\">\n",
       "    <thead>\n",
       "        <tr>\n",
       "            <th>institution_name</th> <th>count</th>\n",
       "        </tr>\n",
       "    </thead>\n",
       "    <tbody>\n",
       "        <tr>\n",
       "            <td>SCC (SIERRA CONSERVATION CENTER) </td> <td>392  </td>\n",
       "        </tr>\n",
       "        <tr>\n",
       "            <td>LAC (CA SP, LOS ANGELES COUNTY)  </td> <td>283  </td>\n",
       "        </tr>\n",
       "        <tr>\n",
       "            <td>VSP (VALLEY SP)                  </td> <td>279  </td>\n",
       "        </tr>\n",
       "        <tr>\n",
       "            <td>WSP (WASCO SP)                   </td> <td>276  </td>\n",
       "        </tr>\n",
       "        <tr>\n",
       "            <td>SQ (SAN QUENTIN SP)              </td> <td>276  </td>\n",
       "        </tr>\n",
       "        <tr>\n",
       "            <td>SOL (CA SP, SOLANO)              </td> <td>276  </td>\n",
       "        </tr>\n",
       "        <tr>\n",
       "            <td>SAC (CA SP, SACRAMENTO)          </td> <td>276  </td>\n",
       "        </tr>\n",
       "        <tr>\n",
       "            <td>RJD (RJ DONOVAN CORRECTIONAL FAC)</td> <td>276  </td>\n",
       "        </tr>\n",
       "        <tr>\n",
       "            <td>PVSP (PLEASANT VALLEY SP)        </td> <td>276  </td>\n",
       "        </tr>\n",
       "        <tr>\n",
       "            <td>PBSP (PELICAN BAY SP)            </td> <td>276  </td>\n",
       "        </tr>\n",
       "    </tbody>\n",
       "</table>\n",
       "<p>... (30 rows omitted)</p>"
      ],
      "text/plain": [
       "institution_name                  | count\n",
       "SCC (SIERRA CONSERVATION CENTER)  | 392\n",
       "LAC (CA SP, LOS ANGELES COUNTY)   | 283\n",
       "VSP (VALLEY SP)                   | 279\n",
       "WSP (WASCO SP)                    | 276\n",
       "SQ (SAN QUENTIN SP)               | 276\n",
       "SOL (CA SP, SOLANO)               | 276\n",
       "SAC (CA SP, SACRAMENTO)           | 276\n",
       "RJD (RJ DONOVAN CORRECTIONAL FAC) | 276\n",
       "PVSP (PLEASANT VALLEY SP)         | 276\n",
       "PBSP (PELICAN BAY SP)             | 276\n",
       "... (30 rows omitted)"
      ]
     },
     "execution_count": 4,
     "metadata": {},
     "output_type": "execute_result"
    }
   ],
   "source": [
    "# We choose to have the counts in descending order in the following example:\n",
    "prisons.group(\"institution_name\").sort(\"count\", descending = True)"
   ]
  },
  {
   "cell_type": "markdown",
   "metadata": {
    "tags": [
     "include"
    ]
   },
   "source": [
    "<div class=\"alert alert-warning\">\n",
    "<b>Question 1:</b> What do you notice from this table?\n",
    "   </div>"
   ]
  },
  {
   "cell_type": "markdown",
   "metadata": {
    "tags": [
     "include"
    ]
   },
   "source": [
    "Some of the rows have more than 276 cases, and there are many with fewer than 276 cases. The ones with fewer cases may be the result of missing data. The ones with more cases make less sense. Why would a prison record its population multiple ways in the same month."
   ]
  },
  {
   "cell_type": "markdown",
   "metadata": {
    "tags": [
     "ignore"
    ]
   },
   "source": [
    "### **Multiple Entries**\n",
    "\n",
    "If a prison has more than 276 rows, then it recorded multiple entries per month. Why would a prison need to do this? This happens for:\n",
    "- Valley State Prison (VSP)\n",
    "- Sierra Conservation Center (SCC)\n",
    "- Los Angeles County State Prison (LAC)"
   ]
  },
  {
   "cell_type": "markdown",
   "metadata": {
    "tags": [
     "ignore"
    ]
   },
   "source": [
    "#### Valley State Prison\n",
    "\n",
    "From outside research, we discovered that Valley State Prison changed from a female prison to a male prison in 2012 -- October of 2012 to be exact. However, all rows are labeled as a male institution. We relabeled the cases, so we would have male and female separated. "
   ]
  },
  {
   "cell_type": "code",
   "execution_count": 5,
   "metadata": {},
   "outputs": [
    {
     "data": {
      "text/html": [
       "<table border=\"1\" class=\"dataframe\">\n",
       "    <thead>\n",
       "        <tr>\n",
       "            <th>Unnamed: 0</th> <th>year</th> <th>month</th> <th>institution_name</th> <th>population_felons</th> <th>civil_addict</th> <th>total_population</th> <th>designed_capacity</th> <th>percent_occupied</th> <th>staffed_capacity</th>\n",
       "        </tr>\n",
       "    </thead>\n",
       "    <tbody>\n",
       "        <tr>\n",
       "            <td>0         </td> <td>1996</td> <td>1    </td> <td>VALLEY SP (FEMALE)</td> <td>2294             </td> <td>0           </td> <td>2294            </td> <td>1980             </td> <td>115.9           </td> <td>1980            </td>\n",
       "        </tr>\n",
       "        <tr>\n",
       "            <td>34        </td> <td>1996</td> <td>2    </td> <td>VALLEY SP (FEMALE)</td> <td>2096             </td> <td>0           </td> <td>2096            </td> <td>1980             </td> <td>105.9           </td> <td>2184            </td>\n",
       "        </tr>\n",
       "        <tr>\n",
       "            <td>68        </td> <td>1996</td> <td>3    </td> <td>VALLEY SP (FEMALE)</td> <td>2326             </td> <td>7           </td> <td>2333            </td> <td>2380             </td> <td>98              </td> <td>2584            </td>\n",
       "        </tr>\n",
       "        <tr>\n",
       "            <td>102       </td> <td>1996</td> <td>4    </td> <td>VALLEY SP (FEMALE)</td> <td>2498             </td> <td>13          </td> <td>2511            </td> <td>2380             </td> <td>105.5           </td> <td>2584            </td>\n",
       "        </tr>\n",
       "        <tr>\n",
       "            <td>136       </td> <td>1996</td> <td>5    </td> <td>VALLEY SP (FEMALE)</td> <td>2562             </td> <td>9           </td> <td>2571            </td> <td>2380             </td> <td>108             </td> <td>2584            </td>\n",
       "        </tr>\n",
       "    </tbody>\n",
       "</table>\n",
       "<p>... (274 rows omitted)</p>"
      ],
      "text/plain": [
       "<IPython.core.display.HTML object>"
      ]
     },
     "metadata": {},
     "output_type": "display_data"
    }
   ],
   "source": [
    "prisons_1 = Table().read_table(\"data/prisons3.csv\")\n",
    "prisons_1.where('institution_name', are.containing(\"VALLEY SP (\")).show(5)"
   ]
  },
  {
   "cell_type": "markdown",
   "metadata": {},
   "source": [
    "<div class=\"alert alert-warning\">\n",
    "<b>Question 2:</b> What does this transition mean for people who were incarcerated at Valley State? What would happen to them?\n",
    "   </div>"
   ]
  },
  {
   "cell_type": "markdown",
   "metadata": {},
   "source": [
    "The closure of the Valley State for females moved these women large distances. They were forced into another female serving institution which would have furthered the crowding issue for them even if it may have opened space for men."
   ]
  },
  {
   "cell_type": "markdown",
   "metadata": {},
   "source": [
    "### Designed Capacity of California's Prisons Over Time <a id='subsection3'> </a>\n",
    "The designed capacity of an institution is based on the number of people each room is able to hold given the constraints of a building's size."
   ]
  },
  {
   "cell_type": "code",
   "execution_count": 16,
   "metadata": {
    "tags": [
     "ignore"
    ]
   },
   "outputs": [
    {
     "data": {
      "text/html": [
       "<table border=\"1\" class=\"dataframe\">\n",
       "    <thead>\n",
       "        <tr>\n",
       "            <th>year</th> <th>month</th> <th>institution_name</th> <th>designed_capacity</th> <th>total_population</th>\n",
       "        </tr>\n",
       "    </thead>\n",
       "    <tbody>\n",
       "        <tr>\n",
       "            <td>1996</td> <td>1    </td> <td>NCWF (NO CAL WOMEN'S FACIL)  </td> <td>400              </td> <td>790             </td>\n",
       "        </tr>\n",
       "        <tr>\n",
       "            <td>1996</td> <td>1    </td> <td>CCWF (CENTRAL CA WOMEN'S FAC)</td> <td>2004             </td> <td>2859            </td>\n",
       "        </tr>\n",
       "        <tr>\n",
       "            <td>1996</td> <td>1    </td> <td>CRC (CAL REHAB CTR, WOMEN)   </td> <td>500              </td> <td>794             </td>\n",
       "        </tr>\n",
       "    </tbody>\n",
       "</table>\n",
       "<p>... (9498 rows omitted)</p>"
      ],
      "text/plain": [
       "<IPython.core.display.HTML object>"
      ]
     },
     "metadata": {},
     "output_type": "display_data"
    }
   ],
   "source": [
    "year_and_design_capacity = prisons_1.select(\n",
    "    \"year\", \"month\",\"institution_name\",'designed_capacity', \"total_population\")\n",
    "year_and_design_capacity.show(3)"
   ]
  },
  {
   "cell_type": "markdown",
   "metadata": {},
   "source": [
    "Each row represents an institution at a certain month. To show the changes across years, we need have one. number to represent each institution per year. Instead of 12 (months) rows of data, it will be 1 row for a year. We do this by grouping by both the year and institution and the average of the rest of the years."
   ]
  },
  {
   "cell_type": "code",
   "execution_count": 23,
   "metadata": {},
   "outputs": [
    {
     "data": {
      "text/html": [
       "<table border=\"1\" class=\"dataframe\">\n",
       "    <thead>\n",
       "        <tr>\n",
       "            <th>year</th> <th>institution_name</th> <th>month average</th> <th>designed_capacity</th> <th>total_population</th>\n",
       "        </tr>\n",
       "    </thead>\n",
       "    <tbody>\n",
       "        <tr>\n",
       "            <td>1996</td> <td>ASP (AVENAL SP)                  </td> <td>6.5          </td> <td>2320             </td> <td>5741.33         </td>\n",
       "        </tr>\n",
       "        <tr>\n",
       "            <td>1996</td> <td>CAL (CALIPATRIA SP)              </td> <td>6.5          </td> <td>2208             </td> <td>3921.5          </td>\n",
       "        </tr>\n",
       "        <tr>\n",
       "            <td>1996</td> <td>CCC (CA CORRECTIONAL CENTER)     </td> <td>6.5          </td> <td>3682             </td> <td>5865.83         </td>\n",
       "        </tr>\n",
       "        <tr>\n",
       "            <td>1996</td> <td>CCI (CA CORRECTIONAL INSTITUTION)</td> <td>6.5          </td> <td>2771             </td> <td>5856.5          </td>\n",
       "        </tr>\n",
       "        <tr>\n",
       "            <td>1996</td> <td>CCWF (CENTRAL CA WOMEN'S FAC)    </td> <td>6.5          </td> <td>2004             </td> <td>3129.67         </td>\n",
       "        </tr>\n",
       "        <tr>\n",
       "            <td>1996</td> <td>CEN (CENTINELA SP)               </td> <td>6.5          </td> <td>2124.67          </td> <td>4352.58         </td>\n",
       "        </tr>\n",
       "        <tr>\n",
       "            <td>1996</td> <td>CIM (CA INSTITUTION FOR MEN)     </td> <td>6.5          </td> <td>2778             </td> <td>5854.33         </td>\n",
       "        </tr>\n",
       "        <tr>\n",
       "            <td>1996</td> <td>CIW (CA INSTITUTION FOR WOMEN)   </td> <td>6.5          </td> <td>1026             </td> <td>1696.58         </td>\n",
       "        </tr>\n",
       "        <tr>\n",
       "            <td>1996</td> <td>CMC (CA MEN'S COLONY)            </td> <td>6.5          </td> <td>3884             </td> <td>6389.83         </td>\n",
       "        </tr>\n",
       "        <tr>\n",
       "            <td>1996</td> <td>CMF (CA MEDICAL FAC)             </td> <td>6.5          </td> <td>2323.33          </td> <td>3126.17         </td>\n",
       "        </tr>\n",
       "    </tbody>\n",
       "</table>\n",
       "<p>... (789 rows omitted)</p>"
      ],
      "text/plain": [
       "year | institution_name                  | month average | designed_capacity | total_population\n",
       "1996 | ASP (AVENAL SP)                   | 6.5           | 2320              | 5741.33\n",
       "1996 | CAL (CALIPATRIA SP)               | 6.5           | 2208              | 3921.5\n",
       "1996 | CCC (CA CORRECTIONAL CENTER)      | 6.5           | 3682              | 5865.83\n",
       "1996 | CCI (CA CORRECTIONAL INSTITUTION) | 6.5           | 2771              | 5856.5\n",
       "1996 | CCWF (CENTRAL CA WOMEN'S FAC)     | 6.5           | 2004              | 3129.67\n",
       "1996 | CEN (CENTINELA SP)                | 6.5           | 2124.67           | 4352.58\n",
       "1996 | CIM (CA INSTITUTION FOR MEN)      | 6.5           | 2778              | 5854.33\n",
       "1996 | CIW (CA INSTITUTION FOR WOMEN)    | 6.5           | 1026              | 1696.58\n",
       "1996 | CMC (CA MEN'S COLONY)             | 6.5           | 3884              | 6389.83\n",
       "1996 | CMF (CA MEDICAL FAC)              | 6.5           | 2323.33           | 3126.17\n",
       "... (789 rows omitted)"
      ]
     },
     "execution_count": 23,
     "metadata": {},
     "output_type": "execute_result"
    }
   ],
   "source": [
    "correct_table = year_and_design_capacity.group([\"year\",\"institution_name\"], np.average)\n",
    "correct_table = correct_table.relabeled(\"designed_capacity average\", \"designed_capacity\")\n",
    "correct_table = correct_table.relabeled(\"total_population average\", \"total_population\")\n",
    "correct_table"
   ]
  },
  {
   "cell_type": "markdown",
   "metadata": {},
   "source": [
    "Now, if we group by year and sum the other columns, the sums will represent the total across all institutions in a given year."
   ]
  },
  {
   "cell_type": "code",
   "execution_count": 8,
   "metadata": {},
   "outputs": [
    {
     "data": {
      "text/html": [
       "<table border=\"1\" class=\"dataframe\">\n",
       "    <thead>\n",
       "        <tr>\n",
       "            <th>year</th> <th>designed_capacity sum</th>\n",
       "        </tr>\n",
       "    </thead>\n",
       "    <tbody>\n",
       "        <tr>\n",
       "            <td>1996</td> <td>73270.1              </td>\n",
       "        </tr>\n",
       "        <tr>\n",
       "            <td>1997</td> <td>76191.4              </td>\n",
       "        </tr>\n",
       "        <tr>\n",
       "            <td>1998</td> <td>79728.3              </td>\n",
       "        </tr>\n",
       "    </tbody>\n",
       "</table>\n",
       "<p>... (20 rows omitted)</p>"
      ],
      "text/plain": [
       "<IPython.core.display.HTML object>"
      ]
     },
     "metadata": {},
     "output_type": "display_data"
    }
   ],
   "source": [
    "design_capacity_ca = correct_table.select(\"designed_capacity\", \"year\").group(\"year\", sum)\n",
    "design_capacity_ca.show(3)"
   ]
  },
  {
   "cell_type": "markdown",
   "metadata": {
    "tags": [
     "ignore"
    ]
   },
   "source": [
    "### Exploratory Data Analysis\n",
    "Although it is possible to compare the values for designed capacity year by year and try to notice a pattern, often times it is more useful to visually inspect the information as it might reveal useful insights and provide a context for the data we are looking at.\n",
    "\n",
    "Below we drew a line plot to reflect the changes in design capacity of California's state prisons over time.\n",
    "We will focus on some years that mark important shifts as a result of realignment.\n",
    "\n",
    "<div class=\"alert alert-warning\">\n",
    "<b>Question 3:</b> Fill in the code to create the line plot. Using the `designed_capacity sum` and `year` columns.\n",
    "   </div>"
   ]
  },
  {
   "cell_type": "code",
   "execution_count": 44,
   "metadata": {
    "tags": [
     "include"
    ]
   },
   "outputs": [
    {
     "data": {
      "image/png": "[encoded data removed]",
      "text/plain": [
       "<Figure size 432x288 with 1 Axes>"
      ]
     },
     "metadata": {},
     "output_type": "display_data"
    }
   ],
   "source": [
    "# Assign the year 2011 as the x-coordinate\n",
    "x_coordinate_2011 = 2011\n",
    "\n",
    "# Assign the designed capacity sum in the year 2011 as the y-coordinate\n",
    "y_coordinate_2011 = design_capacity_ca.where(\"year\", 2011).column(\"designed_capacity sum\")\n",
    "\n",
    "\n",
    "\n",
    "\n",
    "### ADD YOUR CODE BELOW ###\n",
    "design_capacity_ca.plot(\"year\", \"designed_capacity sum\")\n",
    "\n",
    "\n",
    "\n",
    "\n",
    "# Plot a single x,y coordinate\n",
    "plt.title(\"Design Capacity over time\")\n",
    "plt.plot(x_coordinate_2011, y_coordinate_2011, 'ro'); "
   ]
  },
  {
   "cell_type": "markdown",
   "metadata": {
    "tags": [
     "include"
    ]
   },
   "source": [
    "<div class=\"alert alert-warning\">\n",
    "<b>Question 4:</b> In looking at the graph produced, how does it reflect the systematic changes in California's potential prison population?\n",
    "   </div>"
   ]
  },
  {
   "cell_type": "markdown",
   "metadata": {
    "tags": [
     "include"
    ]
   },
   "source": [
    "Prisons are designed to hold more people over time. The number of people they are able to hold has grown in the last 20 years by over 20,000 spots. This may also relate to the increase in incarceration rates given that they are adding spots, so they may be filled."
   ]
  },
  {
   "cell_type": "markdown",
   "metadata": {
    "tags": [
     "ignore"
    ]
   },
   "source": [
    "### Total Population in California's Prisons Over Time\n",
    "Let's explore the change in the number of people California's prisons are designed to hold given the total number of people held at a location."
   ]
  },
  {
   "cell_type": "code",
   "execution_count": 25,
   "metadata": {},
   "outputs": [
    {
     "data": {
      "text/html": [
       "<table border=\"1\" class=\"dataframe\">\n",
       "    <thead>\n",
       "        <tr>\n",
       "            <th>year</th> <th>total_population</th> <th>designed_capacity</th>\n",
       "        </tr>\n",
       "    </thead>\n",
       "    <tbody>\n",
       "        <tr>\n",
       "            <td>1996</td> <td>5741.33         </td> <td>2320             </td>\n",
       "        </tr>\n",
       "        <tr>\n",
       "            <td>1996</td> <td>3921.5          </td> <td>2208             </td>\n",
       "        </tr>\n",
       "        <tr>\n",
       "            <td>1996</td> <td>5865.83         </td> <td>3682             </td>\n",
       "        </tr>\n",
       "        <tr>\n",
       "            <td>1996</td> <td>5856.5          </td> <td>2771             </td>\n",
       "        </tr>\n",
       "        <tr>\n",
       "            <td>1996</td> <td>3129.67         </td> <td>2004             </td>\n",
       "        </tr>\n",
       "    </tbody>\n",
       "</table>\n",
       "<p>... (794 rows omitted)</p>"
      ],
      "text/plain": [
       "<IPython.core.display.HTML object>"
      ]
     },
     "metadata": {},
     "output_type": "display_data"
    }
   ],
   "source": [
    "total_pop_and_design = correct_table.select(\"year\", \"total_population\", \"designed_capacity\")\n",
    "total_pop_and_design.show(5)"
   ]
  },
  {
   "cell_type": "markdown",
   "metadata": {
    "tags": [
     "ignore"
    ]
   },
   "source": [
    "Similar to our last investigation, we will want to group by year and sum both `total_population` and `designed_capacity` for all prisons given a year."
   ]
  },
  {
   "cell_type": "code",
   "execution_count": 34,
   "metadata": {},
   "outputs": [
    {
     "data": {
      "text/html": [
       "<table border=\"1\" class=\"dataframe\">\n",
       "    <thead>\n",
       "        <tr>\n",
       "            <th>year</th> <th>total_population sum</th> <th>designed_capacity sum</th>\n",
       "        </tr>\n",
       "    </thead>\n",
       "    <tbody>\n",
       "        <tr>\n",
       "            <td>1996</td> <td>136560              </td> <td>73270.1              </td>\n",
       "        </tr>\n",
       "        <tr>\n",
       "            <td>1997</td> <td>145813              </td> <td>76191.4              </td>\n",
       "        </tr>\n",
       "        <tr>\n",
       "            <td>1998</td> <td>149012              </td> <td>79728.3              </td>\n",
       "        </tr>\n",
       "        <tr>\n",
       "            <td>1999</td> <td>151502              </td> <td>79906.8              </td>\n",
       "        </tr>\n",
       "        <tr>\n",
       "            <td>2000</td> <td>151710              </td> <td>80476.8              </td>\n",
       "        </tr>\n",
       "    </tbody>\n",
       "</table>\n",
       "<p>... (18 rows omitted)</p>"
      ],
      "text/plain": [
       "<IPython.core.display.HTML object>"
      ]
     },
     "metadata": {},
     "output_type": "display_data"
    }
   ],
   "source": [
    "sum_total_and_design = total_pop_and_design.group(\"year\", sum)\n",
    "sum_total_and_design.show(5)"
   ]
  },
  {
   "cell_type": "markdown",
   "metadata": {},
   "source": [
    "Given this table, we can find the percent full of these institutions. We use designed capacity as a measure of how many people may be incarcerated in these institutions.\n",
    "$$\\text{Percent full in a given year} = 100* \\dfrac{\\text{Number of people incarcerated that year}}{\\text{Number of Spaces Avaiable that year}}$$ \n",
    "\n",
    "<div class=\"alert alert-warning\">\n",
    "<b>Question 5:</b> Fill in the blanks so that the code below calculated the percent at which prisons are full.\n",
    "   </div>"
   ]
  },
  {
   "cell_type": "code",
   "execution_count": 35,
   "metadata": {},
   "outputs": [
    {
     "data": {
      "text/plain": [
       "array([ 186.37841047,  191.37693769,  186.89947112,  189.59797931,\n",
       "        188.51397039,  186.46297264,  186.17592316,  188.46925189,\n",
       "        192.63564133,  188.23487355,  188.68038516,  195.18931861,\n",
       "        190.30095205,  183.33858419,  178.71894604,  173.23535445,\n",
       "        150.10181973,  143.84562537,  138.83530151,  132.72696534,\n",
       "        131.7232109 ,  132.02795138,  131.94811151])"
      ]
     },
     "execution_count": 35,
     "metadata": {},
     "output_type": "execute_result"
    }
   ],
   "source": [
    "total_population = sum_total_and_design.column(\"total_population sum\") \n",
    "designed_sum = sum_total_and_design.column(\"designed_capacity sum\")\n",
    "\n",
    "capacity_percentage = 100 * (total_population / designed_sum)\n",
    "capacity_percentage"
   ]
  },
  {
   "cell_type": "markdown",
   "metadata": {
    "tags": [
     "ignore"
    ]
   },
   "source": [
    "To plot these percentages, we have to add a new column to the table. Let's call this column \"Design Percent\"."
   ]
  },
  {
   "cell_type": "code",
   "execution_count": 37,
   "metadata": {},
   "outputs": [
    {
     "data": {
      "text/html": [
       "<table border=\"1\" class=\"dataframe\">\n",
       "    <thead>\n",
       "        <tr>\n",
       "            <th>year</th> <th>total_population sum</th> <th>designed_capacity sum</th> <th>Design Percent</th>\n",
       "        </tr>\n",
       "    </thead>\n",
       "    <tbody>\n",
       "        <tr>\n",
       "            <td>1996</td> <td>136560              </td> <td>73270.1              </td> <td>186.378       </td>\n",
       "        </tr>\n",
       "        <tr>\n",
       "            <td>1997</td> <td>145813              </td> <td>76191.4              </td> <td>191.377       </td>\n",
       "        </tr>\n",
       "        <tr>\n",
       "            <td>1998</td> <td>149012              </td> <td>79728.3              </td> <td>186.899       </td>\n",
       "        </tr>\n",
       "    </tbody>\n",
       "</table>\n",
       "<p>... (20 rows omitted)</p>"
      ],
      "text/plain": [
       "<IPython.core.display.HTML object>"
      ]
     },
     "metadata": {},
     "output_type": "display_data"
    }
   ],
   "source": [
    "# Use .with_column() to add a new column with the percentages calculated above!\n",
    "total_and_design_and_percentages_table = sum_total_and_design.with_column(\"Design Percent\", capacity_percentage)\n",
    "total_and_design_and_percentages_table.show(3)"
   ]
  },
  {
   "cell_type": "markdown",
   "metadata": {
    "tags": [
     "ignore"
    ]
   },
   "source": [
    "<div class=\"alert alert-warning\">\n",
    "<b>Question 6:</b> Draw a line plot to reflect the trend in overcrowding in California state prisons over time. \n",
    "   </div>"
   ]
  },
  {
   "cell_type": "code",
   "execution_count": 41,
   "metadata": {
    "scrolled": true,
    "tags": [
     "include"
    ]
   },
   "outputs": [
    {
     "data": {
      "image/png": "[encoded data removed]",
      "text/plain": [
       "<Figure size 432x288 with 1 Axes>"
      ]
     },
     "metadata": {},
     "output_type": "display_data"
    }
   ],
   "source": [
    "total_and_design_and_percentages_table.plot(\"year\", \"Design Percent\")\n",
    "\n",
    "plt.ylabel(\"Design Percent Occupied (%)\")\n",
    "plt.title(\"Overcrowding According to Designed Capacity\");"
   ]
  },
  {
   "cell_type": "markdown",
   "metadata": {
    "tags": [
     "include"
    ]
   },
   "source": [
    "<div class=\"alert alert-warning\">\n",
    "<b>Question 7:</b> What do you notice about this trend over time?\n",
    "   </div>"
   ]
  },
  {
   "cell_type": "markdown",
   "metadata": {
    "tags": [
     "include"
    ]
   },
   "source": [
    "The percentage full is way over 100%. It is nearly at 200% for a large part of the time. There has been a decrease in the percentage full, but it is still more than 100% full."
   ]
  },
  {
   "cell_type": "code",
   "execution_count": 42,
   "metadata": {
    "scrolled": false
   },
   "outputs": [
    {
     "data": {
      "image/png": "[encoded data removed]",
      "text/plain": [
       "<Figure size 432x288 with 1 Axes>"
      ]
     },
     "metadata": {},
     "output_type": "display_data"
    }
   ],
   "source": [
    "total_and_design_and_percentages_table.plot(\"year\", \"Design Percent\")\n",
    "\n",
    "plt.xlabel(\"Year\")\n",
    "plt.ylabel(\"Design Percent Occupied (%)\")\n",
    "plt.title(\"Overcrowding According to Designed Capacity\")\n",
    "plt.ylim(0, 210);"
   ]
  },
  {
   "cell_type": "markdown",
   "metadata": {
    "tags": [
     "include"
    ]
   },
   "source": [
    "<div class=\"alert alert-warning\">\n",
    "<b>Question 8:</b> How does the scale influence the trend?\n",
    "   </div>"
   ]
  },
  {
   "cell_type": "markdown",
   "metadata": {
    "tags": [
     "include"
    ]
   },
   "source": [
    "The curve does not seem to be decreasing as dramatically as the above plot. It seems to be only slightly lower."
   ]
  }
 ],
 "metadata": {
  "kernelspec": {
   "display_name": "Python 3",
   "language": "python",
   "name": "python3"
  },
  "language_info": {
   "codemirror_mode": {
    "name": "ipython",
    "version": 3
   },
   "file_extension": ".py",
   "mimetype": "text/x-python",
   "name": "python",
   "nbconvert_exporter": "python",
   "pygments_lexer": "ipython3",
   "version": "3.6.8"
  }
 },
 "nbformat": 4,
 "nbformat_minor": 2
}
