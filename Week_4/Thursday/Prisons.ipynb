{
 "cells": [
  {
   "cell_type": "markdown",
   "metadata": {
    "tags": [
     "include"
    ]
   },
   "source": [
    "# Analyzing California State Prisons with Professor Victoria Robinson \n",
    "***\n",
    "### Table of Contents\n",
    "\n",
    "[CONTEXT](#sectioncontext)<br>\n",
    "\n",
    "1. [PRISON DATA](#subsection1)<br> \n",
    "2. [DATA CLEANING](#subsection2)<br>\n",
    "\n",
    "##### Exploratory Data Analysis\n",
    "3. [DESIGNED CAPACITY](#subsection3)<br>\n",
    "4. [TOTAL POPULATION](#subsection4)<br>"
   ]
  },
  {
   "cell_type": "code",
   "execution_count": null,
   "metadata": {
    "collapsed": true
   },
   "outputs": [],
   "source": [
    "from datascience import * \n",
    "import numpy as np \n",
    "\n",
    "import matplotlib  \n",
    "%matplotlib inline\n",
    "import matplotlib.pyplot as plt\n",
    "plt.style.use('fivethirtyeight') "
   ]
  },
  {
   "cell_type": "markdown",
   "metadata": {
    "tags": [
     "ignore"
    ]
   },
   "source": [
    "## Context<a id='sectioncontext'></a>\n",
    "---\n",
    "Prison and county jail are overcrowded, and we will explore how people are moved between the two institutions.\n",
    "\n",
    "The key difference between state prisons and jails involve the process of sentencing. Prisons are designed for long term sentences, while jails are for those who are unsentenced or have short term sentences. It is important to note that short-term sentences are generally one year or less. Another difference is that prisons are larger and controlled at the state level. In contrast, jails are smaller and handled by a city or county."
   ]
  },
  {
   "cell_type": "markdown",
   "metadata": {
    "tags": [
     "ignore"
    ]
   },
   "source": [
    "## **Prisons Data** <a id='subsection1'> </a>\n",
    "The CDCR (California Department of Corrections and Rehabilitation) reports the number of people in state prisons across California. If you are interested in learning more please visit: [CDCR data and infromation](https://github.com/nrjones8/cdcr-population-data)\n",
    "\n",
    "|Column Name   | Description |\n",
    "|--------------|---------|\n",
    "|year |Year that the data was collected  |\n",
    "|month | Month that the data was collected |\n",
    "|institution_name |  Abbreviated Name of the State Prison|\n",
    "|population_felons | People imprisoned for committing felony (serious or violent crime) |\n",
    "|civil_addict | People imprisoned for drug related offenses |\n",
    "|total_population | Sum of civil addict and population felons columns|\n",
    "|designed_capacity | Max number of people the prison was built to hold|\n",
    "|percent_occupied | Percentage of people incarcerated out of designed capacity|\n",
    "|staffed_capacity | Max number of people the prison can hold based on the number of people employed|"
   ]
  },
  {
   "cell_type": "code",
   "execution_count": null,
   "metadata": {},
   "outputs": [],
   "source": [
    "prisons = Table().read_table(\"data/monthly_cdcr.csv\").drop(0)\n",
    "prisons.sort('year').show(5)"
   ]
  },
  {
   "cell_type": "markdown",
   "metadata": {
    "tags": [
     "ignore"
    ]
   },
   "source": [
    "## **Data Cleaning** <a id='subsection2'> </a>\n",
    "\n",
    "The dataset is made up of prisons in California from the year 1996 to 2018. The counts in the data set were done monthly, meaning for each year we expect there to be at most 12 counts for each prison. Let's calculate the number of times we expect each prison to appear in a cell below."
   ]
  },
  {
   "cell_type": "code",
   "execution_count": null,
   "metadata": {},
   "outputs": [],
   "source": [
    "months = 12\n",
    "years = 2018 - 1996 + 1 # We add one to our calculation because we want to include 1996\n",
    "\n",
    "months * years"
   ]
  },
  {
   "cell_type": "markdown",
   "metadata": {
    "tags": [
     "ignore"
    ]
   },
   "source": [
    "We expect 276 rows for each prison. If we group by institution, we can see how many times each institution appears."
   ]
  },
  {
   "cell_type": "code",
   "execution_count": null,
   "metadata": {
    "scrolled": true,
    "tags": [
     "ignore"
    ]
   },
   "outputs": [],
   "source": [
    "# We choose to have the counts in descending order in the following example:\n",
    "prisons.group(\"institution_name\").sort(\"count\", descending = True)"
   ]
  },
  {
   "cell_type": "markdown",
   "metadata": {
    "tags": [
     "include"
    ]
   },
   "source": [
    "<div class=\"alert alert-warning\">\n",
    "<b>Question 1:</b> What do you notice from this table?\n",
    "   </div>"
   ]
  },
  {
   "cell_type": "markdown",
   "metadata": {
    "tags": [
     "include"
    ]
   },
   "source": [
    "*INSERT ANSWER HERE*"
   ]
  },
  {
   "cell_type": "markdown",
   "metadata": {
    "tags": [
     "ignore"
    ]
   },
   "source": [
    "### **Multiple Entries**\n",
    "\n",
    "If a prison has more than 276 rows, then it recorded multiple entries per month. Why would a prison need to do this? This happens for:\n",
    "- Valley State Prison (VSP)\n",
    "- Sierra Conservation Center (SCC)\n",
    "- Los Angeles County State Prison (LAC)"
   ]
  },
  {
   "cell_type": "markdown",
   "metadata": {
    "tags": [
     "ignore"
    ]
   },
   "source": [
    "#### Valley State Prison\n",
    "\n",
    "From outside research, we discovered that Valley State Prison changed from a female prison to a male prison in 2012 -- October of 2012 to be exact. However, all rows are labeled as a male institution. We relabeled the cases, so we would have male and female separated. "
   ]
  },
  {
   "cell_type": "code",
   "execution_count": null,
   "metadata": {},
   "outputs": [],
   "source": [
    "prisons_1 = Table().read_table(\"data/prisons3.csv\")\n",
    "prisons_1.where('institution_name', are.containing(\"VALLEY SP (\")).show(5)"
   ]
  },
  {
   "cell_type": "markdown",
   "metadata": {},
   "source": [
    "<div class=\"alert alert-warning\">\n",
    "<b>Question 2:</b> What does this transition mean for people who were incarcerated at Valley State? What would happen to them?\n",
    "   </div>"
   ]
  },
  {
   "cell_type": "markdown",
   "metadata": {},
   "source": [
    "*INSERT ANSWER HERE*"
   ]
  },
  {
   "cell_type": "markdown",
   "metadata": {},
   "source": [
    "### Designed Capacity of California's Prisons Over Time <a id='subsection3'> </a>\n",
    "The designed capacity of an institution is based on the number of people each room is able to hold given the constraints of a building's size."
   ]
  },
  {
   "cell_type": "code",
   "execution_count": null,
   "metadata": {
    "tags": [
     "ignore"
    ]
   },
   "outputs": [],
   "source": [
    "year_and_design_capacity = prisons_1.select(\n",
    "    \"year\", \"month\",\"institution_name\",'designed_capacity', \"total_population\")\n",
    "year_and_design_capacity.show(3)"
   ]
  },
  {
   "cell_type": "markdown",
   "metadata": {},
   "source": [
    "Each row represents an institution at a certain month. To show the changes across years, we need have one. number to represent each institution per year. Instead of 12 (months) rows of data, it will be 1 row for a year. We do this by grouping by both the year and institution and the average of the rest of the years."
   ]
  },
  {
   "cell_type": "code",
   "execution_count": null,
   "metadata": {},
   "outputs": [],
   "source": [
    "correct_table = year_and_design_capacity.group([\"year\",\"institution_name\"], np.average)\n",
    "correct_table = correct_table.relabeled(\"designed_capacity average\", \"designed_capacity\")\n",
    "correct_table = correct_table.relabeled(\"total_population average\", \"total_population\")\n",
    "correct_table"
   ]
  },
  {
   "cell_type": "markdown",
   "metadata": {},
   "source": [
    "Now, if we group by year and sum the other columns, the sums will represent the total across all institutions in a given year."
   ]
  },
  {
   "cell_type": "code",
   "execution_count": null,
   "metadata": {},
   "outputs": [],
   "source": [
    "design_capacity_ca = correct_table.select(\"designed_capacity\", \"year\").group(\"year\", sum)\n",
    "design_capacity_ca.show(3)"
   ]
  },
  {
   "cell_type": "markdown",
   "metadata": {
    "tags": [
     "ignore"
    ]
   },
   "source": [
    "Although it is possible to compare the values for designed capacity year by year and try to notice a pattern, often times it is more useful to visually inspect the information as it might reveal useful insights and provide a context for the data we are looking at.\n",
    "\n",
    "Below we drew a line plot to reflect the changes in design capacity of California's state prisons over time.\n",
    "We will focus on some years that mark important shifts as a result of realignment.\n",
    "\n",
    "<div class=\"alert alert-warning\">\n",
    "<b>Question 3:</b> Fill in the code to create the line plot. Using the `designed_capacity sum` and `year` columns.\n",
    "   </div>"
   ]
  },
  {
   "cell_type": "code",
   "execution_count": null,
   "metadata": {
    "tags": [
     "include"
    ]
   },
   "outputs": [],
   "source": [
    "# Assign the year 2011 as the x-coordinate\n",
    "x_coordinate_2011 = 2011\n",
    "\n",
    "# Assign the designed capacity sum in the year 2011 as the y-coordinate\n",
    "y_coordinate_2011 = design_capacity_ca.where(\"year\", 2011).column(\"designed_capacity sum\")\n",
    "\n",
    "\n",
    "\n",
    "\n",
    "### ADD YOUR CODE BELOW ###\n",
    "design_capacity_ca.plot(..., ...)\n",
    "\n",
    "\n",
    "\n",
    "\n",
    "# Plot a single x,y coordinate\n",
    "plt.title(\"Design Capacity over time\")\n",
    "plt.plot(x_coordinate_2011, y_coordinate_2011, 'ro'); "
   ]
  },
  {
   "cell_type": "markdown",
   "metadata": {
    "tags": [
     "include"
    ]
   },
   "source": [
    "<div class=\"alert alert-warning\">\n",
    "<b>Question 4:</b> In looking at the graph produced, how does it reflect the systematic changes in California's potential prison population?\n",
    "   </div>"
   ]
  },
  {
   "cell_type": "markdown",
   "metadata": {
    "tags": [
     "include"
    ]
   },
   "source": [
    "*INSERT ANSWER HERE*"
   ]
  },
  {
   "cell_type": "markdown",
   "metadata": {
    "tags": [
     "ignore"
    ]
   },
   "source": [
    "### Total Population in California's Prisons Over Time <a id='subsection4'> </a>\n",
    "Let's explore the change in the number of people California's prisons are designed to hold given the total number of people held at a location."
   ]
  },
  {
   "cell_type": "code",
   "execution_count": null,
   "metadata": {},
   "outputs": [],
   "source": [
    "total_pop_and_design = correct_table.select(\"year\", \"total_population\", \"designed_capacity\")\n",
    "total_pop_and_design.show(5)"
   ]
  },
  {
   "cell_type": "markdown",
   "metadata": {
    "tags": [
     "ignore"
    ]
   },
   "source": [
    "Similar to our last investigation, we will want to group by year and sum both `total_population` and `designed_capacity` for all prisons given a year."
   ]
  },
  {
   "cell_type": "code",
   "execution_count": null,
   "metadata": {},
   "outputs": [],
   "source": [
    "sum_total_and_design = total_pop_and_design.group(\"year\", sum)\n",
    "sum_total_and_design.show(5)"
   ]
  },
  {
   "cell_type": "markdown",
   "metadata": {},
   "source": [
    "Given this table, we can find the percent full of these institutions. We use designed capacity as a measure of how many people may be incarcerated in these institutions.\n",
    "$$\\text{Percent full in a given year} = 100* \\dfrac{\\text{Number of people incarcerated that year}}{\\text{Number of Spaces Avaiable that year}}$$ \n",
    "\n",
    "<div class=\"alert alert-warning\">\n",
    "<b>Question 5:</b> Fill in the blanks so that the code below calculated the percent at which prisons are full.\n",
    "   </div>"
   ]
  },
  {
   "cell_type": "code",
   "execution_count": null,
   "metadata": {},
   "outputs": [],
   "source": [
    "total_population = sum_total_and_design.column(...) \n",
    "designed_sum = sum_total_and_design.column(\"designed_capacity sum\")\n",
    "\n",
    "capacity_percentage = 100 * (total_population / ...)\n",
    "capacity_percentage"
   ]
  },
  {
   "cell_type": "markdown",
   "metadata": {
    "tags": [
     "ignore"
    ]
   },
   "source": [
    "To plot these percentages, we have to add a new column to the table. Let's call this column \"Design Percent\"."
   ]
  },
  {
   "cell_type": "code",
   "execution_count": null,
   "metadata": {},
   "outputs": [],
   "source": [
    "# Use .with_column() to add a new column with the percentages calculated above!\n",
    "total_and_design_and_percentages_table = sum_total_and_design.with_column(\"Design Percent\", capacity_percentage)\n",
    "total_and_design_and_percentages_table.show(3)"
   ]
  },
  {
   "cell_type": "markdown",
   "metadata": {
    "tags": [
     "ignore"
    ]
   },
   "source": [
    "<div class=\"alert alert-warning\">\n",
    "<b>Question 6:</b> Draw a line plot to reflect the trend in overcrowding in California state prisons over time. \n",
    "   </div>"
   ]
  },
  {
   "cell_type": "code",
   "execution_count": null,
   "metadata": {
    "scrolled": true,
    "tags": [
     "include"
    ]
   },
   "outputs": [],
   "source": [
    "total_and_design_and_percentages_table....(\"year\", ...)\n",
    "\n",
    "plt.ylabel(\"Design Percent Occupied (%)\")\n",
    "plt.title(\"Overcrowding According to Designed Capacity\");"
   ]
  },
  {
   "cell_type": "markdown",
   "metadata": {
    "tags": [
     "include"
    ]
   },
   "source": [
    "<div class=\"alert alert-warning\">\n",
    "<b>Question 7:</b> What do you notice about this trend over time?\n",
    "   </div>"
   ]
  },
  {
   "cell_type": "markdown",
   "metadata": {
    "tags": [
     "include"
    ]
   },
   "source": [
    "*INSERT ANSWER HERE*"
   ]
  },
  {
   "cell_type": "code",
   "execution_count": null,
   "metadata": {
    "scrolled": false
   },
   "outputs": [],
   "source": [
    "total_and_design_and_percentages_table.plot(\"year\", \"Design Percent\")\n",
    "\n",
    "plt.xlabel(\"Year\")\n",
    "plt.ylabel(\"Design Percent Occupied (%)\")\n",
    "plt.title(\"Overcrowding According to Designed Capacity\")\n",
    "plt.ylim(0, 210);"
   ]
  },
  {
   "cell_type": "markdown",
   "metadata": {
    "tags": [
     "include"
    ]
   },
   "source": [
    "<div class=\"alert alert-warning\">\n",
    "<b>Question 8:</b> How does the scale influence the trend?\n",
    "   </div>"
   ]
  },
  {
   "cell_type": "markdown",
   "metadata": {
    "tags": [
     "include"
    ]
   },
   "source": [
    "*INSERT ANSWER HERE*"
   ]
  }
 ],
 "metadata": {
  "kernelspec": {
   "display_name": "Python 3",
   "language": "python",
   "name": "python3"
  },
  "language_info": {
   "codemirror_mode": {
    "name": "ipython",
    "version": 3
   },
   "file_extension": ".py",
   "mimetype": "text/x-python",
   "name": "python",
   "nbconvert_exporter": "python",
   "pygments_lexer": "ipython3",
   "version": "3.6.8"
  }
 },
 "nbformat": 4,
 "nbformat_minor": 2
}
