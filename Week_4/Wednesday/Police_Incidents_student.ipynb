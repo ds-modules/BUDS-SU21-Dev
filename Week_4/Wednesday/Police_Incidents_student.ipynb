{
 "cells": [
  {
   "cell_type": "markdown",
   "metadata": {},
   "source": [
    "# Visualizing Police Force Data\n",
    "\n",
    "### Professor David Harding\n",
    "\n",
    "## Table of Contents\n",
    "\n",
    "[Introduction](#intro)\n",
    "\n",
    "[Data Visualization](#1)\n",
    "\n",
    "- [Categorical Data](#1.1)\n",
    "    - [Question 1](#q1)\n",
    "\n",
    "- [Numerical Data](#1.2)\n",
    "    - [Question 2](#q2)\n",
    "\n",
    "[More Advanced Plots: Time of Incident](#2)\n",
    "- [Question 3](#q3)"
   ]
  },
  {
   "cell_type": "markdown",
   "metadata": {},
   "source": [
    "## Introduction <a id='intro'></a>\n",
    "\n",
    "In this notebook, you will practice different data visualization techniques you learned about over the past few weeks. The police incidents data has been taken from [Open Data Minneapolis](http://opendata.minneapolismn.gov/). \n",
    "\n",
    "<img src=\"Data/7a9713-20180517-minneapolis-police-use-of-force-reduced.png\" style=\"width:600px\">\n",
    "\n",
    "<div style=\"text-align: right\">- Brandt Williams, <a href='https://www.mprnews.org/story/2018/05/18/use-of-force-by-minneapolis-police-down'>MPR News</a></div>\n",
    "\n",
    "There are two main data tables used in this assignment: **Police_Incidents_2019.csv** and **Police_Use_of_Force.csv**. \n",
    "\n",
    "The first file, **Police_Incidents_2019.csv**, has records of all police incidents that took place in 2019 (that is, until June 2016 as that was when we pulled the data). Its columns contain information such as the latitude-longitude information of incidents, police precinct and neighborhood in which the incident occurred, time and date of the report, type of crime, etc. \n",
    "\n",
    "The second file, **Police_Use_of_Force.csv**, has information on recorded force use (by the police) cases. It shares similar columns as the first file, such as the latitude-longitude information of incidents, what precinct and neighborhood the incident took place in, and date of the report. However, it also contains information specifically relevant to the use of force, like whether or not the subject was injured as a result of the force use, cause of intervention, what kind of force was used by an officer, subject's age, gender and race, etc.\n",
    "\n",
    "---\n"
   ]
  },
  {
   "cell_type": "code",
   "execution_count": 55,
   "metadata": {},
   "outputs": [],
   "source": [
    "from datascience import *\n",
    "import numpy as np\n",
    "\n",
    "import matplotlib.pyplot as plt\n",
    "%matplotlib inline\n",
    "import datetime"
   ]
  },
  {
   "cell_type": "markdown",
   "metadata": {},
   "source": [
    "## Data Visualization <a id='1'></a>\n",
    "\n",
    "**Data visualization** is the graphical representation of information and data. By using visual elements like charts, graphs, and maps, data visualization tools provide an accessible way to see and understand patterns in data. The general goal of data visualization is to communicate key information clearly and efficiently to its audience. \n",
    "\n",
    "**Edward Tufte**, in his book *The Visual Display of Quantitative Information*, stated that effective data visualization should:\n",
    "\n",
    "- avoid distorting what the data has to say\n",
    "- present many numbers in a small space\n",
    "- encourage the eye to compare different pieces of data\n",
    "- serve a reasonably clear purpose: description, exploration, tabulation or decoration\n",
    "- ...and more\n",
    "\n",
    "More about Tufte's theory can be found [here](https://moz.com/blog/data-visualization-principles-lessons-from-tufte).\n",
    "\n",
    "Let's first explore the two datasets read in as datascience tables `incidents` and `force`. We can see that there are quite a number of columns for both tables. Can you find the columns corresponding to what's been mentioned in the description of csv files? What are some notable differences between the two tables?"
   ]
  },
  {
   "cell_type": "code",
   "execution_count": 4,
   "metadata": {},
   "outputs": [
    {
     "data": {
      "text/html": [
       "<table border=\"1\" class=\"dataframe\">\n",
       "    <thead>\n",
       "        <tr>\n",
       "            <th>X</th> <th>Y</th> <th>publicaddress</th> <th>caseNumber</th> <th>precinct</th> <th>reportedDate</th> <th>reportedTime</th> <th>beginDate</th> <th>reportedDateTime</th> <th>beginTime</th> <th>offense</th> <th>description</th> <th>UCRCode</th> <th>enteredDate</th> <th>centergbsid</th> <th>centerLong</th> <th>centerLat</th> <th>centerX</th> <th>centerY</th> <th>neighborhood</th> <th>lastchanged</th> <th>LastUpdateDateETL</th> <th>OBJECTID</th>\n",
       "        </tr>\n",
       "    </thead>\n",
       "    <tbody>\n",
       "        <tr>\n",
       "            <td>-93.3118</td> <td>45.006 </td> <td>0024XX BROADWAY AVE W  </td> <td>MP201971497         </td> <td>4       </td> <td>2019-03-13T00:00:00.000Z</td> <td>1046        </td> <td>2019-03-13T00:00:00.000Z</td> <td>2019-03-13T10:46:00.000Z</td> <td>1046     </td> <td>THEFT   </td> <td>OTHER THEFT                   </td> <td>7      </td> <td>2019-03-13T00:00:00.000Z</td> <td>10909      </td> <td>-93.3118  </td> <td>45.006   </td> <td>-10387423</td> <td>5622470</td> <td>Willard - Hay</td> <td>2019-03-13T00:00:00.000Z</td> <td>2019-03-15T08:15:26.000Z</td> <td>9001    </td>\n",
       "        </tr>\n",
       "        <tr>\n",
       "            <td>-93.3121</td> <td>44.9979</td> <td>0018XX SHERIDAN AVE N  </td> <td>MP201971522         </td> <td>4       </td> <td>2019-03-13T00:00:00.000Z</td> <td>1048        </td> <td>2019-03-12T00:00:00.000Z</td> <td>2019-03-13T10:48:00.000Z</td> <td>2000     </td> <td>THEFT   </td> <td>OTHER THEFT                   </td> <td>7      </td> <td>2019-03-13T00:00:00.000Z</td> <td>14596      </td> <td>-93.3121  </td> <td>44.9979  </td> <td>-10387450</td> <td>5621188</td> <td>Willard - Hay</td> <td>2019-03-13T00:00:00.000Z</td> <td>2019-03-15T08:15:26.000Z</td> <td>9002    </td>\n",
       "        </tr>\n",
       "        <tr>\n",
       "            <td>-93.2346</td> <td>45.0087</td> <td>0019XX HAYES ST NE     </td> <td>MP201971533         </td> <td>2       </td> <td>2019-03-13T00:00:00.000Z</td> <td>1141        </td> <td>2019-03-13T00:00:00.000Z</td> <td>2019-03-13T11:41:00.000Z</td> <td>215      </td> <td>CSCR    </td> <td>CSC - RAPE                    </td> <td>3      </td> <td>2019-03-13T00:00:00.000Z</td> <td>17221      </td> <td>-93.2346  </td> <td>45.0087  </td> <td>-10378828</td> <td>5622888</td> <td>Windom Park  </td> <td>2019-03-20T00:00:00.000Z</td> <td>2019-03-21T08:15:32.000Z</td> <td>9003    </td>\n",
       "        </tr>\n",
       "        <tr>\n",
       "            <td>-93.2818</td> <td>45.0048</td> <td>0024XX WASHINGTON AVE N</td> <td>MP201971617         </td> <td>4       </td> <td>2019-03-13T00:00:00.000Z</td> <td>1317        </td> <td>2019-03-12T00:00:00.000Z</td> <td>2019-03-13T13:17:00.000Z</td> <td>1749     </td> <td>THEFT   </td> <td>OTHER THEFT                   </td> <td>7      </td> <td>2019-03-13T00:00:00.000Z</td> <td>13725      </td> <td>-93.2818  </td> <td>45.0048  </td> <td>-10384081</td> <td>5622275</td> <td>Hawthorne    </td> <td>2019-03-13T00:00:00.000Z</td> <td>2019-03-15T08:15:26.000Z</td> <td>9004    </td>\n",
       "        </tr>\n",
       "        <tr>\n",
       "            <td>-93.2283</td> <td>44.9296</td> <td>0040XX NOKOMIS AVE S   </td> <td>MP201971661         </td> <td>3       </td> <td>2019-03-13T00:00:00.000Z</td> <td>1326        </td> <td>2019-02-27T00:00:00.000Z</td> <td>2019-03-13T13:26:00.000Z</td> <td>900      </td> <td>ONLTHT  </td> <td>ON-LINE THEFT                 </td> <td>7      </td> <td>2019-03-13T00:00:00.000Z</td> <td>19761      </td> <td>-93.2283  </td> <td>44.9296  </td> <td>-10378128</td> <td>5610445</td> <td>Standish     </td> <td>2019-03-13T00:00:00.000Z</td> <td>2019-03-15T08:15:26.000Z</td> <td>9005    </td>\n",
       "        </tr>\n",
       "    </tbody>\n",
       "</table>\n",
       "<p>... (9645 rows omitted)</p>"
      ],
      "text/plain": [
       "<IPython.core.display.HTML object>"
      ]
     },
     "metadata": {},
     "output_type": "display_data"
    }
   ],
   "source": [
    "# Police Incident Data, 2019\n",
    "incidents = Table().read_table('Data/Police_Incidents_2019.csv')\n",
    "incidents.show(5)"
   ]
  },
  {
   "cell_type": "code",
   "execution_count": 14,
   "metadata": {},
   "outputs": [
    {
     "data": {
      "text/html": [
       "<table border=\"1\" class=\"dataframe\">\n",
       "    <thead>\n",
       "        <tr>\n",
       "            <th>X</th> <th>Y</th> <th>PoliceUseOfForceID</th> <th>CaseNumber</th> <th>ResponseDate</th> <th>Problem</th> <th>Is911Call</th> <th>PrimaryOffense</th> <th>SubjectInjury</th> <th>ForceReportNumber</th> <th>SubjectRole</th> <th>SubjectRoleNumber</th> <th>ForceType</th> <th>ForceTypeAction</th> <th>Race</th> <th>Sex</th> <th>EventAge</th> <th>TypeOfResistance</th> <th>Precinct</th> <th>Neighborhood</th> <th>TotalCityCallsForYear</th> <th>TotalPrecinctCallsForYear</th> <th>TotalNeighborhoodCallsForYear</th> <th>CenterGBSID</th> <th>CenterLatitude</th> <th>CenterLongitude</th> <th>CenterX</th> <th>CenterY</th> <th>DateAdded</th> <th>OBJECTID</th>\n",
       "        </tr>\n",
       "    </thead>\n",
       "    <tbody>\n",
       "        <tr>\n",
       "            <td>-93.2406</td> <td>44.9457</td> <td>1535693           </td> <td>08-134948 </td> <td>2008-05-11T12:27:59.000Z</td> <td>Fight                </td> <td>Yes      </td> <td>DISCON        </td> <td>Yes          </td> <td>1                </td> <td>A          </td> <td>2                </td> <td>Bodily Force     </td> <td>Kicks          </td> <td>Other / Mixed Race</td> <td>Male</td> <td>23      </td> <td>Verbal Non-Compliance</td> <td>03      </td> <td>Corcoran     </td> <td>322402               </td> <td>84018                    </td> <td>3058                         </td> <td>19708      </td> <td>44.9457       </td> <td>-93.2406       </td> <td>-1.03795e+07</td> <td>5.61297e+06</td> <td>2019-07-05T08:18:58.000Z</td> <td>1001    </td>\n",
       "        </tr>\n",
       "        <tr>\n",
       "            <td>-93.2725</td> <td>44.9796</td> <td>1535694           </td> <td>08-142883 </td> <td>2008-05-18T04:01:02.000Z</td> <td>Disturbance          </td> <td>No       </td> <td>DISCON        </td> <td>nan          </td> <td>1                </td> <td>A          </td> <td>1                </td> <td>Chemical Irritant</td> <td>Personal Mace  </td> <td>Black             </td> <td>Male</td> <td>25      </td> <td>Tensed               </td> <td>01      </td> <td>Downtown West</td> <td>322402               </td> <td>46998                    </td> <td>23458                        </td> <td>25832      </td> <td>44.9796       </td> <td>-93.2725       </td> <td>-1.0383e+07 </td> <td>5.61831e+06</td> <td>2019-07-05T08:18:58.000Z</td> <td>1002    </td>\n",
       "        </tr>\n",
       "        <tr>\n",
       "            <td>-93.2764</td> <td>44.9768</td> <td>1535695           </td> <td>08-144119 </td> <td>2008-05-19T05:08:38.000Z</td> <td>Suspicious Person    </td> <td>No       </td> <td>NARC          </td> <td>No           </td> <td>2                </td> <td>A          </td> <td>1                </td> <td>Bodily Force     </td> <td>Joint Lock     </td> <td>Black             </td> <td>Male</td> <td>22      </td> <td>Commission of Crime  </td> <td>01      </td> <td>Downtown West</td> <td>322402               </td> <td>46998                    </td> <td>23458                        </td> <td>21655      </td> <td>44.9768       </td> <td>-93.2764       </td> <td>-1.03835e+07</td> <td>5.61787e+06</td> <td>2019-07-05T08:18:58.000Z</td> <td>1003    </td>\n",
       "        </tr>\n",
       "        <tr>\n",
       "            <td>-93.288 </td> <td>45.011 </td> <td>1535696           </td> <td>08-148956 </td> <td>2008-05-23T03:13:30.000Z</td> <td>Sound of Shots Fired </td> <td>Yes      </td> <td>WEAP          </td> <td>No           </td> <td>2                </td> <td>A          </td> <td>1                </td> <td>Bodily Force     </td> <td>Punches        </td> <td>Black             </td> <td>Male</td> <td>18      </td> <td>Fled on Foot         </td> <td>04      </td> <td>Hawthorne    </td> <td>322402               </td> <td>80434                    </td> <td>13679                        </td> <td>18762      </td> <td>45.011        </td> <td>-93.288        </td> <td>-1.03848e+07</td> <td>5.62326e+06</td> <td>2019-07-05T08:18:58.000Z</td> <td>1004    </td>\n",
       "        </tr>\n",
       "        <tr>\n",
       "            <td>-93.2735</td> <td>44.9484</td> <td>1535697           </td> <td>08-159458 </td> <td>2008-05-31T22:52:58.000Z</td> <td>Person with a Gun    </td> <td>Yes      </td> <td>FALSNM        </td> <td>No           </td> <td>1                </td> <td>A          </td> <td>1                </td> <td>Bodily Force     </td> <td>Kicks          </td> <td>Black             </td> <td>Male</td> <td>30      </td> <td>Verbal Non-Compliance</td> <td>03      </td> <td>Phillips West</td> <td>322402               </td> <td>84018                    </td> <td>6359                         </td> <td>19103      </td> <td>44.9484       </td> <td>-93.2735       </td> <td>-1.03832e+07</td> <td>5.61339e+06</td> <td>2019-07-05T08:18:58.000Z</td> <td>1005    </td>\n",
       "        </tr>\n",
       "    </tbody>\n",
       "</table>\n",
       "<p>... (28055 rows omitted)</p>"
      ],
      "text/plain": [
       "<IPython.core.display.HTML object>"
      ]
     },
     "metadata": {},
     "output_type": "display_data"
    }
   ],
   "source": [
    "# Police Use of Force Records\n",
    "force = Table().read_table('Data/Police_Use_of_Force.csv')\n",
    "force.show(5)"
   ]
  },
  {
   "cell_type": "markdown",
   "metadata": {},
   "source": [
    "## Categorical Data <a id='1.1'></a>\n",
    "\n",
    "A **categorical variable** is a variable that can take on one of a limited number of possible values. Examples of categorical variables include race and neighborhoods. For instance,\n",
    "\n",
    "- The category \"race\" could contain the values \"African American\", \"Asian\", \"Hispanic\" or \"Caucasian\".\n",
    "- The category \"neighborhoods\" could contain the values \"Windom Park\", \"Hawthorne\" or \"Standish\".\n",
    "\n",
    "\n",
    "The `incidents` table has the following categorical variables: offense, description, neighborhood\n",
    "\n"
   ]
  },
  {
   "cell_type": "markdown",
   "metadata": {},
   "source": [
    "<div class=\"alert alert-warning\">\n",
    "    <b> Question 1: </b> <a id='q1'></a>\n",
    "Let's investigate the neighborhoods with the highest number of police incidents. Group the police incidents by neighborhood, then display a bar chart of the count of incidents per neighborhood for the neighborhoods with the top 10 highest number of incidents."
   ]
  },
  {
   "cell_type": "code",
   "execution_count": 56,
   "metadata": {},
   "outputs": [
    {
     "ename": "ValueError",
     "evalue": "label \"...\" not in labels ('X', 'Y', 'publicaddress', 'caseNumber', 'precinct', 'reportedDate', 'reportedTime', 'beginDate', 'reportedDateTime', 'beginTime', 'offense', 'description', 'UCRCode', 'enteredDate', 'centergbsid', 'centerLong', 'centerLat', 'centerX', 'centerY', 'neighborhood', 'lastchanged', 'LastUpdateDateETL', 'OBJECTID')",
     "output_type": "error",
     "traceback": [
      "\u001b[0;31m---------------------------------------------------------------------------\u001b[0m",
      "\u001b[0;31mValueError\u001b[0m                                Traceback (most recent call last)",
      "\u001b[0;32m<ipython-input-56-2bafa0d1ee0b>\u001b[0m in \u001b[0;36m<module>\u001b[0;34m\u001b[0m\n\u001b[1;32m      1\u001b[0m \u001b[0;31m# YOUR CODE HERE\u001b[0m\u001b[0;34m\u001b[0m\u001b[0;34m\u001b[0m\u001b[0;34m\u001b[0m\u001b[0m\n\u001b[0;32m----> 2\u001b[0;31m \u001b[0mby_neighborhood\u001b[0m \u001b[0;34m=\u001b[0m \u001b[0mincidents\u001b[0m\u001b[0;34m.\u001b[0m\u001b[0mgroup\u001b[0m\u001b[0;34m(\u001b[0m\u001b[0;34m\"...\"\u001b[0m\u001b[0;34m)\u001b[0m\u001b[0;34m\u001b[0m\u001b[0;34m\u001b[0m\u001b[0m\n\u001b[0m\u001b[1;32m      3\u001b[0m \u001b[0msorted_neighborhood\u001b[0m \u001b[0;34m=\u001b[0m \u001b[0mby_neighborhood\u001b[0m\u001b[0;34m.\u001b[0m\u001b[0msort\u001b[0m\u001b[0;34m(\u001b[0m\u001b[0;34m\"...\"\u001b[0m\u001b[0;34m,\u001b[0m \u001b[0mdescending\u001b[0m \u001b[0;34m=\u001b[0m \u001b[0;32mTrue\u001b[0m\u001b[0;34m)\u001b[0m\u001b[0;34m\u001b[0m\u001b[0;34m\u001b[0m\u001b[0m\n\u001b[1;32m      4\u001b[0m \u001b[0mtop_10\u001b[0m \u001b[0;34m=\u001b[0m \u001b[0msorted_neighborhood\u001b[0m\u001b[0;34m.\u001b[0m\u001b[0mtake\u001b[0m\u001b[0;34m(\u001b[0m\u001b[0mnp\u001b[0m\u001b[0;34m.\u001b[0m\u001b[0marange\u001b[0m\u001b[0;34m(\u001b[0m\u001b[0;36m10\u001b[0m\u001b[0;34m)\u001b[0m\u001b[0;34m)\u001b[0m\u001b[0;34m\u001b[0m\u001b[0;34m\u001b[0m\u001b[0m\n\u001b[1;32m      5\u001b[0m \u001b[0;34m\u001b[0m\u001b[0m\n",
      "\u001b[0;32m/srv/app/venv/lib/python3.6/site-packages/datascience/tables.py\u001b[0m in \u001b[0;36mgroup\u001b[0;34m(self, column_or_label, collect)\u001b[0m\n\u001b[1;32m    941\u001b[0m \u001b[0;34m\u001b[0m\u001b[0m\n\u001b[1;32m    942\u001b[0m         \u001b[0;31m# Remove column used for grouping\u001b[0m\u001b[0;34m\u001b[0m\u001b[0;34m\u001b[0m\u001b[0;34m\u001b[0m\u001b[0m\n\u001b[0;32m--> 943\u001b[0;31m         \u001b[0mcolumn\u001b[0m \u001b[0;34m=\u001b[0m \u001b[0mself\u001b[0m\u001b[0;34m.\u001b[0m\u001b[0m_get_column\u001b[0m\u001b[0;34m(\u001b[0m\u001b[0mcolumn_or_label\u001b[0m\u001b[0;34m)\u001b[0m\u001b[0;34m\u001b[0m\u001b[0;34m\u001b[0m\u001b[0m\n\u001b[0m\u001b[1;32m    944\u001b[0m         \u001b[0;32mif\u001b[0m \u001b[0misinstance\u001b[0m\u001b[0;34m(\u001b[0m\u001b[0mcolumn_or_label\u001b[0m\u001b[0;34m,\u001b[0m \u001b[0mstr\u001b[0m\u001b[0;34m)\u001b[0m \u001b[0;32mor\u001b[0m \u001b[0misinstance\u001b[0m\u001b[0;34m(\u001b[0m\u001b[0mcolumn_or_label\u001b[0m\u001b[0;34m,\u001b[0m \u001b[0mnumbers\u001b[0m\u001b[0;34m.\u001b[0m\u001b[0mIntegral\u001b[0m\u001b[0;34m)\u001b[0m\u001b[0;34m:\u001b[0m\u001b[0;34m\u001b[0m\u001b[0;34m\u001b[0m\u001b[0m\n\u001b[1;32m    945\u001b[0m             \u001b[0mcolumn_label\u001b[0m \u001b[0;34m=\u001b[0m \u001b[0mself\u001b[0m\u001b[0;34m.\u001b[0m\u001b[0m_as_label\u001b[0m\u001b[0;34m(\u001b[0m\u001b[0mcolumn_or_label\u001b[0m\u001b[0;34m)\u001b[0m\u001b[0;34m\u001b[0m\u001b[0;34m\u001b[0m\u001b[0m\n",
      "\u001b[0;32m/srv/app/venv/lib/python3.6/site-packages/datascience/tables.py\u001b[0m in \u001b[0;36m_get_column\u001b[0;34m(self, column_or_label)\u001b[0m\n\u001b[1;32m   1389\u001b[0m             \u001b[0;32mreturn\u001b[0m \u001b[0mself\u001b[0m\u001b[0;34m[\u001b[0m\u001b[0mc\u001b[0m\u001b[0;34m]\u001b[0m\u001b[0;34m\u001b[0m\u001b[0;34m\u001b[0m\u001b[0m\n\u001b[1;32m   1390\u001b[0m         \u001b[0;32melif\u001b[0m \u001b[0misinstance\u001b[0m\u001b[0;34m(\u001b[0m\u001b[0mc\u001b[0m\u001b[0;34m,\u001b[0m \u001b[0mstr\u001b[0m\u001b[0;34m)\u001b[0m\u001b[0;34m:\u001b[0m\u001b[0;34m\u001b[0m\u001b[0;34m\u001b[0m\u001b[0m\n\u001b[0;32m-> 1391\u001b[0;31m             \u001b[0;32mraise\u001b[0m \u001b[0mValueError\u001b[0m\u001b[0;34m(\u001b[0m\u001b[0;34m'label \"{}\" not in labels {}'\u001b[0m\u001b[0;34m.\u001b[0m\u001b[0mformat\u001b[0m\u001b[0;34m(\u001b[0m\u001b[0mc\u001b[0m\u001b[0;34m,\u001b[0m \u001b[0mself\u001b[0m\u001b[0;34m.\u001b[0m\u001b[0mlabels\u001b[0m\u001b[0;34m)\u001b[0m\u001b[0;34m)\u001b[0m\u001b[0;34m\u001b[0m\u001b[0;34m\u001b[0m\u001b[0m\n\u001b[0m\u001b[1;32m   1392\u001b[0m         \u001b[0;32melse\u001b[0m\u001b[0;34m:\u001b[0m\u001b[0;34m\u001b[0m\u001b[0;34m\u001b[0m\u001b[0m\n\u001b[1;32m   1393\u001b[0m             \u001b[0;32massert\u001b[0m \u001b[0mlen\u001b[0m\u001b[0;34m(\u001b[0m\u001b[0mc\u001b[0m\u001b[0;34m)\u001b[0m \u001b[0;34m==\u001b[0m \u001b[0mself\u001b[0m\u001b[0;34m.\u001b[0m\u001b[0mnum_rows\u001b[0m\u001b[0;34m,\u001b[0m \u001b[0;34m'column length mismatch'\u001b[0m\u001b[0;34m\u001b[0m\u001b[0;34m\u001b[0m\u001b[0m\n",
      "\u001b[0;31mValueError\u001b[0m: label \"...\" not in labels ('X', 'Y', 'publicaddress', 'caseNumber', 'precinct', 'reportedDate', 'reportedTime', 'beginDate', 'reportedDateTime', 'beginTime', 'offense', 'description', 'UCRCode', 'enteredDate', 'centergbsid', 'centerLong', 'centerLat', 'centerX', 'centerY', 'neighborhood', 'lastchanged', 'LastUpdateDateETL', 'OBJECTID')"
     ]
    }
   ],
   "source": [
    "# YOUR CODE HERE\n",
    "by_neighborhood = incidents.group(\"...\")\n",
    "sorted_neighborhood = by_neighborhood.sort(\"...\", descending = True)\n",
    "top_10 = sorted_neighborhood.take(np.arange(10))\n",
    "\n",
    "top_10.barh(\"...\")"
   ]
  },
  {
   "cell_type": "markdown",
   "metadata": {},
   "source": [
    "<div class = \"alert alert-warning\">\n",
    "**Look up a few of the Minneapolis neighborhoods you see in the chart.** What do you notice about the neighborhoods with the highest counts of police incidents? Look for information about racial demographics, education/income levels, urban vs. suburban, etc."
   ]
  },
  {
   "cell_type": "markdown",
   "metadata": {},
   "source": [
    "YOUR ANSWER HERE:"
   ]
  },
  {
   "cell_type": "markdown",
   "metadata": {},
   "source": [
    "## Numerical Data <a id='1.2'></a>\n",
    "\n",
    "A **numerical variable** may also be called a continuous variable; it is a variable that can take on any value within a finite or infinite range. For example:\n",
    "\n",
    "- The numerical variable \"age\" may take on the value 0, 1, 2 .... on to the age of the oldest person in our dataset.\n",
    "- The numerical variable \"count\" may take on the value 0, 1, 2, .... up to however many things we are counting.\n",
    "\n",
    "The `force` table has the following numerical variables: EventAge, TotalCityCallsForYear, TotalPrecinctCallsForYear, TotalNeighborhoodCallsForYear, as well as X/Y and Latitude/Longitude.\n",
    "\n",
    "\n"
   ]
  },
  {
   "cell_type": "markdown",
   "metadata": {},
   "source": [
    "<div class=\"alert alert-warning\">\n",
    "    <b> Question 2: </b> <a id='q2'></a>\n",
    "At what age are people experiencing the most incidences of force? In the cells below, use a line plot to look at the distribution of ages for individuals who experienced an incident with force. Create side by side plots with the distribution of ages for male and female individuals."
   ]
  },
  {
   "cell_type": "markdown",
   "metadata": {},
   "source": [
    "Let's start by grouping incidents of force by age, and then sex."
   ]
  },
  {
   "cell_type": "code",
   "execution_count": 53,
   "metadata": {},
   "outputs": [
    {
     "data": {
      "text/html": [
       "<table border=\"1\" class=\"dataframe\">\n",
       "    <thead>\n",
       "        <tr>\n",
       "            <th>Age</th> <th>Sex</th> <th>count</th>\n",
       "        </tr>\n",
       "    </thead>\n",
       "    <tbody>\n",
       "        <tr>\n",
       "            <td>0   </td> <td>Female      </td> <td>97   </td>\n",
       "        </tr>\n",
       "        <tr>\n",
       "            <td>0   </td> <td>Male        </td> <td>214  </td>\n",
       "        </tr>\n",
       "        <tr>\n",
       "            <td>0   </td> <td>Unknown     </td> <td>12   </td>\n",
       "        </tr>\n",
       "        <tr>\n",
       "            <td>0   </td> <td>not recorded</td> <td>163  </td>\n",
       "        </tr>\n",
       "        <tr>\n",
       "            <td>6   </td> <td>Female      </td> <td>2    </td>\n",
       "        </tr>\n",
       "        <tr>\n",
       "            <td>7   </td> <td>Male        </td> <td>2    </td>\n",
       "        </tr>\n",
       "        <tr>\n",
       "            <td>9   </td> <td>Male        </td> <td>5    </td>\n",
       "        </tr>\n",
       "        <tr>\n",
       "            <td>10  </td> <td>Male        </td> <td>3    </td>\n",
       "        </tr>\n",
       "        <tr>\n",
       "            <td>11  </td> <td>Male        </td> <td>5    </td>\n",
       "        </tr>\n",
       "        <tr>\n",
       "            <td>12  </td> <td>Female      </td> <td>5    </td>\n",
       "        </tr>\n",
       "    </tbody>\n",
       "</table>\n",
       "<p>... (1446 rows omitted)</p>"
      ],
      "text/plain": [
       "Age  | Sex          | count\n",
       "0    | Female       | 97\n",
       "0    | Male         | 214\n",
       "0    | Unknown      | 12\n",
       "0    | not recorded | 163\n",
       "6    | Female       | 2\n",
       "7    | Male         | 2\n",
       "9    | Male         | 5\n",
       "10   | Male         | 3\n",
       "11   | Male         | 5\n",
       "12   | Female       | 5\n",
       "... (1446 rows omitted)"
      ]
     },
     "execution_count": 53,
     "metadata": {},
     "output_type": "execute_result"
    }
   ],
   "source": [
    "by_age = force.group([\"EventAge\", \"Sex\"]).relabeled(\"EventAge\", \"Age\") # RUN THIS CELL\n",
    "by_age"
   ]
  },
  {
   "cell_type": "markdown",
   "metadata": {},
   "source": [
    "<div class=\"alert alert-warning\">\n",
    "Fill in the code below to create two line plots of age vs. number of incidents for males and females."
   ]
  },
  {
   "cell_type": "code",
   "execution_count": 61,
   "metadata": {},
   "outputs": [
    {
     "ename": "TypeError",
     "evalue": "object of type 'ellipsis' has no len()",
     "output_type": "error",
     "traceback": [
      "\u001b[0;31m---------------------------------------------------------------------------\u001b[0m",
      "\u001b[0;31mTypeError\u001b[0m                                 Traceback (most recent call last)",
      "\u001b[0;32m<ipython-input-61-8590448fe0fa>\u001b[0m in \u001b[0;36m<module>\u001b[0;34m\u001b[0m\n\u001b[1;32m      1\u001b[0m \u001b[0;31m#YOUR CODE HERE\u001b[0m\u001b[0;34m\u001b[0m\u001b[0;34m\u001b[0m\u001b[0;34m\u001b[0m\u001b[0m\n\u001b[1;32m      2\u001b[0m \u001b[0mfemales\u001b[0m \u001b[0;34m=\u001b[0m \u001b[0mby_age\u001b[0m\u001b[0;34m.\u001b[0m\u001b[0mwhere\u001b[0m\u001b[0;34m(\u001b[0m\u001b[0;34m\"Sex\"\u001b[0m\u001b[0;34m,\u001b[0m \u001b[0;34m...\u001b[0m\u001b[0;34m)\u001b[0m\u001b[0;34m\u001b[0m\u001b[0;34m\u001b[0m\u001b[0m\n\u001b[0;32m----> 3\u001b[0;31m \u001b[0mmales\u001b[0m \u001b[0;34m=\u001b[0m \u001b[0mby_age\u001b[0m\u001b[0;34m.\u001b[0m\u001b[0mwhere\u001b[0m\u001b[0;34m(\u001b[0m\u001b[0;34m...\u001b[0m\u001b[0;34m,\u001b[0m \u001b[0;34m...\u001b[0m\u001b[0;34m)\u001b[0m\u001b[0;34m\u001b[0m\u001b[0;34m\u001b[0m\u001b[0m\n\u001b[0m\u001b[1;32m      4\u001b[0m \u001b[0;34m\u001b[0m\u001b[0m\n\u001b[1;32m      5\u001b[0m \u001b[0mfemales\u001b[0m\u001b[0;34m.\u001b[0m\u001b[0mplot\u001b[0m\u001b[0;34m(\u001b[0m\u001b[0;34m\"Age\"\u001b[0m\u001b[0;34m,\u001b[0m \u001b[0;34m...\u001b[0m\u001b[0;34m)\u001b[0m\u001b[0;34m\u001b[0m\u001b[0;34m\u001b[0m\u001b[0m\n",
      "\u001b[0;32m/srv/app/venv/lib/python3.6/site-packages/datascience/tables.py\u001b[0m in \u001b[0;36mwhere\u001b[0;34m(self, column_or_label, value_or_predicate, other)\u001b[0m\n\u001b[1;32m    798\u001b[0m         \u001b[0mColor\u001b[0m \u001b[0;34m|\u001b[0m \u001b[0mShape\u001b[0m \u001b[0;34m|\u001b[0m \u001b[0mAmount\u001b[0m \u001b[0;34m|\u001b[0m \u001b[0mPrice\u001b[0m\u001b[0;34m\u001b[0m\u001b[0;34m\u001b[0m\u001b[0m\n\u001b[1;32m    799\u001b[0m         \"\"\"\n\u001b[0;32m--> 800\u001b[0;31m         \u001b[0mcolumn\u001b[0m \u001b[0;34m=\u001b[0m \u001b[0mself\u001b[0m\u001b[0;34m.\u001b[0m\u001b[0m_get_column\u001b[0m\u001b[0;34m(\u001b[0m\u001b[0mcolumn_or_label\u001b[0m\u001b[0;34m)\u001b[0m\u001b[0;34m\u001b[0m\u001b[0;34m\u001b[0m\u001b[0m\n\u001b[0m\u001b[1;32m    801\u001b[0m         \u001b[0;32mif\u001b[0m \u001b[0mother\u001b[0m \u001b[0;32mis\u001b[0m \u001b[0;32mnot\u001b[0m \u001b[0;32mNone\u001b[0m\u001b[0;34m:\u001b[0m\u001b[0;34m\u001b[0m\u001b[0;34m\u001b[0m\u001b[0m\n\u001b[1;32m    802\u001b[0m             \u001b[0;32massert\u001b[0m \u001b[0mcallable\u001b[0m\u001b[0;34m(\u001b[0m\u001b[0mvalue_or_predicate\u001b[0m\u001b[0;34m)\u001b[0m\u001b[0;34m,\u001b[0m \u001b[0;34m\"Predicate required for 3-arg where\"\u001b[0m\u001b[0;34m\u001b[0m\u001b[0;34m\u001b[0m\u001b[0m\n",
      "\u001b[0;32m/srv/app/venv/lib/python3.6/site-packages/datascience/tables.py\u001b[0m in \u001b[0;36m_get_column\u001b[0;34m(self, column_or_label)\u001b[0m\n\u001b[1;32m   1391\u001b[0m             \u001b[0;32mraise\u001b[0m \u001b[0mValueError\u001b[0m\u001b[0;34m(\u001b[0m\u001b[0;34m'label \"{}\" not in labels {}'\u001b[0m\u001b[0;34m.\u001b[0m\u001b[0mformat\u001b[0m\u001b[0;34m(\u001b[0m\u001b[0mc\u001b[0m\u001b[0;34m,\u001b[0m \u001b[0mself\u001b[0m\u001b[0;34m.\u001b[0m\u001b[0mlabels\u001b[0m\u001b[0;34m)\u001b[0m\u001b[0;34m)\u001b[0m\u001b[0;34m\u001b[0m\u001b[0;34m\u001b[0m\u001b[0m\n\u001b[1;32m   1392\u001b[0m         \u001b[0;32melse\u001b[0m\u001b[0;34m:\u001b[0m\u001b[0;34m\u001b[0m\u001b[0;34m\u001b[0m\u001b[0m\n\u001b[0;32m-> 1393\u001b[0;31m             \u001b[0;32massert\u001b[0m \u001b[0mlen\u001b[0m\u001b[0;34m(\u001b[0m\u001b[0mc\u001b[0m\u001b[0;34m)\u001b[0m \u001b[0;34m==\u001b[0m \u001b[0mself\u001b[0m\u001b[0;34m.\u001b[0m\u001b[0mnum_rows\u001b[0m\u001b[0;34m,\u001b[0m \u001b[0;34m'column length mismatch'\u001b[0m\u001b[0;34m\u001b[0m\u001b[0;34m\u001b[0m\u001b[0m\n\u001b[0m\u001b[1;32m   1394\u001b[0m             \u001b[0;32mreturn\u001b[0m \u001b[0mc\u001b[0m\u001b[0;34m\u001b[0m\u001b[0;34m\u001b[0m\u001b[0m\n\u001b[1;32m   1395\u001b[0m \u001b[0;34m\u001b[0m\u001b[0m\n",
      "\u001b[0;31mTypeError\u001b[0m: object of type 'ellipsis' has no len()"
     ]
    }
   ],
   "source": [
    "#YOUR CODE HERE\n",
    "females = by_age.where(\"Sex\", ...)\n",
    "males = by_age.where(..., ...)\n",
    "\n",
    "females.plot(\"Age\", ...)"
   ]
  },
  {
   "cell_type": "code",
   "execution_count": 62,
   "metadata": {},
   "outputs": [
    {
     "ename": "SyntaxError",
     "evalue": "invalid syntax (<ipython-input-62-8824dd8b95b3>, line 1)",
     "output_type": "error",
     "traceback": [
      "\u001b[0;36m  File \u001b[0;32m\"<ipython-input-62-8824dd8b95b3>\"\u001b[0;36m, line \u001b[0;32m1\u001b[0m\n\u001b[0;31m    males.plot(..., ....) # YOUR CODE HERE\u001b[0m\n\u001b[0m                        ^\u001b[0m\n\u001b[0;31mSyntaxError\u001b[0m\u001b[0;31m:\u001b[0m invalid syntax\n"
     ]
    }
   ],
   "source": [
    "males.plot(..., ....) # YOUR CODE HERE"
   ]
  },
  {
   "cell_type": "markdown",
   "metadata": {},
   "source": [
    "**Describe what you observe in the above plots.** What age range seems to be the most common for incidents of force, and what are the differences between males and females? Why do you think this is the case? Why is there a high number of incidents at 0 years of age? (hint: think about how `nan` is represented in the table)."
   ]
  },
  {
   "cell_type": "markdown",
   "metadata": {},
   "source": [
    "YOUR ANSWER HERE:"
   ]
  },
  {
   "cell_type": "markdown",
   "metadata": {},
   "source": [
    "## A Brief Lesson on More Advanced Plots: Time of Incidence<a id='2'></a>\n",
    "\n",
    "Please note that this is just an extra lesson, and all code is provided. We have included it so that you can learn about different ways to visually represent the data in the incidents table.\n",
    "\n",
    "The `incidents` table includes information on time and date of when individual incident occurred. A **heatmap** is a graphical representation of data where the individual values contained in a matrix are represented as colors, and it is a good way to visualize concentration of incident occurence defined with two variables, in this case *time* and *weekday*. Below, we will create a heatmap to illustrate when incidents were most likely to occur.\n",
    "\n",
    "First, we define the `weekday` column of the `incidents` table to be a [datetime](https://docs.python.org/2/library/datetime.html) conversion of the `beginDate` column, which has read in datetime values as strings. Don't worry too much if the code looks too complicated, as it's simply a matter of reading in the datetime objects. The code can be copied and pasted exactly as it is in most cases.\n",
    "\n",
    "Once converted to datetime objects, we can use the method `weekday()` to find out the weekday of a given date. For instace, the date 2019-03-13 happened to be a Wednesday, thus the method `weekday()` on this datetime object would return the value 2 (which corresponds to a Wednesday). For readability, we've converted the numbers to the actual names of the days. \n",
    "\n",
    "We also create a column for hour of day during which the incident occurred, by ignoring the minute value of the begin time."
   ]
  },
  {
   "cell_type": "code",
   "execution_count": 9,
   "metadata": {},
   "outputs": [
    {
     "data": {
      "text/html": [
       "<table border=\"1\" class=\"dataframe\">\n",
       "    <thead>\n",
       "        <tr>\n",
       "            <th>X</th> <th>Y</th> <th>publicaddress</th> <th>caseNumber</th> <th>precinct</th> <th>reportedDate</th> <th>reportedTime</th> <th>beginDate</th> <th>reportedDateTime</th> <th>beginTime</th> <th>offense</th> <th>description</th> <th>UCRCode</th> <th>enteredDate</th> <th>centergbsid</th> <th>centerLong</th> <th>centerLat</th> <th>centerX</th> <th>centerY</th> <th>neighborhood</th> <th>lastchanged</th> <th>LastUpdateDateETL</th> <th>OBJECTID</th> <th>weekday</th> <th>hour</th>\n",
       "        </tr>\n",
       "    </thead>\n",
       "    <tbody>\n",
       "        <tr>\n",
       "            <td>-93.3118</td> <td>45.006 </td> <td>0024XX BROADWAY AVE W  </td> <td>MP201971497         </td> <td>4       </td> <td>2019-03-13T00:00:00.000Z</td> <td>1046        </td> <td>2019-03-13T00:00:00.000Z</td> <td>2019-03-13T10:46:00.000Z</td> <td>1046     </td> <td>THEFT   </td> <td>OTHER THEFT                   </td> <td>7      </td> <td>2019-03-13T00:00:00.000Z</td> <td>10909      </td> <td>-93.3118  </td> <td>45.006   </td> <td>-10387423</td> <td>5622470</td> <td>Willard - Hay</td> <td>2019-03-13T00:00:00.000Z</td> <td>2019-03-15T08:15:26.000Z</td> <td>9001    </td> <td>Wednesday</td> <td>10  </td>\n",
       "        </tr>\n",
       "        <tr>\n",
       "            <td>-93.3121</td> <td>44.9979</td> <td>0018XX SHERIDAN AVE N  </td> <td>MP201971522         </td> <td>4       </td> <td>2019-03-13T00:00:00.000Z</td> <td>1048        </td> <td>2019-03-12T00:00:00.000Z</td> <td>2019-03-13T10:48:00.000Z</td> <td>2000     </td> <td>THEFT   </td> <td>OTHER THEFT                   </td> <td>7      </td> <td>2019-03-13T00:00:00.000Z</td> <td>14596      </td> <td>-93.3121  </td> <td>44.9979  </td> <td>-10387450</td> <td>5621188</td> <td>Willard - Hay</td> <td>2019-03-13T00:00:00.000Z</td> <td>2019-03-15T08:15:26.000Z</td> <td>9002    </td> <td>Tuesday  </td> <td>20  </td>\n",
       "        </tr>\n",
       "        <tr>\n",
       "            <td>-93.2346</td> <td>45.0087</td> <td>0019XX HAYES ST NE     </td> <td>MP201971533         </td> <td>2       </td> <td>2019-03-13T00:00:00.000Z</td> <td>1141        </td> <td>2019-03-13T00:00:00.000Z</td> <td>2019-03-13T11:41:00.000Z</td> <td>215      </td> <td>CSCR    </td> <td>CSC - RAPE                    </td> <td>3      </td> <td>2019-03-13T00:00:00.000Z</td> <td>17221      </td> <td>-93.2346  </td> <td>45.0087  </td> <td>-10378828</td> <td>5622888</td> <td>Windom Park  </td> <td>2019-03-20T00:00:00.000Z</td> <td>2019-03-21T08:15:32.000Z</td> <td>9003    </td> <td>Wednesday</td> <td>2   </td>\n",
       "        </tr>\n",
       "        <tr>\n",
       "            <td>-93.2818</td> <td>45.0048</td> <td>0024XX WASHINGTON AVE N</td> <td>MP201971617         </td> <td>4       </td> <td>2019-03-13T00:00:00.000Z</td> <td>1317        </td> <td>2019-03-12T00:00:00.000Z</td> <td>2019-03-13T13:17:00.000Z</td> <td>1749     </td> <td>THEFT   </td> <td>OTHER THEFT                   </td> <td>7      </td> <td>2019-03-13T00:00:00.000Z</td> <td>13725      </td> <td>-93.2818  </td> <td>45.0048  </td> <td>-10384081</td> <td>5622275</td> <td>Hawthorne    </td> <td>2019-03-13T00:00:00.000Z</td> <td>2019-03-15T08:15:26.000Z</td> <td>9004    </td> <td>Tuesday  </td> <td>17  </td>\n",
       "        </tr>\n",
       "        <tr>\n",
       "            <td>-93.2283</td> <td>44.9296</td> <td>0040XX NOKOMIS AVE S   </td> <td>MP201971661         </td> <td>3       </td> <td>2019-03-13T00:00:00.000Z</td> <td>1326        </td> <td>2019-02-27T00:00:00.000Z</td> <td>2019-03-13T13:26:00.000Z</td> <td>900      </td> <td>ONLTHT  </td> <td>ON-LINE THEFT                 </td> <td>7      </td> <td>2019-03-13T00:00:00.000Z</td> <td>19761      </td> <td>-93.2283  </td> <td>44.9296  </td> <td>-10378128</td> <td>5610445</td> <td>Standish     </td> <td>2019-03-13T00:00:00.000Z</td> <td>2019-03-15T08:15:26.000Z</td> <td>9005    </td> <td>Wednesday</td> <td>9   </td>\n",
       "        </tr>\n",
       "    </tbody>\n",
       "</table>\n",
       "<p>... (9645 rows omitted)</p>"
      ],
      "text/plain": [
       "<IPython.core.display.HTML object>"
      ]
     },
     "metadata": {},
     "output_type": "display_data"
    }
   ],
   "source": [
    "def convert_to_weekday(x):\n",
    "    return datetime.datetime.strptime(x, '%Y-%m-%dT%H:%M:%S.000Z').weekday()\n",
    " \n",
    "weekdays = [convert_to_weekday(incidents['beginDate'][i]) for i in range(len(incidents.column('beginDate')))]\n",
    "days = {0:'Monday', 1:'Tuesday', 2:'Wednesday', \\\n",
    "                        3:'Thursday', 4:'Friday', 5:'Saturday', 6:'Sunday'}\n",
    "weekdays = [days[i] for i in weekdays]\n",
    "hour = incidents['beginTime']//100\n",
    "\n",
    "incidents = incidents.with_columns('weekday', weekdays, 'hour', hour)\n",
    "incidents.show(5)"
   ]
  },
  {
   "cell_type": "markdown",
   "metadata": {},
   "source": [
    "In order to create a heatmap, it is necessary to create a matrix where columns represent the hours and the rows represent the weekdays.\n",
    "\n",
    "The values in the individual coordinates of the matrix would be the total count of incidents that correspond to the specific hour and weekday, as in 87 incidents occurred on Wednesday at 3pm in 2019. We can derive these count values using the `group` method to the `incidents` table and passing in a list of `weekday` and `hour` as a parameter to the method.\n",
    "\n",
    "    incidents.group(['weekday', 'hour'])\n",
    "\n",
    "In order to get the weekdays as rows and the hours as columns, we pivot the table. The `'count'` and `sum` arguments preserve the groupby values as we pivot the table.\n",
    "\n",
    "    pivot('hour', 'weekday', 'count', sum)\n",
    "    "
   ]
  },
  {
   "cell_type": "code",
   "execution_count": 10,
   "metadata": {},
   "outputs": [
    {
     "data": {
      "text/html": [
       "<table border=\"1\" class=\"dataframe\">\n",
       "    <thead>\n",
       "        <tr>\n",
       "            <th>weekday</th> <th>0</th> <th>1</th> <th>2</th> <th>3</th> <th>4</th> <th>5</th> <th>6</th> <th>7</th> <th>8</th> <th>9</th> <th>10</th> <th>11</th> <th>12</th> <th>13</th> <th>14</th> <th>15</th> <th>16</th> <th>17</th> <th>18</th> <th>19</th> <th>20</th> <th>21</th> <th>22</th> <th>23</th>\n",
       "        </tr>\n",
       "    </thead>\n",
       "    <tbody>\n",
       "        <tr>\n",
       "            <td>Friday   </td> <td>92  </td> <td>54  </td> <td>45  </td> <td>25  </td> <td>17  </td> <td>26  </td> <td>20  </td> <td>39  </td> <td>46  </td> <td>43  </td> <td>40  </td> <td>46  </td> <td>79  </td> <td>56  </td> <td>72  </td> <td>78  </td> <td>86  </td> <td>95  </td> <td>103 </td> <td>86  </td> <td>79  </td> <td>75  </td> <td>72  </td> <td>106 </td>\n",
       "        </tr>\n",
       "        <tr>\n",
       "            <td>Monday   </td> <td>81  </td> <td>40  </td> <td>37  </td> <td>22  </td> <td>18  </td> <td>22  </td> <td>22  </td> <td>39  </td> <td>58  </td> <td>49  </td> <td>36  </td> <td>46  </td> <td>73  </td> <td>56  </td> <td>56  </td> <td>64  </td> <td>66  </td> <td>80  </td> <td>84  </td> <td>79  </td> <td>108 </td> <td>78  </td> <td>76  </td> <td>52  </td>\n",
       "        </tr>\n",
       "        <tr>\n",
       "            <td>Saturday </td> <td>121 </td> <td>103 </td> <td>67  </td> <td>40  </td> <td>31  </td> <td>14  </td> <td>19  </td> <td>31  </td> <td>38  </td> <td>47  </td> <td>31  </td> <td>48  </td> <td>79  </td> <td>48  </td> <td>80  </td> <td>59  </td> <td>76  </td> <td>72  </td> <td>78  </td> <td>68  </td> <td>78  </td> <td>67  </td> <td>100 </td> <td>89  </td>\n",
       "        </tr>\n",
       "        <tr>\n",
       "            <td>Sunday   </td> <td>120 </td> <td>86  </td> <td>73  </td> <td>52  </td> <td>27  </td> <td>23  </td> <td>25  </td> <td>15  </td> <td>29  </td> <td>42  </td> <td>41  </td> <td>31  </td> <td>68  </td> <td>50  </td> <td>55  </td> <td>63  </td> <td>62  </td> <td>75  </td> <td>82  </td> <td>65  </td> <td>68  </td> <td>90  </td> <td>79  </td> <td>59  </td>\n",
       "        </tr>\n",
       "        <tr>\n",
       "            <td>Thursday </td> <td>84  </td> <td>35  </td> <td>26  </td> <td>26  </td> <td>34  </td> <td>23  </td> <td>29  </td> <td>49  </td> <td>56  </td> <td>38  </td> <td>33  </td> <td>51  </td> <td>75  </td> <td>51  </td> <td>57  </td> <td>56  </td> <td>69  </td> <td>72  </td> <td>82  </td> <td>73  </td> <td>82  </td> <td>77  </td> <td>72  </td> <td>83  </td>\n",
       "        </tr>\n",
       "        <tr>\n",
       "            <td>Tuesday  </td> <td>86  </td> <td>35  </td> <td>24  </td> <td>20  </td> <td>21  </td> <td>24  </td> <td>29  </td> <td>49  </td> <td>57  </td> <td>40  </td> <td>60  </td> <td>41  </td> <td>67  </td> <td>59  </td> <td>62  </td> <td>59  </td> <td>73  </td> <td>84  </td> <td>74  </td> <td>95  </td> <td>77  </td> <td>79  </td> <td>82  </td> <td>45  </td>\n",
       "        </tr>\n",
       "        <tr>\n",
       "            <td>Wednesday</td> <td>77  </td> <td>38  </td> <td>32  </td> <td>32  </td> <td>11  </td> <td>17  </td> <td>37  </td> <td>41  </td> <td>50  </td> <td>41  </td> <td>50  </td> <td>46  </td> <td>74  </td> <td>60  </td> <td>52  </td> <td>55  </td> <td>54  </td> <td>83  </td> <td>92  </td> <td>78  </td> <td>72  </td> <td>67  </td> <td>88  </td> <td>42  </td>\n",
       "        </tr>\n",
       "    </tbody>\n",
       "</table>"
      ],
      "text/plain": [
       "weekday   | 0    | 1    | 2    | 3    | 4    | 5    | 6    | 7    | 8    | 9    | 10   | 11   | 12   | 13   | 14   | 15   | 16   | 17   | 18   | 19   | 20   | 21   | 22   | 23\n",
       "Friday    | 92   | 54   | 45   | 25   | 17   | 26   | 20   | 39   | 46   | 43   | 40   | 46   | 79   | 56   | 72   | 78   | 86   | 95   | 103  | 86   | 79   | 75   | 72   | 106\n",
       "Monday    | 81   | 40   | 37   | 22   | 18   | 22   | 22   | 39   | 58   | 49   | 36   | 46   | 73   | 56   | 56   | 64   | 66   | 80   | 84   | 79   | 108  | 78   | 76   | 52\n",
       "Saturday  | 121  | 103  | 67   | 40   | 31   | 14   | 19   | 31   | 38   | 47   | 31   | 48   | 79   | 48   | 80   | 59   | 76   | 72   | 78   | 68   | 78   | 67   | 100  | 89\n",
       "Sunday    | 120  | 86   | 73   | 52   | 27   | 23   | 25   | 15   | 29   | 42   | 41   | 31   | 68   | 50   | 55   | 63   | 62   | 75   | 82   | 65   | 68   | 90   | 79   | 59\n",
       "Thursday  | 84   | 35   | 26   | 26   | 34   | 23   | 29   | 49   | 56   | 38   | 33   | 51   | 75   | 51   | 57   | 56   | 69   | 72   | 82   | 73   | 82   | 77   | 72   | 83\n",
       "Tuesday   | 86   | 35   | 24   | 20   | 21   | 24   | 29   | 49   | 57   | 40   | 60   | 41   | 67   | 59   | 62   | 59   | 73   | 84   | 74   | 95   | 77   | 79   | 82   | 45\n",
       "Wednesday | 77   | 38   | 32   | 32   | 11   | 17   | 37   | 41   | 50   | 41   | 50   | 46   | 74   | 60   | 52   | 55   | 54   | 83   | 92   | 78   | 72   | 67   | 88   | 42"
      ]
     },
     "execution_count": 10,
     "metadata": {},
     "output_type": "execute_result"
    }
   ],
   "source": [
    "# Constructing 2d array for visualization with heatmap.\n",
    "hour_weekday_matrix = incidents.group(['weekday', 'hour'])\n",
    "hour_weekday_matrix = hour_weekday_matrix.pivot('hour', 'weekday', 'count', sum)\n",
    "hour_weekday_matrix"
   ]
  },
  {
   "cell_type": "markdown",
   "metadata": {},
   "source": [
    "We hope the above matrix is starting to make things a little bit clearer. However, there is one issue with the visualization, namely that the weekday values are not ordered logically. We can address this issue by manually changing this order. At this point, we'll switch over to using the python package [pandas](https://pandas.pydata.org/docs/). It'll help us with sorting the values in our matrix in a particular order, and it works well with the visualization library [seaborn](https://seaborn.pydata.org/), which we're using to create the heatmap. You aren't expected to know how to use pandas or seaborn, but we're introducing them here to show what other types of visualizations you could make with the incident data."
   ]
  },
  {
   "cell_type": "code",
   "execution_count": 11,
   "metadata": {},
   "outputs": [],
   "source": [
    "# Ordering new 2d array by weekday.\n",
    "import pandas as pd\n",
    "\n",
    "weekday_order = ['Monday', 'Tuesday', 'Wednesday', 'Thursday', 'Friday', 'Saturday', 'Sunday']\n",
    "hour_weekday_matrix_df = hour_weekday_matrix.to_df()\n",
    "hour_weekday_matrix_df = hour_weekday_matrix_df.set_index('weekday').reindex(weekday_order)"
   ]
  },
  {
   "cell_type": "markdown",
   "metadata": {},
   "source": [
    "Now that both the rows and columns are ordered, we can plot our heatmap using the **seaborn** package method `heatmap`:\n",
    "\n",
    "    sns.heatmap(dataframe)\n",
    "    \n",
    "The basic idea is to represent the above matrix with colors, having a specific color range represent numerical values of each coordinate. The `cmap` parameter of the method simply defines the color map of the visualization. The list of color maps can be found in [this link](https://seaborn.pydata.org/tutorial/color_palettes.html)."
   ]
  },
  {
   "cell_type": "code",
   "execution_count": 12,
   "metadata": {},
   "outputs": [
    {
     "data": {
      "image/png": "[encoded data removed]",
      "text/plain": [
       "<Figure size 1440x576 with 2 Axes>"
      ]
     },
     "metadata": {
      "needs_background": "light"
     },
     "output_type": "display_data"
    }
   ],
   "source": [
    "# Graphing the heatmap.\n",
    "import seaborn as sns\n",
    "\n",
    "fig, ax = plt.subplots(1, figsize=(20, 8))\n",
    "sns.heatmap(hour_weekday_matrix_df, cmap='BuPu')\n",
    "ax.set_title('Incident Time and Weekday, 2019',\\\n",
    "            fontdict={'fontsize': '15', 'fontweight' : '3'});"
   ]
  },
  {
   "cell_type": "markdown",
   "metadata": {},
   "source": [
    "<div class=\"alert alert-warning\">\n",
    "    <b> Question 3: </b> <a id='q3'></a>\n",
    "What kind of insights can you gain from the visualization above? What can you tell about the time incidents were most likely to occur? What can you tell about the weekday? Can you think of an explanation behind your findings?"
   ]
  },
  {
   "cell_type": "markdown",
   "metadata": {},
   "source": [
    "YOUR ANSWER HERE: "
   ]
  },
  {
   "cell_type": "markdown",
   "metadata": {},
   "source": [
    "Contratulations on making it this far! Don't be too alarmed if you find the above steps overwhelming. These concepts are quite complicated, and we just wanted you to get a sense of what's possible with Python. \n",
    "\n",
    "Feel free to experiment with the code blocks above to find out what each step is doing to manipulate the given data. Just make sure to reset the variable to what we've defined it to be originally.\n",
    "\n",
    "---\n",
    "\n",
    "Original notebook developed by: Damien Kwon, Keilyn Yuzuki\n",
    "\n",
    "Adapted by: Pratibha Sriram\n",
    "\n",
    "\n",
    "Data Science Modules: http://data.berkeley.edu/education/modules\n",
    "\n",
    "Data Science Offerings at Berkeley: https://data.berkeley.edu/academics/undergraduate-programs/data-science-offerings\n",
    "\n"
   ]
  }
 ],
 "metadata": {
  "kernelspec": {
   "display_name": "Python 3",
   "language": "python",
   "name": "python3"
  },
  "language_info": {
   "codemirror_mode": {
    "name": "ipython",
    "version": 3
   },
   "file_extension": ".py",
   "mimetype": "text/x-python",
   "name": "python",
   "nbconvert_exporter": "python",
   "pygments_lexer": "ipython3",
   "version": "3.6.9"
  }
 },
 "nbformat": 4,
 "nbformat_minor": 2
}
