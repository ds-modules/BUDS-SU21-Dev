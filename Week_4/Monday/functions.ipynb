{
 "cells": [
  {
   "cell_type": "code",
   "execution_count": 2,
   "metadata": {},
   "outputs": [],
   "source": [
    "import numpy as np\n",
    "import matplotlib.pyplot as plots\n",
    "from datascience import *\n",
    "import statsmodels.formula.api as sm\n",
    "%matplotlib inline \n",
    "plots.style.use(\"fivethirtyeight\")"
   ]
  },
  {
   "cell_type": "code",
   "execution_count": 14,
   "metadata": {},
   "outputs": [],
   "source": [
    "#This is a helper function we use to define the correlation equation: you can ignore this for the purposes of this class\n",
    "def standard_units(xyz): \n",
    "    return (xyz - np.mean(xyz))/np.std(xyz) "
   ]
  },
  {
   "cell_type": "code",
   "execution_count": 15,
   "metadata": {},
   "outputs": [],
   "source": [
    "#Read the doc string for this function!\n",
    "def correlation(table, label_x, label_y):\n",
    "    \"\"\"Calculates the correlation coefficient between two variables in a table\n",
    "    \n",
    "    Parameters\n",
    "    ----------\n",
    "    table:\n",
    "        The data table containing the column to be repeated.\n",
    "    label_x: \n",
    "        The the name of a column (in quotes) of the table containing one of the variables of interest\n",
    "    label_y: \n",
    "        The the name of another column (in quotes) of the table containing the other variables of interest\n",
    "        \n",
    "    Returns\n",
    "    -------\n",
    "    int\n",
    "        A single numeric value which is the correlation coefficient between `label_x` and `label_y`\n",
    "        \n",
    "    Example\n",
    "    -------\n",
    "    >>> correlation(clean_ces_data, 'unemployment', 'poverty')\n",
    "    \n",
    "    0.6046862173005914    \n",
    "    \"\"\"\n",
    "    return np.mean(standard_units(table.column(label_x))*standard_units(table.column(label_y)))"
   ]
  },
  {
   "cell_type": "code",
   "execution_count": null,
   "metadata": {},
   "outputs": [],
   "source": []
  },
  {
   "cell_type": "code",
   "execution_count": null,
   "metadata": {},
   "outputs": [],
   "source": []
  }
 ],
 "metadata": {
  "kernelspec": {
   "display_name": "Python 3",
   "language": "python",
   "name": "python3"
  },
  "language_info": {
   "codemirror_mode": {
    "name": "ipython",
    "version": 3
   },
   "file_extension": ".py",
   "mimetype": "text/x-python",
   "name": "python",
   "nbconvert_exporter": "python",
   "pygments_lexer": "ipython3",
   "version": "3.6.9"
  }
 },
 "nbformat": 4,
 "nbformat_minor": 4
}
