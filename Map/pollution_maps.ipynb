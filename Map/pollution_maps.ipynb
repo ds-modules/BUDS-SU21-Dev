{
 "cells": [
  {
   "cell_type": "code",
   "execution_count": null,
   "metadata": {},
   "outputs": [],
   "source": [
    "import warnings\n",
    "warnings.filterwarnings('ignore')\n",
    "\n",
    "from datascience import *\n",
    "import pandas as pd\n",
    "import numpy as np\n",
    "import matplotlib.pyplot as plt\n",
    "\n",
    "%matplotlib inline\n",
    "plt.style.use('fivethirtyeight')"
   ]
  },
  {
   "cell_type": "markdown",
   "metadata": {},
   "source": [
    "# Pollution Maps"
   ]
  },
  {
   "cell_type": "markdown",
   "metadata": {},
   "source": [
    "In this report we introduce maps! Some data has geospatial features such as latitude and longitude, giving us the opportunity to understand how instances of our data are spread across different locations. "
   ]
  },
  {
   "cell_type": "markdown",
   "metadata": {},
   "source": [
    "## The Data Science Life Cycle - Table of Contents\n",
    "\n",
    "<a href='#section 0'>Background Knowledge</a>\n",
    "\n",
    "<a href='#subsection 1a'>Formulating a question or problem</a> \n",
    "\n",
    "<a href='#subsection 1b'>Acquiring and preparing data</a>\n",
    "\n",
    "<a href='#subsection 1c'>Conducting exploratory data analysis</a>\n",
    "\n",
    "<a href='#subsection 1d'>Using prediction and inference to draw conclusions</a>\n",
    "<br><br>"
   ]
  },
  {
   "cell_type": "markdown",
   "metadata": {},
   "source": [
    "## Background<a id='section 0'></a>"
   ]
  },
  {
   "cell_type": "markdown",
   "metadata": {},
   "source": [
    "In 2004, California introduced the Environmental Justice Action Plan to study the impact of multiple pollution sources on California communities. \n",
    "\n",
    "While California has some of the strictest regulatory controls in the country, many communities in California struggle with a disproportionate share of environmental pollution. \n",
    "Some parts of the state are burdened by old industrial and agricultural practices, while others are close to\n",
    "trade corridors and suffer from high levels of air pollution. \n",
    " \n",
    "The California Environmental Protection Agency (CalEPA) and the California Office of Health Hazard Assessment (OEHHA)\n",
    "and the public developed the CalEnviroScreen project to help assess the impact of pollution on California Communities. We'll be using its data to draw maps that give us more insight into the impacts of pollution. \n",
    "\n"
   ]
  },
  {
   "cell_type": "markdown",
   "metadata": {},
   "source": [
    "## Formulating a question or problem <a id='subsection 1a'></a>"
   ]
  },
  {
   "cell_type": "markdown",
   "metadata": {},
   "source": [
    "It is impotant to ask questions that will be informative and that will avoid misleading results."
   ]
  },
  {
   "cell_type": "markdown",
   "metadata": {},
   "source": [
    "*Insert Answer Here*"
   ]
  },
  {
   "cell_type": "markdown",
   "metadata": {},
   "source": [
    "*Insert Answer Here*"
   ]
  },
  {
   "cell_type": "markdown",
   "metadata": {},
   "source": [
    "## Acquiring and preparing data <a id='subsection 1b'></a>"
   ]
  },
  {
   "cell_type": "markdown",
   "metadata": {},
   "source": [
    "The California Environmental Screening project, CalEnviroScreen, provides data on air, water, and pollution (e.g., ozone levels, airborne particulate matter, pesticides, traffic congestion). CalEnviroScreen, CES for short, has combined this information into a pollution  score. You can find raw data [here](https://oehha.ca.gov/calenviroscreen).\n",
    "\n",
    "The data provided here includes environmental and population information across different census tracts in California. Census tracts from the U.S. Census Bureau (2010 census) represent small, relatively permanent subdivisons of a county, and are uniquely numbered in each county with a numeric code. Census tracts average about 4,000 people, but are 1,200 at minimum and 8,000 at maximum. "
   ]
  },
  {
   "cell_type": "code",
   "execution_count": null,
   "metadata": {},
   "outputs": [],
   "source": [
    "ces_raw = Table.read_table(\"pollution_data/ces_data_v2.csv\")"
   ]
  },
  {
   "cell_type": "markdown",
   "metadata": {},
   "source": [
    "Here are some of the important fields in the dataset that you will focus on:\n",
    "\n",
    "|Column Name   | Description |\n",
    "|:---|:---|\n",
    "|Total.Population | Census tract population |\n",
    "|California.County | County name |\n",
    "|Latitude | Measurement of location north or south of the equator | \n",
    "|Longitude | Measurement of location east or west of the north-south line |\n",
    "|Hispanic....| Percent of population that is Hispanic |\n",
    "|White.... | Precent of population that is non-Hispanic White |\n",
    "|African.American.... | Precent of population that is African American |\n",
    "|Ozone| Average daily maximum ozone concnetration (ppm) from May to October |\n",
    "|PM2.5 | Average concentration of fine particulate matter (micro-gram per meter cubed) |\n",
    "|Pollution.Burden | Pollution Burden scores for each census tract derived from exposures indicators (ozone and PM2.5 concentrations, diesel PM emissions, drinking water contaminants, pesticide use, toxic releases from facilities, and traffic density) and environmental effects indicators (cleanup sites, impaired water bodies, groundwater threats, hazardous waste facilities and generators, and solid waste sites and facilities) |\n",
    "|Asthma | Emergency department visits for asthma per 10,000 people |\n",
    "|Low.Birth.Weight | Percent of babies born weighing under 5.5 pounds |\n",
    "|Poverty | Percent of the population living below two times the federal poverty level |\n",
    "|Unemployment | Percent of the population over 16 that is unemployed and eligible for the labor force |"
   ]
  },
  {
   "cell_type": "code",
   "execution_count": null,
   "metadata": {},
   "outputs": [],
   "source": [
    "ces_raw"
   ]
  },
  {
   "cell_type": "markdown",
   "metadata": {},
   "source": [
    "Part of **cleaning data** includes **renaming columns**, **reducing the table size to include only the columns of interest**, and **removing missing values**.  \n",
    "\n",
    "For our purposes, we will not be using the columns:\n",
    "- ZIP\n",
    "- CES.3.0.Score\n",
    "- Diesel.PM\n",
    "- Drinking.Water\n",
    "- Pesticides\n",
    "- Tox..Release\n",
    "- Traffic\n",
    "- Cleanup.Sites\n",
    "- Groundwater.Threats\n",
    "- Haz..Waste\n",
    "- Imp..Water.Bodies\n",
    "- Solid.Waste\n",
    "\n",
    "Keep the column `Census.Tract` because it uniquely identifies the census tract.  Also keep `Pollution.Burden`, race columns, health indicators, and a few pollution indicators that you identified earlier.  "
   ]
  },
  {
   "cell_type": "markdown",
   "metadata": {},
   "source": [
    "<div class=\"alert alert-info\">\n",
    "<b>Question:</b> Fill the array \"cols_to_drop\" with the names of the columns we seek to remove from our dataset.</div> "
   ]
  },
  {
   "cell_type": "code",
   "execution_count": null,
   "metadata": {},
   "outputs": [],
   "source": [
    "cols_to_drop = make_array(...)\n",
    "\n",
    "ces_data = ces_raw.drop(...)\n",
    "ces_data"
   ]
  },
  {
   "cell_type": "code",
   "execution_count": null,
   "metadata": {
    "scrolled": true
   },
   "outputs": [],
   "source": [
    "#KEY\n",
    "cols_to_drop = make_array([\"ZIP\", \"CES.3.0.Score\",\"Diesel.PM\", \"Drinking.Water\", \"Pesticides\", \n",
    "                \"Tox..Release\", \"Traffic\", \"Cleanup.Sites\", \"Groundwater.Threats\", \"Haz..Waste\", \n",
    "                \"Imp..Water.Bodies\", \"Solid.Waste\"])\n",
    "\n",
    "ces_data = ces_raw.drop(cols_to_drop)\n",
    "ces_data"
   ]
  },
  {
   "cell_type": "markdown",
   "metadata": {},
   "source": [
    "Let's give some of the remaining columns simpler, more meaningful names."
   ]
  },
  {
   "cell_type": "code",
   "execution_count": null,
   "metadata": {},
   "outputs": [],
   "source": [
    "old_names = make_array('Census.Tract', 'Total.Population', 'California.County', 'Hispanic....', \"White....\", \n",
    "            'African.American....', 'Native.American....', \"Asian.American....\", 'Other....', 'Pollution.Burden',\n",
    "            'Low.Birth.Weight')\n",
    "new_names = make_array('Tract', 'Population', 'County', 'Hispanic', \"White\", 'Black', 'Native', \"Asian\", 'Other', 'Pollution_Burden',\n",
    "            'Low_Birthweight')"
   ]
  },
  {
   "cell_type": "code",
   "execution_count": null,
   "metadata": {},
   "outputs": [],
   "source": [
    "ces_data = ces_data.relabel(old_names, new_names)\n",
    "ces_data"
   ]
  },
  {
   "cell_type": "markdown",
   "metadata": {},
   "source": [
    "## Conducting exploratory data analysis <a id='subsection 1c'></a>"
   ]
  },
  {
   "cell_type": "markdown",
   "metadata": {},
   "source": [
    "We are interested in studying the impact of pollution on different communities in California. With maps, we can get a spatial understanding of how levels of pollution vary across different geographical regions.\n",
    "\n",
    "\n",
    "We will be using two different map types to give us insight: a **dot map** and a **size map**. "
   ]
  },
  {
   "cell_type": "markdown",
   "metadata": {},
   "source": [
    "### Dot map\n",
    "\n",
    "Dot maps are a simple map with a dot at each (lat, long) pair from our data. \n",
    "\n",
    "The next cell creates a function called <b>dot_map</b> which we will use to create a dot map. "
   ]
  },
  {
   "cell_type": "code",
   "execution_count": null,
   "metadata": {},
   "outputs": [],
   "source": [
    "def dot_map(tbl):\n",
    "    \"\"\"Create a map with dots to represent a unique location.\n",
    "    \n",
    "    Parameters:\n",
    "        tbl (datascience.Table): The Table containing the data needed to plot our map. Note the table\n",
    "        must have a \"Latitude\" and \"Longitude\" column for this function to work.\n",
    "    Returns:\n",
    "        (datascience.Map): A map with a dot at each unique (lat, long) pair.\n",
    "    \"\"\"\n",
    "    reduced = tbl.select(\"Latitude\", \"Longitude\")\n",
    "    return Circle.map_table(reduced, area=10, fill_opacity=1)"
   ]
  },
  {
   "cell_type": "markdown",
   "metadata": {},
   "source": [
    "<div class=\"alert alert-danger\" role=\"alert\">\n",
    "    <b>Example:</b> Let's start with a dot map that displays all of our census tracts. \n",
    "\n",
    "To do so, we can pass in our <code>ces_data</code> table. Following the function provided, it takes in a table, abbreviated as tbl, so let's use <code>ces_data</code> as our argument.\n",
    "</div>"
   ]
  },
  {
   "cell_type": "code",
   "execution_count": null,
   "metadata": {},
   "outputs": [],
   "source": [
    "dot_map(ces_data)"
   ]
  },
  {
   "cell_type": "markdown",
   "metadata": {},
   "source": [
    "Wow! We've now generated a map with dots that represent each of the census tracts. Next, we would like to create dot maps for census tracts that fit certain criteria. For example, ..."
   ]
  },
  {
   "cell_type": "markdown",
   "metadata": {},
   "source": [
    "<div class=\"alert alert-info\"> \n",
    "<b>Question:</b> Make a simple dot map for only San Francisco county census tracts using <i>ces_data</i>.\n",
    "</div>"
   ]
  },
  {
   "cell_type": "code",
   "execution_count": null,
   "metadata": {},
   "outputs": [],
   "source": [
    "dot_sf = ces_data.where(\"\", are.equal_to(\"\"))\n",
    "\n",
    "dot_map(dot_sf)"
   ]
  },
  {
   "cell_type": "code",
   "execution_count": null,
   "metadata": {},
   "outputs": [],
   "source": [
    "# KEY\n",
    "\n",
    "dot_sf = ces_data.where(\"County\", are.equal_to(\"San Francisco\"))\n",
    "\n",
    "dot_map(dot_sf)"
   ]
  },
  {
   "cell_type": "markdown",
   "metadata": {},
   "source": [
    "<div class=\"alert alert-info\"> \n",
    "<b>Question:</b> Make a simple dot map where pollution burden is greater than 80% for census tracts using <i>ces_data</i>.\n",
    "</div>"
   ]
  },
  {
   "cell_type": "code",
   "execution_count": null,
   "metadata": {},
   "outputs": [],
   "source": [
    "dot_80 = ces_data.where(\"\", are.above())\n",
    "\n",
    "dot_map(dot_80)"
   ]
  },
  {
   "cell_type": "code",
   "execution_count": null,
   "metadata": {},
   "outputs": [],
   "source": [
    "# KEY\n",
    "\n",
    "dot_80 = ces_data.where(\"Pollution_Burden\", are.above(80))\n",
    "\n",
    "dot_map(dot_80)"
   ]
  },
  {
   "cell_type": "markdown",
   "metadata": {},
   "source": [
    "### Size map\n",
    "\n",
    "Size maps are detail-oriented maps, using color and size data to add more visual information to our map. \n",
    "\n",
    "The next cell creates a function called <b>size_map</b> which we will use to create a size map."
   ]
  },
  {
   "cell_type": "code",
   "execution_count": null,
   "metadata": {},
   "outputs": [],
   "source": [
    "def size_map(tbl):\n",
    "    \"\"\"Plots a geographical map where each dot represents a coordinate pair, scaled by a given column.\n",
    "    \n",
    "    Parameters:\n",
    "        tbl: The input Table containing the following arguments, in order:\n",
    "            Col 0: latitude\n",
    "            Col 1: longitude\n",
    "            Col 2: type of location\n",
    "            Col 3: color (MUST be labeled \"colors\")\n",
    "            Col 4: area (MUST be labeled \"areas\")\n",
    "    Returns:\n",
    "        (datascience.Map): A map with a dot at each (lat, long),\n",
    "                        colored according to Col 3,area as in Col 4.\n",
    "    \"\"\"\n",
    "    return Circle.map_table(tbl, fill_opacity=1)"
   ]
  },
  {
   "cell_type": "markdown",
   "metadata": {},
   "source": [
    "Load the following cells to get some helpful functions needed for `size_map`."
   ]
  },
  {
   "cell_type": "markdown",
   "metadata": {},
   "source": [
    "#### Helper Functions for `size_map`"
   ]
  },
  {
   "cell_type": "code",
   "execution_count": 1,
   "metadata": {},
   "outputs": [],
   "source": [
    "#Use this function in order to get our Col 3: color for size_map\n",
    "def get_colors_from_column(tbl, col, include_outliers=True):\n",
    "    \"\"\"Assigns each row of the input table to a color based on the value of its percentage column.\"\"\"\n",
    "    vmin = min(tbl.column(col))\n",
    "    vmax = max(tbl.column(col))\n",
    "\n",
    "    if include_outliers:\n",
    "        outlier_min_bound = vmin\n",
    "        outlier_max_bound = vmax\n",
    "    else:\n",
    "        q1 = np.percentile(tbl.column(col), 25)\n",
    "        q3 = np.percentile(tbl.column(col), 75)\n",
    "        IQR = q3 - q1\n",
    "        outlier_min_bound = max(vmin, q1 - 1.5 * IQR)\n",
    "        outlier_max_bound = min(vmax, q3 + 1.5 * IQR)\n",
    "        \n",
    "    colorbar_scale = list(np.linspace(outlier_min_bound, outlier_max_bound, 10))\n",
    "    scale_colors = ['#006100', '#3c8000', '#6ba100', '#a3c400', '#dfeb00', '#ffea00', '#ffbb00', '#ff9100', '#ff6200', '#ff2200']\n",
    "    \n",
    "    def assign_color(colors, cutoffs, datapoint):\n",
    "        \"\"\"Assigns a color to the input percent based on the data's distribution.\"\"\"\n",
    "        for i, cutoff in enumerate(cutoffs):\n",
    "            if cutoff >= datapoint:\n",
    "                return colors[i - 1] if i > 0 else colors[0]\n",
    "        return colors[-1]\n",
    "    \n",
    "    colors = [\"\"] * tbl.num_rows\n",
    "    for i, datapoint in enumerate(tbl.column(col)): \n",
    "        colors[i] = assign_color(scale_colors, colorbar_scale, datapoint)\n",
    "        \n",
    "    return colors"
   ]
  },
  {
   "cell_type": "code",
   "execution_count": 2,
   "metadata": {},
   "outputs": [],
   "source": [
    "# Use this function in order to get our Col 4: size for size_map\n",
    "def get_areas_from_column(tbl, label):\n",
    "    \"\"\"Gets the array values corresponding to the column label in the input table.\"\"\"\n",
    "    return tbl.column(label)"
   ]
  },
  {
   "cell_type": "markdown",
   "metadata": {},
   "source": [
    "<div class=\"alert alert-danger\"> \n",
    "<b>Example:</b> Let's start with creating a population size map.\n",
    "    \n",
    "To do so, let's using our above helper functions to get the population areas and store them in a variable called <code>pop_areas</code>\n",
    "</div>"
   ]
  },
  {
   "cell_type": "code",
   "execution_count": 3,
   "metadata": {},
   "outputs": [
    {
     "ename": "NameError",
     "evalue": "name 'ces_data' is not defined",
     "output_type": "error",
     "traceback": [
      "\u001b[0;31m---------------------------------------------------------------------------\u001b[0m",
      "\u001b[0;31mNameError\u001b[0m                                 Traceback (most recent call last)",
      "\u001b[0;32m<ipython-input-3-4f6654ac6a54>\u001b[0m in \u001b[0;36m<module>\u001b[0;34m\u001b[0m\n\u001b[0;32m----> 1\u001b[0;31m \u001b[0mpop_areas\u001b[0m \u001b[0;34m=\u001b[0m \u001b[0mget_areas_from_column\u001b[0m\u001b[0;34m(\u001b[0m\u001b[0mces_data\u001b[0m\u001b[0;34m,\u001b[0m \u001b[0;34m\"Population\"\u001b[0m\u001b[0;34m)\u001b[0m\u001b[0;34m\u001b[0m\u001b[0;34m\u001b[0m\u001b[0m\n\u001b[0m\u001b[1;32m      2\u001b[0m \u001b[0mpop_areas\u001b[0m\u001b[0;34m\u001b[0m\u001b[0;34m\u001b[0m\u001b[0m\n",
      "\u001b[0;31mNameError\u001b[0m: name 'ces_data' is not defined"
     ]
    }
   ],
   "source": [
    "pop_areas = get_areas_from_column(ces_data, \"Population\")\n",
    "pop_areas"
   ]
  },
  {
   "cell_type": "markdown",
   "metadata": {},
   "source": [
    "Since we know that there are no percentages associated with population, we can use a constant hexadecimal color value **#1E90FF** and a constant type `Population`."
   ]
  },
  {
   "cell_type": "code",
   "execution_count": null,
   "metadata": {},
   "outputs": [],
   "source": [
    "ces_pop_tbl = ces_data.select(\"Latitude\", \"Longitude\").with_columns(\"type\", \"Population\",\n",
    "                                                                    \"colors\", '#1E90FF',\n",
    "                                                                    \"areas\", pop_areas)\n",
    "ces_pop_tbl"
   ]
  },
  {
   "cell_type": "code",
   "execution_count": null,
   "metadata": {},
   "outputs": [],
   "source": [
    "size_map(ces_pop_tbl)"
   ]
  },
  {
   "cell_type": "markdown",
   "metadata": {},
   "source": [
    "<div class=\"alert alert-info\"> \n",
    "<b>Question:</b> Create a size map that uses color to map the <b>Pollution Burden</b> values.\n",
    "    \n",
    "Recall, <b>Pollution_Burden</b> represents the potential exposures to pollutants and the adverse environmental conditions caused by pollution in a given census tract.\n",
    "</div>"
   ]
  },
  {
   "cell_type": "code",
   "execution_count": null,
   "metadata": {},
   "outputs": [],
   "source": [
    "# pollution_areas: pollution burden percents from ces_data\n",
    "pollution_areas = get_areas_from_column(ces_data, \"Pollution_Burden\")\n",
    "# pollution_colors: color code pollution burden percents from ces_data\n",
    "pollution_colors = get_colors_from_column(ces_data, \"Pollution_Burden\")\n",
    "pollution_tbl = ces_data.select(\"Latitude\", \"Longitude\").with_columns(\"type\", \"Population\",\n",
    "                                                                    \"colors\", pollution_colors,\n",
    "                                                                    \"areas\", pollution_areas)"
   ]
  },
  {
   "cell_type": "code",
   "execution_count": null,
   "metadata": {},
   "outputs": [],
   "source": [
    "pollution_tbl"
   ]
  },
  {
   "cell_type": "code",
   "execution_count": null,
   "metadata": {
    "scrolled": true
   },
   "outputs": [],
   "source": [
    "size_map(pollution_tbl)"
   ]
  },
  {
   "cell_type": "markdown",
   "metadata": {},
   "source": [
    "<div class=\"alert alert-info\"> \n",
    "    <b>Question:</b> Now, create a size map that uses color to map the <b>Poverty</b> values.\n",
    "\n",
    "Recall, <b>Poverty</b> is the percent of the population living below two times the federal poverty level in a given census tract.\n",
    "</div>"
   ]
  },
  {
   "cell_type": "code",
   "execution_count": null,
   "metadata": {},
   "outputs": [],
   "source": [
    "# KEY\n",
    "\n",
    "pov_colors = get_colors_from_column(ces_data, \"Poverty\")\n",
    "pov_areas = get_areas_from_column(ces_data, \"Poverty\")\n",
    "\n",
    "poverty_tbl = ces_data.select(\"Latitude\", \"Longitude\").with_columns(\"type\", \"Poverty\",\n",
    "                                                                    \"colors\", pov_colors,\n",
    "                                                                    \"areas\", pov_areas)"
   ]
  },
  {
   "cell_type": "code",
   "execution_count": null,
   "metadata": {},
   "outputs": [],
   "source": [
    "poverty_tbl"
   ]
  },
  {
   "cell_type": "code",
   "execution_count": null,
   "metadata": {},
   "outputs": [],
   "source": [
    "size_map(poverty_tbl)"
   ]
  },
  {
   "cell_type": "markdown",
   "metadata": {},
   "source": [
    "## Using prediction and inference to draw conclusions <a id='subsection 1d'></a>"
   ]
  },
  {
   "cell_type": "markdown",
   "metadata": {},
   "source": [
    "<div class=\"alert alert-info\"> \n",
    "<b>Question:</b> \n",
    "\n",
    "</div>"
   ]
  },
  {
   "cell_type": "markdown",
   "metadata": {},
   "source": [
    "*Insert answer here*"
   ]
  },
  {
   "cell_type": "markdown",
   "metadata": {},
   "source": [
    "<div class=\"alert alert-info\"> \n",
    "<b>Question:</b> \n",
    "\n",
    "</div>"
   ]
  },
  {
   "cell_type": "markdown",
   "metadata": {},
   "source": [
    "*Insert answer here*"
   ]
  },
  {
   "cell_type": "markdown",
   "metadata": {},
   "source": [
    "<div class=\"alert alert-info\"> \n",
    "<b>Question:</b> \n",
    "\n",
    "</div>"
   ]
  },
  {
   "cell_type": "markdown",
   "metadata": {},
   "source": [
    "*Insert answer here*"
   ]
  },
  {
   "cell_type": "markdown",
   "metadata": {},
   "source": [
    "<div class=\"alert alert-success\" role=\"alert\">\n",
    "  <h2 class=\"alert-heading\">Well done!</h2>\n",
    "    <p>In this report you ...</p>\n",
    "</div>"
   ]
  }
 ],
 "metadata": {
  "kernelspec": {
   "display_name": "Python 3",
   "language": "python",
   "name": "python3"
  },
  "language_info": {
   "codemirror_mode": {
    "name": "ipython",
    "version": 3
   },
   "file_extension": ".py",
   "mimetype": "text/x-python",
   "name": "python",
   "nbconvert_exporter": "python",
   "pygments_lexer": "ipython3",
   "version": "3.7.4"
  }
 },
 "nbformat": 4,
 "nbformat_minor": 4
}
