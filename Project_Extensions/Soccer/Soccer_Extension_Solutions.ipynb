{
 "cells": [
  {
   "cell_type": "code",
   "execution_count": null,
   "metadata": {},
   "outputs": [],
   "source": [
    "import numpy as np\n",
    "import pandas as pd\n",
    "from datascience import *\n",
    "\n",
    "import matplotlib.pyplot as plt\n",
    "%matplotlib inline\n",
    "plt.style.use('fivethirtyeight')"
   ]
  },
  {
   "cell_type": "markdown",
   "metadata": {},
   "source": [
    "# *Above and Beyond:* Soccer Project"
   ]
  },
  {
   "cell_type": "markdown",
   "metadata": {},
   "source": [
    "## The Data Science Life Cycle - Table of Contents\n",
    "\n",
    "<a href='#section 0'>Background Knowledge</a>\n",
    "\n",
    "<a href='#subsection 1a'>Formulating a question or problem</a> \n",
    "\n",
    "<a href='#subsection 1b'>Acquiring and preparing data</a>\n",
    "\n",
    "<a href='#subsection 1c'>Conducting exploratory data analysis</a>\n",
    "\n",
    "<a href='#subsection 1d'>Using prediction and inference to draw conclusions</a>\n",
    "<br><br>"
   ]
  },
  {
   "cell_type": "markdown",
   "metadata": {},
   "source": [
    "### Background Knowledge <a id='section 0'></a>\n"
   ]
  },
  {
   "cell_type": "markdown",
   "metadata": {},
   "source": [
    "Nothing frustrates both soccer fans and players as much as being [red-carded](https://en.wikipedia.org/wiki/Penalty_card#Red_card). In soccer, receiving a red card from the referee means that the player awarded the red card is expelled from the game, and consequently his team must play with one fewer player for the remainder of the game.\n",
    "\n",
    "Due to the inherently subjective nature of referees' judgments, questions involving the fairness of red card decisions crop up frequently, especially when soccer players with darker complexions are red-carded.\n",
    "\n",
    "Last week, we explored a dataset on red-cards and skin color and attempt to understand how different approachs to analysis can lead to different conclusions to the general question: \"Are referees more likely to give red cards to darker-skinned players?\"\n",
    "\n",
    "In this notebook, we will be taking a deeper look at country-specific data and how it compares between clubs within a given league."
   ]
  },
  {
   "cell_type": "markdown",
   "metadata": {},
   "source": [
    " <img src=\"images/redcard.jpg\" width = 700/>"
   ]
  },
  {
   "cell_type": "markdown",
   "metadata": {},
   "source": [
    "### Background Readings\n",
    "\n",
    "The following articles, which discuss current issues of racial bias in European soccer leagues, will be helpful in gaining context into this data:\n",
    "\n",
    "1. [Pace vs. Intelligence](https://www.theguardian.com/football/2020/jun/29/groundbreaking-report-reveals-racial-bias-in-english-football-commentary): A 2020 investigation finds that lighter skinned players are more often referred to as \"intelligent\".\n",
    "2. [FiveThirtyEight](https://fivethirtyeight.com/features/soccer-commentary-is-full-of-coded-racism/): Further discussion on the article above\n",
    "3. [Euro 2020 England](https://apnews.com/article/euro-2020-sports-race-and-ethnicity-racial-injustice-europe-8ebb7baf1ae56f32e96b56e64302a4d7): Racism is very much still prevalent in today's footballing\n",
    "\n",
    "After reading these articles, come up with five observations / reflections / questions and enter them below:\n",
    "1. \n",
    "2. \n",
    "3. \n",
    "4. \n",
    "5. "
   ]
  },
  {
   "cell_type": "markdown",
   "metadata": {},
   "source": [
    "# The Data Science Life Cycle <a id='section 1'></a>"
   ]
  },
  {
   "cell_type": "markdown",
   "metadata": {},
   "source": [
    "## Formulating a question or problem <a id='subsection 1a'></a>\n",
    "It is important to ask questions that will be informative and that will avoid misleading results. Since at least one group member has seen this data before, consult with them in the following section."
   ]
  },
  {
   "cell_type": "markdown",
   "metadata": {},
   "source": [
    "<div class=\"alert alert-info\">\n",
    "<b>Question:</b> Recall the questions about red cards and skin color that you encountered in your initial investigation last week. Now, think about questions you still have and want to answer. What kind of data is needed to address these questions?\n",
    "   </div>\n",
    "   "
   ]
  },
  {
   "cell_type": "markdown",
   "metadata": {},
   "source": [
    "**Your questions:** *here*\n",
    "\n",
    "**Data you would need:** *here*"
   ]
  },
  {
   "cell_type": "markdown",
   "metadata": {},
   "source": [
    "<div class=\"alert alert-info\">\n",
    "<b>Question:</b> Now, taking a look at the data you already have, think of a few questions that you <b>could</b>\n",
    "    answer with the current data set.\n",
    "   </div>"
   ]
  },
  {
   "cell_type": "markdown",
   "metadata": {},
   "source": [
    "**Your questions:** *here*\n",
    "\n",
    "**Columns / information you would need:** *here*"
   ]
  },
  {
   "cell_type": "markdown",
   "metadata": {},
   "source": [
    "## Acquiring and cleaning data <a id='subsection 1b'></a>\n",
    " \n",
    "In this notebook, you'll be working with a dataset containing entries for many European soccer players, containing variables such as club, position, games, and skin complexion.\n",
    "\n",
    "Important to note about this dataset is that it was generated as the result of an [observational study](https://en.wikipedia.org/wiki/Observational_study), rather than a [randomized controlled experiment](https://en.wikipedia.org/wiki/Randomized_controlled_trial). In an observational study, entities' independent variables (such as race, height, zip code) are observed, rather than controlled as in the randomized controlled experiment. Though data scientists often prefer the control and accuracy of controlled experiments, often performing one is either too costly or poses ethical questions (e.g., testing trial drugs and placebo treatments on cancer patients at random). Though our dataset was generated organically--in the real world rather than in a laboratory--it is statistically more challenging to prove causation among variables for these kinds of observational studies.\n",
    "\n",
    "\n",
    "Please read this summary of the [dataset's description](https://osf.io/9yh4x/) to familiarize yourself with the context of the data:\n",
    "\n",
    ">*...we obtained data and profile photos from all soccer players (N = 2053) playing in the first male divisions of England, Germany, France and Spain in the 2012-2013 season and all referees (N = 3147) that these players played under in their professional career. We created a dataset of player dyads including the number of matches players and referees encountered each other and our dependent variable, the number of red cards given to a player by a particular referee throughout all matches the two encountered each other.*\n",
    "\n",
    ">*...implicit bias scores for each referee country were calculated using a race implicit association test (IAT), with higher values corresponding to faster white | good, black | bad associations. Explicit bias scores for each referee country were calculated using a racial thermometer task, with higher values corresponding to greater feelings of warmth toward whites versus blacks.*"
   ]
  },
  {
   "cell_type": "code",
   "execution_count": null,
   "metadata": {
    "scrolled": false
   },
   "outputs": [],
   "source": [
    "# Run this cell to load the data\n",
    "\n",
    "data = pd.read_csv(\"data/CrowdstormingDataJuly1st.csv\").dropna()\n",
    "data = Table.from_df(data)"
   ]
  },
  {
   "cell_type": "markdown",
   "metadata": {},
   "source": [
    "Here are some of the important fields in our data set that we will focus on:\n",
    "\n",
    "|Variable Name   | Description |\n",
    "|--------------|------------|\n",
    "|`player` | player's name |\n",
    "|`club` | player's soccer club (team) |\n",
    "|`leagueCountry`| country of player club (England, Germany, France, and Spain) |\n",
    "|`height` | player height (in cm) |\n",
    "|`games`| number of games in the player-referee dyad |\n",
    "|`position` | detailed player position |\n",
    "|`goals`| goals scored by a player in the player-referee dyad |\n",
    "|`yellowCards`| number of yellow cards player received from referee |\n",
    "|`yellowReds`| number of yellow-red cards player received from referee |\n",
    "|`redCards`| number of red cards player received from referee |\n",
    "|`rater1`| skin rating of photo by rater 1 (5-point scale ranging from very light skin to very dark skin |\n",
    "|`rater2`| skin rating of photo by rater 2 (5-point scale ranging from very light skin to very dark skin |\n",
    "|`meanIAT`|  mean implicit bias score (using the race IAT) for referee country, higher values correspond to faster white good, black bad associations |\n",
    "|`meanExp`| mean explicit bias score (using a racial thermometer task) for referee country, higher values correspond to greater feelings of warmth toward whites versus blacks |"
   ]
  },
  {
   "cell_type": "markdown",
   "metadata": {},
   "source": [
    "As you can see on the table above, two of the variables we will be exploring is the ratings on skin tone (1-5) measured by two raters, Lisa and Shareef. For context, we have added a series of images that were given to them so that you can better understand their perspective on skin tones. Keep in mind that this might affect our hypothesis and drive our conclusions. \n",
    "\n",
    "Note: On the following images, the only two were the rating for the two raters coincide is image #3 on the top and image #6 on the bottom. "
   ]
  },
  {
   "cell_type": "markdown",
   "metadata": {},
   "source": [
    "<img src=\"images/L1S1.jpg\" style=\"float: left; width: 30%; margin-right: 1%; margin-bottom: 0.5em;\">\n",
    "<img src=\"images/L1S2.jpg\" style=\"float: left; width: 30%; margin-right: 1%; margin-bottom: 0.5em;\">\n",
    "<img src=\"images/L2S2.jpg\" style=\"float: left; width: 30%; margin-right: 1%; margin-bottom: 0.5em;\">\n",
    "<img src=\"images/L3S4.jpg\" style=\"float: left; width: 30%; margin-right: 1%; margin-bottom: 0.5em;\">\n",
    "<img src=\"images/L4S5.jpg\" style=\"float: left; width: 30%; margin-right: 1%; margin-bottom: 0.5em;\">\n",
    "<img src=\"images/L5S5.jpg\" style=\"float: left; width: 30%; margin-right: 1%; margin-bottom: 0.5em;\">\n",
    "<p style=\"clear: both;\">"
   ]
  },
  {
   "cell_type": "code",
   "execution_count": null,
   "metadata": {},
   "outputs": [],
   "source": [
    "# Run this cell show the first ten rows of the data\n",
    "data.show(10)"
   ]
  },
  {
   "cell_type": "markdown",
   "metadata": {},
   "source": [
    "Let's remove the columns we are not going to be working with."
   ]
  },
  {
   "cell_type": "code",
   "execution_count": null,
   "metadata": {},
   "outputs": [],
   "source": [
    "cols_to_drop = [\"birthday\", \"victories\", \"ties\", \"defeats\", \"goals\",\n",
    "                \"photoID\", \"Alpha_3\", \"nIAT\", \"nExp\"]\n",
    "\n",
    "data = data.drop(cols_to_drop)"
   ]
  },
  {
   "cell_type": "markdown",
   "metadata": {},
   "source": [
    "Let's reload the table to make sure we got rid of all of our undesired columns."
   ]
  },
  {
   "cell_type": "code",
   "execution_count": null,
   "metadata": {},
   "outputs": [],
   "source": [
    "data.show(5)"
   ]
  },
  {
   "cell_type": "markdown",
   "metadata": {},
   "source": [
    "### Combining `rater1` and `rater2`\n",
    "\n",
    "Getting the average of the two rates requires a series of steps. We will: \n",
    "1. Create get the average of the two raters and assign it to a new variable called `avg_rate`\n",
    "2. Add it to the orignal data table: `data`\n",
    "3. Remove from the data table any column that has missing data (nan) for the `avg_rate` column, and assign this clean table to `cleaned_soccer.`\n",
    "\n",
    "Run the following cell to make the appropriate changes:"
   ]
  },
  {
   "cell_type": "code",
   "execution_count": null,
   "metadata": {},
   "outputs": [],
   "source": [
    "# Calculate average rate, append to table\n",
    "avg_rate = (data.column('rater1') + data.column('rater2'))/2\n",
    "data.append_column('avgRate', avg_rate)\n",
    "\n",
    "# Remove nan values\n",
    "to_exclude= make_array()\n",
    "for row_index in range(len(data.column(\"avgRate\"))):\n",
    "    if np.isnan(data.column(\"avgRate\").item(row_index)):\n",
    "        to_exclude= np.append(to_exclude,int(row_index))\n",
    "data = data.exclude(to_exclude)\n",
    "data.show(5)"
   ]
  },
  {
   "cell_type": "markdown",
   "metadata": {},
   "source": [
    "# Conducting EDA: Club Teams"
   ]
  },
  {
   "cell_type": "markdown",
   "metadata": {},
   "source": [
    "The initial investigation within the Soccer Project concerned the difference in red card incidents between European soccer leagues. While we were able to make comparisons across leagues, we did not look at the differences within the leagues themselves. That is, we ignored the `club` column of the original table completely.\n",
    "\n",
    "[This Wikipedia article](https://en.wikipedia.org/wiki/List_of_top-division_football_clubs_in_UEFA_countries) explains the European Club system as follows:\n",
    "\n",
    ">The Union of European Football Associations (UEFA) is the administrative and controlling body for European football. It consists of 55 member associations, each of which is responsible for governing football in their respective countries.[1]\n",
    "\n",
    ">All widely recognised sovereign states located entirely within Europe are members, with the exceptions of the United Kingdom, Monaco and Vatican City. Eight states partially or entirely outside Europe are also members: Armenia, Azerbaijan, Russia, Georgia, Kazakhstan, Israel, Cyprus and Turkey.[1] The United Kingdom is divided into the four separate football associations of England, Northern Ireland, Scotland, and Wales; each association has a separate UEFA membership. The Faroe Islands, an autonomous country of the Kingdom of Denmark, also has its own football association which is a member of UEFA.[1] The football association of Gibraltar, a British Overseas Territory, was approved as a member by UEFA in 2013.[2] Kosovo was approved as a member in 2016, even though it is claimed by Serbia and is not recognised by several other UEFA member states.\n",
    "\n",
    ">Each UEFA member has its own football league system, except Liechtenstein.[3] Clubs playing in each top-level league compete for the title as the country's club champions. Clubs also compete in the league and national cup competitions for places in the following season's UEFA club competitions, the UEFA Champions League, UEFA Europa League and UEFA Europa Conference League. Due to promotion and relegation, the clubs playing in the top-level league are different every season, except in San Marino and Gibraltar where there is only one level.[4]\n",
    "\n",
    "**In this notebook**, we will look at the skin rating differences and red card incidents between the clubs (teams) within a given league."
   ]
  },
  {
   "cell_type": "markdown",
   "metadata": {},
   "source": [
    "### Separating the Data\n",
    "\n",
    "In order to perform analysis on the teams within each country, it makes sense to separate our original data into tables for each country."
   ]
  },
  {
   "cell_type": "markdown",
   "metadata": {},
   "source": [
    "<div class=\"alert alert-info\">\n",
    "        <b>Question:</b> Create three new tables called <code>spain</code>,  <code>england</code>, and <code>france</code> which only have rows for the corresponding country league. Use the original table's <code>leagueCountry</code> column to obtain the genre.\n",
    "</div>"
   ]
  },
  {
   "cell_type": "code",
   "execution_count": null,
   "metadata": {},
   "outputs": [],
   "source": [
    "#KEY\n",
    "\n",
    "spain = data.where(\"leagueCountry\", are.equal_to(\"Spain\"))\n",
    "spain.show(5)"
   ]
  },
  {
   "cell_type": "code",
   "execution_count": null,
   "metadata": {},
   "outputs": [],
   "source": [
    "#KEY\n",
    "\n",
    "england = data.where(\"leagueCountry\", are.equal_to(\"England\"))\n",
    "england.show(5)"
   ]
  },
  {
   "cell_type": "code",
   "execution_count": null,
   "metadata": {},
   "outputs": [],
   "source": [
    "#KEY\n",
    "\n",
    "france = data.where(\"leagueCountry\", are.equal_to(\"France\"))\n",
    "france.show(5)"
   ]
  },
  {
   "cell_type": "markdown",
   "metadata": {},
   "source": [
    "### Part One: Average Rating between Clubs"
   ]
  },
  {
   "cell_type": "markdown",
   "metadata": {},
   "source": [
    "<div class=\"alert alert-info\">\n",
    "        <b>Question:</b> Produce a horizontal bar chart for the English league with each unique club on the y-axix and average skin rating for each club. \n",
    "     HINT: Use the <code>avgRate</code> column.\n",
    "</div>"
   ]
  },
  {
   "cell_type": "code",
   "execution_count": null,
   "metadata": {},
   "outputs": [],
   "source": [
    "#KEY\n",
    "\n",
    "reduced_eng = england.group(\"club\", np.mean)\n",
    "sorted_eng = reduced_eng.sort(\"avgRate mean\", descending=True)\n",
    "sorted_eng.barh(\"club\", \"avgRate mean\")"
   ]
  },
  {
   "cell_type": "markdown",
   "metadata": {},
   "source": [
    "<div class=\"alert alert-info\">\n",
    "        <b>Question:</b> Now, in the following two cells, create the same visualization for the French and Spanish leagues. \n",
    "     HINT: Use the template above column.\n",
    "</div>"
   ]
  },
  {
   "cell_type": "code",
   "execution_count": null,
   "metadata": {},
   "outputs": [],
   "source": [
    "#KEY\n",
    "\n",
    "france.group(\"club\", np.mean).sort(\"avgRate mean\", descending=True).barh(\"club\", \"avgRate mean\")"
   ]
  },
  {
   "cell_type": "code",
   "execution_count": null,
   "metadata": {},
   "outputs": [],
   "source": [
    "#KEY\n",
    "\n",
    "spain.group(\"club\", np.mean).sort(\"avgRate mean\", descending=True).barh(\"club\", \"avgRate mean\")"
   ]
  },
  {
   "cell_type": "markdown",
   "metadata": {},
   "source": [
    "<div class=\"alert alert-info\">\n",
    "        <b>Question:</b> Do you recognize any of these teams? Based on your prior knowledge, or doing some quick internet rsearch, why do you think some clubs have much higher average skin ratings (i.e. more darker-skinned players)?\n",
    "</div>"
   ]
  },
  {
   "cell_type": "markdown",
   "metadata": {},
   "source": [
    "*INSERT ANSWER HERE*"
   ]
  },
  {
   "cell_type": "markdown",
   "metadata": {},
   "source": [
    "### Part Two: Bar plots"
   ]
  },
  {
   "cell_type": "markdown",
   "metadata": {},
   "source": [
    "Observe below how we're able to use a pivot table to make an insightful series of bar plots on the number of red cards awarded by referees officiating in different leagues across Europe. The number to the left of the plots' y axes represents the number of red cards awarded in those kinds of games. The labels of the plots' y axes is the number of games in that particular referee/league combination for the given number of red cards.\n",
    "\n",
    "Run the following cell to load a new table. The values represent the number of games for each **club, number of red cards** combination in the French league:"
   ]
  },
  {
   "cell_type": "code",
   "execution_count": null,
   "metadata": {
    "scrolled": true
   },
   "outputs": [],
   "source": [
    "france_agg = france.pivot(\"redCards\", \"club\")\n",
    "france_agg"
   ]
  },
  {
   "cell_type": "markdown",
   "metadata": {},
   "source": [
    "And now run the below cell to plot a bar chart for each individual league. Note that our `width` argument specifies how would our bar plot will be. In this case, we want to set the value as `20` so that the data is not crunched together."
   ]
  },
  {
   "cell_type": "code",
   "execution_count": null,
   "metadata": {},
   "outputs": [],
   "source": [
    "france_agg.bar(\"club\", overlay=False, width=20)"
   ]
  },
  {
   "cell_type": "markdown",
   "metadata": {},
   "source": [
    "<div class=\"alert alert-info\">\n",
    "<b>Question:</b> \n",
    "Interpret what you see. Which clubs (if any) do you hypothesis tend to award more/less red cards? Feel free to do some research on play style of these teams.\n",
    "   </div>"
   ]
  },
  {
   "cell_type": "markdown",
   "metadata": {},
   "source": [
    "*INSERT ANSWER HERE*"
   ]
  },
  {
   "cell_type": "markdown",
   "metadata": {},
   "source": [
    "<div class=\"alert alert-info\">\n",
    "<b>Question:</b> How does the popularity of each club introduce bias into the above charts? Think about the amount of players on each team in the original data set. Does it make sense that the more successful clubs have more cards?\n",
    "   </div>"
   ]
  },
  {
   "cell_type": "markdown",
   "metadata": {},
   "source": [
    "*INSERT ANSWER HERE*"
   ]
  },
  {
   "cell_type": "markdown",
   "metadata": {},
   "source": [
    "Now, in the following two cells, produce the same visualizations as above for the English and Spanish leagues."
   ]
  },
  {
   "cell_type": "code",
   "execution_count": null,
   "metadata": {},
   "outputs": [],
   "source": [
    "#KEY\n",
    "\n",
    "england_agg = england.pivot(\"redCards\", \"club\")\n",
    "\n",
    "england_agg.bar(\"club\", overlay=False, width=20)"
   ]
  },
  {
   "cell_type": "code",
   "execution_count": null,
   "metadata": {},
   "outputs": [],
   "source": [
    "#KEY\n",
    "\n",
    "spain_agg = spain.pivot(\"redCards\", \"club\")\n",
    "\n",
    "spain_agg.bar(\"club\", overlay=False, width=20)"
   ]
  },
  {
   "cell_type": "markdown",
   "metadata": {},
   "source": [
    "## The German *Bundesliga*"
   ]
  },
  {
   "cell_type": "markdown",
   "metadata": {},
   "source": [
    "Throughout the notebook, we have used club data from England's *Premier League*, Spain's *La Liga*, and France's *Ligue 1*. Now, it is time to turn our attention to German football. In the following few cells, conduct your own EDA on the German league by roughly following these steps:\n",
    "- Create a new table, `germany`, that only has data from German clubs\n",
    "- Create a horizontal bar chart showing the average skin rating for each club\n",
    "- Create a vertical bar chart showcasing the red card incidents for each club\n",
    "\n",
    "If you get stuck, or are unsure where to start, feel free to look at the above cells for some examples (England, France, Spain). Alternatively, please don't hesitate to reach out to your facilitators!"
   ]
  },
  {
   "cell_type": "code",
   "execution_count": null,
   "metadata": {},
   "outputs": [],
   "source": []
  },
  {
   "cell_type": "code",
   "execution_count": null,
   "metadata": {},
   "outputs": [],
   "source": []
  },
  {
   "cell_type": "code",
   "execution_count": null,
   "metadata": {},
   "outputs": [],
   "source": []
  },
  {
   "cell_type": "code",
   "execution_count": null,
   "metadata": {},
   "outputs": [],
   "source": []
  },
  {
   "cell_type": "code",
   "execution_count": null,
   "metadata": {},
   "outputs": [],
   "source": []
  },
  {
   "cell_type": "markdown",
   "metadata": {},
   "source": [
    "# Using prediction and inference to draw conclusions <a id='subsection 1a'></a>"
   ]
  },
  {
   "cell_type": "markdown",
   "metadata": {},
   "source": [
    "Throughout this notebook, we used the `club` column of our original table to look further into our data set. Rather than looking at leagues as a whole, we investigated further and looked at the relationshios between clubs within a league. Answer the following questions to reflect on and report your findings!"
   ]
  },
  {
   "cell_type": "markdown",
   "metadata": {},
   "source": [
    "<div class=\"alert alert-info\"> \n",
    "<b>Question:</b> Last week, we looked at comparisons between different nations. Now, we are looking at different teams within each nation. Were the results as clear as they were last week? What information is needed to arrive at more clear conclusions?\n",
    "</div>"
   ]
  },
  {
   "cell_type": "markdown",
   "metadata": {},
   "source": [
    "*INSERT ANSWER HERE*"
   ]
  },
  {
   "cell_type": "markdown",
   "metadata": {},
   "source": [
    "<div class=\"alert alert-info\"> \n",
    "<b>Question:</b> What is something surprising that you found from this investigation?\n",
    "</div>"
   ]
  },
  {
   "cell_type": "markdown",
   "metadata": {},
   "source": [
    "*INSERT ANSWER HERE*"
   ]
  },
  {
   "cell_type": "markdown",
   "metadata": {},
   "source": [
    "<div class=\"alert alert-success\" role=\"alert\">\n",
    "  <h2 class=\"alert-heading\">Well done!</h2>\n",
    "    <p>In this report, you dove right into European football club data by focusing on the average skin rating for each team. Additionally, you looked at the red card distribution for each club in several leagues across Europe.\n",
    "    <hr>\n",
    "    <p> Notebook created for Berkeley Unboxing Data Science 2021 \n",
    "    <p> Adapted from Project 2: Soccer by Will Furtado with the support of Ani Adhikari, Deb Nolan, and Carlos Ortiz\n",
    "</div>"
   ]
  }
 ],
 "metadata": {
  "kernelspec": {
   "display_name": "Python 3",
   "language": "python",
   "name": "python3"
  },
  "language_info": {
   "codemirror_mode": {
    "name": "ipython",
    "version": 3
   },
   "file_extension": ".py",
   "mimetype": "text/x-python",
   "name": "python",
   "nbconvert_exporter": "python",
   "pygments_lexer": "ipython3",
   "version": "3.7.4"
  }
 },
 "nbformat": 4,
 "nbformat_minor": 4
}
