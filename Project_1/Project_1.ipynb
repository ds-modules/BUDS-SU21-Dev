{
 "cells": [
  {
   "cell_type": "code",
   "execution_count": 62,
   "metadata": {},
   "outputs": [],
   "source": [
    "import pandas as pd\n",
    "import numpy as np\n",
    "from datascience import *\n",
    "from datascience import Table\n",
    "import matplotlib\n",
    "from ipywidgets import interact, Dropdown\n",
    "\n",
    "\n",
    "%matplotlib inline\n",
    "import matplotlib.pyplot as plt\n",
    "import numpy as np\n",
    "plt.style.use('fivethirtyeight')"
   ]
  },
  {
   "cell_type": "markdown",
   "metadata": {},
   "source": [
    "# Project 1: Covid-19 and Exponential Growth"
   ]
  },
  {
   "cell_type": "markdown",
   "metadata": {},
   "source": [
    "## Table of Contents\n",
    "<a href='#section 0'>Background Knowledge: Spread of Disease</a>\n",
    "\n",
    "1.  <a href='#section 1'> The Data Science Life Cycle</a>\n",
    "\n",
    "    a. <a href='#subsection 1a'>Formulating a question or problem</a> \n",
    "\n",
    "    b. <a href='#subsection 1b'>Acquiring and cleaning data</a>\n",
    "\n",
    "    c. <a href='#subsection 1c'>Conducting exploratory data analysis</a>\n",
    "\n",
    "    d. <a href='#subsection 1d'>Using prediction and inference to draw conclusions</a>\n",
    "<br><br>"
   ]
  },
  {
   "cell_type": "markdown",
   "metadata": {},
   "source": [
    "### Background Knowledge <a id='section 0'></a>\n"
   ]
  },
  {
   "cell_type": "markdown",
   "metadata": {},
   "source": [
    "Materials come from worksheet that can be found [here](https://www.quantamagazine.org/flu-vaccines-and-the-math-of-herd-immunity-20180205/).\n",
    "\n",
    "Exponential growth describes a quantity that's changing by some constant factor for every unit of time. For example, a value that is doubling every month is exponential growth. Let's look at this will a rumor. If you hear a rumor and only tell 1 other person each day, then only 11 people will know after 10 days. Now, telling 2 new people may not seem like that much of a difference, but it will end up reaching 1024 people in those 10 day instead of 11. This is exponential growth.\n",
    "<img src=\"images/rumor_img.png\" width = 500/>\n",
    "\n",
    "For diseases, different infections spread through populations at different rates. The \"basic reproductive number\", or R0, is the number of people each infected person is expected to infect if no one has been vaccinated. Keep in mind that this number is an average so each person won't necessarily infect exactly 2 other people if the R0 is 2, but it describes the liklihood of spreading.\n",
    "<img src=\"images/linear_v_exp.png\" width = 500/>\n"
   ]
  },
  {
   "cell_type": "markdown",
   "metadata": {},
   "source": [
    "<img src=\"images/r0.png\" width = 700/>"
   ]
  },
  {
   "cell_type": "markdown",
   "metadata": {},
   "source": [
    "#### Practice questions"
   ]
  },
  {
   "cell_type": "markdown",
   "metadata": {},
   "source": [
    "1. If a disease has an R0 of 4, and 100 people come into contact with an infected individual on average, what is the probability that any one friend becomes infected? Hint: look at the middle diagram above."
   ]
  },
  {
   "cell_type": "markdown",
   "metadata": {},
   "source": [
    "*Insert your answer here, replacing this text.*"
   ]
  },
  {
   "cell_type": "markdown",
   "metadata": {},
   "source": [
    "2. How many of the 100 friends would need to be vaccinated to bring the R0 down to 1? (a linear rate instead of an exponential rate)"
   ]
  },
  {
   "cell_type": "markdown",
   "metadata": {},
   "source": [
    "*Insert your answer here, replacing this text.*"
   ]
  },
  {
   "cell_type": "markdown",
   "metadata": {},
   "source": [
    "# The Data Science Life Cycle <a id='section 1'></a>"
   ]
  },
  {
   "cell_type": "markdown",
   "metadata": {},
   "source": [
    "## Formulating a question or problem <a id='subsection 1a'></a>\n",
    "It is important to ask questions that will be informative and that will avoid misleading results. There are many different questions we could ask about Covid-19, for example, many researchers use data to predict the outcomes based on intervention techniques such as social distancing."
   ]
  },
  {
   "cell_type": "markdown",
   "metadata": {},
   "source": [
    "<div class=\"alert alert-warning\">\n",
    "<b>Question:</b> Take some time to formulate questions you have about this pandemic and the data you would need to answer the questions. In addition, add the link of an article you found interesting with a description an why it interested you. \n",
    "   </div>\n",
    "   \n",
    "You can find [resources](https://docs.google.com/document/d/1yGSQkqlkroF6Efj3mHvP4sbQXyZM9ddO43YV1FQ75uQ/edit?usp=sharing) here to choose from."
   ]
  },
  {
   "cell_type": "markdown",
   "metadata": {},
   "source": [
    "Your questions: *here*\n",
    "\n",
    "\n",
    "Data you would need: *here*\n",
    "\n",
    "\n",
    "Article: *link*"
   ]
  },
  {
   "cell_type": "markdown",
   "metadata": {},
   "source": [
    "## Acquiring and cleaning data <a id='subsection 1b'></a>\n",
    "\n",
    "We'll be looking at the COVID-19 Data Repository from Johns Hopkins University. You can find the raw data [here](https://github.com/CSSEGISandData/COVID-19). We've cleaned up the datasets a bit, but we will be investigating the number of confirmed cases and the number of new cases in the United States from March to June.\n",
    "\n",
    "The following table, `confirmed_cases`, contains the number of confirmed cases at the start of each month for every county in the United States."
   ]
  },
  {
   "cell_type": "code",
   "execution_count": 41,
   "metadata": {
    "scrolled": false
   },
   "outputs": [
    {
     "data": {
      "text/html": [
       "<table border=\"1\" class=\"dataframe\">\n",
       "    <thead>\n",
       "        <tr>\n",
       "            <th>County</th> <th>State</th> <th>Combined_Key</th> <th>4/1/2020</th> <th>5/1/2020</th> <th>6/1/2020</th>\n",
       "        </tr>\n",
       "    </thead>\n",
       "    <tbody>\n",
       "        <tr>\n",
       "            <td>nan    </td> <td>American Samoa          </td> <td>American Samoa, US          </td> <td>0       </td> <td>0       </td> <td>0       </td>\n",
       "        </tr>\n",
       "        <tr>\n",
       "            <td>nan    </td> <td>Guam                    </td> <td>Guam, US                    </td> <td>77      </td> <td>145     </td> <td>175     </td>\n",
       "        </tr>\n",
       "        <tr>\n",
       "            <td>nan    </td> <td>Northern Mariana Islands</td> <td>Northern Mariana Islands, US</td> <td>6       </td> <td>14      </td> <td>22      </td>\n",
       "        </tr>\n",
       "        <tr>\n",
       "            <td>nan    </td> <td>Puerto Rico             </td> <td>Puerto Rico, US             </td> <td>286     </td> <td>1575    </td> <td>3873    </td>\n",
       "        </tr>\n",
       "        <tr>\n",
       "            <td>nan    </td> <td>Virgin Islands          </td> <td>Virgin Islands, US          </td> <td>30      </td> <td>66      </td> <td>70      </td>\n",
       "        </tr>\n",
       "        <tr>\n",
       "            <td>Autauga</td> <td>Alabama                 </td> <td>Autauga, Alabama, US        </td> <td>8       </td> <td>42      </td> <td>233     </td>\n",
       "        </tr>\n",
       "        <tr>\n",
       "            <td>Baldwin</td> <td>Alabama                 </td> <td>Baldwin, Alabama, US        </td> <td>20      </td> <td>175     </td> <td>292     </td>\n",
       "        </tr>\n",
       "        <tr>\n",
       "            <td>Barbour</td> <td>Alabama                 </td> <td>Barbour, Alabama, US        </td> <td>0       </td> <td>42      </td> <td>172     </td>\n",
       "        </tr>\n",
       "        <tr>\n",
       "            <td>Bibb   </td> <td>Alabama                 </td> <td>Bibb, Alabama, US           </td> <td>3       </td> <td>42      </td> <td>76      </td>\n",
       "        </tr>\n",
       "        <tr>\n",
       "            <td>Blount </td> <td>Alabama                 </td> <td>Blount, Alabama, US         </td> <td>5       </td> <td>39      </td> <td>63      </td>\n",
       "        </tr>\n",
       "    </tbody>\n",
       "</table>\n",
       "<p>... (3249 rows omitted)</p>"
      ],
      "text/plain": [
       "<IPython.core.display.HTML object>"
      ]
     },
     "metadata": {},
     "output_type": "display_data"
    }
   ],
   "source": [
    "confirmed_cases = Table().read_table(\"data/covid_by_county.csv\").drop(3)\n",
    "confirmed_cases.show(10)"
   ]
  },
  {
   "cell_type": "code",
   "execution_count": 42,
   "metadata": {},
   "outputs": [
    {
     "data": {
      "text/html": [
       "<table border=\"1\" class=\"dataframe\">\n",
       "    <thead>\n",
       "        <tr>\n",
       "            <th>County</th> <th>State</th> <th>Combined_Key</th> <th>April</th> <th>May</th> <th>June</th>\n",
       "        </tr>\n",
       "    </thead>\n",
       "    <tbody>\n",
       "        <tr>\n",
       "            <td>nan    </td> <td>American Samoa          </td> <td>American Samoa, US          </td> <td>0    </td> <td>0   </td> <td>0   </td>\n",
       "        </tr>\n",
       "        <tr>\n",
       "            <td>nan    </td> <td>Guam                    </td> <td>Guam, US                    </td> <td>77   </td> <td>145 </td> <td>175 </td>\n",
       "        </tr>\n",
       "        <tr>\n",
       "            <td>nan    </td> <td>Northern Mariana Islands</td> <td>Northern Mariana Islands, US</td> <td>6    </td> <td>14  </td> <td>22  </td>\n",
       "        </tr>\n",
       "        <tr>\n",
       "            <td>nan    </td> <td>Puerto Rico             </td> <td>Puerto Rico, US             </td> <td>286  </td> <td>1575</td> <td>3873</td>\n",
       "        </tr>\n",
       "        <tr>\n",
       "            <td>nan    </td> <td>Virgin Islands          </td> <td>Virgin Islands, US          </td> <td>30   </td> <td>66  </td> <td>70  </td>\n",
       "        </tr>\n",
       "        <tr>\n",
       "            <td>Autauga</td> <td>Alabama                 </td> <td>Autauga, Alabama, US        </td> <td>8    </td> <td>42  </td> <td>233 </td>\n",
       "        </tr>\n",
       "        <tr>\n",
       "            <td>Baldwin</td> <td>Alabama                 </td> <td>Baldwin, Alabama, US        </td> <td>20   </td> <td>175 </td> <td>292 </td>\n",
       "        </tr>\n",
       "        <tr>\n",
       "            <td>Barbour</td> <td>Alabama                 </td> <td>Barbour, Alabama, US        </td> <td>0    </td> <td>42  </td> <td>172 </td>\n",
       "        </tr>\n",
       "        <tr>\n",
       "            <td>Bibb   </td> <td>Alabama                 </td> <td>Bibb, Alabama, US           </td> <td>3    </td> <td>42  </td> <td>76  </td>\n",
       "        </tr>\n",
       "        <tr>\n",
       "            <td>Blount </td> <td>Alabama                 </td> <td>Blount, Alabama, US         </td> <td>5    </td> <td>39  </td> <td>63  </td>\n",
       "        </tr>\n",
       "    </tbody>\n",
       "</table>\n",
       "<p>... (3249 rows omitted)</p>"
      ],
      "text/plain": [
       "County  | State                    | Combined_Key                 | April | May  | June\n",
       "nan     | American Samoa           | American Samoa, US           | 0     | 0    | 0\n",
       "nan     | Guam                     | Guam, US                     | 77    | 145  | 175\n",
       "nan     | Northern Mariana Islands | Northern Mariana Islands, US | 6     | 14   | 22\n",
       "nan     | Puerto Rico              | Puerto Rico, US              | 286   | 1575 | 3873\n",
       "nan     | Virgin Islands           | Virgin Islands, US           | 30    | 66   | 70\n",
       "Autauga | Alabama                  | Autauga, Alabama, US         | 8     | 42   | 233\n",
       "Baldwin | Alabama                  | Baldwin, Alabama, US         | 20    | 175  | 292\n",
       "Barbour | Alabama                  | Barbour, Alabama, US         | 0     | 42   | 172\n",
       "Bibb    | Alabama                  | Bibb, Alabama, US            | 3     | 42   | 76\n",
       "Blount  | Alabama                  | Blount, Alabama, US          | 5     | 39   | 63\n",
       "... (3249 rows omitted)"
      ]
     },
     "execution_count": 42,
     "metadata": {},
     "output_type": "execute_result"
    }
   ],
   "source": [
    "#In this cell, we are relabeling the columns to have the names of \n",
    "#the months instead of the dates the number of cases were collected.\n",
    "confirmed_cases_clean = confirmed_cases.relabel(make_array(\"4/1/2020\", \"5/1/2020\", \"6/1/2020\"), make_array(\"April\", \"May\", \"June\"))\n",
    "confirmed_cases_clean"
   ]
  },
  {
   "cell_type": "markdown",
   "metadata": {},
   "source": [
    "<div class=\"alert alert-warning\">\n",
    "<b>Question:</b> It's important to evalute our data source. What do you know about Johns Hopkins University? What motivations do they have for collecting this data? What data is missing?\n",
    "   </div>"
   ]
  },
  {
   "cell_type": "markdown",
   "metadata": {},
   "source": [
    "*Insert answer*"
   ]
  },
  {
   "cell_type": "markdown",
   "metadata": {},
   "source": [
    "<div class=\"alert alert-warning\">\n",
    "<b>Question:</b> Do you see any missing (nan) values? Why might they be there?\n",
    "   </div>"
   ]
  },
  {
   "cell_type": "markdown",
   "metadata": {},
   "source": [
    "*Insert answer here*"
   ]
  },
  {
   "cell_type": "markdown",
   "metadata": {},
   "source": [
    "<div class=\"alert alert-warning\">\n",
    "<b>Question:</b> We want to learn more about the dataset. First, how many total rows are in this table? What does each row represent?\n",
    "    \n",
    "   </div>"
   ]
  },
  {
   "cell_type": "code",
   "execution_count": 43,
   "metadata": {},
   "outputs": [],
   "source": [
    "total_rows = ..."
   ]
  },
  {
   "cell_type": "markdown",
   "metadata": {},
   "source": [
    "*Insert answer here*"
   ]
  },
  {
   "cell_type": "markdown",
   "metadata": {},
   "source": [
    "## Conducting exploratory data analysis <a id='subsection 1c'></a>"
   ]
  },
  {
   "cell_type": "markdown",
   "metadata": {},
   "source": [
    "Visualizations help us to understand what the dataset is telling us. Compare the county with the most confirmed cases on April 1st with the next 9 most confirmed cases in a bar chart. "
   ]
  },
  {
   "cell_type": "markdown",
   "metadata": {},
   "source": [
    "### Part 1"
   ]
  },
  {
   "cell_type": "markdown",
   "metadata": {},
   "source": [
    "<div class=\"alert alert-warning\">\n",
    "<b>Question:</b> First, sort the dataset to show the counties with the most cases on April 1st at the top of the table.\n",
    "   </div>"
   ]
  },
  {
   "cell_type": "code",
   "execution_count": null,
   "metadata": {},
   "outputs": [],
   "source": [
    "sorted_cases = confirmed_cases_clean.sort(\"...\", descending = ...)\n",
    "sorted_cases"
   ]
  },
  {
   "cell_type": "code",
   "execution_count": 45,
   "metadata": {
    "scrolled": false
   },
   "outputs": [
    {
     "data": {
      "text/html": [
       "<table border=\"1\" class=\"dataframe\">\n",
       "    <thead>\n",
       "        <tr>\n",
       "            <th>County</th> <th>State</th> <th>Combined_Key</th> <th>April</th> <th>May</th> <th>June</th>\n",
       "        </tr>\n",
       "    </thead>\n",
       "    <tbody>\n",
       "        <tr>\n",
       "            <td>New York   </td> <td>New York  </td> <td>New York City, New York, US</td> <td>47439</td> <td>169690</td> <td>203764</td>\n",
       "        </tr>\n",
       "        <tr>\n",
       "            <td>Westchester</td> <td>New York  </td> <td>Westchester, New York, US  </td> <td>10683</td> <td>29232 </td> <td>33552 </td>\n",
       "        </tr>\n",
       "        <tr>\n",
       "            <td>Nassau     </td> <td>New York  </td> <td>Nassau, New York, US       </td> <td>9554 </td> <td>36161 </td> <td>40479 </td>\n",
       "        </tr>\n",
       "        <tr>\n",
       "            <td>Suffolk    </td> <td>New York  </td> <td>Suffolk, New York, US      </td> <td>7605 </td> <td>34037 </td> <td>39705 </td>\n",
       "        </tr>\n",
       "        <tr>\n",
       "            <td>Cook       </td> <td>Illinois  </td> <td>Cook, Illinois, US         </td> <td>5152 </td> <td>38668 </td> <td>78495 </td>\n",
       "        </tr>\n",
       "        <tr>\n",
       "            <td>Unassigned </td> <td>New Jersey</td> <td>Unassigned, New Jersey, US </td> <td>4512 </td> <td>583   </td> <td>452   </td>\n",
       "        </tr>\n",
       "        <tr>\n",
       "            <td>Wayne      </td> <td>Michigan  </td> <td>Wayne, Michigan, US        </td> <td>4470 </td> <td>16970 </td> <td>20446 </td>\n",
       "        </tr>\n",
       "        <tr>\n",
       "            <td>Los Angeles</td> <td>California</td> <td>Los Angeles, California, US</td> <td>3518 </td> <td>24262 </td> <td>56011 </td>\n",
       "        </tr>\n",
       "        <tr>\n",
       "            <td>Bergen     </td> <td>New Jersey</td> <td>Bergen, New Jersey, US     </td> <td>3494 </td> <td>15830 </td> <td>18302 </td>\n",
       "        </tr>\n",
       "        <tr>\n",
       "            <td>Rockland   </td> <td>New York  </td> <td>Rockland, New York, US     </td> <td>3321 </td> <td>11812 </td> <td>13185 </td>\n",
       "        </tr>\n",
       "    </tbody>\n",
       "</table>\n",
       "<p>... (3249 rows omitted)</p>"
      ],
      "text/plain": [
       "County      | State      | Combined_Key                | April | May    | June\n",
       "New York    | New York   | New York City, New York, US | 47439 | 169690 | 203764\n",
       "Westchester | New York   | Westchester, New York, US   | 10683 | 29232  | 33552\n",
       "Nassau      | New York   | Nassau, New York, US        | 9554  | 36161  | 40479\n",
       "Suffolk     | New York   | Suffolk, New York, US       | 7605  | 34037  | 39705\n",
       "Cook        | Illinois   | Cook, Illinois, US          | 5152  | 38668  | 78495\n",
       "Unassigned  | New Jersey | Unassigned, New Jersey, US  | 4512  | 583    | 452\n",
       "Wayne       | Michigan   | Wayne, Michigan, US         | 4470  | 16970  | 20446\n",
       "Los Angeles | California | Los Angeles, California, US | 3518  | 24262  | 56011\n",
       "Bergen      | New Jersey | Bergen, New Jersey, US      | 3494  | 15830  | 18302\n",
       "Rockland    | New York   | Rockland, New York, US      | 3321  | 11812  | 13185\n",
       "... (3249 rows omitted)"
      ]
     },
     "execution_count": 45,
     "metadata": {},
     "output_type": "execute_result"
    }
   ],
   "source": [
    "#KEY\n",
    "sorted_cases = confirmed_cases_clean.sort(\"April\", descending = True)\n",
    "sorted_cases"
   ]
  },
  {
   "cell_type": "markdown",
   "metadata": {},
   "source": [
    "<div class=\"alert alert-warning\">\n",
    "<b>Question:</b> Now, cut down the table to only have the top ten from sorted_cases above.\n",
    "   </div>"
   ]
  },
  {
   "cell_type": "code",
   "execution_count": 6,
   "metadata": {},
   "outputs": [],
   "source": [
    "top_ten = sorted_cases....(np.arange(10))"
   ]
  },
  {
   "cell_type": "code",
   "execution_count": 46,
   "metadata": {},
   "outputs": [
    {
     "data": {
      "text/html": [
       "<table border=\"1\" class=\"dataframe\">\n",
       "    <thead>\n",
       "        <tr>\n",
       "            <th>County</th> <th>State</th> <th>Combined_Key</th> <th>April</th> <th>May</th> <th>June</th>\n",
       "        </tr>\n",
       "    </thead>\n",
       "    <tbody>\n",
       "        <tr>\n",
       "            <td>New York   </td> <td>New York  </td> <td>New York City, New York, US</td> <td>47439</td> <td>169690</td> <td>203764</td>\n",
       "        </tr>\n",
       "        <tr>\n",
       "            <td>Westchester</td> <td>New York  </td> <td>Westchester, New York, US  </td> <td>10683</td> <td>29232 </td> <td>33552 </td>\n",
       "        </tr>\n",
       "        <tr>\n",
       "            <td>Nassau     </td> <td>New York  </td> <td>Nassau, New York, US       </td> <td>9554 </td> <td>36161 </td> <td>40479 </td>\n",
       "        </tr>\n",
       "        <tr>\n",
       "            <td>Suffolk    </td> <td>New York  </td> <td>Suffolk, New York, US      </td> <td>7605 </td> <td>34037 </td> <td>39705 </td>\n",
       "        </tr>\n",
       "        <tr>\n",
       "            <td>Cook       </td> <td>Illinois  </td> <td>Cook, Illinois, US         </td> <td>5152 </td> <td>38668 </td> <td>78495 </td>\n",
       "        </tr>\n",
       "        <tr>\n",
       "            <td>Unassigned </td> <td>New Jersey</td> <td>Unassigned, New Jersey, US </td> <td>4512 </td> <td>583   </td> <td>452   </td>\n",
       "        </tr>\n",
       "        <tr>\n",
       "            <td>Wayne      </td> <td>Michigan  </td> <td>Wayne, Michigan, US        </td> <td>4470 </td> <td>16970 </td> <td>20446 </td>\n",
       "        </tr>\n",
       "        <tr>\n",
       "            <td>Los Angeles</td> <td>California</td> <td>Los Angeles, California, US</td> <td>3518 </td> <td>24262 </td> <td>56011 </td>\n",
       "        </tr>\n",
       "        <tr>\n",
       "            <td>Bergen     </td> <td>New Jersey</td> <td>Bergen, New Jersey, US     </td> <td>3494 </td> <td>15830 </td> <td>18302 </td>\n",
       "        </tr>\n",
       "        <tr>\n",
       "            <td>Rockland   </td> <td>New York  </td> <td>Rockland, New York, US     </td> <td>3321 </td> <td>11812 </td> <td>13185 </td>\n",
       "        </tr>\n",
       "    </tbody>\n",
       "</table>"
      ],
      "text/plain": [
       "County      | State      | Combined_Key                | April | May    | June\n",
       "New York    | New York   | New York City, New York, US | 47439 | 169690 | 203764\n",
       "Westchester | New York   | Westchester, New York, US   | 10683 | 29232  | 33552\n",
       "Nassau      | New York   | Nassau, New York, US        | 9554  | 36161  | 40479\n",
       "Suffolk     | New York   | Suffolk, New York, US       | 7605  | 34037  | 39705\n",
       "Cook        | Illinois   | Cook, Illinois, US          | 5152  | 38668  | 78495\n",
       "Unassigned  | New Jersey | Unassigned, New Jersey, US  | 4512  | 583    | 452\n",
       "Wayne       | Michigan   | Wayne, Michigan, US         | 4470  | 16970  | 20446\n",
       "Los Angeles | California | Los Angeles, California, US | 3518  | 24262  | 56011\n",
       "Bergen      | New Jersey | Bergen, New Jersey, US      | 3494  | 15830  | 18302\n",
       "Rockland    | New York   | Rockland, New York, US      | 3321  | 11812  | 13185"
      ]
     },
     "execution_count": 46,
     "metadata": {},
     "output_type": "execute_result"
    }
   ],
   "source": [
    "#KEY\n",
    "top_ten = sorted_cases.take(np.arange(10))\n",
    "top_ten"
   ]
  },
  {
   "cell_type": "markdown",
   "metadata": {},
   "source": [
    "<div class=\"alert alert-warning\">\n",
    "<b>Question:</b> Next, create a bar chart to visualize the comparison between the top_ten counties for the number of cases on April 1st.\n",
    "   </div>"
   ]
  },
  {
   "cell_type": "code",
   "execution_count": 8,
   "metadata": {
    "scrolled": true
   },
   "outputs": [],
   "source": [
    "top_ten..."
   ]
  },
  {
   "cell_type": "code",
   "execution_count": 47,
   "metadata": {
    "scrolled": true
   },
   "outputs": [
    {
     "data": {
      "image/png": "[encoded data removed]",
      "text/plain": [
       "<Figure size 432x360 with 1 Axes>"
      ]
     },
     "metadata": {},
     "output_type": "display_data"
    }
   ],
   "source": [
    "#KEY\n",
    "top_ten.barh(\"County\", \"April\")"
   ]
  },
  {
   "cell_type": "markdown",
   "metadata": {},
   "source": [
    "### either compare two states or get county populations\n",
    "\n",
    "### make column names april, may, june (then say collected on the first day)"
   ]
  },
  {
   "cell_type": "markdown",
   "metadata": {},
   "source": [
    "<div class=\"alert alert-warning\">\n",
    "<b>Question:</b> Let's look at the counties in California. First, return a table that only has the California counties. Then, select the counties from the table you want to compare to each other. \n",
    "   </div>"
   ]
  },
  {
   "cell_type": "code",
   "execution_count": 11,
   "metadata": {},
   "outputs": [],
   "source": [
    "ca_cases = confirmed_cases.where(\"...\", are.equal_to(\"...\"))\n",
    "ca_cases"
   ]
  },
  {
   "cell_type": "code",
   "execution_count": 48,
   "metadata": {},
   "outputs": [
    {
     "data": {
      "text/html": [
       "<table border=\"1\" class=\"dataframe\">\n",
       "    <thead>\n",
       "        <tr>\n",
       "            <th>County</th> <th>State</th> <th>Combined_Key</th> <th>April</th> <th>May</th> <th>June</th>\n",
       "        </tr>\n",
       "    </thead>\n",
       "    <tbody>\n",
       "        <tr>\n",
       "            <td>Los Angeles  </td> <td>California</td> <td>Los Angeles, California, US  </td> <td>3518 </td> <td>24262</td> <td>56011</td>\n",
       "        </tr>\n",
       "        <tr>\n",
       "            <td>Santa Clara  </td> <td>California</td> <td>Santa Clara, California, US  </td> <td>956  </td> <td>2179 </td> <td>2776 </td>\n",
       "        </tr>\n",
       "        <tr>\n",
       "            <td>San Diego    </td> <td>California</td> <td>San Diego, California, US    </td> <td>733  </td> <td>3564 </td> <td>7481 </td>\n",
       "        </tr>\n",
       "        <tr>\n",
       "            <td>Orange       </td> <td>California</td> <td>Orange, California, US       </td> <td>606  </td> <td>2537 </td> <td>6474 </td>\n",
       "        </tr>\n",
       "        <tr>\n",
       "            <td>San Francisco</td> <td>California</td> <td>San Francisco, California, US</td> <td>434  </td> <td>1523 </td> <td>2570 </td>\n",
       "        </tr>\n",
       "        <tr>\n",
       "            <td>San Mateo    </td> <td>California</td> <td>San Mateo, California, US    </td> <td>388  </td> <td>1197 </td> <td>2165 </td>\n",
       "        </tr>\n",
       "        <tr>\n",
       "            <td>Riverside    </td> <td>California</td> <td>Riverside, California, US    </td> <td>371  </td> <td>4079 </td> <td>7982 </td>\n",
       "        </tr>\n",
       "        <tr>\n",
       "            <td>Alameda      </td> <td>California</td> <td>Alameda, California, US      </td> <td>313  </td> <td>1636 </td> <td>3470 </td>\n",
       "        </tr>\n",
       "        <tr>\n",
       "            <td>Contra Costa </td> <td>California</td> <td>Contra Costa, California, US </td> <td>249  </td> <td>907  </td> <td>1468 </td>\n",
       "        </tr>\n",
       "        <tr>\n",
       "            <td>Sacramento   </td> <td>California</td> <td>Sacramento, California, US   </td> <td>224  </td> <td>1090 </td> <td>1429 </td>\n",
       "        </tr>\n",
       "    </tbody>\n",
       "</table>\n",
       "<p>... (50 rows omitted)</p>"
      ],
      "text/plain": [
       "County        | State      | Combined_Key                  | April | May   | June\n",
       "Los Angeles   | California | Los Angeles, California, US   | 3518  | 24262 | 56011\n",
       "Santa Clara   | California | Santa Clara, California, US   | 956   | 2179  | 2776\n",
       "San Diego     | California | San Diego, California, US     | 733   | 3564  | 7481\n",
       "Orange        | California | Orange, California, US        | 606   | 2537  | 6474\n",
       "San Francisco | California | San Francisco, California, US | 434   | 1523  | 2570\n",
       "San Mateo     | California | San Mateo, California, US     | 388   | 1197  | 2165\n",
       "Riverside     | California | Riverside, California, US     | 371   | 4079  | 7982\n",
       "Alameda       | California | Alameda, California, US       | 313   | 1636  | 3470\n",
       "Contra Costa  | California | Contra Costa, California, US  | 249   | 907   | 1468\n",
       "Sacramento    | California | Sacramento, California, US    | 224   | 1090  | 1429\n",
       "... (50 rows omitted)"
      ]
     },
     "execution_count": 48,
     "metadata": {},
     "output_type": "execute_result"
    }
   ],
   "source": [
    "#KEY\n",
    "ca_cases = sorted_cases.where(\"State\", are.equal_to(\"California\"))\n",
    "ca_cases"
   ]
  },
  {
   "cell_type": "code",
   "execution_count": 49,
   "metadata": {},
   "outputs": [
    {
     "data": {
      "text/html": [
       "<table border=\"1\" class=\"dataframe\">\n",
       "    <thead>\n",
       "        <tr>\n",
       "            <th>County</th> <th>State</th> <th>Combined_Key</th> <th>April</th> <th>May</th> <th>June</th>\n",
       "        </tr>\n",
       "    </thead>\n",
       "    <tbody>\n",
       "        <tr>\n",
       "            <td>Los Angeles</td> <td>California</td> <td>Los Angeles, California, US</td> <td>3518 </td> <td>24262</td> <td>56011</td>\n",
       "        </tr>\n",
       "        <tr>\n",
       "            <td>Sacramento </td> <td>California</td> <td>Sacramento, California, US </td> <td>224  </td> <td>1090 </td> <td>1429 </td>\n",
       "        </tr>\n",
       "    </tbody>\n",
       "</table>"
      ],
      "text/plain": [
       "County      | State      | Combined_Key                | April | May   | June\n",
       "Los Angeles | California | Los Angeles, California, US | 3518  | 24262 | 56011\n",
       "Sacramento  | California | Sacramento, California, US  | 224   | 1090  | 1429"
      ]
     },
     "execution_count": 49,
     "metadata": {},
     "output_type": "execute_result"
    }
   ],
   "source": [
    "select_counties = [\"Los Angeles\", \"Sacramento\", \"...\", \"...\", \"...\"]\n",
    "\n",
    "#This will take the counties you choose for the comparison.\n",
    "my_counties = ca_cases.where(\"County\", are.contained_in(select_counties))\n",
    "my_counties"
   ]
  },
  {
   "cell_type": "markdown",
   "metadata": {},
   "source": [
    "<div class=\"alert alert-warning\">\n",
    "<b>Question:</b> Now make another bar chart using your selected counties and the number of cases on May 1st.\n",
    "   </div>"
   ]
  },
  {
   "cell_type": "code",
   "execution_count": 24,
   "metadata": {},
   "outputs": [
    {
     "data": {
      "text/plain": [
       "Ellipsis"
      ]
     },
     "execution_count": 24,
     "metadata": {},
     "output_type": "execute_result"
    }
   ],
   "source": [
    "..."
   ]
  },
  {
   "cell_type": "code",
   "execution_count": 51,
   "metadata": {},
   "outputs": [
    {
     "data": {
      "image/png": "[encoded data removed]",
      "text/plain": [
       "<Figure size 432x288 with 1 Axes>"
      ]
     },
     "metadata": {},
     "output_type": "display_data"
    }
   ],
   "source": [
    "#KEY\n",
    "my_counties.barh(\"County\", \"May\")"
   ]
  },
  {
   "cell_type": "markdown",
   "metadata": {},
   "source": [
    "<div class=\"alert alert-warning\">\n",
    "<b>Question:</b> What are some possible reasons for the disparities in certain counties? Hint: Think about the size of the counties.\n",
    "   </div>"
   ]
  },
  {
   "cell_type": "markdown",
   "metadata": {},
   "source": [
    "*Insert answer here.*"
   ]
  },
  {
   "cell_type": "markdown",
   "metadata": {},
   "source": [
    "### Part 2"
   ]
  },
  {
   "cell_type": "markdown",
   "metadata": {},
   "source": [
    "A disease will spread more when there are more people in a population to spread to. Let's look at the population of the states to compare the percentages based on the number of people. Here is a table with the states and their populations. "
   ]
  },
  {
   "cell_type": "code",
   "execution_count": 54,
   "metadata": {
    "scrolled": true
   },
   "outputs": [
    {
     "data": {
      "text/html": [
       "<table border=\"1\" class=\"dataframe\">\n",
       "    <thead>\n",
       "        <tr>\n",
       "            <th>State</th> <th>Population</th>\n",
       "        </tr>\n",
       "    </thead>\n",
       "    <tbody>\n",
       "        <tr>\n",
       "            <td>Alabama         </td> <td>4903185   </td>\n",
       "        </tr>\n",
       "        <tr>\n",
       "            <td>Alaska          </td> <td>731545    </td>\n",
       "        </tr>\n",
       "        <tr>\n",
       "            <td>American Samoa  </td> <td>55641     </td>\n",
       "        </tr>\n",
       "        <tr>\n",
       "            <td>Arizona         </td> <td>7278717   </td>\n",
       "        </tr>\n",
       "        <tr>\n",
       "            <td>Arkansas        </td> <td>3017804   </td>\n",
       "        </tr>\n",
       "        <tr>\n",
       "            <td>California      </td> <td>39512223  </td>\n",
       "        </tr>\n",
       "        <tr>\n",
       "            <td>Colorado        </td> <td>5758736   </td>\n",
       "        </tr>\n",
       "        <tr>\n",
       "            <td>Connecticut     </td> <td>3565287   </td>\n",
       "        </tr>\n",
       "        <tr>\n",
       "            <td>Delaware        </td> <td>973764    </td>\n",
       "        </tr>\n",
       "        <tr>\n",
       "            <td>Diamond Princess</td> <td>0         </td>\n",
       "        </tr>\n",
       "    </tbody>\n",
       "</table>\n",
       "<p>... (48 rows omitted)</p>"
      ],
      "text/plain": [
       "State            | Population\n",
       "Alabama          | 4903185\n",
       "Alaska           | 731545\n",
       "American Samoa   | 55641\n",
       "Arizona          | 7278717\n",
       "Arkansas         | 3017804\n",
       "California       | 39512223\n",
       "Colorado         | 5758736\n",
       "Connecticut      | 3565287\n",
       "Delaware         | 973764\n",
       "Diamond Princess | 0\n",
       "... (48 rows omitted)"
      ]
     },
     "execution_count": 54,
     "metadata": {},
     "output_type": "execute_result"
    }
   ],
   "source": [
    "pop_by_state = Table().read_table(\"data/pop_by_state.csv\")\n",
    "pop_by_state"
   ]
  },
  {
   "cell_type": "markdown",
   "metadata": {},
   "source": [
    "<div class=\"alert alert-warning\">\n",
    "<b>Question:</b> First, group the confirmed cases to show the number of cases for each state and the sum of the cases.\n",
    "   </div>"
   ]
  },
  {
   "cell_type": "code",
   "execution_count": 55,
   "metadata": {
    "scrolled": true
   },
   "outputs": [
    {
     "data": {
      "text/html": [
       "<table border=\"1\" class=\"dataframe\">\n",
       "    <thead>\n",
       "        <tr>\n",
       "            <th>State</th> <th>County sum</th> <th>Combined_Key sum</th> <th>April sum</th> <th>May sum</th> <th>June sum</th>\n",
       "        </tr>\n",
       "    </thead>\n",
       "    <tbody>\n",
       "        <tr>\n",
       "            <td>Alabama             </td> <td>          </td> <td>                </td> <td>1060     </td> <td>7294   </td> <td>18630   </td>\n",
       "        </tr>\n",
       "        <tr>\n",
       "            <td>Alaska              </td> <td>          </td> <td>                </td> <td>132      </td> <td>364    </td> <td>466     </td>\n",
       "        </tr>\n",
       "        <tr>\n",
       "            <td>American Samoa      </td> <td>          </td> <td>                </td> <td>0        </td> <td>0      </td> <td>0       </td>\n",
       "        </tr>\n",
       "        <tr>\n",
       "            <td>Arizona             </td> <td>          </td> <td>                </td> <td>1413     </td> <td>7969   </td> <td>20129   </td>\n",
       "        </tr>\n",
       "        <tr>\n",
       "            <td>Arkansas            </td> <td>          </td> <td>                </td> <td>584      </td> <td>3337   </td> <td>7443    </td>\n",
       "        </tr>\n",
       "        <tr>\n",
       "            <td>California          </td> <td>          </td> <td>                </td> <td>9399     </td> <td>52026  </td> <td>114733  </td>\n",
       "        </tr>\n",
       "        <tr>\n",
       "            <td>Colorado            </td> <td>          </td> <td>                </td> <td>3342     </td> <td>15793  </td> <td>26563   </td>\n",
       "        </tr>\n",
       "        <tr>\n",
       "            <td>Connecticut         </td> <td>          </td> <td>                </td> <td>3557     </td> <td>28764  </td> <td>42740   </td>\n",
       "        </tr>\n",
       "        <tr>\n",
       "            <td>Delaware            </td> <td>          </td> <td>                </td> <td>368      </td> <td>4918   </td> <td>9605    </td>\n",
       "        </tr>\n",
       "        <tr>\n",
       "            <td>District of Columbia</td> <td>          </td> <td>                </td> <td>586      </td> <td>4658   </td> <td>8857    </td>\n",
       "        </tr>\n",
       "    </tbody>\n",
       "</table>\n",
       "<p>... (46 rows omitted)</p>"
      ],
      "text/plain": [
       "State                | County sum | Combined_Key sum | April sum | May sum | June sum\n",
       "Alabama              |            |                  | 1060      | 7294    | 18630\n",
       "Alaska               |            |                  | 132       | 364     | 466\n",
       "American Samoa       |            |                  | 0         | 0       | 0\n",
       "Arizona              |            |                  | 1413      | 7969    | 20129\n",
       "Arkansas             |            |                  | 584       | 3337    | 7443\n",
       "California           |            |                  | 9399      | 52026   | 114733\n",
       "Colorado             |            |                  | 3342      | 15793   | 26563\n",
       "Connecticut          |            |                  | 3557      | 28764   | 42740\n",
       "Delaware             |            |                  | 368       | 4918    | 9605\n",
       "District of Columbia |            |                  | 586       | 4658    | 8857\n",
       "... (46 rows omitted)"
      ]
     },
     "execution_count": 55,
     "metadata": {},
     "output_type": "execute_result"
    }
   ],
   "source": [
    "#We are grouping all the counties into their states and taking the sum of the cases using this code.\n",
    "grouped_by_state = confirmed_cases.group(\"State\", sum)\n",
    "grouped_by_state"
   ]
  },
  {
   "cell_type": "code",
   "execution_count": 56,
   "metadata": {
    "scrolled": true
   },
   "outputs": [
    {
     "data": {
      "text/html": [
       "<table border=\"1\" class=\"dataframe\">\n",
       "    <thead>\n",
       "        <tr>\n",
       "            <th>State</th> <th>April sum</th> <th>May sum</th> <th>June sum</th>\n",
       "        </tr>\n",
       "    </thead>\n",
       "    <tbody>\n",
       "        <tr>\n",
       "            <td>Alabama             </td> <td>1060     </td> <td>7294   </td> <td>18630   </td>\n",
       "        </tr>\n",
       "        <tr>\n",
       "            <td>Alaska              </td> <td>132      </td> <td>364    </td> <td>466     </td>\n",
       "        </tr>\n",
       "        <tr>\n",
       "            <td>American Samoa      </td> <td>0        </td> <td>0      </td> <td>0       </td>\n",
       "        </tr>\n",
       "        <tr>\n",
       "            <td>Arizona             </td> <td>1413     </td> <td>7969   </td> <td>20129   </td>\n",
       "        </tr>\n",
       "        <tr>\n",
       "            <td>Arkansas            </td> <td>584      </td> <td>3337   </td> <td>7443    </td>\n",
       "        </tr>\n",
       "        <tr>\n",
       "            <td>California          </td> <td>9399     </td> <td>52026  </td> <td>114733  </td>\n",
       "        </tr>\n",
       "        <tr>\n",
       "            <td>Colorado            </td> <td>3342     </td> <td>15793  </td> <td>26563   </td>\n",
       "        </tr>\n",
       "        <tr>\n",
       "            <td>Connecticut         </td> <td>3557     </td> <td>28764  </td> <td>42740   </td>\n",
       "        </tr>\n",
       "        <tr>\n",
       "            <td>Delaware            </td> <td>368      </td> <td>4918   </td> <td>9605    </td>\n",
       "        </tr>\n",
       "        <tr>\n",
       "            <td>District of Columbia</td> <td>586      </td> <td>4658   </td> <td>8857    </td>\n",
       "        </tr>\n",
       "    </tbody>\n",
       "</table>\n",
       "<p>... (46 rows omitted)</p>"
      ],
      "text/plain": [
       "State                | April sum | May sum | June sum\n",
       "Alabama              | 1060      | 7294    | 18630\n",
       "Alaska               | 132       | 364     | 466\n",
       "American Samoa       | 0         | 0       | 0\n",
       "Arizona              | 1413      | 7969    | 20129\n",
       "Arkansas             | 584       | 3337    | 7443\n",
       "California           | 9399      | 52026   | 114733\n",
       "Colorado             | 3342      | 15793   | 26563\n",
       "Connecticut          | 3557      | 28764   | 42740\n",
       "Delaware             | 368       | 4918    | 9605\n",
       "District of Columbia | 586       | 4658    | 8857\n",
       "... (46 rows omitted)"
      ]
     },
     "execution_count": 56,
     "metadata": {},
     "output_type": "execute_result"
    }
   ],
   "source": [
    "#Now we will drop the County sum and Combined_Key sum because they \n",
    "#do not have numbers to add and we do not need the columns anymore.\n",
    "grouped_by_state = grouped_by_state.drop(1, 2)\n",
    "grouped_by_state"
   ]
  },
  {
   "cell_type": "markdown",
   "metadata": {},
   "source": [
    "<div class=\"alert alert-warning\">\n",
    "<b>Question:</b> Now that we have it grouped by state, let's first look at the number of cases in June so we can compare it to the percentages we will look at later.\n",
    "   </div>"
   ]
  },
  {
   "cell_type": "code",
   "execution_count": 82,
   "metadata": {},
   "outputs": [
    {
     "data": {
      "image/png": "[encoded data removed]",
      "text/plain": [
       "<Figure size 432x360 with 1 Axes>"
      ]
     },
     "metadata": {},
     "output_type": "display_data"
    }
   ],
   "source": [
    "#Run this cell to see the number of\n",
    "grouped_by_state.sort(\"June sum\", descending = True).take(np.arange(10)).barh(\"State\", \"June sum\")"
   ]
  },
  {
   "cell_type": "markdown",
   "metadata": {},
   "source": [
    "<div class=\"alert alert-warning\">\n",
    "<b>Question:</b> Now join this table with the pop_by_state table. \n",
    "   </div>"
   ]
  },
  {
   "cell_type": "code",
   "execution_count": 15,
   "metadata": {
    "scrolled": true
   },
   "outputs": [
    {
     "data": {
      "text/html": [
       "<table border=\"1\" class=\"dataframe\">\n",
       "    <thead>\n",
       "        <tr>\n",
       "            <th>State</th> <th>3/1/2020 sum</th> <th>4/1/2020 sum</th> <th>5/1/2020 sum</th> <th>6/1/2020 sum</th> <th>Population</th>\n",
       "        </tr>\n",
       "    </thead>\n",
       "    <tbody>\n",
       "        <tr>\n",
       "            <td>Alabama             </td> <td>0           </td> <td>1060        </td> <td>7294        </td> <td>18630       </td> <td>4903185   </td>\n",
       "        </tr>\n",
       "        <tr>\n",
       "            <td>Alaska              </td> <td>0           </td> <td>132         </td> <td>364         </td> <td>466         </td> <td>731545    </td>\n",
       "        </tr>\n",
       "        <tr>\n",
       "            <td>American Samoa      </td> <td>0           </td> <td>0           </td> <td>0           </td> <td>0           </td> <td>55641     </td>\n",
       "        </tr>\n",
       "        <tr>\n",
       "            <td>Arizona             </td> <td>1           </td> <td>1413        </td> <td>7969        </td> <td>20129       </td> <td>7278717   </td>\n",
       "        </tr>\n",
       "        <tr>\n",
       "            <td>Arkansas            </td> <td>0           </td> <td>584         </td> <td>3337        </td> <td>7443        </td> <td>3017804   </td>\n",
       "        </tr>\n",
       "        <tr>\n",
       "            <td>California          </td> <td>12          </td> <td>9399        </td> <td>52026       </td> <td>114733      </td> <td>39512223  </td>\n",
       "        </tr>\n",
       "        <tr>\n",
       "            <td>Colorado            </td> <td>0           </td> <td>3342        </td> <td>15793       </td> <td>26563       </td> <td>5758736   </td>\n",
       "        </tr>\n",
       "        <tr>\n",
       "            <td>Connecticut         </td> <td>0           </td> <td>3557        </td> <td>28764       </td> <td>42740       </td> <td>3565287   </td>\n",
       "        </tr>\n",
       "        <tr>\n",
       "            <td>Delaware            </td> <td>0           </td> <td>368         </td> <td>4918        </td> <td>9605        </td> <td>973764    </td>\n",
       "        </tr>\n",
       "        <tr>\n",
       "            <td>District of Columbia</td> <td>0           </td> <td>586         </td> <td>4658        </td> <td>8857        </td> <td>705749    </td>\n",
       "        </tr>\n",
       "    </tbody>\n",
       "</table>\n",
       "<p>... (46 rows omitted)</p>"
      ],
      "text/plain": [
       "State                | 3/1/2020 sum | 4/1/2020 sum | 5/1/2020 sum | 6/1/2020 sum | Population\n",
       "Alabama              | 0            | 1060         | 7294         | 18630        | 4903185\n",
       "Alaska               | 0            | 132          | 364          | 466          | 731545\n",
       "American Samoa       | 0            | 0            | 0            | 0            | 55641\n",
       "Arizona              | 1            | 1413         | 7969         | 20129        | 7278717\n",
       "Arkansas             | 0            | 584          | 3337         | 7443         | 3017804\n",
       "California           | 12           | 9399         | 52026        | 114733       | 39512223\n",
       "Colorado             | 0            | 3342         | 15793        | 26563        | 5758736\n",
       "Connecticut          | 0            | 3557         | 28764        | 42740        | 3565287\n",
       "Delaware             | 0            | 368          | 4918         | 9605         | 973764\n",
       "District of Columbia | 0            | 586          | 4658         | 8857         | 705749\n",
       "... (46 rows omitted)"
      ]
     },
     "execution_count": 15,
     "metadata": {},
     "output_type": "execute_result"
    }
   ],
   "source": [
    "#We are going to join the two tables by providing the column they share which is \"State\".\n",
    "with_pop = grouped_by_state.join(\"State\", pop_by_state)\n",
    "with_pop"
   ]
  },
  {
   "cell_type": "markdown",
   "metadata": {},
   "source": [
    "<div class=\"alert alert-warning\">\n",
    "<b>Question:</b> Add a column called \"Percentage\" that has the number of cases collected in June divided by the population.\n",
    "   </div>"
   ]
  },
  {
   "cell_type": "code",
   "execution_count": 34,
   "metadata": {
    "scrolled": true
   },
   "outputs": [],
   "source": [
    "#First, we want to find the columns that would make up an array of the percentages.\n",
    "june_cases = with_pop.column(\"6/1/2020 sum\")\n",
    "population = ...\n",
    "percentage = (.../...)*100\n",
    "percentage"
   ]
  },
  {
   "cell_type": "code",
   "execution_count": 16,
   "metadata": {},
   "outputs": [
    {
     "data": {
      "text/plain": [
       "array([0.37995711, 0.0637008 , 0.        , 0.27654599, 0.2466363 ,\n",
       "       0.29037344, 0.46126442, 1.19878147, 0.98637863, 1.25497875,\n",
       "       0.26459957, 0.45116409, 0.10655852, 0.04604936, 0.15886384,\n",
       "       0.95672122, 0.51736285, 0.62436016, 0.34050569, 0.22485979,\n",
       "       0.86777345, 0.17474922, 0.88206786, 1.4625311 , 0.57607714,\n",
       "       0.44697952, 0.52927458, 0.20711186, 0.04856013, 0.74157055,\n",
       "       0.28251816, 0.34455851, 1.81169284, 0.37199028, 1.4208228 ,\n",
       "       0.28214877, 0.34446016, 0.03989555, 0.30784235, 0.16611191,\n",
       "       0.10199782, 0.59870384, 0.13203073, 1.41509835, 0.23594241,\n",
       "       0.56903281, 0.33043528, 0.22621489, 0.31188805, 0.15753483,\n",
       "       0.06525711, 0.53187158, 0.2886055 , 0.11316036, 0.31847506,\n",
       "       0.15723298])"
      ]
     },
     "execution_count": 16,
     "metadata": {},
     "output_type": "execute_result"
    }
   ],
   "source": [
    "#KEY\n",
    "june_cases = with_pop.column(\"6/1/2020 sum\")\n",
    "population = with_pop.column(\"Population\")\n",
    "percentage = (june_cases/population)*100\n",
    "percentage"
   ]
  },
  {
   "cell_type": "code",
   "execution_count": 21,
   "metadata": {},
   "outputs": [],
   "source": [
    "with_pct = with_pop.with_column(\"...\", ...)\n",
    "with_pct"
   ]
  },
  {
   "cell_type": "code",
   "execution_count": 17,
   "metadata": {
    "scrolled": true
   },
   "outputs": [
    {
     "data": {
      "text/html": [
       "<table border=\"1\" class=\"dataframe\">\n",
       "    <thead>\n",
       "        <tr>\n",
       "            <th>State</th> <th>3/1/2020 sum</th> <th>4/1/2020 sum</th> <th>5/1/2020 sum</th> <th>6/1/2020 sum</th> <th>Population</th> <th>Percentage</th>\n",
       "        </tr>\n",
       "    </thead>\n",
       "    <tbody>\n",
       "        <tr>\n",
       "            <td>Alabama             </td> <td>0           </td> <td>1060        </td> <td>7294        </td> <td>18630       </td> <td>4903185   </td> <td>0.379957  </td>\n",
       "        </tr>\n",
       "        <tr>\n",
       "            <td>Alaska              </td> <td>0           </td> <td>132         </td> <td>364         </td> <td>466         </td> <td>731545    </td> <td>0.0637008 </td>\n",
       "        </tr>\n",
       "        <tr>\n",
       "            <td>American Samoa      </td> <td>0           </td> <td>0           </td> <td>0           </td> <td>0           </td> <td>55641     </td> <td>0         </td>\n",
       "        </tr>\n",
       "        <tr>\n",
       "            <td>Arizona             </td> <td>1           </td> <td>1413        </td> <td>7969        </td> <td>20129       </td> <td>7278717   </td> <td>0.276546  </td>\n",
       "        </tr>\n",
       "        <tr>\n",
       "            <td>Arkansas            </td> <td>0           </td> <td>584         </td> <td>3337        </td> <td>7443        </td> <td>3017804   </td> <td>0.246636  </td>\n",
       "        </tr>\n",
       "        <tr>\n",
       "            <td>California          </td> <td>12          </td> <td>9399        </td> <td>52026       </td> <td>114733      </td> <td>39512223  </td> <td>0.290373  </td>\n",
       "        </tr>\n",
       "        <tr>\n",
       "            <td>Colorado            </td> <td>0           </td> <td>3342        </td> <td>15793       </td> <td>26563       </td> <td>5758736   </td> <td>0.461264  </td>\n",
       "        </tr>\n",
       "        <tr>\n",
       "            <td>Connecticut         </td> <td>0           </td> <td>3557        </td> <td>28764       </td> <td>42740       </td> <td>3565287   </td> <td>1.19878   </td>\n",
       "        </tr>\n",
       "        <tr>\n",
       "            <td>Delaware            </td> <td>0           </td> <td>368         </td> <td>4918        </td> <td>9605        </td> <td>973764    </td> <td>0.986379  </td>\n",
       "        </tr>\n",
       "        <tr>\n",
       "            <td>District of Columbia</td> <td>0           </td> <td>586         </td> <td>4658        </td> <td>8857        </td> <td>705749    </td> <td>1.25498   </td>\n",
       "        </tr>\n",
       "    </tbody>\n",
       "</table>\n",
       "<p>... (46 rows omitted)</p>"
      ],
      "text/plain": [
       "State                | 3/1/2020 sum | 4/1/2020 sum | 5/1/2020 sum | 6/1/2020 sum | Population | Percentage\n",
       "Alabama              | 0            | 1060         | 7294         | 18630        | 4903185    | 0.379957\n",
       "Alaska               | 0            | 132          | 364          | 466          | 731545     | 0.0637008\n",
       "American Samoa       | 0            | 0            | 0            | 0            | 55641      | 0\n",
       "Arizona              | 1            | 1413         | 7969         | 20129        | 7278717    | 0.276546\n",
       "Arkansas             | 0            | 584          | 3337         | 7443         | 3017804    | 0.246636\n",
       "California           | 12           | 9399         | 52026        | 114733       | 39512223   | 0.290373\n",
       "Colorado             | 0            | 3342         | 15793        | 26563        | 5758736    | 0.461264\n",
       "Connecticut          | 0            | 3557         | 28764        | 42740        | 3565287    | 1.19878\n",
       "Delaware             | 0            | 368          | 4918         | 9605         | 973764     | 0.986379\n",
       "District of Columbia | 0            | 586          | 4658         | 8857         | 705749     | 1.25498\n",
       "... (46 rows omitted)"
      ]
     },
     "execution_count": 17,
     "metadata": {},
     "output_type": "execute_result"
    }
   ],
   "source": [
    "#KEY\n",
    "with_pct = with_pop.with_column(\"Percentage\", percentage)\n",
    "with_pct"
   ]
  },
  {
   "cell_type": "markdown",
   "metadata": {},
   "source": [
    "<div class=\"alert alert-warning\">\n",
    "<b>Question:</b> Like we did in the previous section, sort with_pct and include the top ten states with the most cases on June 1st. Then, create a bar chart to compare the states with the highest percentages of cases.\n",
    "   </div>"
   ]
  },
  {
   "cell_type": "code",
   "execution_count": 38,
   "metadata": {},
   "outputs": [],
   "source": [
    "top_ten_pct = ..."
   ]
  },
  {
   "cell_type": "code",
   "execution_count": 18,
   "metadata": {
    "scrolled": true
   },
   "outputs": [
    {
     "data": {
      "text/html": [
       "<table border=\"1\" class=\"dataframe\">\n",
       "    <thead>\n",
       "        <tr>\n",
       "            <th>State</th> <th>3/1/2020 sum</th> <th>4/1/2020 sum</th> <th>5/1/2020 sum</th> <th>6/1/2020 sum</th> <th>Population</th> <th>Percentage</th>\n",
       "        </tr>\n",
       "    </thead>\n",
       "    <tbody>\n",
       "        <tr>\n",
       "            <td>New Jersey          </td> <td>0           </td> <td>22255       </td> <td>121190      </td> <td>160918      </td> <td>8882190   </td> <td>1.81169   </td>\n",
       "        </tr>\n",
       "        <tr>\n",
       "            <td>Massachusetts       </td> <td>1           </td> <td>7738        </td> <td>64311       </td> <td>100805      </td> <td>6892503   </td> <td>1.46253   </td>\n",
       "        </tr>\n",
       "        <tr>\n",
       "            <td>New York            </td> <td>0           </td> <td>83948       </td> <td>308314      </td> <td>371711      </td> <td>26161672  </td> <td>1.42082   </td>\n",
       "        </tr>\n",
       "        <tr>\n",
       "            <td>Rhode Island        </td> <td>1           </td> <td>566         </td> <td>8962        </td> <td>14991       </td> <td>1059361   </td> <td>1.4151    </td>\n",
       "        </tr>\n",
       "        <tr>\n",
       "            <td>District of Columbia</td> <td>0           </td> <td>586         </td> <td>4658        </td> <td>8857        </td> <td>705749    </td> <td>1.25498   </td>\n",
       "        </tr>\n",
       "        <tr>\n",
       "            <td>Connecticut         </td> <td>0           </td> <td>3557        </td> <td>28764       </td> <td>42740       </td> <td>3565287   </td> <td>1.19878   </td>\n",
       "        </tr>\n",
       "        <tr>\n",
       "            <td>Delaware            </td> <td>0           </td> <td>368         </td> <td>4918        </td> <td>9605        </td> <td>973764    </td> <td>0.986379  </td>\n",
       "        </tr>\n",
       "        <tr>\n",
       "            <td>Illinois            </td> <td>3           </td> <td>6980        </td> <td>56055       </td> <td>121234      </td> <td>12671821  </td> <td>0.956721  </td>\n",
       "        </tr>\n",
       "        <tr>\n",
       "            <td>Maryland            </td> <td>0           </td> <td>1986        </td> <td>23472       </td> <td>53327       </td> <td>6045680   </td> <td>0.882068  </td>\n",
       "        </tr>\n",
       "        <tr>\n",
       "            <td>Louisiana           </td> <td>0           </td> <td>6424        </td> <td>28711       </td> <td>40341       </td> <td>4648794   </td> <td>0.867773  </td>\n",
       "        </tr>\n",
       "    </tbody>\n",
       "</table>"
      ],
      "text/plain": [
       "State                | 3/1/2020 sum | 4/1/2020 sum | 5/1/2020 sum | 6/1/2020 sum | Population | Percentage\n",
       "New Jersey           | 0            | 22255        | 121190       | 160918       | 8882190    | 1.81169\n",
       "Massachusetts        | 1            | 7738         | 64311        | 100805       | 6892503    | 1.46253\n",
       "New York             | 0            | 83948        | 308314       | 371711       | 26161672   | 1.42082\n",
       "Rhode Island         | 1            | 566          | 8962         | 14991        | 1059361    | 1.4151\n",
       "District of Columbia | 0            | 586          | 4658         | 8857         | 705749     | 1.25498\n",
       "Connecticut          | 0            | 3557         | 28764        | 42740        | 3565287    | 1.19878\n",
       "Delaware             | 0            | 368          | 4918         | 9605         | 973764     | 0.986379\n",
       "Illinois             | 3            | 6980         | 56055        | 121234       | 12671821   | 0.956721\n",
       "Maryland             | 0            | 1986         | 23472        | 53327        | 6045680    | 0.882068\n",
       "Louisiana            | 0            | 6424         | 28711        | 40341        | 4648794    | 0.867773"
      ]
     },
     "execution_count": 18,
     "metadata": {},
     "output_type": "execute_result"
    }
   ],
   "source": [
    "#KEY\n",
    "top_ten_pct = with_pct.sort(\"Percentage\", descending = True).take(np.arange(10))\n",
    "top_ten_pct"
   ]
  },
  {
   "cell_type": "code",
   "execution_count": 40,
   "metadata": {},
   "outputs": [],
   "source": [
    "#fill in the code to make the bar chart looking at the States and their Percentages.\n",
    "..."
   ]
  },
  {
   "cell_type": "code",
   "execution_count": 19,
   "metadata": {
    "scrolled": true
   },
   "outputs": [
    {
     "data": {
      "image/png": "[encoded data removed]",
      "text/plain": [
       "<Figure size 432x360 with 1 Axes>"
      ]
     },
     "metadata": {},
     "output_type": "display_data"
    }
   ],
   "source": [
    "#KEY\n",
    "top_ten_pct.barh(\"State\", \"Percentage\")"
   ]
  },
  {
   "cell_type": "markdown",
   "metadata": {},
   "source": [
    "<div class=\"alert alert-warning\">\n",
    "<b>Question:</b> What differences do you see from the bar chart of the states when we just saw the number of cases? Give some possible reasons for the differences.\n",
    "   </div>"
   ]
  },
  {
   "cell_type": "markdown",
   "metadata": {},
   "source": [
    "*Insert answer here.*"
   ]
  },
  {
   "cell_type": "markdown",
   "metadata": {},
   "source": [
    "## Using prediction and inference to draw conclusions <a id='subsection 1a'></a>"
   ]
  },
  {
   "cell_type": "markdown",
   "metadata": {},
   "source": [
    "Now that we have some experience making these visualizations, let's go back to exponential growth. We know that, without intervention, a disease can behave like a rumor and spread at an alarming rate. From the previous section, we also know that we need to take into account the population of the region when looking at the number of cases."
   ]
  },
  {
   "cell_type": "markdown",
   "metadata": {},
   "source": [
    "Now we will read in two tables: Covid by State and Population by state in order to look at the percentage of the cases. And the growth of the "
   ]
  },
  {
   "cell_type": "code",
   "execution_count": 60,
   "metadata": {
    "scrolled": false
   },
   "outputs": [
    {
     "data": {
      "text/html": [
       "<table border=\"1\" class=\"dataframe\">\n",
       "    <thead>\n",
       "        <tr>\n",
       "            <th>Days since 3/1/20</th> <th>Alabama</th> <th>Alaska</th> <th>American Samoa</th> <th>Arizona</th> <th>Arkansas</th> <th>California</th> <th>Colorado</th> <th>Connecticut</th> <th>Delaware</th> <th>District of Columbia</th> <th>Florida</th> <th>Georgia</th> <th>Guam</th> <th>Hawaii</th> <th>Idaho</th> <th>Illinois</th> <th>Indiana</th> <th>Iowa</th> <th>Kansas</th> <th>Kentucky</th> <th>Louisiana</th> <th>Maine</th> <th>Maryland</th> <th>Massachusetts</th> <th>Michigan</th> <th>Minnesota</th> <th>Mississippi</th> <th>Missouri</th> <th>Montana</th> <th>Nebraska</th> <th>Nevada</th> <th>New Hampshire</th> <th>New Jersey</th> <th>New Mexico</th> <th>New York</th> <th>North Carolina</th> <th>North Dakota</th> <th>Northern Mariana Islands</th> <th>Ohio</th> <th>Oklahoma</th> <th>Oregon</th> <th>Pennsylvania</th> <th>Puerto Rico</th> <th>Rhode Island</th> <th>South Carolina</th> <th>South Dakota</th> <th>Tennessee</th> <th>Texas</th> <th>Utah</th> <th>Vermont</th> <th>Virgin Islands</th> <th>Virginia</th> <th>Washington</th> <th>West Virginia</th> <th>Wisconsin</th> <th>Wyoming</th>\n",
       "        </tr>\n",
       "    </thead>\n",
       "    <tbody>\n",
       "        <tr>\n",
       "            <td>0                </td> <td>0      </td> <td>0     </td> <td>0             </td> <td>1      </td> <td>0       </td> <td>12        </td> <td>0       </td> <td>0          </td> <td>0       </td> <td>0                   </td> <td>0      </td> <td>0      </td> <td>0   </td> <td>0     </td> <td>0    </td> <td>3       </td> <td>0      </td> <td>0   </td> <td>0     </td> <td>0       </td> <td>0        </td> <td>0    </td> <td>0       </td> <td>1            </td> <td>0       </td> <td>0        </td> <td>0          </td> <td>0       </td> <td>0      </td> <td>0       </td> <td>0     </td> <td>0            </td> <td>0         </td> <td>0         </td> <td>0       </td> <td>0             </td> <td>0           </td> <td>0                       </td> <td>0   </td> <td>0       </td> <td>1     </td> <td>0           </td> <td>0          </td> <td>1           </td> <td>0             </td> <td>0           </td> <td>0        </td> <td>0    </td> <td>0   </td> <td>0      </td> <td>0             </td> <td>0       </td> <td>11        </td> <td>0            </td> <td>0        </td> <td>0      </td>\n",
       "        </tr>\n",
       "        <tr>\n",
       "            <td>1                </td> <td>0      </td> <td>0     </td> <td>0             </td> <td>1      </td> <td>0       </td> <td>21        </td> <td>0       </td> <td>0          </td> <td>0       </td> <td>0                   </td> <td>1      </td> <td>0      </td> <td>0   </td> <td>0     </td> <td>0    </td> <td>4       </td> <td>0      </td> <td>0   </td> <td>0     </td> <td>0       </td> <td>0        </td> <td>0    </td> <td>0       </td> <td>1            </td> <td>0       </td> <td>0        </td> <td>0          </td> <td>0       </td> <td>0      </td> <td>0       </td> <td>0     </td> <td>1            </td> <td>0         </td> <td>0         </td> <td>1       </td> <td>0             </td> <td>0           </td> <td>0                       </td> <td>0   </td> <td>0       </td> <td>3     </td> <td>0           </td> <td>0          </td> <td>2           </td> <td>0             </td> <td>0           </td> <td>0        </td> <td>0    </td> <td>0   </td> <td>0      </td> <td>0             </td> <td>0       </td> <td>18        </td> <td>0            </td> <td>0        </td> <td>0      </td>\n",
       "        </tr>\n",
       "        <tr>\n",
       "            <td>2                </td> <td>0      </td> <td>0     </td> <td>0             </td> <td>1      </td> <td>0       </td> <td>25        </td> <td>0       </td> <td>0          </td> <td>0       </td> <td>0                   </td> <td>2      </td> <td>2      </td> <td>0   </td> <td>0     </td> <td>0    </td> <td>4       </td> <td>0      </td> <td>0   </td> <td>0     </td> <td>0       </td> <td>0        </td> <td>0    </td> <td>0       </td> <td>2            </td> <td>0       </td> <td>0        </td> <td>0          </td> <td>0       </td> <td>0      </td> <td>0       </td> <td>0     </td> <td>2            </td> <td>0         </td> <td>0         </td> <td>2       </td> <td>1             </td> <td>0           </td> <td>0                       </td> <td>0   </td> <td>0       </td> <td>3     </td> <td>0           </td> <td>0          </td> <td>2           </td> <td>0             </td> <td>0           </td> <td>0        </td> <td>0    </td> <td>0   </td> <td>0      </td> <td>0             </td> <td>0       </td> <td>27        </td> <td>0            </td> <td>0        </td> <td>0      </td>\n",
       "        </tr>\n",
       "        <tr>\n",
       "            <td>3                </td> <td>0      </td> <td>0     </td> <td>0             </td> <td>1      </td> <td>0       </td> <td>35        </td> <td>0       </td> <td>0          </td> <td>0       </td> <td>0                   </td> <td>2      </td> <td>2      </td> <td>0   </td> <td>0     </td> <td>0    </td> <td>4       </td> <td>0      </td> <td>0   </td> <td>0     </td> <td>0       </td> <td>0        </td> <td>0    </td> <td>0       </td> <td>2            </td> <td>0       </td> <td>0        </td> <td>0          </td> <td>0       </td> <td>0      </td> <td>0       </td> <td>0     </td> <td>2            </td> <td>0         </td> <td>0         </td> <td>11      </td> <td>1             </td> <td>0           </td> <td>0                       </td> <td>0   </td> <td>0       </td> <td>3     </td> <td>0           </td> <td>0          </td> <td>2           </td> <td>0             </td> <td>0           </td> <td>0        </td> <td>0    </td> <td>0   </td> <td>0      </td> <td>0             </td> <td>0       </td> <td>39        </td> <td>0            </td> <td>0        </td> <td>0      </td>\n",
       "        </tr>\n",
       "        <tr>\n",
       "            <td>4                </td> <td>0      </td> <td>0     </td> <td>0             </td> <td>1      </td> <td>0       </td> <td>51        </td> <td>2       </td> <td>0          </td> <td>0       </td> <td>0                   </td> <td>3      </td> <td>2      </td> <td>0   </td> <td>0     </td> <td>0    </td> <td>5       </td> <td>0      </td> <td>0   </td> <td>0     </td> <td>0       </td> <td>0        </td> <td>0    </td> <td>0       </td> <td>2            </td> <td>0       </td> <td>0        </td> <td>0          </td> <td>0       </td> <td>0      </td> <td>0       </td> <td>1     </td> <td>2            </td> <td>2         </td> <td>0         </td> <td>23      </td> <td>1             </td> <td>0           </td> <td>0                       </td> <td>0   </td> <td>0       </td> <td>3     </td> <td>0           </td> <td>0          </td> <td>2           </td> <td>0             </td> <td>0           </td> <td>1        </td> <td>3    </td> <td>0   </td> <td>0      </td> <td>0             </td> <td>0       </td> <td>70        </td> <td>0            </td> <td>0        </td> <td>0      </td>\n",
       "        </tr>\n",
       "    </tbody>\n",
       "</table>\n",
       "<p>... (96 rows omitted)</p>"
      ],
      "text/plain": [
       "<IPython.core.display.HTML object>"
      ]
     },
     "metadata": {},
     "output_type": "display_data"
    }
   ],
   "source": [
    "covid_by_state = Table().read_table(\"data/covid_by_state.csv\")\n",
    "covid_by_state.show(5)"
   ]
  },
  {
   "cell_type": "code",
   "execution_count": 71,
   "metadata": {},
   "outputs": [
    {
     "data": {
      "application/vnd.jupyter.widget-view+json": {
       "model_id": "08dbe6c694264a2d901edb121c52439b",
       "version_major": 2,
       "version_minor": 0
      },
      "text/plain": [
       "interactive(children=(Dropdown(description='state_1', options=('Alabama', 'Alaska', 'American Samoa', 'Arizona…"
      ]
     },
     "metadata": {},
     "output_type": "display_data"
    }
   ],
   "source": [
    "#run this cell to get a line plot!\n",
    "def plot_states(state_1, state_2):\n",
    "    covid_by_state.select(0, state_1, state_2).plot(0)\n",
    "interact(plot_states, \n",
    "         state_1=Dropdown(options=covid_by_state.labels[1:]), \n",
    "         state_2=Dropdown(options=covid_by_state.labels[1:]));"
   ]
  },
  {
   "cell_type": "markdown",
   "metadata": {},
   "source": [
    "Possible widget. Look at the growth of the cases and try to explain using your knowledge and other sources. Tell a story. (Presentation)\n",
    "\n",
    "Tell us what you learned about the two states you chose."
   ]
  },
  {
   "cell_type": "markdown",
   "metadata": {},
   "source": [
    "Tell us something interesting about this data"
   ]
  },
  {
   "cell_type": "markdown",
   "metadata": {},
   "source": [
    "Source: How Math (and Vaccines) Keep You Safe From the Flu by Patrick Honner (Quanta Magazine)\n",
    "Notebook Authors: Alleanna Clark, Ashley Quiterio, Karla Palos Castellanos"
   ]
  },
  {
   "cell_type": "code",
   "execution_count": null,
   "metadata": {},
   "outputs": [],
   "source": []
  }
 ],
 "metadata": {
  "kernelspec": {
   "display_name": "Python 3",
   "language": "python",
   "name": "python3"
  },
  "language_info": {
   "codemirror_mode": {
    "name": "ipython",
    "version": 3
   },
   "file_extension": ".py",
   "mimetype": "text/x-python",
   "name": "python",
   "nbconvert_exporter": "python",
   "pygments_lexer": "ipython3",
   "version": "3.6.9"
  }
 },
 "nbformat": 4,
 "nbformat_minor": 4
}
