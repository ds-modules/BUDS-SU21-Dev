{
 "cells": [
  {
   "cell_type": "code",
   "execution_count": null,
   "metadata": {},
   "outputs": [],
   "source": [
    "import warnings\n",
    "warnings.filterwarnings('ignore')\n",
    "\n",
    "from datascience import *\n",
    "import numpy as np\n",
    "\n",
    "import matplotlib.pyplot as plt\n",
    "%matplotlib inline"
   ]
  },
  {
   "cell_type": "markdown",
   "metadata": {},
   "source": [
    "# Accuracy in Online Articles #\n",
    "\n",
    "***A. Adhikari***\n",
    "\n",
    "### BUDS 2021 Week 3 Wednesday Report ###\n",
    "\n",
    "\n",
    "**Remember to run the top cell of this notebook before reading further.**"
   ]
  },
  {
   "cell_type": "markdown",
   "metadata": {},
   "source": [
    "[Forbes](https://en.wikipedia.org/wiki/Forbes) is an American business magazine that has a significant international presence and editions in over 25 languages. It has a particular interest in very rich people. For example, its annual list of the world's [billionaires](https://en.wikipedia.org/wiki/The_World%27s_Billionaires#2021) is publicized by news organizations all over the world.\n",
    "\n",
    "Forbes has a digital presence as well, with forbes.com being one of the world's most widely visited business websites.\n",
    "\n",
    "However, few people in the world are billionaires, and a pro-business perspective sometimes goes hand in hand with limiting payments to employees. \n",
    "\n",
    "Governments are not businesses, but they too have employees and must manage funds. In September 2020, forbes.com published an article by [Adam Andrzejewski](https://en.wikipedia.org/wiki/Adam_Andrzejewski), businessman and former Republican candidate for Governor of Illinois. The article was entitled *Why San Francisco is in Trouble: 19,000 Highly Compensated Employees Earned $150,000+ in Pay & Perks*. It was about the compensation paid to San Francisco city and county government employees in 2019.\n",
    "\n",
    "**In this report, you will assess the contents of the article and provide recommendations for how to thoughtfully read data-intensive online publications.**\n",
    "\n",
    "We will provide all the portions of the article needed for this report. If you want to read the full article, be aware that payments to the author are based on traffic to the article's [webpage](https://www.forbes.com/sites/adamandrzejewski/2020/09/01/why-san-francisco-is-in-trouble--19000-highly-compensated-city-employees-earned-150000-in-pay--perks/?sh=13393e437693). We will return to this aspect later in the report."
   ]
  },
  {
   "cell_type": "markdown",
   "metadata": {},
   "source": [
    "### The Data Source ###\n",
    "\n",
    "The author of the Forbes article is also the founder of [OpentheBooks](https://en.wikipedia.org/wiki/OpenTheBooks), a non-profit organization that aims to collect and post all the disclosed spending of governments of all levels in the US.\n",
    "\n",
    "The data source cited in the article is [publicly provided](https://data.sfgov.org/City-Management-and-Ethics/Employee-Compensation/88g8-5mnd/data) by the City of San Francisco. We have filtered it to retain just the relevant columns and restrict the data to the calendar year 2019 as that was the year studied in the article.\n",
    "\n",
    "Run the cell below to load the data table <tt>sf</tt> and view its first three rows."
   ]
  },
  {
   "cell_type": "code",
   "execution_count": null,
   "metadata": {},
   "outputs": [],
   "source": [
    "sf = Table.read_table('sf2019.csv')\n",
    "sf.show(3)"
   ]
  },
  {
   "cell_type": "markdown",
   "metadata": {},
   "source": [
    "The table has one row for each of the 44,525 San Francisco government employees in 2019.\n",
    "\n",
    "The first four columns describe the employee's job. For example, the employee in the third row of the table had a job called IS Business Analyst-Senior. We will also call this the employee's *position* or *job title*. The job was in a Job Family called Information Systems (hence the IS in the job title), and was in the Adult Probation department that is part of the Public Protection Organization Group of the government. You will mostly be working with the job title.\n",
    "\n",
    "The next three columns contain the dollar amounts paid to the employee in the calendar year 2019, for salary, overtime, and benefits. Here salary does not include overtime.\n",
    "\n",
    "The last column contains the total compensation paid to the employee. It is the sum of the previous three columns:\n",
    "\n",
    "total compensation = salary + overtime + benefits\n",
    "\n",
    "You will mostly be working with the total compensation."
   ]
  },
  {
   "cell_type": "markdown",
   "metadata": {},
   "source": [
    "## Part 1: The Problem and Initial Recommendations ##"
   ]
  },
  {
   "cell_type": "markdown",
   "metadata": {},
   "source": [
    "Since you have the data just as the author did, you can do some of the calculations yourself."
   ]
  },
  {
   "cell_type": "markdown",
   "metadata": {},
   "source": [
    "### The Title ###\n",
    "Start with the data in the title of the article: \n",
    "\n",
    "*19,000 Highly Compensated Employees Earned $150,000+ in Pay & Perks*\n",
    "\n",
    "It makes sense to interpret Pay & Perks to mean total compensation.\n",
    "\n",
    "In the cell below, we have assigned the name <tt>at_least_150K</tt> to a table that contains only the <tt>sf</tt> rows corresponding to employees whose total compensation was $150,000 or more. The use of K to represent \"thousand\" is common in computer science, and comes from \"kilo\" as in \"kilogram\".\n",
    "\n",
    "- First, discuss with your group why we decided to use\n",
    "`where` and not some other method such as `take` or `select`.\n",
    "\n",
    "Next, run the cell."
   ]
  },
  {
   "cell_type": "code",
   "execution_count": null,
   "metadata": {},
   "outputs": [],
   "source": [
    "# Table of only those with total compensation $150,000 or more\n",
    "\n",
    "at_least_150K = sf.where('Total Compensation', are.above_or_equal_to(150000))\n",
    "at_least_150K.show(3)"
   ]
  },
  {
   "cell_type": "markdown",
   "metadata": {},
   "source": [
    "<div class=\"alert alert-info\">\n",
    "    <b> Question: </b>\n",
    "    How many employees had a total compensation of $150,000+? Is the number the same as in the title of the article? If not, which number is larger: yours, or the one in the title?"
   ]
  },
  {
   "cell_type": "markdown",
   "metadata": {},
   "source": [
    "YOUR ANSWER HERE:"
   ]
  },
  {
   "cell_type": "markdown",
   "metadata": {},
   "source": [
    "Since the Forbes article cites the same open dataset that we are using, a reason for the discrepancy could be that the City updated the dataset between the time when the article was written and when we accessed it. Or it could be that the article used additional data that is not cited. \n",
    "\n",
    "Based on the figures in the rest of the article, the difference appears to be in the benefits, which are a little smaller in our dataset than in the article. We will continue to use our dataset because it is the one currently provided by the City. So you should expect the total compensation amounts in your calculations to be smaller than the corresponding values in the article.\n",
    "\n",
    "A **more important factor** to keep in mind is that \"highly compensated\" does not have a unique definition. San Francisco is an expensive city. In fact, it is so expensive that the Housing and Urban Development (HUD) [limit for \"low income\"](https://www.huduser.gov/portal/datasets/il/il2019/select_Geography.odn) in San Francisco, Marin, and San Mateo counties in 2019 was an annual income of $129,150 or less for a family of four people."
   ]
  },
  {
   "cell_type": "markdown",
   "metadata": {},
   "source": [
    "### An Eye-Popping Table###\n",
    "\n",
    "The article contains a brightly colored table, shown here. We will refer to it as the \"Forbes table\" for short. "
   ]
  },
  {
   "cell_type": "markdown",
   "metadata": {},
   "source": [
    "![Table in Forbes article](forbes_table.png)"
   ]
  },
  {
   "cell_type": "markdown",
   "metadata": {},
   "source": [
    "It is striking that according to this table, Registered Nurses apparently earned almost $300,000 on average in 2019. That seems like a very large amount. It is worth checking if the calculation makes sense.\n",
    "\n",
    "First, count the number of nurses. \n",
    "\n",
    "- Review how we calculated the number of employees who made $150,000 or more, and discuss with your group how to adapt that method to count the number of nurses. \n",
    "- Also discuss how to calculate the number of rows in a table without displaying the first few rows of the table."
   ]
  },
  {
   "cell_type": "markdown",
   "metadata": {},
   "source": [
    "<div class=\"alert alert-info\">\n",
    "    <b> Question: </b>\n",
    "    Assign <tt>rn</tt> to a table of just the <tt>sf</tt> rows corresponding to Registered Nurses, and then assign <tt>rn_count</tt> to the number of Registered Nurses."
   ]
  },
  {
   "cell_type": "code",
   "execution_count": null,
   "metadata": {},
   "outputs": [],
   "source": [
    "# Number of Registered Nurses\n",
    "\n",
    "# Table of all the data for only the Registered Nurses\n",
    "rn = sf.where(..., are.equal_to(...))\n",
    "\n",
    "rn_count = rn...\n",
    "rn_count"
   ]
  },
  {
   "cell_type": "markdown",
   "metadata": {},
   "source": [
    "This count should be the same as in Forbes table.\n",
    "\n",
    "The Forbes table provides the following two numbers: the number of Registered Nurses, and the grand total of the compensation paid to all of them\n",
    "\n",
    "- Discuss with your group how you can calculate the average compensation of the Registered Nurses using just these two numbers. "
   ]
  },
  {
   "cell_type": "markdown",
   "metadata": {},
   "source": [
    "<div class=\"alert alert-info\">\n",
    "    <b> Question: </b> \n",
    "Assign <tt>average_comp</tt> to the average compensation of the Registered Nurses, using the method your group came up with."
   ]
  },
  {
   "cell_type": "code",
   "execution_count": null,
   "metadata": {},
   "outputs": [],
   "source": [
    "# Internal consistency check of the Forbes table\n",
    "\n",
    "rn_count_forbes = 1471           # number of Registered Nurses\n",
    "rn_total_forbes = 298515988      # grand total compensation of all Registered Nurses\n",
    "\n",
    "# Average compensation based on rn_count_forbes and rn_total_forbes\n",
    "average_comp = ...\n",
    "average_comp"
   ]
  },
  {
   "cell_type": "markdown",
   "metadata": {},
   "source": [
    "<div class=\"alert alert-info\">\n",
    "    <b> Question: </b> \n",
    "    Is <tt>average_comp</tt> equal to the corresponding average in the Forbes table? If not, which one is bigger? What is a possible reason for the discrepancy? "
   ]
  },
  {
   "cell_type": "markdown",
   "metadata": {},
   "source": [
    "YOUR ANSWER HERE:"
   ]
  },
  {
   "cell_type": "markdown",
   "metadata": {},
   "source": [
    "It looks as though there is a problem. Your figures don't agree with those in the article, and the discrepancies seem to have a consistent direction.\n",
    "\n",
    "At this point it's a good idea to think about how to approach the rest of the article."
   ]
  },
  {
   "cell_type": "markdown",
   "metadata": {},
   "source": [
    "<div class=\"alert alert-info\">\n",
    "    <b> Question: </b> \n",
    "    Based on your analysis so far, what are your initial recommendations to someone who is planning to read the Forbes article? "
   ]
  },
  {
   "cell_type": "markdown",
   "metadata": {},
   "source": [
    "YOUR ANSWER HERE:"
   ]
  },
  {
   "cell_type": "markdown",
   "metadata": {},
   "source": [
    "## Part 2: Top 10 Positions by Head Count ##"
   ]
  },
  {
   "cell_type": "markdown",
   "metadata": {},
   "source": [
    "Now check some of the other figures in the Forbes table. \n",
    "\n",
    "Start by counting the number of employees in each position. \n",
    "- Discuss with your group which of the following methods is best suited for this purpose: `take`, `where`, or `group`."
   ]
  },
  {
   "cell_type": "markdown",
   "metadata": {},
   "source": [
    "<div class=\"alert alert-info\">\n",
    "    <b> Question: </b> \n",
    "    Assign <tt>job_counts</tt> to a table that has a row for each position, with one column showing the job title and the other showing the number of employees who had that job."
   ]
  },
  {
   "cell_type": "code",
   "execution_count": null,
   "metadata": {},
   "outputs": [],
   "source": [
    "# Count the number of employees in each job title\n",
    "\n",
    "job_counts = sf...(...)\n",
    "job_counts"
   ]
  },
  {
   "cell_type": "markdown",
   "metadata": {},
   "source": [
    "**Notice that there are 1057 positions, and they appear in alphabetical order.** This will be important later."
   ]
  },
  {
   "cell_type": "markdown",
   "metadata": {},
   "source": [
    "<div class=\"alert alert-info\">\n",
    "    <b> Question: </b>\n",
    "    Assign <tt>sorted_job_counts</tt> to a table that has the rows of <tt>job_counts</tt> in decreasing order of the counts."
   ]
  },
  {
   "cell_type": "code",
   "execution_count": null,
   "metadata": {},
   "outputs": [],
   "source": [
    "# The most commonly held jobs, with their counts\n",
    "\n",
    "sorted_job_counts = job_counts...(..., ...)\n",
    "sorted_job_counts"
   ]
  },
  {
   "cell_type": "markdown",
   "metadata": {},
   "source": [
    "The display conveniently shows the top 10 jobs by head count (that is, by the number of employees who had the job). \n",
    "\n",
    "The list is not the same as the one in the Forbes table, reproduced here for convenience."
   ]
  },
  {
   "cell_type": "markdown",
   "metadata": {},
   "source": [
    "![Forbes table](forbes_table.png)"
   ]
  },
  {
   "cell_type": "markdown",
   "metadata": {},
   "source": [
    "<div class=\"alert alert-info\">\n",
    "    <b> Questions: </b>\n",
    "    <br> (a) What do the two lists have in common? \n",
    "    <br> (b) Which jobs are on the Forbes list but not on yours? \n",
    "    <br> (c) Which jobs are on your list but not on the Forbes list?"
   ]
  },
  {
   "cell_type": "markdown",
   "metadata": {},
   "source": [
    "YOUR ANSWERS HERE:\n",
    "\n",
    "(a)\n",
    "\n",
    "(b)\n",
    "\n",
    "(c)"
   ]
  },
  {
   "cell_type": "markdown",
   "metadata": {},
   "source": [
    "Run the cell below to see the top 20 jobs by head count. \n",
    "- Discuss with your group some possible reasons why the Forbes article chose to use some jobs as its so-called \"top 10\" but not others. \n",
    "\n",
    "Later in the report you will have more evidence to come up with reasons."
   ]
  },
  {
   "cell_type": "code",
   "execution_count": null,
   "metadata": {},
   "outputs": [],
   "source": [
    "# The top 20 most commonly held jobs with their counts\n",
    "\n",
    "sorted_job_counts.show(20)"
   ]
  },
  {
   "cell_type": "markdown",
   "metadata": {},
   "source": [
    "To understand the jobs better, you can look at some rows corresponding to each job as you can see by running the cell below. In this example, the table shows that Public Service Trainees were appointed by different departments such as the police and the airport, and their total compensation varied widely.\n",
    "\n",
    "If you change the job title in the cell, remember to copy-paste it *exactly* as it appears in the table above, with no spaces before or after the title. You can of course also change the number of rows to display."
   ]
  },
  {
   "cell_type": "code",
   "execution_count": null,
   "metadata": {},
   "outputs": [],
   "source": [
    "sf.where('Job', are.equal_to('Public Service Trainee')).show(6)"
   ]
  },
  {
   "cell_type": "markdown",
   "metadata": {},
   "source": [
    "## Part 3: Total and Average Compensation by Job Title ##"
   ]
  },
  {
   "cell_type": "markdown",
   "metadata": {},
   "source": [
    "This part of the report is purely computational. The goal is to calculate the figures that you will need for comparing with the Forbes table. In the next part of the report, you will display these figures in a table.\n",
    "\n",
    "To avoid carrying unnecessary data, restrict your analysis to just the job titles and total compensation. \n",
    "- Discuss with your group which `Table` method allows you to create a new table consisting of specified columns of another table: `take`, `select`, or `column`."
   ]
  },
  {
   "cell_type": "markdown",
   "metadata": {},
   "source": [
    "<div class=\"alert alert-info\">\n",
    "    <b> Question: </b>\n",
    "    Assign <tt>jobs_and_total_comp</tt> to a table that contains only the <tt>Job</tt> and <tt>Total Compensation</tt> columns of the table <tt>sf</tt>. It should have one row for each employee."
   ]
  },
  {
   "cell_type": "code",
   "execution_count": null,
   "metadata": {},
   "outputs": [],
   "source": [
    "# Create a table that has only two of the columns of sf:\n",
    "# Jobs and Total Compensation\n",
    "\n",
    "jobs_and_total_comp = sf...(..., ...) \n",
    "jobs_and_total_comp"
   ]
  },
  {
   "cell_type": "markdown",
   "metadata": {},
   "source": [
    "### Table of Grand Total Compensation by Position ###\n",
    "\n",
    "As you have seen, many employees can have the same position (also known as job title). The goal now is to find the grand total compensation of the employees for each of the positions. \n",
    "\n",
    "For example, you have seen that 3,123 employees had the position of Transit Operator. We now want the grand total amount the City paid to all its Transit Operators. That's the sum of the total compensation amounts for all 3,123 Transit Operators.\n",
    "\n",
    "You have to calculate the corresponding amount for each position. \n",
    "\n",
    "- Discuss with your group which of the following two methods is best suited for this, and what the arguments should be: `where` or `group`."
   ]
  },
  {
   "cell_type": "markdown",
   "metadata": {},
   "source": [
    "<div class=\"alert alert-info\">\n",
    "    <b> Question: </b>\n",
    "    Assign <tt>comp_by_jobs</tt> to a table that has one column for the job titles and one for the total compensation of employees in the jobs."
   ]
  },
  {
   "cell_type": "code",
   "execution_count": null,
   "metadata": {},
   "outputs": [],
   "source": [
    "# Display the grand total compensation for each position\n",
    "\n",
    "comp_by_jobs = jobs_and_total_comp...(..., ...)\n",
    "\n",
    "# Don't worry about the next line of code. It just makes Column 1 easier to read.\n",
    "comp_by_jobs.set_format(1, NumberFormatter(decimals=0)) "
   ]
  },
  {
   "cell_type": "markdown",
   "metadata": {},
   "source": [
    "**The table should have one row for each job, and the jobs should be in alphabetical order, just as for `job_counts`.** Check that by running the cell below."
   ]
  },
  {
   "cell_type": "code",
   "execution_count": null,
   "metadata": {},
   "outputs": [],
   "source": [
    "job_counts"
   ]
  },
  {
   "cell_type": "markdown",
   "metadata": {},
   "source": [
    "Each row of `comp_by_jobs` contains the same job as the corresponding row of `job_counts`, and hence also the same employees. So you will be able to create a larger table by simply attaching columns from the two tables side by side, one after another. \n",
    "\n",
    "For this, it will help to store the counts and grand total compensations in arrays. "
   ]
  },
  {
   "cell_type": "markdown",
   "metadata": {},
   "source": [
    "### Arrays of Counts and Grand Total Compensations by Position ###\n",
    "\n",
    "Recall from Part 1 which `Table` method accesses a column as an array. Also note that column numbering starts at 0, following the Python convention."
   ]
  },
  {
   "cell_type": "markdown",
   "metadata": {},
   "source": [
    "<div class=\"alert alert-info\">\n",
    "    <b> Question: </b>\n",
    "    Assign <tt>counts_only</tt> to an array of the values in Column 1 of <tt>job_counts</tt>, and <tt>total_comps_only</tt> to an array of the values in Column 1 of <tt>comp_by_jobs</tt>."
   ]
  },
  {
   "cell_type": "code",
   "execution_count": null,
   "metadata": {},
   "outputs": [],
   "source": [
    "# Construct two data arrays\n",
    "# corresponding to job titles arranged in alphabetical order\n",
    "\n",
    "counts_only = job_counts...(...)\n",
    "total_comps_only = comp_by_jobs...(...)"
   ]
  },
  {
   "cell_type": "markdown",
   "metadata": {},
   "source": [
    "The displays of these arrays are not pretty. That's because the arrays are very long. Run the cell below to see."
   ]
  },
  {
   "cell_type": "code",
   "execution_count": null,
   "metadata": {},
   "outputs": [],
   "source": [
    "counts_only, total_comps_only"
   ]
  },
  {
   "cell_type": "markdown",
   "metadata": {},
   "source": [
    "In the next part of the report you will place the arrays in a table for ease of viewing. For now, just check that they have the right number of elements.\n",
    "\n",
    "Recall that there were 44,525 employees and 1,057 positions. \n",
    "- Discuss with your group how many elements each of the arrays should have: 44,525 or 1,057.\n",
    "- Also discuss which function allows you to find the number of elements in an array."
   ]
  },
  {
   "cell_type": "markdown",
   "metadata": {},
   "source": [
    "<div class=\"alert alert-info\">\n",
    "    <b> Question: </b>\n",
    "    Assign <tt>counts_only_size</tt> to the number of elements in <tt>counts_only</tt>, and <tt>total_comps_only_size</tt> to the number of elements in <tt>total_comps_only</tt>. Check that they agree with what you came up with in your discussion."
   ]
  },
  {
   "cell_type": "code",
   "execution_count": null,
   "metadata": {},
   "outputs": [],
   "source": [
    "# Sizes of the arrays\n",
    "\n",
    "counts_only_size = ...(...)\n",
    "total_comps_only_size = ...(...)\n",
    "\n",
    "counts_only_size, total_comps_only_size"
   ]
  },
  {
   "cell_type": "markdown",
   "metadata": {},
   "source": [
    "### Array of Average Compensations by Position ###\n",
    "Now all you need is the average compensation for each position. Recall:\n",
    "\n",
    "- the method you found in Part 1 for getting an average based on the count and the total\n",
    "- array operations are carried out \"elementwise\", that is, by operating on the first element of each array, then on the second element of each array, and so on "
   ]
  },
  {
   "cell_type": "markdown",
   "metadata": {},
   "source": [
    "<div class=\"alert alert-info\">\n",
    "    <b> Question: </b>\n",
    "    Assign <tt>average_comps_only</tt> to an array of the average compensation for each job."
   ]
  },
  {
   "cell_type": "code",
   "execution_count": null,
   "metadata": {},
   "outputs": [],
   "source": [
    "# Construct the third data array:\n",
    "# Average compensation for each job title, using counts_only and total_comps_only\n",
    "\n",
    "average_comps_only = ...\n",
    "\n",
    "# This code just rounds each array element to the nearest integer. Don't worry about it.\n",
    "average_comps_only = np.round(average_comps_only, 0)"
   ]
  },
  {
   "cell_type": "markdown",
   "metadata": {},
   "source": [
    "<div class=\"alert alert-info\">\n",
    "    <b> Question: </b>\n",
    "    Assign <tt>average_comps_only_size</tt> the number of elements in <tt>average_comps_only</tt>, and confirm that it is what it should be."
   ]
  },
  {
   "cell_type": "code",
   "execution_count": null,
   "metadata": {},
   "outputs": [],
   "source": [
    "# Size of the array\n",
    "\n",
    "average_comps_only_size = ...(...)\n",
    "\n",
    "average_comps_only_size"
   ]
  },
  {
   "cell_type": "markdown",
   "metadata": {},
   "source": [
    "## Part 4: Constructing the Corrected Table ##"
   ]
  },
  {
   "cell_type": "markdown",
   "metadata": {},
   "source": [
    "All your hard work will is about to pay off. You are now ready to correct the article's Top 10 table.\n",
    "\n",
    "Run the cell below to assign `new_table` to a table that just has a column of job titles."
   ]
  },
  {
   "cell_type": "code",
   "execution_count": null,
   "metadata": {},
   "outputs": [],
   "source": [
    "# Construct a table containing just one column\n",
    "# that has all the job titles in alphabetical order.\n",
    "# The column label should be Job Title as in the Forbes table.\n",
    "\n",
    "new_table = job_counts.select('Job').relabeled('Job', 'Job Title')\n",
    "new_table"
   ]
  },
  {
   "cell_type": "markdown",
   "metadata": {},
   "source": [
    "- Discuss with your group which `Table` method allows you to grow `new_table` by attaching more columns. Recall how that method works."
   ]
  },
  {
   "cell_type": "markdown",
   "metadata": {},
   "source": [
    "<div class=\"alert alert-info\">\n",
    "    <b> Question: </b>\n",
    "    Attach three more columns to <tt>new_table</tt>. The columns should have the same labels as in the Forbes table, and the contents should be the three arrays you created in Part 3."
   ]
  },
  {
   "cell_type": "code",
   "execution_count": null,
   "metadata": {},
   "outputs": [],
   "source": [
    "# Attach three more columns\n",
    "\n",
    "new_table = new_table...(\n",
    "    'Average Comp.', ...,\n",
    "    'Total Comp.', ...,\n",
    "    ..., ...\n",
    ")\n",
    "\n",
    "# This code makes numbers in Columns 1-3 easier to read. Don't worry about it.\n",
    "new_table.set_format(make_array(1, 2, 3), NumberFormatter(decimals=0)) "
   ]
  },
  {
   "cell_type": "markdown",
   "metadata": {},
   "source": [
    "You can now use `new_table` to create the accurate table of *Top 10 Positions by Head Count*. The goal here is to create a table that has exactly 10 rows, not just to display the first 10 rows of a bigger table.\n",
    "\n",
    "- Discuss with your group which of the following `Table` methods you will need: `sort`, `where`, `select`, or `take`. You might need more than one of these methods."
   ]
  },
  {
   "cell_type": "markdown",
   "metadata": {},
   "source": [
    "<div class=\"alert alert-info\">\n",
    "    <b> Question: </b>\n",
    "    Assign <tt>sorted_new_table</tt> to <tt>new_table</tt> sorted in decreasing order of head count. Then assign <tt>final_table</tt> to a table consisting of just the first 10 rows of <tt>sorted_new_table.</tt>"
   ]
  },
  {
   "cell_type": "code",
   "execution_count": null,
   "metadata": {},
   "outputs": [],
   "source": [
    "# The correct \"Top 10 Positions by Head Count\" table\n",
    "\n",
    "sorted_new_table = new_table...(..., ...)\n",
    "final_table = sorted_new_table...(...)\n",
    "final_table"
   ]
  },
  {
   "cell_type": "markdown",
   "metadata": {},
   "source": [
    "This is how the *Top 10 Positions by Head Count* table should have appeared. It is your contribution to accuracy in reporting!"
   ]
  },
  {
   "cell_type": "markdown",
   "metadata": {},
   "source": [
    "## Part 5: Conclusion and Final Recommendations ##"
   ]
  },
  {
   "cell_type": "markdown",
   "metadata": {},
   "source": [
    "The Forbes article's title and contents indicate that its desired focus is on \"highly compensated\" employees. You now have more clear evidence to explain the choices made in its \"Top 10 Positions by Head Count\" table.\n",
    "\n",
    "Run the cell below to display the top 20 rows of <tt>sorted_new_table</tt>."
   ]
  },
  {
   "cell_type": "code",
   "execution_count": null,
   "metadata": {},
   "outputs": [],
   "source": [
    "sorted_new_table.show(20)"
   ]
  },
  {
   "cell_type": "markdown",
   "metadata": {},
   "source": [
    "The `Average Comp.` column provides insight into which jobs were included and which were excluded in the article's \"top 10\" list."
   ]
  },
  {
   "cell_type": "markdown",
   "metadata": {},
   "source": [
    "<div class=\"alert alert-info\">\n",
    "    <b> Question: </b>\n",
    "    What are some numerical reasons for why jobs were included or excluded in the Forbes table?"
   ]
  },
  {
   "cell_type": "markdown",
   "metadata": {},
   "source": [
    "YOUR ANSWER HERE:"
   ]
  },
  {
   "cell_type": "markdown",
   "metadata": {},
   "source": [
    "The article is its author's attempt to communicate the results of their data analysis to a wide audience. When human beings communicate, what they say is influenced by many different factors, not just the subject matter involved. Because of this, the Society of Professional Journalists has a formal [Code of Ethics](https://www.spj.org/ethicscode.asp).\n",
    "\n",
    "The author of the Forbes article is listed as a Senior Contributor (next to the author's name, right below the headline). Here is [Wikipedia's description](https://en.wikipedia.org/wiki/Forbes) of the \"contributor model\" of forbes.com:\n",
    "\n",
    "\"Forbes.com uses a \"contributor model\" in which a wide network of \"contributors\" writes and publishes articles directly on the website ... Contributors are paid based on traffic to their respective Forbes.com pages ...\""
   ]
  },
  {
   "cell_type": "markdown",
   "metadata": {},
   "source": [
    "<div class=\"alert alert-info\">\n",
    "    <b> Question: </b>\n",
    "    What are some factors <i>apart from the data</i> that might have motivated the choices made in the article?"
   ]
  },
  {
   "cell_type": "markdown",
   "metadata": {},
   "source": [
    "YOUR ANSWER HERE:"
   ]
  },
  {
   "cell_type": "markdown",
   "metadata": {},
   "source": [
    "In recent years there has been an explosion of online reporting by authors of all backgrounds. So the lessons learned from your careful analysis of the Forbes article have much wider applicability."
   ]
  },
  {
   "cell_type": "markdown",
   "metadata": {},
   "source": [
    "<div class=\"alert alert-info\">\n",
    "    <b> Question: </b>\n",
    "    What recommendations do you have for readers of data-intensive online reports?"
   ]
  },
  {
   "cell_type": "markdown",
   "metadata": {},
   "source": [
    "YOUR ANSWER HERE:"
   ]
  },
  {
   "cell_type": "markdown",
   "metadata": {},
   "source": [
    "### Congratulations! ###\n",
    "\n",
    "You have completed your report. \n",
    "\n",
    "Keep in mind that [data journalism](https://en.wikipedia.org/wiki/Data_journalism) is a relatively new profession, about 10 years old. After your work on this report, you are already on your way to becoming a great data journalist!"
   ]
  },
  {
   "cell_type": "code",
   "execution_count": null,
   "metadata": {},
   "outputs": [],
   "source": []
  }
 ],
 "metadata": {
  "kernelspec": {
   "display_name": "Python 3",
   "language": "python",
   "name": "python3"
  },
  "language_info": {
   "codemirror_mode": {
    "name": "ipython",
    "version": 3
   },
   "file_extension": ".py",
   "mimetype": "text/x-python",
   "name": "python",
   "nbconvert_exporter": "python",
   "pygments_lexer": "ipython3",
   "version": "3.7.4"
  }
 },
 "nbformat": 4,
 "nbformat_minor": 4
}
