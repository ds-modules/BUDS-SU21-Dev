{
 "cells": [
  {
   "cell_type": "code",
   "execution_count": 1,
   "metadata": {},
   "outputs": [],
   "source": [
    "import warnings\n",
    "warnings.filterwarnings('ignore')\n",
    "\n",
    "from datascience import *\n",
    "import numpy as np\n",
    "\n",
    "import matplotlib.pyplot as plt\n",
    "%matplotlib inline"
   ]
  },
  {
   "cell_type": "markdown",
   "metadata": {},
   "source": [
    "# Accuracy in Online Articles #\n",
    "\n",
    "***A. Adhikari***\n",
    "\n",
    "### BUDS 2021 Week 3 Wednesday Report ###\n",
    "\n",
    "\n",
    "**Remember to run the top cell of this notebook before reading further.**"
   ]
  },
  {
   "cell_type": "markdown",
   "metadata": {},
   "source": [
    "[Forbes](https://en.wikipedia.org/wiki/Forbes) is an American business magazine that has a significant international presence and editions in over 25 languages. It has a particular interest in very rich people. For example, its annual list of the world's [billionaires](https://en.wikipedia.org/wiki/The_World%27s_Billionaires#2021) is publicized by news organizations all over the world.\n",
    "\n",
    "Forbes has a digital presence as well, with forbes.com being one of the world's most widely visited business websites.\n",
    "\n",
    "However, few people in the world are billionaires, and a pro-business perspective sometimes goes hand in hand with limiting payments to employees. \n",
    "\n",
    "Governments are not businesses, but they too have employees and must manage funds. In September 2020, forbes.com published an article by [Adam Andrzejewski](https://en.wikipedia.org/wiki/Adam_Andrzejewski), businessman and former Republican candidate for Governor of Illinois. The article was entitled *Why San Francisco is in Trouble: 19,000 Highly Compensated Employees Earned $150,000+ in Pay & Perks*. It was about the compensation paid to San Francisco city and county government employees in 2019.\n",
    "\n",
    "**In this report, you will assess the contents of the article and provide recommendations for how to thoughtfully read data-intensive online publications.**\n",
    "\n",
    "We will provide all the portions of the article needed for this report. If you want to read the full article, be aware that payments to the author are based on traffic to the article's [webpage](https://www.forbes.com/sites/adamandrzejewski/2020/09/01/why-san-francisco-is-in-trouble--19000-highly-compensated-city-employees-earned-150000-in-pay--perks/?sh=13393e437693). We will return to this aspect later in the report."
   ]
  },
  {
   "cell_type": "markdown",
   "metadata": {},
   "source": [
    "### The Data Source ###\n",
    "\n",
    "The author of the Forbes article is also the founder of [OpentheBooks](https://en.wikipedia.org/wiki/OpenTheBooks), a non-profit organization that aims to collect and post all the disclosed spending of governments of all levels in the US.\n",
    "\n",
    "The data source cited in the article is [publicly provided](https://data.sfgov.org/City-Management-and-Ethics/Employee-Compensation/88g8-5mnd/data) by the City of San Francisco. We have filtered it to retain just the relevant columns and restrict the data to the calendar year 2019 as that was the year studied in the article.\n",
    "\n",
    "Run the cell below to load the data table <tt>sf</tt> and view its first three rows."
   ]
  },
  {
   "cell_type": "code",
   "execution_count": 2,
   "metadata": {},
   "outputs": [
    {
     "data": {
      "text/html": [
       "<table border=\"1\" class=\"dataframe\">\n",
       "    <thead>\n",
       "        <tr>\n",
       "            <th>Organization Group</th> <th>Department</th> <th>Job Family</th> <th>Job</th> <th>Salary</th> <th>Overtime</th> <th>Benefits</th> <th>Total Compensation</th>\n",
       "        </tr>\n",
       "    </thead>\n",
       "    <tbody>\n",
       "        <tr>\n",
       "            <td>Public Protection </td> <td>Adult Probation</td> <td>Information Systems</td> <td>IS Trainer-Journey        </td> <td>91332 </td> <td>0       </td> <td>40059   </td> <td>131391            </td>\n",
       "        </tr>\n",
       "        <tr>\n",
       "            <td>Public Protection </td> <td>Adult Probation</td> <td>Information Systems</td> <td>IS Engineer-Assistant     </td> <td>123241</td> <td>0       </td> <td>49279   </td> <td>172520            </td>\n",
       "        </tr>\n",
       "        <tr>\n",
       "            <td>Public Protection </td> <td>Adult Probation</td> <td>Information Systems</td> <td>IS Business Analyst-Senior</td> <td>115715</td> <td>0       </td> <td>46752   </td> <td>162468            </td>\n",
       "        </tr>\n",
       "    </tbody>\n",
       "</table>\n",
       "<p>... (44522 rows omitted)</p>"
      ],
      "text/plain": [
       "<IPython.core.display.HTML object>"
      ]
     },
     "metadata": {},
     "output_type": "display_data"
    }
   ],
   "source": [
    "sf = Table.read_table('sf2019.csv')\n",
    "sf.show(3)"
   ]
  },
  {
   "cell_type": "markdown",
   "metadata": {},
   "source": [
    "The table has one row for each of the 44,525 San Francisco government employees in 2019.\n",
    "\n",
    "The first four columns describe the employee's job. For example, the employee in the third row of the table had a job called IS Business Analyst-Senior. We will also call this the employee's *position* or *job title*. The job was in a Job Family called Information Systems (hence the IS in the job title), and was in the Adult Probation department that is part of the Public Protection Organization Group of the government. You will mostly be working with the job title.\n",
    "\n",
    "The next three columns contain the dollar amounts paid to the employee in the calendar year 2019, for salary, overtime, and benefits. Here salary does not include overtime.\n",
    "\n",
    "The last column contains the total compensation paid to the employee. It is the sum of the previous three columns:\n",
    "\n",
    "total compensation = salary + overtime + benefits\n",
    "\n",
    "You will mostly be working with the total compensation."
   ]
  },
  {
   "cell_type": "markdown",
   "metadata": {},
   "source": [
    "## Part 1: The Problem and Initial Recommendations ##"
   ]
  },
  {
   "cell_type": "markdown",
   "metadata": {},
   "source": [
    "Since you have the data just as the author did, you can do some of the calculations yourself."
   ]
  },
  {
   "cell_type": "markdown",
   "metadata": {},
   "source": [
    "### The Title ###\n",
    "Start with the data in the title of the article: \n",
    "\n",
    "*19,000 Highly Compensated Employees Earned $150,000+ in Pay & Perks*\n",
    "\n",
    "It makes sense to interpret Pay & Perks to mean total compensation.\n",
    "\n",
    "In the cell below, we have assigned the name <tt>at_least_150K</tt> to a table that contains only the <tt>sf</tt> rows corresponding to employees whose total compensation was $150,000 or more. The use of K to represent \"thousand\" is common in computer science, and comes from \"kilo\" as in \"kilogram\".\n",
    "\n",
    "- First, discuss with your group why we decided to use\n",
    "`where` and not some other method such as `take` or `select`.\n",
    "\n",
    "Next, run the cell."
   ]
  },
  {
   "cell_type": "code",
   "execution_count": 3,
   "metadata": {},
   "outputs": [
    {
     "data": {
      "text/html": [
       "<table border=\"1\" class=\"dataframe\">\n",
       "    <thead>\n",
       "        <tr>\n",
       "            <th>Organization Group</th> <th>Department</th> <th>Job Family</th> <th>Job</th> <th>Salary</th> <th>Overtime</th> <th>Benefits</th> <th>Total Compensation</th>\n",
       "        </tr>\n",
       "    </thead>\n",
       "    <tbody>\n",
       "        <tr>\n",
       "            <td>Public Protection </td> <td>Adult Probation</td> <td>Information Systems</td> <td>IS Engineer-Assistant        </td> <td>123241</td> <td>0       </td> <td>49279   </td> <td>172520            </td>\n",
       "        </tr>\n",
       "        <tr>\n",
       "            <td>Public Protection </td> <td>Adult Probation</td> <td>Information Systems</td> <td>IS Business Analyst-Senior   </td> <td>115715</td> <td>0       </td> <td>46752   </td> <td>162468            </td>\n",
       "        </tr>\n",
       "        <tr>\n",
       "            <td>Public Protection </td> <td>Adult Probation</td> <td>Information Systems</td> <td>IS Business Analyst-Principal</td> <td>159394</td> <td>0       </td> <td>57312   </td> <td>216706            </td>\n",
       "        </tr>\n",
       "    </tbody>\n",
       "</table>\n",
       "<p>... (15318 rows omitted)</p>"
      ],
      "text/plain": [
       "<IPython.core.display.HTML object>"
      ]
     },
     "metadata": {},
     "output_type": "display_data"
    }
   ],
   "source": [
    "# Table of only those with total compensation $150,000 or more\n",
    "\n",
    "at_least_150K = sf.where('Total Compensation', are.above_or_equal_to(150000))\n",
    "at_least_150K.show(3)"
   ]
  },
  {
   "cell_type": "markdown",
   "metadata": {},
   "source": [
    "<div class=\"alert alert-info\">\n",
    "    <b> Question: </b>\n",
    "    How many employees had a total compensation of $150,000+? Is the number the same as in the title of the article? If not, which number is larger: yours, or the one in the title?"
   ]
  },
  {
   "cell_type": "markdown",
   "metadata": {},
   "source": [
    "<div class=\"alert alert-warning\">\n",
    "    <b> Answer: </b>\n",
    "    Add the 3 visible rows to the 15,318 omitted rows to see that 15,321 employees had compensations of at least 150K. The article claims a bigger count of 19,000 employees.   "
   ]
  },
  {
   "cell_type": "markdown",
   "metadata": {},
   "source": [
    "Since the Forbes article cites the same open dataset that we are using, a reason for the discrepancy could be that the City updated the dataset between the time when the article was written and when we accessed it. Or it could be that the article used additional data that is not cited. \n",
    "\n",
    "Based on the figures in the rest of the article, the difference appears to be in the benefits, which are a little smaller in our dataset than in the article. We will continue to use our dataset because it is the one currently provided by the City. So you should expect the total compensation amounts in your calculations to be smaller than the corresponding values in the article.\n",
    "\n",
    "A **more important factor** to keep in mind is that \"highly compensated\" does not have a unique definition. San Francisco is an expensive city. In fact, it is so expensive that the Housing and Urban Development (HUD) [limit for \"low income\"](https://www.huduser.gov/portal/datasets/il/il2019/select_Geography.odn) in San Francisco, Marin, and San Mateo counties in 2019 was an annual income of $129,150 or less for a family of four people."
   ]
  },
  {
   "cell_type": "markdown",
   "metadata": {},
   "source": [
    "### An Eye-Popping Table###\n",
    "\n",
    "The article contains a brightly colored table, shown here. We will refer to it as the \"Forbes table\" for short. "
   ]
  },
  {
   "cell_type": "markdown",
   "metadata": {},
   "source": [
    "![Table in Forbes article](forbes_table.png)"
   ]
  },
  {
   "cell_type": "markdown",
   "metadata": {},
   "source": [
    "It is striking that according to this table, Registered Nurses apparently earned almost $300,000 on average in 2019. That seems like a very large amount. It is worth checking if the calculation makes sense.\n",
    "\n",
    "First, count the number of nurses. \n",
    "\n",
    "- Review how we calculated the number of employees who made $150,000 or more, and discuss with your group how to adapt that method to count the number of nurses. \n",
    "- Also discuss how to calculate the number of rows in a table without displaying the first few rows of the table."
   ]
  },
  {
   "cell_type": "markdown",
   "metadata": {},
   "source": [
    "<div class=\"alert alert-info\">\n",
    "    <b> Question: </b>\n",
    "    Assign <tt>rn</tt> to a table of just the <tt>sf</tt> rows corresponding to Registered Nurses, and then assign <tt>rn_count</tt> to the number of Registered Nurses."
   ]
  },
  {
   "cell_type": "code",
   "execution_count": 4,
   "metadata": {},
   "outputs": [
    {
     "data": {
      "text/plain": [
       "1471"
      ]
     },
     "execution_count": 4,
     "metadata": {},
     "output_type": "execute_result"
    }
   ],
   "source": [
    "# Number of Registered Nurses\n",
    "\n",
    "# Table of all the data for only the Registered Nurses\n",
    "rn = sf.where('Job', are.equal_to('Registered Nurse'))\n",
    "\n",
    "rn_count = rn.num_rows\n",
    "rn_count"
   ]
  },
  {
   "cell_type": "markdown",
   "metadata": {},
   "source": [
    "This count should be the same as in Forbes table.\n",
    "\n",
    "The Forbes table provides the following two numbers: the number of Registered Nurses, and the grand total of the compensation paid to all of them\n",
    "\n",
    "- Discuss with your group how you can calculate the average compensation of the Registered Nurses using just these two numbers. "
   ]
  },
  {
   "cell_type": "markdown",
   "metadata": {},
   "source": [
    "<div class=\"alert alert-info\">\n",
    "    <b> Question: </b> \n",
    "Assign <tt>average_comp</tt> to the average compensation of the Registered Nurses, using the method your group came up with."
   ]
  },
  {
   "cell_type": "code",
   "execution_count": 5,
   "metadata": {},
   "outputs": [
    {
     "data": {
      "text/plain": [
       "202934.05030591434"
      ]
     },
     "execution_count": 5,
     "metadata": {},
     "output_type": "execute_result"
    }
   ],
   "source": [
    "# Internal consistency check of the Forbes table\n",
    "\n",
    "rn_count_forbes = 1471           # number of Registered Nurses\n",
    "rn_total_forbes = 298515988      # grand total compensation of all Registered Nurses\n",
    "\n",
    "# Average compensation based on rn_count_forbes and rn_total_forbes\n",
    "average_comp = rn_total_forbes / rn_count_forbes\n",
    "average_comp"
   ]
  },
  {
   "cell_type": "markdown",
   "metadata": {},
   "source": [
    "<div class=\"alert alert-info\">\n",
    "    <b> Question: </b> \n",
    "    Is <tt>average_comp</tt> equal to the corresponding average in the Forbes table? If not, which one is bigger? What is a possible reason for the discrepancy? "
   ]
  },
  {
   "cell_type": "markdown",
   "metadata": {},
   "source": [
    "<div class=\"alert alert-warning\">\n",
    "    <b> Answer: </b>\n",
    "    They are not the same. A 0 has become 9, leading to a falsely large average in the Forbes table. If the graphic was created by typing the figures instead of copy-pasting, then the error could have been caused by mistyping or misreading. "
   ]
  },
  {
   "cell_type": "markdown",
   "metadata": {},
   "source": [
    "It looks as though there is a problem. Your figures don't agree with those in the article, and the discrepancies seem to have a consistent direction.\n",
    "\n",
    "At this point it's a good idea to think about how to approach the rest of the article."
   ]
  },
  {
   "cell_type": "markdown",
   "metadata": {},
   "source": [
    "<div class=\"alert alert-info\">\n",
    "    <b> Question: </b> \n",
    "    Based on your analysis so far, what are your initial recommendations to someone who is planning to read the Forbes article? "
   ]
  },
  {
   "cell_type": "markdown",
   "metadata": {},
   "source": [
    "<div class=\"alert alert-warning\">\n",
    "    <b> Answer: </b>\n",
    "    Be cautious about interpreting the figures. Some of them are wrong, and the errors seem to make the claimed compensations higher than is justified by the source data. However, we have only checked a couple of values. The others might be fine. We will check some more, so maybe read the rest of our report before reading the article!"
   ]
  },
  {
   "cell_type": "markdown",
   "metadata": {},
   "source": [
    "## Part 2: Top 10 Positions by Head Count ##"
   ]
  },
  {
   "cell_type": "markdown",
   "metadata": {},
   "source": [
    "Now check some of the other figures in the Forbes table. \n",
    "\n",
    "Start by counting the number of employees in each position. \n",
    "- Discuss with your group which of the following methods is best suited for this purpose: `take`, `where`, or `group`."
   ]
  },
  {
   "cell_type": "markdown",
   "metadata": {},
   "source": [
    "<div class=\"alert alert-info\">\n",
    "    <b> Question: </b> \n",
    "    Assign <tt>job_counts</tt> to a table that has a row for each position, with one column showing the job title and the other showing the number of employees who had that job."
   ]
  },
  {
   "cell_type": "code",
   "execution_count": 6,
   "metadata": {},
   "outputs": [
    {
     "data": {
      "text/html": [
       "<table border=\"1\" class=\"dataframe\">\n",
       "    <thead>\n",
       "        <tr>\n",
       "            <th>Job</th> <th>count</th>\n",
       "        </tr>\n",
       "    </thead>\n",
       "    <tbody>\n",
       "        <tr>\n",
       "            <td>ACPO,JuvP, Juv Prob (SFERS) </td> <td>1    </td>\n",
       "        </tr>\n",
       "        <tr>\n",
       "            <td>ASR Operations Supervisor   </td> <td>4    </td>\n",
       "        </tr>\n",
       "        <tr>\n",
       "            <td>ASR Senior Office Specialist</td> <td>18   </td>\n",
       "        </tr>\n",
       "        <tr>\n",
       "            <td>ASR-Office Assistant        </td> <td>25   </td>\n",
       "        </tr>\n",
       "        <tr>\n",
       "            <td>Account Clerk               </td> <td>58   </td>\n",
       "        </tr>\n",
       "        <tr>\n",
       "            <td>Accountant I                </td> <td>2    </td>\n",
       "        </tr>\n",
       "        <tr>\n",
       "            <td>Accountant II               </td> <td>61   </td>\n",
       "        </tr>\n",
       "        <tr>\n",
       "            <td>Accountant III              </td> <td>130  </td>\n",
       "        </tr>\n",
       "        <tr>\n",
       "            <td>Accountant IV               </td> <td>68   </td>\n",
       "        </tr>\n",
       "        <tr>\n",
       "            <td>Accountant Intern           </td> <td>32   </td>\n",
       "        </tr>\n",
       "    </tbody>\n",
       "</table>\n",
       "<p>... (1047 rows omitted)</p>"
      ],
      "text/plain": [
       "Job                          | count\n",
       "ACPO,JuvP, Juv Prob (SFERS)  | 1\n",
       "ASR Operations Supervisor    | 4\n",
       "ASR Senior Office Specialist | 18\n",
       "ASR-Office Assistant         | 25\n",
       "Account Clerk                | 58\n",
       "Accountant I                 | 2\n",
       "Accountant II                | 61\n",
       "Accountant III               | 130\n",
       "Accountant IV                | 68\n",
       "Accountant Intern            | 32\n",
       "... (1047 rows omitted)"
      ]
     },
     "execution_count": 6,
     "metadata": {},
     "output_type": "execute_result"
    }
   ],
   "source": [
    "# Count the number of employees in each job title\n",
    "\n",
    "job_counts = sf.group('Job')\n",
    "job_counts"
   ]
  },
  {
   "cell_type": "markdown",
   "metadata": {},
   "source": [
    "**Notice that there are 1057 positions, and they appear in alphabetical order.** This will be important later."
   ]
  },
  {
   "cell_type": "markdown",
   "metadata": {},
   "source": [
    "<div class=\"alert alert-info\">\n",
    "    <b> Question: </b>\n",
    "    Assign <tt>sorted_job_counts</tt> to a table that has the rows of <tt>job_counts</tt> in decreasing order of the counts."
   ]
  },
  {
   "cell_type": "code",
   "execution_count": 7,
   "metadata": {},
   "outputs": [
    {
     "data": {
      "text/html": [
       "<table border=\"1\" class=\"dataframe\">\n",
       "    <thead>\n",
       "        <tr>\n",
       "            <th>Job</th> <th>count</th>\n",
       "        </tr>\n",
       "    </thead>\n",
       "    <tbody>\n",
       "        <tr>\n",
       "            <td>Transit Operator         </td> <td>3123 </td>\n",
       "        </tr>\n",
       "        <tr>\n",
       "            <td>Special Nurse            </td> <td>1669 </td>\n",
       "        </tr>\n",
       "        <tr>\n",
       "            <td>Registered Nurse         </td> <td>1471 </td>\n",
       "        </tr>\n",
       "        <tr>\n",
       "            <td>Custodian                </td> <td>917  </td>\n",
       "        </tr>\n",
       "        <tr>\n",
       "            <td>Firefighter              </td> <td>902  </td>\n",
       "        </tr>\n",
       "        <tr>\n",
       "            <td>Public Service Trainee   </td> <td>842  </td>\n",
       "        </tr>\n",
       "        <tr>\n",
       "            <td>Police Officer 3         </td> <td>821  </td>\n",
       "        </tr>\n",
       "        <tr>\n",
       "            <td>Recreation Leader        </td> <td>750  </td>\n",
       "        </tr>\n",
       "        <tr>\n",
       "            <td>Patient Care Assistant   </td> <td>600  </td>\n",
       "        </tr>\n",
       "        <tr>\n",
       "            <td>HSA Sr Eligibility Worker</td> <td>578  </td>\n",
       "        </tr>\n",
       "    </tbody>\n",
       "</table>\n",
       "<p>... (1047 rows omitted)</p>"
      ],
      "text/plain": [
       "Job                       | count\n",
       "Transit Operator          | 3123\n",
       "Special Nurse             | 1669\n",
       "Registered Nurse          | 1471\n",
       "Custodian                 | 917\n",
       "Firefighter               | 902\n",
       "Public Service Trainee    | 842\n",
       "Police Officer 3          | 821\n",
       "Recreation Leader         | 750\n",
       "Patient Care Assistant    | 600\n",
       "HSA Sr Eligibility Worker | 578\n",
       "... (1047 rows omitted)"
      ]
     },
     "execution_count": 7,
     "metadata": {},
     "output_type": "execute_result"
    }
   ],
   "source": [
    "# The most commonly held jobs, with their counts\n",
    "\n",
    "sorted_job_counts = job_counts.sort('count', descending=True)\n",
    "sorted_job_counts"
   ]
  },
  {
   "cell_type": "markdown",
   "metadata": {},
   "source": [
    "The display conveniently shows the top 10 jobs by head count (that is, by the number of employees who had the job). \n",
    "\n",
    "The list is not the same as the one in the Forbes table, reproduced here for convenience."
   ]
  },
  {
   "cell_type": "markdown",
   "metadata": {},
   "source": [
    "![Forbes table](forbes_table.png)"
   ]
  },
  {
   "cell_type": "markdown",
   "metadata": {},
   "source": [
    "<div class=\"alert alert-info\">\n",
    "    <b> Questions: </b>\n",
    "    <br> (a) What do the two lists have in common? \n",
    "    <br> (b) Which jobs are on the Forbes list but not on yours? \n",
    "    <br> (c) Which jobs are on your list but not on the Forbes list?"
   ]
  },
  {
   "cell_type": "markdown",
   "metadata": {},
   "source": [
    "<div class=\"alert alert-warning\">\n",
    "    <b> Answers: </b>\n",
    "    \n",
    "(a) For every job that's on both lists, the counts are the same. Half the jobs are on both lists: Transit Operator, Registered Nurse, Custodian, Firefighter, and Police Officer 3.\n",
    "    \n",
    "(b) Sergeant 3, Deputy Sheriff, Police Officer 2, Attorney (Civil/Criminal), EMT/Paramedic/Firefighter\n",
    "    \n",
    "(c) Special Nurse, Public Service Trainee, Recreation Leader, Patient Care Assistant, HSA Sr Eligibility Worker"
   ]
  },
  {
   "cell_type": "markdown",
   "metadata": {},
   "source": [
    "Run the cell below to see the top 20 jobs by head count. \n",
    "- Discuss with your group some possible reasons why the Forbes article chose to use some jobs as its so-called \"top 10\" but not others. \n",
    "\n",
    "Later in the report you will have more evidence to come up with reasons."
   ]
  },
  {
   "cell_type": "code",
   "execution_count": 8,
   "metadata": {},
   "outputs": [
    {
     "data": {
      "text/html": [
       "<table border=\"1\" class=\"dataframe\">\n",
       "    <thead>\n",
       "        <tr>\n",
       "            <th>Job</th> <th>count</th>\n",
       "        </tr>\n",
       "    </thead>\n",
       "    <tbody>\n",
       "        <tr>\n",
       "            <td>Transit Operator            </td> <td>3123 </td>\n",
       "        </tr>\n",
       "        <tr>\n",
       "            <td>Special Nurse               </td> <td>1669 </td>\n",
       "        </tr>\n",
       "        <tr>\n",
       "            <td>Registered Nurse            </td> <td>1471 </td>\n",
       "        </tr>\n",
       "        <tr>\n",
       "            <td>Custodian                   </td> <td>917  </td>\n",
       "        </tr>\n",
       "        <tr>\n",
       "            <td>Firefighter                 </td> <td>902  </td>\n",
       "        </tr>\n",
       "        <tr>\n",
       "            <td>Public Service Trainee      </td> <td>842  </td>\n",
       "        </tr>\n",
       "        <tr>\n",
       "            <td>Police Officer 3            </td> <td>821  </td>\n",
       "        </tr>\n",
       "        <tr>\n",
       "            <td>Recreation Leader           </td> <td>750  </td>\n",
       "        </tr>\n",
       "        <tr>\n",
       "            <td>Patient Care Assistant      </td> <td>600  </td>\n",
       "        </tr>\n",
       "        <tr>\n",
       "            <td>HSA Sr Eligibility Worker   </td> <td>578  </td>\n",
       "        </tr>\n",
       "        <tr>\n",
       "            <td>Sergeant 3                  </td> <td>500  </td>\n",
       "        </tr>\n",
       "        <tr>\n",
       "            <td>Police Officer              </td> <td>490  </td>\n",
       "        </tr>\n",
       "        <tr>\n",
       "            <td>Deputy Sheriff              </td> <td>469  </td>\n",
       "        </tr>\n",
       "        <tr>\n",
       "            <td>Police Officer 2            </td> <td>452  </td>\n",
       "        </tr>\n",
       "        <tr>\n",
       "            <td>Attorney (Civil/Criminal)   </td> <td>430  </td>\n",
       "        </tr>\n",
       "        <tr>\n",
       "            <td>Public Svc Aide-Public Works</td> <td>425  </td>\n",
       "        </tr>\n",
       "        <tr>\n",
       "            <td>EMT/Paramedic/Firefighter   </td> <td>419  </td>\n",
       "        </tr>\n",
       "        <tr>\n",
       "            <td>General Laborer             </td> <td>409  </td>\n",
       "        </tr>\n",
       "        <tr>\n",
       "            <td>Porter                      </td> <td>406  </td>\n",
       "        </tr>\n",
       "        <tr>\n",
       "            <td>Clerk                       </td> <td>391  </td>\n",
       "        </tr>\n",
       "    </tbody>\n",
       "</table>\n",
       "<p>... (1037 rows omitted)</p>"
      ],
      "text/plain": [
       "<IPython.core.display.HTML object>"
      ]
     },
     "metadata": {},
     "output_type": "display_data"
    }
   ],
   "source": [
    "# The top 20 most commonly held jobs with their counts\n",
    "\n",
    "sorted_job_counts.show(20)"
   ]
  },
  {
   "cell_type": "markdown",
   "metadata": {},
   "source": [
    "To understand the jobs better, you can look at some rows corresponding to each job as you can see by running the cell below. In this example, the table shows that Public Service Trainees were appointed by different departments such as the police and the airport, and their total compensation varied widely.\n",
    "\n",
    "If you change the job title in the cell, remember to copy-paste it *exactly* as it appears in the table above, with no spaces before or after the title. You can of course also change the number of rows to display."
   ]
  },
  {
   "cell_type": "code",
   "execution_count": 9,
   "metadata": {},
   "outputs": [
    {
     "data": {
      "text/html": [
       "<table border=\"1\" class=\"dataframe\">\n",
       "    <thead>\n",
       "        <tr>\n",
       "            <th>Organization Group</th> <th>Department</th> <th>Job Family</th> <th>Job</th> <th>Salary</th> <th>Overtime</th> <th>Benefits</th> <th>Total Compensation</th>\n",
       "        </tr>\n",
       "    </thead>\n",
       "    <tbody>\n",
       "        <tr>\n",
       "            <td>Public Protection                      </td> <td>Police            </td> <td>Public Service Aide</td> <td>Public Service Trainee</td> <td>12029 </td> <td>0       </td> <td>990     </td> <td>13019             </td>\n",
       "        </tr>\n",
       "        <tr>\n",
       "            <td>Public Protection                      </td> <td>Police            </td> <td>Public Service Aide</td> <td>Public Service Trainee</td> <td>36008 </td> <td>0       </td> <td>10155   </td> <td>46163             </td>\n",
       "        </tr>\n",
       "        <tr>\n",
       "            <td>Public Protection                      </td> <td>Police            </td> <td>Public Service Aide</td> <td>Public Service Trainee</td> <td>14378 </td> <td>0       </td> <td>4060    </td> <td>18438             </td>\n",
       "        </tr>\n",
       "        <tr>\n",
       "            <td>Public Protection                      </td> <td>Police            </td> <td>Public Service Aide</td> <td>Public Service Trainee</td> <td>14913 </td> <td>0       </td> <td>1210    </td> <td>16123             </td>\n",
       "        </tr>\n",
       "        <tr>\n",
       "            <td>Public Protection                      </td> <td>Police            </td> <td>Public Service Aide</td> <td>Public Service Trainee</td> <td>15540 </td> <td>0       </td> <td>4383    </td> <td>19923             </td>\n",
       "        </tr>\n",
       "        <tr>\n",
       "            <td>Public Works, Transportation & Commerce</td> <td>Airport Commission</td> <td>Public Service Aide</td> <td>Public Service Trainee</td> <td>0     </td> <td>386     </td> <td>31      </td> <td>417               </td>\n",
       "        </tr>\n",
       "    </tbody>\n",
       "</table>\n",
       "<p>... (836 rows omitted)</p>"
      ],
      "text/plain": [
       "<IPython.core.display.HTML object>"
      ]
     },
     "metadata": {},
     "output_type": "display_data"
    }
   ],
   "source": [
    "sf.where('Job', are.equal_to('Public Service Trainee')).show(6)"
   ]
  },
  {
   "cell_type": "markdown",
   "metadata": {},
   "source": [
    "## Part 3: Total and Average Compensation by Job Title ##"
   ]
  },
  {
   "cell_type": "markdown",
   "metadata": {},
   "source": [
    "This part of the report is purely computational. The goal is to calculate the figures that you will need for comparing with the Forbes table. In the next part of the report, you will display these figures in a table.\n",
    "\n",
    "To avoid carrying unnecessary data, restrict your analysis to just the job titles and total compensation. \n",
    "- Discuss with your group which `Table` method allows you to create a new table consisting of specified columns of another table: `take`, `select`, or `column`."
   ]
  },
  {
   "cell_type": "markdown",
   "metadata": {},
   "source": [
    "<div class=\"alert alert-info\">\n",
    "    <b> Question: </b>\n",
    "    Assign <tt>jobs_and_total_comp</tt> to a table that contains only the <tt>Job</tt> and <tt>Total Compensation</tt> columns of the table <tt>sf</tt>. It should have one row for each employee."
   ]
  },
  {
   "cell_type": "code",
   "execution_count": 10,
   "metadata": {},
   "outputs": [
    {
     "data": {
      "text/html": [
       "<table border=\"1\" class=\"dataframe\">\n",
       "    <thead>\n",
       "        <tr>\n",
       "            <th>Job</th> <th>Total Compensation</th>\n",
       "        </tr>\n",
       "    </thead>\n",
       "    <tbody>\n",
       "        <tr>\n",
       "            <td>IS Trainer-Journey            </td> <td>131391            </td>\n",
       "        </tr>\n",
       "        <tr>\n",
       "            <td>IS Engineer-Assistant         </td> <td>172520            </td>\n",
       "        </tr>\n",
       "        <tr>\n",
       "            <td>IS Business Analyst-Senior    </td> <td>162468            </td>\n",
       "        </tr>\n",
       "        <tr>\n",
       "            <td>IS Business Analyst-Principal </td> <td>216706            </td>\n",
       "        </tr>\n",
       "        <tr>\n",
       "            <td>IS Programmer Analyst         </td> <td>98706             </td>\n",
       "        </tr>\n",
       "        <tr>\n",
       "            <td>IS Project Director           </td> <td>236572            </td>\n",
       "        </tr>\n",
       "        <tr>\n",
       "            <td>IT Operations Support Admin IV</td> <td>173269            </td>\n",
       "        </tr>\n",
       "        <tr>\n",
       "            <td>Accountant III                </td> <td>158135            </td>\n",
       "        </tr>\n",
       "        <tr>\n",
       "            <td>Statistician                  </td> <td>126624            </td>\n",
       "        </tr>\n",
       "        <tr>\n",
       "            <td>Senior Administrative Analyst </td> <td>163843            </td>\n",
       "        </tr>\n",
       "    </tbody>\n",
       "</table>\n",
       "<p>... (44515 rows omitted)</p>"
      ],
      "text/plain": [
       "Job                            | Total Compensation\n",
       "IS Trainer-Journey             | 131391\n",
       "IS Engineer-Assistant          | 172520\n",
       "IS Business Analyst-Senior     | 162468\n",
       "IS Business Analyst-Principal  | 216706\n",
       "IS Programmer Analyst          | 98706\n",
       "IS Project Director            | 236572\n",
       "IT Operations Support Admin IV | 173269\n",
       "Accountant III                 | 158135\n",
       "Statistician                   | 126624\n",
       "Senior Administrative Analyst  | 163843\n",
       "... (44515 rows omitted)"
      ]
     },
     "execution_count": 10,
     "metadata": {},
     "output_type": "execute_result"
    }
   ],
   "source": [
    "# Create a table that has only two of the columns of sf:\n",
    "# Jobs and Total Compensation\n",
    "\n",
    "jobs_and_total_comp = sf.select('Job', 'Total Compensation') \n",
    "jobs_and_total_comp"
   ]
  },
  {
   "cell_type": "markdown",
   "metadata": {},
   "source": [
    "### Table of Grand Total Compensation by Position ###\n",
    "\n",
    "As you have seen, many employees can have the same position (also known as job title). The goal now is to find the grand total compensation of the employees for each of the positions. \n",
    "\n",
    "For example, you have seen that 3,123 employees had the position of Transit Operator. We now want the grand total amount the City paid to all its Transit Operators. That's the sum of the total compensation amounts for all 3,123 Transit Operators.\n",
    "\n",
    "You have to calculate the corresponding amount for each position. \n",
    "\n",
    "- Discuss with your group which of the following two methods is best suited for this, and what the arguments should be: `where` or `group`."
   ]
  },
  {
   "cell_type": "markdown",
   "metadata": {},
   "source": [
    "<div class=\"alert alert-info\">\n",
    "    <b> Question: </b>\n",
    "    Assign <tt>comp_by_jobs</tt> to a table that has one column for the job titles and one for the total compensation of employees in the jobs."
   ]
  },
  {
   "cell_type": "code",
   "execution_count": 11,
   "metadata": {},
   "outputs": [
    {
     "data": {
      "text/html": [
       "<table border=\"1\" class=\"dataframe\">\n",
       "    <thead>\n",
       "        <tr>\n",
       "            <th>Job</th> <th>Total Compensation sum</th>\n",
       "        </tr>\n",
       "    </thead>\n",
       "    <tbody>\n",
       "        <tr>\n",
       "            <td>ACPO,JuvP, Juv Prob (SFERS) </td> <td>248,096               </td>\n",
       "        </tr>\n",
       "        <tr>\n",
       "            <td>ASR Operations Supervisor   </td> <td>503,372               </td>\n",
       "        </tr>\n",
       "        <tr>\n",
       "            <td>ASR Senior Office Specialist</td> <td>2,114,434             </td>\n",
       "        </tr>\n",
       "        <tr>\n",
       "            <td>ASR-Office Assistant        </td> <td>1,689,426             </td>\n",
       "        </tr>\n",
       "        <tr>\n",
       "            <td>Account Clerk               </td> <td>4,173,356             </td>\n",
       "        </tr>\n",
       "        <tr>\n",
       "            <td>Accountant I                </td> <td>220,055               </td>\n",
       "        </tr>\n",
       "        <tr>\n",
       "            <td>Accountant II               </td> <td>6,818,860             </td>\n",
       "        </tr>\n",
       "        <tr>\n",
       "            <td>Accountant III              </td> <td>18,715,168            </td>\n",
       "        </tr>\n",
       "        <tr>\n",
       "            <td>Accountant IV               </td> <td>11,309,612            </td>\n",
       "        </tr>\n",
       "        <tr>\n",
       "            <td>Accountant Intern           </td> <td>2,266,249             </td>\n",
       "        </tr>\n",
       "    </tbody>\n",
       "</table>\n",
       "<p>... (1047 rows omitted)</p>"
      ],
      "text/plain": [
       "Job                          | Total Compensation sum\n",
       "ACPO,JuvP, Juv Prob (SFERS)  | 248,096\n",
       "ASR Operations Supervisor    | 503,372\n",
       "ASR Senior Office Specialist | 2,114,434\n",
       "ASR-Office Assistant         | 1,689,426\n",
       "Account Clerk                | 4,173,356\n",
       "Accountant I                 | 220,055\n",
       "Accountant II                | 6,818,860\n",
       "Accountant III               | 18,715,168\n",
       "Accountant IV                | 11,309,612\n",
       "Accountant Intern            | 2,266,249\n",
       "... (1047 rows omitted)"
      ]
     },
     "execution_count": 11,
     "metadata": {},
     "output_type": "execute_result"
    }
   ],
   "source": [
    "# Display the grand total compensation for each position\n",
    "\n",
    "comp_by_jobs = jobs_and_total_comp.group('Job', sum)\n",
    "\n",
    "# Don't worry about the next line of code. It just makes Column 1 easier to read.\n",
    "comp_by_jobs.set_format(1, NumberFormatter(decimals=0)) "
   ]
  },
  {
   "cell_type": "markdown",
   "metadata": {},
   "source": [
    "**The table should have one row for each job, and the jobs should be in alphabetical order, just as for `job_counts`.**"
   ]
  },
  {
   "cell_type": "code",
   "execution_count": 12,
   "metadata": {},
   "outputs": [
    {
     "data": {
      "text/html": [
       "<table border=\"1\" class=\"dataframe\">\n",
       "    <thead>\n",
       "        <tr>\n",
       "            <th>Job</th> <th>count</th>\n",
       "        </tr>\n",
       "    </thead>\n",
       "    <tbody>\n",
       "        <tr>\n",
       "            <td>ACPO,JuvP, Juv Prob (SFERS) </td> <td>1    </td>\n",
       "        </tr>\n",
       "        <tr>\n",
       "            <td>ASR Operations Supervisor   </td> <td>4    </td>\n",
       "        </tr>\n",
       "        <tr>\n",
       "            <td>ASR Senior Office Specialist</td> <td>18   </td>\n",
       "        </tr>\n",
       "        <tr>\n",
       "            <td>ASR-Office Assistant        </td> <td>25   </td>\n",
       "        </tr>\n",
       "        <tr>\n",
       "            <td>Account Clerk               </td> <td>58   </td>\n",
       "        </tr>\n",
       "        <tr>\n",
       "            <td>Accountant I                </td> <td>2    </td>\n",
       "        </tr>\n",
       "        <tr>\n",
       "            <td>Accountant II               </td> <td>61   </td>\n",
       "        </tr>\n",
       "        <tr>\n",
       "            <td>Accountant III              </td> <td>130  </td>\n",
       "        </tr>\n",
       "        <tr>\n",
       "            <td>Accountant IV               </td> <td>68   </td>\n",
       "        </tr>\n",
       "        <tr>\n",
       "            <td>Accountant Intern           </td> <td>32   </td>\n",
       "        </tr>\n",
       "    </tbody>\n",
       "</table>\n",
       "<p>... (1047 rows omitted)</p>"
      ],
      "text/plain": [
       "Job                          | count\n",
       "ACPO,JuvP, Juv Prob (SFERS)  | 1\n",
       "ASR Operations Supervisor    | 4\n",
       "ASR Senior Office Specialist | 18\n",
       "ASR-Office Assistant         | 25\n",
       "Account Clerk                | 58\n",
       "Accountant I                 | 2\n",
       "Accountant II                | 61\n",
       "Accountant III               | 130\n",
       "Accountant IV                | 68\n",
       "Accountant Intern            | 32\n",
       "... (1047 rows omitted)"
      ]
     },
     "execution_count": 12,
     "metadata": {},
     "output_type": "execute_result"
    }
   ],
   "source": [
    "job_counts"
   ]
  },
  {
   "cell_type": "markdown",
   "metadata": {},
   "source": [
    "Each row of `comp_by_jobs` contains the same job as the corresponding row of `job_counts`, and hence also the same employees. So you will be able to create a larger table by simply attaching columns from the two tables side by side, one after another. \n",
    "\n",
    "For this, it will help to store the counts and grand total compensations in arrays. "
   ]
  },
  {
   "cell_type": "markdown",
   "metadata": {},
   "source": [
    "### Arrays of Counts and Grand Total Compensations by Position ###\n",
    "\n",
    "Recall from Part 1 which `Table` method accesses a column as an array. Also note that column numbering starts at 0, following the Python convention."
   ]
  },
  {
   "cell_type": "markdown",
   "metadata": {},
   "source": [
    "<div class=\"alert alert-info\">\n",
    "    <b> Question: </b>\n",
    "    Assign <tt>counts_only</tt> to an array of the values in Column 1 of <tt>job_counts</tt>, and <tt>total_comps_only</tt> to an array of the values in Column 1 of <tt>comp_by_jobs</tt>."
   ]
  },
  {
   "cell_type": "code",
   "execution_count": 13,
   "metadata": {},
   "outputs": [],
   "source": [
    "# Construct two data arrays\n",
    "# corresponding to job titles arranged in alphabetical order\n",
    "\n",
    "counts_only = job_counts.column('count')\n",
    "total_comps_only = comp_by_jobs.column('Total Compensation sum')"
   ]
  },
  {
   "cell_type": "markdown",
   "metadata": {},
   "source": [
    "The displays of these arrays are not pretty. That's because the arrays are very long. Run the cell below to see."
   ]
  },
  {
   "cell_type": "code",
   "execution_count": 20,
   "metadata": {},
   "outputs": [
    {
     "data": {
      "text/plain": [
       "(array([ 1,  4, 18, ...,  6, 27,  1]),\n",
       " array([ 248096.,  503372., 2114434., ..., 1027519., 3643074.,  111344.]))"
      ]
     },
     "execution_count": 20,
     "metadata": {},
     "output_type": "execute_result"
    }
   ],
   "source": [
    "counts_only, total_comps_only"
   ]
  },
  {
   "cell_type": "markdown",
   "metadata": {},
   "source": [
    "In the next part of the report you will place the arrays in a table for ease of viewing. For now, just check that they have the right number of elements.\n",
    "\n",
    "Recall that there were 44,525 employees and 1,057 positions. \n",
    "- Discuss with your group how many elements each of the arrays should have: 44,525 or 1,057.\n",
    "- Also discuss which function allows you to find the number of elements in an array."
   ]
  },
  {
   "cell_type": "markdown",
   "metadata": {},
   "source": [
    "<div class=\"alert alert-info\">\n",
    "    <b> Question: </b>\n",
    "    Assign <tt>counts_only_size</tt> to the number of elements in <tt>counts_only</tt>, and <tt>total_comps_only_size</tt> to the number of elements in <tt>total_comps_only</tt>. Check that they agree with what you came up with in your discussion."
   ]
  },
  {
   "cell_type": "code",
   "execution_count": 21,
   "metadata": {},
   "outputs": [
    {
     "data": {
      "text/plain": [
       "(1057, 1057)"
      ]
     },
     "execution_count": 21,
     "metadata": {},
     "output_type": "execute_result"
    }
   ],
   "source": [
    "# Sizes of the arrays\n",
    "\n",
    "counts_only_size = len(counts_only)\n",
    "total_comps_only_size = len(total_comps_only)\n",
    "\n",
    "counts_only_size, total_comps_only_size"
   ]
  },
  {
   "cell_type": "markdown",
   "metadata": {},
   "source": [
    "### Array of Average Compensations by Position ###\n",
    "Now all you need is the average compensation for each position. Recall:\n",
    "\n",
    "- the method you found in Part 1 for getting an average based on the count and the total\n",
    "- array operations are carried out \"elementwise\", that is, by operating on the first element of each array, then on the second element of each array, and so on "
   ]
  },
  {
   "cell_type": "markdown",
   "metadata": {},
   "source": [
    "<div class=\"alert alert-info\">\n",
    "    <b> Question: </b>\n",
    "    Assign <tt>average_comps_only</tt> to an array of the average compensation for each job."
   ]
  },
  {
   "cell_type": "code",
   "execution_count": 14,
   "metadata": {},
   "outputs": [],
   "source": [
    "# Construct the third data array:\n",
    "# Average compensation for each job title, using counts_only and total_comps_only\n",
    "\n",
    "average_comps_only = total_comps_only / counts_only\n",
    "\n",
    "# This code just rounds each array element to the nearest integer. Don't worry about it.\n",
    "average_comps_only = np.round(average_comps_only, 0)"
   ]
  },
  {
   "cell_type": "markdown",
   "metadata": {},
   "source": [
    "<div class=\"alert alert-info\">\n",
    "    <b> Question: </b>\n",
    "    Assign <tt>average_comps_only_size</tt> the number of elements in <tt>average_comps_only</tt>, and confirm that it is what it should be."
   ]
  },
  {
   "cell_type": "code",
   "execution_count": 22,
   "metadata": {},
   "outputs": [
    {
     "data": {
      "text/plain": [
       "1057"
      ]
     },
     "execution_count": 22,
     "metadata": {},
     "output_type": "execute_result"
    }
   ],
   "source": [
    "# Size of the array\n",
    "\n",
    "average_comps_only_size = len(average_comps_only)\n",
    "\n",
    "average_comps_only_size"
   ]
  },
  {
   "cell_type": "markdown",
   "metadata": {},
   "source": [
    "## Part 4: Constructing the Corrected Table ##"
   ]
  },
  {
   "cell_type": "markdown",
   "metadata": {},
   "source": [
    "All your hard work will is about to pay off. You are now ready to correct the article's Top 10 table.\n",
    "\n",
    "Run the cell below to assign `new_table` to a table that just has a column of job titles."
   ]
  },
  {
   "cell_type": "code",
   "execution_count": 15,
   "metadata": {},
   "outputs": [
    {
     "data": {
      "text/html": [
       "<table border=\"1\" class=\"dataframe\">\n",
       "    <thead>\n",
       "        <tr>\n",
       "            <th>Job Title</th>\n",
       "        </tr>\n",
       "    </thead>\n",
       "    <tbody>\n",
       "        <tr>\n",
       "            <td>ACPO,JuvP, Juv Prob (SFERS) </td>\n",
       "        </tr>\n",
       "        <tr>\n",
       "            <td>ASR Operations Supervisor   </td>\n",
       "        </tr>\n",
       "        <tr>\n",
       "            <td>ASR Senior Office Specialist</td>\n",
       "        </tr>\n",
       "        <tr>\n",
       "            <td>ASR-Office Assistant        </td>\n",
       "        </tr>\n",
       "        <tr>\n",
       "            <td>Account Clerk               </td>\n",
       "        </tr>\n",
       "        <tr>\n",
       "            <td>Accountant I                </td>\n",
       "        </tr>\n",
       "        <tr>\n",
       "            <td>Accountant II               </td>\n",
       "        </tr>\n",
       "        <tr>\n",
       "            <td>Accountant III              </td>\n",
       "        </tr>\n",
       "        <tr>\n",
       "            <td>Accountant IV               </td>\n",
       "        </tr>\n",
       "        <tr>\n",
       "            <td>Accountant Intern           </td>\n",
       "        </tr>\n",
       "    </tbody>\n",
       "</table>\n",
       "<p>... (1047 rows omitted)</p>"
      ],
      "text/plain": [
       "Job Title\n",
       "ACPO,JuvP, Juv Prob (SFERS)\n",
       "ASR Operations Supervisor\n",
       "ASR Senior Office Specialist\n",
       "ASR-Office Assistant\n",
       "Account Clerk\n",
       "Accountant I\n",
       "Accountant II\n",
       "Accountant III\n",
       "Accountant IV\n",
       "Accountant Intern\n",
       "... (1047 rows omitted)"
      ]
     },
     "execution_count": 15,
     "metadata": {},
     "output_type": "execute_result"
    }
   ],
   "source": [
    "# Construct a table containing just one column\n",
    "# that has all the job titles in alphabetical order.\n",
    "# The column label should be Job Title as in the Forbes table.\n",
    "\n",
    "new_table = job_counts.select('Job').relabeled('Job', 'Job Title')\n",
    "new_table"
   ]
  },
  {
   "cell_type": "markdown",
   "metadata": {},
   "source": [
    "- Discuss with your group which `Table` method allows you to grow `new_table` by attaching more columns. Recall how that method works."
   ]
  },
  {
   "cell_type": "markdown",
   "metadata": {},
   "source": [
    "<div class=\"alert alert-info\">\n",
    "    <b> Question: </b>\n",
    "    Attach three more columns to <tt>new_table</tt>. The columns should have the same labels as in the Forbes table, and the contents should be the three arrays you created in Part 3."
   ]
  },
  {
   "cell_type": "code",
   "execution_count": 16,
   "metadata": {},
   "outputs": [
    {
     "data": {
      "text/html": [
       "<table border=\"1\" class=\"dataframe\">\n",
       "    <thead>\n",
       "        <tr>\n",
       "            <th>Job Title</th> <th>Average Comp.</th> <th>Total Comp.</th> <th>Head Count</th>\n",
       "        </tr>\n",
       "    </thead>\n",
       "    <tbody>\n",
       "        <tr>\n",
       "            <td>ACPO,JuvP, Juv Prob (SFERS) </td> <td>248,096      </td> <td>248,096    </td> <td>1         </td>\n",
       "        </tr>\n",
       "        <tr>\n",
       "            <td>ASR Operations Supervisor   </td> <td>125,843      </td> <td>503,372    </td> <td>4         </td>\n",
       "        </tr>\n",
       "        <tr>\n",
       "            <td>ASR Senior Office Specialist</td> <td>117,469      </td> <td>2,114,434  </td> <td>18        </td>\n",
       "        </tr>\n",
       "        <tr>\n",
       "            <td>ASR-Office Assistant        </td> <td>67,577       </td> <td>1,689,426  </td> <td>25        </td>\n",
       "        </tr>\n",
       "        <tr>\n",
       "            <td>Account Clerk               </td> <td>71,954       </td> <td>4,173,356  </td> <td>58        </td>\n",
       "        </tr>\n",
       "        <tr>\n",
       "            <td>Accountant I                </td> <td>110,028      </td> <td>220,055    </td> <td>2         </td>\n",
       "        </tr>\n",
       "        <tr>\n",
       "            <td>Accountant II               </td> <td>111,785      </td> <td>6,818,860  </td> <td>61        </td>\n",
       "        </tr>\n",
       "        <tr>\n",
       "            <td>Accountant III              </td> <td>143,963      </td> <td>18,715,168 </td> <td>130       </td>\n",
       "        </tr>\n",
       "        <tr>\n",
       "            <td>Accountant IV               </td> <td>166,318      </td> <td>11,309,612 </td> <td>68        </td>\n",
       "        </tr>\n",
       "        <tr>\n",
       "            <td>Accountant Intern           </td> <td>70,820       </td> <td>2,266,249  </td> <td>32        </td>\n",
       "        </tr>\n",
       "    </tbody>\n",
       "</table>\n",
       "<p>... (1047 rows omitted)</p>"
      ],
      "text/plain": [
       "Job Title                    | Average Comp. | Total Comp. | Head Count\n",
       "ACPO,JuvP, Juv Prob (SFERS)  | 248,096       | 248,096     | 1\n",
       "ASR Operations Supervisor    | 125,843       | 503,372     | 4\n",
       "ASR Senior Office Specialist | 117,469       | 2,114,434   | 18\n",
       "ASR-Office Assistant         | 67,577        | 1,689,426   | 25\n",
       "Account Clerk                | 71,954        | 4,173,356   | 58\n",
       "Accountant I                 | 110,028       | 220,055     | 2\n",
       "Accountant II                | 111,785       | 6,818,860   | 61\n",
       "Accountant III               | 143,963       | 18,715,168  | 130\n",
       "Accountant IV                | 166,318       | 11,309,612  | 68\n",
       "Accountant Intern            | 70,820        | 2,266,249   | 32\n",
       "... (1047 rows omitted)"
      ]
     },
     "execution_count": 16,
     "metadata": {},
     "output_type": "execute_result"
    }
   ],
   "source": [
    "# Attach three more columns\n",
    "\n",
    "new_table = new_table.with_columns(\n",
    "    'Average Comp.', average_comps_only,\n",
    "    'Total Comp.', total_comps_only,\n",
    "    'Head Count', counts_only\n",
    ")\n",
    "\n",
    "# This code makes numbers in Columns 1-3 easier to read. Don't worry about it.\n",
    "new_table.set_format(make_array(1, 2, 3), NumberFormatter(decimals=0)) "
   ]
  },
  {
   "cell_type": "markdown",
   "metadata": {},
   "source": [
    "You can now use `new_table` to create the accurate table of *Top 10 Positions by Head Count*. The goal here is to create a table that has exactly 10 rows, not just to display the first 10 rows of a bigger table.\n",
    "\n",
    "- Discuss with your group which of the following `Table` methods you will need: `sort`, `where`, `select`, or `take`. You might need more than one of these methods."
   ]
  },
  {
   "cell_type": "markdown",
   "metadata": {},
   "source": [
    "<div class=\"alert alert-info\">\n",
    "    <b> Question: </b>\n",
    "    Assign <tt>sorted_new_table</tt> to <tt>new_table</tt> sorted in decreasing order of head count. Then assign <tt>final_table</tt> to a table consisting of just the first 10 rows of <tt>sorted_new_table.</tt>"
   ]
  },
  {
   "cell_type": "code",
   "execution_count": 17,
   "metadata": {},
   "outputs": [
    {
     "data": {
      "text/html": [
       "<table border=\"1\" class=\"dataframe\">\n",
       "    <thead>\n",
       "        <tr>\n",
       "            <th>Job Title</th> <th>Average Comp.</th> <th>Total Comp.</th> <th>Head Count</th>\n",
       "        </tr>\n",
       "    </thead>\n",
       "    <tbody>\n",
       "        <tr>\n",
       "            <td>Transit Operator         </td> <td>96,738       </td> <td>302,113,995</td> <td>3,123     </td>\n",
       "        </tr>\n",
       "        <tr>\n",
       "            <td>Special Nurse            </td> <td>48,327       </td> <td>80,657,590 </td> <td>1,669     </td>\n",
       "        </tr>\n",
       "        <tr>\n",
       "            <td>Registered Nurse         </td> <td>187,108      </td> <td>275,235,311</td> <td>1,471     </td>\n",
       "        </tr>\n",
       "        <tr>\n",
       "            <td>Custodian                </td> <td>80,064       </td> <td>73,418,563 </td> <td>917       </td>\n",
       "        </tr>\n",
       "        <tr>\n",
       "            <td>Firefighter              </td> <td>175,904      </td> <td>158,665,131</td> <td>902       </td>\n",
       "        </tr>\n",
       "        <tr>\n",
       "            <td>Public Service Trainee   </td> <td>14,044       </td> <td>11,824,951 </td> <td>842       </td>\n",
       "        </tr>\n",
       "        <tr>\n",
       "            <td>Police Officer 3         </td> <td>199,183      </td> <td>163,529,007</td> <td>821       </td>\n",
       "        </tr>\n",
       "        <tr>\n",
       "            <td>Recreation Leader        </td> <td>9,987        </td> <td>7,490,583  </td> <td>750       </td>\n",
       "        </tr>\n",
       "        <tr>\n",
       "            <td>Patient Care Assistant   </td> <td>89,108       </td> <td>53,465,047 </td> <td>600       </td>\n",
       "        </tr>\n",
       "        <tr>\n",
       "            <td>HSA Sr Eligibility Worker</td> <td>101,085      </td> <td>58,426,872 </td> <td>578       </td>\n",
       "        </tr>\n",
       "    </tbody>\n",
       "</table>"
      ],
      "text/plain": [
       "Job Title                 | Average Comp. | Total Comp. | Head Count\n",
       "Transit Operator          | 96,738        | 302,113,995 | 3,123\n",
       "Special Nurse             | 48,327        | 80,657,590  | 1,669\n",
       "Registered Nurse          | 187,108       | 275,235,311 | 1,471\n",
       "Custodian                 | 80,064        | 73,418,563  | 917\n",
       "Firefighter               | 175,904       | 158,665,131 | 902\n",
       "Public Service Trainee    | 14,044        | 11,824,951  | 842\n",
       "Police Officer 3          | 199,183       | 163,529,007 | 821\n",
       "Recreation Leader         | 9,987         | 7,490,583   | 750\n",
       "Patient Care Assistant    | 89,108        | 53,465,047  | 600\n",
       "HSA Sr Eligibility Worker | 101,085       | 58,426,872  | 578"
      ]
     },
     "execution_count": 17,
     "metadata": {},
     "output_type": "execute_result"
    }
   ],
   "source": [
    "# The correct \"Top 10 Positions by Head Count\" table\n",
    "\n",
    "sorted_new_table = new_table.sort('Head Count', descending=True)\n",
    "final_table = sorted_new_table.take(np.arange(10))\n",
    "final_table"
   ]
  },
  {
   "cell_type": "markdown",
   "metadata": {},
   "source": [
    "This is how the *Top 10 Positions by Head Count* table should have appeared. It is your contribution to accuracy in reporting!"
   ]
  },
  {
   "cell_type": "markdown",
   "metadata": {},
   "source": [
    "## Part 5: Conclusion and Final Recommendations ##"
   ]
  },
  {
   "cell_type": "markdown",
   "metadata": {},
   "source": [
    "The Forbes article's title and contents indicate that its desired focus is on \"highly compensated\" employees. You now have more clear evidence to explain the choices made in its \"Top 10 Positions by Head Count\" table.\n",
    "\n",
    "Run the cell below to display the top 20 rows of <tt>sorted_new_table</tt>."
   ]
  },
  {
   "cell_type": "code",
   "execution_count": 18,
   "metadata": {},
   "outputs": [
    {
     "data": {
      "text/html": [
       "<table border=\"1\" class=\"dataframe\">\n",
       "    <thead>\n",
       "        <tr>\n",
       "            <th>Job Title</th> <th>Average Comp.</th> <th>Total Comp.</th> <th>Head Count</th>\n",
       "        </tr>\n",
       "    </thead>\n",
       "    <tbody>\n",
       "        <tr>\n",
       "            <td>Transit Operator            </td> <td>96,738       </td> <td>302,113,995</td> <td>3,123     </td>\n",
       "        </tr>\n",
       "        <tr>\n",
       "            <td>Special Nurse               </td> <td>48,327       </td> <td>80,657,590 </td> <td>1,669     </td>\n",
       "        </tr>\n",
       "        <tr>\n",
       "            <td>Registered Nurse            </td> <td>187,108      </td> <td>275,235,311</td> <td>1,471     </td>\n",
       "        </tr>\n",
       "        <tr>\n",
       "            <td>Custodian                   </td> <td>80,064       </td> <td>73,418,563 </td> <td>917       </td>\n",
       "        </tr>\n",
       "        <tr>\n",
       "            <td>Firefighter                 </td> <td>175,904      </td> <td>158,665,131</td> <td>902       </td>\n",
       "        </tr>\n",
       "        <tr>\n",
       "            <td>Public Service Trainee      </td> <td>14,044       </td> <td>11,824,951 </td> <td>842       </td>\n",
       "        </tr>\n",
       "        <tr>\n",
       "            <td>Police Officer 3            </td> <td>199,183      </td> <td>163,529,007</td> <td>821       </td>\n",
       "        </tr>\n",
       "        <tr>\n",
       "            <td>Recreation Leader           </td> <td>9,987        </td> <td>7,490,583  </td> <td>750       </td>\n",
       "        </tr>\n",
       "        <tr>\n",
       "            <td>Patient Care Assistant      </td> <td>89,108       </td> <td>53,465,047 </td> <td>600       </td>\n",
       "        </tr>\n",
       "        <tr>\n",
       "            <td>HSA Sr Eligibility Worker   </td> <td>101,085      </td> <td>58,426,872 </td> <td>578       </td>\n",
       "        </tr>\n",
       "        <tr>\n",
       "            <td>Sergeant 3                  </td> <td>245,548      </td> <td>122,774,152</td> <td>500       </td>\n",
       "        </tr>\n",
       "        <tr>\n",
       "            <td>Police Officer              </td> <td>120,734      </td> <td>59,159,656 </td> <td>490       </td>\n",
       "        </tr>\n",
       "        <tr>\n",
       "            <td>Deputy Sheriff              </td> <td>199,354      </td> <td>93,496,869 </td> <td>469       </td>\n",
       "        </tr>\n",
       "        <tr>\n",
       "            <td>Police Officer 2            </td> <td>186,369      </td> <td>84,238,590 </td> <td>452       </td>\n",
       "        </tr>\n",
       "        <tr>\n",
       "            <td>Attorney (Civil/Criminal)   </td> <td>210,044      </td> <td>90,318,839 </td> <td>430       </td>\n",
       "        </tr>\n",
       "        <tr>\n",
       "            <td>Public Svc Aide-Public Works</td> <td>16,867       </td> <td>7,168,315  </td> <td>425       </td>\n",
       "        </tr>\n",
       "        <tr>\n",
       "            <td>EMT/Paramedic/Firefighter   </td> <td>177,937      </td> <td>74,555,747 </td> <td>419       </td>\n",
       "        </tr>\n",
       "        <tr>\n",
       "            <td>General Laborer             </td> <td>91,688       </td> <td>37,500,218 </td> <td>409       </td>\n",
       "        </tr>\n",
       "        <tr>\n",
       "            <td>Porter                      </td> <td>81,652       </td> <td>33,150,688 </td> <td>406       </td>\n",
       "        </tr>\n",
       "        <tr>\n",
       "            <td>Clerk                       </td> <td>46,481       </td> <td>18,174,254 </td> <td>391       </td>\n",
       "        </tr>\n",
       "    </tbody>\n",
       "</table>\n",
       "<p>... (1037 rows omitted)</p>"
      ],
      "text/plain": [
       "<IPython.core.display.HTML object>"
      ]
     },
     "metadata": {},
     "output_type": "display_data"
    }
   ],
   "source": [
    "sorted_new_table.show(20)"
   ]
  },
  {
   "cell_type": "markdown",
   "metadata": {},
   "source": [
    "The `Average Comp.` column provides insight into which jobs were included and which were excluded in the article's \"top 10\" list."
   ]
  },
  {
   "cell_type": "markdown",
   "metadata": {},
   "source": [
    "<div class=\"alert alert-info\">\n",
    "    <b> Question: </b>\n",
    "    What are some numerical reasons for why jobs were included or excluded in the Forbes table?"
   ]
  },
  {
   "cell_type": "markdown",
   "metadata": {},
   "source": [
    "<div class=\"alert alert-warning\">\n",
    "    <b> Answer: </b>\n",
    "    Jobs with the lowest average comps have been replaced with jobs that are less common but have average comps of around $200,000. Maybe custodians were left in the table because readers might already expect that the government of a large city like San Francisco has many custodians."
   ]
  },
  {
   "cell_type": "markdown",
   "metadata": {},
   "source": [
    "The article is its author's attempt to communicate the results of their data analysis to a wide audience. When human beings communicate, what they say is influenced by many different factors, not just the subject matter involved. Because of this, the Society of Professional Journalists has a formal [Code of Ethics](https://www.spj.org/ethicscode.asp).\n",
    "\n",
    "The author of the Forbes article is listed as a Senior Contributor (next to the author's name, right below the headline). Here is [Wikipedia's description](https://en.wikipedia.org/wiki/Forbes) of the \"contributor model\" of forbes.com:\n",
    "\n",
    "\"Forbes.com uses a \"contributor model\" in which a wide network of \"contributors\" writes and publishes articles directly on the website ... Contributors are paid based on traffic to their respective Forbes.com pages ...\""
   ]
  },
  {
   "cell_type": "markdown",
   "metadata": {},
   "source": [
    "<div class=\"alert alert-info\">\n",
    "    <b> Question: </b>\n",
    "    What are some factors <i>apart from the data</i> that might have motivated the choices made in the article?"
   ]
  },
  {
   "cell_type": "markdown",
   "metadata": {},
   "source": [
    "<div class=\"alert alert-warning\">\n",
    "    <b> Answer: </b>\n",
    "    Sensational articles tend to get traffic, which affects payment. However, this article's author is a successful businessman and payment from forbes.com might not be a principal motivator. Instead, focusing on extreme cases, ignoring that $150,000+ isn't \"highly compensated\" in SF, and cherry-picking data to embellish the article's point might be more convincing to general readers and get more clicks and shares. This could help propagate the author's political point of view and drive readers to his own organization's websites."
   ]
  },
  {
   "cell_type": "markdown",
   "metadata": {},
   "source": [
    "In recent years there has been an explosion of online reporting by authors of all backgrounds. So the lessons learned from your careful analysis of the Forbes article have much wider applicability."
   ]
  },
  {
   "cell_type": "markdown",
   "metadata": {},
   "source": [
    "<div class=\"alert alert-info\">\n",
    "    <b> Question: </b>\n",
    "    What recommendations do you have for readers of data-intensive online reports?"
   ]
  },
  {
   "cell_type": "markdown",
   "metadata": {},
   "source": [
    "<div class=\"alert alert-warning\">\n",
    "    <b> Answer: </b>\n",
    "    Read widely, try to double-check results using different sources, and consider the motivations of the authors. Remember that all authors, no matter how eminent, have biases, and not everyone who writes online has been trained in journalism or its ethics."
   ]
  },
  {
   "cell_type": "markdown",
   "metadata": {},
   "source": [
    "### Congratulations! ###\n",
    "\n",
    "You have completed your report. \n",
    "\n",
    "Keep in mind that [data journalism](https://en.wikipedia.org/wiki/Data_journalism) is a relatively new profession, about 10 years old. After your work on this report, you are already on your way to becoming a great data journalist!"
   ]
  },
  {
   "cell_type": "code",
   "execution_count": null,
   "metadata": {},
   "outputs": [],
   "source": []
  }
 ],
 "metadata": {
  "kernelspec": {
   "display_name": "Python 3",
   "language": "python",
   "name": "python3"
  },
  "language_info": {
   "codemirror_mode": {
    "name": "ipython",
    "version": 3
   },
   "file_extension": ".py",
   "mimetype": "text/x-python",
   "name": "python",
   "nbconvert_exporter": "python",
   "pygments_lexer": "ipython3",
   "version": "3.8.3"
  }
 },
 "nbformat": 4,
 "nbformat_minor": 4
}
