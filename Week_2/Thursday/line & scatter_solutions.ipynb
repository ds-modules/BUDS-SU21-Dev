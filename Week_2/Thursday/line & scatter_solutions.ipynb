{
 "cells": [
  {
   "cell_type": "code",
   "execution_count": null,
   "metadata": {},
   "outputs": [],
   "source": [
    "from datascience import *\n",
    "import numpy as np\n",
    "\n",
    "%matplotlib inline\n",
    "import matplotlib.pyplot as plots\n",
    "plots.style.use('fivethirtyeight')"
   ]
  },
  {
   "cell_type": "markdown",
   "metadata": {},
   "source": [
    "\n",
    "\n",
    "### Table of Contents\n",
    "\n",
    "1.  <a href='#section 1'>Line graphs</a>\n",
    "\n",
    "    a. <a href='#subsection 1a'> Comparing Years </a> <br><br>\n",
    "    b. <a href='#subsection 1b'> Comparing Sex </a> <br><br>\n",
    "    \n",
    "2. <a href='#section 2'>Scatter plots</a>\n",
    "\n",
    "    \n"
   ]
  },
  {
   "cell_type": "markdown",
   "metadata": {},
   "source": [
    "---\n",
    "\n",
    "## The Data <a id='data'></a>\n",
    "\n",
    "Today, we will continue work with the US census data, just looking at years 2010 and 2014. \n",
    "As a reminder, the `SEX` column contains numeric codes: `0` stands for the total, `1` for male, and `2` for female. The `AGE` column contains ages in completed years, but the special value `999` is a sum of the total population.\n",
    "\n",
    "\n",
    "\n",
    "---\n"
   ]
  },
  {
   "cell_type": "code",
   "execution_count": null,
   "metadata": {},
   "outputs": [],
   "source": [
    "data = 'http://www2.census.gov/programs-surveys/popest/datasets/2010-2015/national/asrh/nc-est2015-agesex-res.csv'\n",
    "\n",
    "# A local copy can be accessed here in case census.gov moves the file:\n",
    "# data = path_data + 'nc-est2015-agesex-res.csv'\n",
    "\n",
    "full_census_table = Table.read_table(data)\n",
    "partial_census_table = full_census_table.select('SEX', 'AGE', 'POPESTIMATE2010', 'POPESTIMATE2014')\n",
    "us_pop = partial_census_table.relabeled('POPESTIMATE2010', '2010').relabeled('POPESTIMATE2014', '2014')\n",
    "us_pop.sort('AGE')"
   ]
  },
  {
   "cell_type": "markdown",
   "metadata": {},
   "source": [
    "## 1. Line Graphs <a id='section 1'></a>"
   ]
  },
  {
   "cell_type": "markdown",
   "metadata": {},
   "source": [
    "Let's visualize our data!"
   ]
  },
  {
   "cell_type": "markdown",
   "metadata": {},
   "source": [
    "<div class=\"alert alert-warning\">\n",
    "\n",
    "<b>Question 1:</b> Let's start by dropping the `999` code from age, and only looking at totals across sex. Fill in the blanks below:\n",
    "\n"
   ]
  },
  {
   "cell_type": "code",
   "execution_count": null,
   "metadata": {},
   "outputs": [],
   "source": [
    "no_999 = us_pop.where('AGE', are.below(999))\n",
    "everyone = no_999.where(...).drop('SEX') ## YOUR CODE HERE\n",
    "everyone"
   ]
  },
  {
   "cell_type": "code",
   "execution_count": null,
   "metadata": {
    "scrolled": true
   },
   "outputs": [],
   "source": [
    "# ANSWER KEY\n",
    "no_999 = us_pop.where('AGE', are.below(999))\n",
    "everyone = no_999.where('SEX', 0).drop('SEX')\n",
    "everyone"
   ]
  },
  {
   "cell_type": "markdown",
   "metadata": {},
   "source": [
    "Now, lets plot population counts in 2010, with age on the x-axis."
   ]
  },
  {
   "cell_type": "code",
   "execution_count": null,
   "metadata": {},
   "outputs": [],
   "source": [
    "everyone.plot('AGE', '2010')"
   ]
  },
  {
   "cell_type": "markdown",
   "metadata": {},
   "source": [
    "<div class=\"alert alert-warning\">\n",
    "<b> Question 2</b>: Discuss: What are some interesting trends you notice from this line graph?"
   ]
  },
  {
   "cell_type": "markdown",
   "metadata": {},
   "source": [
    "<b> YOUR ANSWER HERE: </b> "
   ]
  },
  {
   "cell_type": "markdown",
   "metadata": {},
   "source": [
    "Let's take a look at our table again. What if we wanted to compare population counts in 2010 and 2014?"
   ]
  },
  {
   "cell_type": "code",
   "execution_count": null,
   "metadata": {},
   "outputs": [],
   "source": [
    "everyone"
   ]
  },
  {
   "cell_type": "markdown",
   "metadata": {},
   "source": [
    "In the previous example, we specified `2010` as the values we wanted for the y-axis. If we want all of the other columns in the table to be plotted, we only have to specify the argument for the x-axis to `.plot`."
   ]
  },
  {
   "cell_type": "markdown",
   "metadata": {},
   "source": [
    "<div class=\"alert alert-warning\">\n",
    "<b> Question 3: </b> Fill in the code to plot population counts in both 2010 and 2014.\n",
    "    <a id='subsection 1a'></a>"
   ]
  },
  {
   "cell_type": "code",
   "execution_count": null,
   "metadata": {},
   "outputs": [],
   "source": [
    "....plot(...) # YOUR CODE HERE"
   ]
  },
  {
   "cell_type": "code",
   "execution_count": null,
   "metadata": {},
   "outputs": [],
   "source": [
    "#ANSWER KEY:\n",
    "everyone.plot(\"AGE\")"
   ]
  },
  {
   "cell_type": "markdown",
   "metadata": {},
   "source": [
    "<div class=\"alert alert-warning\">\n",
    "<b> Question 4</b>: Discuss: What do you notice when comparing the plots for 2010 and 2014?"
   ]
  },
  {
   "cell_type": "markdown",
   "metadata": {},
   "source": [
    "<b> YOUR ANSWER HERE: </b>"
   ]
  },
  {
   "cell_type": "markdown",
   "metadata": {},
   "source": [
    "ANSWER KEY: gold graph (for 2014) looks a lot like the graph for 2010, shifted right by ~ 4 years. People who were 20 in 2010 are 24 in 2014 (there are a few more 24 year-olds in 2014 because of immigration). In later ages, the numbers dwindle a little bit because of higher numbers of death/less immigration. Discuss immigration/how it affects census."
   ]
  },
  {
   "cell_type": "markdown",
   "metadata": {},
   "source": [
    "We just compared population counts between different years, what if we wanted to compare plots between sex? <a id='subsection 1b'></a>"
   ]
  },
  {
   "cell_type": "markdown",
   "metadata": {},
   "source": [
    "<div class=\"alert alert-warning\">\n",
    "<b> Question 5: </b> Fill in the code to construct a table of male and female population counts in 2014."
   ]
  },
  {
   "cell_type": "code",
   "execution_count": null,
   "metadata": {},
   "outputs": [],
   "source": [
    "both_sexes = us_pop.where('AGE', are.below(999)).where('SEX', are.above(0))\n",
    "males = both_sexes.where('SEX', 1).column(\"2014\")\n",
    "females = both_sexes.where(...).column(...) ## YOUR CODE HERE\n",
    "by_sex = Table().with_columns(\"Age\", np.arange(0, 101), \"Males\", ..., \"Females\", ...)\n",
    "by_sex"
   ]
  },
  {
   "cell_type": "code",
   "execution_count": null,
   "metadata": {},
   "outputs": [],
   "source": [
    "# ANSWER KEY\n",
    "both_sexes = us_pop.where('AGE', are.below(999)).where('SEX', are.above(0))\n",
    "males = both_sexes.where('SEX', 1).column(\"2014\")\n",
    "females = both_sexes.where('SEX', 2).column(\"2014\")\n",
    "by_sex = Table().with_columns(\"Age\", np.arange(0, 101), \"Males\", males, \"Females\", females)\n",
    "by_sex"
   ]
  },
  {
   "cell_type": "markdown",
   "metadata": {},
   "source": [
    "<div class=\"alert alert-warning\">\n",
    "<b> Question 6: </b> Fill in the code to plot male and female population counts in 2014, per age."
   ]
  },
  {
   "cell_type": "code",
   "execution_count": null,
   "metadata": {},
   "outputs": [],
   "source": [
    "by_sex.plot(...) ##YOUR CODE HERE"
   ]
  },
  {
   "cell_type": "code",
   "execution_count": null,
   "metadata": {},
   "outputs": [],
   "source": [
    "# ANSWER KEY\n",
    "by_sex.plot(\"Age\")"
   ]
  },
  {
   "cell_type": "markdown",
   "metadata": {},
   "source": [
    "<div class=\"alert alert-warning\">\n",
    "<b> Question 7: </b> What do you notice about the above plot?"
   ]
  },
  {
   "cell_type": "markdown",
   "metadata": {},
   "source": [
    "<b> YOUR ANSWER HERE: </b>"
   ]
  },
  {
   "cell_type": "markdown",
   "metadata": {},
   "source": [
    "ANSWER KEY: discuss when male population count is higher than females and vice versa."
   ]
  },
  {
   "cell_type": "markdown",
   "metadata": {},
   "source": [
    "## 2. Scatter Plots <a id='section 2'></a>"
   ]
  },
  {
   "cell_type": "markdown",
   "metadata": {},
   "source": [
    "Let's go back to the actors table from Week 1."
   ]
  },
  {
   "cell_type": "code",
   "execution_count": null,
   "metadata": {},
   "outputs": [],
   "source": [
    "actors = Table().read_table(\"actors.csv\").relabeled(\"Gross\", \"#1 Movie Gross\")\n",
    "actors"
   ]
  },
  {
   "cell_type": "markdown",
   "metadata": {},
   "source": [
    "Let's start by looking at the relationship between `Number of Movies` and `Average per Movie`. Again, we specify our label for the x-axis first, followed by the label for the y-axis."
   ]
  },
  {
   "cell_type": "code",
   "execution_count": null,
   "metadata": {},
   "outputs": [],
   "source": [
    "actors.scatter(\"Number of Movies\", \"Average per Movie\") ## RUN THIS CELL"
   ]
  },
  {
   "cell_type": "markdown",
   "metadata": {},
   "source": [
    "<div class=\"alert alert-warning\">\n",
    "<b> Question 1: </b> What does each point in this plot represent? What are some general patterns you notice?"
   ]
  },
  {
   "cell_type": "markdown",
   "metadata": {},
   "source": [
    "<b> YOUR ANSWER HERE: </b>"
   ]
  },
  {
   "cell_type": "markdown",
   "metadata": {},
   "source": [
    "ANSWER KEY: Each point represents an actor. General negative association - higher number of movies indicates lower average per movie, why might this be the case?"
   ]
  },
  {
   "cell_type": "markdown",
   "metadata": {},
   "source": [
    "Like line graphs, we can plot multiple scatter plots on one graph by only specifying the label for the x-axis."
   ]
  },
  {
   "cell_type": "markdown",
   "metadata": {},
   "source": [
    "<div class=\"alert alert-warning\">\n",
    "<b> Question 2: </b> Fill in the code to plot \"Number of Movies\" against \"Total Gross\" and \"#1 Movie Gross\". What do you notice?"
   ]
  },
  {
   "cell_type": "code",
   "execution_count": null,
   "metadata": {},
   "outputs": [],
   "source": [
    "actors.select(\"Number of Movies\", ... , ...).scatter(...) ## YOUR CODE HERE"
   ]
  },
  {
   "cell_type": "markdown",
   "metadata": {},
   "source": [
    "<b> YOUR ANSWER HERE: </b> "
   ]
  },
  {
   "cell_type": "code",
   "execution_count": null,
   "metadata": {},
   "outputs": [],
   "source": [
    "#ANSWER KEY\n",
    "actors.select(\"Number of Movies\", \"Total Gross\", \"#1 Movie Gross\").scatter(\"Number of Movies\") ## YOUR CODE HERE"
   ]
  },
  {
   "cell_type": "markdown",
   "metadata": {},
   "source": [
    "ANSWER KEY: total gross is clearly higher than #1 movie gross. general positive association between number of movies and total gross (higher number of movies associated with higher total gross), with exceptions."
   ]
  },
  {
   "cell_type": "markdown",
   "metadata": {},
   "source": [
    "---\n",
    "\n",
    "## Bibliography"
   ]
  },
  {
   "cell_type": "markdown",
   "metadata": {},
   "source": [
    "- John Denero - Data 8X, Census: Males and Females. https://www.youtube.com/watch?v=SAJavz58uHk&feature=youtu.be\n",
    "- Ani Adhikari - Data 8X, Charts: Scatter Plots. https://www.youtube.com/watch?v=6mPOvbubJSM&feature=youtu.be\n",
    "- Ani Adhikari - Data 8X, Charts: Line Graphs. https://www.youtube.com/watch?v=pcEadlLnFBw&feature=youtu.be"
   ]
  },
  {
   "cell_type": "markdown",
   "metadata": {},
   "source": [
    "---\n",
    "Notebook developed by: X, X, X\n",
    "\n",
    "Data Science Modules: http://data.berkeley.edu/education/modules\n"
   ]
  },
  {
   "cell_type": "code",
   "execution_count": null,
   "metadata": {},
   "outputs": [],
   "source": []
  }
 ],
 "metadata": {
  "anaconda-cloud": {},
  "kernelspec": {
   "display_name": "Python 3",
   "language": "python",
   "name": "python3"
  },
  "language_info": {
   "codemirror_mode": {
    "name": "ipython",
    "version": 3
   },
   "file_extension": ".py",
   "mimetype": "text/x-python",
   "name": "python",
   "nbconvert_exporter": "python",
   "pygments_lexer": "ipython3",
   "version": "3.7.4"
  }
 },
 "nbformat": 4,
 "nbformat_minor": 1
}
