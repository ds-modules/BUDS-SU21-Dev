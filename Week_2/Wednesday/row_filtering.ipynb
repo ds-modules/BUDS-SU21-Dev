{
 "cells": [
  {
   "cell_type": "code",
   "execution_count": 1,
   "metadata": {
    "collapsed": true
   },
   "outputs": [],
   "source": [
    "from datascience import *\n",
    "import numpy as np\n",
    "\n",
    "%matplotlib inline\n",
    "import matplotlib.pyplot as plots\n",
    "plots.style.use('fivethirtyeight')\n",
    "# Table.interactive_plots()"
   ]
  },
  {
   "cell_type": "markdown",
   "metadata": {},
   "source": [
    "\n",
    "\n",
    "### Table of Contents\n",
    "\n",
    "1.  <a href='#section 1'>Filtering with \"where\"</a>\n",
    "\n",
    "    a. <a href='#subsection 1a'> How to use \"where\"</a> <br><br>\n",
    "    \n",
    "2. <a href='#section 2'>Filtering with \"take\"</a>\n",
    "\n",
    "3. <a href='#section 3'>Starting to visualize</a>\n",
    "\n",
    "<a href='#section 4'>Optional question</a>\n",
    "\n",
    "\n",
    "    \n"
   ]
  },
  {
   "cell_type": "markdown",
   "metadata": {},
   "source": [
    "---\n",
    "\n",
    "## The Data <a id='data'></a>\n",
    "\n",
    "Today, we will continue work with the US census data, just looking at years 2010 and 2014. \n",
    "As a reminder, the `SEX` column contains numeric codes: `0` stands for the total, `1` for male, and `2` for female. The `AGE` column contains ages in completed years, but the special value `999` is a sum of the total population.\n",
    "\n",
    "\n",
    "\n",
    "---\n"
   ]
  },
  {
   "cell_type": "code",
   "execution_count": 2,
   "metadata": {},
   "outputs": [
    {
     "data": {
      "text/html": [
       "<table border=\"1\" class=\"dataframe\">\n",
       "    <thead>\n",
       "        <tr>\n",
       "            <th>SEX</th> <th>AGE</th> <th>2010</th> <th>2014</th>\n",
       "        </tr>\n",
       "    </thead>\n",
       "    <tbody>\n",
       "        <tr>\n",
       "            <td>0   </td> <td>0   </td> <td>3951330</td> <td>3949775</td>\n",
       "        </tr>\n",
       "        <tr>\n",
       "            <td>1   </td> <td>0   </td> <td>2018420</td> <td>2020326</td>\n",
       "        </tr>\n",
       "        <tr>\n",
       "            <td>2   </td> <td>0   </td> <td>1932910</td> <td>1929449</td>\n",
       "        </tr>\n",
       "        <tr>\n",
       "            <td>0   </td> <td>1   </td> <td>3957888</td> <td>3949776</td>\n",
       "        </tr>\n",
       "        <tr>\n",
       "            <td>1   </td> <td>1   </td> <td>2020332</td> <td>2018401</td>\n",
       "        </tr>\n",
       "        <tr>\n",
       "            <td>2   </td> <td>1   </td> <td>1937556</td> <td>1931375</td>\n",
       "        </tr>\n",
       "        <tr>\n",
       "            <td>0   </td> <td>2   </td> <td>4090862</td> <td>3959664</td>\n",
       "        </tr>\n",
       "        <tr>\n",
       "            <td>1   </td> <td>2   </td> <td>2088685</td> <td>2023673</td>\n",
       "        </tr>\n",
       "        <tr>\n",
       "            <td>2   </td> <td>2   </td> <td>2002177</td> <td>1935991</td>\n",
       "        </tr>\n",
       "        <tr>\n",
       "            <td>0   </td> <td>3   </td> <td>4111920</td> <td>4007079</td>\n",
       "        </tr>\n",
       "    </tbody>\n",
       "</table>\n",
       "<p>... (296 rows omitted)</p>"
      ],
      "text/plain": [
       "SEX  | AGE  | 2010    | 2014\n",
       "0    | 0    | 3951330 | 3949775\n",
       "1    | 0    | 2018420 | 2020326\n",
       "2    | 0    | 1932910 | 1929449\n",
       "0    | 1    | 3957888 | 3949776\n",
       "1    | 1    | 2020332 | 2018401\n",
       "2    | 1    | 1937556 | 1931375\n",
       "0    | 2    | 4090862 | 3959664\n",
       "1    | 2    | 2088685 | 2023673\n",
       "2    | 2    | 2002177 | 1935991\n",
       "0    | 3    | 4111920 | 4007079\n",
       "... (296 rows omitted)"
      ]
     },
     "execution_count": 2,
     "metadata": {},
     "output_type": "execute_result"
    }
   ],
   "source": [
    "data = 'http://www2.census.gov/programs-surveys/popest/datasets/2010-2015/national/asrh/nc-est2015-agesex-res.csv'\n",
    "\n",
    "# A local copy can be accessed here in case census.gov moves the file:\n",
    "# data = path_data + 'nc-est2015-agesex-res.csv'\n",
    "\n",
    "full_census_table = Table.read_table(data)\n",
    "partial_census_table = full_census_table.select('SEX', 'AGE', 'POPESTIMATE2010', 'POPESTIMATE2014')\n",
    "us_pop = partial_census_table.relabeled('POPESTIMATE2010', '2010').relabeled('POPESTIMATE2014', '2014')\n",
    "us_pop.sort('AGE')"
   ]
  },
  {
   "cell_type": "markdown",
   "metadata": {},
   "source": [
    "## Filtering with `where`  <a id='section 1'></a>"
   ]
  },
  {
   "cell_type": "markdown",
   "metadata": {},
   "source": [
    "Often, we only want to analyze a certain subset of our data at a time.\n",
    "\n",
    "For example, let's filter our data to only look at the population counts of males."
   ]
  },
  {
   "cell_type": "markdown",
   "metadata": {},
   "source": [
    "<div class=\"alert alert-warning\">\n",
    "<b>Question 1:</b> What is the table's numeric code for males?\n",
    "   </div>\n"
   ]
  },
  {
   "cell_type": "markdown",
   "metadata": {},
   "source": [
    "<b>Answer: </b> YOUR ANSWER HERE"
   ]
  },
  {
   "cell_type": "code",
   "execution_count": 3,
   "metadata": {},
   "outputs": [
    {
     "data": {
      "text/html": [
       "<table border=\"1\" class=\"dataframe\">\n",
       "    <thead>\n",
       "        <tr>\n",
       "            <th>SEX</th> <th>AGE</th> <th>2010</th> <th>2014</th>\n",
       "        </tr>\n",
       "    </thead>\n",
       "    <tbody>\n",
       "        <tr>\n",
       "            <td>1   </td> <td>0   </td> <td>2018420</td> <td>2020326</td>\n",
       "        </tr>\n",
       "        <tr>\n",
       "            <td>1   </td> <td>1   </td> <td>2020332</td> <td>2018401</td>\n",
       "        </tr>\n",
       "        <tr>\n",
       "            <td>1   </td> <td>2   </td> <td>2088685</td> <td>2023673</td>\n",
       "        </tr>\n",
       "        <tr>\n",
       "            <td>1   </td> <td>3   </td> <td>2101272</td> <td>2049596</td>\n",
       "        </tr>\n",
       "        <tr>\n",
       "            <td>1   </td> <td>4   </td> <td>2084312</td> <td>2044517</td>\n",
       "        </tr>\n",
       "        <tr>\n",
       "            <td>1   </td> <td>5   </td> <td>2076573</td> <td>2044339</td>\n",
       "        </tr>\n",
       "        <tr>\n",
       "            <td>1   </td> <td>6   </td> <td>2079410</td> <td>2111060</td>\n",
       "        </tr>\n",
       "        <tr>\n",
       "            <td>1   </td> <td>7   </td> <td>2063139</td> <td>2122832</td>\n",
       "        </tr>\n",
       "        <tr>\n",
       "            <td>1   </td> <td>8   </td> <td>2054462</td> <td>2105618</td>\n",
       "        </tr>\n",
       "        <tr>\n",
       "            <td>1   </td> <td>9   </td> <td>2107037</td> <td>2097690</td>\n",
       "        </tr>\n",
       "    </tbody>\n",
       "</table>\n",
       "<p>... (92 rows omitted)</p>"
      ],
      "text/plain": [
       "SEX  | AGE  | 2010    | 2014\n",
       "1    | 0    | 2018420 | 2020326\n",
       "1    | 1    | 2020332 | 2018401\n",
       "1    | 2    | 2088685 | 2023673\n",
       "1    | 3    | 2101272 | 2049596\n",
       "1    | 4    | 2084312 | 2044517\n",
       "1    | 5    | 2076573 | 2044339\n",
       "1    | 6    | 2079410 | 2111060\n",
       "1    | 7    | 2063139 | 2122832\n",
       "1    | 8    | 2054462 | 2105618\n",
       "1    | 9    | 2107037 | 2097690\n",
       "... (92 rows omitted)"
      ]
     },
     "execution_count": 3,
     "metadata": {},
     "output_type": "execute_result"
    }
   ],
   "source": [
    "males_pop = us_pop.where('SEX', are.equal_to(1))\n",
    "males_pop"
   ]
  },
  {
   "cell_type": "markdown",
   "metadata": {},
   "source": [
    "Ignore the syntax for the moment.  Instead, try to read that line like this:\n",
    "\n",
    "> Assign the name **`males_pop`** to a table whose rows are the rows in the **`us_pop`** table **`where`** the **`'SEX'`**s **`are` `equal` `to` `1`**.\n",
    "\n",
    "As we can see in the above example, we've chosen only a subset of the rows of the original table - specifically the rows corresponding to male census participants."
   ]
  },
  {
   "cell_type": "markdown",
   "metadata": {},
   "source": [
    "<div class=\"alert alert-warning\">\n",
    "<b>Question 2:</b> Fill in the blanks to only select population counts corresponding to females.\n",
    "   </div>"
   ]
  },
  {
   "cell_type": "code",
   "execution_count": null,
   "metadata": {
    "collapsed": true
   },
   "outputs": [],
   "source": [
    "females_pop = us_pop.where(..., are.equal_to(...))\n",
    "females_pop"
   ]
  },
  {
   "cell_type": "code",
   "execution_count": 4,
   "metadata": {},
   "outputs": [
    {
     "data": {
      "text/html": [
       "<table border=\"1\" class=\"dataframe\">\n",
       "    <thead>\n",
       "        <tr>\n",
       "            <th>SEX</th> <th>AGE</th> <th>2010</th> <th>2014</th>\n",
       "        </tr>\n",
       "    </thead>\n",
       "    <tbody>\n",
       "        <tr>\n",
       "            <td>2   </td> <td>0   </td> <td>1932910</td> <td>1929449</td>\n",
       "        </tr>\n",
       "        <tr>\n",
       "            <td>2   </td> <td>1   </td> <td>1937556</td> <td>1931375</td>\n",
       "        </tr>\n",
       "        <tr>\n",
       "            <td>2   </td> <td>2   </td> <td>2002177</td> <td>1935991</td>\n",
       "        </tr>\n",
       "        <tr>\n",
       "            <td>2   </td> <td>3   </td> <td>2010648</td> <td>1957483</td>\n",
       "        </tr>\n",
       "        <tr>\n",
       "            <td>2   </td> <td>4   </td> <td>1993239</td> <td>1961199</td>\n",
       "        </tr>\n",
       "        <tr>\n",
       "            <td>2   </td> <td>5   </td> <td>1988080</td> <td>1962561</td>\n",
       "        </tr>\n",
       "        <tr>\n",
       "            <td>2   </td> <td>6   </td> <td>1993603</td> <td>2024870</td>\n",
       "        </tr>\n",
       "        <tr>\n",
       "            <td>2   </td> <td>7   </td> <td>1979907</td> <td>2032494</td>\n",
       "        </tr>\n",
       "        <tr>\n",
       "            <td>2   </td> <td>8   </td> <td>1971142</td> <td>2015285</td>\n",
       "        </tr>\n",
       "        <tr>\n",
       "            <td>2   </td> <td>9   </td> <td>2018378</td> <td>2010659</td>\n",
       "        </tr>\n",
       "    </tbody>\n",
       "</table>\n",
       "<p>... (92 rows omitted)</p>"
      ],
      "text/plain": [
       "SEX  | AGE  | 2010    | 2014\n",
       "2    | 0    | 1932910 | 1929449\n",
       "2    | 1    | 1937556 | 1931375\n",
       "2    | 2    | 2002177 | 1935991\n",
       "2    | 3    | 2010648 | 1957483\n",
       "2    | 4    | 1993239 | 1961199\n",
       "2    | 5    | 1988080 | 1962561\n",
       "2    | 6    | 1993603 | 2024870\n",
       "2    | 7    | 1979907 | 2032494\n",
       "2    | 8    | 1971142 | 2015285\n",
       "2    | 9    | 2018378 | 2010659\n",
       "... (92 rows omitted)"
      ]
     },
     "execution_count": 4,
     "metadata": {},
     "output_type": "execute_result"
    }
   ],
   "source": [
    "# ANSWER KEY\n",
    "females_pop = us_pop.where('SEX', are.equal_to(2))\n",
    "females_pop"
   ]
  },
  {
   "cell_type": "markdown",
   "metadata": {},
   "source": [
    "<div class=\"alert alert-info\">\n",
    "<b>NOTE:</b> A special feature of `are.equal_to(...)` is that it is the default predicate for `tbl.where(...)`. This means if we write a `where` expression without `are.equal_to(...)`, then it would work as if it was there.\n",
    "   </div>\n",
    "\n",
    "\n",
    "Here is an example. We can assign the name **`ten_yr_males`** to a table whose rows are the rows in the **`males_pop`** table **`where`** the **`'AGE'`**s **`are` `equal` `to` `10`**."
   ]
  },
  {
   "cell_type": "code",
   "execution_count": 5,
   "metadata": {},
   "outputs": [
    {
     "data": {
      "text/html": [
       "<table border=\"1\" class=\"dataframe\">\n",
       "    <thead>\n",
       "        <tr>\n",
       "            <th>SEX</th> <th>AGE</th> <th>2010</th> <th>2014</th>\n",
       "        </tr>\n",
       "    </thead>\n",
       "    <tbody>\n",
       "        <tr>\n",
       "            <td>1   </td> <td>10  </td> <td>2142167</td> <td>2100262</td>\n",
       "        </tr>\n",
       "    </tbody>\n",
       "</table>"
      ],
      "text/plain": [
       "SEX  | AGE  | 2010    | 2014\n",
       "1    | 10   | 2142167 | 2100262"
      ]
     },
     "execution_count": 5,
     "metadata": {},
     "output_type": "execute_result"
    }
   ],
   "source": [
    "ten_yr_males = males_pop.where(\"AGE\", 10)\n",
    "ten_yr_males"
   ]
  },
  {
   "cell_type": "code",
   "execution_count": null,
   "metadata": {
    "collapsed": true
   },
   "outputs": [],
   "source": [
    "## THIS WORKS THE SAME AS IF WE WERE TO INCLUDE are.equal_to(...)\n",
    "males_pop.where(\"AGE\", are.equal_to(10))"
   ]
  },
  {
   "cell_type": "markdown",
   "metadata": {},
   "source": [
    "### `where` <a id='subsection 1a'></a>\n",
    "\n",
    "Now let's dive into the details a bit more.  `where` takes 2 arguments:\n",
    "\n",
    "1. The name of a column.  `where` finds rows where that column's values meet some condition.\n",
    "2. A predicate that describes the condition that the column needs to meet.\n",
    "\n",
    "The predicate in the examples above called the function `are.equal_to` with the values we wanted, 1 (or 2).  We'll see other predicates next.\n",
    "\n",
    "`where` returns a table that's a copy of the original table, but **with only the rows that meet the given predicate**."
   ]
  },
  {
   "cell_type": "markdown",
   "metadata": {},
   "source": [
    "So far we've only been using `where` with the predicate that requires finding the values in a column to be *exactly* equal to a certain value. However, there are many other predicates. Here are a few:\n",
    "\n",
    "|Predicate|Example|Result|\n",
    "|-|-|-|\n",
    "|`are.equal_to`|`are.equal_to(50)`|Find rows with values equal to 50|\n",
    "|`are.equal_to`|`are.equal_to(\"hello\")`|Find rows with values equal to \"hello\"|\n",
    "|`are.not_equal_to`|`are.not_equal_to(50)`|Find rows with values not equal to 50|\n",
    "|`are.above`|`are.above(50)`|Find rows with values above (and not equal to) 50|\n",
    "|`are.above_or_equal_to`|`are.above_or_equal_to(50)`|Find rows with values above 50 or equal to 50|\n",
    "|`are.below`|`are.below(50)`|Find rows with values below 50|\n",
    "|`are.between`|`are.between(2, 10)`|Find rows with values above or equal to 2 and below 10|\n",
    "|`are.containing`| `are.containing(\"i\")`| Find rows with string values that contain the letter i."
   ]
  },
  {
   "cell_type": "markdown",
   "metadata": {},
   "source": [
    "Let's go back to the census data. "
   ]
  },
  {
   "cell_type": "code",
   "execution_count": null,
   "metadata": {
    "collapsed": true
   },
   "outputs": [],
   "source": [
    "us_pop.sort(\"AGE\", descending = True) # RUN THIS CELL"
   ]
  },
  {
   "cell_type": "markdown",
   "metadata": {},
   "source": [
    "Remember the numerical code 999 stands for total (across all ages), but let's say we're only interested in specific ages (NOT their total). We could do another `where(...)` to accomplish this:"
   ]
  },
  {
   "cell_type": "code",
   "execution_count": 6,
   "metadata": {},
   "outputs": [
    {
     "data": {
      "text/html": [
       "<table border=\"1\" class=\"dataframe\">\n",
       "    <thead>\n",
       "        <tr>\n",
       "            <th>SEX</th> <th>AGE</th> <th>2010</th> <th>2014</th>\n",
       "        </tr>\n",
       "    </thead>\n",
       "    <tbody>\n",
       "        <tr>\n",
       "            <td>2   </td> <td>100 </td> <td>45058</td> <td>58008</td>\n",
       "        </tr>\n",
       "        <tr>\n",
       "            <td>1   </td> <td>100 </td> <td>9352 </td> <td>13618</td>\n",
       "        </tr>\n",
       "        <tr>\n",
       "            <td>0   </td> <td>100 </td> <td>54410</td> <td>71626</td>\n",
       "        </tr>\n",
       "        <tr>\n",
       "            <td>2   </td> <td>99  </td> <td>26074</td> <td>32517</td>\n",
       "        </tr>\n",
       "        <tr>\n",
       "            <td>1   </td> <td>99  </td> <td>6104 </td> <td>8951 </td>\n",
       "        </tr>\n",
       "        <tr>\n",
       "            <td>0   </td> <td>99  </td> <td>32178</td> <td>41468</td>\n",
       "        </tr>\n",
       "        <tr>\n",
       "            <td>2   </td> <td>98  </td> <td>37532</td> <td>46208</td>\n",
       "        </tr>\n",
       "        <tr>\n",
       "            <td>1   </td> <td>98  </td> <td>9505 </td> <td>13518</td>\n",
       "        </tr>\n",
       "        <tr>\n",
       "            <td>0   </td> <td>98  </td> <td>47037</td> <td>59726</td>\n",
       "        </tr>\n",
       "        <tr>\n",
       "            <td>2   </td> <td>97  </td> <td>54118</td> <td>62779</td>\n",
       "        </tr>\n",
       "    </tbody>\n",
       "</table>\n",
       "<p>... (293 rows omitted)</p>"
      ],
      "text/plain": [
       "SEX  | AGE  | 2010  | 2014\n",
       "2    | 100  | 45058 | 58008\n",
       "1    | 100  | 9352  | 13618\n",
       "0    | 100  | 54410 | 71626\n",
       "2    | 99   | 26074 | 32517\n",
       "1    | 99   | 6104  | 8951\n",
       "0    | 99   | 32178 | 41468\n",
       "2    | 98   | 37532 | 46208\n",
       "1    | 98   | 9505  | 13518\n",
       "0    | 98   | 47037 | 59726\n",
       "2    | 97   | 54118 | 62779\n",
       "... (293 rows omitted)"
      ]
     },
     "execution_count": 6,
     "metadata": {},
     "output_type": "execute_result"
    }
   ],
   "source": [
    "pop_by_age = us_pop.where(\"AGE\", are.below(999)).sort(\"AGE\", descending= True)\n",
    "pop_by_age"
   ]
  },
  {
   "cell_type": "markdown",
   "metadata": {},
   "source": [
    "<div class=\"alert alert-warning\">\n",
    "<b>Question 3:</b> Fill in the blanks to only select population counts corresponding to males and females (but not their totals.) **Hint**: Remember, in the SEX column, 0 represents total.\n",
    "   </div>\n"
   ]
  },
  {
   "cell_type": "code",
   "execution_count": null,
   "metadata": {
    "collapsed": true
   },
   "outputs": [],
   "source": [
    "both_sexes = pop_by_age.where(\"...\", are.above(...))\n",
    "both_sexes"
   ]
  },
  {
   "cell_type": "code",
   "execution_count": 7,
   "metadata": {},
   "outputs": [
    {
     "data": {
      "text/html": [
       "<table border=\"1\" class=\"dataframe\">\n",
       "    <thead>\n",
       "        <tr>\n",
       "            <th>SEX</th> <th>AGE</th> <th>2010</th> <th>2014</th>\n",
       "        </tr>\n",
       "    </thead>\n",
       "    <tbody>\n",
       "        <tr>\n",
       "            <td>2   </td> <td>100 </td> <td>45058</td> <td>58008</td>\n",
       "        </tr>\n",
       "        <tr>\n",
       "            <td>1   </td> <td>100 </td> <td>9352 </td> <td>13618</td>\n",
       "        </tr>\n",
       "        <tr>\n",
       "            <td>2   </td> <td>99  </td> <td>26074</td> <td>32517</td>\n",
       "        </tr>\n",
       "        <tr>\n",
       "            <td>1   </td> <td>99  </td> <td>6104 </td> <td>8951 </td>\n",
       "        </tr>\n",
       "        <tr>\n",
       "            <td>2   </td> <td>98  </td> <td>37532</td> <td>46208</td>\n",
       "        </tr>\n",
       "        <tr>\n",
       "            <td>1   </td> <td>98  </td> <td>9505 </td> <td>13518</td>\n",
       "        </tr>\n",
       "        <tr>\n",
       "            <td>2   </td> <td>97  </td> <td>54118</td> <td>62779</td>\n",
       "        </tr>\n",
       "        <tr>\n",
       "            <td>1   </td> <td>97  </td> <td>14775</td> <td>20310</td>\n",
       "        </tr>\n",
       "        <tr>\n",
       "            <td>2   </td> <td>96  </td> <td>75139</td> <td>89432</td>\n",
       "        </tr>\n",
       "        <tr>\n",
       "            <td>1   </td> <td>96  </td> <td>22022</td> <td>31053</td>\n",
       "        </tr>\n",
       "    </tbody>\n",
       "</table>\n",
       "<p>... (192 rows omitted)</p>"
      ],
      "text/plain": [
       "SEX  | AGE  | 2010  | 2014\n",
       "2    | 100  | 45058 | 58008\n",
       "1    | 100  | 9352  | 13618\n",
       "2    | 99   | 26074 | 32517\n",
       "1    | 99   | 6104  | 8951\n",
       "2    | 98   | 37532 | 46208\n",
       "1    | 98   | 9505  | 13518\n",
       "2    | 97   | 54118 | 62779\n",
       "1    | 97   | 14775 | 20310\n",
       "2    | 96   | 75139 | 89432\n",
       "1    | 96   | 22022 | 31053\n",
       "... (192 rows omitted)"
      ]
     },
     "execution_count": 7,
     "metadata": {},
     "output_type": "execute_result"
    }
   ],
   "source": [
    "# ANSWER KEY\n",
    "both_sexes = pop_by_age.where(\"SEX\", are.above(0))\n",
    "both_sexes"
   ]
  },
  {
   "cell_type": "markdown",
   "metadata": {},
   "source": [
    "<div class=\"alert alert-info\">\n",
    "<b>NOTE:</b> One of the nice things about code is that there are several ways to do something. Here is another `where` expression which will do the same thing as using `are.above(...)`\n",
    "   </div>"
   ]
  },
  {
   "cell_type": "code",
   "execution_count": null,
   "metadata": {
    "collapsed": true
   },
   "outputs": [],
   "source": [
    "both_sexes = pop_by_age.where(\"SEX\", are.between(1, 3))\n",
    "both_sexes"
   ]
  },
  {
   "cell_type": "markdown",
   "metadata": {},
   "source": [
    "<div class=\"alert alert-warning\">\n",
    "<b>Question 4:</b> What is another way to write this using `are.between_or_equal_to(...)`\n",
    "   </div>"
   ]
  },
  {
   "cell_type": "code",
   "execution_count": null,
   "metadata": {
    "collapsed": true
   },
   "outputs": [],
   "source": [
    "both_sexes = pop_by_age.where(\"SEX\", are.between_or_equal_to(..., ...))\n",
    "both_sexes"
   ]
  },
  {
   "cell_type": "markdown",
   "metadata": {},
   "source": [
    "These are all different ways to write the same expression. Some predicates are used more often than others, but there is not an added benefit to using `are.above` or `are.between` in the situation above. Both work the same. The only benefit would be less typing for the first option. \n",
    "\n",
    "<div class=\"alert alert-warning\">\n",
    "<b>Question 5:</b> Why does this code not produce the same table as the other above in Question 3 & 4?\n",
    "   </div>"
   ]
  },
  {
   "cell_type": "code",
   "execution_count": null,
   "metadata": {
    "collapsed": true
   },
   "outputs": [],
   "source": [
    "pop_by_age.where(\"SEX\", are.equal_to(1)).where(\"SEX\", are.equal_to(2))"
   ]
  },
  {
   "cell_type": "markdown",
   "metadata": {},
   "source": [
    "<b>Answer: </b> YOUR ANSWER HERE"
   ]
  },
  {
   "cell_type": "markdown",
   "metadata": {},
   "source": [
    "## 2. Filtering with \"take\" <a id='section 2'></a>"
   ]
  },
  {
   "cell_type": "markdown",
   "metadata": {},
   "source": [
    "Let's combine what we did above to remove totals of ages and sex, and only look at the year 2014. This table has information on both males and females of all ages in the year 2014."
   ]
  },
  {
   "cell_type": "code",
   "execution_count": 8,
   "metadata": {},
   "outputs": [
    {
     "data": {
      "text/html": [
       "<table border=\"1\" class=\"dataframe\">\n",
       "    <thead>\n",
       "        <tr>\n",
       "            <th>SEX</th> <th>AGE</th> <th>2014</th>\n",
       "        </tr>\n",
       "    </thead>\n",
       "    <tbody>\n",
       "        <tr>\n",
       "            <td>2   </td> <td>100 </td> <td>58008</td>\n",
       "        </tr>\n",
       "        <tr>\n",
       "            <td>1   </td> <td>100 </td> <td>13618</td>\n",
       "        </tr>\n",
       "        <tr>\n",
       "            <td>2   </td> <td>99  </td> <td>32517</td>\n",
       "        </tr>\n",
       "        <tr>\n",
       "            <td>1   </td> <td>99  </td> <td>8951 </td>\n",
       "        </tr>\n",
       "        <tr>\n",
       "            <td>2   </td> <td>98  </td> <td>46208</td>\n",
       "        </tr>\n",
       "        <tr>\n",
       "            <td>1   </td> <td>98  </td> <td>13518</td>\n",
       "        </tr>\n",
       "        <tr>\n",
       "            <td>2   </td> <td>97  </td> <td>62779</td>\n",
       "        </tr>\n",
       "        <tr>\n",
       "            <td>1   </td> <td>97  </td> <td>20310</td>\n",
       "        </tr>\n",
       "        <tr>\n",
       "            <td>2   </td> <td>96  </td> <td>89432</td>\n",
       "        </tr>\n",
       "        <tr>\n",
       "            <td>1   </td> <td>96  </td> <td>31053</td>\n",
       "        </tr>\n",
       "    </tbody>\n",
       "</table>\n",
       "<p>... (192 rows omitted)</p>"
      ],
      "text/plain": [
       "SEX  | AGE  | 2014\n",
       "2    | 100  | 58008\n",
       "1    | 100  | 13618\n",
       "2    | 99   | 32517\n",
       "1    | 99   | 8951\n",
       "2    | 98   | 46208\n",
       "1    | 98   | 13518\n",
       "2    | 97   | 62779\n",
       "1    | 97   | 20310\n",
       "2    | 96   | 89432\n",
       "1    | 96   | 31053\n",
       "... (192 rows omitted)"
      ]
     },
     "execution_count": 8,
     "metadata": {},
     "output_type": "execute_result"
    }
   ],
   "source": [
    "# RUN THIS CELL\n",
    "us_pop_2014 = us_pop.where(\"SEX\", are.above(0)).where(\"AGE\", are.below(999)).drop(\"2010\")\n",
    "us_pop_2014_sorted = us_pop_2014.sort(\"AGE\", descending = True)\n",
    "us_pop_2014_sorted "
   ]
  },
  {
   "cell_type": "markdown",
   "metadata": {},
   "source": [
    "Remember, `tbl.take()` allows us to specify which row numbers of the above table we want to look at. Each row has an index like an array, which is the numbers we reference inside of `take(...)`"
   ]
  },
  {
   "cell_type": "code",
   "execution_count": null,
   "metadata": {
    "collapsed": true
   },
   "outputs": [],
   "source": [
    "# RUN THIS CELL\n",
    "us_pop_2014_sorted.take(0) "
   ]
  },
  {
   "cell_type": "markdown",
   "metadata": {},
   "source": [
    "This lets us look at just the first row of the table. (Remember, row numbers start with 0!)"
   ]
  },
  {
   "cell_type": "markdown",
   "metadata": {},
   "source": [
    "<div class=\"alert alert-warning\">\n",
    "<b>Question 6:</b> Fill in the blanks to only select population counts corresponding to males and females between ages <b> 98 - 100 </b>.**Hint: how many rows of the above table do we want?**\n",
    "   </div>\n",
    "   "
   ]
  },
  {
   "cell_type": "code",
   "execution_count": null,
   "metadata": {
    "collapsed": true
   },
   "outputs": [],
   "source": [
    "## YOUR CODE HERE\n",
    "seniors_2014 = us_pop_2014_sorted.take(np.arange(..., ...))\n",
    "seniors_2014"
   ]
  },
  {
   "cell_type": "code",
   "execution_count": 9,
   "metadata": {},
   "outputs": [
    {
     "data": {
      "text/html": [
       "<table border=\"1\" class=\"dataframe\">\n",
       "    <thead>\n",
       "        <tr>\n",
       "            <th>SEX</th> <th>AGE</th> <th>2014</th>\n",
       "        </tr>\n",
       "    </thead>\n",
       "    <tbody>\n",
       "        <tr>\n",
       "            <td>2   </td> <td>100 </td> <td>58008</td>\n",
       "        </tr>\n",
       "        <tr>\n",
       "            <td>1   </td> <td>100 </td> <td>13618</td>\n",
       "        </tr>\n",
       "        <tr>\n",
       "            <td>2   </td> <td>99  </td> <td>32517</td>\n",
       "        </tr>\n",
       "        <tr>\n",
       "            <td>1   </td> <td>99  </td> <td>8951 </td>\n",
       "        </tr>\n",
       "        <tr>\n",
       "            <td>2   </td> <td>98  </td> <td>46208</td>\n",
       "        </tr>\n",
       "        <tr>\n",
       "            <td>1   </td> <td>98  </td> <td>13518</td>\n",
       "        </tr>\n",
       "    </tbody>\n",
       "</table>"
      ],
      "text/plain": [
       "SEX  | AGE  | 2014\n",
       "2    | 100  | 58008\n",
       "1    | 100  | 13618\n",
       "2    | 99   | 32517\n",
       "1    | 99   | 8951\n",
       "2    | 98   | 46208\n",
       "1    | 98   | 13518"
      ]
     },
     "execution_count": 9,
     "metadata": {},
     "output_type": "execute_result"
    }
   ],
   "source": [
    "# ANSWER KEY\n",
    "seniors_2014 = us_pop_2014_sorted.take(np.arange(0,6)) ## YOUR CODE HERE\n",
    "seniors_2014"
   ]
  },
  {
   "cell_type": "markdown",
   "metadata": {},
   "source": [
    "<div class=\"alert alert-info\">\n",
    "<b>NOTE:</b> Another way to write this code is to use where. We only want AGES between 98 and 100.\n",
    "   </div>\n",
    "   "
   ]
  },
  {
   "cell_type": "code",
   "execution_count": 10,
   "metadata": {},
   "outputs": [
    {
     "data": {
      "text/html": [
       "<table border=\"1\" class=\"dataframe\">\n",
       "    <thead>\n",
       "        <tr>\n",
       "            <th>SEX</th> <th>AGE</th> <th>2014</th>\n",
       "        </tr>\n",
       "    </thead>\n",
       "    <tbody>\n",
       "        <tr>\n",
       "            <td>2   </td> <td>100 </td> <td>58008</td>\n",
       "        </tr>\n",
       "        <tr>\n",
       "            <td>1   </td> <td>100 </td> <td>13618</td>\n",
       "        </tr>\n",
       "        <tr>\n",
       "            <td>2   </td> <td>99  </td> <td>32517</td>\n",
       "        </tr>\n",
       "        <tr>\n",
       "            <td>1   </td> <td>99  </td> <td>8951 </td>\n",
       "        </tr>\n",
       "        <tr>\n",
       "            <td>2   </td> <td>98  </td> <td>46208</td>\n",
       "        </tr>\n",
       "        <tr>\n",
       "            <td>1   </td> <td>98  </td> <td>13518</td>\n",
       "        </tr>\n",
       "    </tbody>\n",
       "</table>"
      ],
      "text/plain": [
       "SEX  | AGE  | 2014\n",
       "2    | 100  | 58008\n",
       "1    | 100  | 13618\n",
       "2    | 99   | 32517\n",
       "1    | 99   | 8951\n",
       "2    | 98   | 46208\n",
       "1    | 98   | 13518"
      ]
     },
     "execution_count": 10,
     "metadata": {},
     "output_type": "execute_result"
    }
   ],
   "source": [
    "seniors_2014 = us_pop_2014_sorted.where(\"AGE\", are.between(98, 101)) \n",
    "seniors_2014"
   ]
  },
  {
   "cell_type": "markdown",
   "metadata": {},
   "source": [
    "<div class=\"alert alert-warning\">\n",
    "<b>Question 7:</b> What do you notice about the above table? \n",
    "   </div>"
   ]
  },
  {
   "cell_type": "markdown",
   "metadata": {},
   "source": [
    "<b> ANSWER: </b> ..."
   ]
  },
  {
   "cell_type": "markdown",
   "metadata": {},
   "source": [
    "<b> ANSWER: </b>\n",
    "   Notice the differences in population counts between males and females (more females than males in this age range) "
   ]
  },
  {
   "cell_type": "markdown",
   "metadata": {},
   "source": [
    "## Starting to Visualize  <a id='section 3'></a>"
   ]
  },
  {
   "cell_type": "markdown",
   "metadata": {},
   "source": [
    "To answer question 7, it would be easier to create a visualization using this table. Let's compare AGE versus the population in 2014."
   ]
  },
  {
   "cell_type": "markdown",
   "metadata": {},
   "source": [
    "In this case, \"AGE\" is acting like a categorical variable, while \"2014\" is a numerical variable. These are the two variables we need to make a bar chart. "
   ]
  },
  {
   "cell_type": "code",
   "execution_count": 11,
   "metadata": {},
   "outputs": [
    {
     "data": {
      "image/png": "[encoded data removed]",
      "text/plain": [
       "<Figure size 432x288 with 1 Axes>"
      ]
     },
     "metadata": {},
     "output_type": "display_data"
    }
   ],
   "source": [
    "## THIS CREATES A BAR CHART FOR AGE GROUPS AND THEIR POPULATION SIZE IN 2014\n",
    "seniors_2014.barh(\"AGE\", \"2014\")"
   ]
  },
  {
   "cell_type": "markdown",
   "metadata": {},
   "source": [
    "<div class=\"alert alert-warning\">\n",
    "<b>Question 8:</b> What do you notice about the chart? Why are there two of each type of AGE? \n",
    "   </div>"
   ]
  },
  {
   "cell_type": "markdown",
   "metadata": {},
   "source": [
    "<b> ANSWER: </b> ..."
   ]
  },
  {
   "cell_type": "markdown",
   "metadata": {},
   "source": [
    "<div class=\"alert alert-warning\">\n",
    "<b>Question 9:</b> How does the bar chart compare with the table called `seniors_2014`?\n",
    "   </div>\n"
   ]
  },
  {
   "cell_type": "markdown",
   "metadata": {},
   "source": [
    "<b> ANSWER: </b> ..."
   ]
  },
  {
   "cell_type": "markdown",
   "metadata": {},
   "source": [
    "## Optional question on `where(...)` and strings:  <a id='section 4'></a>\n",
    "\n",
    "If our original table had sex represented as text or a string, then we would have to use a different where expression to choose between males and females."
   ]
  },
  {
   "cell_type": "code",
   "execution_count": null,
   "metadata": {
    "collapsed": true,
    "scrolled": true
   },
   "outputs": [],
   "source": [
    "## THIS CODE ADDS THE STRING VERSION OF SEX IN A NEW COLUMN\n",
    "\n",
    "fem_str = females_pop.with_column(\"SEX (str)\" ,\"female\")\n",
    "male_str = males_pop.with_column(\"SEX (str)\" , \"male\")\n",
    "\n",
    "str_sex = fem_str.with_rows(male_str.rows).sort('AGE', descending=True)\n",
    "str_sex"
   ]
  },
  {
   "cell_type": "markdown",
   "metadata": {},
   "source": [
    "Let's try to only get rows with females. There are multiple ways to do this."
   ]
  },
  {
   "cell_type": "code",
   "execution_count": null,
   "metadata": {
    "collapsed": true
   },
   "outputs": [],
   "source": [
    "## OPTION 1: uses are.equal_to(...) to find rows where \"SEX (str)\" is equal to \"female\"\n",
    "str_sex.where(\"SEX (str)\", are.equal_to(\"female\"))"
   ]
  },
  {
   "cell_type": "code",
   "execution_count": null,
   "metadata": {
    "collapsed": true
   },
   "outputs": [],
   "source": [
    "## OPTION 2: uses the default argument of are.equal_to(...) \n",
    "## to find rows where \"SEX (str)\" is equal to \"female\"\n",
    "str_sex.where(\"SEX (str)\", \"female\")"
   ]
  },
  {
   "cell_type": "code",
   "execution_count": null,
   "metadata": {
    "collapsed": true
   },
   "outputs": [],
   "source": [
    "## OPTION 3: uses containing to find strings that \n",
    "## have the letters \"f\" and \"e\" inside in that order\n",
    "str_sex.where(\"SEX (str)\", are.containing(\"fe\"))"
   ]
  },
  {
   "cell_type": "code",
   "execution_count": null,
   "metadata": {
    "collapsed": true
   },
   "outputs": [],
   "source": [
    "## OPTION 4: uses below to find strings that come earlier \n",
    "## in the alphabet than the letter \"g\". \n",
    "## a is like 0 and z is like 26\n",
    "str_sex.where(\"SEX (str)\", are.below(\"g\"))"
   ]
  },
  {
   "cell_type": "markdown",
   "metadata": {},
   "source": [
    "See if you can come up with another way to create the table above using `are.not_equal_to(...)`"
   ]
  },
  {
   "cell_type": "code",
   "execution_count": null,
   "metadata": {
    "collapsed": true
   },
   "outputs": [],
   "source": [
    "str_sex.where(\"SEX (str)\", are.not_equal_to(...))"
   ]
  },
  {
   "cell_type": "markdown",
   "metadata": {},
   "source": [
    "---\n",
    "\n",
    "## Bibliography"
   ]
  },
  {
   "cell_type": "markdown",
   "metadata": {},
   "source": [
    "- John Denero - Data 8X, Census: Males and Females. https://www.youtube.com/watch?v=SAJavz58uHk&feature=youtu.be\n",
    "- Data 8 Spring 2020 - Lab 02. http://data8.org/sp20/"
   ]
  },
  {
   "cell_type": "markdown",
   "metadata": {},
   "source": [
    "---\n",
    "Notebook developed by: Alleanna, Ashley, Pratibha\n",
    "\n",
    "Data Science Modules: http://data.berkeley.edu/education/modules\n"
   ]
  }
 ],
 "metadata": {
  "anaconda-cloud": {},
  "kernelspec": {
   "display_name": "Python 3",
   "language": "python",
   "name": "python3"
  },
  "language_info": {
   "codemirror_mode": {
    "name": "ipython",
    "version": 3
   },
   "file_extension": ".py",
   "mimetype": "text/x-python",
   "name": "python",
   "nbconvert_exporter": "python",
   "pygments_lexer": "ipython3",
   "version": "3.6.8"
  }
 },
 "nbformat": 4,
 "nbformat_minor": 1
}
