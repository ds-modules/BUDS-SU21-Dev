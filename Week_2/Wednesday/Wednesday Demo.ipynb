{
 "cells": [
  {
   "cell_type": "code",
   "execution_count": 1,
   "metadata": {
    "collapsed": true
   },
   "outputs": [],
   "source": [
    "from datascience import *\n",
    "import numpy as np\n",
    "\n",
    "%matplotlib inline\n",
    "import matplotlib.pyplot as plots\n",
    "plots.style.use('fivethirtyeight')\n",
    "# Table.interactive_plots()"
   ]
  },
  {
   "cell_type": "code",
   "execution_count": 2,
   "metadata": {},
   "outputs": [
    {
     "data": {
      "text/html": [
       "<table border=\"1\" class=\"dataframe\">\n",
       "    <thead>\n",
       "        <tr>\n",
       "            <th>SEX</th> <th>AGE</th> <th>2010</th> <th>2014</th>\n",
       "        </tr>\n",
       "    </thead>\n",
       "    <tbody>\n",
       "        <tr>\n",
       "            <td>0   </td> <td>0   </td> <td>3951330</td> <td>3949775</td>\n",
       "        </tr>\n",
       "        <tr>\n",
       "            <td>1   </td> <td>0   </td> <td>2018420</td> <td>2020326</td>\n",
       "        </tr>\n",
       "        <tr>\n",
       "            <td>2   </td> <td>0   </td> <td>1932910</td> <td>1929449</td>\n",
       "        </tr>\n",
       "        <tr>\n",
       "            <td>0   </td> <td>1   </td> <td>3957888</td> <td>3949776</td>\n",
       "        </tr>\n",
       "        <tr>\n",
       "            <td>1   </td> <td>1   </td> <td>2020332</td> <td>2018401</td>\n",
       "        </tr>\n",
       "        <tr>\n",
       "            <td>2   </td> <td>1   </td> <td>1937556</td> <td>1931375</td>\n",
       "        </tr>\n",
       "        <tr>\n",
       "            <td>0   </td> <td>2   </td> <td>4090862</td> <td>3959664</td>\n",
       "        </tr>\n",
       "        <tr>\n",
       "            <td>1   </td> <td>2   </td> <td>2088685</td> <td>2023673</td>\n",
       "        </tr>\n",
       "        <tr>\n",
       "            <td>2   </td> <td>2   </td> <td>2002177</td> <td>1935991</td>\n",
       "        </tr>\n",
       "        <tr>\n",
       "            <td>0   </td> <td>3   </td> <td>4111920</td> <td>4007079</td>\n",
       "        </tr>\n",
       "    </tbody>\n",
       "</table>\n",
       "<p>... (296 rows omitted)</p>"
      ],
      "text/plain": [
       "SEX  | AGE  | 2010    | 2014\n",
       "0    | 0    | 3951330 | 3949775\n",
       "1    | 0    | 2018420 | 2020326\n",
       "2    | 0    | 1932910 | 1929449\n",
       "0    | 1    | 3957888 | 3949776\n",
       "1    | 1    | 2020332 | 2018401\n",
       "2    | 1    | 1937556 | 1931375\n",
       "0    | 2    | 4090862 | 3959664\n",
       "1    | 2    | 2088685 | 2023673\n",
       "2    | 2    | 2002177 | 1935991\n",
       "0    | 3    | 4111920 | 4007079\n",
       "... (296 rows omitted)"
      ]
     },
     "execution_count": 2,
     "metadata": {},
     "output_type": "execute_result"
    }
   ],
   "source": [
    "data = 'http://www2.census.gov/programs-surveys/popest/datasets/2010-2015/national/asrh/nc-est2015-agesex-res.csv'\n",
    "\n",
    "# A local copy can be accessed here in case census.gov moves the file:\n",
    "# data = path_data + 'nc-est2015-agesex-res.csv'\n",
    "\n",
    "full_census_table = Table.read_table(data)\n",
    "partial_census_table = full_census_table.select('SEX', 'AGE', 'POPESTIMATE2010', 'POPESTIMATE2014')\n",
    "us_pop = partial_census_table.relabeled('POPESTIMATE2010', '2010').relabeled('POPESTIMATE2014', '2014')\n",
    "us_pop.sort('AGE')"
   ]
  },
  {
   "cell_type": "code",
   "execution_count": 14,
   "metadata": {},
   "outputs": [
    {
     "name": "stdout",
     "output_type": "stream",
     "text": [
      "Minimum population by age and sex: 0\n",
      "Average population by age and sex: 59.3039215686\n",
      "Maximum population by age and sex: 999\n"
     ]
    }
   ],
   "source": [
    "ages = us_pop.column(\"AGE\")\n",
    "print(\"Minimum population by age and sex:\", min(ages))\n",
    "print(\"Average population by age and sex:\", np.average(ages))\n",
    "print(\"Maximum population by age and sex:\", max(ages))\n"
   ]
  },
  {
   "cell_type": "code",
   "execution_count": 11,
   "metadata": {},
   "outputs": [
    {
     "name": "stdout",
     "output_type": "stream",
     "text": [
      "Minimum population by age and sex: 6104\n",
      "Average population by age and sex: 4043749.84314\n",
      "Maximum population by age and sex: 309346863\n"
     ]
    }
   ],
   "source": [
    "twenty_ten = us_pop.column(\"2010\")\n",
    "print(\"Minimum population by age and sex:\", min(twenty_ten))\n",
    "print(\"Average population by age and sex:\", np.average(twenty_ten))\n",
    "print(\"Maximum population by age and sex:\", max(twenty_ten))"
   ]
  },
  {
   "cell_type": "code",
   "execution_count": 13,
   "metadata": {},
   "outputs": [
    {
     "name": "stdout",
     "output_type": "stream",
     "text": [
      "Minimum population by age and sex: 8951\n",
      "Average population by age and sex: 4168724.19608\n",
      "Maximum population by age and sex: 318907401\n"
     ]
    }
   ],
   "source": [
    "twenty_fourteen = us_pop.column(\"2014\")\n",
    "print(\"Minimum population by age and sex:\", min(twenty_fourteen))\n",
    "print(\"Average population by age and sex:\", np.average(twenty_fourteen))\n",
    "print(\"Maximum population by age and sex:\", max(twenty_fourteen))"
   ]
  },
  {
   "cell_type": "code",
   "execution_count": null,
   "metadata": {
    "collapsed": true
   },
   "outputs": [],
   "source": []
  }
 ],
 "metadata": {
  "kernelspec": {
   "display_name": "Python 3",
   "language": "python",
   "name": "python3"
  },
  "language_info": {
   "codemirror_mode": {
    "name": "ipython",
    "version": 3
   },
   "file_extension": ".py",
   "mimetype": "text/x-python",
   "name": "python",
   "nbconvert_exporter": "python",
   "pygments_lexer": "ipython3",
   "version": "3.6.8"
  }
 },
 "nbformat": 4,
 "nbformat_minor": 2
}
