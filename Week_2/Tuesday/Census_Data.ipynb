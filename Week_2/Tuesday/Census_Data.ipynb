{
 "cells": [
  {
   "cell_type": "markdown",
   "metadata": {},
   "source": [
    "# BUDS Report 6: Census Data"
   ]
  },
  {
   "cell_type": "code",
   "execution_count": null,
   "metadata": {},
   "outputs": [],
   "source": [
    "# Just run this cell to load the dependencies\n",
    "from datascience import *\n",
    "import numpy as np\n",
    "\n",
    "#Plotting dependencies\n",
    "import matplotlib.pyplot as plt\n",
    "plt.style.use(\"fivethirtyeight\")\n",
    "%matplotlib inline"
   ]
  },
  {
   "cell_type": "markdown",
   "metadata": {},
   "source": [
    "## Table of Contents\n",
    "1.  <a href='#section 1'>Background Knowledge</a>\n",
    "\n",
    "    a. <a href='#section 1a'>What is the Census?</a>\n",
    "\n",
    "    b. <a href='#subsection 1b'> Why is the Census important?</a>\n",
    "    \n",
    "\n",
    "2.  <a href='#section 2'>Formulating a Question or Problem</a> \n",
    "\n",
    "\n",
    "3.  <a href='#section 3'>Acquiring and Cleaning Data</a>\n",
    "\n",
    "    </a>\n",
    "<br><br>"
   ]
  },
  {
   "cell_type": "markdown",
   "metadata": {},
   "source": [
    "# 1. Background Knowledge  <a id='section 1'></a>"
   ]
  },
  {
   "cell_type": "markdown",
   "metadata": {},
   "source": [
    "### What is the Census? <a id='subsection 1a'></a>\n",
    "\n",
    "The U.S Census Bureau is a government agency founded in 1902 and is responsible for collecting and maintaining data regarding the American people and economy. The 2020 Census will count every person in the United States and the 5 territories. The Constitution mandates the country counts the population every 10 years.\n",
    "\n",
    "More information can be found https://2020census.gov/en/what-is-2020-census.html"
   ]
  },
  {
   "cell_type": "markdown",
   "metadata": {},
   "source": [
    "<div class=\"alert alert-info\">\n",
    "<b>Question:</b> Who is included in the census?\n",
    "   </div>"
   ]
  },
  {
   "cell_type": "markdown",
   "metadata": {},
   "source": [
    "[Insert answer here]"
   ]
  },
  {
   "cell_type": "markdown",
   "metadata": {},
   "source": [
    "<div class=\"alert alert-info\">\n",
    "<b>Question:</b> Take a few minutes to look up some information about the Census. Provide 3 things you found interesting and the link in which you found them.\n",
    "   </div>"
   ]
  },
  {
   "cell_type": "markdown",
   "metadata": {},
   "source": [
    "**Interesting Insights**\n",
    "1. \n",
    "\n",
    "2. \n",
    "\n",
    "3. \n",
    "\n",
    "**LINK:**"
   ]
  },
  {
   "cell_type": "markdown",
   "metadata": {},
   "source": [
    "### Why is the Census important? <a id='subsection 1b'></a>"
   ]
  },
  {
   "cell_type": "markdown",
   "metadata": {},
   "source": [
    "<div class=\"alert alert-info\">\n",
    "<b>Question:</b> The Census informs lawmakers and other officials make decisions and allocate resources. What are some of the resources/decisions the Census informs?\n",
    "   </div>"
   ]
  },
  {
   "cell_type": "markdown",
   "metadata": {},
   "source": [
    "[Insert answer here]"
   ]
  },
  {
   "cell_type": "markdown",
   "metadata": {},
   "source": [
    "# 2. Formulating a Question or Problem  <a id='section 2'></a>"
   ]
  },
  {
   "cell_type": "markdown",
   "metadata": {},
   "source": [
    "Now that we have done some investigation into the census, it is time to come up with a few questions that we could investigate about the Census (*using data*)! Here are a few prompts to get you started:\n",
    "\n",
    ">1. Have there been changes in the population over time? \n",
    "2. Do certain states have different demographics?\n",
    "3. Are there trends based on gender or age that we can look at?"
   ]
  },
  {
   "cell_type": "markdown",
   "metadata": {},
   "source": [
    "<div class=\"alert alert-info\">\n",
    "<b>Question:</b> From the preliminary research, think of a few questions you would ask.\n",
    "   </div>"
   ]
  },
  {
   "cell_type": "markdown",
   "metadata": {},
   "source": [
    "**Potential Questions**\n",
    "1. \n",
    "\n",
    "2. \n",
    "\n",
    "3. "
   ]
  },
  {
   "cell_type": "markdown",
   "metadata": {},
   "source": [
    "# 3. Acquiring and Cleaning Data <a id='section 3'></a>\n",
    "\n",
    "Let's look at the 2010 Census data so that we can start on the **Data Acquisiton & Cleaning** phase of the Data Science Life Cycle.\n",
    "\n",
    "Run the following cell to load in the dataset and go through the process of cleaning. Cleaning data makes it more usable and easier to read. It can include identifying missing values, changing column names, or changing the data types of the elements of a column in order to work with it better "
   ]
  },
  {
   "cell_type": "code",
   "execution_count": null,
   "metadata": {},
   "outputs": [],
   "source": [
    "# As of Jan 2017, this census file is online here: \n",
    "data = 'http://www2.census.gov/programs-surveys/popest/datasets/2010-2015/national/asrh/nc-est2015-agesex-res.csv'\n",
    "\n",
    "full_census_table = Table.read_table(data)\n",
    "full_census_table"
   ]
  },
  {
   "cell_type": "markdown",
   "metadata": {},
   "source": [
    "Only the first 10 rows of the table are displayed. Later we will see how to display the entire table; however, this is typically not useful with large tables.\n",
    "\n",
    "A [description of the table](http://www2.census.gov/programs-surveys/popest/datasets/2010-2015/national/asrh/nc-est2015-agesex-res.pdf) appears online. The `SEX` column contains numeric codes: `0` stands for the total, `1` for male, and `2` for female. The `AGE` column contains ages in completed years, but the special value `999` is a sum of the total population. The rest of the columns contain estimates of the US population.\n",
    "\n",
    "Let's take a subset of the full data set so that it becomes more wieldy for our investigation. "
   ]
  },
  {
   "cell_type": "code",
   "execution_count": null,
   "metadata": {},
   "outputs": [],
   "source": [
    "partial_census_table = full_census_table.select('SEX', 'AGE', 'POPESTIMATE2010', 'POPESTIMATE2014')\n",
    "partial_census_table"
   ]
  },
  {
   "cell_type": "markdown",
   "metadata": {},
   "source": [
    "<div class=\"alert alert-info\">\n",
    "<b>Question:</b> What do you notice about the column names? What does the 0 stand for in the 'SEX' column?\n",
    "   </div>"
   ]
  },
  {
   "cell_type": "markdown",
   "metadata": {},
   "source": [
    "[Insert Answer Here]"
   ]
  },
  {
   "cell_type": "markdown",
   "metadata": {},
   "source": [
    "Because we are working with Census data, it seems a bit redundant to call each column `POPESTIMATE`. To clean this up, let's change the `POPESTIMATE2010` to `2010` in order to make it easier to read and use in future analysis."
   ]
  },
  {
   "cell_type": "code",
   "execution_count": null,
   "metadata": {},
   "outputs": [],
   "source": [
    "us_pop_relabel = partial_census_table.relabel('POPESTIMATE2010', '2010')\n",
    "us_pop_relabel"
   ]
  },
  {
   "cell_type": "markdown",
   "metadata": {},
   "source": [
    "<div class=\"alert alert-info\">\n",
    "    <b>Question:</b> Set us_pop to a table where both columns are relabeled. \n",
    "     <b>HINT:</b> use the table method <code>.relabel</code>\n",
    "   </div>"
   ]
  },
  {
   "cell_type": "code",
   "execution_count": null,
   "metadata": {},
   "outputs": [],
   "source": [
    "us_pop = us_pop_relabel....\n",
    "us_pop"
   ]
  },
  {
   "cell_type": "markdown",
   "metadata": {},
   "source": [
    "We now have a table that is easy to work with. Each column of the table is an array of the same length, and so columns can be combined using arithmetic. We can use the `.column` table method to get each column as an array."
   ]
  },
  {
   "cell_type": "markdown",
   "metadata": {},
   "source": [
    "<div class=\"alert alert-info\">\n",
    "    <b>Question:</b> Calculate the population difference between 2010 and 2014 for each row. Save the result to a variable called <code>pop_diff_array</code>\n",
    "   </div>"
   ]
  },
  {
   "cell_type": "code",
   "execution_count": null,
   "metadata": {},
   "outputs": [],
   "source": [
    "... = ...\n",
    "pop_diff_array"
   ]
  },
  {
   "cell_type": "markdown",
   "metadata": {},
   "source": [
    "### Congratulations! You've finished *Report 5: Census Data*"
   ]
  }
 ],
 "metadata": {
  "kernelspec": {
   "display_name": "Python 3",
   "language": "python",
   "name": "python3"
  },
  "language_info": {
   "codemirror_mode": {
    "name": "ipython",
    "version": 3
   },
   "file_extension": ".py",
   "mimetype": "text/x-python",
   "name": "python",
   "nbconvert_exporter": "python",
   "pygments_lexer": "ipython3",
   "version": "3.7.4"
  }
 },
 "nbformat": 4,
 "nbformat_minor": 4
}
