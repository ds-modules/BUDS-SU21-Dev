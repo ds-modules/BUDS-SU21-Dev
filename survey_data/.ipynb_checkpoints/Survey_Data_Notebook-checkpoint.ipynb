{
 "cells": [
  {
   "cell_type": "markdown",
   "metadata": {},
   "source": [
    "# An Investigation on Survey Data"
   ]
  },
  {
   "cell_type": "markdown",
   "metadata": {},
   "source": [
    "<img src=\"images/surveypic.png\" width=\"550\"/>\n",
    "\n",
    "*Source: Survey Legend*"
   ]
  },
  {
   "cell_type": "markdown",
   "metadata": {},
   "source": [
    "#### I. Background \n",
    "Believe it or not, we have encountered many surveys in our day to day lives. From the nation-wide census to airport bathroom satisfaction reports, surveys are a natural gauge of feedback for any topic. \n",
    "\n",
    "During a year of unprecedented struggles, it is important now more than ever to elicit feedback and understand the current state of affairs. In the US, a nonpartisan think tank, the **[Pew Research Center](https://www.pewresearch.org/about/)** , has taken on this role, surveying millions of Americans in an effort to understand public attitude regarding current issues and relevant topics. In 2015, the Pew Research Center, PRC for short, conducted a survey aimed to understand the current youth generation's social media use. Below, we see its findings summarized in a *bar graph*. "
   ]
  },
  {
   "cell_type": "markdown",
   "metadata": {},
   "source": [
    "<img src=\"images/socialmedia.png\" width=\"300\"/>\n",
    "\n",
    "*Source: [Pew Research Center, Dating in the Digital Age](https://www.pewresearch.org/internet/interactives/online-romance/)*"
   ]
  },
  {
   "cell_type": "markdown",
   "metadata": {},
   "source": [
    "From the survey above, we see that social media has become a important aspect of flirting among teens. Though the bar chart may help reveal different insightful conclusions, it may also be a source of confusion. *How can the total percentage of teens in the graph surpass 100%*? \n",
    "\n",
    "Today, we'll dive into a 2020 PRC survey regarding climate change and investigate if today's division among supporters for climate change is due to age or political ideology. "
   ]
  },
  {
   "cell_type": "markdown",
   "metadata": {},
   "source": [
    "#### II. American Trends Panel (ATP)\n",
    "\n",
    "One surveyed population used by PRC is the American Trends Panel - a nationally representative panel of adults in the US randomly selected to complete web surveys. "
   ]
  },
  {
   "cell_type": "code",
   "execution_count": null,
   "metadata": {},
   "outputs": [],
   "source": []
  }
 ],
 "metadata": {
  "kernelspec": {
   "display_name": "Python 3",
   "language": "python",
   "name": "python3"
  },
  "language_info": {
   "codemirror_mode": {
    "name": "ipython",
    "version": 3
   },
   "file_extension": ".py",
   "mimetype": "text/x-python",
   "name": "python",
   "nbconvert_exporter": "python",
   "pygments_lexer": "ipython3",
   "version": "3.7.4"
  }
 },
 "nbformat": 4,
 "nbformat_minor": 4
}
