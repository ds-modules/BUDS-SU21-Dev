{
 "cells": [
  {
   "cell_type": "code",
   "execution_count": 1,
   "metadata": {},
   "outputs": [],
   "source": [
    "import pandas as pd\n",
    "import numpy as np\n",
    "from datascience import *\n",
    "from datascience import Table\n",
    "import matplotlib\n",
    "import scipy as sp"
   ]
  },
  {
   "cell_type": "markdown",
   "metadata": {},
   "source": [
    "# Air Quality"
   ]
  },
  {
   "cell_type": "markdown",
   "metadata": {},
   "source": [
    "## The Data Science Life Cycle - Table of Contents\n",
    "\n",
    "<a href='#section 0'>Background Knowledge</a>\n",
    "\n",
    "<a href='#subsection 1a'>Formulating a question or problem</a> \n",
    "\n",
    "<a href='#subsection 1b'>Acquiring and preparing data</a>\n",
    "\n",
    "<a href='#subsection 1c'>Conducting exploratory data analysis</a>\n",
    "\n",
    "<a href='#subsection 1d'>Using prediction and inference to draw conclusions</a>\n",
    "<br><br>"
   ]
  },
  {
   "cell_type": "markdown",
   "metadata": {},
   "source": [
    "## Background<a id='section 0'></a>"
   ]
  },
  {
   "cell_type": "markdown",
   "metadata": {},
   "source": [
    "In 2004, California introduced the Environmental Justice Action Plan, to study the impact of multiple pollution sources on California communities. \n",
    "\n",
    "While California has some of the strictest regulatory controls in the country, many communities in California struggle with a disproportionate share of environmental pollution. \n",
    "Some parts of the state are burdened by old industrial and agricultural practices, while others are close to\n",
    "trade corridors and suffer from high levels of air pollution. \n",
    " \n",
    "The California Environmental Protection Agency (CalEPA) and the California Office of Health Hazard Assessment (OEHHA)\n",
    "and the public developed the CalEnviroScreen project to help assess the impact of pollution on California Communities. \n"
   ]
  },
  {
   "cell_type": "markdown",
   "metadata": {},
   "source": [
    "## Formulating a question or problem <a id='subsection 1a'></a>\n",
    "\n",
    "It is important to ask questions that will be informative and that will avoid misleading results. There are many different questions we could ask about air pollution and health, for example, many researchers use data to examine the associations between pollution and health outcomes, such as asthma and cardiovascular disease."
   ]
  },
  {
   "cell_type": "markdown",
   "metadata": {},
   "source": [
    "<div class=\"alert alert-info\">\n",
    "<b>Question:</b> Take some time to formulate questions you have about pollution and the data you would need to answer the questions. In addition, add the link of an article you found interesting with a description an why it interested you. \n",
    "   </div>"
   ]
  },
  {
   "cell_type": "markdown",
   "metadata": {},
   "source": [
    "**Your questions:** *here*\n",
    "\n",
    "**Data you would need:** *here*\n",
    "\n",
    "\n",
    "**Article:** *link*"
   ]
  },
  {
   "cell_type": "markdown",
   "metadata": {},
   "source": [
    "## Acquiring and preparing data <a id='subsection 1b'></a>\n",
    "\n",
    "You will be looking at data from the website of the Office of Environmental Health Hazard Assessment. The Californai Environmental Screening project, CalEnviroScreen, provides data on air, water, and land pollution, e.g., ozone levels, airborne particulate matter, pesticides, traffic congestion. CalEnviroScreen, CES for short, has combined this information into a pollution  score. You can find raw data [here](https://oehha.ca.gov/calenviroscreen).\n",
    "\n",
    "The data provided here includes environmental and population information across different census tracts in California. Census tracts from the US Census Bureau (2010 census) represent small communities. The typical size of a census tract is around 4,000 people. "
   ]
  },
  {
   "cell_type": "code",
   "execution_count": 2,
   "metadata": {
    "scrolled": false
   },
   "outputs": [],
   "source": [
    "ces_data = Table.read_table(\"data/ces_data_v2.csv\")"
   ]
  },
  {
   "cell_type": "markdown",
   "metadata": {},
   "source": [
    "Here are some of the important fields in the dataset that you will focus on:\n",
    "\n",
    "|Column Name   | Description |\n",
    "|:---|:---|\n",
    "|Total.Population | Population |\n",
    "|California.County | County name |\n",
    "|Hispanic....| Percent of population that is Hispanic |\n",
    "|White.... | Precent of population that is non-Hispanic White |\n",
    "|African.American.... | Precent of population that is African American |\n",
    "|Ozone| Average daily maximum ozone concnetration (ppm) from May to October |\n",
    "|PM2.5 | Average concentration of fine particulate matter (micro-gram per meter cubed) |\n",
    "|Pesticides| Total pounds of active pesticide ingredients per square mile |\n",
    "|Traffic | Traffic density: vehicle-kilometers per hour divided by total road length (kilometers) within 150 meters of the census tract boundary |\n",
    "|Pollution.Burden | Pollution Burden scores for each census tract derived from exposures indicators (ozone and PM2.5 concentrations, diesel PM emissions, drinking water contaminants, pesticide use, toxic releases from facilities, and traffic density) and environmental effects indicators (cleanup sites, impaired water bodies, groundwater threats, hazardous waste facilities and generators, and solid waste sites and facilities) |\n",
    "|Asthma | Emergency department visits for asthma per 10,000 people |\n",
    "|Low.Birth.Weight | Percent of babies born weighing under 5.5 pounds |\n",
    "|Poverty | Percent of the population living below two times the federal poverty level |\n",
    "|Unemployment | Percent of the population over 16 that is unemployed and eligible for the labor force |"
   ]
  },
  {
   "cell_type": "markdown",
   "metadata": {},
   "source": [
    "Let's take a look at the data."
   ]
  },
  {
   "cell_type": "code",
   "execution_count": 3,
   "metadata": {},
   "outputs": [
    {
     "data": {
      "text/html": [
       "<table border=\"1\" class=\"dataframe\">\n",
       "    <thead>\n",
       "        <tr>\n",
       "            <th>Census.Tract</th> <th>CES.3.0.Score</th> <th>Total.Population</th> <th>California.County</th> <th>Hispanic....</th> <th>White....</th> <th>African.American....</th> <th>Native.American....</th> <th>Asian.American....</th> <th>Other....</th> <th>ZIP</th> <th>Longitude</th> <th>Latitude</th> <th>Ozone</th> <th>PM2.5</th> <th>Diesel.PM</th> <th>Drinking.Water</th> <th>Pesticides</th> <th>Tox..Release</th> <th>Traffic</th> <th>Cleanup.Sites</th> <th>Groundwater.Threats</th> <th>Haz..Waste</th> <th>Imp..Water.Bodies</th> <th>Solid.Waste</th> <th>Pollution.Burden</th> <th>Asthma</th> <th>Low.Birth.Weight</th> <th>Poverty</th> <th>Unemployment</th>\n",
       "        </tr>\n",
       "    </thead>\n",
       "    <tbody>\n",
       "        <tr>\n",
       "            <td>6019001100  </td> <td>94.09        </td> <td>3174            </td> <td>Fresno           </td> <td>65.3        </td> <td>4.2      </td> <td>24.6                </td> <td>0.5                </td> <td>3.5               </td> <td>1.8      </td> <td>93706</td> <td>-119.782 </td> <td>36.7097 </td> <td>0.065</td> <td>15.4 </td> <td>48.524   </td> <td>681.2         </td> <td>2.75      </td> <td>18552       </td> <td>909.14 </td> <td>80.5         </td> <td>45.75              </td> <td>0.795     </td> <td>0                </td> <td>21.75      </td> <td>79.96           </td> <td>131.64</td> <td>7.44            </td> <td>76.3   </td> <td>17.6        </td>\n",
       "        </tr>\n",
       "        <tr>\n",
       "            <td>6071001600  </td> <td>90.68        </td> <td>6133            </td> <td>San Bernardino   </td> <td>91.1        </td> <td>5.8      </td> <td>0.7                 </td> <td>0.3                </td> <td>1.4               </td> <td>0.7      </td> <td>91761</td> <td>-117.618 </td> <td>34.0578 </td> <td>0.062</td> <td>13.31</td> <td>38.556   </td> <td>904.66        </td> <td>1.37      </td> <td>7494.24     </td> <td>782.26 </td> <td>66.2         </td> <td>36                 </td> <td>1.25      </td> <td>5                </td> <td>12         </td> <td>81.19           </td> <td>60.66 </td> <td>7.04            </td> <td>72.5   </td> <td>12.3        </td>\n",
       "        </tr>\n",
       "        <tr>\n",
       "            <td>6019000200  </td> <td>85.97        </td> <td>3167            </td> <td>Fresno           </td> <td>63.6        </td> <td>5.3      </td> <td>18.9                </td> <td>0.6                </td> <td>9.8               </td> <td>1.8      </td> <td>93706</td> <td>-119.806 </td> <td>36.7355 </td> <td>0.062</td> <td>15.4 </td> <td>47.445   </td> <td>681.2         </td> <td>3.03      </td> <td>12454.9     </td> <td>576.52 </td> <td>22           </td> <td>30.25              </td> <td>0.2       </td> <td>0                </td> <td>2.5        </td> <td>71.16           </td> <td>142.12</td> <td>10.16           </td> <td>86.8   </td> <td>16.1        </td>\n",
       "        </tr>\n",
       "        <tr>\n",
       "            <td>6077000801  </td> <td>82.49        </td> <td>6692            </td> <td>San Joaquin      </td> <td>57.4        </td> <td>6        </td> <td>12.5                </td> <td>0.3                </td> <td>20.9              </td> <td>2.8      </td> <td>95203</td> <td>-121.315 </td> <td>37.9405 </td> <td>0.046</td> <td>12.54</td> <td>24.117   </td> <td>278.76        </td> <td>12.93     </td> <td>2387.78     </td> <td>1305.01</td> <td>50.1         </td> <td>132.1              </td> <td>0.795     </td> <td>19               </td> <td>27         </td> <td>74.48           </td> <td>142.17</td> <td>6.23            </td> <td>61.3   </td> <td>19.6        </td>\n",
       "        </tr>\n",
       "        <tr>\n",
       "            <td>6019001500  </td> <td>82.03        </td> <td>2206            </td> <td>Fresno           </td> <td>71.8        </td> <td>21.4     </td> <td>1.2                 </td> <td>0.5                </td> <td>4.5               </td> <td>0.6      </td> <td>93725</td> <td>-119.718 </td> <td>36.6816 </td> <td>0.065</td> <td>15.4 </td> <td>18.846   </td> <td>1000.24       </td> <td>3518.41   </td> <td>21790.7     </td> <td>435.16 </td> <td>60           </td> <td>54.2               </td> <td>13.1      </td> <td>0                </td> <td>50.8       </td> <td>80.2            </td> <td>90.48 </td> <td>4.5             </td> <td>66.4   </td> <td>18.6        </td>\n",
       "        </tr>\n",
       "        <tr>\n",
       "            <td>6037204920  </td> <td>80.73        </td> <td>2598            </td> <td>Los Angeles      </td> <td>98.1        </td> <td>1.2      </td> <td>0.1                 </td> <td>0.1                </td> <td>0.2               </td> <td>0.3      </td> <td>90023</td> <td>-118.197 </td> <td>34.0175 </td> <td>0.046</td> <td>12.89</td> <td>56.52    </td> <td>714.48        </td> <td>0         </td> <td>39040.2     </td> <td>2943.44</td> <td>36.7         </td> <td>25                 </td> <td>4.93      </td> <td>7                </td> <td>3.85       </td> <td>76.73           </td> <td>68.74 </td> <td>7.35            </td> <td>66.4   </td> <td>11.6        </td>\n",
       "        </tr>\n",
       "        <tr>\n",
       "            <td>6077000300  </td> <td>80.18        </td> <td>2396            </td> <td>San Joaquin      </td> <td>51.8        </td> <td>16.4     </td> <td>16.4                </td> <td>1.3                </td> <td>9.9               </td> <td>4.1      </td> <td>95203</td> <td>-121.302 </td> <td>37.9524 </td> <td>0.046</td> <td>13.44</td> <td>21.76    </td> <td>278.76        </td> <td>172.49    </td> <td>707.536     </td> <td>885.52 </td> <td>89.7         </td> <td>149.05             </td> <td>0.135     </td> <td>14               </td> <td>2.3        </td> <td>68.27           </td> <td>169.56</td> <td>8.36            </td> <td>76.2   </td> <td>14.4        </td>\n",
       "        </tr>\n",
       "        <tr>\n",
       "            <td>6019001000  </td> <td>80.13        </td> <td>4106            </td> <td>Fresno           </td> <td>52.7        </td> <td>2.7      </td> <td>28.7                </td> <td>0.4                </td> <td>14.3              </td> <td>1.2      </td> <td>93706</td> <td>-119.804 </td> <td>36.6978 </td> <td>0.065</td> <td>15.4 </td> <td>20.848   </td> <td>788.02        </td> <td>1435.93   </td> <td>6996.96     </td> <td>243.54 </td> <td>15.45        </td> <td>20                 </td> <td>0         </td> <td>0                </td> <td>10         </td> <td>66.88           </td> <td>142.28</td> <td>7.83            </td> <td>74.5   </td> <td>20          </td>\n",
       "        </tr>\n",
       "        <tr>\n",
       "            <td>6037206050  </td> <td>79.03        </td> <td>2146            </td> <td>Los Angeles      </td> <td>79.3        </td> <td>8.9      </td> <td>4.1                 </td> <td>0.1                </td> <td>7.2               </td> <td>0.5      </td> <td>90023</td> <td>-118.224 </td> <td>34.0299 </td> <td>0.046</td> <td>12.89</td> <td>53.958   </td> <td>664.07        </td> <td>0         </td> <td>10378.2     </td> <td>2810.82</td> <td>36.05        </td> <td>16.25              </td> <td>10.025    </td> <td>7                </td> <td>22.1       </td> <td>77.09           </td> <td>58.03 </td> <td>6.71            </td> <td>75.7   </td> <td>28.5        </td>\n",
       "        </tr>\n",
       "        <tr>\n",
       "            <td>6019000400  </td> <td>78.53        </td> <td>6343            </td> <td>Fresno           </td> <td>78          </td> <td>9.1      </td> <td>5.8                 </td> <td>0.8                </td> <td>5.3               </td> <td>0.9      </td> <td>93721</td> <td>-119.776 </td> <td>36.7277 </td> <td>0.065</td> <td>15.4 </td> <td>54.356   </td> <td>681.2         </td> <td>114.96    </td> <td>125384      </td> <td>815.36 </td> <td>15.95        </td> <td>13.5               </td> <td>0.755     </td> <td>0                </td> <td>0.5        </td> <td>73.89           </td> <td>107.8 </td> <td>4.79            </td> <td>83.4   </td> <td>23.5        </td>\n",
       "        </tr>\n",
       "        <tr>\n",
       "            <td>6099002100  </td> <td>78.52        </td> <td>4165            </td> <td>Stanislaus       </td> <td>66.5        </td> <td>25.6     </td> <td>2.4                 </td> <td>0.9                </td> <td>2.2               </td> <td>2.5      </td> <td>95354</td> <td>-120.967 </td> <td>37.6288 </td> <td>0.053</td> <td>12.89</td> <td>24.585   </td> <td>826.14        </td> <td>14.38     </td> <td>1033.8      </td> <td>606.03 </td> <td>30           </td> <td>9.55               </td> <td>2.62      </td> <td>7                </td> <td>3.5        </td> <td>71.92           </td> <td>94.54 </td> <td>5.37            </td> <td>78.3   </td> <td>19.3        </td>\n",
       "        </tr>\n",
       "        <tr>\n",
       "            <td>6029002500  </td> <td>78.41        </td> <td>9122            </td> <td>Kern             </td> <td>76.7        </td> <td>5.1      </td> <td>15.9                </td> <td>0.7                </td> <td>0.4               </td> <td>1.2      </td> <td>93307</td> <td>-118.992 </td> <td>35.3373 </td> <td>0.065</td> <td>19.18</td> <td>20.42    </td> <td>1041.62       </td> <td>3.47      </td> <td>49.7082     </td> <td>675.16 </td> <td>42.4         </td> <td>46.25              </td> <td>10.26     </td> <td>0                </td> <td>13.6       </td> <td>70.64           </td> <td>89.83 </td> <td>6.28            </td> <td>73.8   </td> <td>28.5        </td>\n",
       "        </tr>\n",
       "    </tbody>\n",
       "</table>\n",
       "<p>... (8023 rows omitted)</p>"
      ],
      "text/plain": [
       "<IPython.core.display.HTML object>"
      ]
     },
     "metadata": {},
     "output_type": "display_data"
    }
   ],
   "source": [
    "ces_data.show(12)"
   ]
  },
  {
   "cell_type": "markdown",
   "metadata": {},
   "source": [
    "<div class=\"alert alert-info\">\n",
    "<b>Question:</b> We want to learn more about the dataset. First, how many total rows are in this table? \n",
    "</div>"
   ]
  },
  {
   "cell_type": "code",
   "execution_count": null,
   "metadata": {},
   "outputs": [],
   "source": [
    "ces_data..."
   ]
  },
  {
   "cell_type": "code",
   "execution_count": 4,
   "metadata": {},
   "outputs": [
    {
     "data": {
      "text/plain": [
       "8035"
      ]
     },
     "execution_count": 4,
     "metadata": {},
     "output_type": "execute_result"
    }
   ],
   "source": [
    "#KEY\n",
    "ces_data.num_rows"
   ]
  },
  {
   "cell_type": "markdown",
   "metadata": {},
   "source": [
    "**Your answer here:**"
   ]
  },
  {
   "cell_type": "markdown",
   "metadata": {},
   "source": [
    "<div class=\"alert alert-info\">\n",
    "<b>Question:</b> What does each row represent?\n",
    "   </div>  "
   ]
  },
  {
   "cell_type": "markdown",
   "metadata": {},
   "source": [
    "**Your answer here:**"
   ]
  },
  {
   "cell_type": "markdown",
   "metadata": {},
   "source": [
    "<div class=\"alert alert-info\">\n",
    "<b>Question:</b> This table has a column called Pollution Burden, which combines all of the pollution indicators into one score. For our initial analysis, we will keep this column and a few other pollution measures. We will ignore the rest. Which ones would you want to keep for your analysis?  \n",
    "</div>"
   ]
  },
  {
   "cell_type": "markdown",
   "metadata": {},
   "source": [
    "**Your answer here:**"
   ]
  },
  {
   "cell_type": "markdown",
   "metadata": {},
   "source": [
    "Part of **cleaning data** includes **renaming columns**, **reducing the table size to include only the columns of interest**, and **removing missing values**.  \n",
    "\n",
    "For our purposes, we will not be using the columns: `CES.3.0.Score`, `Country_Region`, `Latitude`, and `Longitude`. Next week, we will make maps, and then the columns `Latitude` and `Longitude` will be useful, but until then, drop them. \n",
    "\n",
    "Keep the column `Census.Tract` because it uniquely identifies the census tract.  Also keep `Pollution.Burden`, race columns, health indicators, and a few pollution indicators that you identified earlier.  "
   ]
  },
  {
   "cell_type": "markdown",
   "metadata": {},
   "source": [
    "<div class=\"alert alert-info\">\n",
    "<b>Question:</b> Fill the array \"cols_to_drop\" with the name of the columns we seek to remove from our dataset.\n",
    "   </div> "
   ]
  },
  {
   "cell_type": "code",
   "execution_count": null,
   "metadata": {},
   "outputs": [],
   "source": [
    "cols_to_drop = [\"...\", \"...\", \"...\", \"...\", \"...\", \"...\", \"...\", \"...\", \"...\", \"...\", \"...\", \"...\"]\n",
    "\n",
    "ces_data = ces_data.drop(cols_to_drop)\n",
    "\n",
    "ces_data.show(10)"
   ]
  },
  {
   "cell_type": "code",
   "execution_count": 5,
   "metadata": {},
   "outputs": [
    {
     "data": {
      "text/html": [
       "<table border=\"1\" class=\"dataframe\">\n",
       "    <thead>\n",
       "        <tr>\n",
       "            <th>Census.Tract</th> <th>Total.Population</th> <th>California.County</th> <th>Hispanic....</th> <th>White....</th> <th>African.American....</th> <th>Native.American....</th> <th>Asian.American....</th> <th>Other....</th> <th>Ozone</th> <th>PM2.5</th> <th>Pollution.Burden</th> <th>Asthma</th> <th>Low.Birth.Weight</th> <th>Poverty</th> <th>Unemployment</th>\n",
       "        </tr>\n",
       "    </thead>\n",
       "    <tbody>\n",
       "        <tr>\n",
       "            <td>6019001100  </td> <td>3174            </td> <td>Fresno           </td> <td>65.3        </td> <td>4.2      </td> <td>24.6                </td> <td>0.5                </td> <td>3.5               </td> <td>1.8      </td> <td>0.065</td> <td>15.4 </td> <td>79.96           </td> <td>131.64</td> <td>7.44            </td> <td>76.3   </td> <td>17.6        </td>\n",
       "        </tr>\n",
       "        <tr>\n",
       "            <td>6071001600  </td> <td>6133            </td> <td>San Bernardino   </td> <td>91.1        </td> <td>5.8      </td> <td>0.7                 </td> <td>0.3                </td> <td>1.4               </td> <td>0.7      </td> <td>0.062</td> <td>13.31</td> <td>81.19           </td> <td>60.66 </td> <td>7.04            </td> <td>72.5   </td> <td>12.3        </td>\n",
       "        </tr>\n",
       "        <tr>\n",
       "            <td>6019000200  </td> <td>3167            </td> <td>Fresno           </td> <td>63.6        </td> <td>5.3      </td> <td>18.9                </td> <td>0.6                </td> <td>9.8               </td> <td>1.8      </td> <td>0.062</td> <td>15.4 </td> <td>71.16           </td> <td>142.12</td> <td>10.16           </td> <td>86.8   </td> <td>16.1        </td>\n",
       "        </tr>\n",
       "        <tr>\n",
       "            <td>6077000801  </td> <td>6692            </td> <td>San Joaquin      </td> <td>57.4        </td> <td>6        </td> <td>12.5                </td> <td>0.3                </td> <td>20.9              </td> <td>2.8      </td> <td>0.046</td> <td>12.54</td> <td>74.48           </td> <td>142.17</td> <td>6.23            </td> <td>61.3   </td> <td>19.6        </td>\n",
       "        </tr>\n",
       "        <tr>\n",
       "            <td>6019001500  </td> <td>2206            </td> <td>Fresno           </td> <td>71.8        </td> <td>21.4     </td> <td>1.2                 </td> <td>0.5                </td> <td>4.5               </td> <td>0.6      </td> <td>0.065</td> <td>15.4 </td> <td>80.2            </td> <td>90.48 </td> <td>4.5             </td> <td>66.4   </td> <td>18.6        </td>\n",
       "        </tr>\n",
       "        <tr>\n",
       "            <td>6037204920  </td> <td>2598            </td> <td>Los Angeles      </td> <td>98.1        </td> <td>1.2      </td> <td>0.1                 </td> <td>0.1                </td> <td>0.2               </td> <td>0.3      </td> <td>0.046</td> <td>12.89</td> <td>76.73           </td> <td>68.74 </td> <td>7.35            </td> <td>66.4   </td> <td>11.6        </td>\n",
       "        </tr>\n",
       "        <tr>\n",
       "            <td>6077000300  </td> <td>2396            </td> <td>San Joaquin      </td> <td>51.8        </td> <td>16.4     </td> <td>16.4                </td> <td>1.3                </td> <td>9.9               </td> <td>4.1      </td> <td>0.046</td> <td>13.44</td> <td>68.27           </td> <td>169.56</td> <td>8.36            </td> <td>76.2   </td> <td>14.4        </td>\n",
       "        </tr>\n",
       "        <tr>\n",
       "            <td>6019001000  </td> <td>4106            </td> <td>Fresno           </td> <td>52.7        </td> <td>2.7      </td> <td>28.7                </td> <td>0.4                </td> <td>14.3              </td> <td>1.2      </td> <td>0.065</td> <td>15.4 </td> <td>66.88           </td> <td>142.28</td> <td>7.83            </td> <td>74.5   </td> <td>20          </td>\n",
       "        </tr>\n",
       "        <tr>\n",
       "            <td>6037206050  </td> <td>2146            </td> <td>Los Angeles      </td> <td>79.3        </td> <td>8.9      </td> <td>4.1                 </td> <td>0.1                </td> <td>7.2               </td> <td>0.5      </td> <td>0.046</td> <td>12.89</td> <td>77.09           </td> <td>58.03 </td> <td>6.71            </td> <td>75.7   </td> <td>28.5        </td>\n",
       "        </tr>\n",
       "        <tr>\n",
       "            <td>6019000400  </td> <td>6343            </td> <td>Fresno           </td> <td>78          </td> <td>9.1      </td> <td>5.8                 </td> <td>0.8                </td> <td>5.3               </td> <td>0.9      </td> <td>0.065</td> <td>15.4 </td> <td>73.89           </td> <td>107.8 </td> <td>4.79            </td> <td>83.4   </td> <td>23.5        </td>\n",
       "        </tr>\n",
       "    </tbody>\n",
       "</table>\n",
       "<p>... (8025 rows omitted)</p>"
      ],
      "text/plain": [
       "<IPython.core.display.HTML object>"
      ]
     },
     "metadata": {},
     "output_type": "display_data"
    }
   ],
   "source": [
    "#KEY\n",
    "cols_to_drop = [\"CES.3.0.Score\", \"ZIP\", \"Longitude\", \"Latitude\", \"Diesel.PM\", \"Drinking.Water\", \"Pesticides\", \n",
    "                \"Tox..Release\", \"Traffic\", \"Cleanup.Sites\", \"Groundwater.Threats\", \"Haz..Waste\", \n",
    "                \"Imp..Water.Bodies\", \"Solid.Waste\"]\n",
    "\n",
    "ces_data = ces_data.drop(cols_to_drop)\n",
    "\n",
    "ces_data.show(10)"
   ]
  },
  {
   "cell_type": "markdown",
   "metadata": {},
   "source": [
    "Let's give some of the remaining columns simpler, more meaningful names."
   ]
  },
  {
   "cell_type": "code",
   "execution_count": 6,
   "metadata": {},
   "outputs": [],
   "source": [
    "old_names = ['Census.Tract', 'Total.Population', 'California.County', 'Hispanic....', \"White....\", \n",
    "            'African.American....', 'Native.American....', \"Asian.American....\", 'Other....', 'Pollution.Burden',\n",
    "            'Low.Birth.Weight']\n",
    "new_names = ['Tract', 'Population', 'County', 'Hispanic', \"White\", 'Black', 'Native', \"Asian\", 'Other', 'Pollution',\n",
    "            'Low_Birthweight']"
   ]
  },
  {
   "cell_type": "code",
   "execution_count": 7,
   "metadata": {},
   "outputs": [],
   "source": [
    "ces_data = ces_data.relabel(old_names, new_names)"
   ]
  },
  {
   "cell_type": "code",
   "execution_count": 8,
   "metadata": {},
   "outputs": [
    {
     "data": {
      "text/html": [
       "<table border=\"1\" class=\"dataframe\">\n",
       "    <thead>\n",
       "        <tr>\n",
       "            <th>Tract</th> <th>Population</th> <th>County</th> <th>Hispanic</th> <th>White</th> <th>Black</th> <th>Native</th> <th>Asian</th> <th>Other</th> <th>Ozone</th> <th>PM2.5</th> <th>Pollution</th> <th>Asthma</th> <th>Low_Birthweight</th> <th>Poverty</th> <th>Unemployment</th>\n",
       "        </tr>\n",
       "    </thead>\n",
       "    <tbody>\n",
       "        <tr>\n",
       "            <td>6019001100</td> <td>3174      </td> <td>Fresno        </td> <td>65.3    </td> <td>4.2  </td> <td>24.6 </td> <td>0.5   </td> <td>3.5  </td> <td>1.8  </td> <td>0.065</td> <td>15.4 </td> <td>79.96    </td> <td>131.64</td> <td>7.44           </td> <td>76.3   </td> <td>17.6        </td>\n",
       "        </tr>\n",
       "        <tr>\n",
       "            <td>6071001600</td> <td>6133      </td> <td>San Bernardino</td> <td>91.1    </td> <td>5.8  </td> <td>0.7  </td> <td>0.3   </td> <td>1.4  </td> <td>0.7  </td> <td>0.062</td> <td>13.31</td> <td>81.19    </td> <td>60.66 </td> <td>7.04           </td> <td>72.5   </td> <td>12.3        </td>\n",
       "        </tr>\n",
       "        <tr>\n",
       "            <td>6019000200</td> <td>3167      </td> <td>Fresno        </td> <td>63.6    </td> <td>5.3  </td> <td>18.9 </td> <td>0.6   </td> <td>9.8  </td> <td>1.8  </td> <td>0.062</td> <td>15.4 </td> <td>71.16    </td> <td>142.12</td> <td>10.16          </td> <td>86.8   </td> <td>16.1        </td>\n",
       "        </tr>\n",
       "        <tr>\n",
       "            <td>6077000801</td> <td>6692      </td> <td>San Joaquin   </td> <td>57.4    </td> <td>6    </td> <td>12.5 </td> <td>0.3   </td> <td>20.9 </td> <td>2.8  </td> <td>0.046</td> <td>12.54</td> <td>74.48    </td> <td>142.17</td> <td>6.23           </td> <td>61.3   </td> <td>19.6        </td>\n",
       "        </tr>\n",
       "        <tr>\n",
       "            <td>6019001500</td> <td>2206      </td> <td>Fresno        </td> <td>71.8    </td> <td>21.4 </td> <td>1.2  </td> <td>0.5   </td> <td>4.5  </td> <td>0.6  </td> <td>0.065</td> <td>15.4 </td> <td>80.2     </td> <td>90.48 </td> <td>4.5            </td> <td>66.4   </td> <td>18.6        </td>\n",
       "        </tr>\n",
       "        <tr>\n",
       "            <td>6037204920</td> <td>2598      </td> <td>Los Angeles   </td> <td>98.1    </td> <td>1.2  </td> <td>0.1  </td> <td>0.1   </td> <td>0.2  </td> <td>0.3  </td> <td>0.046</td> <td>12.89</td> <td>76.73    </td> <td>68.74 </td> <td>7.35           </td> <td>66.4   </td> <td>11.6        </td>\n",
       "        </tr>\n",
       "        <tr>\n",
       "            <td>6077000300</td> <td>2396      </td> <td>San Joaquin   </td> <td>51.8    </td> <td>16.4 </td> <td>16.4 </td> <td>1.3   </td> <td>9.9  </td> <td>4.1  </td> <td>0.046</td> <td>13.44</td> <td>68.27    </td> <td>169.56</td> <td>8.36           </td> <td>76.2   </td> <td>14.4        </td>\n",
       "        </tr>\n",
       "        <tr>\n",
       "            <td>6019001000</td> <td>4106      </td> <td>Fresno        </td> <td>52.7    </td> <td>2.7  </td> <td>28.7 </td> <td>0.4   </td> <td>14.3 </td> <td>1.2  </td> <td>0.065</td> <td>15.4 </td> <td>66.88    </td> <td>142.28</td> <td>7.83           </td> <td>74.5   </td> <td>20          </td>\n",
       "        </tr>\n",
       "        <tr>\n",
       "            <td>6037206050</td> <td>2146      </td> <td>Los Angeles   </td> <td>79.3    </td> <td>8.9  </td> <td>4.1  </td> <td>0.1   </td> <td>7.2  </td> <td>0.5  </td> <td>0.046</td> <td>12.89</td> <td>77.09    </td> <td>58.03 </td> <td>6.71           </td> <td>75.7   </td> <td>28.5        </td>\n",
       "        </tr>\n",
       "        <tr>\n",
       "            <td>6019000400</td> <td>6343      </td> <td>Fresno        </td> <td>78      </td> <td>9.1  </td> <td>5.8  </td> <td>0.8   </td> <td>5.3  </td> <td>0.9  </td> <td>0.065</td> <td>15.4 </td> <td>73.89    </td> <td>107.8 </td> <td>4.79           </td> <td>83.4   </td> <td>23.5        </td>\n",
       "        </tr>\n",
       "    </tbody>\n",
       "</table>\n",
       "<p>... (8025 rows omitted)</p>"
      ],
      "text/plain": [
       "<IPython.core.display.HTML object>"
      ]
     },
     "metadata": {},
     "output_type": "display_data"
    }
   ],
   "source": [
    "ces_data.show(10)"
   ]
  },
  {
   "cell_type": "markdown",
   "metadata": {},
   "source": [
    "<div class=\"alert alert-info\"> \n",
    "<b>Question:</b> It's important to evalute our data source. What do you know about the CalEnviroScreen project? What motivations do they have for collecting this data? \n",
    "   </div>"
   ]
  },
  {
   "cell_type": "markdown",
   "metadata": {},
   "source": [
    "**Your answer here:**"
   ]
  },
  {
   "cell_type": "markdown",
   "metadata": {},
   "source": [
    "## Conducting exploratory data analysis <a id='subsection 1c'></a>"
   ]
  },
  {
   "cell_type": "markdown",
   "metadata": {},
   "source": [
    "Often when we begin our explorations, we first examine the distribution of key columns.\n",
    "\n",
    "We are interested in studying the impact of pollution on different communities in California. We might begin looking at the distribution of the pollution burden across all census tracts. \n",
    "\n",
    "Visualizations help us to see the distributions of values, and in particular histograms and bar charts are particulalry helpful. We use bar charts to examine the distribution of qualitative characteristics and histograms for \n",
    "numeric data. \n",
    "\n",
    "Also, the method of comparison is a common and powerful tool to help us understand the data. For example, we might want to compare the distribution of the pollution burden by race. \n",
    "\n",
    "Additionally, we might want to explore the relationship between the pollution burden and health indicators. How does an increase in pollution relate to rate of low birth weights or the incidence of asthma?  "
   ]
  },
  {
   "cell_type": "markdown",
   "metadata": {},
   "source": [
    "###  Distributions \n",
    "\n",
    "What does the distribution of pollution burden look like?\n",
    "\n",
    "ADD SOMETHING ABOUT WHY SYMMETRY IS GOOD."
   ]
  },
  {
   "cell_type": "markdown",
   "metadata": {},
   "source": [
    "<div class=\"alert alert-info\">\n",
    "<b>Question:</b> Create a histogram to visualize the pollution burden. Do the same for one of the health indicators, such as low birth weight or asthma.\n",
    "   </div>"
   ]
  },
  {
   "cell_type": "code",
   "execution_count": 9,
   "metadata": {},
   "outputs": [],
   "source": [
    "ces_data.select('Pollution').hist()"
   ]
  },
  {
   "cell_type": "code",
   "execution_count": null,
   "metadata": {},
   "outputs": [],
   "source": [
    "ces_data.hist('...')"
   ]
  },
  {
   "cell_type": "code",
   "execution_count": 10,
   "metadata": {},
   "outputs": [],
   "source": [
    "#KEY\n",
    "ces_data.hist('Asthma')"
   ]
  },
  {
   "cell_type": "markdown",
   "metadata": {},
   "source": [
    "<div class=\"alert alert-info\">\n",
    "<b>Question:</b> What is the shape of these histograms? Are they symmetric or skewed? Do they have one mode or two? \n",
    "    Describe each one in turn.\n",
    "   </div>"
   ]
  },
  {
   "cell_type": "markdown",
   "metadata": {},
   "source": [
    "**Your answer here**"
   ]
  },
  {
   "cell_type": "markdown",
   "metadata": {},
   "source": [
    "### Relationships\n",
    "\n",
    "Our instinct tells us that higher levels of pollution are most likely associated with health problems, but we cannot see this connection from histograms. We need to see how these two vary together."
   ]
  },
  {
   "cell_type": "markdown",
   "metadata": {},
   "source": [
    "<div class=\"alert alert-info\">\n",
    "<b>Question:</b> How does the prevalence of low birthweight babies vary with pollution levels?  Make a scatter plot with pollution on the x-axis. Describe the pattern that you see.\n",
    "   </div>"
   ]
  },
  {
   "cell_type": "code",
   "execution_count": null,
   "metadata": {},
   "outputs": [],
   "source": [
    "ces_data.scatter('...', '...', alpha = .16, s = 10)"
   ]
  },
  {
   "cell_type": "code",
   "execution_count": 11,
   "metadata": {},
   "outputs": [],
   "source": [
    "#KEY\n",
    "ces_data.scatter('Pollution', 'Low_Birthweight', alpha = .16, s = 10)"
   ]
  },
  {
   "cell_type": "markdown",
   "metadata": {},
   "source": [
    "**Your answer here.**"
   ]
  },
  {
   "cell_type": "markdown",
   "metadata": {},
   "source": [
    "<div class=\"alert alert-info\">\n",
    "<b>Question:</b> How do the pollution levels vary with race?  Make a scatter plot with pollution on the y-axis. Describe the pattern that you see.\n",
    "   </div>"
   ]
  },
  {
   "cell_type": "code",
   "execution_count": 34,
   "metadata": {},
   "outputs": [],
   "source": [
    "ces_data.scatter(\"...\", \"...\", alpha = .16, s = 10)"
   ]
  },
  {
   "cell_type": "code",
   "execution_count": 12,
   "metadata": {},
   "outputs": [],
   "source": [
    "#KEY\n",
    "\n",
    "ces_data.scatter(\"Hispanic\", \"Pollution\", alpha = .16, s = 10)"
   ]
  },
  {
   "cell_type": "markdown",
   "metadata": {},
   "source": [
    "**Your Answer Here**"
   ]
  },
  {
   "cell_type": "markdown",
   "metadata": {},
   "source": [
    "<div class=\"alert alert-info\">\n",
    "    <b>Question:</b> How does the prevalence of low birthweight babies vary with race?  Make a scatter plot with race on the x-axis. Describe the pattern that you see.\n",
    "   </div>"
   ]
  },
  {
   "cell_type": "code",
   "execution_count": 34,
   "metadata": {},
   "outputs": [],
   "source": [
    "ces_data.scatter(\"...\", \"...\", alpha = .16, s = 10)"
   ]
  },
  {
   "cell_type": "code",
   "execution_count": 13,
   "metadata": {},
   "outputs": [],
   "source": [
    "#KEY\n",
    "\n",
    "ces_data.scatter(\"Hispanic\", \"Low_Birthweight\", alpha = .16, s = 10)"
   ]
  },
  {
   "cell_type": "markdown",
   "metadata": {},
   "source": [
    "### Trends\n",
    "\n",
    "When we have a lot of data, it can be difficult to spot trends. In the scatter plots that you just made, we compensated for the large amount of data by making the plotting symbols smaller than usual (`s=10`) so that the symbols do not overlap as much. We also made the symbols slightly transparent (`alpha=.16`) so that when they do over plot they build in opaqueness to help us distinguish between more and less dense areas.\n",
    "\n",
    "Another approach to help reveal trends is to connect local averages. For example, for a particular percent Hispanic, we can plot the average pollution level. When we do this for many percentages then we can connect these averages to see the trend, i.e., how pollution levels vary on average with race. \n",
    "\n",
    "The code below adds a trend curve to the scatter plot."
   ]
  },
  {
   "cell_type": "code",
   "execution_count": null,
   "metadata": {},
   "outputs": [],
   "source": [
    "# CODE TO PLOT A TREND ON THE SCATTER PLOT"
   ]
  },
  {
   "cell_type": "markdown",
   "metadata": {},
   "source": [
    "<div class=\"alert alert-info\">\n",
    "    <b>Question:</b>Revisit the question: How do pollution levels vary with race? Describe the trend that you see.\n",
    "   </div>"
   ]
  },
  {
   "cell_type": "markdown",
   "metadata": {},
   "source": [
    "**Your answer here.**"
   ]
  },
  {
   "cell_type": "markdown",
   "metadata": {},
   "source": [
    "# Using prediction and inference to draw conclusions <a id='subsection 1a'></a>"
   ]
  },
  {
   "cell_type": "markdown",
   "metadata": {},
   "source": [
    "You have examined the relationship between:\n",
    "\n",
    "+ pollution levels and the prevalence of low birthweight babies \n",
    "+ the percent Hispanic and pollution levels\n",
    "+ prevalence of low birthweight babies and percent Hispanic \n",
    "\n",
    "With three variables, we can examine 3 scatter plots of the 3 pairs of variables. \n",
    "Ideally, we would like to visualize a 3-dimensional plot of all three variables at once."
   ]
  },
  {
   "cell_type": "markdown",
   "metadata": {},
   "source": [
    "### Comparisons\n",
    "\n",
    "The scatter plots with race on the x-axis showed a trend with a steep increase in pollution levels, up to about 10%, followed by a flattening out. We can use this insight to create a new variable that indicates whether the percent Hispanic is below or above 10%. Then, we can use this new variable to compare these two groups (above and below 10%). For instance, we can compare the distribution of pollution level for these two groups. We can even examine trends for these two groups. "
   ]
  },
  {
   "cell_type": "markdown",
   "metadata": {},
   "source": [
    "<div class=\"alert alert-info\">\n",
    "    <b>Question:</b> Create a new column called `Hispanic10` that has the value \"under 10%\" for those records where `Hispanic` is under 10% and \"over 10%\" otherwise.   POSSIBLY SKIP THE CREATION AND JUST SELECT THE GROUPS\n",
    "   </div>"
   ]
  },
  {
   "cell_type": "code",
   "execution_count": 88,
   "metadata": {},
   "outputs": [
    {
     "name": "stderr",
     "output_type": "stream",
     "text": [
      "/Users/nolan/anaconda3/envs/ds100v2/lib/python3.7/site-packages/ipykernel_launcher.py:3: RuntimeWarning: invalid value encountered in less\n",
      "  This is separate from the ipykernel package so we can avoid doing imports until\n"
     ]
    }
   ],
   "source": [
    "#KEY\n",
    "#What columns should be in the numerator or the denominator \n",
    "Hispanic10_array = ces_data.column('Hispanic') < 10\n",
    "\n",
    "#Create a new column called CASES_PER100K in our new table\n",
    "ces_data = ces_data.with_columns('Hispanic10', Hispanic10_array)\n",
    "\n",
    "# FIX TO BECOME String"
   ]
  },
  {
   "cell_type": "markdown",
   "metadata": {},
   "source": [
    "<div class=\"alert alert-info\">\n",
    "    <b>Question:</b> Overlay two histograms of pollution, one for census tracts where the percentage of Hispanics is below 10 and the other where the percentage exceeds 10.\n",
    "   </div>"
   ]
  },
  {
   "cell_type": "code",
   "execution_count": 14,
   "metadata": {},
   "outputs": [],
   "source": [
    "#KEY\n",
    "ces_data.where('Hispanic', are.above(9.99)).select('Pollution').hist(bins = range(5, 85))\n",
    "ces_data.where('Hispanic', are.below(10)).select('Pollution').hist(bins = range(5, 85))"
   ]
  },
  {
   "cell_type": "markdown",
   "metadata": {},
   "source": [
    "<div class=\"alert alert-info\">\n",
    "    <b>Question:</b> Overlay two trends on a scatter plot of pollution and low birthweight, one for census tracts where the percentage of Hispanics is below 10 and the other where the percentage exceeds 10.\n",
    "   </div>"
   ]
  },
  {
   "cell_type": "code",
   "execution_count": 15,
   "metadata": {},
   "outputs": [],
   "source": [
    "#KEY\n",
    "ces_data.where('Hispanic', are.above(9.99)).scatter('Pollution', 'Low_Birthweight')\n",
    "ces_data.where('Hispanic', are.below(10)).scatter('Pollution', 'Low_Birthweight')\n",
    "# ADD TWO TREND LINES\n",
    "# Make one scatterplot and color the points according to the variable..."
   ]
  },
  {
   "cell_type": "markdown",
   "metadata": {},
   "source": [
    "<div class=\"alert alert-info\">\n",
    "    <b>Question:</b> After examining these visualizations, tell us something interesting about these data. Tell us what you learned about the relationships between these three variables. \n",
    "Why might this be the case? How do you think can explain what you see?\n",
    "   </div>"
   ]
  },
  {
   "cell_type": "markdown",
   "metadata": {},
   "source": [
    "**Your answer here**"
   ]
  }
 ],
 "metadata": {
  "kernelspec": {
   "display_name": "Python 3",
   "language": "python",
   "name": "python3"
  },
  "language_info": {
   "codemirror_mode": {
    "name": "ipython",
    "version": 3
   },
   "file_extension": ".py",
   "mimetype": "text/x-python",
   "name": "python",
   "nbconvert_exporter": "python",
   "pygments_lexer": "ipython3",
   "version": "3.7.4"
  }
 },
 "nbformat": 4,
 "nbformat_minor": 2
}
