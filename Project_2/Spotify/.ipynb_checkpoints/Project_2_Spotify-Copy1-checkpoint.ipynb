{
 "cells": [
  {
   "cell_type": "code",
   "execution_count": 13,
   "metadata": {},
   "outputs": [],
   "source": [
    "import pandas as pd\n",
    "import numpy as np\n",
    "from datascience import *\n",
    "\n",
    "# Table.interactive()\n",
    "\n",
    "import matplotlib\n",
    "\n",
    "# from ipywidgets import interact, Dropdown\n",
    "\n",
    "%matplotlib inline\n",
    "import matplotlib.pyplot as plt\n",
    "import numpy as np\n",
    "plt.style.use('fivethirtyeight')"
   ]
  },
  {
   "cell_type": "markdown",
   "metadata": {},
   "source": [
    "# Project 2: Spotify"
   ]
  },
  {
   "cell_type": "markdown",
   "metadata": {},
   "source": [
    "## Table of Contents\n",
    "<a href='#section 0'>Background Knowledge: Topic</a>\n",
    "\n",
    "1.  <a href='#section 1'> The Data Science Life Cycle</a>\n",
    "\n",
    "    a. <a href='#subsection 1a'>Formulating a question or problem</a> \n",
    "\n",
    "    b. <a href='#subsection 1b'>Acquiring and cleaning data</a>\n",
    "\n",
    "    c. <a href='#subsection 1c'>Conducting exploratory data analysis</a>\n",
    "\n",
    "    d. <a href='#subsection 1d'>Using prediction and inference to draw conclusions</a>\n",
    "<br><br>"
   ]
  },
  {
   "cell_type": "markdown",
   "metadata": {},
   "source": [
    "### Background Knowledge <a id='section 0'></a>\n"
   ]
  },
  {
   "cell_type": "markdown",
   "metadata": {},
   "source": [
    "If you listen to music, chances are you use spotify or another similar streaming service. This new era of the music industry curates playlists, recommends new artists, and is based on the number of streams more than the number of albums sold. The way these streaming services do this is (you guessed it) data!"
   ]
  },
  {
   "cell_type": "markdown",
   "metadata": {},
   "source": [
    "<img src=\"images/spotify.png\" width = 700/>\n",
    "\n",
    "image found here: https://hrblog.spotify.com/2018/02/08/amping-up-diversity-inclusion-at-spotify/"
   ]
  },
  {
   "cell_type": "markdown",
   "metadata": {},
   "source": [
    "# The Data Science Life Cycle <a id='section 1'></a>"
   ]
  },
  {
   "cell_type": "markdown",
   "metadata": {},
   "source": [
    "## Formulating a question or problem <a id='subsection 1a'></a>\n",
    "It is important to ask questions that will be informative and can be answered using the data. There are many different questions we could ask about music data, for example, there are many artists who want to find out how to get their music on Spotify's Discover Weekly playlist in order to gain exposure."
   ]
  },
  {
   "cell_type": "markdown",
   "metadata": {},
   "source": [
    "<div class=\"alert alert-warning\">\n",
    "<b>Question:</b> Recall the questions you developed with your group on Tuesday. Write down that question below, and try to add on to it with the context from the articles from Wednesday. Think about what data you would need to answer your question. You can review the articles on the bCourses page under Module 4.3.\n",
    "   </div>"
   ]
  },
  {
   "cell_type": "markdown",
   "metadata": {},
   "source": [
    "Original Question(s): *here*\n",
    "\n",
    "\n",
    "Updated Question(s): *here*\n",
    "\n",
    "\n",
    "\n",
    "Data you would need: *here*\n"
   ]
  },
  {
   "cell_type": "markdown",
   "metadata": {},
   "source": [
    "## Acquiring and cleaning data <a id='subsection 1b'></a>\n",
    "\n",
    "We'll be looking at the data from Spotify. You can find the raw data [here](https://github.com/rfordatascience/tidytuesday/tree/master/data/2020/2020-01-21). We've cleaned up the datasets a bit, and we will be investigating the popularity and the qualities of songs from this dataset.\n",
    "\n",
    "The following table, `spotify`, contains a list of tracks identified by their unique song ID along with attributes about that track.\n",
    "\n",
    "Here are the desriptions of the columns for your reference. (We will not be using all of these fields):\n",
    "\n",
    "|Variable Name   | Description |\n",
    "|--------------|------------|\n",
    "|`track_id` | \tSong unique ID |\n",
    "|`track_name` | Song Name |\n",
    "|`track_artist\t`| Song Artist |\n",
    "|`track_popularity` | Song Popularity (0-100) where higher is better |\n",
    "|`track_album_id`| Album unique ID |\n",
    "|`track_album_name` | Song album name |\n",
    "|`track_album_release_date`| Date when album released |\n",
    "|`playlist_name`| Name of playlist |\n",
    "|`playlist_id`| Playlist ID |\n",
    "|`playlist_genre`| Playlist genre |\n",
    "|`playlist_subgenre\t`|  Playlist subgenre |\n",
    "|`danceability`| Danceability describes how suitable a track is for dancing based on a combination of musical elements including tempo, rhythm stability, beat strength, and overall regularity. A value of 0.0 is least danceable and 1.0 is most danceable. |\n",
    "|`energy`| Energy is a measure from 0.0 to 1.0 and represents a perceptual measure of intensity and activity. Typically, energetic tracks feel fast, loud, and noisy. For example, death metal has high energy, while a Bach prelude scores low on the scale. Perceptual features contributing to this attribute include dynamic range, perceived loudness, timbre, onset rate, and general entropy. |\n",
    "|`key`| The estimated overall key of the track. Integers map to pitches using standard Pitch Class notation . E.g. 0 = C, 1 = C♯/D♭, 2 = D, and so on. If no key was detected, the value is -1. |\n",
    "|`loudness`|  The overall loudness of a track in decibels (dB). Loudness values are averaged across the entire track and are useful for comparing relative loudness of tracks. Loudness is the quality of a sound that is the primary psychological correlate of physical strength (amplitude). Values typical range between -60 and 0 db. |\n",
    "|`mode`|  Mode indicates the modality (major or minor) of a track, the type of scale from which its melodic content is derived. Major is represented by 1 and minor is 0. |\n",
    "|`speechiness`|  Speechiness detects the presence of spoken words in a track. The more exclusively speech-like the recording (e.g. talk show, audio book, poetry), the closer to 1.0 the attribute value. Values above 0.66 describe tracks that are probably made entirely of spoken words. Values between 0.33 and 0.66 describe tracks that may contain both music and speech, either in sections or layered, including such cases as rap music. Values below 0.33 most likely represent music and other non-speech-like tracks. |\n",
    "|`acousticness`|  A confidence measure from 0.0 to 1.0 of whether the track is acoustic. 1.0 represents high confidence the track is acoustic. |\n",
    "|`instrumentalness`| Predicts whether a track contains no vocals. “Ooh” and “aah” sounds are treated as instrumental in this context. Rap or spoken word tracks are clearly “vocal”. The closer the instrumentalness value is to 1.0, the greater likelihood the track contains no vocal content. Values above 0.5 are intended to represent instrumental tracks, but confidence is higher as the value approaches 1.0. |\n",
    "|`liveness`| Detects the presence of an audience in the recording. Higher liveness values represent an increased probability that the track was performed live. A value above 0.8 provides strong likelihood that the track is live. |\n",
    "|`valence`| A measure from 0.0 to 1.0 describing the musical positiveness conveyed by a track. Tracks with high valence sound more positive (e.g. happy, cheerful, euphoric), while tracks with low valence sound more negative (e.g. sad, depressed, angry). |\n",
    "|`tempo`| The overall estimated tempo of a track in beats per minute (BPM). In musical terminology, tempo is the speed or pace of a given piece and derives directly from the average beat duration. |\n",
    "|`duration_ms`| Duration of song in milliseconds |\n",
    "|`creation_year`| Year when album was released |\n",
    "\n",
    "\n"
   ]
  },
  {
   "cell_type": "code",
   "execution_count": 14,
   "metadata": {
    "scrolled": false
   },
   "outputs": [
    {
     "data": {
      "text/html": [
       "<table border=\"1\" class=\"dataframe\">\n",
       "    <thead>\n",
       "        <tr>\n",
       "            <th>track_id</th> <th>track_name</th> <th>track_artist</th> <th>track_popularity</th> <th>track_album_id</th> <th>track_album_name</th> <th>track_album_release_date</th> <th>playlist_name</th> <th>playlist_id</th> <th>playlist_genre</th> <th>playlist_subgenre</th> <th>danceability</th> <th>energy</th> <th>key</th> <th>loudness</th> <th>mode</th> <th>speechiness</th> <th>acousticness</th> <th>instrumentalness</th> <th>liveness</th> <th>valence</th> <th>tempo</th> <th>duration_ms</th> <th>creation_year</th>\n",
       "        </tr>\n",
       "    </thead>\n",
       "    <tbody>\n",
       "        <tr>\n",
       "            <td>6f807x0ima9a1j3VPbc7VN</td> <td>I Don't Care (with Justin Bieber) - Loud Luxury Remix</td> <td>Ed Sheeran      </td> <td>66              </td> <td>2oCs0DGTsRO98Gh5ZSl2Cx</td> <td>I Don't Care (with Justin Bieber) [Loud Luxury Remix]</td> <td>2019-06-14              </td> <td>Pop Remix    </td> <td>37i9dQZF1DXcZDD7cfEKhW</td> <td>pop           </td> <td>dance pop        </td> <td>0.748       </td> <td>0.916 </td> <td>6   </td> <td>-2.634  </td> <td>1   </td> <td>0.0583     </td> <td>0.102       </td> <td>0               </td> <td>0.0653  </td> <td>0.518  </td> <td>122.036</td> <td>194754     </td> <td>2019         </td>\n",
       "        </tr>\n",
       "        <tr>\n",
       "            <td>0r7CVbZTWZgbTCYdfa2P31</td> <td>Memories - Dillon Francis Remix                      </td> <td>Maroon 5        </td> <td>67              </td> <td>63rPSO264uRjW1X5E6cWv6</td> <td>Memories (Dillon Francis Remix)                      </td> <td>2019-12-13              </td> <td>Pop Remix    </td> <td>37i9dQZF1DXcZDD7cfEKhW</td> <td>pop           </td> <td>dance pop        </td> <td>0.726       </td> <td>0.815 </td> <td>11  </td> <td>-4.969  </td> <td>1   </td> <td>0.0373     </td> <td>0.0724      </td> <td>0.00421         </td> <td>0.357   </td> <td>0.693  </td> <td>99.972 </td> <td>162600     </td> <td>2019         </td>\n",
       "        </tr>\n",
       "        <tr>\n",
       "            <td>1z1Hg7Vb0AhHDiEmnDE79l</td> <td>All the Time - Don Diablo Remix                      </td> <td>Zara Larsson    </td> <td>70              </td> <td>1HoSmj2eLcsrR0vE9gThr4</td> <td>All the Time (Don Diablo Remix)                      </td> <td>2019-07-05              </td> <td>Pop Remix    </td> <td>37i9dQZF1DXcZDD7cfEKhW</td> <td>pop           </td> <td>dance pop        </td> <td>0.675       </td> <td>0.931 </td> <td>1   </td> <td>-3.432  </td> <td>0   </td> <td>0.0742     </td> <td>0.0794      </td> <td>2.33e-05        </td> <td>0.11    </td> <td>0.613  </td> <td>124.008</td> <td>176616     </td> <td>2019         </td>\n",
       "        </tr>\n",
       "        <tr>\n",
       "            <td>75FpbthrwQmzHlBJLuGdC7</td> <td>Call You Mine - Keanu Silva Remix                    </td> <td>The Chainsmokers</td> <td>60              </td> <td>1nqYsOef1yKKuGOVchbsk6</td> <td>Call You Mine - The Remixes                          </td> <td>2019-07-19              </td> <td>Pop Remix    </td> <td>37i9dQZF1DXcZDD7cfEKhW</td> <td>pop           </td> <td>dance pop        </td> <td>0.718       </td> <td>0.93  </td> <td>7   </td> <td>-3.778  </td> <td>1   </td> <td>0.102      </td> <td>0.0287      </td> <td>9.43e-06        </td> <td>0.204   </td> <td>0.277  </td> <td>121.956</td> <td>169093     </td> <td>2019         </td>\n",
       "        </tr>\n",
       "        <tr>\n",
       "            <td>1e8PAfcKUYoKkxPhrHqw4x</td> <td>Someone You Loved - Future Humans Remix              </td> <td>Lewis Capaldi   </td> <td>69              </td> <td>7m7vv9wlQ4i0LFuJiE2zsQ</td> <td>Someone You Loved (Future Humans Remix)              </td> <td>2019-03-05              </td> <td>Pop Remix    </td> <td>37i9dQZF1DXcZDD7cfEKhW</td> <td>pop           </td> <td>dance pop        </td> <td>0.65        </td> <td>0.833 </td> <td>1   </td> <td>-4.672  </td> <td>1   </td> <td>0.0359     </td> <td>0.0803      </td> <td>0               </td> <td>0.0833  </td> <td>0.725  </td> <td>123.976</td> <td>189052     </td> <td>2019         </td>\n",
       "        </tr>\n",
       "        <tr>\n",
       "            <td>7fvUMiyapMsRRxr07cU8Ef</td> <td>Beautiful People (feat. Khalid) - Jack Wins Remix    </td> <td>Ed Sheeran      </td> <td>67              </td> <td>2yiy9cd2QktrNvWC2EUi0k</td> <td>Beautiful People (feat. Khalid) [Jack Wins Remix]    </td> <td>2019-07-11              </td> <td>Pop Remix    </td> <td>37i9dQZF1DXcZDD7cfEKhW</td> <td>pop           </td> <td>dance pop        </td> <td>0.675       </td> <td>0.919 </td> <td>8   </td> <td>-5.385  </td> <td>1   </td> <td>0.127      </td> <td>0.0799      </td> <td>0               </td> <td>0.143   </td> <td>0.585  </td> <td>124.982</td> <td>163049     </td> <td>2019         </td>\n",
       "        </tr>\n",
       "        <tr>\n",
       "            <td>2OAylPUDDfwRGfe0lYqlCQ</td> <td>Never Really Over - R3HAB Remix                      </td> <td>Katy Perry      </td> <td>62              </td> <td>7INHYSeusaFlyrHSNxm8qH</td> <td>Never Really Over (R3HAB Remix)                      </td> <td>2019-07-26              </td> <td>Pop Remix    </td> <td>37i9dQZF1DXcZDD7cfEKhW</td> <td>pop           </td> <td>dance pop        </td> <td>0.449       </td> <td>0.856 </td> <td>5   </td> <td>-4.788  </td> <td>0   </td> <td>0.0623     </td> <td>0.187       </td> <td>0               </td> <td>0.176   </td> <td>0.152  </td> <td>112.648</td> <td>187675     </td> <td>2019         </td>\n",
       "        </tr>\n",
       "        <tr>\n",
       "            <td>6b1RNvAcJjQH73eZO4BLAB</td> <td>Post Malone (feat. RANI) - GATTÜSO Remix             </td> <td>Sam Feldt       </td> <td>69              </td> <td>6703SRPsLkS4bPtMFFJes1</td> <td>Post Malone (feat. RANI) [GATTÜSO Remix]             </td> <td>2019-08-29              </td> <td>Pop Remix    </td> <td>37i9dQZF1DXcZDD7cfEKhW</td> <td>pop           </td> <td>dance pop        </td> <td>0.542       </td> <td>0.903 </td> <td>4   </td> <td>-2.419  </td> <td>0   </td> <td>0.0434     </td> <td>0.0335      </td> <td>4.83e-06        </td> <td>0.111   </td> <td>0.367  </td> <td>127.936</td> <td>207619     </td> <td>2019         </td>\n",
       "        </tr>\n",
       "        <tr>\n",
       "            <td>7bF6tCO3gFb8INrEDcjNT5</td> <td>Tough Love - Tiësto Remix / Radio Edit               </td> <td>Avicii          </td> <td>68              </td> <td>7CvAfGvq4RlIwEbT9o8Iav</td> <td>Tough Love (Tiësto Remix)                            </td> <td>2019-06-14              </td> <td>Pop Remix    </td> <td>37i9dQZF1DXcZDD7cfEKhW</td> <td>pop           </td> <td>dance pop        </td> <td>0.594       </td> <td>0.935 </td> <td>8   </td> <td>-3.562  </td> <td>1   </td> <td>0.0565     </td> <td>0.0249      </td> <td>3.97e-06        </td> <td>0.637   </td> <td>0.366  </td> <td>127.015</td> <td>193187     </td> <td>2019         </td>\n",
       "        </tr>\n",
       "        <tr>\n",
       "            <td>1IXGILkPm0tOCNeq00kCPa</td> <td>If I Can't Have You - Gryffin Remix                  </td> <td>Shawn Mendes    </td> <td>67              </td> <td>4QxzbfSsVryEQwvPFEV5Iu</td> <td>If I Can't Have You (Gryffin Remix)                  </td> <td>2019-06-20              </td> <td>Pop Remix    </td> <td>37i9dQZF1DXcZDD7cfEKhW</td> <td>pop           </td> <td>dance pop        </td> <td>0.642       </td> <td>0.818 </td> <td>2   </td> <td>-4.552  </td> <td>1   </td> <td>0.032      </td> <td>0.0567      </td> <td>0               </td> <td>0.0919  </td> <td>0.59   </td> <td>124.957</td> <td>253040     </td> <td>2019         </td>\n",
       "        </tr>\n",
       "    </tbody>\n",
       "</table>\n",
       "<p>... (32823 rows omitted)</p>"
      ],
      "text/plain": [
       "<IPython.core.display.HTML object>"
      ]
     },
     "metadata": {},
     "output_type": "display_data"
    }
   ],
   "source": [
    "spotify = Table.read_table('spotify.csv')\n",
    "spotify.show(10)"
   ]
  },
  {
   "cell_type": "markdown",
   "metadata": {},
   "source": [
    "<div class=\"alert alert-warning\">\n",
    "<b>Question:</b> It's important to evalute our data source. What do you know about the source? What motivations do they have for collecting this data? What data is missing?\n",
    "   </div>"
   ]
  },
  {
   "cell_type": "markdown",
   "metadata": {},
   "source": [
    "*Insert answer*"
   ]
  },
  {
   "cell_type": "markdown",
   "metadata": {},
   "source": [
    "<div class=\"alert alert-warning\">\n",
    "<b>Question:</b> Do you see any missing (nan) values? Why might they be there?\n",
    "   </div>"
   ]
  },
  {
   "cell_type": "markdown",
   "metadata": {},
   "source": [
    "*Insert answer here*"
   ]
  },
  {
   "cell_type": "markdown",
   "metadata": {},
   "source": [
    "<div class=\"alert alert-warning\">\n",
    "<b>Question:</b> We want to learn more about the dataset. First, how many total rows are in this table? What does each row represent?\n",
    "    \n",
    "   </div>"
   ]
  },
  {
   "cell_type": "code",
   "execution_count": 15,
   "metadata": {},
   "outputs": [],
   "source": [
    "total_rows = ..."
   ]
  },
  {
   "cell_type": "markdown",
   "metadata": {},
   "source": [
    "*Insert answer here*"
   ]
  },
  {
   "cell_type": "markdown",
   "metadata": {},
   "source": [
    "## Conducting exploratory data analysis <a id='subsection 1c'></a>"
   ]
  },
  {
   "cell_type": "markdown",
   "metadata": {},
   "source": [
    "Visualizations help us to understand what the dataset is telling us. We will be using bar charts, scatter plots, and line plots to try to answer questions like **What song features make a song popular and which artists have these songs? How have features changed over time?**"
   ]
  },
  {
   "cell_type": "markdown",
   "metadata": {},
   "source": [
    "### Part 1: We'll start by looking at the length of songs using the `duration_ms` column."
   ]
  },
  {
   "cell_type": "markdown",
   "metadata": {},
   "source": [
    "<div class=\"alert alert-warning\">\n",
    "<b>Question:</b> Right now, the `duration` array contains the length of each song in milliseconds. However, that's not a common measurement when describing the length of a song - often, we use minutes and seconds. Using array arithmetic, we can find the length of each song in seconds and in minutes. There are 1000 milliseconds in a second, and 60 seconds in a minute. First, we will convert milliseconds to seconds.\n",
    "   </div>"
   ]
  },
  {
   "cell_type": "code",
   "execution_count": 16,
   "metadata": {},
   "outputs": [
    {
     "data": {
      "text/plain": [
       "array([194754, 162600, 176616, ..., 210112, 367432, 337500])"
      ]
     },
     "execution_count": 16,
     "metadata": {},
     "output_type": "execute_result"
    }
   ],
   "source": [
    "#Access the duration column as an array.\n",
    "duration = spotify.column(\"duration_ms\")\n",
    "duration"
   ]
  },
  {
   "cell_type": "code",
   "execution_count": 17,
   "metadata": {},
   "outputs": [
    {
     "data": {
      "text/plain": [
       "array([194.754, 162.6  , 176.616, ..., 210.112, 367.432, 337.5  ])"
      ]
     },
     "execution_count": 17,
     "metadata": {},
     "output_type": "execute_result"
    }
   ],
   "source": [
    "duration_seconds = duration / 1000\n",
    "duration_seconds"
   ]
  },
  {
   "cell_type": "code",
   "execution_count": 18,
   "metadata": {},
   "outputs": [
    {
     "data": {
      "text/plain": [
       "array([3.2459    , 2.71      , 2.9436    , ..., 3.50186667, 6.12386667,\n",
       "       5.625     ])"
      ]
     },
     "execution_count": 18,
     "metadata": {},
     "output_type": "execute_result"
    }
   ],
   "source": [
    "#Now convert duration_seconds to minutes.\n",
    "duration_minutes = ...\n",
    "duration_minutes "
   ]
  },
  {
   "cell_type": "markdown",
   "metadata": {},
   "source": [
    "<div class=\"alert alert-warning\">\n",
    "<b>Question:</b> How would we find the average duration (in minutes) of the songs in this dataset?\n",
    "   </div>"
   ]
  },
  {
   "cell_type": "code",
   "execution_count": 19,
   "metadata": {},
   "outputs": [
    {
     "data": {
      "text/plain": [
       "3.7633301937075503"
      ]
     },
     "execution_count": 19,
     "metadata": {},
     "output_type": "execute_result"
    }
   ],
   "source": [
    "#Insert answer below.\n",
    "duration_minutes.mean()"
   ]
  },
  {
   "cell_type": "code",
   "execution_count": 20,
   "metadata": {},
   "outputs": [
    {
     "data": {
      "text/html": [
       "<table border=\"1\" class=\"dataframe\">\n",
       "    <thead>\n",
       "        <tr>\n",
       "            <th>track_id</th> <th>track_name</th> <th>track_artist</th> <th>track_popularity</th> <th>track_album_id</th> <th>track_album_name</th> <th>track_album_release_date</th> <th>playlist_name</th> <th>playlist_id</th> <th>playlist_genre</th> <th>playlist_subgenre</th> <th>danceability</th> <th>energy</th> <th>key</th> <th>loudness</th> <th>mode</th> <th>speechiness</th> <th>acousticness</th> <th>instrumentalness</th> <th>liveness</th> <th>valence</th> <th>tempo</th> <th>duration_ms</th> <th>creation_year</th> <th>duration_min</th>\n",
       "        </tr>\n",
       "    </thead>\n",
       "    <tbody>\n",
       "        <tr>\n",
       "            <td>6f807x0ima9a1j3VPbc7VN</td> <td>I Don't Care (with Justin Bieber) - Loud Luxury Remix</td> <td>Ed Sheeran      </td> <td>66              </td> <td>2oCs0DGTsRO98Gh5ZSl2Cx</td> <td>I Don't Care (with Justin Bieber) [Loud Luxury Remix]</td> <td>2019-06-14              </td> <td>Pop Remix    </td> <td>37i9dQZF1DXcZDD7cfEKhW</td> <td>pop           </td> <td>dance pop        </td> <td>0.748       </td> <td>0.916 </td> <td>6   </td> <td>-2.634  </td> <td>1   </td> <td>0.0583     </td> <td>0.102       </td> <td>0               </td> <td>0.0653  </td> <td>0.518  </td> <td>122.036</td> <td>194754     </td> <td>2019         </td> <td>3.2459      </td>\n",
       "        </tr>\n",
       "        <tr>\n",
       "            <td>0r7CVbZTWZgbTCYdfa2P31</td> <td>Memories - Dillon Francis Remix                      </td> <td>Maroon 5        </td> <td>67              </td> <td>63rPSO264uRjW1X5E6cWv6</td> <td>Memories (Dillon Francis Remix)                      </td> <td>2019-12-13              </td> <td>Pop Remix    </td> <td>37i9dQZF1DXcZDD7cfEKhW</td> <td>pop           </td> <td>dance pop        </td> <td>0.726       </td> <td>0.815 </td> <td>11  </td> <td>-4.969  </td> <td>1   </td> <td>0.0373     </td> <td>0.0724      </td> <td>0.00421         </td> <td>0.357   </td> <td>0.693  </td> <td>99.972 </td> <td>162600     </td> <td>2019         </td> <td>2.71        </td>\n",
       "        </tr>\n",
       "        <tr>\n",
       "            <td>1z1Hg7Vb0AhHDiEmnDE79l</td> <td>All the Time - Don Diablo Remix                      </td> <td>Zara Larsson    </td> <td>70              </td> <td>1HoSmj2eLcsrR0vE9gThr4</td> <td>All the Time (Don Diablo Remix)                      </td> <td>2019-07-05              </td> <td>Pop Remix    </td> <td>37i9dQZF1DXcZDD7cfEKhW</td> <td>pop           </td> <td>dance pop        </td> <td>0.675       </td> <td>0.931 </td> <td>1   </td> <td>-3.432  </td> <td>0   </td> <td>0.0742     </td> <td>0.0794      </td> <td>2.33e-05        </td> <td>0.11    </td> <td>0.613  </td> <td>124.008</td> <td>176616     </td> <td>2019         </td> <td>2.9436      </td>\n",
       "        </tr>\n",
       "        <tr>\n",
       "            <td>75FpbthrwQmzHlBJLuGdC7</td> <td>Call You Mine - Keanu Silva Remix                    </td> <td>The Chainsmokers</td> <td>60              </td> <td>1nqYsOef1yKKuGOVchbsk6</td> <td>Call You Mine - The Remixes                          </td> <td>2019-07-19              </td> <td>Pop Remix    </td> <td>37i9dQZF1DXcZDD7cfEKhW</td> <td>pop           </td> <td>dance pop        </td> <td>0.718       </td> <td>0.93  </td> <td>7   </td> <td>-3.778  </td> <td>1   </td> <td>0.102      </td> <td>0.0287      </td> <td>9.43e-06        </td> <td>0.204   </td> <td>0.277  </td> <td>121.956</td> <td>169093     </td> <td>2019         </td> <td>2.81822     </td>\n",
       "        </tr>\n",
       "        <tr>\n",
       "            <td>1e8PAfcKUYoKkxPhrHqw4x</td> <td>Someone You Loved - Future Humans Remix              </td> <td>Lewis Capaldi   </td> <td>69              </td> <td>7m7vv9wlQ4i0LFuJiE2zsQ</td> <td>Someone You Loved (Future Humans Remix)              </td> <td>2019-03-05              </td> <td>Pop Remix    </td> <td>37i9dQZF1DXcZDD7cfEKhW</td> <td>pop           </td> <td>dance pop        </td> <td>0.65        </td> <td>0.833 </td> <td>1   </td> <td>-4.672  </td> <td>1   </td> <td>0.0359     </td> <td>0.0803      </td> <td>0               </td> <td>0.0833  </td> <td>0.725  </td> <td>123.976</td> <td>189052     </td> <td>2019         </td> <td>3.15087     </td>\n",
       "        </tr>\n",
       "        <tr>\n",
       "            <td>7fvUMiyapMsRRxr07cU8Ef</td> <td>Beautiful People (feat. Khalid) - Jack Wins Remix    </td> <td>Ed Sheeran      </td> <td>67              </td> <td>2yiy9cd2QktrNvWC2EUi0k</td> <td>Beautiful People (feat. Khalid) [Jack Wins Remix]    </td> <td>2019-07-11              </td> <td>Pop Remix    </td> <td>37i9dQZF1DXcZDD7cfEKhW</td> <td>pop           </td> <td>dance pop        </td> <td>0.675       </td> <td>0.919 </td> <td>8   </td> <td>-5.385  </td> <td>1   </td> <td>0.127      </td> <td>0.0799      </td> <td>0               </td> <td>0.143   </td> <td>0.585  </td> <td>124.982</td> <td>163049     </td> <td>2019         </td> <td>2.71748     </td>\n",
       "        </tr>\n",
       "        <tr>\n",
       "            <td>2OAylPUDDfwRGfe0lYqlCQ</td> <td>Never Really Over - R3HAB Remix                      </td> <td>Katy Perry      </td> <td>62              </td> <td>7INHYSeusaFlyrHSNxm8qH</td> <td>Never Really Over (R3HAB Remix)                      </td> <td>2019-07-26              </td> <td>Pop Remix    </td> <td>37i9dQZF1DXcZDD7cfEKhW</td> <td>pop           </td> <td>dance pop        </td> <td>0.449       </td> <td>0.856 </td> <td>5   </td> <td>-4.788  </td> <td>0   </td> <td>0.0623     </td> <td>0.187       </td> <td>0               </td> <td>0.176   </td> <td>0.152  </td> <td>112.648</td> <td>187675     </td> <td>2019         </td> <td>3.12792     </td>\n",
       "        </tr>\n",
       "        <tr>\n",
       "            <td>6b1RNvAcJjQH73eZO4BLAB</td> <td>Post Malone (feat. RANI) - GATTÜSO Remix             </td> <td>Sam Feldt       </td> <td>69              </td> <td>6703SRPsLkS4bPtMFFJes1</td> <td>Post Malone (feat. RANI) [GATTÜSO Remix]             </td> <td>2019-08-29              </td> <td>Pop Remix    </td> <td>37i9dQZF1DXcZDD7cfEKhW</td> <td>pop           </td> <td>dance pop        </td> <td>0.542       </td> <td>0.903 </td> <td>4   </td> <td>-2.419  </td> <td>0   </td> <td>0.0434     </td> <td>0.0335      </td> <td>4.83e-06        </td> <td>0.111   </td> <td>0.367  </td> <td>127.936</td> <td>207619     </td> <td>2019         </td> <td>3.46032     </td>\n",
       "        </tr>\n",
       "        <tr>\n",
       "            <td>7bF6tCO3gFb8INrEDcjNT5</td> <td>Tough Love - Tiësto Remix / Radio Edit               </td> <td>Avicii          </td> <td>68              </td> <td>7CvAfGvq4RlIwEbT9o8Iav</td> <td>Tough Love (Tiësto Remix)                            </td> <td>2019-06-14              </td> <td>Pop Remix    </td> <td>37i9dQZF1DXcZDD7cfEKhW</td> <td>pop           </td> <td>dance pop        </td> <td>0.594       </td> <td>0.935 </td> <td>8   </td> <td>-3.562  </td> <td>1   </td> <td>0.0565     </td> <td>0.0249      </td> <td>3.97e-06        </td> <td>0.637   </td> <td>0.366  </td> <td>127.015</td> <td>193187     </td> <td>2019         </td> <td>3.21978     </td>\n",
       "        </tr>\n",
       "        <tr>\n",
       "            <td>1IXGILkPm0tOCNeq00kCPa</td> <td>If I Can't Have You - Gryffin Remix                  </td> <td>Shawn Mendes    </td> <td>67              </td> <td>4QxzbfSsVryEQwvPFEV5Iu</td> <td>If I Can't Have You (Gryffin Remix)                  </td> <td>2019-06-20              </td> <td>Pop Remix    </td> <td>37i9dQZF1DXcZDD7cfEKhW</td> <td>pop           </td> <td>dance pop        </td> <td>0.642       </td> <td>0.818 </td> <td>2   </td> <td>-4.552  </td> <td>1   </td> <td>0.032      </td> <td>0.0567      </td> <td>0               </td> <td>0.0919  </td> <td>0.59   </td> <td>124.957</td> <td>253040     </td> <td>2019         </td> <td>4.21733     </td>\n",
       "        </tr>\n",
       "    </tbody>\n",
       "</table>\n",
       "<p>... (32823 rows omitted)</p>"
      ],
      "text/plain": [
       "track_id               | track_name                                            | track_artist     | track_popularity | track_album_id         | track_album_name                                      | track_album_release_date | playlist_name | playlist_id            | playlist_genre | playlist_subgenre | danceability | energy | key  | loudness | mode | speechiness | acousticness | instrumentalness | liveness | valence | tempo   | duration_ms | creation_year | duration_min\n",
       "6f807x0ima9a1j3VPbc7VN | I Don't Care (with Justin Bieber) - Loud Luxury Remix | Ed Sheeran       | 66               | 2oCs0DGTsRO98Gh5ZSl2Cx | I Don't Care (with Justin Bieber) [Loud Luxury Remix] | 2019-06-14               | Pop Remix     | 37i9dQZF1DXcZDD7cfEKhW | pop            | dance pop         | 0.748        | 0.916  | 6    | -2.634   | 1    | 0.0583      | 0.102        | 0                | 0.0653   | 0.518   | 122.036 | 194754      | 2019          | 3.2459\n",
       "0r7CVbZTWZgbTCYdfa2P31 | Memories - Dillon Francis Remix                       | Maroon 5         | 67               | 63rPSO264uRjW1X5E6cWv6 | Memories (Dillon Francis Remix)                       | 2019-12-13               | Pop Remix     | 37i9dQZF1DXcZDD7cfEKhW | pop            | dance pop         | 0.726        | 0.815  | 11   | -4.969   | 1    | 0.0373      | 0.0724       | 0.00421          | 0.357    | 0.693   | 99.972  | 162600      | 2019          | 2.71\n",
       "1z1Hg7Vb0AhHDiEmnDE79l | All the Time - Don Diablo Remix                       | Zara Larsson     | 70               | 1HoSmj2eLcsrR0vE9gThr4 | All the Time (Don Diablo Remix)                       | 2019-07-05               | Pop Remix     | 37i9dQZF1DXcZDD7cfEKhW | pop            | dance pop         | 0.675        | 0.931  | 1    | -3.432   | 0    | 0.0742      | 0.0794       | 2.33e-05         | 0.11     | 0.613   | 124.008 | 176616      | 2019          | 2.9436\n",
       "75FpbthrwQmzHlBJLuGdC7 | Call You Mine - Keanu Silva Remix                     | The Chainsmokers | 60               | 1nqYsOef1yKKuGOVchbsk6 | Call You Mine - The Remixes                           | 2019-07-19               | Pop Remix     | 37i9dQZF1DXcZDD7cfEKhW | pop            | dance pop         | 0.718        | 0.93   | 7    | -3.778   | 1    | 0.102       | 0.0287       | 9.43e-06         | 0.204    | 0.277   | 121.956 | 169093      | 2019          | 2.81822\n",
       "1e8PAfcKUYoKkxPhrHqw4x | Someone You Loved - Future Humans Remix               | Lewis Capaldi    | 69               | 7m7vv9wlQ4i0LFuJiE2zsQ | Someone You Loved (Future Humans Remix)               | 2019-03-05               | Pop Remix     | 37i9dQZF1DXcZDD7cfEKhW | pop            | dance pop         | 0.65         | 0.833  | 1    | -4.672   | 1    | 0.0359      | 0.0803       | 0                | 0.0833   | 0.725   | 123.976 | 189052      | 2019          | 3.15087\n",
       "7fvUMiyapMsRRxr07cU8Ef | Beautiful People (feat. Khalid) - Jack Wins Remix     | Ed Sheeran       | 67               | 2yiy9cd2QktrNvWC2EUi0k | Beautiful People (feat. Khalid) [Jack Wins Remix]     | 2019-07-11               | Pop Remix     | 37i9dQZF1DXcZDD7cfEKhW | pop            | dance pop         | 0.675        | 0.919  | 8    | -5.385   | 1    | 0.127       | 0.0799       | 0                | 0.143    | 0.585   | 124.982 | 163049      | 2019          | 2.71748\n",
       "2OAylPUDDfwRGfe0lYqlCQ | Never Really Over - R3HAB Remix                       | Katy Perry       | 62               | 7INHYSeusaFlyrHSNxm8qH | Never Really Over (R3HAB Remix)                       | 2019-07-26               | Pop Remix     | 37i9dQZF1DXcZDD7cfEKhW | pop            | dance pop         | 0.449        | 0.856  | 5    | -4.788   | 0    | 0.0623      | 0.187        | 0                | 0.176    | 0.152   | 112.648 | 187675      | 2019          | 3.12792\n",
       "6b1RNvAcJjQH73eZO4BLAB | Post Malone (feat. RANI) - GATTÜSO Remix              | Sam Feldt        | 69               | 6703SRPsLkS4bPtMFFJes1 | Post Malone (feat. RANI) [GATTÜSO Remix]              | 2019-08-29               | Pop Remix     | 37i9dQZF1DXcZDD7cfEKhW | pop            | dance pop         | 0.542        | 0.903  | 4    | -2.419   | 0    | 0.0434      | 0.0335       | 4.83e-06         | 0.111    | 0.367   | 127.936 | 207619      | 2019          | 3.46032\n",
       "7bF6tCO3gFb8INrEDcjNT5 | Tough Love - Tiësto Remix / Radio Edit                | Avicii           | 68               | 7CvAfGvq4RlIwEbT9o8Iav | Tough Love (Tiësto Remix)                             | 2019-06-14               | Pop Remix     | 37i9dQZF1DXcZDD7cfEKhW | pop            | dance pop         | 0.594        | 0.935  | 8    | -3.562   | 1    | 0.0565      | 0.0249       | 3.97e-06         | 0.637    | 0.366   | 127.015 | 193187      | 2019          | 3.21978\n",
       "1IXGILkPm0tOCNeq00kCPa | If I Can't Have You - Gryffin Remix                   | Shawn Mendes     | 67               | 4QxzbfSsVryEQwvPFEV5Iu | If I Can't Have You (Gryffin Remix)                   | 2019-06-20               | Pop Remix     | 37i9dQZF1DXcZDD7cfEKhW | pop            | dance pop         | 0.642        | 0.818  | 2    | -4.552   | 1    | 0.032       | 0.0567       | 0                | 0.0919   | 0.59    | 124.957 | 253040      | 2019          | 4.21733\n",
       "... (32823 rows omitted)"
      ]
     },
     "execution_count": 20,
     "metadata": {},
     "output_type": "execute_result"
    }
   ],
   "source": [
    "#This cell will add the duration in minutes column we just created to our dataset.\n",
    "spotify = spotify.with_columns('duration_min', duration_minutes)\n",
    "spotify"
   ]
  },
  {
   "cell_type": "markdown",
   "metadata": {},
   "source": [
    "<div class=\"alert alert-warning\">\n",
    "<b>Question:</b> Now that you know how to find the average duration. You can choose an artist and see how long their songs are on average and compare.\n",
    "   </div>"
   ]
  },
  {
   "cell_type": "code",
   "execution_count": 21,
   "metadata": {
    "scrolled": true
   },
   "outputs": [
    {
     "data": {
      "text/html": [
       "<table border=\"1\" class=\"dataframe\">\n",
       "    <thead>\n",
       "        <tr>\n",
       "            <th>track_id</th> <th>track_name</th> <th>track_artist</th> <th>track_popularity</th> <th>track_album_id</th> <th>track_album_name</th> <th>track_album_release_date</th> <th>playlist_name</th> <th>playlist_id</th> <th>playlist_genre</th> <th>playlist_subgenre</th> <th>danceability</th> <th>energy</th> <th>key</th> <th>loudness</th> <th>mode</th> <th>speechiness</th> <th>acousticness</th> <th>instrumentalness</th> <th>liveness</th> <th>valence</th> <th>tempo</th> <th>duration_ms</th> <th>creation_year</th> <th>duration_min</th>\n",
       "        </tr>\n",
       "    </thead>\n",
       "    <tbody>\n",
       "        <tr>\n",
       "            <td>0GfS3y8Jd7SHWd9R51s7Fo</td> <td>Dancing With A Stranger (With Normani) - Cheat Codes Remix</td> <td>Sam Smith   </td> <td>69              </td> <td>2LDzwN4iZ4qbSA32E9CG4Q</td> <td>Dancing With A Stranger (With Normani) [Cheat Codes Remix]</td> <td>2019-03-08              </td> <td>Pop Remix                                      </td> <td>37i9dQZF1DXcZDD7cfEKhW</td> <td>pop           </td> <td>dance pop        </td> <td>0.746       </td> <td>0.557 </td> <td>1   </td> <td>-6.722  </td> <td>1   </td> <td>0.0542     </td> <td>0.103       </td> <td>0.0036          </td> <td>0.138   </td> <td>0.324  </td> <td>111.961</td> <td>159404     </td> <td>2019         </td> <td>2.65673     </td>\n",
       "        </tr>\n",
       "        <tr>\n",
       "            <td>6Qs4SXO9dwPj5GKvVOv8Ki</td> <td>Dancing With A Stranger (with Normani)                    </td> <td>Sam Smith   </td> <td>87              </td> <td>1V9oE8bVilClrk5naqyyvL</td> <td>Dancing With A Stranger (with Normani)                    </td> <td>2019-01-11              </td> <td>Dance Pop Tunes                                </td> <td>4SdfG4cPG3skmTiQLozZGh</td> <td>pop           </td> <td>dance pop        </td> <td>0.741       </td> <td>0.52  </td> <td>8   </td> <td>-7.513  </td> <td>1   </td> <td>0.0656     </td> <td>0.45        </td> <td>1.97e-06        </td> <td>0.222   </td> <td>0.347  </td> <td>102.998</td> <td>171030     </td> <td>2019         </td> <td>2.8505      </td>\n",
       "        </tr>\n",
       "        <tr>\n",
       "            <td>29MOOOmMRPeWyPwKQFoF5t</td> <td>I Feel Love                                               </td> <td>Sam Smith   </td> <td>78              </td> <td>2DmVNmERvg6j9jZQbelNKu</td> <td>I Feel Love                                               </td> <td>2019-11-01              </td> <td>TUNES DANCE AND POP                            </td> <td>3arpkhoRWXEYbdCpVAIrRR</td> <td>pop           </td> <td>dance pop        </td> <td>0.719       </td> <td>0.708 </td> <td>0   </td> <td>-7.418  </td> <td>1   </td> <td>0.0417     </td> <td>0.00645     </td> <td>0.201           </td> <td>0.064   </td> <td>0.256  </td> <td>126.015</td> <td>254453     </td> <td>2019         </td> <td>4.24088     </td>\n",
       "        </tr>\n",
       "        <tr>\n",
       "            <td>6b2RcmUt1g9N9mQ3CbjX2Y</td> <td>How Do You Sleep?                                         </td> <td>Sam Smith   </td> <td>91              </td> <td>7baaCf70tVcUBL2bbkuXjo</td> <td>How Do You Sleep?                                         </td> <td>2019-07-19              </td> <td>Pop - Pop UK - 2019 - Canadian Pop - 2019 - Pop</td> <td>46Cl6dmeiylK6TRGXr7hHe</td> <td>pop           </td> <td>post-teen pop    </td> <td>0.477       </td> <td>0.682 </td> <td>1   </td> <td>-4.931  </td> <td>0   </td> <td>0.0925     </td> <td>0.153       </td> <td>0               </td> <td>0.0763  </td> <td>0.345  </td> <td>110.567</td> <td>202205     </td> <td>2019         </td> <td>3.37008     </td>\n",
       "        </tr>\n",
       "        <tr>\n",
       "            <td>6Qs4SXO9dwPj5GKvVOv8Ki</td> <td>Dancing With A Stranger (with Normani)                    </td> <td>Sam Smith   </td> <td>87              </td> <td>1V9oE8bVilClrk5naqyyvL</td> <td>Dancing With A Stranger (with Normani)                    </td> <td>2019-01-11              </td> <td>Post Teen Pop                                  </td> <td>2Aud8PXoTGcyY5esHu4Aaz</td> <td>pop           </td> <td>post-teen pop    </td> <td>0.741       </td> <td>0.52  </td> <td>8   </td> <td>-7.513  </td> <td>1   </td> <td>0.0656     </td> <td>0.45        </td> <td>1.97e-06        </td> <td>0.222   </td> <td>0.347  </td> <td>102.998</td> <td>171030     </td> <td>2019         </td> <td>2.8505      </td>\n",
       "        </tr>\n",
       "        <tr>\n",
       "            <td>6Qs4SXO9dwPj5GKvVOv8Ki</td> <td>Dancing With A Stranger (with Normani)                    </td> <td>Sam Smith   </td> <td>87              </td> <td>1V9oE8bVilClrk5naqyyvL</td> <td>Dancing With A Stranger (with Normani)                    </td> <td>2019-01-11              </td> <td>Electropop 2019                                </td> <td>4Bi8VLtaSu0JILliif8lH6</td> <td>pop           </td> <td>electropop       </td> <td>0.741       </td> <td>0.52  </td> <td>8   </td> <td>-7.513  </td> <td>1   </td> <td>0.0656     </td> <td>0.45        </td> <td>1.97e-06        </td> <td>0.222   </td> <td>0.347  </td> <td>102.998</td> <td>171030     </td> <td>2019         </td> <td>2.8505      </td>\n",
       "        </tr>\n",
       "        <tr>\n",
       "            <td>6b2RcmUt1g9N9mQ3CbjX2Y</td> <td>How Do You Sleep?                                         </td> <td>Sam Smith   </td> <td>91              </td> <td>7baaCf70tVcUBL2bbkuXjo</td> <td>How Do You Sleep?                                         </td> <td>2019-07-19              </td> <td>POPTIMISM                                      </td> <td>6lWMi4lPiiPwDqn8ZpeyAY</td> <td>pop           </td> <td>indie poptimism  </td> <td>0.477       </td> <td>0.682 </td> <td>1   </td> <td>-4.931  </td> <td>0   </td> <td>0.0925     </td> <td>0.153       </td> <td>0               </td> <td>0.0763  </td> <td>0.345  </td> <td>110.567</td> <td>202205     </td> <td>2019         </td> <td>3.37008     </td>\n",
       "        </tr>\n",
       "        <tr>\n",
       "            <td>3n3b5WNEohHP7Ou4ndBo6b</td> <td>Pray                                                      </td> <td>Sam Smith   </td> <td>60              </td> <td>3gbmTgBJupHlQnao4t4RDP</td> <td>Pray                                                      </td> <td>2018-03-29              </td> <td>This Is Logic                                  </td> <td>37i9dQZF1DWTIuAboZgTMf</td> <td>rap           </td> <td>hip hop          </td> <td>0.637       </td> <td>0.448 </td> <td>4   </td> <td>-7.968  </td> <td>0   </td> <td>0.0617     </td> <td>0.224       </td> <td>0               </td> <td>0.0887  </td> <td>0.224  </td> <td>87.919 </td> <td>221760     </td> <td>2018         </td> <td>3.696       </td>\n",
       "        </tr>\n",
       "        <tr>\n",
       "            <td>6b2RcmUt1g9N9mQ3CbjX2Y</td> <td>How Do You Sleep?                                         </td> <td>Sam Smith   </td> <td>91              </td> <td>7baaCf70tVcUBL2bbkuXjo</td> <td>How Do You Sleep?                                         </td> <td>2019-07-19              </td> <td>2020 Hits & 2019  Hits – Top Global Tracks 🔥🔥🔥 </td> <td>4JkkvMpVl4lSioqQjeAL0q</td> <td>latin         </td> <td>latin pop        </td> <td>0.477       </td> <td>0.682 </td> <td>1   </td> <td>-4.931  </td> <td>0   </td> <td>0.0925     </td> <td>0.153       </td> <td>0               </td> <td>0.0763  </td> <td>0.345  </td> <td>110.567</td> <td>202205     </td> <td>2019         </td> <td>3.37008     </td>\n",
       "        </tr>\n",
       "        <tr>\n",
       "            <td>6b2RcmUt1g9N9mQ3CbjX2Y</td> <td>How Do You Sleep?                                         </td> <td>Sam Smith   </td> <td>91              </td> <td>7baaCf70tVcUBL2bbkuXjo</td> <td>How Do You Sleep?                                         </td> <td>2019-07-19              </td> <td>2020 Hits & 2019  Hits – Top Global Tracks 🔥🔥🔥 </td> <td>4JkkvMpVl4lSioqQjeAL0q</td> <td>latin         </td> <td>latin hip hop    </td> <td>0.477       </td> <td>0.682 </td> <td>1   </td> <td>-4.931  </td> <td>0   </td> <td>0.0925     </td> <td>0.153       </td> <td>0               </td> <td>0.0763  </td> <td>0.345  </td> <td>110.567</td> <td>202205     </td> <td>2019         </td> <td>3.37008     </td>\n",
       "        </tr>\n",
       "    </tbody>\n",
       "</table>\n",
       "<p>... (15 rows omitted)</p>"
      ],
      "text/plain": [
       "track_id               | track_name                                                 | track_artist | track_popularity | track_album_id         | track_album_name                                           | track_album_release_date | playlist_name                                   | playlist_id            | playlist_genre | playlist_subgenre | danceability | energy | key  | loudness | mode | speechiness | acousticness | instrumentalness | liveness | valence | tempo   | duration_ms | creation_year | duration_min\n",
       "0GfS3y8Jd7SHWd9R51s7Fo | Dancing With A Stranger (With Normani) - Cheat Codes Remix | Sam Smith    | 69               | 2LDzwN4iZ4qbSA32E9CG4Q | Dancing With A Stranger (With Normani) [Cheat Codes Remix] | 2019-03-08               | Pop Remix                                       | 37i9dQZF1DXcZDD7cfEKhW | pop            | dance pop         | 0.746        | 0.557  | 1    | -6.722   | 1    | 0.0542      | 0.103        | 0.0036           | 0.138    | 0.324   | 111.961 | 159404      | 2019          | 2.65673\n",
       "6Qs4SXO9dwPj5GKvVOv8Ki | Dancing With A Stranger (with Normani)                     | Sam Smith    | 87               | 1V9oE8bVilClrk5naqyyvL | Dancing With A Stranger (with Normani)                     | 2019-01-11               | Dance Pop Tunes                                 | 4SdfG4cPG3skmTiQLozZGh | pop            | dance pop         | 0.741        | 0.52   | 8    | -7.513   | 1    | 0.0656      | 0.45         | 1.97e-06         | 0.222    | 0.347   | 102.998 | 171030      | 2019          | 2.8505\n",
       "29MOOOmMRPeWyPwKQFoF5t | I Feel Love                                                | Sam Smith    | 78               | 2DmVNmERvg6j9jZQbelNKu | I Feel Love                                                | 2019-11-01               | TUNES DANCE AND POP                             | 3arpkhoRWXEYbdCpVAIrRR | pop            | dance pop         | 0.719        | 0.708  | 0    | -7.418   | 1    | 0.0417      | 0.00645      | 0.201            | 0.064    | 0.256   | 126.015 | 254453      | 2019          | 4.24088\n",
       "6b2RcmUt1g9N9mQ3CbjX2Y | How Do You Sleep?                                          | Sam Smith    | 91               | 7baaCf70tVcUBL2bbkuXjo | How Do You Sleep?                                          | 2019-07-19               | Pop - Pop UK - 2019 - Canadian Pop - 2019 - Pop | 46Cl6dmeiylK6TRGXr7hHe | pop            | post-teen pop     | 0.477        | 0.682  | 1    | -4.931   | 0    | 0.0925      | 0.153        | 0                | 0.0763   | 0.345   | 110.567 | 202205      | 2019          | 3.37008\n",
       "6Qs4SXO9dwPj5GKvVOv8Ki | Dancing With A Stranger (with Normani)                     | Sam Smith    | 87               | 1V9oE8bVilClrk5naqyyvL | Dancing With A Stranger (with Normani)                     | 2019-01-11               | Post Teen Pop                                   | 2Aud8PXoTGcyY5esHu4Aaz | pop            | post-teen pop     | 0.741        | 0.52   | 8    | -7.513   | 1    | 0.0656      | 0.45         | 1.97e-06         | 0.222    | 0.347   | 102.998 | 171030      | 2019          | 2.8505\n",
       "6Qs4SXO9dwPj5GKvVOv8Ki | Dancing With A Stranger (with Normani)                     | Sam Smith    | 87               | 1V9oE8bVilClrk5naqyyvL | Dancing With A Stranger (with Normani)                     | 2019-01-11               | Electropop 2019                                 | 4Bi8VLtaSu0JILliif8lH6 | pop            | electropop        | 0.741        | 0.52   | 8    | -7.513   | 1    | 0.0656      | 0.45         | 1.97e-06         | 0.222    | 0.347   | 102.998 | 171030      | 2019          | 2.8505\n",
       "6b2RcmUt1g9N9mQ3CbjX2Y | How Do You Sleep?                                          | Sam Smith    | 91               | 7baaCf70tVcUBL2bbkuXjo | How Do You Sleep?                                          | 2019-07-19               | POPTIMISM                                       | 6lWMi4lPiiPwDqn8ZpeyAY | pop            | indie poptimism   | 0.477        | 0.682  | 1    | -4.931   | 0    | 0.0925      | 0.153        | 0                | 0.0763   | 0.345   | 110.567 | 202205      | 2019          | 3.37008\n",
       "3n3b5WNEohHP7Ou4ndBo6b | Pray                                                       | Sam Smith    | 60               | 3gbmTgBJupHlQnao4t4RDP | Pray                                                       | 2018-03-29               | This Is Logic                                   | 37i9dQZF1DWTIuAboZgTMf | rap            | hip hop           | 0.637        | 0.448  | 4    | -7.968   | 0    | 0.0617      | 0.224        | 0                | 0.0887   | 0.224   | 87.919  | 221760      | 2018          | 3.696\n",
       "6b2RcmUt1g9N9mQ3CbjX2Y | How Do You Sleep?                                          | Sam Smith    | 91               | 7baaCf70tVcUBL2bbkuXjo | How Do You Sleep?                                          | 2019-07-19               | 2020 Hits & 2019  Hits – Top Global Tracks 🔥🔥🔥  | 4JkkvMpVl4lSioqQjeAL0q | latin          | latin pop         | 0.477        | 0.682  | 1    | -4.931   | 0    | 0.0925      | 0.153        | 0                | 0.0763   | 0.345   | 110.567 | 202205      | 2019          | 3.37008\n",
       "6b2RcmUt1g9N9mQ3CbjX2Y | How Do You Sleep?                                          | Sam Smith    | 91               | 7baaCf70tVcUBL2bbkuXjo | How Do You Sleep?                                          | 2019-07-19               | 2020 Hits & 2019  Hits – Top Global Tracks 🔥🔥🔥  | 4JkkvMpVl4lSioqQjeAL0q | latin          | latin hip hop     | 0.477        | 0.682  | 1    | -4.931   | 0    | 0.0925      | 0.153        | 0                | 0.0763   | 0.345   | 110.567 | 202205      | 2019          | 3.37008\n",
       "... (15 rows omitted)"
      ]
     },
     "execution_count": 21,
     "metadata": {},
     "output_type": "execute_result"
    }
   ],
   "source": [
    "#Here is an example.\n",
    "sam_smith = spotify.where(\"track_artist\", are.equal_to(\"Sam Smith\"))\n",
    "sam_smith"
   ]
  },
  {
   "cell_type": "code",
   "execution_count": 22,
   "metadata": {},
   "outputs": [
    {
     "data": {
      "text/plain": [
       "3.2958253333333327"
      ]
     },
     "execution_count": 22,
     "metadata": {},
     "output_type": "execute_result"
    }
   ],
   "source": [
    "sam_smith.column(\"duration_min\").mean()"
   ]
  },
  {
   "cell_type": "code",
   "execution_count": 23,
   "metadata": {},
   "outputs": [
    {
     "ename": "SyntaxError",
     "evalue": "invalid syntax (<ipython-input-23-b412e0283fa2>, line 2)",
     "output_type": "error",
     "traceback": [
      "\u001b[0;36m  File \u001b[0;32m\"<ipython-input-23-b412e0283fa2>\"\u001b[0;36m, line \u001b[0;32m2\u001b[0m\n\u001b[0;31m    artist_name = spotify...\u001b[0m\n\u001b[0m                           ^\u001b[0m\n\u001b[0;31mSyntaxError\u001b[0m\u001b[0;31m:\u001b[0m invalid syntax\n"
     ]
    }
   ],
   "source": [
    "#In this cell, choose an artist you want to look at.\n",
    "artist_name = spotify..."
   ]
  },
  {
   "cell_type": "code",
   "execution_count": null,
   "metadata": {},
   "outputs": [],
   "source": [
    "#In this cell, choose another artist you want to compare it to.\n",
    "artist_name_2 = spotify..."
   ]
  },
  {
   "cell_type": "markdown",
   "metadata": {},
   "source": [
    "This exercise was just one example of how you can play around with data and answer questions."
   ]
  },
  {
   "cell_type": "markdown",
   "metadata": {},
   "source": [
    "### Top Genres and Artists\n",
    "In this section, we are interested in the categorical information in our dataset, such as the playlist each song comes from or the genre. There are almost 33,000 songs in our dataset, so let's do some investigating. What are the most popular genres? We can figure this out by grouping by the playlist genre."
   ]
  },
  {
   "cell_type": "markdown",
   "metadata": {},
   "source": [
    "<div class=\"alert alert-warning\">\n",
    "<b>Question:</b> First, let's group by genre.\n",
    "   </div>"
   ]
  },
  {
   "cell_type": "code",
   "execution_count": null,
   "metadata": {},
   "outputs": [],
   "source": [
    "genre_counts.spotify.group('...')"
   ]
  },
  {
   "cell_type": "markdown",
   "metadata": {},
   "source": [
    "<div class=\"alert alert-warning\">\n",
    "<b>Question:</b> In our dataset, it looks like the most popular genre is EDM. We can create a barchart to show how the other genres compare.\n",
    "   </div>"
   ]
  },
  {
   "cell_type": "code",
   "execution_count": null,
   "metadata": {},
   "outputs": [],
   "source": [
    "genre_counts.barh('...', '...')"
   ]
  },
  {
   "cell_type": "markdown",
   "metadata": {},
   "source": [
    "<div class=\"alert alert-warning\">\n",
    "<b>Question:</b> The bar chart will be easier to compare if we sort the data first.\n",
    "   </div>"
   ]
  },
  {
   "cell_type": "code",
   "execution_count": null,
   "metadata": {
    "scrolled": true
   },
   "outputs": [],
   "source": [
    "genre_counts_sorted = genre_counts.sort('...', descending = ...)\n",
    "genre_counts_sorted"
   ]
  },
  {
   "cell_type": "code",
   "execution_count": null,
   "metadata": {},
   "outputs": [],
   "source": [
    "genre_counts_sorted.barh('...', '...')"
   ]
  },
  {
   "cell_type": "markdown",
   "metadata": {},
   "source": [
    "<div class=\"alert alert-warning\">\n",
    "<b>Question:</b> Was this what you expected? Which genre did you think would be the most popular?\n",
    "   </div>"
   ]
  },
  {
   "cell_type": "markdown",
   "metadata": {},
   "source": [
    "*Insert answer here.*"
   ]
  },
  {
   "cell_type": "markdown",
   "metadata": {},
   "source": [
    "<div class=\"alert alert-warning\">\n",
    "<b>Question:</b> Let's take a look at all the artists in the dataset. We can take a look at the top 25 artists based on the number of songs they have in our dataset. We'll follow a similar method as we did when grouping by genre above. First, we will group our data by artist and sort by count.\n",
    "   </div>"
   ]
  },
  {
   "cell_type": "code",
   "execution_count": null,
   "metadata": {
    "scrolled": true
   },
   "outputs": [],
   "source": [
    "#Here, we will group and sort in the same line.\n",
    "\n",
    "artists_grouped = spotify.group('...').sort('...', ...)\n",
    "artists_grouped"
   ]
  },
  {
   "cell_type": "markdown",
   "metadata": {},
   "source": [
    "<div class=\"alert alert-warning\">\n",
    "<b>Question:</b> Let's take a look at all the artists in the dataset. We can take a look at the top 25 artists based on the number of songs they have in our dataset. We'll follow a similar method as we did when grouping by genre above. First, we will group our data by artist and sort by count.\n",
    "   </div>"
   ]
  },
  {
   "cell_type": "code",
   "execution_count": null,
   "metadata": {
    "scrolled": true
   },
   "outputs": [],
   "source": [
    "top_artists = artists_grouped.take(np.arange(0, 25))\n",
    "top_artists"
   ]
  },
  {
   "cell_type": "code",
   "execution_count": null,
   "metadata": {
    "scrolled": true
   },
   "outputs": [],
   "source": [
    "top_artists.barh('track_artist', '...')"
   ]
  },
  {
   "cell_type": "markdown",
   "metadata": {},
   "source": [
    "<div class=\"alert alert-warning\">\n",
    "<b>Question:</b> What do you notice about the top 25 artists in our dataset?\n",
    "   </div>"
   ]
  },
  {
   "cell_type": "markdown",
   "metadata": {},
   "source": [
    "*insert answer here*"
   ]
  },
  {
   "cell_type": "markdown",
   "metadata": {},
   "source": [
    "### Playlist Popularity"
   ]
  },
  {
   "cell_type": "markdown",
   "metadata": {},
   "source": [
    "In our dataset, each song is listed as belonging to a particular playlist, and each song is given a \"popularity score\", called the `track_popularity`. Using the `track_popularity`, we can calculate an \"aggregate popularity\" for each playlist, which is just the sum of all the popularity scores for the songs on the playlist.\n",
    "\n",
    "In order to create this aggregate popularity score, we need to group our data by playlist, and sum all of the popularity scores. First, we will create a subset of our `spotify` table using the `select` method. This lets us create a table with only the relevant columns we want. In this case, we only care about the name of the playlist and the popularity of each track. Keep in mind that each row still represents one track, even though we no longer have the track title in our table."
   ]
  },
  {
   "cell_type": "code",
   "execution_count": null,
   "metadata": {
    "scrolled": true
   },
   "outputs": [],
   "source": [
    "spotify_subset = spotify.select(['playlist_name', 'track_popularity'])\n",
    "spotify_subset"
   ]
  },
  {
   "cell_type": "markdown",
   "metadata": {},
   "source": [
    "<div class=\"alert alert-warning\">\n",
    "<b>Question:</b> By grouping, we can get the number of songs from each playlist.\n",
    "   </div>"
   ]
  },
  {
   "cell_type": "code",
   "execution_count": null,
   "metadata": {},
   "outputs": [],
   "source": [
    "playlists = spotify_subset.group('playlist_name')\n",
    "playlists"
   ]
  },
  {
   "cell_type": "markdown",
   "metadata": {},
   "source": [
    "<div class=\"alert alert-warning\">\n",
    "<b>Question:</b> We can use the `group` method again, this time passing in a second argument `collect`, which says that we want to take the sum rather than the count when grouping. This results in a table with the total aggregate popularity of each playlist.\n",
    "   </div>"
   ]
  },
  {
   "cell_type": "code",
   "execution_count": null,
   "metadata": {},
   "outputs": [],
   "source": [
    "#Run this cell.\n",
    "total_playlist_popularity = spotify_subset.group('...', collect = sum)\n",
    "total_playlist_popularity"
   ]
  },
  {
   "cell_type": "markdown",
   "metadata": {
    "collapsed": true
   },
   "source": [
    "Similar to when we found duration in minutes, we can once again use the `column` method to access just the `track_popularity sum` column, and add it to our playlists table using the `with_column` method."
   ]
  },
  {
   "cell_type": "code",
   "execution_count": null,
   "metadata": {},
   "outputs": [],
   "source": [
    "agg_popularity = total_playlist_popularity.column('track_popularity sum')\n",
    "playlists = playlists.with_column('aggregate_popularity', agg_popularity)\n",
    "playlists"
   ]
  },
  {
   "cell_type": "markdown",
   "metadata": {},
   "source": [
    "<div class=\"alert alert-warning\">\n",
    "<b>Question:</b> Do you think that the most popular playlist would be the one with the highest aggregate_popularity score, or the one with the highest number of songs? We can sort our playlists table and compare the outputs."
   ]
  },
  {
   "cell_type": "code",
   "execution_count": null,
   "metadata": {
    "scrolled": true
   },
   "outputs": [],
   "source": [
    "playlists.sort('...', descending=True)"
   ]
  },
  {
   "cell_type": "markdown",
   "metadata": {},
   "source": [
    "<div class=\"alert alert-warning\">\n",
    "<b>Question:</b> Now sort by aggregate popularity.\n",
    "   </div>"
   ]
  },
  {
   "cell_type": "code",
   "execution_count": null,
   "metadata": {
    "scrolled": true
   },
   "outputs": [],
   "source": [
    "playlists.sort('...', descending=True)"
   ]
  },
  {
   "cell_type": "markdown",
   "metadata": {},
   "source": [
    "Comparing these two outputs shows us that the \"most popular playlist\" depends on how we judge popularity. If we have a playlist that has only a few songs, but each of those songs are really popular, should that playlist be higher on the popularity rankings? By way of calculation, playlists with more songs will have a higher aggregate popularity, since more popularity values are being added together. We want a metric that will let us judge the actual quality and popularity of a playlist, not just how many songs it has.\n",
    "\n",
    "In order to take into account the number of songs on each playlist, we can calculate the \"average popularity\" of each song on the playlist, or the proportion of aggregate popularity that each song takes up. We can do this by dividing aggregate_popularity by count. Remember, since the columns are just arrays, we can use array math to calculate these values."
   ]
  },
  {
   "cell_type": "code",
   "execution_count": null,
   "metadata": {},
   "outputs": [],
   "source": [
    "#Run this cell to get the average.\n",
    "avg_popularity = playlists.column('aggregate_popularity') / playlists.column('count')"
   ]
  },
  {
   "cell_type": "code",
   "execution_count": null,
   "metadata": {},
   "outputs": [],
   "source": [
    "#Now add it to the playlists table.\n",
    "playlists = playlists.with_column('average_popularity', avg_popularity)\n",
    "playlists"
   ]
  },
  {
   "cell_type": "markdown",
   "metadata": {},
   "source": [
    "<div class=\"alert alert-warning\">\n",
    "<b>Question:</b> Let's see if our \"most popular playlist\" changes when we judge popularity by the average popularity of the songs on a playlist.\n",
    "   </div>"
   ]
  },
  {
   "cell_type": "code",
   "execution_count": null,
   "metadata": {
    "scrolled": true
   },
   "outputs": [],
   "source": [
    "playlists.sort('average_popularity', descending=True)"
   ]
  },
  {
   "cell_type": "markdown",
   "metadata": {},
   "source": [
    "Looking at the table above, we notice that 8/10 of the top 10 most popular playlists by the `average_popularity` metric are playlists with less than 100 songs. Just because a playlist has a lot of songs, or a high aggregate popularity, doesn't mean that the average popularity of a song on that playlist is high. Our new metric of `average_popularity` lets us rank playlists where the size of a playlist has no effect on it's overall score. We can visualize the top 25 playlists by average popularity in a bar chart."
   ]
  },
  {
   "cell_type": "code",
   "execution_count": null,
   "metadata": {
    "scrolled": true
   },
   "outputs": [],
   "source": [
    "top_25_playlists = playlists.sort('average_popularity', descending=True).take(np.arange(25))\n",
    "top_25_playlists.barh('...', '...')"
   ]
  },
  {
   "cell_type": "markdown",
   "metadata": {},
   "source": [
    "Creating a new metric like `average_popularity` helps us more accurately and fairly measure the popularity of a playlist. \n",
    "\n",
    "We saw before when looking at the top 25 artists that they were all male. Now looking at the top playlists, we see that the current landscape of popular playlists and music may have an effect on the artists that are popular. For example, the RapCaviar is the second most popular playlist, and generally there tends to be fewer female rap artists than male. This shows that the current landscape of popular music can affect the types of artists topping the charts."
   ]
  },
  {
   "cell_type": "markdown",
   "metadata": {},
   "source": [
    "## Using prediction and inference to draw conclusions <a id='subsection 1a'></a>"
   ]
  },
  {
   "cell_type": "markdown",
   "metadata": {},
   "source": [
    "Now that we have some experience making these visualizations, let's go back to the visualizations others are working on to analyze Spotify data using more complex techniques.\n",
    "\n",
    "https://public.tableau.com/profile/vaibhavi.gaekwad#!/vizhome/Spotify_15858686831320/Dashboard1"
   ]
  },
  {
   "cell_type": "markdown",
   "metadata": {},
   "source": [
    "Music and culture are very intertwined so it's interesting to look at when songs are released and what is popular during that time. In this last exercise, you will be looking at the popularity of artists and tracks based on the dates you choose."
   ]
  },
  {
   "cell_type": "code",
   "execution_count": null,
   "metadata": {},
   "outputs": [],
   "source": [
    "#Let's look at our data again.\n",
    "spotify"
   ]
  },
  {
   "cell_type": "markdown",
   "metadata": {},
   "source": [
    "<div class=\"alert alert-warning\">\n",
    "<b>Question:</b> This cell will filter the data according to the creation_year you choose.\n",
    "   </div>"
   ]
  },
  {
   "cell_type": "code",
   "execution_count": 24,
   "metadata": {
    "scrolled": false
   },
   "outputs": [
    {
     "data": {
      "text/html": [
       "<table border=\"1\" class=\"dataframe\">\n",
       "    <thead>\n",
       "        <tr>\n",
       "            <th>track_id</th> <th>track_name</th> <th>track_artist</th> <th>track_popularity</th> <th>track_album_id</th> <th>track_album_name</th> <th>track_album_release_date</th> <th>playlist_name</th> <th>playlist_id</th> <th>playlist_genre</th> <th>playlist_subgenre</th> <th>danceability</th> <th>energy</th> <th>key</th> <th>loudness</th> <th>mode</th> <th>speechiness</th> <th>acousticness</th> <th>instrumentalness</th> <th>liveness</th> <th>valence</th> <th>tempo</th> <th>duration_ms</th> <th>creation_year</th> <th>duration_min</th>\n",
       "        </tr>\n",
       "    </thead>\n",
       "    <tbody>\n",
       "        <tr>\n",
       "            <td>7BKLCZ1jbUBVqRi2FVlTVw</td> <td>Closer (feat. Halsey)                                       </td> <td>The Chainsmokers </td> <td>85              </td> <td>0rSLgV8p5FzfnqlEk4GzxE</td> <td>Closer (feat. Halsey)                      </td> <td>2016-07-29              </td> <td>Dance Pop         </td> <td>37i9dQZF1DWZQaaqNMbbXa</td> <td>pop           </td> <td>dance pop        </td> <td>0.748       </td> <td>0.524 </td> <td>8   </td> <td>-5.599  </td> <td>1   </td> <td>0.0338     </td> <td>0.414       </td> <td>0               </td> <td>0.111   </td> <td>0.661  </td> <td>95.01  </td> <td>244960     </td> <td>2016         </td> <td>4.08267     </td>\n",
       "        </tr>\n",
       "        <tr>\n",
       "            <td>0lYBSQXN6rCTvUZvg9S0lU</td> <td>Let Me Love You                                             </td> <td>DJ Snake         </td> <td>81              </td> <td>02sEJTj1sye1JaqxqpcSCp</td> <td>Encore                                     </td> <td>2016-08-05              </td> <td>Dance Pop         </td> <td>37i9dQZF1DWZQaaqNMbbXa</td> <td>pop           </td> <td>dance pop        </td> <td>0.649       </td> <td>0.716 </td> <td>8   </td> <td>-5.371  </td> <td>1   </td> <td>0.0349     </td> <td>0.0863      </td> <td>2.63e-05        </td> <td>0.135   </td> <td>0.163  </td> <td>99.988 </td> <td>205947     </td> <td>2016         </td> <td>3.43245     </td>\n",
       "        </tr>\n",
       "        <tr>\n",
       "            <td>0azC730Exh71aQlOt9Zj3y</td> <td>This Is What You Came For                                   </td> <td>Calvin Harris    </td> <td>79              </td> <td>3pEgGUv379EDinvg1TN7Kt</td> <td>This Is What You Came For                  </td> <td>2016-04-29              </td> <td>Dance Pop         </td> <td>37i9dQZF1DWZQaaqNMbbXa</td> <td>pop           </td> <td>dance pop        </td> <td>0.63        </td> <td>0.928 </td> <td>9   </td> <td>-2.787  </td> <td>0   </td> <td>0.0331     </td> <td>0.199       </td> <td>0.124           </td> <td>0.148   </td> <td>0.465  </td> <td>123.963</td> <td>222160     </td> <td>2016         </td> <td>3.70267     </td>\n",
       "        </tr>\n",
       "        <tr>\n",
       "            <td>1WkMMavIMc4JZ8cfMmxHkI</td> <td>CAN'T STOP THE FEELING! (Original Song from DreamWorks A ...</td> <td>Justin Timberlake</td> <td>74              </td> <td>65ayND23IInUPHJKsaAqe7</td> <td>TROLLS (Original Motion Picture Soundtrack)</td> <td>2016-09-23              </td> <td>Dance Pop         </td> <td>37i9dQZF1DWZQaaqNMbbXa</td> <td>pop           </td> <td>dance pop        </td> <td>0.669       </td> <td>0.832 </td> <td>0   </td> <td>-5.72   </td> <td>1   </td> <td>0.0682     </td> <td>0.0106      </td> <td>0               </td> <td>0.0968  </td> <td>0.7    </td> <td>113.035</td> <td>237547     </td> <td>2016         </td> <td>3.95912     </td>\n",
       "        </tr>\n",
       "        <tr>\n",
       "            <td>3R6dPfF2yBO8mHySW1XDAa</td> <td>Solo Dance                                                  </td> <td>Martin Jensen    </td> <td>61              </td> <td>7J6SYqcOQ705IYA0DUec38</td> <td>Solo Dance                                 </td> <td>2016-11-04              </td> <td>Dance Pop Hits    </td> <td>37i9dQZF1DX6pH08wMhkaI</td> <td>pop           </td> <td>dance pop        </td> <td>0.746       </td> <td>0.846 </td> <td>9   </td> <td>-2.432  </td> <td>1   </td> <td>0.048      </td> <td>0.0485      </td> <td>0               </td> <td>0.195   </td> <td>0.403  </td> <td>114.955</td> <td>174933     </td> <td>2016         </td> <td>2.91555     </td>\n",
       "        </tr>\n",
       "        <tr>\n",
       "            <td>3R8lr1Y1kPgXEbnXkcMMlT</td> <td>Call On Me - Ryan Riback Remix                              </td> <td>Starley          </td> <td>58              </td> <td>3PznGvjYhmK2jeTA1pdxkK</td> <td>Call On Me                                 </td> <td>2016-10-07              </td> <td>Dance Pop Hits    </td> <td>37i9dQZF1DX6pH08wMhkaI</td> <td>pop           </td> <td>dance pop        </td> <td>0.691       </td> <td>0.821 </td> <td>0   </td> <td>-4.527  </td> <td>1   </td> <td>0.0401     </td> <td>0.136       </td> <td>0.000115        </td> <td>0.092   </td> <td>0.759  </td> <td>104.961</td> <td>222000     </td> <td>2016         </td> <td>3.7         </td>\n",
       "        </tr>\n",
       "        <tr>\n",
       "            <td>0BiGd2FNDQ0eh79ZHfp6tS</td> <td>All I Wanna Do                                              </td> <td>Martin Jensen    </td> <td>55              </td> <td>5iTIgNz59Z4j1wtX0I29z8</td> <td>All I Wanna Do                             </td> <td>2016-04-08              </td> <td>Dance Pop Hits    </td> <td>37i9dQZF1DX6pH08wMhkaI</td> <td>pop           </td> <td>dance pop        </td> <td>0.728       </td> <td>0.794 </td> <td>1   </td> <td>-3.992  </td> <td>1   </td> <td>0.0635     </td> <td>0.148       </td> <td>0               </td> <td>0.0688  </td> <td>0.523  </td> <td>112.071</td> <td>194360     </td> <td>2016         </td> <td>3.23933     </td>\n",
       "        </tr>\n",
       "        <tr>\n",
       "            <td>6UiDiFJUGEDzkGpZBL8IYq</td> <td>I Feel The Love                                             </td> <td>Tritonal         </td> <td>58              </td> <td>11t999cj3x48JaRSde6s8p</td> <td>Painting With Dreams                       </td> <td>2016-09-09              </td> <td>Pop Warmup 130 BPM</td> <td>37i9dQZF1DX3PIAZMcbo2T</td> <td>pop           </td> <td>dance pop        </td> <td>0.555       </td> <td>0.813 </td> <td>0   </td> <td>-5.792  </td> <td>1   </td> <td>0.033      </td> <td>0.0201      </td> <td>0               </td> <td>0.165   </td> <td>0.435  </td> <td>125.034</td> <td>213120     </td> <td>2016         </td> <td>3.552       </td>\n",
       "        </tr>\n",
       "        <tr>\n",
       "            <td>23L5CiUhw2jV1OIMwthR3S</td> <td>In the Name of Love                                         </td> <td>Martin Garrix    </td> <td>80              </td> <td>1FOJ5IXGXe8dl0cXvCU6wK</td> <td>In the Name of Love                        </td> <td>2016-07-29              </td> <td>Pop Warmup 130 BPM</td> <td>37i9dQZF1DX3PIAZMcbo2T</td> <td>pop           </td> <td>dance pop        </td> <td>0.501       </td> <td>0.519 </td> <td>4   </td> <td>-5.88   </td> <td>0   </td> <td>0.0409     </td> <td>0.109       </td> <td>0               </td> <td>0.454   </td> <td>0.168  </td> <td>133.99 </td> <td>195707     </td> <td>2016         </td> <td>3.26178     </td>\n",
       "        </tr>\n",
       "        <tr>\n",
       "            <td>7Cd4glTUgV0vr0DBncEg8S</td> <td>하드캐리 Hard Carry                                             </td> <td>GOT7             </td> <td>1               </td> <td>5ek64tPWwHgN6zWuAWTkS2</td> <td>FLIGHT LOG : TURBULENCE                    </td> <td>2016-09-27              </td> <td>K-Party Dance Mix </td> <td>37i9dQZF1DX4RDXswvP6Mj</td> <td>pop           </td> <td>dance pop        </td> <td>0.7         </td> <td>0.873 </td> <td>1   </td> <td>-2.901  </td> <td>1   </td> <td>0.0869     </td> <td>0.0148      </td> <td>0               </td> <td>0.343   </td> <td>0.612  </td> <td>99.972 </td> <td>193579     </td> <td>2016         </td> <td>3.22632     </td>\n",
       "        </tr>\n",
       "    </tbody>\n",
       "</table>\n",
       "<p>... (2117 rows omitted)</p>"
      ],
      "text/plain": [
       "track_id               | track_name                                                   | track_artist      | track_popularity | track_album_id         | track_album_name                            | track_album_release_date | playlist_name      | playlist_id            | playlist_genre | playlist_subgenre | danceability | energy | key  | loudness | mode | speechiness | acousticness | instrumentalness | liveness | valence | tempo   | duration_ms | creation_year | duration_min\n",
       "7BKLCZ1jbUBVqRi2FVlTVw | Closer (feat. Halsey)                                        | The Chainsmokers  | 85               | 0rSLgV8p5FzfnqlEk4GzxE | Closer (feat. Halsey)                       | 2016-07-29               | Dance Pop          | 37i9dQZF1DWZQaaqNMbbXa | pop            | dance pop         | 0.748        | 0.524  | 8    | -5.599   | 1    | 0.0338      | 0.414        | 0                | 0.111    | 0.661   | 95.01   | 244960      | 2016          | 4.08267\n",
       "0lYBSQXN6rCTvUZvg9S0lU | Let Me Love You                                              | DJ Snake          | 81               | 02sEJTj1sye1JaqxqpcSCp | Encore                                      | 2016-08-05               | Dance Pop          | 37i9dQZF1DWZQaaqNMbbXa | pop            | dance pop         | 0.649        | 0.716  | 8    | -5.371   | 1    | 0.0349      | 0.0863       | 2.63e-05         | 0.135    | 0.163   | 99.988  | 205947      | 2016          | 3.43245\n",
       "0azC730Exh71aQlOt9Zj3y | This Is What You Came For                                    | Calvin Harris     | 79               | 3pEgGUv379EDinvg1TN7Kt | This Is What You Came For                   | 2016-04-29               | Dance Pop          | 37i9dQZF1DWZQaaqNMbbXa | pop            | dance pop         | 0.63         | 0.928  | 9    | -2.787   | 0    | 0.0331      | 0.199        | 0.124            | 0.148    | 0.465   | 123.963 | 222160      | 2016          | 3.70267\n",
       "1WkMMavIMc4JZ8cfMmxHkI | CAN'T STOP THE FEELING! (Original Song from DreamWorks A ... | Justin Timberlake | 74               | 65ayND23IInUPHJKsaAqe7 | TROLLS (Original Motion Picture Soundtrack) | 2016-09-23               | Dance Pop          | 37i9dQZF1DWZQaaqNMbbXa | pop            | dance pop         | 0.669        | 0.832  | 0    | -5.72    | 1    | 0.0682      | 0.0106       | 0                | 0.0968   | 0.7     | 113.035 | 237547      | 2016          | 3.95912\n",
       "3R6dPfF2yBO8mHySW1XDAa | Solo Dance                                                   | Martin Jensen     | 61               | 7J6SYqcOQ705IYA0DUec38 | Solo Dance                                  | 2016-11-04               | Dance Pop Hits     | 37i9dQZF1DX6pH08wMhkaI | pop            | dance pop         | 0.746        | 0.846  | 9    | -2.432   | 1    | 0.048       | 0.0485       | 0                | 0.195    | 0.403   | 114.955 | 174933      | 2016          | 2.91555\n",
       "3R8lr1Y1kPgXEbnXkcMMlT | Call On Me - Ryan Riback Remix                               | Starley           | 58               | 3PznGvjYhmK2jeTA1pdxkK | Call On Me                                  | 2016-10-07               | Dance Pop Hits     | 37i9dQZF1DX6pH08wMhkaI | pop            | dance pop         | 0.691        | 0.821  | 0    | -4.527   | 1    | 0.0401      | 0.136        | 0.000115         | 0.092    | 0.759   | 104.961 | 222000      | 2016          | 3.7\n",
       "0BiGd2FNDQ0eh79ZHfp6tS | All I Wanna Do                                               | Martin Jensen     | 55               | 5iTIgNz59Z4j1wtX0I29z8 | All I Wanna Do                              | 2016-04-08               | Dance Pop Hits     | 37i9dQZF1DX6pH08wMhkaI | pop            | dance pop         | 0.728        | 0.794  | 1    | -3.992   | 1    | 0.0635      | 0.148        | 0                | 0.0688   | 0.523   | 112.071 | 194360      | 2016          | 3.23933\n",
       "6UiDiFJUGEDzkGpZBL8IYq | I Feel The Love                                              | Tritonal          | 58               | 11t999cj3x48JaRSde6s8p | Painting With Dreams                        | 2016-09-09               | Pop Warmup 130 BPM | 37i9dQZF1DX3PIAZMcbo2T | pop            | dance pop         | 0.555        | 0.813  | 0    | -5.792   | 1    | 0.033       | 0.0201       | 0                | 0.165    | 0.435   | 125.034 | 213120      | 2016          | 3.552\n",
       "23L5CiUhw2jV1OIMwthR3S | In the Name of Love                                          | Martin Garrix     | 80               | 1FOJ5IXGXe8dl0cXvCU6wK | In the Name of Love                         | 2016-07-29               | Pop Warmup 130 BPM | 37i9dQZF1DX3PIAZMcbo2T | pop            | dance pop         | 0.501        | 0.519  | 4    | -5.88    | 0    | 0.0409      | 0.109        | 0                | 0.454    | 0.168   | 133.99  | 195707      | 2016          | 3.26178\n",
       "7Cd4glTUgV0vr0DBncEg8S | 하드캐리 Hard Carry                                              | GOT7              | 1                | 5ek64tPWwHgN6zWuAWTkS2 | FLIGHT LOG : TURBULENCE                     | 2016-09-27               | K-Party Dance Mix  | 37i9dQZF1DX4RDXswvP6Mj | pop            | dance pop         | 0.7          | 0.873  | 1    | -2.901   | 1    | 0.0869      | 0.0148       | 0                | 0.343    | 0.612   | 99.972  | 193579      | 2016          | 3.22632\n",
       "... (2117 rows omitted)"
      ]
     },
     "execution_count": 24,
     "metadata": {},
     "output_type": "execute_result"
    }
   ],
   "source": [
    "#Fill in the year as an integer.\n",
    "by_year = spotify.where(\"creation_year\", are.equal_to(2016))\n",
    "by_year"
   ]
  },
  {
   "cell_type": "code",
   "execution_count": 25,
   "metadata": {
    "scrolled": true
   },
   "outputs": [
    {
     "data": {
      "text/html": [
       "<table border=\"1\" class=\"dataframe\">\n",
       "    <thead>\n",
       "        <tr>\n",
       "            <th>track_name</th> <th>count</th>\n",
       "        </tr>\n",
       "    </thead>\n",
       "    <tbody>\n",
       "        <tr>\n",
       "            <td>One Dance                          </td> <td>12   </td>\n",
       "        </tr>\n",
       "        <tr>\n",
       "            <td>Closer (feat. Halsey)              </td> <td>10   </td>\n",
       "        </tr>\n",
       "        <tr>\n",
       "            <td>Let Me Love You                    </td> <td>9    </td>\n",
       "        </tr>\n",
       "        <tr>\n",
       "            <td>Cheap Thrills                      </td> <td>9    </td>\n",
       "        </tr>\n",
       "        <tr>\n",
       "            <td>Starboy                            </td> <td>8    </td>\n",
       "        </tr>\n",
       "        <tr>\n",
       "            <td>I Took A Pill In Ibiza - Seeb Remix</td> <td>7    </td>\n",
       "        </tr>\n",
       "        <tr>\n",
       "            <td>Work                               </td> <td>6    </td>\n",
       "        </tr>\n",
       "        <tr>\n",
       "            <td>This Is What You Came For          </td> <td>6    </td>\n",
       "        </tr>\n",
       "        <tr>\n",
       "            <td>The Greatest                       </td> <td>6    </td>\n",
       "        </tr>\n",
       "        <tr>\n",
       "            <td>Safari                             </td> <td>6    </td>\n",
       "        </tr>\n",
       "    </tbody>\n",
       "</table>\n",
       "<p>... (1668 rows omitted)</p>"
      ],
      "text/plain": [
       "track_name                          | count\n",
       "One Dance                           | 12\n",
       "Closer (feat. Halsey)               | 10\n",
       "Let Me Love You                     | 9\n",
       "Cheap Thrills                       | 9\n",
       "Starboy                             | 8\n",
       "I Took A Pill In Ibiza - Seeb Remix | 7\n",
       "Work                                | 6\n",
       "This Is What You Came For           | 6\n",
       "The Greatest                        | 6\n",
       "Safari                              | 6\n",
       "... (1668 rows omitted)"
      ]
     },
     "execution_count": 25,
     "metadata": {},
     "output_type": "execute_result"
    }
   ],
   "source": [
    "#Based on the dataset you have now, use previous techniques to \n",
    "#find the most popular song during that year. First group by what \n",
    "#you want to look at, for example, artist/playlist/track.\n",
    "\n",
    "your_grouped = by_year.group(\"...\")\n",
    "pop_track = your_grouped.sort(\"...\", descending = True)\n",
    "pop_track"
   ]
  },
  {
   "cell_type": "code",
   "execution_count": 26,
   "metadata": {
    "scrolled": true
   },
   "outputs": [
    {
     "data": {
      "image/png": "[encoded data removed]",
      "text/plain": [
       "<Figure size 432x900 with 1 Axes>"
      ]
     },
     "metadata": {},
     "output_type": "display_data"
    }
   ],
   "source": [
    "pop_track.take(np.arange(25)).barh(\"...\", \"count\")"
   ]
  },
  {
   "cell_type": "markdown",
   "metadata": {},
   "source": [
    "<div class=\"alert alert-warning\">\n",
    "<b>Question:</b> Finally, use this cell if you want to look at the popularity of a track released on a specific date. It's very similar to the process above.\n",
    "   </div>"
   ]
  },
  {
   "cell_type": "code",
   "execution_count": 31,
   "metadata": {},
   "outputs": [
    {
     "data": {
      "image/png": "[encoded data removed]",
      "text/plain": [
       "<Figure size 432x360 with 1 Axes>"
      ]
     },
     "metadata": {},
     "output_type": "display_data"
    }
   ],
   "source": [
    "by_date = spotify.where(\"track_album_release_date\", are.equal_to(\"...\"))\n",
    "your_grouped = by_date.group(\"...\")\n",
    "pop_track = your_grouped.sort(\"count\", descending = True)\n",
    "pop_track.take(np.arange(10)).barh(\"track_artist\", \"count\")"
   ]
  },
  {
   "cell_type": "markdown",
   "metadata": {},
   "source": [
    "<div class=\"alert alert-warning\">\n",
    "<b>Question:</b> Tell us something interesting about this data.\n",
    "   </div>"
   ]
  },
  {
   "cell_type": "markdown",
   "metadata": {},
   "source": [
    "*Insert answer here.*"
   ]
  },
  {
   "cell_type": "markdown",
   "metadata": {},
   "source": [
    "Notebook Authors: Alleanna Clark"
   ]
  }
 ],
 "metadata": {
  "kernelspec": {
   "display_name": "Python 3",
   "language": "python",
   "name": "python3"
  },
  "language_info": {
   "codemirror_mode": {
    "name": "ipython",
    "version": 3
   },
   "file_extension": ".py",
   "mimetype": "text/x-python",
   "name": "python",
   "nbconvert_exporter": "python",
   "pygments_lexer": "ipython3",
   "version": "3.6.9"
  }
 },
 "nbformat": 4,
 "nbformat_minor": 4
}
