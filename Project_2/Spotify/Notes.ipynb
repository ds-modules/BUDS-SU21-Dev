{
 "cells": [
  {
   "cell_type": "code",
   "execution_count": 5,
   "metadata": {},
   "outputs": [],
   "source": [
    "import pandas as pd\n",
    "from datascience import *\n",
    "%matplotlib inline"
   ]
  },
  {
   "cell_type": "code",
   "execution_count": 6,
   "metadata": {},
   "outputs": [
    {
     "data": {
      "text/html": [
       "<div>\n",
       "<style scoped>\n",
       "    .dataframe tbody tr th:only-of-type {\n",
       "        vertical-align: middle;\n",
       "    }\n",
       "\n",
       "    .dataframe tbody tr th {\n",
       "        vertical-align: top;\n",
       "    }\n",
       "\n",
       "    .dataframe thead th {\n",
       "        text-align: right;\n",
       "    }\n",
       "</style>\n",
       "<table border=\"1\" class=\"dataframe\">\n",
       "  <thead>\n",
       "    <tr style=\"text-align: right;\">\n",
       "      <th></th>\n",
       "      <th>track_id</th>\n",
       "      <th>track_name</th>\n",
       "      <th>track_artist</th>\n",
       "      <th>track_popularity</th>\n",
       "      <th>track_album_id</th>\n",
       "      <th>track_album_name</th>\n",
       "      <th>track_album_release_date</th>\n",
       "      <th>playlist_name</th>\n",
       "      <th>playlist_id</th>\n",
       "      <th>playlist_genre</th>\n",
       "      <th>...</th>\n",
       "      <th>key</th>\n",
       "      <th>loudness</th>\n",
       "      <th>mode</th>\n",
       "      <th>speechiness</th>\n",
       "      <th>acousticness</th>\n",
       "      <th>instrumentalness</th>\n",
       "      <th>liveness</th>\n",
       "      <th>valence</th>\n",
       "      <th>tempo</th>\n",
       "      <th>duration_ms</th>\n",
       "    </tr>\n",
       "  </thead>\n",
       "  <tbody>\n",
       "    <tr>\n",
       "      <th>0</th>\n",
       "      <td>6f807x0ima9a1j3VPbc7VN</td>\n",
       "      <td>I Don't Care (with Justin Bieber) - Loud Luxur...</td>\n",
       "      <td>Ed Sheeran</td>\n",
       "      <td>66</td>\n",
       "      <td>2oCs0DGTsRO98Gh5ZSl2Cx</td>\n",
       "      <td>I Don't Care (with Justin Bieber) [Loud Luxury...</td>\n",
       "      <td>2019-06-14</td>\n",
       "      <td>Pop Remix</td>\n",
       "      <td>37i9dQZF1DXcZDD7cfEKhW</td>\n",
       "      <td>pop</td>\n",
       "      <td>...</td>\n",
       "      <td>6</td>\n",
       "      <td>-2.634</td>\n",
       "      <td>1</td>\n",
       "      <td>0.0583</td>\n",
       "      <td>0.1020</td>\n",
       "      <td>0.000000</td>\n",
       "      <td>0.0653</td>\n",
       "      <td>0.518</td>\n",
       "      <td>122.036</td>\n",
       "      <td>194754</td>\n",
       "    </tr>\n",
       "    <tr>\n",
       "      <th>1</th>\n",
       "      <td>0r7CVbZTWZgbTCYdfa2P31</td>\n",
       "      <td>Memories - Dillon Francis Remix</td>\n",
       "      <td>Maroon 5</td>\n",
       "      <td>67</td>\n",
       "      <td>63rPSO264uRjW1X5E6cWv6</td>\n",
       "      <td>Memories (Dillon Francis Remix)</td>\n",
       "      <td>2019-12-13</td>\n",
       "      <td>Pop Remix</td>\n",
       "      <td>37i9dQZF1DXcZDD7cfEKhW</td>\n",
       "      <td>pop</td>\n",
       "      <td>...</td>\n",
       "      <td>11</td>\n",
       "      <td>-4.969</td>\n",
       "      <td>1</td>\n",
       "      <td>0.0373</td>\n",
       "      <td>0.0724</td>\n",
       "      <td>0.004210</td>\n",
       "      <td>0.3570</td>\n",
       "      <td>0.693</td>\n",
       "      <td>99.972</td>\n",
       "      <td>162600</td>\n",
       "    </tr>\n",
       "    <tr>\n",
       "      <th>2</th>\n",
       "      <td>1z1Hg7Vb0AhHDiEmnDE79l</td>\n",
       "      <td>All the Time - Don Diablo Remix</td>\n",
       "      <td>Zara Larsson</td>\n",
       "      <td>70</td>\n",
       "      <td>1HoSmj2eLcsrR0vE9gThr4</td>\n",
       "      <td>All the Time (Don Diablo Remix)</td>\n",
       "      <td>2019-07-05</td>\n",
       "      <td>Pop Remix</td>\n",
       "      <td>37i9dQZF1DXcZDD7cfEKhW</td>\n",
       "      <td>pop</td>\n",
       "      <td>...</td>\n",
       "      <td>1</td>\n",
       "      <td>-3.432</td>\n",
       "      <td>0</td>\n",
       "      <td>0.0742</td>\n",
       "      <td>0.0794</td>\n",
       "      <td>0.000023</td>\n",
       "      <td>0.1100</td>\n",
       "      <td>0.613</td>\n",
       "      <td>124.008</td>\n",
       "      <td>176616</td>\n",
       "    </tr>\n",
       "    <tr>\n",
       "      <th>3</th>\n",
       "      <td>75FpbthrwQmzHlBJLuGdC7</td>\n",
       "      <td>Call You Mine - Keanu Silva Remix</td>\n",
       "      <td>The Chainsmokers</td>\n",
       "      <td>60</td>\n",
       "      <td>1nqYsOef1yKKuGOVchbsk6</td>\n",
       "      <td>Call You Mine - The Remixes</td>\n",
       "      <td>2019-07-19</td>\n",
       "      <td>Pop Remix</td>\n",
       "      <td>37i9dQZF1DXcZDD7cfEKhW</td>\n",
       "      <td>pop</td>\n",
       "      <td>...</td>\n",
       "      <td>7</td>\n",
       "      <td>-3.778</td>\n",
       "      <td>1</td>\n",
       "      <td>0.1020</td>\n",
       "      <td>0.0287</td>\n",
       "      <td>0.000009</td>\n",
       "      <td>0.2040</td>\n",
       "      <td>0.277</td>\n",
       "      <td>121.956</td>\n",
       "      <td>169093</td>\n",
       "    </tr>\n",
       "    <tr>\n",
       "      <th>4</th>\n",
       "      <td>1e8PAfcKUYoKkxPhrHqw4x</td>\n",
       "      <td>Someone You Loved - Future Humans Remix</td>\n",
       "      <td>Lewis Capaldi</td>\n",
       "      <td>69</td>\n",
       "      <td>7m7vv9wlQ4i0LFuJiE2zsQ</td>\n",
       "      <td>Someone You Loved (Future Humans Remix)</td>\n",
       "      <td>2019-03-05</td>\n",
       "      <td>Pop Remix</td>\n",
       "      <td>37i9dQZF1DXcZDD7cfEKhW</td>\n",
       "      <td>pop</td>\n",
       "      <td>...</td>\n",
       "      <td>1</td>\n",
       "      <td>-4.672</td>\n",
       "      <td>1</td>\n",
       "      <td>0.0359</td>\n",
       "      <td>0.0803</td>\n",
       "      <td>0.000000</td>\n",
       "      <td>0.0833</td>\n",
       "      <td>0.725</td>\n",
       "      <td>123.976</td>\n",
       "      <td>189052</td>\n",
       "    </tr>\n",
       "  </tbody>\n",
       "</table>\n",
       "<p>5 rows × 23 columns</p>\n",
       "</div>"
      ],
      "text/plain": [
       "                 track_id                                         track_name  \\\n",
       "0  6f807x0ima9a1j3VPbc7VN  I Don't Care (with Justin Bieber) - Loud Luxur...   \n",
       "1  0r7CVbZTWZgbTCYdfa2P31                    Memories - Dillon Francis Remix   \n",
       "2  1z1Hg7Vb0AhHDiEmnDE79l                    All the Time - Don Diablo Remix   \n",
       "3  75FpbthrwQmzHlBJLuGdC7                  Call You Mine - Keanu Silva Remix   \n",
       "4  1e8PAfcKUYoKkxPhrHqw4x            Someone You Loved - Future Humans Remix   \n",
       "\n",
       "       track_artist  track_popularity          track_album_id  \\\n",
       "0        Ed Sheeran                66  2oCs0DGTsRO98Gh5ZSl2Cx   \n",
       "1          Maroon 5                67  63rPSO264uRjW1X5E6cWv6   \n",
       "2      Zara Larsson                70  1HoSmj2eLcsrR0vE9gThr4   \n",
       "3  The Chainsmokers                60  1nqYsOef1yKKuGOVchbsk6   \n",
       "4     Lewis Capaldi                69  7m7vv9wlQ4i0LFuJiE2zsQ   \n",
       "\n",
       "                                    track_album_name track_album_release_date  \\\n",
       "0  I Don't Care (with Justin Bieber) [Loud Luxury...               2019-06-14   \n",
       "1                    Memories (Dillon Francis Remix)               2019-12-13   \n",
       "2                    All the Time (Don Diablo Remix)               2019-07-05   \n",
       "3                        Call You Mine - The Remixes               2019-07-19   \n",
       "4            Someone You Loved (Future Humans Remix)               2019-03-05   \n",
       "\n",
       "  playlist_name             playlist_id playlist_genre     ...      key  \\\n",
       "0     Pop Remix  37i9dQZF1DXcZDD7cfEKhW            pop     ...        6   \n",
       "1     Pop Remix  37i9dQZF1DXcZDD7cfEKhW            pop     ...       11   \n",
       "2     Pop Remix  37i9dQZF1DXcZDD7cfEKhW            pop     ...        1   \n",
       "3     Pop Remix  37i9dQZF1DXcZDD7cfEKhW            pop     ...        7   \n",
       "4     Pop Remix  37i9dQZF1DXcZDD7cfEKhW            pop     ...        1   \n",
       "\n",
       "   loudness  mode  speechiness  acousticness  instrumentalness  liveness  \\\n",
       "0    -2.634     1       0.0583        0.1020          0.000000    0.0653   \n",
       "1    -4.969     1       0.0373        0.0724          0.004210    0.3570   \n",
       "2    -3.432     0       0.0742        0.0794          0.000023    0.1100   \n",
       "3    -3.778     1       0.1020        0.0287          0.000009    0.2040   \n",
       "4    -4.672     1       0.0359        0.0803          0.000000    0.0833   \n",
       "\n",
       "   valence    tempo  duration_ms  \n",
       "0    0.518  122.036       194754  \n",
       "1    0.693   99.972       162600  \n",
       "2    0.613  124.008       176616  \n",
       "3    0.277  121.956       169093  \n",
       "4    0.725  123.976       189052  \n",
       "\n",
       "[5 rows x 23 columns]"
      ]
     },
     "execution_count": 6,
     "metadata": {},
     "output_type": "execute_result"
    }
   ],
   "source": [
    "spotify = pd.read_csv('https://raw.githubusercontent.com/rfordatascience/tidytuesday/master/data/2020/2020-01-21/spotify_songs.csv')\n",
    "spotify.head()"
   ]
  },
  {
   "cell_type": "code",
   "execution_count": 7,
   "metadata": {},
   "outputs": [
    {
     "data": {
      "text/html": [
       "<div>\n",
       "<style scoped>\n",
       "    .dataframe tbody tr th:only-of-type {\n",
       "        vertical-align: middle;\n",
       "    }\n",
       "\n",
       "    .dataframe tbody tr th {\n",
       "        vertical-align: top;\n",
       "    }\n",
       "\n",
       "    .dataframe thead th {\n",
       "        text-align: right;\n",
       "    }\n",
       "</style>\n",
       "<table border=\"1\" class=\"dataframe\">\n",
       "  <thead>\n",
       "    <tr style=\"text-align: right;\">\n",
       "      <th></th>\n",
       "      <th>track_id</th>\n",
       "      <th>track_name</th>\n",
       "      <th>track_artist</th>\n",
       "      <th>track_popularity</th>\n",
       "      <th>track_album_id</th>\n",
       "      <th>track_album_name</th>\n",
       "      <th>track_album_release_date</th>\n",
       "      <th>playlist_name</th>\n",
       "      <th>playlist_id</th>\n",
       "      <th>playlist_genre</th>\n",
       "      <th>...</th>\n",
       "      <th>loudness</th>\n",
       "      <th>mode</th>\n",
       "      <th>speechiness</th>\n",
       "      <th>acousticness</th>\n",
       "      <th>instrumentalness</th>\n",
       "      <th>liveness</th>\n",
       "      <th>valence</th>\n",
       "      <th>tempo</th>\n",
       "      <th>duration_ms</th>\n",
       "      <th>creation_year</th>\n",
       "    </tr>\n",
       "  </thead>\n",
       "  <tbody>\n",
       "    <tr>\n",
       "      <th>0</th>\n",
       "      <td>6f807x0ima9a1j3VPbc7VN</td>\n",
       "      <td>I Don't Care (with Justin Bieber) - Loud Luxur...</td>\n",
       "      <td>Ed Sheeran</td>\n",
       "      <td>66</td>\n",
       "      <td>2oCs0DGTsRO98Gh5ZSl2Cx</td>\n",
       "      <td>I Don't Care (with Justin Bieber) [Loud Luxury...</td>\n",
       "      <td>2019-06-14</td>\n",
       "      <td>Pop Remix</td>\n",
       "      <td>37i9dQZF1DXcZDD7cfEKhW</td>\n",
       "      <td>pop</td>\n",
       "      <td>...</td>\n",
       "      <td>-2.634</td>\n",
       "      <td>1</td>\n",
       "      <td>0.0583</td>\n",
       "      <td>0.1020</td>\n",
       "      <td>0.000000</td>\n",
       "      <td>0.0653</td>\n",
       "      <td>0.518</td>\n",
       "      <td>122.036</td>\n",
       "      <td>194754</td>\n",
       "      <td>2019</td>\n",
       "    </tr>\n",
       "    <tr>\n",
       "      <th>1</th>\n",
       "      <td>0r7CVbZTWZgbTCYdfa2P31</td>\n",
       "      <td>Memories - Dillon Francis Remix</td>\n",
       "      <td>Maroon 5</td>\n",
       "      <td>67</td>\n",
       "      <td>63rPSO264uRjW1X5E6cWv6</td>\n",
       "      <td>Memories (Dillon Francis Remix)</td>\n",
       "      <td>2019-12-13</td>\n",
       "      <td>Pop Remix</td>\n",
       "      <td>37i9dQZF1DXcZDD7cfEKhW</td>\n",
       "      <td>pop</td>\n",
       "      <td>...</td>\n",
       "      <td>-4.969</td>\n",
       "      <td>1</td>\n",
       "      <td>0.0373</td>\n",
       "      <td>0.0724</td>\n",
       "      <td>0.004210</td>\n",
       "      <td>0.3570</td>\n",
       "      <td>0.693</td>\n",
       "      <td>99.972</td>\n",
       "      <td>162600</td>\n",
       "      <td>2019</td>\n",
       "    </tr>\n",
       "    <tr>\n",
       "      <th>2</th>\n",
       "      <td>1z1Hg7Vb0AhHDiEmnDE79l</td>\n",
       "      <td>All the Time - Don Diablo Remix</td>\n",
       "      <td>Zara Larsson</td>\n",
       "      <td>70</td>\n",
       "      <td>1HoSmj2eLcsrR0vE9gThr4</td>\n",
       "      <td>All the Time (Don Diablo Remix)</td>\n",
       "      <td>2019-07-05</td>\n",
       "      <td>Pop Remix</td>\n",
       "      <td>37i9dQZF1DXcZDD7cfEKhW</td>\n",
       "      <td>pop</td>\n",
       "      <td>...</td>\n",
       "      <td>-3.432</td>\n",
       "      <td>0</td>\n",
       "      <td>0.0742</td>\n",
       "      <td>0.0794</td>\n",
       "      <td>0.000023</td>\n",
       "      <td>0.1100</td>\n",
       "      <td>0.613</td>\n",
       "      <td>124.008</td>\n",
       "      <td>176616</td>\n",
       "      <td>2019</td>\n",
       "    </tr>\n",
       "    <tr>\n",
       "      <th>3</th>\n",
       "      <td>75FpbthrwQmzHlBJLuGdC7</td>\n",
       "      <td>Call You Mine - Keanu Silva Remix</td>\n",
       "      <td>The Chainsmokers</td>\n",
       "      <td>60</td>\n",
       "      <td>1nqYsOef1yKKuGOVchbsk6</td>\n",
       "      <td>Call You Mine - The Remixes</td>\n",
       "      <td>2019-07-19</td>\n",
       "      <td>Pop Remix</td>\n",
       "      <td>37i9dQZF1DXcZDD7cfEKhW</td>\n",
       "      <td>pop</td>\n",
       "      <td>...</td>\n",
       "      <td>-3.778</td>\n",
       "      <td>1</td>\n",
       "      <td>0.1020</td>\n",
       "      <td>0.0287</td>\n",
       "      <td>0.000009</td>\n",
       "      <td>0.2040</td>\n",
       "      <td>0.277</td>\n",
       "      <td>121.956</td>\n",
       "      <td>169093</td>\n",
       "      <td>2019</td>\n",
       "    </tr>\n",
       "    <tr>\n",
       "      <th>4</th>\n",
       "      <td>1e8PAfcKUYoKkxPhrHqw4x</td>\n",
       "      <td>Someone You Loved - Future Humans Remix</td>\n",
       "      <td>Lewis Capaldi</td>\n",
       "      <td>69</td>\n",
       "      <td>7m7vv9wlQ4i0LFuJiE2zsQ</td>\n",
       "      <td>Someone You Loved (Future Humans Remix)</td>\n",
       "      <td>2019-03-05</td>\n",
       "      <td>Pop Remix</td>\n",
       "      <td>37i9dQZF1DXcZDD7cfEKhW</td>\n",
       "      <td>pop</td>\n",
       "      <td>...</td>\n",
       "      <td>-4.672</td>\n",
       "      <td>1</td>\n",
       "      <td>0.0359</td>\n",
       "      <td>0.0803</td>\n",
       "      <td>0.000000</td>\n",
       "      <td>0.0833</td>\n",
       "      <td>0.725</td>\n",
       "      <td>123.976</td>\n",
       "      <td>189052</td>\n",
       "      <td>2019</td>\n",
       "    </tr>\n",
       "  </tbody>\n",
       "</table>\n",
       "<p>5 rows × 24 columns</p>\n",
       "</div>"
      ],
      "text/plain": [
       "                 track_id                                         track_name  \\\n",
       "0  6f807x0ima9a1j3VPbc7VN  I Don't Care (with Justin Bieber) - Loud Luxur...   \n",
       "1  0r7CVbZTWZgbTCYdfa2P31                    Memories - Dillon Francis Remix   \n",
       "2  1z1Hg7Vb0AhHDiEmnDE79l                    All the Time - Don Diablo Remix   \n",
       "3  75FpbthrwQmzHlBJLuGdC7                  Call You Mine - Keanu Silva Remix   \n",
       "4  1e8PAfcKUYoKkxPhrHqw4x            Someone You Loved - Future Humans Remix   \n",
       "\n",
       "       track_artist  track_popularity          track_album_id  \\\n",
       "0        Ed Sheeran                66  2oCs0DGTsRO98Gh5ZSl2Cx   \n",
       "1          Maroon 5                67  63rPSO264uRjW1X5E6cWv6   \n",
       "2      Zara Larsson                70  1HoSmj2eLcsrR0vE9gThr4   \n",
       "3  The Chainsmokers                60  1nqYsOef1yKKuGOVchbsk6   \n",
       "4     Lewis Capaldi                69  7m7vv9wlQ4i0LFuJiE2zsQ   \n",
       "\n",
       "                                    track_album_name track_album_release_date  \\\n",
       "0  I Don't Care (with Justin Bieber) [Loud Luxury...               2019-06-14   \n",
       "1                    Memories (Dillon Francis Remix)               2019-12-13   \n",
       "2                    All the Time (Don Diablo Remix)               2019-07-05   \n",
       "3                        Call You Mine - The Remixes               2019-07-19   \n",
       "4            Someone You Loved (Future Humans Remix)               2019-03-05   \n",
       "\n",
       "  playlist_name             playlist_id playlist_genre      ...        \\\n",
       "0     Pop Remix  37i9dQZF1DXcZDD7cfEKhW            pop      ...         \n",
       "1     Pop Remix  37i9dQZF1DXcZDD7cfEKhW            pop      ...         \n",
       "2     Pop Remix  37i9dQZF1DXcZDD7cfEKhW            pop      ...         \n",
       "3     Pop Remix  37i9dQZF1DXcZDD7cfEKhW            pop      ...         \n",
       "4     Pop Remix  37i9dQZF1DXcZDD7cfEKhW            pop      ...         \n",
       "\n",
       "  loudness  mode  speechiness  acousticness  instrumentalness  liveness  \\\n",
       "0   -2.634     1       0.0583        0.1020          0.000000    0.0653   \n",
       "1   -4.969     1       0.0373        0.0724          0.004210    0.3570   \n",
       "2   -3.432     0       0.0742        0.0794          0.000023    0.1100   \n",
       "3   -3.778     1       0.1020        0.0287          0.000009    0.2040   \n",
       "4   -4.672     1       0.0359        0.0803          0.000000    0.0833   \n",
       "\n",
       "   valence    tempo  duration_ms  creation_year  \n",
       "0    0.518  122.036       194754           2019  \n",
       "1    0.693   99.972       162600           2019  \n",
       "2    0.613  124.008       176616           2019  \n",
       "3    0.277  121.956       169093           2019  \n",
       "4    0.725  123.976       189052           2019  \n",
       "\n",
       "[5 rows x 24 columns]"
      ]
     },
     "execution_count": 7,
     "metadata": {},
     "output_type": "execute_result"
    }
   ],
   "source": [
    "spotify['creation_year'] = [x.year for x in spotify['track_album_release_date'].apply(pd.to_datetime)]\n",
    "spotify.head()"
   ]
  },
  {
   "cell_type": "code",
   "execution_count": 8,
   "metadata": {},
   "outputs": [],
   "source": [
    "spotify.to_csv('spotify.csv', index = False)"
   ]
  },
  {
   "cell_type": "markdown",
   "metadata": {},
   "source": [
    "## Loading Data"
   ]
  },
  {
   "cell_type": "code",
   "execution_count": 9,
   "metadata": {
    "scrolled": true
   },
   "outputs": [
    {
     "data": {
      "text/html": [
       "<table border=\"1\" class=\"dataframe\">\n",
       "    <thead>\n",
       "        <tr>\n",
       "            <th>track_id</th> <th>track_name</th> <th>track_artist</th> <th>track_popularity</th> <th>track_album_id</th> <th>track_album_name</th> <th>track_album_release_date</th> <th>playlist_name</th> <th>playlist_id</th> <th>playlist_genre</th> <th>playlist_subgenre</th> <th>danceability</th> <th>energy</th> <th>key</th> <th>loudness</th> <th>mode</th> <th>speechiness</th> <th>acousticness</th> <th>instrumentalness</th> <th>liveness</th> <th>valence</th> <th>tempo</th> <th>duration_ms</th> <th>creation_year</th>\n",
       "        </tr>\n",
       "    </thead>\n",
       "    <tbody>\n",
       "        <tr>\n",
       "            <td>6f807x0ima9a1j3VPbc7VN</td> <td>I Don't Care (with Justin Bieber) - Loud Luxury Remix</td> <td>Ed Sheeran      </td> <td>66              </td> <td>2oCs0DGTsRO98Gh5ZSl2Cx</td> <td>I Don't Care (with Justin Bieber) [Loud Luxury Remix]</td> <td>2019-06-14              </td> <td>Pop Remix    </td> <td>37i9dQZF1DXcZDD7cfEKhW</td> <td>pop           </td> <td>dance pop        </td> <td>0.748       </td> <td>0.916 </td> <td>6   </td> <td>-2.634  </td> <td>1   </td> <td>0.0583     </td> <td>0.102       </td> <td>0               </td> <td>0.0653  </td> <td>0.518  </td> <td>122.036</td> <td>194754     </td> <td>2019         </td>\n",
       "        </tr>\n",
       "        <tr>\n",
       "            <td>0r7CVbZTWZgbTCYdfa2P31</td> <td>Memories - Dillon Francis Remix                      </td> <td>Maroon 5        </td> <td>67              </td> <td>63rPSO264uRjW1X5E6cWv6</td> <td>Memories (Dillon Francis Remix)                      </td> <td>2019-12-13              </td> <td>Pop Remix    </td> <td>37i9dQZF1DXcZDD7cfEKhW</td> <td>pop           </td> <td>dance pop        </td> <td>0.726       </td> <td>0.815 </td> <td>11  </td> <td>-4.969  </td> <td>1   </td> <td>0.0373     </td> <td>0.0724      </td> <td>0.00421         </td> <td>0.357   </td> <td>0.693  </td> <td>99.972 </td> <td>162600     </td> <td>2019         </td>\n",
       "        </tr>\n",
       "        <tr>\n",
       "            <td>1z1Hg7Vb0AhHDiEmnDE79l</td> <td>All the Time - Don Diablo Remix                      </td> <td>Zara Larsson    </td> <td>70              </td> <td>1HoSmj2eLcsrR0vE9gThr4</td> <td>All the Time (Don Diablo Remix)                      </td> <td>2019-07-05              </td> <td>Pop Remix    </td> <td>37i9dQZF1DXcZDD7cfEKhW</td> <td>pop           </td> <td>dance pop        </td> <td>0.675       </td> <td>0.931 </td> <td>1   </td> <td>-3.432  </td> <td>0   </td> <td>0.0742     </td> <td>0.0794      </td> <td>2.33e-05        </td> <td>0.11    </td> <td>0.613  </td> <td>124.008</td> <td>176616     </td> <td>2019         </td>\n",
       "        </tr>\n",
       "        <tr>\n",
       "            <td>75FpbthrwQmzHlBJLuGdC7</td> <td>Call You Mine - Keanu Silva Remix                    </td> <td>The Chainsmokers</td> <td>60              </td> <td>1nqYsOef1yKKuGOVchbsk6</td> <td>Call You Mine - The Remixes                          </td> <td>2019-07-19              </td> <td>Pop Remix    </td> <td>37i9dQZF1DXcZDD7cfEKhW</td> <td>pop           </td> <td>dance pop        </td> <td>0.718       </td> <td>0.93  </td> <td>7   </td> <td>-3.778  </td> <td>1   </td> <td>0.102      </td> <td>0.0287      </td> <td>9.43e-06        </td> <td>0.204   </td> <td>0.277  </td> <td>121.956</td> <td>169093     </td> <td>2019         </td>\n",
       "        </tr>\n",
       "        <tr>\n",
       "            <td>1e8PAfcKUYoKkxPhrHqw4x</td> <td>Someone You Loved - Future Humans Remix              </td> <td>Lewis Capaldi   </td> <td>69              </td> <td>7m7vv9wlQ4i0LFuJiE2zsQ</td> <td>Someone You Loved (Future Humans Remix)              </td> <td>2019-03-05              </td> <td>Pop Remix    </td> <td>37i9dQZF1DXcZDD7cfEKhW</td> <td>pop           </td> <td>dance pop        </td> <td>0.65        </td> <td>0.833 </td> <td>1   </td> <td>-4.672  </td> <td>1   </td> <td>0.0359     </td> <td>0.0803      </td> <td>0               </td> <td>0.0833  </td> <td>0.725  </td> <td>123.976</td> <td>189052     </td> <td>2019         </td>\n",
       "        </tr>\n",
       "        <tr>\n",
       "            <td>7fvUMiyapMsRRxr07cU8Ef</td> <td>Beautiful People (feat. Khalid) - Jack Wins Remix    </td> <td>Ed Sheeran      </td> <td>67              </td> <td>2yiy9cd2QktrNvWC2EUi0k</td> <td>Beautiful People (feat. Khalid) [Jack Wins Remix]    </td> <td>2019-07-11              </td> <td>Pop Remix    </td> <td>37i9dQZF1DXcZDD7cfEKhW</td> <td>pop           </td> <td>dance pop        </td> <td>0.675       </td> <td>0.919 </td> <td>8   </td> <td>-5.385  </td> <td>1   </td> <td>0.127      </td> <td>0.0799      </td> <td>0               </td> <td>0.143   </td> <td>0.585  </td> <td>124.982</td> <td>163049     </td> <td>2019         </td>\n",
       "        </tr>\n",
       "        <tr>\n",
       "            <td>2OAylPUDDfwRGfe0lYqlCQ</td> <td>Never Really Over - R3HAB Remix                      </td> <td>Katy Perry      </td> <td>62              </td> <td>7INHYSeusaFlyrHSNxm8qH</td> <td>Never Really Over (R3HAB Remix)                      </td> <td>2019-07-26              </td> <td>Pop Remix    </td> <td>37i9dQZF1DXcZDD7cfEKhW</td> <td>pop           </td> <td>dance pop        </td> <td>0.449       </td> <td>0.856 </td> <td>5   </td> <td>-4.788  </td> <td>0   </td> <td>0.0623     </td> <td>0.187       </td> <td>0               </td> <td>0.176   </td> <td>0.152  </td> <td>112.648</td> <td>187675     </td> <td>2019         </td>\n",
       "        </tr>\n",
       "        <tr>\n",
       "            <td>6b1RNvAcJjQH73eZO4BLAB</td> <td>Post Malone (feat. RANI) - GATTÜSO Remix             </td> <td>Sam Feldt       </td> <td>69              </td> <td>6703SRPsLkS4bPtMFFJes1</td> <td>Post Malone (feat. RANI) [GATTÜSO Remix]             </td> <td>2019-08-29              </td> <td>Pop Remix    </td> <td>37i9dQZF1DXcZDD7cfEKhW</td> <td>pop           </td> <td>dance pop        </td> <td>0.542       </td> <td>0.903 </td> <td>4   </td> <td>-2.419  </td> <td>0   </td> <td>0.0434     </td> <td>0.0335      </td> <td>4.83e-06        </td> <td>0.111   </td> <td>0.367  </td> <td>127.936</td> <td>207619     </td> <td>2019         </td>\n",
       "        </tr>\n",
       "        <tr>\n",
       "            <td>7bF6tCO3gFb8INrEDcjNT5</td> <td>Tough Love - Tiësto Remix / Radio Edit               </td> <td>Avicii          </td> <td>68              </td> <td>7CvAfGvq4RlIwEbT9o8Iav</td> <td>Tough Love (Tiësto Remix)                            </td> <td>2019-06-14              </td> <td>Pop Remix    </td> <td>37i9dQZF1DXcZDD7cfEKhW</td> <td>pop           </td> <td>dance pop        </td> <td>0.594       </td> <td>0.935 </td> <td>8   </td> <td>-3.562  </td> <td>1   </td> <td>0.0565     </td> <td>0.0249      </td> <td>3.97e-06        </td> <td>0.637   </td> <td>0.366  </td> <td>127.015</td> <td>193187     </td> <td>2019         </td>\n",
       "        </tr>\n",
       "        <tr>\n",
       "            <td>1IXGILkPm0tOCNeq00kCPa</td> <td>If I Can't Have You - Gryffin Remix                  </td> <td>Shawn Mendes    </td> <td>67              </td> <td>4QxzbfSsVryEQwvPFEV5Iu</td> <td>If I Can't Have You (Gryffin Remix)                  </td> <td>2019-06-20              </td> <td>Pop Remix    </td> <td>37i9dQZF1DXcZDD7cfEKhW</td> <td>pop           </td> <td>dance pop        </td> <td>0.642       </td> <td>0.818 </td> <td>2   </td> <td>-4.552  </td> <td>1   </td> <td>0.032      </td> <td>0.0567      </td> <td>0               </td> <td>0.0919  </td> <td>0.59   </td> <td>124.957</td> <td>253040     </td> <td>2019         </td>\n",
       "        </tr>\n",
       "    </tbody>\n",
       "</table>\n",
       "<p>... (32823 rows omitted)</p>"
      ],
      "text/plain": [
       "track_id               | track_name                                            | track_artist     | track_popularity | track_album_id         | track_album_name                                      | track_album_release_date | playlist_name | playlist_id            | playlist_genre | playlist_subgenre | danceability | energy | key  | loudness | mode | speechiness | acousticness | instrumentalness | liveness | valence | tempo   | duration_ms | creation_year\n",
       "6f807x0ima9a1j3VPbc7VN | I Don't Care (with Justin Bieber) - Loud Luxury Remix | Ed Sheeran       | 66               | 2oCs0DGTsRO98Gh5ZSl2Cx | I Don't Care (with Justin Bieber) [Loud Luxury Remix] | 2019-06-14               | Pop Remix     | 37i9dQZF1DXcZDD7cfEKhW | pop            | dance pop         | 0.748        | 0.916  | 6    | -2.634   | 1    | 0.0583      | 0.102        | 0                | 0.0653   | 0.518   | 122.036 | 194754      | 2019\n",
       "0r7CVbZTWZgbTCYdfa2P31 | Memories - Dillon Francis Remix                       | Maroon 5         | 67               | 63rPSO264uRjW1X5E6cWv6 | Memories (Dillon Francis Remix)                       | 2019-12-13               | Pop Remix     | 37i9dQZF1DXcZDD7cfEKhW | pop            | dance pop         | 0.726        | 0.815  | 11   | -4.969   | 1    | 0.0373      | 0.0724       | 0.00421          | 0.357    | 0.693   | 99.972  | 162600      | 2019\n",
       "1z1Hg7Vb0AhHDiEmnDE79l | All the Time - Don Diablo Remix                       | Zara Larsson     | 70               | 1HoSmj2eLcsrR0vE9gThr4 | All the Time (Don Diablo Remix)                       | 2019-07-05               | Pop Remix     | 37i9dQZF1DXcZDD7cfEKhW | pop            | dance pop         | 0.675        | 0.931  | 1    | -3.432   | 0    | 0.0742      | 0.0794       | 2.33e-05         | 0.11     | 0.613   | 124.008 | 176616      | 2019\n",
       "75FpbthrwQmzHlBJLuGdC7 | Call You Mine - Keanu Silva Remix                     | The Chainsmokers | 60               | 1nqYsOef1yKKuGOVchbsk6 | Call You Mine - The Remixes                           | 2019-07-19               | Pop Remix     | 37i9dQZF1DXcZDD7cfEKhW | pop            | dance pop         | 0.718        | 0.93   | 7    | -3.778   | 1    | 0.102       | 0.0287       | 9.43e-06         | 0.204    | 0.277   | 121.956 | 169093      | 2019\n",
       "1e8PAfcKUYoKkxPhrHqw4x | Someone You Loved - Future Humans Remix               | Lewis Capaldi    | 69               | 7m7vv9wlQ4i0LFuJiE2zsQ | Someone You Loved (Future Humans Remix)               | 2019-03-05               | Pop Remix     | 37i9dQZF1DXcZDD7cfEKhW | pop            | dance pop         | 0.65         | 0.833  | 1    | -4.672   | 1    | 0.0359      | 0.0803       | 0                | 0.0833   | 0.725   | 123.976 | 189052      | 2019\n",
       "7fvUMiyapMsRRxr07cU8Ef | Beautiful People (feat. Khalid) - Jack Wins Remix     | Ed Sheeran       | 67               | 2yiy9cd2QktrNvWC2EUi0k | Beautiful People (feat. Khalid) [Jack Wins Remix]     | 2019-07-11               | Pop Remix     | 37i9dQZF1DXcZDD7cfEKhW | pop            | dance pop         | 0.675        | 0.919  | 8    | -5.385   | 1    | 0.127       | 0.0799       | 0                | 0.143    | 0.585   | 124.982 | 163049      | 2019\n",
       "2OAylPUDDfwRGfe0lYqlCQ | Never Really Over - R3HAB Remix                       | Katy Perry       | 62               | 7INHYSeusaFlyrHSNxm8qH | Never Really Over (R3HAB Remix)                       | 2019-07-26               | Pop Remix     | 37i9dQZF1DXcZDD7cfEKhW | pop            | dance pop         | 0.449        | 0.856  | 5    | -4.788   | 0    | 0.0623      | 0.187        | 0                | 0.176    | 0.152   | 112.648 | 187675      | 2019\n",
       "6b1RNvAcJjQH73eZO4BLAB | Post Malone (feat. RANI) - GATTÜSO Remix              | Sam Feldt        | 69               | 6703SRPsLkS4bPtMFFJes1 | Post Malone (feat. RANI) [GATTÜSO Remix]              | 2019-08-29               | Pop Remix     | 37i9dQZF1DXcZDD7cfEKhW | pop            | dance pop         | 0.542        | 0.903  | 4    | -2.419   | 0    | 0.0434      | 0.0335       | 4.83e-06         | 0.111    | 0.367   | 127.936 | 207619      | 2019\n",
       "7bF6tCO3gFb8INrEDcjNT5 | Tough Love - Tiësto Remix / Radio Edit                | Avicii           | 68               | 7CvAfGvq4RlIwEbT9o8Iav | Tough Love (Tiësto Remix)                             | 2019-06-14               | Pop Remix     | 37i9dQZF1DXcZDD7cfEKhW | pop            | dance pop         | 0.594        | 0.935  | 8    | -3.562   | 1    | 0.0565      | 0.0249       | 3.97e-06         | 0.637    | 0.366   | 127.015 | 193187      | 2019\n",
       "1IXGILkPm0tOCNeq00kCPa | If I Can't Have You - Gryffin Remix                   | Shawn Mendes     | 67               | 4QxzbfSsVryEQwvPFEV5Iu | If I Can't Have You (Gryffin Remix)                   | 2019-06-20               | Pop Remix     | 37i9dQZF1DXcZDD7cfEKhW | pop            | dance pop         | 0.642        | 0.818  | 2    | -4.552   | 1    | 0.032       | 0.0567       | 0                | 0.0919   | 0.59    | 124.957 | 253040      | 2019\n",
       "... (32823 rows omitted)"
      ]
     },
     "execution_count": 9,
     "metadata": {},
     "output_type": "execute_result"
    }
   ],
   "source": [
    "spotify = Table.read_table('spotify.csv')\n",
    "spotify"
   ]
  },
  {
   "cell_type": "markdown",
   "metadata": {},
   "source": [
    "### Accessing columns\n",
    "The simplest way to access data in a table is the `column` method, which takes in the name of the column as its only argument. It returns the contents of the column as an array. Imagine that we want to know the duration of all the songs in our dataset. We can access the `duration_ms` column using the column method."
   ]
  },
  {
   "cell_type": "code",
   "execution_count": 10,
   "metadata": {},
   "outputs": [
    {
     "data": {
      "text/plain": [
       "array([194754, 162600, 176616, ..., 210112, 367432, 337500])"
      ]
     },
     "execution_count": 10,
     "metadata": {},
     "output_type": "execute_result"
    }
   ],
   "source": [
    "spotify.column(\"duration_ms\")"
   ]
  },
  {
   "cell_type": "markdown",
   "metadata": {},
   "source": [
    "We can give this array a name in order to more easily work with the values in it. The name can be whatever we want, but for clarity we'll simply name it `duration`."
   ]
  },
  {
   "cell_type": "code",
   "execution_count": 11,
   "metadata": {},
   "outputs": [
    {
     "data": {
      "text/plain": [
       "array([194754, 162600, 176616, ..., 210112, 367432, 337500])"
      ]
     },
     "execution_count": 11,
     "metadata": {},
     "output_type": "execute_result"
    }
   ],
   "source": [
    "duration = spotify.column(\"duration_ms\")\n",
    "duration"
   ]
  },
  {
   "cell_type": "markdown",
   "metadata": {},
   "source": [
    "Since `duration` is just an array, we can perform array operations on it."
   ]
  },
  {
   "cell_type": "markdown",
   "metadata": {},
   "source": [
    "### Functions Applied to Track Durations\n",
    "Right now, the `duration` array contains the length of each song in milliseconds. However, that's not a common measurement when describing the length of a song - often, we use minutes and seconds. Using array arithmetic, we can find the length of each song in seconds and in minutes. There are 1000 milliseconds in a second, and 60 seconds in a minute. First, we will convert milliseconds to seconds."
   ]
  },
  {
   "cell_type": "code",
   "execution_count": 12,
   "metadata": {},
   "outputs": [
    {
     "data": {
      "text/plain": [
       "array([194.754, 162.6  , 176.616, ..., 210.112, 367.432, 337.5  ])"
      ]
     },
     "execution_count": 12,
     "metadata": {},
     "output_type": "execute_result"
    }
   ],
   "source": [
    "duration_seconds = duration / 1000\n",
    "duration_seconds"
   ]
  },
  {
   "cell_type": "markdown",
   "metadata": {},
   "source": [
    "Now that we have a new array of the duration of songs in seconds, we can use that to convert to duration in minutes using similar array math."
   ]
  },
  {
   "cell_type": "code",
   "execution_count": 13,
   "metadata": {},
   "outputs": [
    {
     "data": {
      "text/plain": [
       "array([3.2459    , 2.71      , 2.9436    , ..., 3.50186667, 6.12386667,\n",
       "       5.625     ])"
      ]
     },
     "execution_count": 13,
     "metadata": {},
     "output_type": "execute_result"
    }
   ],
   "source": [
    "duration_minutes = duration_seconds / 60\n",
    "duration_minutes "
   ]
  },
  {
   "cell_type": "markdown",
   "metadata": {},
   "source": [
    "If you are interested in the average length of a song, you can find the mean of the array with built in methods."
   ]
  },
  {
   "cell_type": "code",
   "execution_count": 14,
   "metadata": {},
   "outputs": [
    {
     "data": {
      "text/plain": [
       "3.7633301937075503"
      ]
     },
     "execution_count": 14,
     "metadata": {},
     "output_type": "execute_result"
    }
   ],
   "source": [
    "duration_minutes.mean()"
   ]
  },
  {
   "cell_type": "markdown",
   "metadata": {},
   "source": [
    "We can use the table `with_columns` method to create a copy of the `spotify` table with the duration in minutes as a new column."
   ]
  },
  {
   "cell_type": "code",
   "execution_count": 15,
   "metadata": {},
   "outputs": [
    {
     "data": {
      "text/html": [
       "<table border=\"1\" class=\"dataframe\">\n",
       "    <thead>\n",
       "        <tr>\n",
       "            <th>track_id</th> <th>track_name</th> <th>track_artist</th> <th>track_popularity</th> <th>track_album_id</th> <th>track_album_name</th> <th>track_album_release_date</th> <th>playlist_name</th> <th>playlist_id</th> <th>playlist_genre</th> <th>playlist_subgenre</th> <th>danceability</th> <th>energy</th> <th>key</th> <th>loudness</th> <th>mode</th> <th>speechiness</th> <th>acousticness</th> <th>instrumentalness</th> <th>liveness</th> <th>valence</th> <th>tempo</th> <th>duration_ms</th> <th>creation_year</th> <th>duration_min</th>\n",
       "        </tr>\n",
       "    </thead>\n",
       "    <tbody>\n",
       "        <tr>\n",
       "            <td>6f807x0ima9a1j3VPbc7VN</td> <td>I Don't Care (with Justin Bieber) - Loud Luxury Remix</td> <td>Ed Sheeran      </td> <td>66              </td> <td>2oCs0DGTsRO98Gh5ZSl2Cx</td> <td>I Don't Care (with Justin Bieber) [Loud Luxury Remix]</td> <td>2019-06-14              </td> <td>Pop Remix    </td> <td>37i9dQZF1DXcZDD7cfEKhW</td> <td>pop           </td> <td>dance pop        </td> <td>0.748       </td> <td>0.916 </td> <td>6   </td> <td>-2.634  </td> <td>1   </td> <td>0.0583     </td> <td>0.102       </td> <td>0               </td> <td>0.0653  </td> <td>0.518  </td> <td>122.036</td> <td>194754     </td> <td>2019         </td> <td>3.2459      </td>\n",
       "        </tr>\n",
       "        <tr>\n",
       "            <td>0r7CVbZTWZgbTCYdfa2P31</td> <td>Memories - Dillon Francis Remix                      </td> <td>Maroon 5        </td> <td>67              </td> <td>63rPSO264uRjW1X5E6cWv6</td> <td>Memories (Dillon Francis Remix)                      </td> <td>2019-12-13              </td> <td>Pop Remix    </td> <td>37i9dQZF1DXcZDD7cfEKhW</td> <td>pop           </td> <td>dance pop        </td> <td>0.726       </td> <td>0.815 </td> <td>11  </td> <td>-4.969  </td> <td>1   </td> <td>0.0373     </td> <td>0.0724      </td> <td>0.00421         </td> <td>0.357   </td> <td>0.693  </td> <td>99.972 </td> <td>162600     </td> <td>2019         </td> <td>2.71        </td>\n",
       "        </tr>\n",
       "        <tr>\n",
       "            <td>1z1Hg7Vb0AhHDiEmnDE79l</td> <td>All the Time - Don Diablo Remix                      </td> <td>Zara Larsson    </td> <td>70              </td> <td>1HoSmj2eLcsrR0vE9gThr4</td> <td>All the Time (Don Diablo Remix)                      </td> <td>2019-07-05              </td> <td>Pop Remix    </td> <td>37i9dQZF1DXcZDD7cfEKhW</td> <td>pop           </td> <td>dance pop        </td> <td>0.675       </td> <td>0.931 </td> <td>1   </td> <td>-3.432  </td> <td>0   </td> <td>0.0742     </td> <td>0.0794      </td> <td>2.33e-05        </td> <td>0.11    </td> <td>0.613  </td> <td>124.008</td> <td>176616     </td> <td>2019         </td> <td>2.9436      </td>\n",
       "        </tr>\n",
       "        <tr>\n",
       "            <td>75FpbthrwQmzHlBJLuGdC7</td> <td>Call You Mine - Keanu Silva Remix                    </td> <td>The Chainsmokers</td> <td>60              </td> <td>1nqYsOef1yKKuGOVchbsk6</td> <td>Call You Mine - The Remixes                          </td> <td>2019-07-19              </td> <td>Pop Remix    </td> <td>37i9dQZF1DXcZDD7cfEKhW</td> <td>pop           </td> <td>dance pop        </td> <td>0.718       </td> <td>0.93  </td> <td>7   </td> <td>-3.778  </td> <td>1   </td> <td>0.102      </td> <td>0.0287      </td> <td>9.43e-06        </td> <td>0.204   </td> <td>0.277  </td> <td>121.956</td> <td>169093     </td> <td>2019         </td> <td>2.81822     </td>\n",
       "        </tr>\n",
       "        <tr>\n",
       "            <td>1e8PAfcKUYoKkxPhrHqw4x</td> <td>Someone You Loved - Future Humans Remix              </td> <td>Lewis Capaldi   </td> <td>69              </td> <td>7m7vv9wlQ4i0LFuJiE2zsQ</td> <td>Someone You Loved (Future Humans Remix)              </td> <td>2019-03-05              </td> <td>Pop Remix    </td> <td>37i9dQZF1DXcZDD7cfEKhW</td> <td>pop           </td> <td>dance pop        </td> <td>0.65        </td> <td>0.833 </td> <td>1   </td> <td>-4.672  </td> <td>1   </td> <td>0.0359     </td> <td>0.0803      </td> <td>0               </td> <td>0.0833  </td> <td>0.725  </td> <td>123.976</td> <td>189052     </td> <td>2019         </td> <td>3.15087     </td>\n",
       "        </tr>\n",
       "        <tr>\n",
       "            <td>7fvUMiyapMsRRxr07cU8Ef</td> <td>Beautiful People (feat. Khalid) - Jack Wins Remix    </td> <td>Ed Sheeran      </td> <td>67              </td> <td>2yiy9cd2QktrNvWC2EUi0k</td> <td>Beautiful People (feat. Khalid) [Jack Wins Remix]    </td> <td>2019-07-11              </td> <td>Pop Remix    </td> <td>37i9dQZF1DXcZDD7cfEKhW</td> <td>pop           </td> <td>dance pop        </td> <td>0.675       </td> <td>0.919 </td> <td>8   </td> <td>-5.385  </td> <td>1   </td> <td>0.127      </td> <td>0.0799      </td> <td>0               </td> <td>0.143   </td> <td>0.585  </td> <td>124.982</td> <td>163049     </td> <td>2019         </td> <td>2.71748     </td>\n",
       "        </tr>\n",
       "        <tr>\n",
       "            <td>2OAylPUDDfwRGfe0lYqlCQ</td> <td>Never Really Over - R3HAB Remix                      </td> <td>Katy Perry      </td> <td>62              </td> <td>7INHYSeusaFlyrHSNxm8qH</td> <td>Never Really Over (R3HAB Remix)                      </td> <td>2019-07-26              </td> <td>Pop Remix    </td> <td>37i9dQZF1DXcZDD7cfEKhW</td> <td>pop           </td> <td>dance pop        </td> <td>0.449       </td> <td>0.856 </td> <td>5   </td> <td>-4.788  </td> <td>0   </td> <td>0.0623     </td> <td>0.187       </td> <td>0               </td> <td>0.176   </td> <td>0.152  </td> <td>112.648</td> <td>187675     </td> <td>2019         </td> <td>3.12792     </td>\n",
       "        </tr>\n",
       "        <tr>\n",
       "            <td>6b1RNvAcJjQH73eZO4BLAB</td> <td>Post Malone (feat. RANI) - GATTÜSO Remix             </td> <td>Sam Feldt       </td> <td>69              </td> <td>6703SRPsLkS4bPtMFFJes1</td> <td>Post Malone (feat. RANI) [GATTÜSO Remix]             </td> <td>2019-08-29              </td> <td>Pop Remix    </td> <td>37i9dQZF1DXcZDD7cfEKhW</td> <td>pop           </td> <td>dance pop        </td> <td>0.542       </td> <td>0.903 </td> <td>4   </td> <td>-2.419  </td> <td>0   </td> <td>0.0434     </td> <td>0.0335      </td> <td>4.83e-06        </td> <td>0.111   </td> <td>0.367  </td> <td>127.936</td> <td>207619     </td> <td>2019         </td> <td>3.46032     </td>\n",
       "        </tr>\n",
       "        <tr>\n",
       "            <td>7bF6tCO3gFb8INrEDcjNT5</td> <td>Tough Love - Tiësto Remix / Radio Edit               </td> <td>Avicii          </td> <td>68              </td> <td>7CvAfGvq4RlIwEbT9o8Iav</td> <td>Tough Love (Tiësto Remix)                            </td> <td>2019-06-14              </td> <td>Pop Remix    </td> <td>37i9dQZF1DXcZDD7cfEKhW</td> <td>pop           </td> <td>dance pop        </td> <td>0.594       </td> <td>0.935 </td> <td>8   </td> <td>-3.562  </td> <td>1   </td> <td>0.0565     </td> <td>0.0249      </td> <td>3.97e-06        </td> <td>0.637   </td> <td>0.366  </td> <td>127.015</td> <td>193187     </td> <td>2019         </td> <td>3.21978     </td>\n",
       "        </tr>\n",
       "        <tr>\n",
       "            <td>1IXGILkPm0tOCNeq00kCPa</td> <td>If I Can't Have You - Gryffin Remix                  </td> <td>Shawn Mendes    </td> <td>67              </td> <td>4QxzbfSsVryEQwvPFEV5Iu</td> <td>If I Can't Have You (Gryffin Remix)                  </td> <td>2019-06-20              </td> <td>Pop Remix    </td> <td>37i9dQZF1DXcZDD7cfEKhW</td> <td>pop           </td> <td>dance pop        </td> <td>0.642       </td> <td>0.818 </td> <td>2   </td> <td>-4.552  </td> <td>1   </td> <td>0.032      </td> <td>0.0567      </td> <td>0               </td> <td>0.0919  </td> <td>0.59   </td> <td>124.957</td> <td>253040     </td> <td>2019         </td> <td>4.21733     </td>\n",
       "        </tr>\n",
       "    </tbody>\n",
       "</table>\n",
       "<p>... (32823 rows omitted)</p>"
      ],
      "text/plain": [
       "track_id               | track_name                                            | track_artist     | track_popularity | track_album_id         | track_album_name                                      | track_album_release_date | playlist_name | playlist_id            | playlist_genre | playlist_subgenre | danceability | energy | key  | loudness | mode | speechiness | acousticness | instrumentalness | liveness | valence | tempo   | duration_ms | creation_year | duration_min\n",
       "6f807x0ima9a1j3VPbc7VN | I Don't Care (with Justin Bieber) - Loud Luxury Remix | Ed Sheeran       | 66               | 2oCs0DGTsRO98Gh5ZSl2Cx | I Don't Care (with Justin Bieber) [Loud Luxury Remix] | 2019-06-14               | Pop Remix     | 37i9dQZF1DXcZDD7cfEKhW | pop            | dance pop         | 0.748        | 0.916  | 6    | -2.634   | 1    | 0.0583      | 0.102        | 0                | 0.0653   | 0.518   | 122.036 | 194754      | 2019          | 3.2459\n",
       "0r7CVbZTWZgbTCYdfa2P31 | Memories - Dillon Francis Remix                       | Maroon 5         | 67               | 63rPSO264uRjW1X5E6cWv6 | Memories (Dillon Francis Remix)                       | 2019-12-13               | Pop Remix     | 37i9dQZF1DXcZDD7cfEKhW | pop            | dance pop         | 0.726        | 0.815  | 11   | -4.969   | 1    | 0.0373      | 0.0724       | 0.00421          | 0.357    | 0.693   | 99.972  | 162600      | 2019          | 2.71\n",
       "1z1Hg7Vb0AhHDiEmnDE79l | All the Time - Don Diablo Remix                       | Zara Larsson     | 70               | 1HoSmj2eLcsrR0vE9gThr4 | All the Time (Don Diablo Remix)                       | 2019-07-05               | Pop Remix     | 37i9dQZF1DXcZDD7cfEKhW | pop            | dance pop         | 0.675        | 0.931  | 1    | -3.432   | 0    | 0.0742      | 0.0794       | 2.33e-05         | 0.11     | 0.613   | 124.008 | 176616      | 2019          | 2.9436\n",
       "75FpbthrwQmzHlBJLuGdC7 | Call You Mine - Keanu Silva Remix                     | The Chainsmokers | 60               | 1nqYsOef1yKKuGOVchbsk6 | Call You Mine - The Remixes                           | 2019-07-19               | Pop Remix     | 37i9dQZF1DXcZDD7cfEKhW | pop            | dance pop         | 0.718        | 0.93   | 7    | -3.778   | 1    | 0.102       | 0.0287       | 9.43e-06         | 0.204    | 0.277   | 121.956 | 169093      | 2019          | 2.81822\n",
       "1e8PAfcKUYoKkxPhrHqw4x | Someone You Loved - Future Humans Remix               | Lewis Capaldi    | 69               | 7m7vv9wlQ4i0LFuJiE2zsQ | Someone You Loved (Future Humans Remix)               | 2019-03-05               | Pop Remix     | 37i9dQZF1DXcZDD7cfEKhW | pop            | dance pop         | 0.65         | 0.833  | 1    | -4.672   | 1    | 0.0359      | 0.0803       | 0                | 0.0833   | 0.725   | 123.976 | 189052      | 2019          | 3.15087\n",
       "7fvUMiyapMsRRxr07cU8Ef | Beautiful People (feat. Khalid) - Jack Wins Remix     | Ed Sheeran       | 67               | 2yiy9cd2QktrNvWC2EUi0k | Beautiful People (feat. Khalid) [Jack Wins Remix]     | 2019-07-11               | Pop Remix     | 37i9dQZF1DXcZDD7cfEKhW | pop            | dance pop         | 0.675        | 0.919  | 8    | -5.385   | 1    | 0.127       | 0.0799       | 0                | 0.143    | 0.585   | 124.982 | 163049      | 2019          | 2.71748\n",
       "2OAylPUDDfwRGfe0lYqlCQ | Never Really Over - R3HAB Remix                       | Katy Perry       | 62               | 7INHYSeusaFlyrHSNxm8qH | Never Really Over (R3HAB Remix)                       | 2019-07-26               | Pop Remix     | 37i9dQZF1DXcZDD7cfEKhW | pop            | dance pop         | 0.449        | 0.856  | 5    | -4.788   | 0    | 0.0623      | 0.187        | 0                | 0.176    | 0.152   | 112.648 | 187675      | 2019          | 3.12792\n",
       "6b1RNvAcJjQH73eZO4BLAB | Post Malone (feat. RANI) - GATTÜSO Remix              | Sam Feldt        | 69               | 6703SRPsLkS4bPtMFFJes1 | Post Malone (feat. RANI) [GATTÜSO Remix]              | 2019-08-29               | Pop Remix     | 37i9dQZF1DXcZDD7cfEKhW | pop            | dance pop         | 0.542        | 0.903  | 4    | -2.419   | 0    | 0.0434      | 0.0335       | 4.83e-06         | 0.111    | 0.367   | 127.936 | 207619      | 2019          | 3.46032\n",
       "7bF6tCO3gFb8INrEDcjNT5 | Tough Love - Tiësto Remix / Radio Edit                | Avicii           | 68               | 7CvAfGvq4RlIwEbT9o8Iav | Tough Love (Tiësto Remix)                             | 2019-06-14               | Pop Remix     | 37i9dQZF1DXcZDD7cfEKhW | pop            | dance pop         | 0.594        | 0.935  | 8    | -3.562   | 1    | 0.0565      | 0.0249       | 3.97e-06         | 0.637    | 0.366   | 127.015 | 193187      | 2019          | 3.21978\n",
       "1IXGILkPm0tOCNeq00kCPa | If I Can't Have You - Gryffin Remix                   | Shawn Mendes     | 67               | 4QxzbfSsVryEQwvPFEV5Iu | If I Can't Have You (Gryffin Remix)                   | 2019-06-20               | Pop Remix     | 37i9dQZF1DXcZDD7cfEKhW | pop            | dance pop         | 0.642        | 0.818  | 2    | -4.552   | 1    | 0.032       | 0.0567       | 0                | 0.0919   | 0.59    | 124.957 | 253040      | 2019          | 4.21733\n",
       "... (32823 rows omitted)"
      ]
     },
     "execution_count": 15,
     "metadata": {},
     "output_type": "execute_result"
    }
   ],
   "source": [
    "spotify.with_columns('duration_min', duration_minutes)"
   ]
  },
  {
   "cell_type": "markdown",
   "metadata": {},
   "source": [
    "## Example: Spotify\n",
    "Our Spotify data contains a lot of numerical information about different aspects of the songs, such as danceability, liveliness, tempo, energy, etc. In this section, we are interested in the categorical information in our dataset, such as the playlist each song comes from or the genre. There are almost 33,000 songs in our dataset, so let's do some investigating. What are the most popular genres? We can figure this out by grouping by the playlist genre."
   ]
  },
  {
   "cell_type": "code",
   "execution_count": 17,
   "metadata": {
    "scrolled": true
   },
   "outputs": [
    {
     "data": {
      "text/html": [
       "<table border=\"1\" class=\"dataframe\">\n",
       "    <thead>\n",
       "        <tr>\n",
       "            <th>playlist_genre</th> <th>count</th>\n",
       "        </tr>\n",
       "    </thead>\n",
       "    <tbody>\n",
       "        <tr>\n",
       "            <td>edm           </td> <td>6043 </td>\n",
       "        </tr>\n",
       "        <tr>\n",
       "            <td>latin         </td> <td>5155 </td>\n",
       "        </tr>\n",
       "        <tr>\n",
       "            <td>pop           </td> <td>5507 </td>\n",
       "        </tr>\n",
       "        <tr>\n",
       "            <td>r&b           </td> <td>5431 </td>\n",
       "        </tr>\n",
       "        <tr>\n",
       "            <td>rap           </td> <td>5746 </td>\n",
       "        </tr>\n",
       "        <tr>\n",
       "            <td>rock          </td> <td>4951 </td>\n",
       "        </tr>\n",
       "    </tbody>\n",
       "</table>"
      ],
      "text/plain": [
       "playlist_genre | count\n",
       "edm            | 6043\n",
       "latin          | 5155\n",
       "pop            | 5507\n",
       "r&b            | 5431\n",
       "rap            | 5746\n",
       "rock           | 4951"
      ]
     },
     "execution_count": 17,
     "metadata": {},
     "output_type": "execute_result"
    }
   ],
   "source": [
    "spotify.group('playlist_genre')"
   ]
  },
  {
   "cell_type": "markdown",
   "metadata": {},
   "source": [
    "In our dataset, it looks like the most popular genre is EDM. We can create a barchart to show how the other genres compare."
   ]
  },
  {
   "cell_type": "code",
   "execution_count": 18,
   "metadata": {},
   "outputs": [
    {
     "data": {
      "image/png": "[encoded data removed]",
      "text/plain": [
       "<Figure size 432x288 with 1 Axes>"
      ]
     },
     "metadata": {
      "needs_background": "light"
     },
     "output_type": "display_data"
    }
   ],
   "source": [
    "genre_counts = spotify.group('playlist_genre')\n",
    "genre_counts.barh('playlist_genre', 'count')"
   ]
  },
  {
   "cell_type": "markdown",
   "metadata": {},
   "source": [
    "The bars aren't ordered by length, so it's a little difficult to compare. We can use a more complicated method of sorting to make our bar chart more readable."
   ]
  },
  {
   "cell_type": "code",
   "execution_count": 20,
   "metadata": {},
   "outputs": [
    {
     "data": {
      "text/html": [
       "<table border=\"1\" class=\"dataframe\">\n",
       "    <thead>\n",
       "        <tr>\n",
       "            <th>playlist_genre</th> <th>count</th>\n",
       "        </tr>\n",
       "    </thead>\n",
       "    <tbody>\n",
       "        <tr>\n",
       "            <td>edm           </td> <td>6043 </td>\n",
       "        </tr>\n",
       "        <tr>\n",
       "            <td>rap           </td> <td>5746 </td>\n",
       "        </tr>\n",
       "        <tr>\n",
       "            <td>pop           </td> <td>5507 </td>\n",
       "        </tr>\n",
       "        <tr>\n",
       "            <td>r&b           </td> <td>5431 </td>\n",
       "        </tr>\n",
       "        <tr>\n",
       "            <td>latin         </td> <td>5155 </td>\n",
       "        </tr>\n",
       "        <tr>\n",
       "            <td>rock          </td> <td>4951 </td>\n",
       "        </tr>\n",
       "    </tbody>\n",
       "</table>"
      ],
      "text/plain": [
       "playlist_genre | count\n",
       "edm            | 6043\n",
       "rap            | 5746\n",
       "pop            | 5507\n",
       "r&b            | 5431\n",
       "latin          | 5155\n",
       "rock           | 4951"
      ]
     },
     "execution_count": 20,
     "metadata": {},
     "output_type": "execute_result"
    }
   ],
   "source": [
    "genre_counts_sorted = genre_counts.sort('count', descending=True)\n",
    "genre_counts_sorted"
   ]
  },
  {
   "cell_type": "code",
   "execution_count": 21,
   "metadata": {
    "scrolled": false
   },
   "outputs": [
    {
     "data": {
      "image/png": "[encoded data removed]",
      "text/plain": [
       "<Figure size 432x288 with 1 Axes>"
      ]
     },
     "metadata": {
      "needs_background": "light"
     },
     "output_type": "display_data"
    }
   ],
   "source": [
    "genre_counts_sorted.barh('playlist_genre', 'count')"
   ]
  },
  {
   "cell_type": "markdown",
   "metadata": {},
   "source": [
    "This makes it much easier to see the ranking of most popular genres."
   ]
  },
  {
   "cell_type": "markdown",
   "metadata": {},
   "source": [
    "### Top Artists\n",
    "Let's take a look at all the artists in the dataset. We can take a look at the top 25 artists based on the number of songs they have in our dataset. We'll follow a similar method as we did when grouping by genre above. First, we will group our data by artist and sort by count."
   ]
  },
  {
   "cell_type": "code",
   "execution_count": 19,
   "metadata": {},
   "outputs": [
    {
     "data": {
      "text/html": [
       "<table border=\"1\" class=\"dataframe\">\n",
       "    <thead>\n",
       "        <tr>\n",
       "            <th>track_artist</th> <th>count</th>\n",
       "        </tr>\n",
       "    </thead>\n",
       "    <tbody>\n",
       "        <tr>\n",
       "            <td>Martin Garrix            </td> <td>161  </td>\n",
       "        </tr>\n",
       "        <tr>\n",
       "            <td>Queen                    </td> <td>136  </td>\n",
       "        </tr>\n",
       "        <tr>\n",
       "            <td>The Chainsmokers         </td> <td>123  </td>\n",
       "        </tr>\n",
       "        <tr>\n",
       "            <td>David Guetta             </td> <td>110  </td>\n",
       "        </tr>\n",
       "        <tr>\n",
       "            <td>Don Omar                 </td> <td>102  </td>\n",
       "        </tr>\n",
       "        <tr>\n",
       "            <td>Drake                    </td> <td>100  </td>\n",
       "        </tr>\n",
       "        <tr>\n",
       "            <td>Dimitri Vegas & Like Mike</td> <td>93   </td>\n",
       "        </tr>\n",
       "        <tr>\n",
       "            <td>Calvin Harris            </td> <td>91   </td>\n",
       "        </tr>\n",
       "        <tr>\n",
       "            <td>Hardwell                 </td> <td>84   </td>\n",
       "        </tr>\n",
       "        <tr>\n",
       "            <td>Kygo                     </td> <td>83   </td>\n",
       "        </tr>\n",
       "    </tbody>\n",
       "</table>\n",
       "<p>... (10683 rows omitted)</p>"
      ],
      "text/plain": [
       "track_artist              | count\n",
       "Martin Garrix             | 161\n",
       "Queen                     | 136\n",
       "The Chainsmokers          | 123\n",
       "David Guetta              | 110\n",
       "Don Omar                  | 102\n",
       "Drake                     | 100\n",
       "Dimitri Vegas & Like Mike | 93\n",
       "Calvin Harris             | 91\n",
       "Hardwell                  | 84\n",
       "Kygo                      | 83\n",
       "... (10683 rows omitted)"
      ]
     },
     "execution_count": 19,
     "metadata": {},
     "output_type": "execute_result"
    }
   ],
   "source": [
    "#Here, we will group and sort in the same line.\n",
    "\n",
    "artists_grouped = spotify.group('track_artist').sort('count', descending=True)\n",
    "artists_grouped\n",
    "\n",
    "artists_grouped = spotify.group('track_artist').sort('count', descending=True)\n",
    "artists_grouped"
   ]
  },
  {
   "cell_type": "markdown",
   "metadata": {},
   "source": [
    "The output displays the top 10 artists, but there are over 10,000 artists in our dataset. A visualization with every artist would be very hard to read, so we will focus on the top 25 artists."
   ]
  },
  {
   "cell_type": "code",
   "execution_count": 24,
   "metadata": {},
   "outputs": [
    {
     "data": {
      "text/html": [
       "<table border=\"1\" class=\"dataframe\">\n",
       "    <thead>\n",
       "        <tr>\n",
       "            <th>track_artist</th> <th>count</th>\n",
       "        </tr>\n",
       "    </thead>\n",
       "    <tbody>\n",
       "        <tr>\n",
       "            <td>Martin Garrix            </td> <td>161  </td>\n",
       "        </tr>\n",
       "        <tr>\n",
       "            <td>Queen                    </td> <td>136  </td>\n",
       "        </tr>\n",
       "        <tr>\n",
       "            <td>The Chainsmokers         </td> <td>123  </td>\n",
       "        </tr>\n",
       "        <tr>\n",
       "            <td>David Guetta             </td> <td>110  </td>\n",
       "        </tr>\n",
       "        <tr>\n",
       "            <td>Don Omar                 </td> <td>102  </td>\n",
       "        </tr>\n",
       "        <tr>\n",
       "            <td>Drake                    </td> <td>100  </td>\n",
       "        </tr>\n",
       "        <tr>\n",
       "            <td>Dimitri Vegas & Like Mike</td> <td>93   </td>\n",
       "        </tr>\n",
       "        <tr>\n",
       "            <td>Calvin Harris            </td> <td>91   </td>\n",
       "        </tr>\n",
       "        <tr>\n",
       "            <td>Hardwell                 </td> <td>84   </td>\n",
       "        </tr>\n",
       "        <tr>\n",
       "            <td>Kygo                     </td> <td>83   </td>\n",
       "        </tr>\n",
       "    </tbody>\n",
       "</table>\n",
       "<p>... (15 rows omitted)</p>"
      ],
      "text/plain": [
       "track_artist              | count\n",
       "Martin Garrix             | 161\n",
       "Queen                     | 136\n",
       "The Chainsmokers          | 123\n",
       "David Guetta              | 110\n",
       "Don Omar                  | 102\n",
       "Drake                     | 100\n",
       "Dimitri Vegas & Like Mike | 93\n",
       "Calvin Harris             | 91\n",
       "Hardwell                  | 84\n",
       "Kygo                      | 83\n",
       "... (15 rows omitted)"
      ]
     },
     "execution_count": 24,
     "metadata": {},
     "output_type": "execute_result"
    }
   ],
   "source": [
    "top_artists = artists_grouped.take[:25]\n",
    "top_artists"
   ]
  },
  {
   "cell_type": "markdown",
   "metadata": {},
   "source": [
    "Creating a bar chart of the number of songs for each artists lets us easily compare the differences between artists."
   ]
  },
  {
   "cell_type": "code",
   "execution_count": 26,
   "metadata": {},
   "outputs": [
    {
     "data": {
      "image/png": "[encoded data removed]",
      "text/plain": [
       "<Figure size 432x900 with 1 Axes>"
      ]
     },
     "metadata": {
      "needs_background": "light"
     },
     "output_type": "display_data"
    }
   ],
   "source": [
    "top_artists.barh('track_artist', 'count')"
   ]
  },
  {
   "cell_type": "markdown",
   "metadata": {},
   "source": [
    "A quick look through the top 25 shows us that all of the top artists are males."
   ]
  },
  {
   "cell_type": "markdown",
   "metadata": {},
   "source": [
    "### Analyzing Playlist Popularity\n",
    "In our dataset, each song is listed as belonging to a particular playlist, and each song is given a \"popularity score\", called the `track_popularity`. Using the `track_popularity`, we can calculate an \"aggregate popularity\" for each playlist, which is just the sum of all the popularity scores for the songs on the playlist.\n",
    "\n",
    "In order to create this aggregate popularity score, we need to group our data by playlist, and sum all of the popularity scores. First, we will create a subset of our `spotify` table using the `select` method. This lets us create a table with only the relevant columns we want. In this case, we only care about the name of the playlist and the popularity of each track. Keep in mind that each row still represents one track, even though we no longer have the track title in our table."
   ]
  },
  {
   "cell_type": "code",
   "execution_count": 21,
   "metadata": {},
   "outputs": [
    {
     "data": {
      "text/html": [
       "<table border=\"1\" class=\"dataframe\">\n",
       "    <thead>\n",
       "        <tr>\n",
       "            <th>playlist_name</th> <th>track_popularity</th>\n",
       "        </tr>\n",
       "    </thead>\n",
       "    <tbody>\n",
       "        <tr>\n",
       "            <td>Pop Remix    </td> <td>66              </td>\n",
       "        </tr>\n",
       "        <tr>\n",
       "            <td>Pop Remix    </td> <td>67              </td>\n",
       "        </tr>\n",
       "        <tr>\n",
       "            <td>Pop Remix    </td> <td>70              </td>\n",
       "        </tr>\n",
       "        <tr>\n",
       "            <td>Pop Remix    </td> <td>60              </td>\n",
       "        </tr>\n",
       "        <tr>\n",
       "            <td>Pop Remix    </td> <td>69              </td>\n",
       "        </tr>\n",
       "        <tr>\n",
       "            <td>Pop Remix    </td> <td>67              </td>\n",
       "        </tr>\n",
       "        <tr>\n",
       "            <td>Pop Remix    </td> <td>62              </td>\n",
       "        </tr>\n",
       "        <tr>\n",
       "            <td>Pop Remix    </td> <td>69              </td>\n",
       "        </tr>\n",
       "        <tr>\n",
       "            <td>Pop Remix    </td> <td>68              </td>\n",
       "        </tr>\n",
       "        <tr>\n",
       "            <td>Pop Remix    </td> <td>67              </td>\n",
       "        </tr>\n",
       "    </tbody>\n",
       "</table>\n",
       "<p>... (32823 rows omitted)</p>"
      ],
      "text/plain": [
       "playlist_name | track_popularity\n",
       "Pop Remix     | 66\n",
       "Pop Remix     | 67\n",
       "Pop Remix     | 70\n",
       "Pop Remix     | 60\n",
       "Pop Remix     | 69\n",
       "Pop Remix     | 67\n",
       "Pop Remix     | 62\n",
       "Pop Remix     | 69\n",
       "Pop Remix     | 68\n",
       "Pop Remix     | 67\n",
       "... (32823 rows omitted)"
      ]
     },
     "execution_count": 21,
     "metadata": {},
     "output_type": "execute_result"
    }
   ],
   "source": [
    "spotify_subset = spotify.select(['playlist_name', 'track_popularity'])\n",
    "spotify_subset"
   ]
  },
  {
   "cell_type": "markdown",
   "metadata": {},
   "source": [
    "Using the `group` method, we can get a count of the number of songs in each playlist. "
   ]
  },
  {
   "cell_type": "code",
   "execution_count": 29,
   "metadata": {},
   "outputs": [
    {
     "data": {
      "text/html": [
       "<table border=\"1\" class=\"dataframe\">\n",
       "    <thead>\n",
       "        <tr>\n",
       "            <th>playlist_name</th> <th>count</th>\n",
       "        </tr>\n",
       "    </thead>\n",
       "    <tbody>\n",
       "        <tr>\n",
       "            <td>\"Permanent Wave\"                                            </td> <td>23   </td>\n",
       "        </tr>\n",
       "        <tr>\n",
       "            <td>10er Playlist                                               </td> <td>61   </td>\n",
       "        </tr>\n",
       "        <tr>\n",
       "            <td>1987-1997 OLD SKOOL JAMZ                                    </td> <td>41   </td>\n",
       "        </tr>\n",
       "        <tr>\n",
       "            <td>2000's hard rock                                            </td> <td>45   </td>\n",
       "        </tr>\n",
       "        <tr>\n",
       "            <td>2010 - 2011 - 2012 - 2013 - 2014 - 2015 - 2016 - 2017 -  ...</td> <td>83   </td>\n",
       "        </tr>\n",
       "        <tr>\n",
       "            <td>2011-2014 House                                             </td> <td>96   </td>\n",
       "        </tr>\n",
       "        <tr>\n",
       "            <td>2015 songs                                                  </td> <td>91   </td>\n",
       "        </tr>\n",
       "        <tr>\n",
       "            <td>2019 in Indie Poptimism                                     </td> <td>98   </td>\n",
       "        </tr>\n",
       "        <tr>\n",
       "            <td>2020 Hits & 2019  Hits – Top Global Tracks 🔥🔥🔥              </td> <td>247  </td>\n",
       "        </tr>\n",
       "        <tr>\n",
       "            <td>3rd Coast Classics                                          </td> <td>37   </td>\n",
       "        </tr>\n",
       "    </tbody>\n",
       "</table>\n",
       "<p>... (439 rows omitted)</p>"
      ],
      "text/plain": [
       "playlist_name                                                | count\n",
       "\"Permanent Wave\"                                             | 23\n",
       "10er Playlist                                                | 61\n",
       "1987-1997 OLD SKOOL JAMZ                                     | 41\n",
       "2000's hard rock                                             | 45\n",
       "2010 - 2011 - 2012 - 2013 - 2014 - 2015 - 2016 - 2017 -  ... | 83\n",
       "2011-2014 House                                              | 96\n",
       "2015 songs                                                   | 91\n",
       "2019 in Indie Poptimism                                      | 98\n",
       "2020 Hits & 2019  Hits – Top Global Tracks 🔥🔥🔥               | 247\n",
       "3rd Coast Classics                                           | 37\n",
       "... (439 rows omitted)"
      ]
     },
     "execution_count": 29,
     "metadata": {},
     "output_type": "execute_result"
    }
   ],
   "source": [
    "playlists = spotify_subset.group('playlist_name')\n",
    "playlists"
   ]
  },
  {
   "cell_type": "markdown",
   "metadata": {},
   "source": [
    "We can use the `group` method again, this time passing in a second argument `collect`, which says that we want to take the sum rather than the count when grouping. This results in a table with the total aggregate popularity of each playlist."
   ]
  },
  {
   "cell_type": "code",
   "execution_count": 22,
   "metadata": {},
   "outputs": [
    {
     "data": {
      "text/html": [
       "<table border=\"1\" class=\"dataframe\">\n",
       "    <thead>\n",
       "        <tr>\n",
       "            <th>playlist_name</th> <th>track_popularity sum</th>\n",
       "        </tr>\n",
       "    </thead>\n",
       "    <tbody>\n",
       "        <tr>\n",
       "            <td>\"Permanent Wave\"                                            </td> <td>849                 </td>\n",
       "        </tr>\n",
       "        <tr>\n",
       "            <td>10er Playlist                                               </td> <td>4234                </td>\n",
       "        </tr>\n",
       "        <tr>\n",
       "            <td>1987-1997 OLD SKOOL JAMZ                                    </td> <td>1159                </td>\n",
       "        </tr>\n",
       "        <tr>\n",
       "            <td>2000's hard rock                                            </td> <td>2255                </td>\n",
       "        </tr>\n",
       "        <tr>\n",
       "            <td>2010 - 2011 - 2012 - 2013 - 2014 - 2015 - 2016 - 2017 -  ...</td> <td>5630                </td>\n",
       "        </tr>\n",
       "        <tr>\n",
       "            <td>2011-2014 House                                             </td> <td>2742                </td>\n",
       "        </tr>\n",
       "        <tr>\n",
       "            <td>2015 songs                                                  </td> <td>6088                </td>\n",
       "        </tr>\n",
       "        <tr>\n",
       "            <td>2019 in Indie Poptimism                                     </td> <td>5809                </td>\n",
       "        </tr>\n",
       "        <tr>\n",
       "            <td>2020 Hits & 2019  Hits – Top Global Tracks 🔥🔥🔥              </td> <td>20547               </td>\n",
       "        </tr>\n",
       "        <tr>\n",
       "            <td>3rd Coast Classics                                          </td> <td>587                 </td>\n",
       "        </tr>\n",
       "    </tbody>\n",
       "</table>\n",
       "<p>... (439 rows omitted)</p>"
      ],
      "text/plain": [
       "playlist_name                                                | track_popularity sum\n",
       "\"Permanent Wave\"                                             | 849\n",
       "10er Playlist                                                | 4234\n",
       "1987-1997 OLD SKOOL JAMZ                                     | 1159\n",
       "2000's hard rock                                             | 2255\n",
       "2010 - 2011 - 2012 - 2013 - 2014 - 2015 - 2016 - 2017 -  ... | 5630\n",
       "2011-2014 House                                              | 2742\n",
       "2015 songs                                                   | 6088\n",
       "2019 in Indie Poptimism                                      | 5809\n",
       "2020 Hits & 2019  Hits – Top Global Tracks 🔥🔥🔥               | 20547\n",
       "3rd Coast Classics                                           | 587\n",
       "... (439 rows omitted)"
      ]
     },
     "execution_count": 22,
     "metadata": {},
     "output_type": "execute_result"
    }
   ],
   "source": [
    "total_playlist_popularity = spotify_subset.group('playlist_name', collect = sum)\n",
    "total_playlist_popularity"
   ]
  },
  {
   "cell_type": "markdown",
   "metadata": {},
   "source": [
    "We can once again use the `column` method to access just the `track_popularity sum` column, and add it to our playlists table using the `with_column` method."
   ]
  },
  {
   "cell_type": "code",
   "execution_count": 31,
   "metadata": {},
   "outputs": [
    {
     "data": {
      "text/html": [
       "<table border=\"1\" class=\"dataframe\">\n",
       "    <thead>\n",
       "        <tr>\n",
       "            <th>playlist_name</th> <th>count</th> <th>aggregate_popularity</th>\n",
       "        </tr>\n",
       "    </thead>\n",
       "    <tbody>\n",
       "        <tr>\n",
       "            <td>\"Permanent Wave\"                                            </td> <td>23   </td> <td>849                 </td>\n",
       "        </tr>\n",
       "        <tr>\n",
       "            <td>10er Playlist                                               </td> <td>61   </td> <td>4234                </td>\n",
       "        </tr>\n",
       "        <tr>\n",
       "            <td>1987-1997 OLD SKOOL JAMZ                                    </td> <td>41   </td> <td>1159                </td>\n",
       "        </tr>\n",
       "        <tr>\n",
       "            <td>2000's hard rock                                            </td> <td>45   </td> <td>2255                </td>\n",
       "        </tr>\n",
       "        <tr>\n",
       "            <td>2010 - 2011 - 2012 - 2013 - 2014 - 2015 - 2016 - 2017 -  ...</td> <td>83   </td> <td>5630                </td>\n",
       "        </tr>\n",
       "        <tr>\n",
       "            <td>2011-2014 House                                             </td> <td>96   </td> <td>2742                </td>\n",
       "        </tr>\n",
       "        <tr>\n",
       "            <td>2015 songs                                                  </td> <td>91   </td> <td>6088                </td>\n",
       "        </tr>\n",
       "        <tr>\n",
       "            <td>2019 in Indie Poptimism                                     </td> <td>98   </td> <td>5809                </td>\n",
       "        </tr>\n",
       "        <tr>\n",
       "            <td>2020 Hits & 2019  Hits – Top Global Tracks 🔥🔥🔥              </td> <td>247  </td> <td>20547               </td>\n",
       "        </tr>\n",
       "        <tr>\n",
       "            <td>3rd Coast Classics                                          </td> <td>37   </td> <td>587                 </td>\n",
       "        </tr>\n",
       "    </tbody>\n",
       "</table>\n",
       "<p>... (439 rows omitted)</p>"
      ],
      "text/plain": [
       "playlist_name                                                | count | aggregate_popularity\n",
       "\"Permanent Wave\"                                             | 23    | 849\n",
       "10er Playlist                                                | 61    | 4234\n",
       "1987-1997 OLD SKOOL JAMZ                                     | 41    | 1159\n",
       "2000's hard rock                                             | 45    | 2255\n",
       "2010 - 2011 - 2012 - 2013 - 2014 - 2015 - 2016 - 2017 -  ... | 83    | 5630\n",
       "2011-2014 House                                              | 96    | 2742\n",
       "2015 songs                                                   | 91    | 6088\n",
       "2019 in Indie Poptimism                                      | 98    | 5809\n",
       "2020 Hits & 2019  Hits – Top Global Tracks 🔥🔥🔥               | 247   | 20547\n",
       "3rd Coast Classics                                           | 37    | 587\n",
       "... (439 rows omitted)"
      ]
     },
     "execution_count": 31,
     "metadata": {},
     "output_type": "execute_result"
    }
   ],
   "source": [
    "agg_popularity = total_playlist_popularity.column('track_popularity sum')\n",
    "playlists = playlists.with_column('aggregate_popularity', agg_popularity)\n",
    "playlists"
   ]
  },
  {
   "cell_type": "markdown",
   "metadata": {},
   "source": [
    "Do you think that the most popular playlist would be the one with the highest `aggregate_popularity` score, or the one with the highest number of songs? We can sort our `playlists` table and compare the outputs."
   ]
  },
  {
   "cell_type": "code",
   "execution_count": 33,
   "metadata": {},
   "outputs": [
    {
     "data": {
      "text/html": [
       "<table border=\"1\" class=\"dataframe\">\n",
       "    <thead>\n",
       "        <tr>\n",
       "            <th>playlist_name</th> <th>count</th> <th>aggregate_popularity</th>\n",
       "        </tr>\n",
       "    </thead>\n",
       "    <tbody>\n",
       "        <tr>\n",
       "            <td>Indie Poptimism                                             </td> <td>308  </td> <td>13107               </td>\n",
       "        </tr>\n",
       "        <tr>\n",
       "            <td>2020 Hits & 2019  Hits – Top Global Tracks 🔥🔥🔥              </td> <td>247  </td> <td>20547               </td>\n",
       "        </tr>\n",
       "        <tr>\n",
       "            <td>Permanent Wave                                              </td> <td>244  </td> <td>13261               </td>\n",
       "        </tr>\n",
       "        <tr>\n",
       "            <td>Hard Rock Workout                                           </td> <td>219  </td> <td>8713                </td>\n",
       "        </tr>\n",
       "        <tr>\n",
       "            <td>Ultimate Indie Presents... Best Indie Tracks of the 2010s   </td> <td>198  </td> <td>11840               </td>\n",
       "        </tr>\n",
       "        <tr>\n",
       "            <td>Fitness Workout Electro | House | Dance | Progressive House </td> <td>195  </td> <td>2319                </td>\n",
       "        </tr>\n",
       "        <tr>\n",
       "            <td>Southern Hip Hop                                            </td> <td>189  </td> <td>7024                </td>\n",
       "        </tr>\n",
       "        <tr>\n",
       "            <td>Charts 2020 🔥Top 2020🔥Hits 2020🔥Summer 2020🔥Pop 2020🔥Pop ...</td> <td>189  </td> <td>12670               </td>\n",
       "        </tr>\n",
       "        <tr>\n",
       "            <td>Classic Rock 70s 80s 90s, Rock Classics - 70s Rock, 80s  ...</td> <td>182  </td> <td>5482                </td>\n",
       "        </tr>\n",
       "        <tr>\n",
       "            <td>Urban Contemporary                                          </td> <td>170  </td> <td>8770                </td>\n",
       "        </tr>\n",
       "    </tbody>\n",
       "</table>\n",
       "<p>... (439 rows omitted)</p>"
      ],
      "text/plain": [
       "playlist_name                                                | count | aggregate_popularity\n",
       "Indie Poptimism                                              | 308   | 13107\n",
       "2020 Hits & 2019  Hits – Top Global Tracks 🔥🔥🔥               | 247   | 20547\n",
       "Permanent Wave                                               | 244   | 13261\n",
       "Hard Rock Workout                                            | 219   | 8713\n",
       "Ultimate Indie Presents... Best Indie Tracks of the 2010s    | 198   | 11840\n",
       "Fitness Workout Electro | House | Dance | Progressive House  | 195   | 2319\n",
       "Southern Hip Hop                                             | 189   | 7024\n",
       "Charts 2020 🔥Top 2020🔥Hits 2020🔥Summer 2020🔥Pop 2020🔥Pop ... | 189   | 12670\n",
       "Classic Rock 70s 80s 90s, Rock Classics - 70s Rock, 80s  ... | 182   | 5482\n",
       "Urban Contemporary                                           | 170   | 8770\n",
       "... (439 rows omitted)"
      ]
     },
     "execution_count": 33,
     "metadata": {},
     "output_type": "execute_result"
    }
   ],
   "source": [
    "playlists.sort('count', descending=True)"
   ]
  },
  {
   "cell_type": "code",
   "execution_count": 34,
   "metadata": {},
   "outputs": [
    {
     "data": {
      "text/html": [
       "<table border=\"1\" class=\"dataframe\">\n",
       "    <thead>\n",
       "        <tr>\n",
       "            <th>playlist_name</th> <th>count</th> <th>aggregate_popularity</th>\n",
       "        </tr>\n",
       "    </thead>\n",
       "    <tbody>\n",
       "        <tr>\n",
       "            <td>2020 Hits & 2019  Hits – Top Global Tracks 🔥🔥🔥              </td> <td>247  </td> <td>20547               </td>\n",
       "        </tr>\n",
       "        <tr>\n",
       "            <td>Permanent Wave                                              </td> <td>244  </td> <td>13261               </td>\n",
       "        </tr>\n",
       "        <tr>\n",
       "            <td>Indie Poptimism                                             </td> <td>308  </td> <td>13107               </td>\n",
       "        </tr>\n",
       "        <tr>\n",
       "            <td>Charts 2020 🔥Top 2020🔥Hits 2020🔥Summer 2020🔥Pop 2020🔥Pop ...</td> <td>189  </td> <td>12670               </td>\n",
       "        </tr>\n",
       "        <tr>\n",
       "            <td>Ultimate Indie Presents... Best Indie Tracks of the 2010s   </td> <td>198  </td> <td>11840               </td>\n",
       "        </tr>\n",
       "        <tr>\n",
       "            <td>post teen pop                                               </td> <td>166  </td> <td>10434               </td>\n",
       "        </tr>\n",
       "        <tr>\n",
       "            <td>Urban Contemporary                                          </td> <td>170  </td> <td>8770                </td>\n",
       "        </tr>\n",
       "        <tr>\n",
       "            <td>Hard Rock Workout                                           </td> <td>219  </td> <td>8713                </td>\n",
       "        </tr>\n",
       "        <tr>\n",
       "            <td>Dance Pop                                                   </td> <td>138  </td> <td>8380                </td>\n",
       "        </tr>\n",
       "        <tr>\n",
       "            <td>Pop - Pop UK - 2019 - Canadian Pop - 2019 - Pop             </td> <td>100  </td> <td>7913                </td>\n",
       "        </tr>\n",
       "    </tbody>\n",
       "</table>\n",
       "<p>... (439 rows omitted)</p>"
      ],
      "text/plain": [
       "playlist_name                                                | count | aggregate_popularity\n",
       "2020 Hits & 2019  Hits – Top Global Tracks 🔥🔥🔥               | 247   | 20547\n",
       "Permanent Wave                                               | 244   | 13261\n",
       "Indie Poptimism                                              | 308   | 13107\n",
       "Charts 2020 🔥Top 2020🔥Hits 2020🔥Summer 2020🔥Pop 2020🔥Pop ... | 189   | 12670\n",
       "Ultimate Indie Presents... Best Indie Tracks of the 2010s    | 198   | 11840\n",
       "post teen pop                                                | 166   | 10434\n",
       "Urban Contemporary                                           | 170   | 8770\n",
       "Hard Rock Workout                                            | 219   | 8713\n",
       "Dance Pop                                                    | 138   | 8380\n",
       "Pop - Pop UK - 2019 - Canadian Pop - 2019 - Pop              | 100   | 7913\n",
       "... (439 rows omitted)"
      ]
     },
     "execution_count": 34,
     "metadata": {},
     "output_type": "execute_result"
    }
   ],
   "source": [
    "playlists.sort('aggregate_popularity', descending=True)"
   ]
  },
  {
   "cell_type": "markdown",
   "metadata": {},
   "source": [
    "Comparing these two outputs shows us that the \"most popular playlist\" depends on how we judge popularity. If we have a playlist that has only a few songs, but each of those songs are really popular, should that playlist be higher on the popularity rankings? By way of calculation, playlists with more songs will have a higher aggregate popularity, since more popularity values are being added together. We want a metric that will let us judge the actual quality and popularity of a playlist, not just how many songs it has.\n",
    "\n",
    "In order to take into account the number of songs on each playlist, we can calculate the \"average popularity\" of each song on the playlist, or the proportion of aggregate popularity that each song takes up. We can do this by dividing `aggregate_popularity` by `count`. Remember, since the columns are just arrays, we can use array math to calculate these values."
   ]
  },
  {
   "cell_type": "code",
   "execution_count": 35,
   "metadata": {},
   "outputs": [],
   "source": [
    "avg_popularity = playlists.column('aggregate_popularity') / playlists.column('count')"
   ]
  },
  {
   "cell_type": "markdown",
   "metadata": {},
   "source": [
    "We can then add this average popularity back into our `playlists` table."
   ]
  },
  {
   "cell_type": "code",
   "execution_count": 36,
   "metadata": {},
   "outputs": [
    {
     "data": {
      "text/html": [
       "<table border=\"1\" class=\"dataframe\">\n",
       "    <thead>\n",
       "        <tr>\n",
       "            <th>playlist_name</th> <th>count</th> <th>aggregate_popularity</th> <th>average_popularity</th>\n",
       "        </tr>\n",
       "    </thead>\n",
       "    <tbody>\n",
       "        <tr>\n",
       "            <td>\"Permanent Wave\"                                            </td> <td>23   </td> <td>849                 </td> <td>36.913            </td>\n",
       "        </tr>\n",
       "        <tr>\n",
       "            <td>10er Playlist                                               </td> <td>61   </td> <td>4234                </td> <td>69.4098           </td>\n",
       "        </tr>\n",
       "        <tr>\n",
       "            <td>1987-1997 OLD SKOOL JAMZ                                    </td> <td>41   </td> <td>1159                </td> <td>28.2683           </td>\n",
       "        </tr>\n",
       "        <tr>\n",
       "            <td>2000's hard rock                                            </td> <td>45   </td> <td>2255                </td> <td>50.1111           </td>\n",
       "        </tr>\n",
       "        <tr>\n",
       "            <td>2010 - 2011 - 2012 - 2013 - 2014 - 2015 - 2016 - 2017 -  ...</td> <td>83   </td> <td>5630                </td> <td>67.8313           </td>\n",
       "        </tr>\n",
       "        <tr>\n",
       "            <td>2011-2014 House                                             </td> <td>96   </td> <td>2742                </td> <td>28.5625           </td>\n",
       "        </tr>\n",
       "        <tr>\n",
       "            <td>2015 songs                                                  </td> <td>91   </td> <td>6088                </td> <td>66.9011           </td>\n",
       "        </tr>\n",
       "        <tr>\n",
       "            <td>2019 in Indie Poptimism                                     </td> <td>98   </td> <td>5809                </td> <td>59.2755           </td>\n",
       "        </tr>\n",
       "        <tr>\n",
       "            <td>2020 Hits & 2019  Hits – Top Global Tracks 🔥🔥🔥              </td> <td>247  </td> <td>20547               </td> <td>83.1862           </td>\n",
       "        </tr>\n",
       "        <tr>\n",
       "            <td>3rd Coast Classics                                          </td> <td>37   </td> <td>587                 </td> <td>15.8649           </td>\n",
       "        </tr>\n",
       "    </tbody>\n",
       "</table>\n",
       "<p>... (439 rows omitted)</p>"
      ],
      "text/plain": [
       "playlist_name                                                | count | aggregate_popularity | average_popularity\n",
       "\"Permanent Wave\"                                             | 23    | 849                  | 36.913\n",
       "10er Playlist                                                | 61    | 4234                 | 69.4098\n",
       "1987-1997 OLD SKOOL JAMZ                                     | 41    | 1159                 | 28.2683\n",
       "2000's hard rock                                             | 45    | 2255                 | 50.1111\n",
       "2010 - 2011 - 2012 - 2013 - 2014 - 2015 - 2016 - 2017 -  ... | 83    | 5630                 | 67.8313\n",
       "2011-2014 House                                              | 96    | 2742                 | 28.5625\n",
       "2015 songs                                                   | 91    | 6088                 | 66.9011\n",
       "2019 in Indie Poptimism                                      | 98    | 5809                 | 59.2755\n",
       "2020 Hits & 2019  Hits – Top Global Tracks 🔥🔥🔥               | 247   | 20547                | 83.1862\n",
       "3rd Coast Classics                                           | 37    | 587                  | 15.8649\n",
       "... (439 rows omitted)"
      ]
     },
     "execution_count": 36,
     "metadata": {},
     "output_type": "execute_result"
    }
   ],
   "source": [
    "playlists = playlists.with_column('average_popularity', avg_popularity)\n",
    "playlists"
   ]
  },
  {
   "cell_type": "markdown",
   "metadata": {},
   "source": [
    "Let's see if our \"most popular playlist\" changes when we judge popularity by the average popularity of the songs on a playlist."
   ]
  },
  {
   "cell_type": "code",
   "execution_count": 38,
   "metadata": {},
   "outputs": [
    {
     "data": {
      "text/html": [
       "<table border=\"1\" class=\"dataframe\">\n",
       "    <thead>\n",
       "        <tr>\n",
       "            <th>playlist_name</th> <th>count</th> <th>aggregate_popularity</th> <th>average_popularity</th>\n",
       "        </tr>\n",
       "    </thead>\n",
       "    <tbody>\n",
       "        <tr>\n",
       "            <td>2020 Hits & 2019  Hits – Top Global Tracks 🔥🔥🔥 </td> <td>247  </td> <td>20547               </td> <td>83.1862           </td>\n",
       "        </tr>\n",
       "        <tr>\n",
       "            <td>RapCaviar                                      </td> <td>50   </td> <td>3985                </td> <td>79.7              </td>\n",
       "        </tr>\n",
       "        <tr>\n",
       "            <td>Most Popular 2020 TOP 50                       </td> <td>48   </td> <td>3808                </td> <td>79.3333           </td>\n",
       "        </tr>\n",
       "        <tr>\n",
       "            <td>Pop - Pop UK - 2019 - Canadian Pop - 2019 - Pop</td> <td>100  </td> <td>7913                </td> <td>79.13             </td>\n",
       "        </tr>\n",
       "        <tr>\n",
       "            <td>Baila Reggaeton                                </td> <td>50   </td> <td>3885                </td> <td>77.7              </td>\n",
       "        </tr>\n",
       "        <tr>\n",
       "            <td>Intro to Post-Teen Pop                         </td> <td>16   </td> <td>1239                </td> <td>77.4375           </td>\n",
       "        </tr>\n",
       "        <tr>\n",
       "            <td>Todo Éxitos                                    </td> <td>60   </td> <td>4610                </td> <td>76.8333           </td>\n",
       "        </tr>\n",
       "        <tr>\n",
       "            <td>¡Viva Latino!                                  </td> <td>16   </td> <td>1223                </td> <td>76.4375           </td>\n",
       "        </tr>\n",
       "        <tr>\n",
       "            <td>Mansión Reggaetón                              </td> <td>27   </td> <td>2026                </td> <td>75.037            </td>\n",
       "        </tr>\n",
       "        <tr>\n",
       "            <td>Global Top 50 | 2020 Hits                      </td> <td>40   </td> <td>2963                </td> <td>74.075            </td>\n",
       "        </tr>\n",
       "    </tbody>\n",
       "</table>\n",
       "<p>... (439 rows omitted)</p>"
      ],
      "text/plain": [
       "playlist_name                                   | count | aggregate_popularity | average_popularity\n",
       "2020 Hits & 2019  Hits – Top Global Tracks 🔥🔥🔥  | 247   | 20547                | 83.1862\n",
       "RapCaviar                                       | 50    | 3985                 | 79.7\n",
       "Most Popular 2020 TOP 50                        | 48    | 3808                 | 79.3333\n",
       "Pop - Pop UK - 2019 - Canadian Pop - 2019 - Pop | 100   | 7913                 | 79.13\n",
       "Baila Reggaeton                                 | 50    | 3885                 | 77.7\n",
       "Intro to Post-Teen Pop                          | 16    | 1239                 | 77.4375\n",
       "Todo Éxitos                                     | 60    | 4610                 | 76.8333\n",
       "¡Viva Latino!                                   | 16    | 1223                 | 76.4375\n",
       "Mansión Reggaetón                               | 27    | 2026                 | 75.037\n",
       "Global Top 50 | 2020 Hits                       | 40    | 2963                 | 74.075\n",
       "... (439 rows omitted)"
      ]
     },
     "execution_count": 38,
     "metadata": {},
     "output_type": "execute_result"
    }
   ],
   "source": [
    "playlists.sort('average_popularity', descending=True)"
   ]
  },
  {
   "cell_type": "markdown",
   "metadata": {},
   "source": [
    "Looking at the table above, we notice that 8/10 of the top 10 most popular playlists by the `average_popularity` metric are playlists with less than 100 songs. Just because a playlist has a lot of songs, or a high aggregate popularity, doesn't mean that the average popularity of a song on that playlist is high. Our new metric of `average_popularity` lets us rank playlists where the size of a playlist has no effect on it's overall score. We can visualize the top 25 playlists by average popularity in a bar chart."
   ]
  },
  {
   "cell_type": "code",
   "execution_count": 40,
   "metadata": {},
   "outputs": [
    {
     "data": {
      "image/png": "[encoded data removed]",
      "text/plain": [
       "<Figure size 432x900 with 1 Axes>"
      ]
     },
     "metadata": {
      "needs_background": "light"
     },
     "output_type": "display_data"
    }
   ],
   "source": [
    "top_25_playlists = playlists.sort('average_popularity', descending=True).take[:25]\n",
    "top_25_playlists.barh('playlist_name', 'average_popularity')"
   ]
  },
  {
   "cell_type": "markdown",
   "metadata": {},
   "source": [
    "Creating a new metric like `average_popularity` helps us more accurately and fairly measure the popularity of a playlist. \n",
    "\n",
    "We saw before when looking at the top 25 artists that they were all male. Now looking at the top playlists, we see that the current landscape of popular playlists and music may have an effect on the artists that are popular. For example, the RapCaviar is the second most popular playlist, and generally there tends to be fewer female rap artists than male. This shows that the current landscape of popular music can affect the types of artists topping the charts."
   ]
  },
  {
   "cell_type": "markdown",
   "metadata": {},
   "source": [
    "## Towards numerical variables\n",
    "Most of the time, we are not solely interested in categorical variables. Our Spotify data also contains information on the release date of the track, so we can see how many songs were released each year."
   ]
  },
  {
   "cell_type": "code",
   "execution_count": 41,
   "metadata": {},
   "outputs": [
    {
     "data": {
      "text/html": [
       "<table border=\"1\" class=\"dataframe\">\n",
       "    <thead>\n",
       "        <tr>\n",
       "            <th>creation_year</th> <th>count</th>\n",
       "        </tr>\n",
       "    </thead>\n",
       "    <tbody>\n",
       "        <tr>\n",
       "            <td>2019         </td> <td>9081 </td>\n",
       "        </tr>\n",
       "        <tr>\n",
       "            <td>2018         </td> <td>3312 </td>\n",
       "        </tr>\n",
       "        <tr>\n",
       "            <td>2017         </td> <td>2430 </td>\n",
       "        </tr>\n",
       "        <tr>\n",
       "            <td>2016         </td> <td>2127 </td>\n",
       "        </tr>\n",
       "        <tr>\n",
       "            <td>2015         </td> <td>1779 </td>\n",
       "        </tr>\n",
       "        <tr>\n",
       "            <td>2014         </td> <td>1524 </td>\n",
       "        </tr>\n",
       "        <tr>\n",
       "            <td>2013         </td> <td>956  </td>\n",
       "        </tr>\n",
       "        <tr>\n",
       "            <td>2012         </td> <td>786  </td>\n",
       "        </tr>\n",
       "        <tr>\n",
       "            <td>2020         </td> <td>785  </td>\n",
       "        </tr>\n",
       "        <tr>\n",
       "            <td>2008         </td> <td>622  </td>\n",
       "        </tr>\n",
       "    </tbody>\n",
       "</table>\n",
       "<p>... (53 rows omitted)</p>"
      ],
      "text/plain": [
       "creation_year | count\n",
       "2019          | 9081\n",
       "2018          | 3312\n",
       "2017          | 2430\n",
       "2016          | 2127\n",
       "2015          | 1779\n",
       "2014          | 1524\n",
       "2013          | 956\n",
       "2012          | 786\n",
       "2020          | 785\n",
       "2008          | 622\n",
       "... (53 rows omitted)"
      ]
     },
     "execution_count": 41,
     "metadata": {},
     "output_type": "execute_result"
    }
   ],
   "source": [
    "grouped_years = spotify.select('track_artist', 'creation_year').group('creation_year').sort('count', descending=True)\n",
    "grouped_years"
   ]
  },
  {
   "cell_type": "markdown",
   "metadata": {},
   "source": [
    "Sorting by the descending count lets us see which years had the most songs."
   ]
  },
  {
   "cell_type": "code",
   "execution_count": 42,
   "metadata": {},
   "outputs": [
    {
     "data": {
      "image/png": "[encoded data removed]",
      "text/plain": [
       "<Figure size 432x2268 with 1 Axes>"
      ]
     },
     "metadata": {
      "needs_background": "light"
     },
     "output_type": "display_data"
    }
   ],
   "source": [
    "grouped_years.barh('creation_year', 'count')"
   ]
  },
  {
   "cell_type": "markdown",
   "metadata": {},
   "source": [
    "The longest bars correspond to most recent years, but if you look closely, the years are not listed in chronological order. Years are a fixed chronological unit that have a specified order, but the bar chart is treating year as a categorical variable. We can sort by year instead of by count in order to get a chronological bar chart."
   ]
  },
  {
   "cell_type": "code",
   "execution_count": 44,
   "metadata": {},
   "outputs": [
    {
     "data": {
      "image/png": "[encoded data removed]",
      "text/plain": [
       "<Figure size 432x2268 with 1 Axes>"
      ]
     },
     "metadata": {
      "needs_background": "light"
     },
     "output_type": "display_data"
    }
   ],
   "source": [
    "grouped_years.sort('creation_year', descending=True).barh('creation_year', 'count')"
   ]
  },
  {
   "cell_type": "markdown",
   "metadata": {},
   "source": [
    "Now we can see that more songs have been released in more recent years. The bar for 2020 is much shorter than the bar for 2019, because the data was downloaded in January 2020, when there weren't very many new songs out yet."
   ]
  },
  {
   "cell_type": "code",
   "execution_count": null,
   "metadata": {},
   "outputs": [],
   "source": []
  }
 ],
 "metadata": {
  "kernelspec": {
   "display_name": "Python 3",
   "language": "python",
   "name": "python3"
  },
  "language_info": {
   "codemirror_mode": {
    "name": "ipython",
    "version": 3
   },
   "file_extension": ".py",
   "mimetype": "text/x-python",
   "name": "python",
   "nbconvert_exporter": "python",
   "pygments_lexer": "ipython3",
   "version": "3.6.9"
  }
 },
 "nbformat": 4,
 "nbformat_minor": 4
}
