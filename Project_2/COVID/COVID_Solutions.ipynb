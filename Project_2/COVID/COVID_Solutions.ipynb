{
 "cells": [
  {
   "cell_type": "code",
   "execution_count": null,
   "metadata": {},
   "outputs": [],
   "source": [
    "import warnings\n",
    "warnings.filterwarnings('ignore')\n",
    "\n",
    "import pandas as pd\n",
    "import numpy as np\n",
    "from datascience import *\n",
    "import matplotlib\n",
    "\n",
    "%matplotlib inline\n",
    "import matplotlib.pyplot as plt\n",
    "import numpy as np\n",
    "plt.style.use('fivethirtyeight')"
   ]
  },
  {
   "cell_type": "code",
   "execution_count": null,
   "metadata": {},
   "outputs": [],
   "source": [
    "def plot_by_month(counties, col):\n",
    "    \n",
    "    \"\"\"Makes overlaid lineplots of \n",
    "    the attribute in column labeled COL\n",
    "    for all the counties in the array COUNTIES\"\"\"\n",
    "    \n",
    "    for county in counties:\n",
    "        dta = covid_us.where(\"County\", are.contained_in(county))\n",
    "        plt.plot(dta['Date'], dta[col], label=county)\n",
    "        plt.xticks(rotation=70)\n",
    "        plt.legend();\n",
    "    plt.title(col);"
   ]
  },
  {
   "cell_type": "markdown",
   "metadata": {},
   "source": [
    "# Covid-19"
   ]
  },
  {
   "cell_type": "markdown",
   "metadata": {},
   "source": [
    "## The Data Science Life Cycle - Table of Contents\n",
    "\n",
    "<a href='#section 0'>Background Knowledge: Spread of Disease</a>\n",
    "\n",
    "<a href='#subsection 1a'>Formulating a question or problem</a> \n",
    "\n",
    "<a href='#subsection 1b'>Acquiring and preparing data</a>\n",
    "\n",
    "<a href='#subsection 1c'>Conducting exploratory data analysis</a>\n",
    "\n",
    "<a href='#subsection 1d'>Using prediction and inference to draw conclusions</a>\n",
    "<br><br>"
   ]
  },
  {
   "cell_type": "markdown",
   "metadata": {},
   "source": [
    "## Background<a id='section 0'></a>\n"
   ]
  },
  {
   "cell_type": "markdown",
   "metadata": {},
   "source": [
    "In March 2020, our lives were turned upside down as the COVID-19 virus spread throughout the United States.  The Centers for Disease Control (CDC) collects data to help health scientists better understand how disease spreads.\n",
    "\n",
    "Making comparisons between counties and states can us understand how rapidly a virus spreads, the impact of restrictions on public gatherings on the spread of a virus, and measure the changes in fatality as the medical profession learns how to treat the virus and as people get vaccinated. "
   ]
  },
  {
   "cell_type": "markdown",
   "metadata": {},
   "source": [
    "## Formulating a question or problem <a id='subsection 1a'></a>\n",
    "\n",
    "It is important to ask questions that will be informative and that will avoid misleading results. There are many different questions we could ask about Covid-19, for example, many researchers use data to predict the outcomes based on intervention techniques such as social distancing."
   ]
  },
  {
   "cell_type": "markdown",
   "metadata": {},
   "source": [
    "<div class=\"alert alert-info\">\n",
    "<b>Question:</b> Take some time to formulate questions you have about this pandemic and the data you would need to answer the questions. In addition, add the link of an article you found interesting with a description an why it interested you. \n",
    "   </div>"
   ]
  },
  {
   "cell_type": "markdown",
   "metadata": {},
   "source": [
    "**Your questions:** *here*\n",
    "\n",
    "**Data you would need:** *here*\n",
    "\n",
    "\n",
    "**Article:** *link*"
   ]
  },
  {
   "cell_type": "markdown",
   "metadata": {},
   "source": [
    "## Acquiring and preparing data <a id='subsection 1b'></a>\n",
    "\n",
    "You will be looking at data from the COVID-19 Data Repository at Johns Hopkins University. You can find the raw data [here](https://github.com/CSSEGISandData/COVID-19/tree/master/csse_covid_19_data/csse_covid_19_time_series). \n",
    "\n",
    "You will be investigating the cumulative number of cases, new cases, and fatalities in a month for counties in states accross the US, from March 2020 to May 2021.\n",
    "\n",
    "The following table, `covid_data`, contains the data collected for each month from March 2020 through May 2021 for every county in the United States."
   ]
  },
  {
   "cell_type": "code",
   "execution_count": null,
   "metadata": {},
   "outputs": [],
   "source": [
    "covid_data = Table().read_table(\"data/covid_timeseries.csv\")"
   ]
  },
  {
   "cell_type": "markdown",
   "metadata": {},
   "source": [
    "Here are some of the important fields in our data set that you will focus on:\n",
    "\n",
    "|Variable Name   | Description |\n",
    "|:---|:---|\n",
    "|Admin2 | County name |\n",
    "|Province_State | State name |\n",
    "|month| Reporting month represented as the last day of the month, e.g., 3.31.20 |\n",
    "|total_cases | Cumulative number of COVID cases |\n",
    "|month_cases| New cases reported in the month |\n",
    "|total_fatalities | Cumulative number of fatal COVID cases |\n",
    "|month_fatalities| New fatal cases reported in the month |\n",
    "|Population | Population in the county |"
   ]
  },
  {
   "cell_type": "markdown",
   "metadata": {},
   "source": [
    "Let's take a look at the data."
   ]
  },
  {
   "cell_type": "code",
   "execution_count": null,
   "metadata": {},
   "outputs": [],
   "source": [
    "# Run this cell show the first ten rows of the data\n",
    "covid_data"
   ]
  },
  {
   "cell_type": "markdown",
   "metadata": {},
   "source": [
    "<div class=\"alert alert-info\">\n",
    "<b>Question:</b> We want to learn more about the dataset. First, how many total rows are in this table? \n",
    "</div>"
   ]
  },
  {
   "cell_type": "code",
   "execution_count": null,
   "metadata": {},
   "outputs": [],
   "source": [
    "covid_data..."
   ]
  },
  {
   "cell_type": "code",
   "execution_count": null,
   "metadata": {},
   "outputs": [],
   "source": [
    "#KEY\n",
    "covid_data.num_rows"
   ]
  },
  {
   "cell_type": "markdown",
   "metadata": {},
   "source": [
    "**Your answer here:**"
   ]
  },
  {
   "cell_type": "markdown",
   "metadata": {},
   "source": [
    "<div class=\"alert alert-info\">\n",
    "<b>Question:</b> What does each row represent?\n",
    "   </div>    "
   ]
  },
  {
   "cell_type": "markdown",
   "metadata": {},
   "source": [
    "**Your answer here:**"
   ]
  },
  {
   "cell_type": "markdown",
   "metadata": {},
   "source": [
    "<div class=\"alert alert-info\">\n",
    "<b>Question:</b> This table has many columns that are not particularly informative for our investigation. Which ones can we ignore? Which ones do we need to keep for our analysis?  \n",
    "</div>"
   ]
  },
  {
   "cell_type": "markdown",
   "metadata": {},
   "source": [
    "**Your answer here:**"
   ]
  },
  {
   "cell_type": "markdown",
   "metadata": {},
   "source": [
    "Before we eliminate these columns, let's take a look at some of them to confirm that we don't need them.\n",
    "\n",
    "It looks like `iso3` has only the value \"USA\" and that `Country_Region` is always \"US\". Let's check that this is the case by grouping on each of these columns. Run the cell below to create a table with the number of times each value in the `iso3` column appears in our dataset."
   ]
  },
  {
   "cell_type": "code",
   "execution_count": null,
   "metadata": {},
   "outputs": [],
   "source": [
    "covid_data.group('iso3')"
   ]
  },
  {
   "cell_type": "markdown",
   "metadata": {},
   "source": [
    "<div class=\"alert alert-info\">\n",
    "<b>Question:</b> Now, do the same for the column country_region.\n",
    "   </div> "
   ]
  },
  {
   "cell_type": "code",
   "execution_count": null,
   "metadata": {},
   "outputs": [],
   "source": [
    "covid_data.group('...')"
   ]
  },
  {
   "cell_type": "code",
   "execution_count": null,
   "metadata": {},
   "outputs": [],
   "source": [
    "#KEY\n",
    "covid_data.group('Country_Region')"
   ]
  },
  {
   "cell_type": "markdown",
   "metadata": {},
   "source": [
    "<div class=\"alert alert-info\">\n",
    "<b>Question:</b> What did you learn? \n",
    "Try searching on the Internet to find out about these iso3 codes. \n",
    "What are they?\n",
    "   </div> "
   ]
  },
  {
   "cell_type": "markdown",
   "metadata": {},
   "source": [
    "**Your answer here:**"
   ]
  },
  {
   "cell_type": "markdown",
   "metadata": {},
   "source": [
    "We are primarily interested in the COVID cases in the states. \n",
    "Select the rows that correspond to states."
   ]
  },
  {
   "cell_type": "code",
   "execution_count": null,
   "metadata": {},
   "outputs": [],
   "source": [
    "covid_us = covid_data.where('iso3','USA')\n",
    "covid_us"
   ]
  },
  {
   "cell_type": "markdown",
   "metadata": {},
   "source": [
    "Now how many rows remain?"
   ]
  },
  {
   "cell_type": "code",
   "execution_count": null,
   "metadata": {
    "scrolled": true
   },
   "outputs": [],
   "source": [
    "covid_us.num_rows"
   ]
  },
  {
   "cell_type": "markdown",
   "metadata": {},
   "source": [
    "For our purposes, we will not be using the columns: `iso3`, `Country_Region`, `Lat`, `Long_'`, `Combined_Key`\n",
    "\n",
    "Keep the column `FIPS` because it uniquely identifies a county. For example, Montana and Wyoming both have a county called \"Big Horn\". \n",
    "\n",
    "Later, we will make maps, and then the columns `Lat` and `Long_` will be useful, but until then, drop them. "
   ]
  },
  {
   "cell_type": "markdown",
   "metadata": {},
   "source": [
    "<div class=\"alert alert-info\">\n",
    "<b>Question:</b> Fill the array \"cols_to_drop\" with the labels of the columns we seek to remove from our dataset.\n",
    "   </div> "
   ]
  },
  {
   "cell_type": "code",
   "execution_count": null,
   "metadata": {},
   "outputs": [],
   "source": [
    "cols_to_drop = make_array(\"...\", \"...\", \"...\", \"...\", \"...\")\n",
    "\n",
    "covid_us = covid_us.drop(cols_to_drop)\n",
    "\n",
    "covid_us.show(10)"
   ]
  },
  {
   "cell_type": "code",
   "execution_count": null,
   "metadata": {},
   "outputs": [],
   "source": [
    "#KEY\n",
    "cols_to_drop = make_array(\"iso3\", \"Country_Region\", \"Lat\", \"Long_\", \"Combined_Key\")\n",
    "\n",
    "covid_us = covid_us.drop(cols_to_drop)\n",
    "\n",
    "covid_us"
   ]
  },
  {
   "cell_type": "markdown",
   "metadata": {},
   "source": [
    "Let's give the remaining columns simpler, more meaningful names."
   ]
  },
  {
   "cell_type": "code",
   "execution_count": null,
   "metadata": {},
   "outputs": [],
   "source": [
    "old_names = make_array('Admin2', 'Province_State', 'month')\n",
    "new_names = make_array('County', 'State', 'Date')"
   ]
  },
  {
   "cell_type": "code",
   "execution_count": null,
   "metadata": {},
   "outputs": [],
   "source": [
    "covid_us = covid_us.relabel(old_names, new_names)"
   ]
  },
  {
   "cell_type": "code",
   "execution_count": null,
   "metadata": {
    "scrolled": true
   },
   "outputs": [],
   "source": [
    "covid_us"
   ]
  },
  {
   "cell_type": "markdown",
   "metadata": {},
   "source": [
    "<div class=\"alert alert-info\">\n",
    "<b>Question:</b> It's important to evalute our data source. What do you know about Johns Hopkins University? What motivations do they have for collecting this data? What data is missing?\n",
    "   </div>"
   ]
  },
  {
   "cell_type": "markdown",
   "metadata": {},
   "source": [
    "**Your answer here:**"
   ]
  },
  {
   "cell_type": "markdown",
   "metadata": {},
   "source": [
    "One additional change we will execute is to format the date in our dataset. This will allow us to plot specific columns in our data such as `cases_new` or `fatalaties_new`, and allow us to see how these change throughout time. Simply run the cell below, which correctly formats the date in our dataset. "
   ]
  },
  {
   "cell_type": "code",
   "execution_count": null,
   "metadata": {},
   "outputs": [],
   "source": [
    "# Converting date into datetime object\n",
    "covid_us_pd = covid_us.to_df()\n",
    "date = pd.to_datetime(covid_us_pd.Date, format='%m/%y')\n",
    "covid_us['Date'] = date.dt.strftime('%m/%Y')\n",
    "covid_us"
   ]
  },
  {
   "cell_type": "markdown",
   "metadata": {},
   "source": [
    "### Cases pers 100,000 people"
   ]
  },
  {
   "cell_type": "markdown",
   "metadata": {},
   "source": [
    "There is more than one way to measure the severity of the pandemic. Rather than looking at pure counts, we may want to adjust it according to how many people are in the county. For example, a county with 6,000 people, half of whom are sick, would have 3,000 infected people. Compared to Los Angeles county, this is not alot of cases. However, it is a lot if we think about it in terms of percentages. For this reason, we also want to compare the rates. We could calculate the percentage of cases in the population:\n",
    "\n",
    "$$100 * cases/population$$\n",
    "\n",
    "\n",
    "The percentage represents the average number of cases per 100 people. When percentages are small, we often use rates per 10,000 or 100,000 people, i.e.,\n",
    "\n",
    "$$100000 * cases/population$$\n",
    "\n",
    "Let's calculate this statistic for our entire dataset by adding a new column entitled `cases_per_100k`."
   ]
  },
  {
   "cell_type": "markdown",
   "metadata": {},
   "source": [
    "As a first step, we drop the counties that don't have a value for population. If you want, you can dig deeper and see which counties these are. It's just a hand full."
   ]
  },
  {
   "cell_type": "code",
   "execution_count": null,
   "metadata": {},
   "outputs": [],
   "source": [
    "covid_us = covid_us.where('...', are....(0))\n",
    "covid_us"
   ]
  },
  {
   "cell_type": "code",
   "execution_count": null,
   "metadata": {},
   "outputs": [],
   "source": [
    "#KEY\n",
    "covid_us = covid_us.where('Population', are.not_equal_to(0))\n",
    "covid_us"
   ]
  },
  {
   "cell_type": "markdown",
   "metadata": {},
   "source": [
    "<div class=\"alert alert-info\">\n",
    "<b>Question:</b> Add a column called \"cases_per100k\" that has the number of cases in a county divided by the population of the county.\n",
    "   </div>"
   ]
  },
  {
   "cell_type": "code",
   "execution_count": null,
   "metadata": {},
   "outputs": [],
   "source": [
    "#What columns should be in the numerator or the denominator \n",
    "cases_per100k_array = 100000 * covid_us.column('...') / covid_us.column('...')\n",
    "\n",
    "#Create a new column called CASES_PER100K in our new table\n",
    "covid_us = covid_us.with_columns('...', cases_per100k_array)"
   ]
  },
  {
   "cell_type": "code",
   "execution_count": null,
   "metadata": {},
   "outputs": [],
   "source": [
    "#KEY\n",
    "\n",
    "#What columns should be in the numerator or the denominator \n",
    "cases_per100k_array = 100000 * covid_us.column('cases_new') / covid_us.column('Population')\n",
    "\n",
    "#Create a new column called CASES_PER100K in our new table\n",
    "covid_us = covid_us.with_columns('cases_per100k', cases_per100k_array)"
   ]
  },
  {
   "cell_type": "markdown",
   "metadata": {},
   "source": [
    "Now that we have added our `cases_per100k` column, we are ready to begin our Exploratory Data Analysis (EDA) using our new and improved `covid_us` table. Run the following cell to see our finalized table!"
   ]
  },
  {
   "cell_type": "code",
   "execution_count": null,
   "metadata": {},
   "outputs": [],
   "source": [
    "covid_us"
   ]
  },
  {
   "cell_type": "markdown",
   "metadata": {},
   "source": [
    "## Conducting exploratory data analysis <a id='subsection 1c'></a>"
   ]
  },
  {
   "cell_type": "markdown",
   "metadata": {},
   "source": [
    "Often when we begin our explorations, we first narrow down the data to explore. For example, we might choose a particular month to examine, or a particular state, or both. To get us started, let's narrow our exploartions to the first month, March 2020. Of course, you may choose to examine a different month.\n",
    "\n",
    "Visualizations help us to understand what the data is telling us. \n",
    "\n",
    "Also, the method of comparison is a common and powerful tool to help us understand the data. For example, we might want to compare the counties with the most confirmed cases via a bar chart. "
   ]
  },
  {
   "cell_type": "markdown",
   "metadata": {},
   "source": [
    "### Cases in March, 2020\n",
    "\n",
    "\n",
    "To explore the counties that had the highest number of cases in March 2020, we will need to first select the rows in the table that correspond to March, 2020. "
   ]
  },
  {
   "cell_type": "markdown",
   "metadata": {},
   "source": [
    "<div class=\"alert alert-info\">\n",
    "<b>Question:</b> Fill in the code below to extract entries corresponding only to March 2020. \n",
    "   </div>"
   ]
  },
  {
   "cell_type": "code",
   "execution_count": null,
   "metadata": {},
   "outputs": [],
   "source": [
    "covid_mar20 = covid_us.where('...', '...')"
   ]
  },
  {
   "cell_type": "code",
   "execution_count": null,
   "metadata": {},
   "outputs": [],
   "source": [
    "#KEY\n",
    "covid_mar20 = covid_us.where('Date', '03/2020')"
   ]
  },
  {
   "cell_type": "code",
   "execution_count": null,
   "metadata": {
    "scrolled": true
   },
   "outputs": [],
   "source": [
    "covid_mar20"
   ]
  },
  {
   "cell_type": "markdown",
   "metadata": {},
   "source": [
    "<div class=\"alert alert-info\">\n",
    "<b>Question:</b> Next, sort the dataset to show the counties with the highest number of new cases for that month.   \n",
    "    \n",
    "   </div>"
   ]
  },
  {
   "cell_type": "code",
   "execution_count": null,
   "metadata": {},
   "outputs": [],
   "source": [
    "new_cases_sorted = covid_mar20.sort('...', descending=...)\n",
    "new_cases_sorted"
   ]
  },
  {
   "cell_type": "code",
   "execution_count": null,
   "metadata": {},
   "outputs": [],
   "source": [
    "#KEY\n",
    "new_cases_sorted = covid_mar20.sort('cases_new', descending=True)\n",
    "new_cases_sorted"
   ]
  },
  {
   "cell_type": "markdown",
   "metadata": {},
   "source": [
    "<div class=\"alert alert-info\">\n",
    "<b>Question:</b> Now, cut down the table to only have the top twenty from sorted_cases above.\n",
    "   </div>"
   ]
  },
  {
   "cell_type": "code",
   "execution_count": null,
   "metadata": {},
   "outputs": [],
   "source": [
    "top_twenty = new_cases_sorted...(np.arange(20))\n",
    "top_twenty"
   ]
  },
  {
   "cell_type": "code",
   "execution_count": null,
   "metadata": {},
   "outputs": [],
   "source": [
    "#KEY\n",
    "top_twenty = new_cases_sorted.take(np.arange(20))\n",
    "top_twenty"
   ]
  },
  {
   "cell_type": "markdown",
   "metadata": {},
   "source": [
    "<div class=\"alert alert-info\">\n",
    "<b>Question:</b> Next, create a bar chart to visualize the comparison between the top_ten counties for the number of cases in March, 2020.\n",
    "   </div>"
   ]
  },
  {
   "cell_type": "code",
   "execution_count": null,
   "metadata": {},
   "outputs": [],
   "source": [
    "top_twenty...(\"...\", \"...\")"
   ]
  },
  {
   "cell_type": "code",
   "execution_count": null,
   "metadata": {},
   "outputs": [],
   "source": [
    "top_twenty.barh(\"County\", \"cases_new\")"
   ]
  },
  {
   "cell_type": "markdown",
   "metadata": {},
   "source": [
    "<div class=\"alert alert-info\">\n",
    "<b>Question:</b> Do you recognize the counties? Where are the most of these counties? Why might this be the case?\n",
    "</div>"
   ]
  },
  {
   "cell_type": "markdown",
   "metadata": {},
   "source": [
    "**Your answer here:**"
   ]
  },
  {
   "cell_type": "markdown",
   "metadata": {},
   "source": [
    "Let's find the top 20 counties that have highest number of cases per 100,000. "
   ]
  },
  {
   "cell_type": "markdown",
   "metadata": {},
   "source": [
    "<div class=\"alert alert-info\">\n",
    "<b>Question:</b>  Which 20 counties that have highest number of cases per 100,000 people?\n",
    "</div>"
   ]
  },
  {
   "cell_type": "code",
   "execution_count": null,
   "metadata": {},
   "outputs": [],
   "source": [
    "cases_per100k_sorted = covid_mar20.sort('cases_per100k', descending=True)\n",
    "cases_per100k_sorted"
   ]
  },
  {
   "cell_type": "code",
   "execution_count": null,
   "metadata": {},
   "outputs": [],
   "source": [
    "top_twenty_per100k = cases_per100k_sorted.take(np.arange(20))\n",
    "top_twenty_per100k.barh(\"County\", \"cases_per100k\")"
   ]
  },
  {
   "cell_type": "markdown",
   "metadata": {},
   "source": [
    "<div class=\"alert alert-info\">\n",
    "<b>Question:</b> What are some possible reasons for the disparities in the counties shown in these two bar plots? Hint: Think about the size of the counties.\n",
    "   </div>"
   ]
  },
  {
   "cell_type": "markdown",
   "metadata": {},
   "source": [
    "**Your answer here:**"
   ]
  },
  {
   "cell_type": "markdown",
   "metadata": {},
   "source": [
    "### Monthly changes "
   ]
  },
  {
   "cell_type": "markdown",
   "metadata": {},
   "source": [
    "These data have the number of new cases of COVID each month from March 2020 through May 2021. Another possible exploration is to see how a county's cases change in time.\n",
    "\n",
    "Let's start by exploring one county in California"
   ]
  },
  {
   "cell_type": "markdown",
   "metadata": {},
   "source": [
    "<div class=\"alert alert-info\">\n",
    "<b>Question:</b> First, return a table that only has the data for California counties. \n",
    "   </div>"
   ]
  },
  {
   "cell_type": "code",
   "execution_count": null,
   "metadata": {},
   "outputs": [],
   "source": [
    "ca_counties = covid_us.where(\"...\", \"...\")\n",
    "ca_counties"
   ]
  },
  {
   "cell_type": "code",
   "execution_count": null,
   "metadata": {},
   "outputs": [],
   "source": [
    "#KEY\n",
    "ca_counties = covid_us.where(\"State\", are.equal_to(\"California\"))\n",
    "ca_counties"
   ]
  },
  {
   "cell_type": "markdown",
   "metadata": {},
   "source": [
    "There are numerous counties, and each county appears several times, once for each month. To visualize the data, it is a good idea to restrict to just a single county."
   ]
  },
  {
   "cell_type": "markdown",
   "metadata": {},
   "source": [
    "<div class=\"alert alert-info\">\n",
    "<b>Question:</b> Pick a California county and enter its name in the blank below. Then run the cell to see the data for just that county.\n",
    "   </div>"
   ]
  },
  {
   "cell_type": "code",
   "execution_count": null,
   "metadata": {},
   "outputs": [],
   "source": [
    "selected_county = make_array(\"...\")\n",
    "\n",
    "# Table of rows of only the county you chose\n",
    "my_county = ca_counties.where(\"County\", are.contained_in(selected_county))\n",
    "my_county"
   ]
  },
  {
   "cell_type": "code",
   "execution_count": null,
   "metadata": {},
   "outputs": [],
   "source": [
    "\n",
    "selected_county = make_array(\"Los Angeles\")\n",
    "\n",
    "# Table of rows of only the county you chose\n",
    "my_county = ca_counties.where(\"County\", are.contained_in(selected_county))\n",
    "my_county"
   ]
  },
  {
   "cell_type": "markdown",
   "metadata": {},
   "source": [
    "The function `plot_by_month` has been created for this project, to draw line plots of a quantitative variable versus the months in the `Date` column. It takes two arguments:\n",
    "- an array of county names\n",
    "- the label of the column containing the variable to plot\n",
    "\n",
    "The function draws overlaid line plots of the specified variable, one plot for each county in the array.\n",
    "\n",
    "As a starting point, let the county array be `selected_county`, which has just one element: the county you chose above. Run the cell below to see the plot of new cases for that county."
   ]
  },
  {
   "cell_type": "markdown",
   "metadata": {},
   "source": [
    "<div class=\"alert alert-info\">\n",
    "<b>Question:</b> For the county you picked above, draw a plot of the number of new cases every month from March 2020 to May 2021.\n",
    "   </div>"
   ]
  },
  {
   "cell_type": "code",
   "execution_count": null,
   "metadata": {},
   "outputs": [],
   "source": [
    "plot_by_month(selected_county, ...)"
   ]
  },
  {
   "cell_type": "code",
   "execution_count": null,
   "metadata": {},
   "outputs": [],
   "source": [
    "plot_by_month(selected_county, 'cases_new')"
   ]
  },
  {
   "cell_type": "markdown",
   "metadata": {},
   "source": [
    "<div class=\"alert alert-info\">\n",
    "<b>Question:</b> Can you use your knowledge about the context to describe the peaks in the cases? \n",
    "   </div>"
   ]
  },
  {
   "cell_type": "markdown",
   "metadata": {},
   "source": [
    "**Your answer here:**"
   ]
  },
  {
   "cell_type": "markdown",
   "metadata": {},
   "source": [
    "# Using prediction and inference to draw conclusions <a id='subsection 1a'></a>"
   ]
  },
  {
   "cell_type": "markdown",
   "metadata": {},
   "source": [
    "Now that we have some experience making and reading visualizations, let's compare a few counties over time. \n",
    "\n",
    "Settle on a few counties to examine. They could all be in California, or in different states. \n",
    "\n",
    "Decide whether the comparison should be of new cases, cumulative cases, new cases per 100,000, or cumulative cases per 100,000. \n",
    "\n",
    "Remember that if you examine the variable \"cases per 100,000\" for counties outside California, you will have to first compute the values of that variable."
   ]
  },
  {
   "cell_type": "markdown",
   "metadata": {},
   "source": [
    "<div class=\"alert alert-info\">\n",
    "<b>Question:</b> Make line plots for the counties you have selected and compare them across time. Use the first cell below to identify the necessary code. After that, use as many cells as you need for your line plots.\n",
    "   </div>"
   ]
  },
  {
   "cell_type": "code",
   "execution_count": null,
   "metadata": {},
   "outputs": [],
   "source": [
    "selected_counties = make_array(\"...\", \"...\", \"...\", \"...\", \"...\")\n",
    "\n",
    "column_to_compare = '...'\n",
    "\n",
    "plot_by_month(selected_counties, column_to_compare)"
   ]
  },
  {
   "cell_type": "code",
   "execution_count": null,
   "metadata": {},
   "outputs": [],
   "source": [
    "#KEY\n",
    "selected_counties = make_array(\"Los Angeles\", \"Alameda\", \"San Bernardino\", \"Kern\", \"Queens\")\n",
    "\n",
    "column_to_compare = 'cases_new'\n",
    "\n",
    "plot_by_month(selected_counties, column_to_compare)"
   ]
  },
  {
   "cell_type": "code",
   "execution_count": null,
   "metadata": {},
   "outputs": [],
   "source": [
    "column_to_compare = 'cases_per100k'\n",
    "\n",
    "plot_by_month(selected_counties, column_to_compare);"
   ]
  },
  {
   "cell_type": "markdown",
   "metadata": {},
   "source": [
    "<div class=\"alert alert-info\">\n",
    "<b>Question:</b> After seeing these visualizations, tell us something interesting about this data. Tell us what you learned about the counties that you chose. What outside information about these counties do you think can explain what you see?\n",
    "   </div>"
   ]
  },
  {
   "cell_type": "markdown",
   "metadata": {},
   "source": [
    "**Your answer here:**"
   ]
  }
 ],
 "metadata": {
  "kernelspec": {
   "display_name": "Python 3",
   "language": "python",
   "name": "python3"
  },
  "language_info": {
   "codemirror_mode": {
    "name": "ipython",
    "version": 3
   },
   "file_extension": ".py",
   "mimetype": "text/x-python",
   "name": "python",
   "nbconvert_exporter": "python",
   "pygments_lexer": "ipython3",
   "version": "3.7.4"
  }
 },
 "nbformat": 4,
 "nbformat_minor": 4
}
