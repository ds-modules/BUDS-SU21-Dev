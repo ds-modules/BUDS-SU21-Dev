{
 "cells": [
  {
   "cell_type": "code",
   "execution_count": 16,
   "metadata": {},
   "outputs": [],
   "source": [
    "import pandas as pd\n",
    "import numpy as np\n",
    "from datascience import *\n",
    "from datascience import Table\n",
    "import matplotlib\n",
    "from ipywidgets import interact, Dropdown\n",
    "\n",
    "\n",
    "%matplotlib inline\n",
    "import matplotlib.pyplot as plt\n",
    "import numpy as np\n",
    "plt.style.use('fivethirtyeight')"
   ]
  },
  {
   "cell_type": "markdown",
   "metadata": {},
   "source": [
    "# Project 1: Covid-19"
   ]
  },
  {
   "cell_type": "markdown",
   "metadata": {},
   "source": [
    "*TODO: table of contents*"
   ]
  },
  {
   "cell_type": "markdown",
   "metadata": {},
   "source": [
    "## Table of Contents\n",
    "<a href='#section 0'>Background Knowledge: Spread of Disease</a>\n",
    "\n",
    "1.  <a href='#section 1'> The Data Science Life Cycle</a>\n",
    "\n",
    "    a. <a href='#subsection 1a'>Formulating a question or problem</a> \n",
    "\n",
    "    b. <a href='#subsection 1b'>Acquiring and cleaning data</a>\n",
    "\n",
    "    c. <a href='#subsection 1c'>Conducting exploratory data analysis</a>\n",
    "\n",
    "    d. <a href='#subsection 1d'>Using prediction and inference to draw conclusions</a>\n",
    "<br><br>"
   ]
  },
  {
   "cell_type": "markdown",
   "metadata": {},
   "source": [
    "# The Data Science Life Cycle <a id='section 1'></a>"
   ]
  },
  {
   "cell_type": "markdown",
   "metadata": {},
   "source": [
    "*TODO:* Update resources. Update formulating a question or problem"
   ]
  },
  {
   "cell_type": "markdown",
   "metadata": {},
   "source": [
    "## Formulating a question or problem <a id='subsection 1a'></a>\n",
    "It is important to ask questions that will be informative and that will avoid misleading results. There are many different questions we could ask about Covid-19, for example, many researchers use data to predict the outcomes based on intervention techniques such as social distancing."
   ]
  },
  {
   "cell_type": "markdown",
   "metadata": {},
   "source": [
    "<div class=\"alert alert-warning\">\n",
    "<b>Question:</b> Take some time to formulate questions you have about this pandemic and the data you would need to answer the questions. In addition, add the link of an article you found interesting with a description an why it interested you. \n",
    "   </div>\n",
    "   \n",
    "You can find [resources](https://docs.google.com/document/d/1yGSQkqlkroF6Efj3mHvP4sbQXyZM9ddO43YV1FQ75uQ/edit?usp=sharing) here to choose from."
   ]
  },
  {
   "cell_type": "markdown",
   "metadata": {},
   "source": [
    "Your questions: *here*\n",
    "\n",
    "\n",
    "Data you would need: *here*\n",
    "\n",
    "\n",
    "Article: *link*"
   ]
  },
  {
   "cell_type": "markdown",
   "metadata": {},
   "source": [
    "*TODO:* Update data background."
   ]
  },
  {
   "cell_type": "markdown",
   "metadata": {},
   "source": [
    "## Acquiring and cleaning data <a id='subsection 1b'></a>\n",
    "\n",
    "We'll be looking at the COVID-19 Data Repository from Johns Hopkins University. You can find the raw data [here](https://github.com/CSSEGISandData/COVID-19/tree/master/csse_covid_19_data/csse_covid_19_time_series). \n",
    "\n",
    "We've cleaned up the datasets a bit, but we will be investigating the number of cases, new cases, deaths, and new deaths for counties in states accross the US from March 2020 - May 2021.\n",
    "\n",
    "The following table, `covid_statistics`, contains the several statistics collected at the start of each month for every county in the United States."
   ]
  },
  {
   "cell_type": "markdown",
   "metadata": {},
   "source": [
    "Columns dropped: `UID`, `iso2`, `iso3`, `code3`, `FIPS`, `Country_Region`, `Lat`, `Long_'`, `Combined_Key`"
   ]
  },
  {
   "cell_type": "code",
   "execution_count": 29,
   "metadata": {},
   "outputs": [
    {
     "data": {
      "text/html": [
       "<table border=\"1\" class=\"dataframe\">\n",
       "    <thead>\n",
       "        <tr>\n",
       "            <th>Admin2</th> <th>Province_State</th> <th>month</th> <th>cases</th> <th>cases_new</th> <th>Population</th> <th>deaths</th> <th>deaths_new</th>\n",
       "        </tr>\n",
       "    </thead>\n",
       "    <tbody>\n",
       "        <tr>\n",
       "            <td>Autauga </td> <td>Alabama       </td> <td>3.31.20</td> <td>8    </td> <td>8        </td> <td>55869     </td> <td>0     </td> <td>0         </td>\n",
       "        </tr>\n",
       "        <tr>\n",
       "            <td>Baldwin </td> <td>Alabama       </td> <td>3.31.20</td> <td>23   </td> <td>23       </td> <td>223234    </td> <td>1     </td> <td>1         </td>\n",
       "        </tr>\n",
       "        <tr>\n",
       "            <td>Barbour </td> <td>Alabama       </td> <td>3.31.20</td> <td>0    </td> <td>0        </td> <td>24686     </td> <td>0     </td> <td>0         </td>\n",
       "        </tr>\n",
       "        <tr>\n",
       "            <td>Bibb    </td> <td>Alabama       </td> <td>3.31.20</td> <td>3    </td> <td>3        </td> <td>22394     </td> <td>0     </td> <td>0         </td>\n",
       "        </tr>\n",
       "        <tr>\n",
       "            <td>Blount  </td> <td>Alabama       </td> <td>3.31.20</td> <td>7    </td> <td>7        </td> <td>57826     </td> <td>0     </td> <td>0         </td>\n",
       "        </tr>\n",
       "        <tr>\n",
       "            <td>Bullock </td> <td>Alabama       </td> <td>3.31.20</td> <td>2    </td> <td>2        </td> <td>10101     </td> <td>0     </td> <td>0         </td>\n",
       "        </tr>\n",
       "        <tr>\n",
       "            <td>Butler  </td> <td>Alabama       </td> <td>3.31.20</td> <td>1    </td> <td>1        </td> <td>19448     </td> <td>0     </td> <td>0         </td>\n",
       "        </tr>\n",
       "        <tr>\n",
       "            <td>Calhoun </td> <td>Alabama       </td> <td>3.31.20</td> <td>10   </td> <td>10       </td> <td>113605    </td> <td>0     </td> <td>0         </td>\n",
       "        </tr>\n",
       "        <tr>\n",
       "            <td>Chambers</td> <td>Alabama       </td> <td>3.31.20</td> <td>40   </td> <td>40       </td> <td>33254     </td> <td>4     </td> <td>4         </td>\n",
       "        </tr>\n",
       "        <tr>\n",
       "            <td>Cherokee</td> <td>Alabama       </td> <td>3.31.20</td> <td>1    </td> <td>1        </td> <td>26196     </td> <td>0     </td> <td>0         </td>\n",
       "        </tr>\n",
       "    </tbody>\n",
       "</table>\n",
       "<p>... (48560 rows omitted)</p>"
      ],
      "text/plain": [
       "Admin2   | Province_State | month   | cases | cases_new | Population | deaths | deaths_new\n",
       "Autauga  | Alabama        | 3.31.20 | 8     | 8         | 55869      | 0      | 0\n",
       "Baldwin  | Alabama        | 3.31.20 | 23    | 23        | 223234     | 1      | 1\n",
       "Barbour  | Alabama        | 3.31.20 | 0     | 0         | 24686      | 0      | 0\n",
       "Bibb     | Alabama        | 3.31.20 | 3     | 3         | 22394      | 0      | 0\n",
       "Blount   | Alabama        | 3.31.20 | 7     | 7         | 57826      | 0      | 0\n",
       "Bullock  | Alabama        | 3.31.20 | 2     | 2         | 10101      | 0      | 0\n",
       "Butler   | Alabama        | 3.31.20 | 1     | 1         | 19448      | 0      | 0\n",
       "Calhoun  | Alabama        | 3.31.20 | 10    | 10        | 113605     | 0      | 0\n",
       "Chambers | Alabama        | 3.31.20 | 40    | 40        | 33254      | 4      | 4\n",
       "Cherokee | Alabama        | 3.31.20 | 1     | 1         | 26196      | 0      | 0\n",
       "... (48560 rows omitted)"
      ]
     },
     "execution_count": 29,
     "metadata": {},
     "output_type": "execute_result"
    }
   ],
   "source": [
    "covid_statistics = Table().read_table(\"data/covid_timeseries.csv\").drop(0, 1, 2, 3, 4, 7, \n",
    "                                                                        'Lat', 'Long_', 'Combined_Key')\n",
    "covid_statistics"
   ]
  },
  {
   "cell_type": "code",
   "execution_count": 30,
   "metadata": {},
   "outputs": [
    {
     "data": {
      "text/html": [
       "<table border=\"1\" class=\"dataframe\">\n",
       "    <thead>\n",
       "        <tr>\n",
       "            <th>County</th> <th>State</th> <th>Date</th> <th>Cases</th> <th>New Cases</th> <th>Population</th> <th>Deaths</th> <th>New Deaths</th>\n",
       "        </tr>\n",
       "    </thead>\n",
       "    <tbody>\n",
       "        <tr>\n",
       "            <td>Autauga </td> <td>Alabama</td> <td>3.31.20</td> <td>8    </td> <td>8        </td> <td>55869     </td> <td>0     </td> <td>0         </td>\n",
       "        </tr>\n",
       "        <tr>\n",
       "            <td>Baldwin </td> <td>Alabama</td> <td>3.31.20</td> <td>23   </td> <td>23       </td> <td>223234    </td> <td>1     </td> <td>1         </td>\n",
       "        </tr>\n",
       "        <tr>\n",
       "            <td>Barbour </td> <td>Alabama</td> <td>3.31.20</td> <td>0    </td> <td>0        </td> <td>24686     </td> <td>0     </td> <td>0         </td>\n",
       "        </tr>\n",
       "        <tr>\n",
       "            <td>Bibb    </td> <td>Alabama</td> <td>3.31.20</td> <td>3    </td> <td>3        </td> <td>22394     </td> <td>0     </td> <td>0         </td>\n",
       "        </tr>\n",
       "        <tr>\n",
       "            <td>Blount  </td> <td>Alabama</td> <td>3.31.20</td> <td>7    </td> <td>7        </td> <td>57826     </td> <td>0     </td> <td>0         </td>\n",
       "        </tr>\n",
       "        <tr>\n",
       "            <td>Bullock </td> <td>Alabama</td> <td>3.31.20</td> <td>2    </td> <td>2        </td> <td>10101     </td> <td>0     </td> <td>0         </td>\n",
       "        </tr>\n",
       "        <tr>\n",
       "            <td>Butler  </td> <td>Alabama</td> <td>3.31.20</td> <td>1    </td> <td>1        </td> <td>19448     </td> <td>0     </td> <td>0         </td>\n",
       "        </tr>\n",
       "        <tr>\n",
       "            <td>Calhoun </td> <td>Alabama</td> <td>3.31.20</td> <td>10   </td> <td>10       </td> <td>113605    </td> <td>0     </td> <td>0         </td>\n",
       "        </tr>\n",
       "        <tr>\n",
       "            <td>Chambers</td> <td>Alabama</td> <td>3.31.20</td> <td>40   </td> <td>40       </td> <td>33254     </td> <td>4     </td> <td>4         </td>\n",
       "        </tr>\n",
       "        <tr>\n",
       "            <td>Cherokee</td> <td>Alabama</td> <td>3.31.20</td> <td>1    </td> <td>1        </td> <td>26196     </td> <td>0     </td> <td>0         </td>\n",
       "        </tr>\n",
       "    </tbody>\n",
       "</table>\n",
       "<p>... (48560 rows omitted)</p>"
      ],
      "text/plain": [
       "County   | State   | Date    | Cases | New Cases | Population | Deaths | New Deaths\n",
       "Autauga  | Alabama | 3.31.20 | 8     | 8         | 55869      | 0      | 0\n",
       "Baldwin  | Alabama | 3.31.20 | 23    | 23        | 223234     | 1      | 1\n",
       "Barbour  | Alabama | 3.31.20 | 0     | 0         | 24686      | 0      | 0\n",
       "Bibb     | Alabama | 3.31.20 | 3     | 3         | 22394      | 0      | 0\n",
       "Blount   | Alabama | 3.31.20 | 7     | 7         | 57826      | 0      | 0\n",
       "Bullock  | Alabama | 3.31.20 | 2     | 2         | 10101      | 0      | 0\n",
       "Butler   | Alabama | 3.31.20 | 1     | 1         | 19448      | 0      | 0\n",
       "Calhoun  | Alabama | 3.31.20 | 10    | 10        | 113605     | 0      | 0\n",
       "Chambers | Alabama | 3.31.20 | 40    | 40        | 33254      | 4      | 4\n",
       "Cherokee | Alabama | 3.31.20 | 1     | 1         | 26196      | 0      | 0\n",
       "... (48560 rows omitted)"
      ]
     },
     "execution_count": 30,
     "metadata": {},
     "output_type": "execute_result"
    }
   ],
   "source": [
    "#Here, we are relabeling the columns to have more accurate names\n",
    "covid_statistics = covid_statistics.relabel(make_array('Admin2', 'Province_State', 'month', 'cases', \n",
    "                                                      'cases_new', 'deaths', 'deaths_new'),\n",
    "                                            make_array('County', 'State', 'Date', 'Cases', \n",
    "                                                      'New Cases', 'Deaths', 'New Deaths'))\n",
    "covid_statistics"
   ]
  },
  {
   "cell_type": "markdown",
   "metadata": {},
   "source": [
    "<div class=\"alert alert-warning\">\n",
    "<b>Question:</b> It's important to evalute our data source. What do you know about Johns Hopkins University? What motivations do they have for collecting this data? What data is missing?\n",
    "   </div>"
   ]
  },
  {
   "cell_type": "markdown",
   "metadata": {},
   "source": [
    "*Insert answer*"
   ]
  },
  {
   "cell_type": "markdown",
   "metadata": {},
   "source": [
    "<div class=\"alert alert-warning\">\n",
    "<b>Question:</b> We want to learn more about the dataset. First, how many total rows are in this table? \n",
    "    \n",
    "   </div>"
   ]
  },
  {
   "cell_type": "code",
   "execution_count": 43,
   "metadata": {},
   "outputs": [],
   "source": [
    "total_rows = ..."
   ]
  },
  {
   "cell_type": "markdown",
   "metadata": {},
   "source": [
    "*Insert answer here*"
   ]
  },
  {
   "cell_type": "markdown",
   "metadata": {},
   "source": [
    "<div class=\"alert alert-warning\">\n",
    "<b>Question:</b> What does each row represent?\n",
    "   </div>    "
   ]
  },
  {
   "cell_type": "markdown",
   "metadata": {},
   "source": [
    "*Insert answer here*"
   ]
  },
  {
   "cell_type": "markdown",
   "metadata": {},
   "source": [
    "## Conducting exploratory data analysis <a id='subsection 1c'></a>"
   ]
  },
  {
   "cell_type": "markdown",
   "metadata": {},
   "source": [
    "Visualizations help us to understand what the dataset is telling us. Compare the county with the most confirmed cases on April 1st with the next 9 most confirmed cases in a bar chart. "
   ]
  },
  {
   "cell_type": "markdown",
   "metadata": {},
   "source": [
    "### Part 1"
   ]
  },
  {
   "cell_type": "markdown",
   "metadata": {},
   "source": [
    "<div class=\"alert alert-warning\">\n",
    "<b>Question:</b> First, sort the dataset to show the counties with the highest number of new cases for a given month.   \n",
    "    \n",
    "   </div>"
   ]
  },
  {
   "cell_type": "code",
   "execution_count": null,
   "metadata": {},
   "outputs": [],
   "source": [
    "new_cases_sorted = covid_statistics.sort('...', descending=...)\n",
    "new_cases_sorted"
   ]
  },
  {
   "cell_type": "code",
   "execution_count": 32,
   "metadata": {},
   "outputs": [
    {
     "data": {
      "text/html": [
       "<table border=\"1\" class=\"dataframe\">\n",
       "    <thead>\n",
       "        <tr>\n",
       "            <th>County</th> <th>State</th> <th>Date</th> <th>Cases</th> <th>New Cases</th> <th>Population</th> <th>Deaths</th> <th>New Deaths</th>\n",
       "        </tr>\n",
       "    </thead>\n",
       "    <tbody>\n",
       "        <tr>\n",
       "            <td>Los Angeles   </td> <td>California</td> <td>12.31.20</td> <td>771519 </td> <td>370071   </td> <td>10039107  </td> <td>10359 </td> <td>2703      </td>\n",
       "        </tr>\n",
       "        <tr>\n",
       "            <td>Los Angeles   </td> <td>California</td> <td>1.31.21 </td> <td>1116948</td> <td>345429   </td> <td>10039107  </td> <td>16770 </td> <td>6411      </td>\n",
       "        </tr>\n",
       "        <tr>\n",
       "            <td>Maricopa      </td> <td>Arizona   </td> <td>1.31.21 </td> <td>472760 </td> <td>153933   </td> <td>4485414   </td> <td>7462  </td> <td>2352      </td>\n",
       "        </tr>\n",
       "        <tr>\n",
       "            <td>Cook          </td> <td>Illinois  </td> <td>11.30.20</td> <td>306369 </td> <td>116709   </td> <td>5150233   </td> <td>6436  </td> <td>951       </td>\n",
       "        </tr>\n",
       "        <tr>\n",
       "            <td>Maricopa      </td> <td>Arizona   </td> <td>12.31.20</td> <td>318827 </td> <td>113169   </td> <td>4485414   </td> <td>5110  </td> <td>1128      </td>\n",
       "        </tr>\n",
       "        <tr>\n",
       "            <td>San Bernardino</td> <td>California</td> <td>12.31.20</td> <td>194377 </td> <td>100706   </td> <td>2180085   </td> <td>1591  </td> <td>368       </td>\n",
       "        </tr>\n",
       "        <tr>\n",
       "            <td>Orange        </td> <td>California</td> <td>12.31.20</td> <td>182684 </td> <td>94732    </td> <td>3175692   </td> <td>1875  </td> <td>298       </td>\n",
       "        </tr>\n",
       "        <tr>\n",
       "            <td>Los Angeles   </td> <td>California</td> <td>11.30.20</td> <td>401448 </td> <td>93830    </td> <td>10039107  </td> <td>7656  </td> <td>585       </td>\n",
       "        </tr>\n",
       "        <tr>\n",
       "            <td>Riverside     </td> <td>California</td> <td>12.31.20</td> <td>180553 </td> <td>93170    </td> <td>2470546   </td> <td>1985  </td> <td>543       </td>\n",
       "        </tr>\n",
       "        <tr>\n",
       "            <td>Riverside     </td> <td>California</td> <td>1.31.21 </td> <td>271910 </td> <td>91357    </td> <td>2470546   </td> <td>3091  </td> <td>1106      </td>\n",
       "        </tr>\n",
       "    </tbody>\n",
       "</table>\n",
       "<p>... (48560 rows omitted)</p>"
      ],
      "text/plain": [
       "County         | State      | Date     | Cases   | New Cases | Population | Deaths | New Deaths\n",
       "Los Angeles    | California | 12.31.20 | 771519  | 370071    | 10039107   | 10359  | 2703\n",
       "Los Angeles    | California | 1.31.21  | 1116948 | 345429    | 10039107   | 16770  | 6411\n",
       "Maricopa       | Arizona    | 1.31.21  | 472760  | 153933    | 4485414    | 7462   | 2352\n",
       "Cook           | Illinois   | 11.30.20 | 306369  | 116709    | 5150233    | 6436   | 951\n",
       "Maricopa       | Arizona    | 12.31.20 | 318827  | 113169    | 4485414    | 5110   | 1128\n",
       "San Bernardino | California | 12.31.20 | 194377  | 100706    | 2180085    | 1591   | 368\n",
       "Orange         | California | 12.31.20 | 182684  | 94732     | 3175692    | 1875   | 298\n",
       "Los Angeles    | California | 11.30.20 | 401448  | 93830     | 10039107   | 7656   | 585\n",
       "Riverside      | California | 12.31.20 | 180553  | 93170     | 2470546    | 1985   | 543\n",
       "Riverside      | California | 1.31.21  | 271910  | 91357     | 2470546    | 3091   | 1106\n",
       "... (48560 rows omitted)"
      ]
     },
     "execution_count": 32,
     "metadata": {},
     "output_type": "execute_result"
    }
   ],
   "source": [
    "#KEY\n",
    "new_cases_sorted = covid_statistics.sort('New Cases', descending=True)\n",
    "new_cases_sorted"
   ]
  },
  {
   "cell_type": "markdown",
   "metadata": {},
   "source": [
    "<div class=\"alert alert-warning\">\n",
    "<b>Question:</b> Now, cut down the table to only have the top twenty from sorted_cases above.\n",
    "   </div>"
   ]
  },
  {
   "cell_type": "code",
   "execution_count": 6,
   "metadata": {},
   "outputs": [],
   "source": [
    "top_twenty = new_cases_sorted...(np.arange(20))\n",
    "top_twenty"
   ]
  },
  {
   "cell_type": "code",
   "execution_count": 33,
   "metadata": {},
   "outputs": [
    {
     "data": {
      "text/html": [
       "<table border=\"1\" class=\"dataframe\">\n",
       "    <thead>\n",
       "        <tr>\n",
       "            <th>County</th> <th>State</th> <th>Date</th> <th>Cases</th> <th>New Cases</th> <th>Population</th> <th>Deaths</th> <th>New Deaths</th>\n",
       "        </tr>\n",
       "    </thead>\n",
       "    <tbody>\n",
       "        <tr>\n",
       "            <td>Los Angeles   </td> <td>California</td> <td>12.31.20</td> <td>771519 </td> <td>370071   </td> <td>10039107  </td> <td>10359 </td> <td>2703      </td>\n",
       "        </tr>\n",
       "        <tr>\n",
       "            <td>Los Angeles   </td> <td>California</td> <td>1.31.21 </td> <td>1116948</td> <td>345429   </td> <td>10039107  </td> <td>16770 </td> <td>6411      </td>\n",
       "        </tr>\n",
       "        <tr>\n",
       "            <td>Maricopa      </td> <td>Arizona   </td> <td>1.31.21 </td> <td>472760 </td> <td>153933   </td> <td>4485414   </td> <td>7462  </td> <td>2352      </td>\n",
       "        </tr>\n",
       "        <tr>\n",
       "            <td>Cook          </td> <td>Illinois  </td> <td>11.30.20</td> <td>306369 </td> <td>116709   </td> <td>5150233   </td> <td>6436  </td> <td>951       </td>\n",
       "        </tr>\n",
       "        <tr>\n",
       "            <td>Maricopa      </td> <td>Arizona   </td> <td>12.31.20</td> <td>318827 </td> <td>113169   </td> <td>4485414   </td> <td>5110  </td> <td>1128      </td>\n",
       "        </tr>\n",
       "        <tr>\n",
       "            <td>San Bernardino</td> <td>California</td> <td>12.31.20</td> <td>194377 </td> <td>100706   </td> <td>2180085   </td> <td>1591  </td> <td>368       </td>\n",
       "        </tr>\n",
       "        <tr>\n",
       "            <td>Orange        </td> <td>California</td> <td>12.31.20</td> <td>182684 </td> <td>94732    </td> <td>3175692   </td> <td>1875  </td> <td>298       </td>\n",
       "        </tr>\n",
       "        <tr>\n",
       "            <td>Los Angeles   </td> <td>California</td> <td>11.30.20</td> <td>401448 </td> <td>93830    </td> <td>10039107  </td> <td>7656  </td> <td>585       </td>\n",
       "        </tr>\n",
       "        <tr>\n",
       "            <td>Riverside     </td> <td>California</td> <td>12.31.20</td> <td>180553 </td> <td>93170    </td> <td>2470546   </td> <td>1985  </td> <td>543       </td>\n",
       "        </tr>\n",
       "        <tr>\n",
       "            <td>Riverside     </td> <td>California</td> <td>1.31.21 </td> <td>271910 </td> <td>91357    </td> <td>2470546   </td> <td>3091  </td> <td>1106      </td>\n",
       "        </tr>\n",
       "    </tbody>\n",
       "</table>\n",
       "<p>... (10 rows omitted)</p>"
      ],
      "text/plain": [
       "County         | State      | Date     | Cases   | New Cases | Population | Deaths | New Deaths\n",
       "Los Angeles    | California | 12.31.20 | 771519  | 370071    | 10039107   | 10359  | 2703\n",
       "Los Angeles    | California | 1.31.21  | 1116948 | 345429    | 10039107   | 16770  | 6411\n",
       "Maricopa       | Arizona    | 1.31.21  | 472760  | 153933    | 4485414    | 7462   | 2352\n",
       "Cook           | Illinois   | 11.30.20 | 306369  | 116709    | 5150233    | 6436   | 951\n",
       "Maricopa       | Arizona    | 12.31.20 | 318827  | 113169    | 4485414    | 5110   | 1128\n",
       "San Bernardino | California | 12.31.20 | 194377  | 100706    | 2180085    | 1591   | 368\n",
       "Orange         | California | 12.31.20 | 182684  | 94732     | 3175692    | 1875   | 298\n",
       "Los Angeles    | California | 11.30.20 | 401448  | 93830     | 10039107   | 7656   | 585\n",
       "Riverside      | California | 12.31.20 | 180553  | 93170     | 2470546    | 1985   | 543\n",
       "Riverside      | California | 1.31.21  | 271910  | 91357     | 2470546    | 3091   | 1106\n",
       "... (10 rows omitted)"
      ]
     },
     "execution_count": 33,
     "metadata": {},
     "output_type": "execute_result"
    }
   ],
   "source": [
    "#KEY\n",
    "top_twenty = new_cases_sorted.take(np.arange(20))\n",
    "top_twenty"
   ]
  },
  {
   "cell_type": "markdown",
   "metadata": {},
   "source": [
    "<div class=\"alert alert-warning\">\n",
    "<b>Question:</b> Next, create a bar chart to visualize the comparison between the top_ten counties for the number of cases on April 1st.\n",
    "   </div>"
   ]
  },
  {
   "cell_type": "code",
   "execution_count": null,
   "metadata": {},
   "outputs": [],
   "source": [
    "top_twenty...(\"...\", \"...\")"
   ]
  },
  {
   "cell_type": "code",
   "execution_count": 34,
   "metadata": {},
   "outputs": [
    {
     "data": {
      "image/png": "[encoded data removed]",
      "text/plain": [
       "<Figure size 432x720 with 1 Axes>"
      ]
     },
     "metadata": {},
     "output_type": "display_data"
    }
   ],
   "source": [
    "top_twenty.barh(\"County\", \"New Cases\")"
   ]
  },
  {
   "cell_type": "markdown",
   "metadata": {},
   "source": [
    "<div class=\"alert alert-warning\">\n",
    "<b>Question:</b> Let's look at the counties in California. First, return a table that only has the California counties. Then, select the counties from the table you want to compare to each other. \n",
    "   </div>"
   ]
  },
  {
   "cell_type": "code",
   "execution_count": 11,
   "metadata": {},
   "outputs": [],
   "source": [
    "ca_cases = covid_statistics.where(\"...\", are.equal_to(\"...\"))\n",
    "ca_cases"
   ]
  },
  {
   "cell_type": "code",
   "execution_count": 35,
   "metadata": {},
   "outputs": [
    {
     "data": {
      "text/html": [
       "<table border=\"1\" class=\"dataframe\">\n",
       "    <thead>\n",
       "        <tr>\n",
       "            <th>County</th> <th>State</th> <th>Date</th> <th>Cases</th> <th>New Cases</th> <th>Population</th> <th>Deaths</th> <th>New Deaths</th>\n",
       "        </tr>\n",
       "    </thead>\n",
       "    <tbody>\n",
       "        <tr>\n",
       "            <td>Alameda     </td> <td>California</td> <td>3.31.20</td> <td>313  </td> <td>313      </td> <td>1671329   </td> <td>7     </td> <td>7         </td>\n",
       "        </tr>\n",
       "        <tr>\n",
       "            <td>Alpine      </td> <td>California</td> <td>3.31.20</td> <td>0    </td> <td>0        </td> <td>1129      </td> <td>0     </td> <td>0         </td>\n",
       "        </tr>\n",
       "        <tr>\n",
       "            <td>Amador      </td> <td>California</td> <td>3.31.20</td> <td>2    </td> <td>2        </td> <td>39752     </td> <td>0     </td> <td>0         </td>\n",
       "        </tr>\n",
       "        <tr>\n",
       "            <td>Butte       </td> <td>California</td> <td>3.31.20</td> <td>8    </td> <td>8        </td> <td>219186    </td> <td>0     </td> <td>0         </td>\n",
       "        </tr>\n",
       "        <tr>\n",
       "            <td>Calaveras   </td> <td>California</td> <td>3.31.20</td> <td>3    </td> <td>3        </td> <td>45905     </td> <td>0     </td> <td>0         </td>\n",
       "        </tr>\n",
       "        <tr>\n",
       "            <td>Colusa      </td> <td>California</td> <td>3.31.20</td> <td>1    </td> <td>1        </td> <td>21547     </td> <td>0     </td> <td>0         </td>\n",
       "        </tr>\n",
       "        <tr>\n",
       "            <td>Contra Costa</td> <td>California</td> <td>3.31.20</td> <td>212  </td> <td>212      </td> <td>1153526   </td> <td>3     </td> <td>3         </td>\n",
       "        </tr>\n",
       "        <tr>\n",
       "            <td>Del Norte   </td> <td>California</td> <td>3.31.20</td> <td>0    </td> <td>0        </td> <td>27812     </td> <td>0     </td> <td>0         </td>\n",
       "        </tr>\n",
       "        <tr>\n",
       "            <td>El Dorado   </td> <td>California</td> <td>3.31.20</td> <td>15   </td> <td>15       </td> <td>192843    </td> <td>0     </td> <td>0         </td>\n",
       "        </tr>\n",
       "        <tr>\n",
       "            <td>Fresno      </td> <td>California</td> <td>3.31.20</td> <td>53   </td> <td>53       </td> <td>999101    </td> <td>0     </td> <td>0         </td>\n",
       "        </tr>\n",
       "    </tbody>\n",
       "</table>\n",
       "<p>... (860 rows omitted)</p>"
      ],
      "text/plain": [
       "County       | State      | Date    | Cases | New Cases | Population | Deaths | New Deaths\n",
       "Alameda      | California | 3.31.20 | 313   | 313       | 1671329    | 7      | 7\n",
       "Alpine       | California | 3.31.20 | 0     | 0         | 1129       | 0      | 0\n",
       "Amador       | California | 3.31.20 | 2     | 2         | 39752      | 0      | 0\n",
       "Butte        | California | 3.31.20 | 8     | 8         | 219186     | 0      | 0\n",
       "Calaveras    | California | 3.31.20 | 3     | 3         | 45905      | 0      | 0\n",
       "Colusa       | California | 3.31.20 | 1     | 1         | 21547      | 0      | 0\n",
       "Contra Costa | California | 3.31.20 | 212   | 212       | 1153526    | 3      | 3\n",
       "Del Norte    | California | 3.31.20 | 0     | 0         | 27812      | 0      | 0\n",
       "El Dorado    | California | 3.31.20 | 15    | 15        | 192843     | 0      | 0\n",
       "Fresno       | California | 3.31.20 | 53    | 53        | 999101     | 0      | 0\n",
       "... (860 rows omitted)"
      ]
     },
     "execution_count": 35,
     "metadata": {},
     "output_type": "execute_result"
    }
   ],
   "source": [
    "#KEY\n",
    "ca_cases = covid_statistics.where(\"State\", are.equal_to(\"California\"))\n",
    "ca_cases"
   ]
  },
  {
   "cell_type": "code",
   "execution_count": 44,
   "metadata": {},
   "outputs": [
    {
     "data": {
      "text/html": [
       "<table border=\"1\" class=\"dataframe\">\n",
       "    <thead>\n",
       "        <tr>\n",
       "            <th>County</th> <th>State</th> <th>Date</th> <th>Cases</th> <th>New Cases</th> <th>Population</th> <th>Deaths</th> <th>New Deaths</th>\n",
       "        </tr>\n",
       "    </thead>\n",
       "    <tbody>\n",
       "        <tr>\n",
       "            <td>Alameda    </td> <td>California</td> <td>3.31.20</td> <td>313  </td> <td>313      </td> <td>1671329   </td> <td>7     </td> <td>7         </td>\n",
       "        </tr>\n",
       "        <tr>\n",
       "            <td>Los Angeles</td> <td>California</td> <td>3.31.20</td> <td>3019 </td> <td>3018     </td> <td>10039107  </td> <td>54    </td> <td>54        </td>\n",
       "        </tr>\n",
       "        <tr>\n",
       "            <td>Orange     </td> <td>California</td> <td>3.31.20</td> <td>502  </td> <td>501      </td> <td>3175692   </td> <td>7     </td> <td>7         </td>\n",
       "        </tr>\n",
       "        <tr>\n",
       "            <td>Alameda    </td> <td>California</td> <td>4.30.20</td> <td>1603 </td> <td>1290     </td> <td>1671329   </td> <td>60    </td> <td>53        </td>\n",
       "        </tr>\n",
       "        <tr>\n",
       "            <td>Los Angeles</td> <td>California</td> <td>4.30.20</td> <td>23220</td> <td>20201    </td> <td>10039107  </td> <td>1111  </td> <td>1057      </td>\n",
       "        </tr>\n",
       "        <tr>\n",
       "            <td>Orange     </td> <td>California</td> <td>4.30.20</td> <td>2940 </td> <td>2438     </td> <td>3175692   </td> <td>45    </td> <td>38        </td>\n",
       "        </tr>\n",
       "        <tr>\n",
       "            <td>Alameda    </td> <td>California</td> <td>5.31.20</td> <td>3390 </td> <td>1787     </td> <td>1671329   </td> <td>98    </td> <td>38        </td>\n",
       "        </tr>\n",
       "        <tr>\n",
       "            <td>Los Angeles</td> <td>California</td> <td>5.31.20</td> <td>55001</td> <td>31781    </td> <td>10039107  </td> <td>2362  </td> <td>1251      </td>\n",
       "        </tr>\n",
       "        <tr>\n",
       "            <td>Orange     </td> <td>California</td> <td>5.31.20</td> <td>7229 </td> <td>4289     </td> <td>3175692   </td> <td>147   </td> <td>102       </td>\n",
       "        </tr>\n",
       "        <tr>\n",
       "            <td>Alameda    </td> <td>California</td> <td>6.30.20</td> <td>5964 </td> <td>2574     </td> <td>1671329   </td> <td>137   </td> <td>39        </td>\n",
       "        </tr>\n",
       "    </tbody>\n",
       "</table>\n",
       "<p>... (35 rows omitted)</p>"
      ],
      "text/plain": [
       "County      | State      | Date    | Cases | New Cases | Population | Deaths | New Deaths\n",
       "Alameda     | California | 3.31.20 | 313   | 313       | 1671329    | 7      | 7\n",
       "Los Angeles | California | 3.31.20 | 3019  | 3018      | 10039107   | 54     | 54\n",
       "Orange      | California | 3.31.20 | 502   | 501       | 3175692    | 7      | 7\n",
       "Alameda     | California | 4.30.20 | 1603  | 1290      | 1671329    | 60     | 53\n",
       "Los Angeles | California | 4.30.20 | 23220 | 20201     | 10039107   | 1111   | 1057\n",
       "Orange      | California | 4.30.20 | 2940  | 2438      | 3175692    | 45     | 38\n",
       "Alameda     | California | 5.31.20 | 3390  | 1787      | 1671329    | 98     | 38\n",
       "Los Angeles | California | 5.31.20 | 55001 | 31781     | 10039107   | 2362   | 1251\n",
       "Orange      | California | 5.31.20 | 7229  | 4289      | 3175692    | 147    | 102\n",
       "Alameda     | California | 6.30.20 | 5964  | 2574      | 1671329    | 137    | 39\n",
       "... (35 rows omitted)"
      ]
     },
     "execution_count": 44,
     "metadata": {},
     "output_type": "execute_result"
    }
   ],
   "source": [
    "select_counties = [\"Los Angeles\", \"Alameda\", \"Orange\", \"San Bernandino\", \"Bakersfield\"]\n",
    "\n",
    "#This will take the counties you choose for the comparison.\n",
    "my_counties = ca_cases.where(\"County\", are.contained_in(select_counties))\n",
    "my_counties"
   ]
  },
  {
   "cell_type": "markdown",
   "metadata": {},
   "source": [
    "<div class=\"alert alert-warning\">\n",
    "<b>Question:</b> Now make another bar chart using your selected counties and the number of cases on May. First, filter out the data to contain information about May only.\n",
    "   </div>\n"
   ]
  },
  {
   "cell_type": "markdown",
   "metadata": {},
   "source": [
    "**Hint:** Use the number of the month."
   ]
  },
  {
   "cell_type": "code",
   "execution_count": null,
   "metadata": {},
   "outputs": [],
   "source": [
    "#Filter table to contain only May data\n",
    "may_my_counties = my_counties.where('...', are.containing('...'))\n",
    "may_my_counties"
   ]
  },
  {
   "cell_type": "code",
   "execution_count": 57,
   "metadata": {},
   "outputs": [
    {
     "data": {
      "text/html": [
       "<table border=\"1\" class=\"dataframe\">\n",
       "    <thead>\n",
       "        <tr>\n",
       "            <th>County</th> <th>State</th> <th>Date</th> <th>Cases</th> <th>New Cases</th> <th>Population</th> <th>Deaths</th> <th>New Deaths</th>\n",
       "        </tr>\n",
       "    </thead>\n",
       "    <tbody>\n",
       "        <tr>\n",
       "            <td>Alameda    </td> <td>California</td> <td>5.31.20</td> <td>3390   </td> <td>1787     </td> <td>1671329   </td> <td>98    </td> <td>38        </td>\n",
       "        </tr>\n",
       "        <tr>\n",
       "            <td>Los Angeles</td> <td>California</td> <td>5.31.20</td> <td>55001  </td> <td>31781    </td> <td>10039107  </td> <td>2362  </td> <td>1251      </td>\n",
       "        </tr>\n",
       "        <tr>\n",
       "            <td>Orange     </td> <td>California</td> <td>5.31.20</td> <td>7229   </td> <td>4289     </td> <td>3175692   </td> <td>147   </td> <td>102       </td>\n",
       "        </tr>\n",
       "        <tr>\n",
       "            <td>Alameda    </td> <td>California</td> <td>5.31.21</td> <td>88929  </td> <td>2439     </td> <td>1671329   </td> <td>1253  </td> <td>-15       </td>\n",
       "        </tr>\n",
       "        <tr>\n",
       "            <td>Los Angeles</td> <td>California</td> <td>5.31.21</td> <td>1244054</td> <td>10963    </td> <td>10039107  </td> <td>24360 </td> <td>461       </td>\n",
       "        </tr>\n",
       "        <tr>\n",
       "            <td>Orange     </td> <td>California</td> <td>5.31.21</td> <td>272094 </td> <td>1993     </td> <td>3175692   </td> <td>5065  </td> <td>108       </td>\n",
       "        </tr>\n",
       "    </tbody>\n",
       "</table>"
      ],
      "text/plain": [
       "County      | State      | Date    | Cases   | New Cases | Population | Deaths | New Deaths\n",
       "Alameda     | California | 5.31.20 | 3390    | 1787      | 1671329    | 98     | 38\n",
       "Los Angeles | California | 5.31.20 | 55001   | 31781     | 10039107   | 2362   | 1251\n",
       "Orange      | California | 5.31.20 | 7229    | 4289      | 3175692    | 147    | 102\n",
       "Alameda     | California | 5.31.21 | 88929   | 2439      | 1671329    | 1253   | -15\n",
       "Los Angeles | California | 5.31.21 | 1244054 | 10963     | 10039107   | 24360  | 461\n",
       "Orange      | California | 5.31.21 | 272094  | 1993      | 3175692    | 5065   | 108"
      ]
     },
     "execution_count": 57,
     "metadata": {},
     "output_type": "execute_result"
    }
   ],
   "source": [
    "#KEY\n",
    "may_my_counties = my_counties.where('Date', are.containing(\"5\"))\n",
    "may_my_counties"
   ]
  },
  {
   "cell_type": "code",
   "execution_count": null,
   "metadata": {},
   "outputs": [],
   "source": [
    "# Use this cell to make a bar chart of new cases in May \n",
    "..."
   ]
  },
  {
   "cell_type": "code",
   "execution_count": 72,
   "metadata": {},
   "outputs": [
    {
     "data": {
      "image/png": "[encoded data removed]",
      "text/plain": [
       "<Figure size 432x288 with 1 Axes>"
      ]
     },
     "metadata": {},
     "output_type": "display_data"
    }
   ],
   "source": [
    "#KEY\n",
    "may_my_counties.barh(\"County\", \"New Cases\")"
   ]
  },
  {
   "cell_type": "markdown",
   "metadata": {},
   "source": [
    "<div class=\"alert alert-warning\">\n",
    "<b>Question:</b> What are some possible reasons for the disparities in certain counties? Hint: Think about the size of the counties.\n",
    "   </div>"
   ]
  },
  {
   "cell_type": "markdown",
   "metadata": {},
   "source": [
    "*Insert answer here.*"
   ]
  },
  {
   "cell_type": "markdown",
   "metadata": {},
   "source": [
    "### Part 2"
   ]
  },
  {
   "cell_type": "markdown",
   "metadata": {},
   "source": [
    "A disease will spread more when there are more people in a population to spread to. Let's look at the population of the states to compare the percentages based on the number of people. Here is a table with the states and their populations. "
   ]
  },
  {
   "cell_type": "code",
   "execution_count": 73,
   "metadata": {
    "scrolled": true
   },
   "outputs": [
    {
     "data": {
      "text/html": [
       "<table border=\"1\" class=\"dataframe\">\n",
       "    <thead>\n",
       "        <tr>\n",
       "            <th>State</th> <th>Population</th>\n",
       "        </tr>\n",
       "    </thead>\n",
       "    <tbody>\n",
       "        <tr>\n",
       "            <td>Alabama         </td> <td>4903185   </td>\n",
       "        </tr>\n",
       "        <tr>\n",
       "            <td>Alaska          </td> <td>731545    </td>\n",
       "        </tr>\n",
       "        <tr>\n",
       "            <td>American Samoa  </td> <td>55641     </td>\n",
       "        </tr>\n",
       "        <tr>\n",
       "            <td>Arizona         </td> <td>7278717   </td>\n",
       "        </tr>\n",
       "        <tr>\n",
       "            <td>Arkansas        </td> <td>3017804   </td>\n",
       "        </tr>\n",
       "        <tr>\n",
       "            <td>California      </td> <td>39512223  </td>\n",
       "        </tr>\n",
       "        <tr>\n",
       "            <td>Colorado        </td> <td>5758736   </td>\n",
       "        </tr>\n",
       "        <tr>\n",
       "            <td>Connecticut     </td> <td>3565287   </td>\n",
       "        </tr>\n",
       "        <tr>\n",
       "            <td>Delaware        </td> <td>973764    </td>\n",
       "        </tr>\n",
       "        <tr>\n",
       "            <td>Diamond Princess</td> <td>0         </td>\n",
       "        </tr>\n",
       "    </tbody>\n",
       "</table>\n",
       "<p>... (48 rows omitted)</p>"
      ],
      "text/plain": [
       "State            | Population\n",
       "Alabama          | 4903185\n",
       "Alaska           | 731545\n",
       "American Samoa   | 55641\n",
       "Arizona          | 7278717\n",
       "Arkansas         | 3017804\n",
       "California       | 39512223\n",
       "Colorado         | 5758736\n",
       "Connecticut      | 3565287\n",
       "Delaware         | 973764\n",
       "Diamond Princess | 0\n",
       "... (48 rows omitted)"
      ]
     },
     "execution_count": 73,
     "metadata": {},
     "output_type": "execute_result"
    }
   ],
   "source": [
    "pop_by_state = Table().read_table(\"data/pop_by_state.csv\")\n",
    "pop_by_state"
   ]
  },
  {
   "cell_type": "markdown",
   "metadata": {},
   "source": [
    "<div class=\"alert alert-warning\">\n",
    "<b>Question:</b> First, group the covid statistics to show the number of cases for each state and the sum of the cases.\n",
    "   </div>"
   ]
  },
  {
   "cell_type": "code",
   "execution_count": 74,
   "metadata": {
    "scrolled": true
   },
   "outputs": [
    {
     "data": {
      "text/html": [
       "<table border=\"1\" class=\"dataframe\">\n",
       "    <thead>\n",
       "        <tr>\n",
       "            <th>State</th> <th>County sum</th> <th>Date sum</th> <th>Cases sum</th> <th>New Cases sum</th> <th>Population sum</th> <th>Deaths sum</th> <th>New Deaths sum</th>\n",
       "        </tr>\n",
       "    </thead>\n",
       "    <tbody>\n",
       "        <tr>\n",
       "            <td>Alabama         </td> <td>          </td> <td>        </td> <td>3778434  </td> <td>543405       </td> <td>73547775      </td> <td>69582     </td> <td>11146         </td>\n",
       "        </tr>\n",
       "        <tr>\n",
       "            <td>Alaska          </td> <td>          </td> <td>        </td> <td>428852   </td> <td>69913        </td> <td>11114925      </td> <td>2137      </td> <td>369           </td>\n",
       "        </tr>\n",
       "        <tr>\n",
       "            <td>American Samoa  </td> <td>          </td> <td>        </td> <td>0        </td> <td>0            </td> <td>834615        </td> <td>0         </td> <td>0             </td>\n",
       "        </tr>\n",
       "        <tr>\n",
       "            <td>Arizona         </td> <td>          </td> <td>        </td> <td>5956368  </td> <td>881449       </td> <td>109180755     </td> <td>119748    </td> <td>17628         </td>\n",
       "        </tr>\n",
       "        <tr>\n",
       "            <td>Arkansas        </td> <td>          </td> <td>        </td> <td>2311389  </td> <td>338475       </td> <td>45267060      </td> <td>38500     </td> <td>5833          </td>\n",
       "        </tr>\n",
       "        <tr>\n",
       "            <td>California      </td> <td>          </td> <td>        </td> <td>25054691 </td> <td>3789532      </td> <td>592683345     </td> <td>390842    </td> <td>62809         </td>\n",
       "        </tr>\n",
       "        <tr>\n",
       "            <td>Colorado        </td> <td>          </td> <td>        </td> <td>3266437  </td> <td>543102       </td> <td>86381040      </td> <td>50520     </td> <td>6580          </td>\n",
       "        </tr>\n",
       "        <tr>\n",
       "            <td>Connecticut     </td> <td>          </td> <td>        </td> <td>2172934  </td> <td>346156       </td> <td>53479305      </td> <td>78483     </td> <td>8237          </td>\n",
       "        </tr>\n",
       "        <tr>\n",
       "            <td>Delaware        </td> <td>          </td> <td>        </td> <td>667391   </td> <td>108640       </td> <td>14606460      </td> <td>13330     </td> <td>1661          </td>\n",
       "        </tr>\n",
       "        <tr>\n",
       "            <td>Diamond Princess</td> <td>          </td> <td>        </td> <td>735      </td> <td>49           </td> <td>0             </td> <td>0         </td> <td>0             </td>\n",
       "        </tr>\n",
       "    </tbody>\n",
       "</table>\n",
       "<p>... (48 rows omitted)</p>"
      ],
      "text/plain": [
       "State            | County sum | Date sum | Cases sum | New Cases sum | Population sum | Deaths sum | New Deaths sum\n",
       "Alabama          |            |          | 3778434   | 543405        | 73547775       | 69582      | 11146\n",
       "Alaska           |            |          | 428852    | 69913         | 11114925       | 2137       | 369\n",
       "American Samoa   |            |          | 0         | 0             | 834615         | 0          | 0\n",
       "Arizona          |            |          | 5956368   | 881449        | 109180755      | 119748     | 17628\n",
       "Arkansas         |            |          | 2311389   | 338475        | 45267060       | 38500      | 5833\n",
       "California       |            |          | 25054691  | 3789532       | 592683345      | 390842     | 62809\n",
       "Colorado         |            |          | 3266437   | 543102        | 86381040       | 50520      | 6580\n",
       "Connecticut      |            |          | 2172934   | 346156        | 53479305       | 78483      | 8237\n",
       "Delaware         |            |          | 667391    | 108640        | 14606460       | 13330      | 1661\n",
       "Diamond Princess |            |          | 735       | 49            | 0              | 0          | 0\n",
       "... (48 rows omitted)"
      ]
     },
     "execution_count": 74,
     "metadata": {},
     "output_type": "execute_result"
    }
   ],
   "source": [
    "#We are grouping all the counties into their states and taking the sum of the cases using this code.\n",
    "grouped_by_state = covid_statistics.group(\"State\", sum)\n",
    "grouped_by_state"
   ]
  },
  {
   "cell_type": "code",
   "execution_count": 56,
   "metadata": {
    "scrolled": true
   },
   "outputs": [
    {
     "data": {
      "text/html": [
       "<table border=\"1\" class=\"dataframe\">\n",
       "    <thead>\n",
       "        <tr>\n",
       "            <th>State</th> <th>April sum</th> <th>May sum</th> <th>June sum</th>\n",
       "        </tr>\n",
       "    </thead>\n",
       "    <tbody>\n",
       "        <tr>\n",
       "            <td>Alabama             </td> <td>1060     </td> <td>7294   </td> <td>18630   </td>\n",
       "        </tr>\n",
       "        <tr>\n",
       "            <td>Alaska              </td> <td>132      </td> <td>364    </td> <td>466     </td>\n",
       "        </tr>\n",
       "        <tr>\n",
       "            <td>American Samoa      </td> <td>0        </td> <td>0      </td> <td>0       </td>\n",
       "        </tr>\n",
       "        <tr>\n",
       "            <td>Arizona             </td> <td>1413     </td> <td>7969   </td> <td>20129   </td>\n",
       "        </tr>\n",
       "        <tr>\n",
       "            <td>Arkansas            </td> <td>584      </td> <td>3337   </td> <td>7443    </td>\n",
       "        </tr>\n",
       "        <tr>\n",
       "            <td>California          </td> <td>9399     </td> <td>52026  </td> <td>114733  </td>\n",
       "        </tr>\n",
       "        <tr>\n",
       "            <td>Colorado            </td> <td>3342     </td> <td>15793  </td> <td>26563   </td>\n",
       "        </tr>\n",
       "        <tr>\n",
       "            <td>Connecticut         </td> <td>3557     </td> <td>28764  </td> <td>42740   </td>\n",
       "        </tr>\n",
       "        <tr>\n",
       "            <td>Delaware            </td> <td>368      </td> <td>4918   </td> <td>9605    </td>\n",
       "        </tr>\n",
       "        <tr>\n",
       "            <td>District of Columbia</td> <td>586      </td> <td>4658   </td> <td>8857    </td>\n",
       "        </tr>\n",
       "    </tbody>\n",
       "</table>\n",
       "<p>... (46 rows omitted)</p>"
      ],
      "text/plain": [
       "State                | April sum | May sum | June sum\n",
       "Alabama              | 1060      | 7294    | 18630\n",
       "Alaska               | 132       | 364     | 466\n",
       "American Samoa       | 0         | 0       | 0\n",
       "Arizona              | 1413      | 7969    | 20129\n",
       "Arkansas             | 584       | 3337    | 7443\n",
       "California           | 9399      | 52026   | 114733\n",
       "Colorado             | 3342      | 15793   | 26563\n",
       "Connecticut          | 3557      | 28764   | 42740\n",
       "Delaware             | 368       | 4918    | 9605\n",
       "District of Columbia | 586       | 4658    | 8857\n",
       "... (46 rows omitted)"
      ]
     },
     "execution_count": 56,
     "metadata": {},
     "output_type": "execute_result"
    }
   ],
   "source": [
    "#Now we will drop the County sum and Combined_Key sum because they \n",
    "#do not have numbers to add and we do not need the columns anymore.\n",
    "grouped_by_state = grouped_by_state.drop(1, 2)\n",
    "grouped_by_state"
   ]
  },
  {
   "cell_type": "markdown",
   "metadata": {},
   "source": [
    "<div class=\"alert alert-warning\">\n",
    "<b>Question:</b> Now that we have it grouped by state, let's first look at the number of cases in June so we can compare it to the percentages we will look at later.\n",
    "   </div>"
   ]
  },
  {
   "cell_type": "code",
   "execution_count": 82,
   "metadata": {},
   "outputs": [
    {
     "data": {
      "image/png": "[encoded data removed]",
      "text/plain": [
       "<Figure size 432x360 with 1 Axes>"
      ]
     },
     "metadata": {},
     "output_type": "display_data"
    }
   ],
   "source": [
    "#Run this cell to see the number of\n",
    "grouped_by_state.sort(\"June sum\", descending = True).take(np.arange(10)).barh(\"State\", \"June sum\")"
   ]
  },
  {
   "cell_type": "markdown",
   "metadata": {},
   "source": [
    "<div class=\"alert alert-warning\">\n",
    "<b>Question:</b> Now join this table with the pop_by_state table. \n",
    "   </div>"
   ]
  },
  {
   "cell_type": "code",
   "execution_count": 15,
   "metadata": {
    "scrolled": true
   },
   "outputs": [
    {
     "data": {
      "text/html": [
       "<table border=\"1\" class=\"dataframe\">\n",
       "    <thead>\n",
       "        <tr>\n",
       "            <th>State</th> <th>3/1/2020 sum</th> <th>4/1/2020 sum</th> <th>5/1/2020 sum</th> <th>6/1/2020 sum</th> <th>Population</th>\n",
       "        </tr>\n",
       "    </thead>\n",
       "    <tbody>\n",
       "        <tr>\n",
       "            <td>Alabama             </td> <td>0           </td> <td>1060        </td> <td>7294        </td> <td>18630       </td> <td>4903185   </td>\n",
       "        </tr>\n",
       "        <tr>\n",
       "            <td>Alaska              </td> <td>0           </td> <td>132         </td> <td>364         </td> <td>466         </td> <td>731545    </td>\n",
       "        </tr>\n",
       "        <tr>\n",
       "            <td>American Samoa      </td> <td>0           </td> <td>0           </td> <td>0           </td> <td>0           </td> <td>55641     </td>\n",
       "        </tr>\n",
       "        <tr>\n",
       "            <td>Arizona             </td> <td>1           </td> <td>1413        </td> <td>7969        </td> <td>20129       </td> <td>7278717   </td>\n",
       "        </tr>\n",
       "        <tr>\n",
       "            <td>Arkansas            </td> <td>0           </td> <td>584         </td> <td>3337        </td> <td>7443        </td> <td>3017804   </td>\n",
       "        </tr>\n",
       "        <tr>\n",
       "            <td>California          </td> <td>12          </td> <td>9399        </td> <td>52026       </td> <td>114733      </td> <td>39512223  </td>\n",
       "        </tr>\n",
       "        <tr>\n",
       "            <td>Colorado            </td> <td>0           </td> <td>3342        </td> <td>15793       </td> <td>26563       </td> <td>5758736   </td>\n",
       "        </tr>\n",
       "        <tr>\n",
       "            <td>Connecticut         </td> <td>0           </td> <td>3557        </td> <td>28764       </td> <td>42740       </td> <td>3565287   </td>\n",
       "        </tr>\n",
       "        <tr>\n",
       "            <td>Delaware            </td> <td>0           </td> <td>368         </td> <td>4918        </td> <td>9605        </td> <td>973764    </td>\n",
       "        </tr>\n",
       "        <tr>\n",
       "            <td>District of Columbia</td> <td>0           </td> <td>586         </td> <td>4658        </td> <td>8857        </td> <td>705749    </td>\n",
       "        </tr>\n",
       "    </tbody>\n",
       "</table>\n",
       "<p>... (46 rows omitted)</p>"
      ],
      "text/plain": [
       "State                | 3/1/2020 sum | 4/1/2020 sum | 5/1/2020 sum | 6/1/2020 sum | Population\n",
       "Alabama              | 0            | 1060         | 7294         | 18630        | 4903185\n",
       "Alaska               | 0            | 132          | 364          | 466          | 731545\n",
       "American Samoa       | 0            | 0            | 0            | 0            | 55641\n",
       "Arizona              | 1            | 1413         | 7969         | 20129        | 7278717\n",
       "Arkansas             | 0            | 584          | 3337         | 7443         | 3017804\n",
       "California           | 12           | 9399         | 52026        | 114733       | 39512223\n",
       "Colorado             | 0            | 3342         | 15793        | 26563        | 5758736\n",
       "Connecticut          | 0            | 3557         | 28764        | 42740        | 3565287\n",
       "Delaware             | 0            | 368          | 4918         | 9605         | 973764\n",
       "District of Columbia | 0            | 586          | 4658         | 8857         | 705749\n",
       "... (46 rows omitted)"
      ]
     },
     "execution_count": 15,
     "metadata": {},
     "output_type": "execute_result"
    }
   ],
   "source": [
    "#We are going to join the two tables by providing the column they share which is \"State\".\n",
    "with_pop = grouped_by_state.join(\"State\", pop_by_state)\n",
    "with_pop"
   ]
  },
  {
   "cell_type": "markdown",
   "metadata": {},
   "source": [
    "<div class=\"alert alert-warning\">\n",
    "<b>Question:</b> Add a column called \"Percentage\" that has the number of cases collected in June divided by the population.\n",
    "   </div>"
   ]
  },
  {
   "cell_type": "code",
   "execution_count": 34,
   "metadata": {
    "scrolled": true
   },
   "outputs": [],
   "source": [
    "#First, we want to find the columns that would make up an array of the percentages.\n",
    "june_cases = with_pop.column(\"6/1/2020 sum\")\n",
    "population = ...\n",
    "percentage = (.../...)*100\n",
    "percentage"
   ]
  },
  {
   "cell_type": "code",
   "execution_count": 16,
   "metadata": {},
   "outputs": [
    {
     "data": {
      "text/plain": [
       "array([0.37995711, 0.0637008 , 0.        , 0.27654599, 0.2466363 ,\n",
       "       0.29037344, 0.46126442, 1.19878147, 0.98637863, 1.25497875,\n",
       "       0.26459957, 0.45116409, 0.10655852, 0.04604936, 0.15886384,\n",
       "       0.95672122, 0.51736285, 0.62436016, 0.34050569, 0.22485979,\n",
       "       0.86777345, 0.17474922, 0.88206786, 1.4625311 , 0.57607714,\n",
       "       0.44697952, 0.52927458, 0.20711186, 0.04856013, 0.74157055,\n",
       "       0.28251816, 0.34455851, 1.81169284, 0.37199028, 1.4208228 ,\n",
       "       0.28214877, 0.34446016, 0.03989555, 0.30784235, 0.16611191,\n",
       "       0.10199782, 0.59870384, 0.13203073, 1.41509835, 0.23594241,\n",
       "       0.56903281, 0.33043528, 0.22621489, 0.31188805, 0.15753483,\n",
       "       0.06525711, 0.53187158, 0.2886055 , 0.11316036, 0.31847506,\n",
       "       0.15723298])"
      ]
     },
     "execution_count": 16,
     "metadata": {},
     "output_type": "execute_result"
    }
   ],
   "source": [
    "#KEY\n",
    "june_cases = with_pop.column(\"6/1/2020 sum\")\n",
    "population = with_pop.column(\"Population\")\n",
    "percentage = (june_cases/population)*100\n",
    "percentage"
   ]
  },
  {
   "cell_type": "code",
   "execution_count": 21,
   "metadata": {},
   "outputs": [],
   "source": [
    "with_pct = with_pop.with_column(\"...\", ...)\n",
    "with_pct"
   ]
  },
  {
   "cell_type": "code",
   "execution_count": 17,
   "metadata": {
    "scrolled": true
   },
   "outputs": [
    {
     "data": {
      "text/html": [
       "<table border=\"1\" class=\"dataframe\">\n",
       "    <thead>\n",
       "        <tr>\n",
       "            <th>State</th> <th>3/1/2020 sum</th> <th>4/1/2020 sum</th> <th>5/1/2020 sum</th> <th>6/1/2020 sum</th> <th>Population</th> <th>Percentage</th>\n",
       "        </tr>\n",
       "    </thead>\n",
       "    <tbody>\n",
       "        <tr>\n",
       "            <td>Alabama             </td> <td>0           </td> <td>1060        </td> <td>7294        </td> <td>18630       </td> <td>4903185   </td> <td>0.379957  </td>\n",
       "        </tr>\n",
       "        <tr>\n",
       "            <td>Alaska              </td> <td>0           </td> <td>132         </td> <td>364         </td> <td>466         </td> <td>731545    </td> <td>0.0637008 </td>\n",
       "        </tr>\n",
       "        <tr>\n",
       "            <td>American Samoa      </td> <td>0           </td> <td>0           </td> <td>0           </td> <td>0           </td> <td>55641     </td> <td>0         </td>\n",
       "        </tr>\n",
       "        <tr>\n",
       "            <td>Arizona             </td> <td>1           </td> <td>1413        </td> <td>7969        </td> <td>20129       </td> <td>7278717   </td> <td>0.276546  </td>\n",
       "        </tr>\n",
       "        <tr>\n",
       "            <td>Arkansas            </td> <td>0           </td> <td>584         </td> <td>3337        </td> <td>7443        </td> <td>3017804   </td> <td>0.246636  </td>\n",
       "        </tr>\n",
       "        <tr>\n",
       "            <td>California          </td> <td>12          </td> <td>9399        </td> <td>52026       </td> <td>114733      </td> <td>39512223  </td> <td>0.290373  </td>\n",
       "        </tr>\n",
       "        <tr>\n",
       "            <td>Colorado            </td> <td>0           </td> <td>3342        </td> <td>15793       </td> <td>26563       </td> <td>5758736   </td> <td>0.461264  </td>\n",
       "        </tr>\n",
       "        <tr>\n",
       "            <td>Connecticut         </td> <td>0           </td> <td>3557        </td> <td>28764       </td> <td>42740       </td> <td>3565287   </td> <td>1.19878   </td>\n",
       "        </tr>\n",
       "        <tr>\n",
       "            <td>Delaware            </td> <td>0           </td> <td>368         </td> <td>4918        </td> <td>9605        </td> <td>973764    </td> <td>0.986379  </td>\n",
       "        </tr>\n",
       "        <tr>\n",
       "            <td>District of Columbia</td> <td>0           </td> <td>586         </td> <td>4658        </td> <td>8857        </td> <td>705749    </td> <td>1.25498   </td>\n",
       "        </tr>\n",
       "    </tbody>\n",
       "</table>\n",
       "<p>... (46 rows omitted)</p>"
      ],
      "text/plain": [
       "State                | 3/1/2020 sum | 4/1/2020 sum | 5/1/2020 sum | 6/1/2020 sum | Population | Percentage\n",
       "Alabama              | 0            | 1060         | 7294         | 18630        | 4903185    | 0.379957\n",
       "Alaska               | 0            | 132          | 364          | 466          | 731545     | 0.0637008\n",
       "American Samoa       | 0            | 0            | 0            | 0            | 55641      | 0\n",
       "Arizona              | 1            | 1413         | 7969         | 20129        | 7278717    | 0.276546\n",
       "Arkansas             | 0            | 584          | 3337         | 7443         | 3017804    | 0.246636\n",
       "California           | 12           | 9399         | 52026        | 114733       | 39512223   | 0.290373\n",
       "Colorado             | 0            | 3342         | 15793        | 26563        | 5758736    | 0.461264\n",
       "Connecticut          | 0            | 3557         | 28764        | 42740        | 3565287    | 1.19878\n",
       "Delaware             | 0            | 368          | 4918         | 9605         | 973764     | 0.986379\n",
       "District of Columbia | 0            | 586          | 4658         | 8857         | 705749     | 1.25498\n",
       "... (46 rows omitted)"
      ]
     },
     "execution_count": 17,
     "metadata": {},
     "output_type": "execute_result"
    }
   ],
   "source": [
    "#KEY\n",
    "with_pct = with_pop.with_column(\"Percentage\", percentage)\n",
    "with_pct"
   ]
  },
  {
   "cell_type": "markdown",
   "metadata": {},
   "source": [
    "<div class=\"alert alert-warning\">\n",
    "<b>Question:</b> Like we did in the previous section, sort with_pct and include the top ten states with the most cases on June 1st. Then, create a bar chart to compare the states with the highest percentages of cases.\n",
    "   </div>"
   ]
  },
  {
   "cell_type": "code",
   "execution_count": 38,
   "metadata": {},
   "outputs": [],
   "source": [
    "top_ten_pct = ..."
   ]
  },
  {
   "cell_type": "code",
   "execution_count": 18,
   "metadata": {
    "scrolled": true
   },
   "outputs": [
    {
     "data": {
      "text/html": [
       "<table border=\"1\" class=\"dataframe\">\n",
       "    <thead>\n",
       "        <tr>\n",
       "            <th>State</th> <th>3/1/2020 sum</th> <th>4/1/2020 sum</th> <th>5/1/2020 sum</th> <th>6/1/2020 sum</th> <th>Population</th> <th>Percentage</th>\n",
       "        </tr>\n",
       "    </thead>\n",
       "    <tbody>\n",
       "        <tr>\n",
       "            <td>New Jersey          </td> <td>0           </td> <td>22255       </td> <td>121190      </td> <td>160918      </td> <td>8882190   </td> <td>1.81169   </td>\n",
       "        </tr>\n",
       "        <tr>\n",
       "            <td>Massachusetts       </td> <td>1           </td> <td>7738        </td> <td>64311       </td> <td>100805      </td> <td>6892503   </td> <td>1.46253   </td>\n",
       "        </tr>\n",
       "        <tr>\n",
       "            <td>New York            </td> <td>0           </td> <td>83948       </td> <td>308314      </td> <td>371711      </td> <td>26161672  </td> <td>1.42082   </td>\n",
       "        </tr>\n",
       "        <tr>\n",
       "            <td>Rhode Island        </td> <td>1           </td> <td>566         </td> <td>8962        </td> <td>14991       </td> <td>1059361   </td> <td>1.4151    </td>\n",
       "        </tr>\n",
       "        <tr>\n",
       "            <td>District of Columbia</td> <td>0           </td> <td>586         </td> <td>4658        </td> <td>8857        </td> <td>705749    </td> <td>1.25498   </td>\n",
       "        </tr>\n",
       "        <tr>\n",
       "            <td>Connecticut         </td> <td>0           </td> <td>3557        </td> <td>28764       </td> <td>42740       </td> <td>3565287   </td> <td>1.19878   </td>\n",
       "        </tr>\n",
       "        <tr>\n",
       "            <td>Delaware            </td> <td>0           </td> <td>368         </td> <td>4918        </td> <td>9605        </td> <td>973764    </td> <td>0.986379  </td>\n",
       "        </tr>\n",
       "        <tr>\n",
       "            <td>Illinois            </td> <td>3           </td> <td>6980        </td> <td>56055       </td> <td>121234      </td> <td>12671821  </td> <td>0.956721  </td>\n",
       "        </tr>\n",
       "        <tr>\n",
       "            <td>Maryland            </td> <td>0           </td> <td>1986        </td> <td>23472       </td> <td>53327       </td> <td>6045680   </td> <td>0.882068  </td>\n",
       "        </tr>\n",
       "        <tr>\n",
       "            <td>Louisiana           </td> <td>0           </td> <td>6424        </td> <td>28711       </td> <td>40341       </td> <td>4648794   </td> <td>0.867773  </td>\n",
       "        </tr>\n",
       "    </tbody>\n",
       "</table>"
      ],
      "text/plain": [
       "State                | 3/1/2020 sum | 4/1/2020 sum | 5/1/2020 sum | 6/1/2020 sum | Population | Percentage\n",
       "New Jersey           | 0            | 22255        | 121190       | 160918       | 8882190    | 1.81169\n",
       "Massachusetts        | 1            | 7738         | 64311        | 100805       | 6892503    | 1.46253\n",
       "New York             | 0            | 83948        | 308314       | 371711       | 26161672   | 1.42082\n",
       "Rhode Island         | 1            | 566          | 8962         | 14991        | 1059361    | 1.4151\n",
       "District of Columbia | 0            | 586          | 4658         | 8857         | 705749     | 1.25498\n",
       "Connecticut          | 0            | 3557         | 28764        | 42740        | 3565287    | 1.19878\n",
       "Delaware             | 0            | 368          | 4918         | 9605         | 973764     | 0.986379\n",
       "Illinois             | 3            | 6980         | 56055        | 121234       | 12671821   | 0.956721\n",
       "Maryland             | 0            | 1986         | 23472        | 53327        | 6045680    | 0.882068\n",
       "Louisiana            | 0            | 6424         | 28711        | 40341        | 4648794    | 0.867773"
      ]
     },
     "execution_count": 18,
     "metadata": {},
     "output_type": "execute_result"
    }
   ],
   "source": [
    "#KEY\n",
    "top_ten_pct = with_pct.sort(\"Percentage\", descending = True).take(np.arange(10))\n",
    "top_ten_pct"
   ]
  },
  {
   "cell_type": "code",
   "execution_count": 40,
   "metadata": {},
   "outputs": [],
   "source": [
    "#fill in the code to make the bar chart looking at the States and their Percentages.\n",
    "..."
   ]
  },
  {
   "cell_type": "code",
   "execution_count": 19,
   "metadata": {
    "scrolled": true
   },
   "outputs": [
    {
     "data": {
      "image/png": "[encoded data removed]",
      "text/plain": [
       "<Figure size 432x360 with 1 Axes>"
      ]
     },
     "metadata": {},
     "output_type": "display_data"
    }
   ],
   "source": [
    "#KEY\n",
    "top_ten_pct.barh(\"State\", \"Percentage\")"
   ]
  },
  {
   "cell_type": "markdown",
   "metadata": {},
   "source": [
    "<div class=\"alert alert-warning\">\n",
    "<b>Question:</b> What differences do you see from the bar chart of the states when we just saw the number of cases? Give some possible reasons for the differences.\n",
    "   </div>"
   ]
  },
  {
   "cell_type": "markdown",
   "metadata": {},
   "source": [
    "*Insert answer here.*"
   ]
  },
  {
   "cell_type": "markdown",
   "metadata": {},
   "source": [
    "## Using prediction and inference to draw conclusions <a id='subsection 1a'></a>"
   ]
  },
  {
   "cell_type": "markdown",
   "metadata": {},
   "source": [
    "Now that we have some experience making these visualizations, let's go back to exponential growth. We know that, without intervention, a disease can behave like a rumor and spread at an alarming rate. From the previous section, we also know that we need to take into account the population of the region when looking at the number of cases."
   ]
  },
  {
   "cell_type": "markdown",
   "metadata": {},
   "source": [
    "Now we will read in two tables: Covid by State and Population by state in order to look at the percentage of the cases. And the growth of the "
   ]
  },
  {
   "cell_type": "code",
   "execution_count": 60,
   "metadata": {
    "scrolled": false
   },
   "outputs": [
    {
     "data": {
      "text/html": [
       "<table border=\"1\" class=\"dataframe\">\n",
       "    <thead>\n",
       "        <tr>\n",
       "            <th>Days since 3/1/20</th> <th>Alabama</th> <th>Alaska</th> <th>American Samoa</th> <th>Arizona</th> <th>Arkansas</th> <th>California</th> <th>Colorado</th> <th>Connecticut</th> <th>Delaware</th> <th>District of Columbia</th> <th>Florida</th> <th>Georgia</th> <th>Guam</th> <th>Hawaii</th> <th>Idaho</th> <th>Illinois</th> <th>Indiana</th> <th>Iowa</th> <th>Kansas</th> <th>Kentucky</th> <th>Louisiana</th> <th>Maine</th> <th>Maryland</th> <th>Massachusetts</th> <th>Michigan</th> <th>Minnesota</th> <th>Mississippi</th> <th>Missouri</th> <th>Montana</th> <th>Nebraska</th> <th>Nevada</th> <th>New Hampshire</th> <th>New Jersey</th> <th>New Mexico</th> <th>New York</th> <th>North Carolina</th> <th>North Dakota</th> <th>Northern Mariana Islands</th> <th>Ohio</th> <th>Oklahoma</th> <th>Oregon</th> <th>Pennsylvania</th> <th>Puerto Rico</th> <th>Rhode Island</th> <th>South Carolina</th> <th>South Dakota</th> <th>Tennessee</th> <th>Texas</th> <th>Utah</th> <th>Vermont</th> <th>Virgin Islands</th> <th>Virginia</th> <th>Washington</th> <th>West Virginia</th> <th>Wisconsin</th> <th>Wyoming</th>\n",
       "        </tr>\n",
       "    </thead>\n",
       "    <tbody>\n",
       "        <tr>\n",
       "            <td>0                </td> <td>0      </td> <td>0     </td> <td>0             </td> <td>1      </td> <td>0       </td> <td>12        </td> <td>0       </td> <td>0          </td> <td>0       </td> <td>0                   </td> <td>0      </td> <td>0      </td> <td>0   </td> <td>0     </td> <td>0    </td> <td>3       </td> <td>0      </td> <td>0   </td> <td>0     </td> <td>0       </td> <td>0        </td> <td>0    </td> <td>0       </td> <td>1            </td> <td>0       </td> <td>0        </td> <td>0          </td> <td>0       </td> <td>0      </td> <td>0       </td> <td>0     </td> <td>0            </td> <td>0         </td> <td>0         </td> <td>0       </td> <td>0             </td> <td>0           </td> <td>0                       </td> <td>0   </td> <td>0       </td> <td>1     </td> <td>0           </td> <td>0          </td> <td>1           </td> <td>0             </td> <td>0           </td> <td>0        </td> <td>0    </td> <td>0   </td> <td>0      </td> <td>0             </td> <td>0       </td> <td>11        </td> <td>0            </td> <td>0        </td> <td>0      </td>\n",
       "        </tr>\n",
       "        <tr>\n",
       "            <td>1                </td> <td>0      </td> <td>0     </td> <td>0             </td> <td>1      </td> <td>0       </td> <td>21        </td> <td>0       </td> <td>0          </td> <td>0       </td> <td>0                   </td> <td>1      </td> <td>0      </td> <td>0   </td> <td>0     </td> <td>0    </td> <td>4       </td> <td>0      </td> <td>0   </td> <td>0     </td> <td>0       </td> <td>0        </td> <td>0    </td> <td>0       </td> <td>1            </td> <td>0       </td> <td>0        </td> <td>0          </td> <td>0       </td> <td>0      </td> <td>0       </td> <td>0     </td> <td>1            </td> <td>0         </td> <td>0         </td> <td>1       </td> <td>0             </td> <td>0           </td> <td>0                       </td> <td>0   </td> <td>0       </td> <td>3     </td> <td>0           </td> <td>0          </td> <td>2           </td> <td>0             </td> <td>0           </td> <td>0        </td> <td>0    </td> <td>0   </td> <td>0      </td> <td>0             </td> <td>0       </td> <td>18        </td> <td>0            </td> <td>0        </td> <td>0      </td>\n",
       "        </tr>\n",
       "        <tr>\n",
       "            <td>2                </td> <td>0      </td> <td>0     </td> <td>0             </td> <td>1      </td> <td>0       </td> <td>25        </td> <td>0       </td> <td>0          </td> <td>0       </td> <td>0                   </td> <td>2      </td> <td>2      </td> <td>0   </td> <td>0     </td> <td>0    </td> <td>4       </td> <td>0      </td> <td>0   </td> <td>0     </td> <td>0       </td> <td>0        </td> <td>0    </td> <td>0       </td> <td>2            </td> <td>0       </td> <td>0        </td> <td>0          </td> <td>0       </td> <td>0      </td> <td>0       </td> <td>0     </td> <td>2            </td> <td>0         </td> <td>0         </td> <td>2       </td> <td>1             </td> <td>0           </td> <td>0                       </td> <td>0   </td> <td>0       </td> <td>3     </td> <td>0           </td> <td>0          </td> <td>2           </td> <td>0             </td> <td>0           </td> <td>0        </td> <td>0    </td> <td>0   </td> <td>0      </td> <td>0             </td> <td>0       </td> <td>27        </td> <td>0            </td> <td>0        </td> <td>0      </td>\n",
       "        </tr>\n",
       "        <tr>\n",
       "            <td>3                </td> <td>0      </td> <td>0     </td> <td>0             </td> <td>1      </td> <td>0       </td> <td>35        </td> <td>0       </td> <td>0          </td> <td>0       </td> <td>0                   </td> <td>2      </td> <td>2      </td> <td>0   </td> <td>0     </td> <td>0    </td> <td>4       </td> <td>0      </td> <td>0   </td> <td>0     </td> <td>0       </td> <td>0        </td> <td>0    </td> <td>0       </td> <td>2            </td> <td>0       </td> <td>0        </td> <td>0          </td> <td>0       </td> <td>0      </td> <td>0       </td> <td>0     </td> <td>2            </td> <td>0         </td> <td>0         </td> <td>11      </td> <td>1             </td> <td>0           </td> <td>0                       </td> <td>0   </td> <td>0       </td> <td>3     </td> <td>0           </td> <td>0          </td> <td>2           </td> <td>0             </td> <td>0           </td> <td>0        </td> <td>0    </td> <td>0   </td> <td>0      </td> <td>0             </td> <td>0       </td> <td>39        </td> <td>0            </td> <td>0        </td> <td>0      </td>\n",
       "        </tr>\n",
       "        <tr>\n",
       "            <td>4                </td> <td>0      </td> <td>0     </td> <td>0             </td> <td>1      </td> <td>0       </td> <td>51        </td> <td>2       </td> <td>0          </td> <td>0       </td> <td>0                   </td> <td>3      </td> <td>2      </td> <td>0   </td> <td>0     </td> <td>0    </td> <td>5       </td> <td>0      </td> <td>0   </td> <td>0     </td> <td>0       </td> <td>0        </td> <td>0    </td> <td>0       </td> <td>2            </td> <td>0       </td> <td>0        </td> <td>0          </td> <td>0       </td> <td>0      </td> <td>0       </td> <td>1     </td> <td>2            </td> <td>2         </td> <td>0         </td> <td>23      </td> <td>1             </td> <td>0           </td> <td>0                       </td> <td>0   </td> <td>0       </td> <td>3     </td> <td>0           </td> <td>0          </td> <td>2           </td> <td>0             </td> <td>0           </td> <td>1        </td> <td>3    </td> <td>0   </td> <td>0      </td> <td>0             </td> <td>0       </td> <td>70        </td> <td>0            </td> <td>0        </td> <td>0      </td>\n",
       "        </tr>\n",
       "    </tbody>\n",
       "</table>\n",
       "<p>... (96 rows omitted)</p>"
      ],
      "text/plain": [
       "<IPython.core.display.HTML object>"
      ]
     },
     "metadata": {},
     "output_type": "display_data"
    }
   ],
   "source": [
    "covid_by_state = Table().read_table(\"data/covid_by_state.csv\")\n",
    "covid_by_state.show(5)"
   ]
  },
  {
   "cell_type": "code",
   "execution_count": 71,
   "metadata": {},
   "outputs": [
    {
     "data": {
      "application/vnd.jupyter.widget-view+json": {
       "model_id": "08dbe6c694264a2d901edb121c52439b",
       "version_major": 2,
       "version_minor": 0
      },
      "text/plain": [
       "interactive(children=(Dropdown(description='state_1', options=('Alabama', 'Alaska', 'American Samoa', 'Arizona…"
      ]
     },
     "metadata": {},
     "output_type": "display_data"
    }
   ],
   "source": [
    "#run this cell to get a line plot!\n",
    "def plot_states(state_1, state_2):\n",
    "    covid_by_state.select(0, state_1, state_2).plot(0)\n",
    "interact(plot_states, \n",
    "         state_1=Dropdown(options=covid_by_state.labels[1:]), \n",
    "         state_2=Dropdown(options=covid_by_state.labels[1:]));"
   ]
  },
  {
   "cell_type": "markdown",
   "metadata": {},
   "source": [
    "Possible widget. Look at the growth of the cases and try to explain using your knowledge and other sources. Tell a story. (Presentation)\n",
    "\n",
    "Tell us what you learned about the two states you chose."
   ]
  },
  {
   "cell_type": "markdown",
   "metadata": {},
   "source": [
    "Tell us something interesting about this data"
   ]
  },
  {
   "cell_type": "markdown",
   "metadata": {},
   "source": [
    "Source: How Math (and Vaccines) Keep You Safe From the Flu by Patrick Honner (Quanta Magazine)\n",
    "Notebook Authors: Alleanna Clark, Ashley Quiterio, Karla Palos Castellanos"
   ]
  },
  {
   "cell_type": "code",
   "execution_count": null,
   "metadata": {},
   "outputs": [],
   "source": []
  }
 ],
 "metadata": {
  "kernelspec": {
   "display_name": "Python 3",
   "language": "python",
   "name": "python3"
  },
  "language_info": {
   "codemirror_mode": {
    "name": "ipython",
    "version": 3
   },
   "file_extension": ".py",
   "mimetype": "text/x-python",
   "name": "python",
   "nbconvert_exporter": "python",
   "pygments_lexer": "ipython3",
   "version": "3.8.8"
  }
 },
 "nbformat": 4,
 "nbformat_minor": 4
}
