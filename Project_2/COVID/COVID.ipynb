{
 "cells": [
  {
   "cell_type": "code",
   "execution_count": 1,
   "metadata": {},
   "outputs": [],
   "source": [
    "import pandas as pd\n",
    "import numpy as np\n",
    "from datascience import *\n",
    "from datascience import Table\n",
    "import matplotlib\n",
    "from ipywidgets import interact, Dropdown\n",
    "\n",
    "\n",
    "%matplotlib inline\n",
    "import matplotlib.pyplot as plt\n",
    "import numpy as np\n",
    "plt.style.use('fivethirtyeight')"
   ]
  },
  {
   "cell_type": "markdown",
   "metadata": {},
   "source": [
    "# Covid-19"
   ]
  },
  {
   "cell_type": "markdown",
   "metadata": {},
   "source": [
    "## The Data Science Life Cycle - Table of Contents\n",
    "\n",
    "<a href='#section 0'>Background Knowledge: Spread of Disease</a>\n",
    "\n",
    "<a href='#subsection 1a'>Formulating a question or problem</a> \n",
    "\n",
    "<a href='#subsection 1b'>Acquiring and preparing data</a>\n",
    "\n",
    "<a href='#subsection 1c'>Conducting exploratory data analysis</a>\n",
    "\n",
    "<a href='#subsection 1d'>Using prediction and inference to draw conclusions</a>\n",
    "<br><br>"
   ]
  },
  {
   "cell_type": "markdown",
   "metadata": {},
   "source": [
    "## Background<a id='section 0'></a>\n"
   ]
  },
  {
   "cell_type": "markdown",
   "metadata": {},
   "source": [
    "In March 2020, our lives were turned upside down as the COVID-19 virus spread throughout the United States.  The Centers for Disease Control (CDC) collects data to help health scientists better understand how disease spreads.\n",
    "\n",
    "Making comparisons between counties and states can us understand how rapidly a virus spreads, the impact of restrictions on public gatherings on the spread of a virus, and measure the changes in fatality as the medical profession learns how to treat the virus and as people get vaccinated. "
   ]
  },
  {
   "cell_type": "markdown",
   "metadata": {},
   "source": [
    "## Formulating a question or problem <a id='subsection 1a'></a>\n",
    "\n",
    "It is important to ask questions that will be informative and that will avoid misleading results. There are many different questions we could ask about Covid-19, for example, many researchers use data to predict the outcomes based on intervention techniques such as social distancing."
   ]
  },
  {
   "cell_type": "markdown",
   "metadata": {},
   "source": [
    "<div class=\"alert alert-info\">\n",
    "<b>Question:</b> Take some time to formulate questions you have about this pandemic and the data you would need to answer the questions. In addition, add the link of an article you found interesting with a description an why it interested you. \n",
    "   </div>"
   ]
  },
  {
   "cell_type": "markdown",
   "metadata": {},
   "source": [
    "**Your questions:** *here*\n",
    "\n",
    "**Data you would need:** *here*\n",
    "\n",
    "\n",
    "**Article:** *link*"
   ]
  },
  {
   "cell_type": "markdown",
   "metadata": {},
   "source": [
    "## Acquiring and preparing data <a id='subsection 1b'></a>\n",
    "\n",
    "You will be looking at data from the COVID-19 Data Repository at Johns Hopkins University. You can find the raw data [here](https://github.com/CSSEGISandData/COVID-19/tree/master/csse_covid_19_data/csse_covid_19_time_series). \n",
    "\n",
    "You will be investigating the cumulative number of cases, new cases, and fatalities in a month for counties in states accross the US, from March 2020 to May 2021.\n",
    "\n",
    "The following table, `covid_data`, contains the data collected for each month from March 2020 through May 2021 for every county in the United States."
   ]
  },
  {
   "cell_type": "code",
   "execution_count": 14,
   "metadata": {},
   "outputs": [],
   "source": [
    "covid_data = Table().read_table(\"data/covid_timeseries.csv\")"
   ]
  },
  {
   "cell_type": "markdown",
   "metadata": {},
   "source": [
    "Here are some of the important fields in our data set that you will focus on:\n",
    "\n",
    "|Variable Name   | Description |\n",
    "|:---|:---|\n",
    "|Admin2 | County name |\n",
    "|Province_State | State name |\n",
    "|month| Reporting month represented as the last day of the month, e.g., 3.31.20 |\n",
    "|total_cases | Cumulative number of COVID cases |\n",
    "|month_cases| New cases reported in the month |\n",
    "|total_fatalities | Cumulative number of fatal COVID cases |\n",
    "|month_fatalities| New fatal cases reported in the month |\n",
    "|Population | Population in the county |"
   ]
  },
  {
   "cell_type": "markdown",
   "metadata": {},
   "source": [
    "Let's take a look at the data."
   ]
  },
  {
   "cell_type": "code",
   "execution_count": 3,
   "metadata": {},
   "outputs": [
    {
     "data": {
      "text/html": [
       "<table border=\"1\" class=\"dataframe\">\n",
       "    <thead>\n",
       "        <tr>\n",
       "            <th>iso3</th> <th>FIPS</th> <th>Admin2</th> <th>Province_State</th> <th>Country_Region</th> <th>Lat</th> <th>Long_</th> <th>Combined_Key</th> <th>month</th> <th>cases</th> <th>cases_new</th> <th>Population</th> <th>fatalities</th> <th>fatalities_new</th>\n",
       "        </tr>\n",
       "    </thead>\n",
       "    <tbody>\n",
       "        <tr>\n",
       "            <td>USA </td> <td>1001</td> <td>Autauga </td> <td>Alabama       </td> <td>US            </td> <td>32.5395</td> <td>-86.6441</td> <td>Autauga, Alabama, US </td> <td>3/20 </td> <td>8    </td> <td>8        </td> <td>55869     </td> <td>0         </td> <td>0             </td>\n",
       "        </tr>\n",
       "        <tr>\n",
       "            <td>USA </td> <td>1003</td> <td>Baldwin </td> <td>Alabama       </td> <td>US            </td> <td>30.7277</td> <td>-87.7221</td> <td>Baldwin, Alabama, US </td> <td>3/20 </td> <td>23   </td> <td>23       </td> <td>223234    </td> <td>1         </td> <td>1             </td>\n",
       "        </tr>\n",
       "        <tr>\n",
       "            <td>USA </td> <td>1005</td> <td>Barbour </td> <td>Alabama       </td> <td>US            </td> <td>31.8683</td> <td>-85.3871</td> <td>Barbour, Alabama, US </td> <td>3/20 </td> <td>0    </td> <td>0        </td> <td>24686     </td> <td>0         </td> <td>0             </td>\n",
       "        </tr>\n",
       "        <tr>\n",
       "            <td>USA </td> <td>1007</td> <td>Bibb    </td> <td>Alabama       </td> <td>US            </td> <td>32.9964</td> <td>-87.1251</td> <td>Bibb, Alabama, US    </td> <td>3/20 </td> <td>3    </td> <td>3        </td> <td>22394     </td> <td>0         </td> <td>0             </td>\n",
       "        </tr>\n",
       "        <tr>\n",
       "            <td>USA </td> <td>1009</td> <td>Blount  </td> <td>Alabama       </td> <td>US            </td> <td>33.9821</td> <td>-86.5679</td> <td>Blount, Alabama, US  </td> <td>3/20 </td> <td>7    </td> <td>7        </td> <td>57826     </td> <td>0         </td> <td>0             </td>\n",
       "        </tr>\n",
       "        <tr>\n",
       "            <td>USA </td> <td>1011</td> <td>Bullock </td> <td>Alabama       </td> <td>US            </td> <td>32.1003</td> <td>-85.7127</td> <td>Bullock, Alabama, US </td> <td>3/20 </td> <td>2    </td> <td>2        </td> <td>10101     </td> <td>0         </td> <td>0             </td>\n",
       "        </tr>\n",
       "        <tr>\n",
       "            <td>USA </td> <td>1013</td> <td>Butler  </td> <td>Alabama       </td> <td>US            </td> <td>31.753 </td> <td>-86.6806</td> <td>Butler, Alabama, US  </td> <td>3/20 </td> <td>1    </td> <td>1        </td> <td>19448     </td> <td>0         </td> <td>0             </td>\n",
       "        </tr>\n",
       "        <tr>\n",
       "            <td>USA </td> <td>1015</td> <td>Calhoun </td> <td>Alabama       </td> <td>US            </td> <td>33.7748</td> <td>-85.8263</td> <td>Calhoun, Alabama, US </td> <td>3/20 </td> <td>10   </td> <td>10       </td> <td>113605    </td> <td>0         </td> <td>0             </td>\n",
       "        </tr>\n",
       "        <tr>\n",
       "            <td>USA </td> <td>1017</td> <td>Chambers</td> <td>Alabama       </td> <td>US            </td> <td>32.9136</td> <td>-85.3907</td> <td>Chambers, Alabama, US</td> <td>3/20 </td> <td>40   </td> <td>40       </td> <td>33254     </td> <td>4         </td> <td>4             </td>\n",
       "        </tr>\n",
       "        <tr>\n",
       "            <td>USA </td> <td>1019</td> <td>Cherokee</td> <td>Alabama       </td> <td>US            </td> <td>34.1781</td> <td>-85.6064</td> <td>Cherokee, Alabama, US</td> <td>3/20 </td> <td>1    </td> <td>1        </td> <td>26196     </td> <td>0         </td> <td>0             </td>\n",
       "        </tr>\n",
       "    </tbody>\n",
       "</table>\n",
       "<p>... (48560 rows omitted)</p>"
      ],
      "text/plain": [
       "<IPython.core.display.HTML object>"
      ]
     },
     "metadata": {},
     "output_type": "display_data"
    }
   ],
   "source": [
    "# Run this cell show the first ten rows of the data\n",
    "covid_data.show(10)"
   ]
  },
  {
   "cell_type": "markdown",
   "metadata": {},
   "source": [
    "<div class=\"alert alert-info\">\n",
    "<b>Question:</b> We want to learn more about the dataset. First, how many total rows are in this table? \n",
    "</div>"
   ]
  },
  {
   "cell_type": "code",
   "execution_count": 18,
   "metadata": {},
   "outputs": [
    {
     "data": {
      "text/plain": [
       "48570"
      ]
     },
     "execution_count": 18,
     "metadata": {},
     "output_type": "execute_result"
    }
   ],
   "source": [
    "total_rows = covid_data.num_rows\n",
    "total_rows"
   ]
  },
  {
   "cell_type": "markdown",
   "metadata": {},
   "source": [
    "**Your answer here:**"
   ]
  },
  {
   "cell_type": "markdown",
   "metadata": {},
   "source": [
    "<div class=\"alert alert-info\">\n",
    "<b>Question:</b> What does each row represent?\n",
    "   </div>    "
   ]
  },
  {
   "cell_type": "markdown",
   "metadata": {},
   "source": [
    "*Insert answer here*"
   ]
  },
  {
   "cell_type": "markdown",
   "metadata": {},
   "source": [
    "<div class=\"alert alert-info\">\n",
    "<b>Question:</b> This table has many columns that are not particularly informative for our investigation. Which ones can we ignore? Which ones do we need to keep for our analysis?  \n",
    "</div>"
   ]
  },
  {
   "cell_type": "markdown",
   "metadata": {},
   "source": [
    "**Your answer here:**"
   ]
  },
  {
   "cell_type": "markdown",
   "metadata": {},
   "source": [
    "Before we eliminate these columns, let's take a look at some of them to confirm that we don't need them.\n",
    "\n",
    "It looks like `iso3` has only the value \"USA\" and that `Country_Region` is always \"US\". Let's check that this is the case by grouping on each of these columns."
   ]
  },
  {
   "cell_type": "code",
   "execution_count": 4,
   "metadata": {},
   "outputs": [
    {
     "data": {
      "text/html": [
       "<table border=\"1\" class=\"dataframe\">\n",
       "    <thead>\n",
       "        <tr>\n",
       "            <th>iso3</th> <th>count</th>\n",
       "        </tr>\n",
       "    </thead>\n",
       "    <tbody>\n",
       "        <tr>\n",
       "            <td>ASM </td> <td>15   </td>\n",
       "        </tr>\n",
       "        <tr>\n",
       "            <td>GUM </td> <td>15   </td>\n",
       "        </tr>\n",
       "        <tr>\n",
       "            <td>MNP </td> <td>15   </td>\n",
       "        </tr>\n",
       "        <tr>\n",
       "            <td>PRI </td> <td>1170 </td>\n",
       "        </tr>\n",
       "        <tr>\n",
       "            <td>USA </td> <td>47340</td>\n",
       "        </tr>\n",
       "        <tr>\n",
       "            <td>VIR </td> <td>15   </td>\n",
       "        </tr>\n",
       "    </tbody>\n",
       "</table>"
      ],
      "text/plain": [
       "iso3 | count\n",
       "ASM  | 15\n",
       "GUM  | 15\n",
       "MNP  | 15\n",
       "PRI  | 1170\n",
       "USA  | 47340\n",
       "VIR  | 15"
      ]
     },
     "execution_count": 4,
     "metadata": {},
     "output_type": "execute_result"
    }
   ],
   "source": [
    "covid_data.group('iso3')"
   ]
  },
  {
   "cell_type": "code",
   "execution_count": 5,
   "metadata": {},
   "outputs": [
    {
     "data": {
      "text/html": [
       "<table border=\"1\" class=\"dataframe\">\n",
       "    <thead>\n",
       "        <tr>\n",
       "            <th>Country_Region</th> <th>count</th>\n",
       "        </tr>\n",
       "    </thead>\n",
       "    <tbody>\n",
       "        <tr>\n",
       "            <td>US            </td> <td>48570</td>\n",
       "        </tr>\n",
       "    </tbody>\n",
       "</table>"
      ],
      "text/plain": [
       "Country_Region | count\n",
       "US             | 48570"
      ]
     },
     "execution_count": 5,
     "metadata": {},
     "output_type": "execute_result"
    }
   ],
   "source": [
    "covid_data.group('Country_Region')"
   ]
  },
  {
   "cell_type": "markdown",
   "metadata": {},
   "source": [
    "<div class=\"alert alert-info\">\n",
    "<b>Question:</b> What did you learn? \n",
    "Try searching on the Internet to find out about these iso3 codes. \n",
    "What are they?\n",
    "   </div> "
   ]
  },
  {
   "cell_type": "markdown",
   "metadata": {},
   "source": [
    "**Your answer here:**"
   ]
  },
  {
   "cell_type": "markdown",
   "metadata": {},
   "source": [
    "We are primarily interested in the COVID cases in the states. \n",
    "Selected the rows that correspond to states."
   ]
  },
  {
   "cell_type": "code",
   "execution_count": 12,
   "metadata": {},
   "outputs": [
    {
     "data": {
      "text/html": [
       "<table border=\"1\" class=\"dataframe\">\n",
       "    <thead>\n",
       "        <tr>\n",
       "            <th>iso3</th> <th>FIPS</th> <th>Admin2</th> <th>Province_State</th> <th>Country_Region</th> <th>Lat</th> <th>Long_</th> <th>Combined_Key</th> <th>month</th> <th>cases</th> <th>cases_new</th> <th>Population</th> <th>fatalities</th> <th>fatalities_new</th>\n",
       "        </tr>\n",
       "    </thead>\n",
       "    <tbody>\n",
       "        <tr>\n",
       "            <td>USA </td> <td>1001</td> <td>Autauga </td> <td>Alabama       </td> <td>US            </td> <td>32.5395</td> <td>-86.6441</td> <td>Autauga, Alabama, US </td> <td>3/20 </td> <td>8    </td> <td>8        </td> <td>55869     </td> <td>0         </td> <td>0             </td>\n",
       "        </tr>\n",
       "        <tr>\n",
       "            <td>USA </td> <td>1003</td> <td>Baldwin </td> <td>Alabama       </td> <td>US            </td> <td>30.7277</td> <td>-87.7221</td> <td>Baldwin, Alabama, US </td> <td>3/20 </td> <td>23   </td> <td>23       </td> <td>223234    </td> <td>1         </td> <td>1             </td>\n",
       "        </tr>\n",
       "        <tr>\n",
       "            <td>USA </td> <td>1005</td> <td>Barbour </td> <td>Alabama       </td> <td>US            </td> <td>31.8683</td> <td>-85.3871</td> <td>Barbour, Alabama, US </td> <td>3/20 </td> <td>0    </td> <td>0        </td> <td>24686     </td> <td>0         </td> <td>0             </td>\n",
       "        </tr>\n",
       "        <tr>\n",
       "            <td>USA </td> <td>1007</td> <td>Bibb    </td> <td>Alabama       </td> <td>US            </td> <td>32.9964</td> <td>-87.1251</td> <td>Bibb, Alabama, US    </td> <td>3/20 </td> <td>3    </td> <td>3        </td> <td>22394     </td> <td>0         </td> <td>0             </td>\n",
       "        </tr>\n",
       "        <tr>\n",
       "            <td>USA </td> <td>1009</td> <td>Blount  </td> <td>Alabama       </td> <td>US            </td> <td>33.9821</td> <td>-86.5679</td> <td>Blount, Alabama, US  </td> <td>3/20 </td> <td>7    </td> <td>7        </td> <td>57826     </td> <td>0         </td> <td>0             </td>\n",
       "        </tr>\n",
       "        <tr>\n",
       "            <td>USA </td> <td>1011</td> <td>Bullock </td> <td>Alabama       </td> <td>US            </td> <td>32.1003</td> <td>-85.7127</td> <td>Bullock, Alabama, US </td> <td>3/20 </td> <td>2    </td> <td>2        </td> <td>10101     </td> <td>0         </td> <td>0             </td>\n",
       "        </tr>\n",
       "        <tr>\n",
       "            <td>USA </td> <td>1013</td> <td>Butler  </td> <td>Alabama       </td> <td>US            </td> <td>31.753 </td> <td>-86.6806</td> <td>Butler, Alabama, US  </td> <td>3/20 </td> <td>1    </td> <td>1        </td> <td>19448     </td> <td>0         </td> <td>0             </td>\n",
       "        </tr>\n",
       "        <tr>\n",
       "            <td>USA </td> <td>1015</td> <td>Calhoun </td> <td>Alabama       </td> <td>US            </td> <td>33.7748</td> <td>-85.8263</td> <td>Calhoun, Alabama, US </td> <td>3/20 </td> <td>10   </td> <td>10       </td> <td>113605    </td> <td>0         </td> <td>0             </td>\n",
       "        </tr>\n",
       "        <tr>\n",
       "            <td>USA </td> <td>1017</td> <td>Chambers</td> <td>Alabama       </td> <td>US            </td> <td>32.9136</td> <td>-85.3907</td> <td>Chambers, Alabama, US</td> <td>3/20 </td> <td>40   </td> <td>40       </td> <td>33254     </td> <td>4         </td> <td>4             </td>\n",
       "        </tr>\n",
       "        <tr>\n",
       "            <td>USA </td> <td>1019</td> <td>Cherokee</td> <td>Alabama       </td> <td>US            </td> <td>34.1781</td> <td>-85.6064</td> <td>Cherokee, Alabama, US</td> <td>3/20 </td> <td>1    </td> <td>1        </td> <td>26196     </td> <td>0         </td> <td>0             </td>\n",
       "        </tr>\n",
       "    </tbody>\n",
       "</table>\n",
       "<p>... (47330 rows omitted)</p>"
      ],
      "text/plain": [
       "<IPython.core.display.HTML object>"
      ]
     },
     "metadata": {},
     "output_type": "display_data"
    }
   ],
   "source": [
    "covid_us = covid_data.where('iso3','USA')\n",
    "covid_us.show(10)\n"
   ]
  },
  {
   "cell_type": "markdown",
   "metadata": {},
   "source": [
    "Now how many rows remain?"
   ]
  },
  {
   "cell_type": "code",
   "execution_count": 8,
   "metadata": {},
   "outputs": [
    {
     "data": {
      "text/plain": [
       "47340"
      ]
     },
     "execution_count": 8,
     "metadata": {},
     "output_type": "execute_result"
    }
   ],
   "source": [
    "covid_us.num_rows"
   ]
  },
  {
   "cell_type": "markdown",
   "metadata": {},
   "source": [
    "Drop the columns: `iso3`, `Country_Region`, `Lat`, `Long_'`, `Combined_Key`\n",
    "\n",
    "Keep the column `FIPS` because it uniquely identifies a county. For example, Montana and Wyoming both have a county called \"Big Horn\". \n",
    "\n",
    "Next week, we will make maps, and then the columns `Lat` and `Long_` will be useful, but until then, drop them. "
   ]
  },
  {
   "cell_type": "code",
   "execution_count": 19,
   "metadata": {},
   "outputs": [
    {
     "data": {
      "text/html": [
       "<table border=\"1\" class=\"dataframe\">\n",
       "    <thead>\n",
       "        <tr>\n",
       "            <th>FIPS</th> <th>Admin2</th> <th>Province_State</th> <th>month</th> <th>cases</th> <th>cases_new</th> <th>Population</th> <th>fatalities</th> <th>fatalities_new</th>\n",
       "        </tr>\n",
       "    </thead>\n",
       "    <tbody>\n",
       "        <tr>\n",
       "            <td>1001</td> <td>Autauga </td> <td>Alabama       </td> <td>3/20 </td> <td>8    </td> <td>8        </td> <td>55869     </td> <td>0         </td> <td>0             </td>\n",
       "        </tr>\n",
       "        <tr>\n",
       "            <td>1003</td> <td>Baldwin </td> <td>Alabama       </td> <td>3/20 </td> <td>23   </td> <td>23       </td> <td>223234    </td> <td>1         </td> <td>1             </td>\n",
       "        </tr>\n",
       "        <tr>\n",
       "            <td>1005</td> <td>Barbour </td> <td>Alabama       </td> <td>3/20 </td> <td>0    </td> <td>0        </td> <td>24686     </td> <td>0         </td> <td>0             </td>\n",
       "        </tr>\n",
       "        <tr>\n",
       "            <td>1007</td> <td>Bibb    </td> <td>Alabama       </td> <td>3/20 </td> <td>3    </td> <td>3        </td> <td>22394     </td> <td>0         </td> <td>0             </td>\n",
       "        </tr>\n",
       "        <tr>\n",
       "            <td>1009</td> <td>Blount  </td> <td>Alabama       </td> <td>3/20 </td> <td>7    </td> <td>7        </td> <td>57826     </td> <td>0         </td> <td>0             </td>\n",
       "        </tr>\n",
       "        <tr>\n",
       "            <td>1011</td> <td>Bullock </td> <td>Alabama       </td> <td>3/20 </td> <td>2    </td> <td>2        </td> <td>10101     </td> <td>0         </td> <td>0             </td>\n",
       "        </tr>\n",
       "        <tr>\n",
       "            <td>1013</td> <td>Butler  </td> <td>Alabama       </td> <td>3/20 </td> <td>1    </td> <td>1        </td> <td>19448     </td> <td>0         </td> <td>0             </td>\n",
       "        </tr>\n",
       "        <tr>\n",
       "            <td>1015</td> <td>Calhoun </td> <td>Alabama       </td> <td>3/20 </td> <td>10   </td> <td>10       </td> <td>113605    </td> <td>0         </td> <td>0             </td>\n",
       "        </tr>\n",
       "        <tr>\n",
       "            <td>1017</td> <td>Chambers</td> <td>Alabama       </td> <td>3/20 </td> <td>40   </td> <td>40       </td> <td>33254     </td> <td>4         </td> <td>4             </td>\n",
       "        </tr>\n",
       "        <tr>\n",
       "            <td>1019</td> <td>Cherokee</td> <td>Alabama       </td> <td>3/20 </td> <td>1    </td> <td>1        </td> <td>26196     </td> <td>0         </td> <td>0             </td>\n",
       "        </tr>\n",
       "    </tbody>\n",
       "</table>\n",
       "<p>... (47330 rows omitted)</p>"
      ],
      "text/plain": [
       "<IPython.core.display.HTML object>"
      ]
     },
     "metadata": {},
     "output_type": "display_data"
    }
   ],
   "source": [
    "cols_to_drop = [\"iso3\", \"Country_Region\", \"Lat\", \"Long_\", \"Combined_Key\"]\n",
    "\n",
    "covid_us = covid_us.drop(cols_to_drop)\n",
    "\n",
    "covid_us.show(10)"
   ]
  },
  {
   "cell_type": "markdown",
   "metadata": {},
   "source": [
    "Let's give the remaining columns simpler, more meaningful names."
   ]
  },
  {
   "cell_type": "code",
   "execution_count": 20,
   "metadata": {},
   "outputs": [],
   "source": [
    "old_names = ['Admin2', 'Province_State', 'month']\n",
    "new_names = ['County', 'State', 'Date']"
   ]
  },
  {
   "cell_type": "code",
   "execution_count": 21,
   "metadata": {},
   "outputs": [],
   "source": [
    "covid_us = covid_us.relabel(old_names, new_names)"
   ]
  },
  {
   "cell_type": "code",
   "execution_count": 23,
   "metadata": {
    "scrolled": true
   },
   "outputs": [
    {
     "data": {
      "text/html": [
       "<table border=\"1\" class=\"dataframe\">\n",
       "    <thead>\n",
       "        <tr>\n",
       "            <th>FIPS</th> <th>County</th> <th>State</th> <th>Date</th> <th>cases</th> <th>cases_new</th> <th>Population</th> <th>fatalities</th> <th>fatalities_new</th>\n",
       "        </tr>\n",
       "    </thead>\n",
       "    <tbody>\n",
       "        <tr>\n",
       "            <td>1001</td> <td>Autauga </td> <td>Alabama</td> <td>3/20</td> <td>8    </td> <td>8        </td> <td>55869     </td> <td>0         </td> <td>0             </td>\n",
       "        </tr>\n",
       "        <tr>\n",
       "            <td>1003</td> <td>Baldwin </td> <td>Alabama</td> <td>3/20</td> <td>23   </td> <td>23       </td> <td>223234    </td> <td>1         </td> <td>1             </td>\n",
       "        </tr>\n",
       "        <tr>\n",
       "            <td>1005</td> <td>Barbour </td> <td>Alabama</td> <td>3/20</td> <td>0    </td> <td>0        </td> <td>24686     </td> <td>0         </td> <td>0             </td>\n",
       "        </tr>\n",
       "        <tr>\n",
       "            <td>1007</td> <td>Bibb    </td> <td>Alabama</td> <td>3/20</td> <td>3    </td> <td>3        </td> <td>22394     </td> <td>0         </td> <td>0             </td>\n",
       "        </tr>\n",
       "        <tr>\n",
       "            <td>1009</td> <td>Blount  </td> <td>Alabama</td> <td>3/20</td> <td>7    </td> <td>7        </td> <td>57826     </td> <td>0         </td> <td>0             </td>\n",
       "        </tr>\n",
       "        <tr>\n",
       "            <td>1011</td> <td>Bullock </td> <td>Alabama</td> <td>3/20</td> <td>2    </td> <td>2        </td> <td>10101     </td> <td>0         </td> <td>0             </td>\n",
       "        </tr>\n",
       "        <tr>\n",
       "            <td>1013</td> <td>Butler  </td> <td>Alabama</td> <td>3/20</td> <td>1    </td> <td>1        </td> <td>19448     </td> <td>0         </td> <td>0             </td>\n",
       "        </tr>\n",
       "        <tr>\n",
       "            <td>1015</td> <td>Calhoun </td> <td>Alabama</td> <td>3/20</td> <td>10   </td> <td>10       </td> <td>113605    </td> <td>0         </td> <td>0             </td>\n",
       "        </tr>\n",
       "        <tr>\n",
       "            <td>1017</td> <td>Chambers</td> <td>Alabama</td> <td>3/20</td> <td>40   </td> <td>40       </td> <td>33254     </td> <td>4         </td> <td>4             </td>\n",
       "        </tr>\n",
       "        <tr>\n",
       "            <td>1019</td> <td>Cherokee</td> <td>Alabama</td> <td>3/20</td> <td>1    </td> <td>1        </td> <td>26196     </td> <td>0         </td> <td>0             </td>\n",
       "        </tr>\n",
       "    </tbody>\n",
       "</table>\n",
       "<p>... (47330 rows omitted)</p>"
      ],
      "text/plain": [
       "<IPython.core.display.HTML object>"
      ]
     },
     "metadata": {},
     "output_type": "display_data"
    }
   ],
   "source": [
    "covid_us.show(10)"
   ]
  },
  {
   "cell_type": "markdown",
   "metadata": {},
   "source": [
    "<div class=\"alert alert-info\">\n",
    "<b>Question:</b> It's important to evalute our data source. What do you know about Johns Hopkins University? What motivations do they have for collecting this data? What data is missing?\n",
    "   </div>"
   ]
  },
  {
   "cell_type": "markdown",
   "metadata": {},
   "source": [
    "**Your answer here**"
   ]
  },
  {
   "cell_type": "markdown",
   "metadata": {},
   "source": [
    "## Conducting exploratory data analysis <a id='subsection 1c'></a>"
   ]
  },
  {
   "cell_type": "markdown",
   "metadata": {},
   "source": [
    "Visualizations help us to understand what the data is telling us. Compare the county with the most confirmed cases on April 1st with the next 9 most confirmed cases in a bar chart. "
   ]
  },
  {
   "cell_type": "markdown",
   "metadata": {},
   "source": [
    "### Cases in March, 2020\n",
    "\n",
    "\n",
    "Let's find out which counties had the highest number of cases in March 2020.\n",
    "\n",
    "First, we will need to select the rows in the table for the date of March 31, 2020. "
   ]
  },
  {
   "cell_type": "code",
   "execution_count": 13,
   "metadata": {},
   "outputs": [],
   "source": [
    "covid_mar20 = covid_us.where('Date', '3/20')"
   ]
  },
  {
   "cell_type": "code",
   "execution_count": 14,
   "metadata": {
    "scrolled": true
   },
   "outputs": [
    {
     "data": {
      "text/html": [
       "<table border=\"1\" class=\"dataframe\">\n",
       "    <thead>\n",
       "        <tr>\n",
       "            <th>FIPS</th> <th>County</th> <th>State</th> <th>Date</th> <th>cases</th> <th>cases_new</th> <th>Population</th> <th>fatalities</th> <th>fatalities_new</th>\n",
       "        </tr>\n",
       "    </thead>\n",
       "    <tbody>\n",
       "        <tr>\n",
       "            <td>1001</td> <td>Autauga </td> <td>Alabama</td> <td>3/20</td> <td>8    </td> <td>8        </td> <td>55869     </td> <td>0         </td> <td>0             </td>\n",
       "        </tr>\n",
       "        <tr>\n",
       "            <td>1003</td> <td>Baldwin </td> <td>Alabama</td> <td>3/20</td> <td>23   </td> <td>23       </td> <td>223234    </td> <td>1         </td> <td>1             </td>\n",
       "        </tr>\n",
       "        <tr>\n",
       "            <td>1005</td> <td>Barbour </td> <td>Alabama</td> <td>3/20</td> <td>0    </td> <td>0        </td> <td>24686     </td> <td>0         </td> <td>0             </td>\n",
       "        </tr>\n",
       "        <tr>\n",
       "            <td>1007</td> <td>Bibb    </td> <td>Alabama</td> <td>3/20</td> <td>3    </td> <td>3        </td> <td>22394     </td> <td>0         </td> <td>0             </td>\n",
       "        </tr>\n",
       "        <tr>\n",
       "            <td>1009</td> <td>Blount  </td> <td>Alabama</td> <td>3/20</td> <td>7    </td> <td>7        </td> <td>57826     </td> <td>0         </td> <td>0             </td>\n",
       "        </tr>\n",
       "        <tr>\n",
       "            <td>1011</td> <td>Bullock </td> <td>Alabama</td> <td>3/20</td> <td>2    </td> <td>2        </td> <td>10101     </td> <td>0         </td> <td>0             </td>\n",
       "        </tr>\n",
       "        <tr>\n",
       "            <td>1013</td> <td>Butler  </td> <td>Alabama</td> <td>3/20</td> <td>1    </td> <td>1        </td> <td>19448     </td> <td>0         </td> <td>0             </td>\n",
       "        </tr>\n",
       "        <tr>\n",
       "            <td>1015</td> <td>Calhoun </td> <td>Alabama</td> <td>3/20</td> <td>10   </td> <td>10       </td> <td>113605    </td> <td>0         </td> <td>0             </td>\n",
       "        </tr>\n",
       "        <tr>\n",
       "            <td>1017</td> <td>Chambers</td> <td>Alabama</td> <td>3/20</td> <td>40   </td> <td>40       </td> <td>33254     </td> <td>4         </td> <td>4             </td>\n",
       "        </tr>\n",
       "        <tr>\n",
       "            <td>1019</td> <td>Cherokee</td> <td>Alabama</td> <td>3/20</td> <td>1    </td> <td>1        </td> <td>26196     </td> <td>0         </td> <td>0             </td>\n",
       "        </tr>\n",
       "    </tbody>\n",
       "</table>\n",
       "<p>... (3146 rows omitted)</p>"
      ],
      "text/plain": [
       "<IPython.core.display.HTML object>"
      ]
     },
     "metadata": {},
     "output_type": "display_data"
    }
   ],
   "source": [
    "covid_mar20.show(10)"
   ]
  },
  {
   "cell_type": "markdown",
   "metadata": {},
   "source": [
    "<div class=\"alert alert-info\">\n",
    "<b>Question:</b> Next, sort the dataset to show the counties with the highest number of new cases for that month.   \n",
    "    \n",
    "   </div>"
   ]
  },
  {
   "cell_type": "code",
   "execution_count": 15,
   "metadata": {},
   "outputs": [
    {
     "data": {
      "text/html": [
       "<table border=\"1\" class=\"dataframe\">\n",
       "    <thead>\n",
       "        <tr>\n",
       "            <th>FIPS</th> <th>County</th> <th>State</th> <th>Date</th> <th>cases</th> <th>cases_new</th> <th>Population</th> <th>fatalities</th> <th>fatalities_new</th>\n",
       "        </tr>\n",
       "    </thead>\n",
       "    <tbody>\n",
       "        <tr>\n",
       "            <td>36081</td> <td>Queens     </td> <td>New York  </td> <td>3/20</td> <td>13691</td> <td>13691    </td> <td>2253858   </td> <td>660       </td> <td>660           </td>\n",
       "        </tr>\n",
       "        <tr>\n",
       "            <td>36047</td> <td>Kings      </td> <td>New York  </td> <td>3/20</td> <td>11917</td> <td>11917    </td> <td>2559903   </td> <td>662       </td> <td>662           </td>\n",
       "        </tr>\n",
       "        <tr>\n",
       "            <td>36119</td> <td>Westchester</td> <td>New York  </td> <td>3/20</td> <td>9967 </td> <td>9967     </td> <td>967506    </td> <td>10        </td> <td>10            </td>\n",
       "        </tr>\n",
       "        <tr>\n",
       "            <td>36059</td> <td>Nassau     </td> <td>New York  </td> <td>3/20</td> <td>8544 </td> <td>8544     </td> <td>1356924   </td> <td>48        </td> <td>48            </td>\n",
       "        </tr>\n",
       "        <tr>\n",
       "            <td>36005</td> <td>Bronx      </td> <td>New York  </td> <td>3/20</td> <td>7766 </td> <td>7766     </td> <td>1418207   </td> <td>465       </td> <td>465           </td>\n",
       "        </tr>\n",
       "        <tr>\n",
       "            <td>36061</td> <td>New York   </td> <td>New York  </td> <td>3/20</td> <td>6876 </td> <td>6876     </td> <td>1628706   </td> <td>292       </td> <td>292           </td>\n",
       "        </tr>\n",
       "        <tr>\n",
       "            <td>36103</td> <td>Suffolk    </td> <td>New York  </td> <td>3/20</td> <td>6713 </td> <td>6713     </td> <td>1476601   </td> <td>44        </td> <td>44            </td>\n",
       "        </tr>\n",
       "        <tr>\n",
       "            <td>17031</td> <td>Cook       </td> <td>Illinois  </td> <td>3/20</td> <td>4496 </td> <td>4494     </td> <td>5150233   </td> <td>61        </td> <td>61            </td>\n",
       "        </tr>\n",
       "        <tr>\n",
       "            <td>26163</td> <td>Wayne      </td> <td>Michigan  </td> <td>3/20</td> <td>3752 </td> <td>3752     </td> <td>1749343   </td> <td>142       </td> <td>142           </td>\n",
       "        </tr>\n",
       "        <tr>\n",
       "            <td>6037 </td> <td>Los Angeles</td> <td>California</td> <td>3/20</td> <td>3019 </td> <td>3018     </td> <td>10039107  </td> <td>54        </td> <td>54            </td>\n",
       "        </tr>\n",
       "    </tbody>\n",
       "</table>\n",
       "<p>... (3146 rows omitted)</p>"
      ],
      "text/plain": [
       "FIPS  | County      | State      | Date | cases | cases_new | Population | fatalities | fatalities_new\n",
       "36081 | Queens      | New York   | 3/20 | 13691 | 13691     | 2253858    | 660        | 660\n",
       "36047 | Kings       | New York   | 3/20 | 11917 | 11917     | 2559903    | 662        | 662\n",
       "36119 | Westchester | New York   | 3/20 | 9967  | 9967      | 967506     | 10         | 10\n",
       "36059 | Nassau      | New York   | 3/20 | 8544  | 8544      | 1356924    | 48         | 48\n",
       "36005 | Bronx       | New York   | 3/20 | 7766  | 7766      | 1418207    | 465        | 465\n",
       "36061 | New York    | New York   | 3/20 | 6876  | 6876      | 1628706    | 292        | 292\n",
       "36103 | Suffolk     | New York   | 3/20 | 6713  | 6713      | 1476601    | 44         | 44\n",
       "17031 | Cook        | Illinois   | 3/20 | 4496  | 4494      | 5150233    | 61         | 61\n",
       "26163 | Wayne       | Michigan   | 3/20 | 3752  | 3752      | 1749343    | 142        | 142\n",
       "6037  | Los Angeles | California | 3/20 | 3019  | 3018      | 10039107   | 54         | 54\n",
       "... (3146 rows omitted)"
      ]
     },
     "execution_count": 15,
     "metadata": {},
     "output_type": "execute_result"
    }
   ],
   "source": [
    "new_cases_sorted = covid_mar20.sort('cases_new', descending=True)\n",
    "new_cases_sorted"
   ]
  },
  {
   "cell_type": "markdown",
   "metadata": {},
   "source": [
    "<div class=\"alert alert-info\">\n",
    "<b>Question:</b> Now, cut down the table to only have the top twenty from sorted_cases above.\n",
    "   </div>"
   ]
  },
  {
   "cell_type": "code",
   "execution_count": null,
   "metadata": {},
   "outputs": [],
   "source": [
    "top_twenty = new_cases_sorted...(np.arange(20))\n",
    "top_twenty"
   ]
  },
  {
   "cell_type": "code",
   "execution_count": 17,
   "metadata": {},
   "outputs": [
    {
     "data": {
      "text/html": [
       "<table border=\"1\" class=\"dataframe\">\n",
       "    <thead>\n",
       "        <tr>\n",
       "            <th>FIPS</th> <th>County</th> <th>State</th> <th>Date</th> <th>cases</th> <th>cases_new</th> <th>Population</th> <th>fatalities</th> <th>fatalities_new</th>\n",
       "        </tr>\n",
       "    </thead>\n",
       "    <tbody>\n",
       "        <tr>\n",
       "            <td>36081</td> <td>Queens     </td> <td>New York  </td> <td>3/20</td> <td>13691</td> <td>13691    </td> <td>2253858   </td> <td>660       </td> <td>660           </td>\n",
       "        </tr>\n",
       "        <tr>\n",
       "            <td>36047</td> <td>Kings      </td> <td>New York  </td> <td>3/20</td> <td>11917</td> <td>11917    </td> <td>2559903   </td> <td>662       </td> <td>662           </td>\n",
       "        </tr>\n",
       "        <tr>\n",
       "            <td>36119</td> <td>Westchester</td> <td>New York  </td> <td>3/20</td> <td>9967 </td> <td>9967     </td> <td>967506    </td> <td>10        </td> <td>10            </td>\n",
       "        </tr>\n",
       "        <tr>\n",
       "            <td>36059</td> <td>Nassau     </td> <td>New York  </td> <td>3/20</td> <td>8544 </td> <td>8544     </td> <td>1356924   </td> <td>48        </td> <td>48            </td>\n",
       "        </tr>\n",
       "        <tr>\n",
       "            <td>36005</td> <td>Bronx      </td> <td>New York  </td> <td>3/20</td> <td>7766 </td> <td>7766     </td> <td>1418207   </td> <td>465       </td> <td>465           </td>\n",
       "        </tr>\n",
       "        <tr>\n",
       "            <td>36061</td> <td>New York   </td> <td>New York  </td> <td>3/20</td> <td>6876 </td> <td>6876     </td> <td>1628706   </td> <td>292       </td> <td>292           </td>\n",
       "        </tr>\n",
       "        <tr>\n",
       "            <td>36103</td> <td>Suffolk    </td> <td>New York  </td> <td>3/20</td> <td>6713 </td> <td>6713     </td> <td>1476601   </td> <td>44        </td> <td>44            </td>\n",
       "        </tr>\n",
       "        <tr>\n",
       "            <td>17031</td> <td>Cook       </td> <td>Illinois  </td> <td>3/20</td> <td>4496 </td> <td>4494     </td> <td>5150233   </td> <td>61        </td> <td>61            </td>\n",
       "        </tr>\n",
       "        <tr>\n",
       "            <td>26163</td> <td>Wayne      </td> <td>Michigan  </td> <td>3/20</td> <td>3752 </td> <td>3752     </td> <td>1749343   </td> <td>142       </td> <td>142           </td>\n",
       "        </tr>\n",
       "        <tr>\n",
       "            <td>6037 </td> <td>Los Angeles</td> <td>California</td> <td>3/20</td> <td>3019 </td> <td>3018     </td> <td>10039107  </td> <td>54        </td> <td>54            </td>\n",
       "        </tr>\n",
       "    </tbody>\n",
       "</table>\n",
       "<p>... (10 rows omitted)</p>"
      ],
      "text/plain": [
       "FIPS  | County      | State      | Date | cases | cases_new | Population | fatalities | fatalities_new\n",
       "36081 | Queens      | New York   | 3/20 | 13691 | 13691     | 2253858    | 660        | 660\n",
       "36047 | Kings       | New York   | 3/20 | 11917 | 11917     | 2559903    | 662        | 662\n",
       "36119 | Westchester | New York   | 3/20 | 9967  | 9967      | 967506     | 10         | 10\n",
       "36059 | Nassau      | New York   | 3/20 | 8544  | 8544      | 1356924    | 48         | 48\n",
       "36005 | Bronx       | New York   | 3/20 | 7766  | 7766      | 1418207    | 465        | 465\n",
       "36061 | New York    | New York   | 3/20 | 6876  | 6876      | 1628706    | 292        | 292\n",
       "36103 | Suffolk     | New York   | 3/20 | 6713  | 6713      | 1476601    | 44         | 44\n",
       "17031 | Cook        | Illinois   | 3/20 | 4496  | 4494      | 5150233    | 61         | 61\n",
       "26163 | Wayne       | Michigan   | 3/20 | 3752  | 3752      | 1749343    | 142        | 142\n",
       "6037  | Los Angeles | California | 3/20 | 3019  | 3018      | 10039107   | 54         | 54\n",
       "... (10 rows omitted)"
      ]
     },
     "execution_count": 17,
     "metadata": {},
     "output_type": "execute_result"
    }
   ],
   "source": [
    "#KEY\n",
    "top_twenty = new_cases_sorted.take(np.arange(20))\n",
    "top_twenty"
   ]
  },
  {
   "cell_type": "markdown",
   "metadata": {},
   "source": [
    "<div class=\"alert alert-info\">\n",
    "<b>Question:</b> Next, create a bar chart to visualize the comparison between the top_ten counties for the number of cases on April 1st.\n",
    "   </div>"
   ]
  },
  {
   "cell_type": "code",
   "execution_count": null,
   "metadata": {},
   "outputs": [],
   "source": [
    "top_twenty...(\"...\", \"...\")"
   ]
  },
  {
   "cell_type": "code",
   "execution_count": 18,
   "metadata": {},
   "outputs": [
    {
     "data": {
      "image/png": "[encoded data removed]",
      "text/plain": [
       "<Figure size 432x720 with 1 Axes>"
      ]
     },
     "metadata": {},
     "output_type": "display_data"
    }
   ],
   "source": [
    "top_twenty.barh(\"County\", \"cases_new\")"
   ]
  },
  {
   "cell_type": "markdown",
   "metadata": {},
   "source": [
    "## Cases pers 100,000 people"
   ]
  },
  {
   "cell_type": "code",
   "execution_count": 19,
   "metadata": {},
   "outputs": [
    {
     "data": {
      "text/html": [
       "<table border=\"1\" class=\"dataframe\">\n",
       "    <thead>\n",
       "        <tr>\n",
       "            <th>FIPS</th> <th>County</th> <th>State</th> <th>Date</th> <th>cases</th> <th>cases_new</th> <th>Population</th> <th>fatalities</th> <th>fatalities_new</th> <th>cases_per100k</th>\n",
       "        </tr>\n",
       "    </thead>\n",
       "    <tbody>\n",
       "        <tr>\n",
       "            <td>36119</td> <td>Westchester</td> <td>New York </td> <td>3/20</td> <td>9967 </td> <td>9967     </td> <td>967506    </td> <td>10        </td> <td>10            </td> <td>1030.17      </td>\n",
       "        </tr>\n",
       "        <tr>\n",
       "            <td>36087</td> <td>Rockland   </td> <td>New York </td> <td>3/20</td> <td>2863 </td> <td>2863     </td> <td>325789    </td> <td>8         </td> <td>8             </td> <td>878.79       </td>\n",
       "        </tr>\n",
       "        <tr>\n",
       "            <td>16013</td> <td>Blaine     </td> <td>Idaho    </td> <td>3/20</td> <td>192  </td> <td>192      </td> <td>23021     </td> <td>2         </td> <td>2             </td> <td>834.021      </td>\n",
       "        </tr>\n",
       "        <tr>\n",
       "            <td>36059</td> <td>Nassau     </td> <td>New York </td> <td>3/20</td> <td>8544 </td> <td>8544     </td> <td>1356924   </td> <td>48        </td> <td>48            </td> <td>629.659      </td>\n",
       "        </tr>\n",
       "        <tr>\n",
       "            <td>36081</td> <td>Queens     </td> <td>New York </td> <td>3/20</td> <td>13691</td> <td>13691    </td> <td>2253858   </td> <td>660       </td> <td>660           </td> <td>607.447      </td>\n",
       "        </tr>\n",
       "        <tr>\n",
       "            <td>36085</td> <td>Richmond   </td> <td>New York </td> <td>3/20</td> <td>2889 </td> <td>2889     </td> <td>476143    </td> <td>113       </td> <td>113           </td> <td>606.75       </td>\n",
       "        </tr>\n",
       "        <tr>\n",
       "            <td>36005</td> <td>Bronx      </td> <td>New York </td> <td>3/20</td> <td>7766 </td> <td>7766     </td> <td>1418207   </td> <td>465       </td> <td>465           </td> <td>547.593      </td>\n",
       "        </tr>\n",
       "        <tr>\n",
       "            <td>13095</td> <td>Dougherty  </td> <td>Georgia  </td> <td>3/20</td> <td>462  </td> <td>462      </td> <td>87956     </td> <td>18        </td> <td>18            </td> <td>525.263      </td>\n",
       "        </tr>\n",
       "        <tr>\n",
       "            <td>22071</td> <td>Orleans    </td> <td>Louisiana</td> <td>3/20</td> <td>1834 </td> <td>1834     </td> <td>390144    </td> <td>101       </td> <td>101           </td> <td>470.083      </td>\n",
       "        </tr>\n",
       "        <tr>\n",
       "            <td>8051 </td> <td>Gunnison   </td> <td>Colorado </td> <td>3/20</td> <td>82   </td> <td>82       </td> <td>17462     </td> <td>1         </td> <td>1             </td> <td>469.591      </td>\n",
       "        </tr>\n",
       "    </tbody>\n",
       "</table>\n",
       "<p>... (3135 rows omitted)</p>"
      ],
      "text/plain": [
       "FIPS  | County      | State     | Date | cases | cases_new | Population | fatalities | fatalities_new | cases_per100k\n",
       "36119 | Westchester | New York  | 3/20 | 9967  | 9967      | 967506     | 10         | 10             | 1030.17\n",
       "36087 | Rockland    | New York  | 3/20 | 2863  | 2863      | 325789     | 8          | 8              | 878.79\n",
       "16013 | Blaine      | Idaho     | 3/20 | 192   | 192       | 23021      | 2          | 2              | 834.021\n",
       "36059 | Nassau      | New York  | 3/20 | 8544  | 8544      | 1356924    | 48         | 48             | 629.659\n",
       "36081 | Queens      | New York  | 3/20 | 13691 | 13691     | 2253858    | 660        | 660            | 607.447\n",
       "36085 | Richmond    | New York  | 3/20 | 2889  | 2889      | 476143     | 113        | 113            | 606.75\n",
       "36005 | Bronx       | New York  | 3/20 | 7766  | 7766      | 1418207    | 465        | 465            | 547.593\n",
       "13095 | Dougherty   | Georgia   | 3/20 | 462   | 462       | 87956      | 18         | 18             | 525.263\n",
       "22071 | Orleans     | Louisiana | 3/20 | 1834  | 1834      | 390144     | 101        | 101            | 470.083\n",
       "8051  | Gunnison    | Colorado  | 3/20 | 82    | 82        | 17462      | 1          | 1              | 469.591\n",
       "... (3135 rows omitted)"
      ]
     },
     "execution_count": 19,
     "metadata": {},
     "output_type": "execute_result"
    }
   ],
   "source": [
    "covid_mar20 = covid_mar20.where(covid_mar20['Population'] > 0)\n",
    "covid_mar20['cases_per100k'] = 100000 * covid_mar20['cases_new'] / covid_mar20['Population']\n",
    "\n",
    "cases_per_sorted = covid_mar20.sort('cases_per100k', descending=True)\n",
    "cases_per_sorted"
   ]
  },
  {
   "cell_type": "markdown",
   "metadata": {},
   "source": [
    "<div class=\"alert alert-info\">\n",
    "<b>Question:</b> Let's look at the counties in California. First, return a table that only has the California counties. Then, select the counties from the table you want to compare to each other. \n",
    "   </div>"
   ]
  },
  {
   "cell_type": "code",
   "execution_count": null,
   "metadata": {},
   "outputs": [],
   "source": [
    "ca_cases = covid_mar20.where(\"...\", are.equal_to(\"...\"))\n",
    "ca_cases"
   ]
  },
  {
   "cell_type": "code",
   "execution_count": 21,
   "metadata": {},
   "outputs": [
    {
     "data": {
      "text/html": [
       "<table border=\"1\" class=\"dataframe\">\n",
       "    <thead>\n",
       "        <tr>\n",
       "            <th>FIPS</th> <th>County</th> <th>State</th> <th>Date</th> <th>cases</th> <th>cases_new</th> <th>Population</th> <th>fatalities</th> <th>fatalities_new</th> <th>cases_per100k</th>\n",
       "        </tr>\n",
       "    </thead>\n",
       "    <tbody>\n",
       "        <tr>\n",
       "            <td>6001</td> <td>Alameda     </td> <td>California</td> <td>3/20</td> <td>313  </td> <td>313      </td> <td>1671329   </td> <td>7         </td> <td>7             </td> <td>18.7276      </td>\n",
       "        </tr>\n",
       "        <tr>\n",
       "            <td>6003</td> <td>Alpine      </td> <td>California</td> <td>3/20</td> <td>0    </td> <td>0        </td> <td>1129      </td> <td>0         </td> <td>0             </td> <td>0            </td>\n",
       "        </tr>\n",
       "        <tr>\n",
       "            <td>6005</td> <td>Amador      </td> <td>California</td> <td>3/20</td> <td>2    </td> <td>2        </td> <td>39752     </td> <td>0         </td> <td>0             </td> <td>5.03119      </td>\n",
       "        </tr>\n",
       "        <tr>\n",
       "            <td>6007</td> <td>Butte       </td> <td>California</td> <td>3/20</td> <td>8    </td> <td>8        </td> <td>219186    </td> <td>0         </td> <td>0             </td> <td>3.64987      </td>\n",
       "        </tr>\n",
       "        <tr>\n",
       "            <td>6009</td> <td>Calaveras   </td> <td>California</td> <td>3/20</td> <td>3    </td> <td>3        </td> <td>45905     </td> <td>0         </td> <td>0             </td> <td>6.53524      </td>\n",
       "        </tr>\n",
       "        <tr>\n",
       "            <td>6011</td> <td>Colusa      </td> <td>California</td> <td>3/20</td> <td>1    </td> <td>1        </td> <td>21547     </td> <td>0         </td> <td>0             </td> <td>4.64102      </td>\n",
       "        </tr>\n",
       "        <tr>\n",
       "            <td>6013</td> <td>Contra Costa</td> <td>California</td> <td>3/20</td> <td>212  </td> <td>212      </td> <td>1153526   </td> <td>3         </td> <td>3             </td> <td>18.3784      </td>\n",
       "        </tr>\n",
       "        <tr>\n",
       "            <td>6015</td> <td>Del Norte   </td> <td>California</td> <td>3/20</td> <td>0    </td> <td>0        </td> <td>27812     </td> <td>0         </td> <td>0             </td> <td>0            </td>\n",
       "        </tr>\n",
       "        <tr>\n",
       "            <td>6017</td> <td>El Dorado   </td> <td>California</td> <td>3/20</td> <td>15   </td> <td>15       </td> <td>192843    </td> <td>0         </td> <td>0             </td> <td>7.77835      </td>\n",
       "        </tr>\n",
       "        <tr>\n",
       "            <td>6019</td> <td>Fresno      </td> <td>California</td> <td>3/20</td> <td>53   </td> <td>53       </td> <td>999101    </td> <td>0         </td> <td>0             </td> <td>5.30477      </td>\n",
       "        </tr>\n",
       "    </tbody>\n",
       "</table>\n",
       "<p>... (48 rows omitted)</p>"
      ],
      "text/plain": [
       "<IPython.core.display.HTML object>"
      ]
     },
     "metadata": {},
     "output_type": "display_data"
    }
   ],
   "source": [
    "#KEY\n",
    "ca_cases = covid_mar20.where(\"State\", \"California\")\n",
    "ca_cases.show(10)"
   ]
  },
  {
   "cell_type": "code",
   "execution_count": 22,
   "metadata": {},
   "outputs": [
    {
     "data": {
      "text/html": [
       "<table border=\"1\" class=\"dataframe\">\n",
       "    <thead>\n",
       "        <tr>\n",
       "            <th>FIPS</th> <th>County</th> <th>State</th> <th>Date</th> <th>cases</th> <th>cases_new</th> <th>Population</th> <th>fatalities</th> <th>fatalities_new</th> <th>cases_per100k</th>\n",
       "        </tr>\n",
       "    </thead>\n",
       "    <tbody>\n",
       "        <tr>\n",
       "            <td>6037</td> <td>Los Angeles  </td> <td>California</td> <td>3/20</td> <td>3019 </td> <td>3018     </td> <td>10039107  </td> <td>54        </td> <td>54            </td> <td>30.0624      </td>\n",
       "        </tr>\n",
       "        <tr>\n",
       "            <td>6085</td> <td>Santa Clara  </td> <td>California</td> <td>3/20</td> <td>890  </td> <td>887      </td> <td>1927852   </td> <td>30        </td> <td>30            </td> <td>46.0098      </td>\n",
       "        </tr>\n",
       "        <tr>\n",
       "            <td>6073</td> <td>San Diego    </td> <td>California</td> <td>3/20</td> <td>603  </td> <td>601      </td> <td>3338330   </td> <td>7         </td> <td>7             </td> <td>18.003       </td>\n",
       "        </tr>\n",
       "        <tr>\n",
       "            <td>6059</td> <td>Orange       </td> <td>California</td> <td>3/20</td> <td>502  </td> <td>501      </td> <td>3175692   </td> <td>7         </td> <td>7             </td> <td>15.7761      </td>\n",
       "        </tr>\n",
       "        <tr>\n",
       "            <td>6075</td> <td>San Francisco</td> <td>California</td> <td>3/20</td> <td>397  </td> <td>397      </td> <td>881549    </td> <td>6         </td> <td>6             </td> <td>45.0344      </td>\n",
       "        </tr>\n",
       "        <tr>\n",
       "            <td>6065</td> <td>Riverside    </td> <td>California</td> <td>3/20</td> <td>371  </td> <td>371      </td> <td>2470546   </td> <td>13        </td> <td>13            </td> <td>15.0169      </td>\n",
       "        </tr>\n",
       "        <tr>\n",
       "            <td>6001</td> <td>Alameda      </td> <td>California</td> <td>3/20</td> <td>313  </td> <td>313      </td> <td>1671329   </td> <td>7         </td> <td>7             </td> <td>18.7276      </td>\n",
       "        </tr>\n",
       "        <tr>\n",
       "            <td>6081</td> <td>San Mateo    </td> <td>California</td> <td>3/20</td> <td>309  </td> <td>309      </td> <td>766573    </td> <td>10        </td> <td>10            </td> <td>40.3093      </td>\n",
       "        </tr>\n",
       "        <tr>\n",
       "            <td>6067</td> <td>Sacramento   </td> <td>California</td> <td>3/20</td> <td>224  </td> <td>222      </td> <td>1552058   </td> <td>7         </td> <td>7             </td> <td>14.3036      </td>\n",
       "        </tr>\n",
       "        <tr>\n",
       "            <td>6013</td> <td>Contra Costa </td> <td>California</td> <td>3/20</td> <td>212  </td> <td>212      </td> <td>1153526   </td> <td>3         </td> <td>3             </td> <td>18.3784      </td>\n",
       "        </tr>\n",
       "    </tbody>\n",
       "</table>\n",
       "<p>... (48 rows omitted)</p>"
      ],
      "text/plain": [
       "FIPS | County        | State      | Date | cases | cases_new | Population | fatalities | fatalities_new | cases_per100k\n",
       "6037 | Los Angeles   | California | 3/20 | 3019  | 3018      | 10039107   | 54         | 54             | 30.0624\n",
       "6085 | Santa Clara   | California | 3/20 | 890   | 887       | 1927852    | 30         | 30             | 46.0098\n",
       "6073 | San Diego     | California | 3/20 | 603   | 601       | 3338330    | 7          | 7              | 18.003\n",
       "6059 | Orange        | California | 3/20 | 502   | 501       | 3175692    | 7          | 7              | 15.7761\n",
       "6075 | San Francisco | California | 3/20 | 397   | 397       | 881549     | 6          | 6              | 45.0344\n",
       "6065 | Riverside     | California | 3/20 | 371   | 371       | 2470546    | 13         | 13             | 15.0169\n",
       "6001 | Alameda       | California | 3/20 | 313   | 313       | 1671329    | 7          | 7              | 18.7276\n",
       "6081 | San Mateo     | California | 3/20 | 309   | 309       | 766573     | 10         | 10             | 40.3093\n",
       "6067 | Sacramento    | California | 3/20 | 224   | 222       | 1552058    | 7          | 7              | 14.3036\n",
       "6013 | Contra Costa  | California | 3/20 | 212   | 212       | 1153526    | 3          | 3              | 18.3784\n",
       "... (48 rows omitted)"
      ]
     },
     "execution_count": 22,
     "metadata": {},
     "output_type": "execute_result"
    }
   ],
   "source": [
    "ca_cases.sort('cases_new', descending=True)"
   ]
  },
  {
   "cell_type": "code",
   "execution_count": 23,
   "metadata": {},
   "outputs": [
    {
     "data": {
      "text/html": [
       "<table border=\"1\" class=\"dataframe\">\n",
       "    <thead>\n",
       "        <tr>\n",
       "            <th>FIPS</th> <th>County</th> <th>State</th> <th>Date</th> <th>cases</th> <th>cases_new</th> <th>Population</th> <th>fatalities</th> <th>fatalities_new</th> <th>cases_per100k</th>\n",
       "        </tr>\n",
       "    </thead>\n",
       "    <tbody>\n",
       "        <tr>\n",
       "            <td>6051</td> <td>Mono           </td> <td>California</td> <td>3/20</td> <td>13   </td> <td>13       </td> <td>14444     </td> <td>0         </td> <td>0             </td> <td>90.0028      </td>\n",
       "        </tr>\n",
       "        <tr>\n",
       "            <td>6085</td> <td>Santa Clara    </td> <td>California</td> <td>3/20</td> <td>890  </td> <td>887      </td> <td>1927852   </td> <td>30        </td> <td>30            </td> <td>46.0098      </td>\n",
       "        </tr>\n",
       "        <tr>\n",
       "            <td>6075</td> <td>San Francisco  </td> <td>California</td> <td>3/20</td> <td>397  </td> <td>397      </td> <td>881549    </td> <td>6         </td> <td>6             </td> <td>45.0344      </td>\n",
       "        </tr>\n",
       "        <tr>\n",
       "            <td>6027</td> <td>Inyo           </td> <td>California</td> <td>3/20</td> <td>8    </td> <td>8        </td> <td>18039     </td> <td>0         </td> <td>0             </td> <td>44.3484      </td>\n",
       "        </tr>\n",
       "        <tr>\n",
       "            <td>6081</td> <td>San Mateo      </td> <td>California</td> <td>3/20</td> <td>309  </td> <td>309      </td> <td>766573    </td> <td>10        </td> <td>10            </td> <td>40.3093      </td>\n",
       "        </tr>\n",
       "        <tr>\n",
       "            <td>6041</td> <td>Marin          </td> <td>California</td> <td>3/20</td> <td>99   </td> <td>99       </td> <td>258826    </td> <td>4         </td> <td>4             </td> <td>38.2496      </td>\n",
       "        </tr>\n",
       "        <tr>\n",
       "            <td>6037</td> <td>Los Angeles    </td> <td>California</td> <td>3/20</td> <td>3019 </td> <td>3018     </td> <td>10039107  </td> <td>54        </td> <td>54            </td> <td>30.0624      </td>\n",
       "        </tr>\n",
       "        <tr>\n",
       "            <td>6079</td> <td>San Luis Obispo</td> <td>California</td> <td>3/20</td> <td>80   </td> <td>80       </td> <td>283111    </td> <td>0         </td> <td>0             </td> <td>28.2575      </td>\n",
       "        </tr>\n",
       "        <tr>\n",
       "            <td>6069</td> <td>San Benito     </td> <td>California</td> <td>3/20</td> <td>17   </td> <td>15       </td> <td>62808     </td> <td>1         </td> <td>1             </td> <td>23.8823      </td>\n",
       "        </tr>\n",
       "        <tr>\n",
       "            <td>6057</td> <td>Nevada         </td> <td>California</td> <td>3/20</td> <td>21   </td> <td>21       </td> <td>99755     </td> <td>0         </td> <td>0             </td> <td>21.0516      </td>\n",
       "        </tr>\n",
       "    </tbody>\n",
       "</table>\n",
       "<p>... (48 rows omitted)</p>"
      ],
      "text/plain": [
       "FIPS | County          | State      | Date | cases | cases_new | Population | fatalities | fatalities_new | cases_per100k\n",
       "6051 | Mono            | California | 3/20 | 13    | 13        | 14444      | 0          | 0              | 90.0028\n",
       "6085 | Santa Clara     | California | 3/20 | 890   | 887       | 1927852    | 30         | 30             | 46.0098\n",
       "6075 | San Francisco   | California | 3/20 | 397   | 397       | 881549     | 6          | 6              | 45.0344\n",
       "6027 | Inyo            | California | 3/20 | 8     | 8         | 18039      | 0          | 0              | 44.3484\n",
       "6081 | San Mateo       | California | 3/20 | 309   | 309       | 766573     | 10         | 10             | 40.3093\n",
       "6041 | Marin           | California | 3/20 | 99    | 99        | 258826     | 4          | 4              | 38.2496\n",
       "6037 | Los Angeles     | California | 3/20 | 3019  | 3018      | 10039107   | 54         | 54             | 30.0624\n",
       "6079 | San Luis Obispo | California | 3/20 | 80    | 80        | 283111     | 0          | 0              | 28.2575\n",
       "6069 | San Benito      | California | 3/20 | 17    | 15        | 62808      | 1          | 1              | 23.8823\n",
       "6057 | Nevada          | California | 3/20 | 21    | 21        | 99755      | 0          | 0              | 21.0516\n",
       "... (48 rows omitted)"
      ]
     },
     "execution_count": 23,
     "metadata": {},
     "output_type": "execute_result"
    }
   ],
   "source": [
    "ca_cases.sort('cases_per100k', descending=True)"
   ]
  },
  {
   "cell_type": "code",
   "execution_count": 24,
   "metadata": {},
   "outputs": [
    {
     "data": {
      "text/html": [
       "<table border=\"1\" class=\"dataframe\">\n",
       "    <thead>\n",
       "        <tr>\n",
       "            <th>FIPS</th> <th>County</th> <th>State</th> <th>Date</th> <th>cases</th> <th>cases_new</th> <th>Population</th> <th>fatalities</th> <th>fatalities_new</th> <th>cases_per100k</th>\n",
       "        </tr>\n",
       "    </thead>\n",
       "    <tbody>\n",
       "        <tr>\n",
       "            <td>6001</td> <td>Alameda       </td> <td>California</td> <td>3/20</td> <td>313  </td> <td>313      </td> <td>1671329   </td> <td>7         </td> <td>7             </td> <td>18.7276      </td>\n",
       "        </tr>\n",
       "        <tr>\n",
       "            <td>6029</td> <td>Kern          </td> <td>California</td> <td>3/20</td> <td>83   </td> <td>83       </td> <td>900202    </td> <td>1         </td> <td>1             </td> <td>9.22015      </td>\n",
       "        </tr>\n",
       "        <tr>\n",
       "            <td>6037</td> <td>Los Angeles   </td> <td>California</td> <td>3/20</td> <td>3019 </td> <td>3018     </td> <td>10039107  </td> <td>54        </td> <td>54            </td> <td>30.0624      </td>\n",
       "        </tr>\n",
       "        <tr>\n",
       "            <td>6059</td> <td>Orange        </td> <td>California</td> <td>3/20</td> <td>502  </td> <td>501      </td> <td>3175692   </td> <td>7         </td> <td>7             </td> <td>15.7761      </td>\n",
       "        </tr>\n",
       "        <tr>\n",
       "            <td>6071</td> <td>San Bernardino</td> <td>California</td> <td>3/20</td> <td>125  </td> <td>125      </td> <td>2180085   </td> <td>4         </td> <td>4             </td> <td>5.73372      </td>\n",
       "        </tr>\n",
       "    </tbody>\n",
       "</table>"
      ],
      "text/plain": [
       "FIPS | County         | State      | Date | cases | cases_new | Population | fatalities | fatalities_new | cases_per100k\n",
       "6001 | Alameda        | California | 3/20 | 313   | 313       | 1671329    | 7          | 7              | 18.7276\n",
       "6029 | Kern           | California | 3/20 | 83    | 83        | 900202     | 1          | 1              | 9.22015\n",
       "6037 | Los Angeles    | California | 3/20 | 3019  | 3018      | 10039107   | 54         | 54             | 30.0624\n",
       "6059 | Orange         | California | 3/20 | 502   | 501       | 3175692    | 7          | 7              | 15.7761\n",
       "6071 | San Bernardino | California | 3/20 | 125   | 125       | 2180085    | 4          | 4              | 5.73372"
      ]
     },
     "execution_count": 24,
     "metadata": {},
     "output_type": "execute_result"
    }
   ],
   "source": [
    "select_counties = [\"Los Angeles\", \"Alameda\", \"Orange\", \"San Bernardino\", \"Kern\"]\n",
    "\n",
    "#This will take the counties you choose for the comparison.\n",
    "my_counties = ca_cases.where(\"County\", are.contained_in(select_counties))\n",
    "my_counties"
   ]
  },
  {
   "cell_type": "markdown",
   "metadata": {},
   "source": [
    "<div class=\"alert alert-info\">\n",
    "<b>Question:</b> Now make another bar chart using your selected counties and the number of cases on May. First, filter out the data to contain information about May only.\n",
    "   </div>\n"
   ]
  },
  {
   "cell_type": "markdown",
   "metadata": {},
   "source": [
    "**Hint:** Use the number of the month."
   ]
  },
  {
   "cell_type": "code",
   "execution_count": null,
   "metadata": {},
   "outputs": [],
   "source": [
    "# Use this cell to make a bar chart of new cases in May \n",
    "..."
   ]
  },
  {
   "cell_type": "code",
   "execution_count": 28,
   "metadata": {},
   "outputs": [
    {
     "data": {
      "image/png": "[encoded data removed]",
      "text/plain": [
       "<Figure size 432x288 with 1 Axes>"
      ]
     },
     "metadata": {},
     "output_type": "display_data"
    }
   ],
   "source": [
    "#KEY\n",
    "my_counties.barh(\"County\", \"cases_new\")"
   ]
  },
  {
   "cell_type": "markdown",
   "metadata": {},
   "source": [
    "<div class=\"alert alert-info\">\n",
    "<b>Question:</b> What are some possible reasons for the disparities in certain counties? Hint: Think about the size of the counties.\n",
    "   </div>"
   ]
  },
  {
   "cell_type": "markdown",
   "metadata": {},
   "source": [
    "*Insert answer here.*"
   ]
  },
  {
   "cell_type": "markdown",
   "metadata": {},
   "source": [
    "### Part 2"
   ]
  },
  {
   "cell_type": "markdown",
   "metadata": {},
   "source": [
    "A disease will spread more when there are more people in a population to spread to. Let's look at the population of the states to compare the percentages based on the number of people. Here is a table with the states and their populations. "
   ]
  },
  {
   "cell_type": "code",
   "execution_count": 73,
   "metadata": {
    "scrolled": true
   },
   "outputs": [
    {
     "data": {
      "text/html": [
       "<table border=\"1\" class=\"dataframe\">\n",
       "    <thead>\n",
       "        <tr>\n",
       "            <th>State</th> <th>Population</th>\n",
       "        </tr>\n",
       "    </thead>\n",
       "    <tbody>\n",
       "        <tr>\n",
       "            <td>Alabama         </td> <td>4903185   </td>\n",
       "        </tr>\n",
       "        <tr>\n",
       "            <td>Alaska          </td> <td>731545    </td>\n",
       "        </tr>\n",
       "        <tr>\n",
       "            <td>American Samoa  </td> <td>55641     </td>\n",
       "        </tr>\n",
       "        <tr>\n",
       "            <td>Arizona         </td> <td>7278717   </td>\n",
       "        </tr>\n",
       "        <tr>\n",
       "            <td>Arkansas        </td> <td>3017804   </td>\n",
       "        </tr>\n",
       "        <tr>\n",
       "            <td>California      </td> <td>39512223  </td>\n",
       "        </tr>\n",
       "        <tr>\n",
       "            <td>Colorado        </td> <td>5758736   </td>\n",
       "        </tr>\n",
       "        <tr>\n",
       "            <td>Connecticut     </td> <td>3565287   </td>\n",
       "        </tr>\n",
       "        <tr>\n",
       "            <td>Delaware        </td> <td>973764    </td>\n",
       "        </tr>\n",
       "        <tr>\n",
       "            <td>Diamond Princess</td> <td>0         </td>\n",
       "        </tr>\n",
       "    </tbody>\n",
       "</table>\n",
       "<p>... (48 rows omitted)</p>"
      ],
      "text/plain": [
       "State            | Population\n",
       "Alabama          | 4903185\n",
       "Alaska           | 731545\n",
       "American Samoa   | 55641\n",
       "Arizona          | 7278717\n",
       "Arkansas         | 3017804\n",
       "California       | 39512223\n",
       "Colorado         | 5758736\n",
       "Connecticut      | 3565287\n",
       "Delaware         | 973764\n",
       "Diamond Princess | 0\n",
       "... (48 rows omitted)"
      ]
     },
     "execution_count": 73,
     "metadata": {},
     "output_type": "execute_result"
    }
   ],
   "source": [
    "#pop_by_state = Table().read_table(\"data/pop_by_state.csv\")\n",
    "#pop_by_state"
   ]
  },
  {
   "cell_type": "markdown",
   "metadata": {},
   "source": [
    "<div class=\"alert alert-info\">\n",
    "<b>Question:</b> First, group the covid statistics to show the number of cases for each state and the sum of the cases.\n",
    "   </div>"
   ]
  },
  {
   "cell_type": "code",
   "execution_count": 29,
   "metadata": {
    "scrolled": true
   },
   "outputs": [
    {
     "data": {
      "text/html": [
       "<table border=\"1\" class=\"dataframe\">\n",
       "    <thead>\n",
       "        <tr>\n",
       "            <th>State</th> <th>FIPS sum</th> <th>County sum</th> <th>Date sum</th> <th>cases sum</th> <th>cases_new sum</th> <th>Population sum</th> <th>fatalities sum</th> <th>fatalities_new sum</th>\n",
       "        </tr>\n",
       "    </thead>\n",
       "    <tbody>\n",
       "        <tr>\n",
       "            <td>Alabama             </td> <td>71489   </td> <td>          </td> <td>        </td> <td>1063     </td> <td>1063         </td> <td>4903185       </td> <td>15            </td> <td>15                </td>\n",
       "        </tr>\n",
       "        <tr>\n",
       "            <td>Alaska              </td> <td>66469   </td> <td>          </td> <td>        </td> <td>129      </td> <td>129          </td> <td>740995        </td> <td>1             </td> <td>1                 </td>\n",
       "        </tr>\n",
       "        <tr>\n",
       "            <td>Arizona             </td> <td>60208   </td> <td>          </td> <td>        </td> <td>1289     </td> <td>1288         </td> <td>7278717       </td> <td>12            </td> <td>12                </td>\n",
       "        </tr>\n",
       "        <tr>\n",
       "            <td>Arkansas            </td> <td>380625  </td> <td>          </td> <td>        </td> <td>489      </td> <td>489          </td> <td>3017804       </td> <td>5             </td> <td>5                 </td>\n",
       "        </tr>\n",
       "        <tr>\n",
       "            <td>California          </td> <td>351364  </td> <td>          </td> <td>        </td> <td>8233     </td> <td>8221         </td> <td>39512223      </td> <td>173           </td> <td>173               </td>\n",
       "        </tr>\n",
       "        <tr>\n",
       "            <td>Colorado            </td> <td>515983  </td> <td>          </td> <td>        </td> <td>2837     </td> <td>2837         </td> <td>5758736       </td> <td>68            </td> <td>68                </td>\n",
       "        </tr>\n",
       "        <tr>\n",
       "            <td>Connecticut         </td> <td>72064   </td> <td>          </td> <td>        </td> <td>3051     </td> <td>3051         </td> <td>3565287       </td> <td>67            </td> <td>67                </td>\n",
       "        </tr>\n",
       "        <tr>\n",
       "            <td>Delaware            </td> <td>30009   </td> <td>          </td> <td>        </td> <td>319      </td> <td>319          </td> <td>973764        </td> <td>0             </td> <td>0                 </td>\n",
       "        </tr>\n",
       "        <tr>\n",
       "            <td>Diamond Princess    </td> <td>88888   </td> <td>          </td> <td>        </td> <td>49       </td> <td>49           </td> <td>0             </td> <td>0             </td> <td>0                 </td>\n",
       "        </tr>\n",
       "        <tr>\n",
       "            <td>District of Columbia</td> <td>11001   </td> <td>          </td> <td>        </td> <td>495      </td> <td>495          </td> <td>705749        </td> <td>9             </td> <td>9                 </td>\n",
       "        </tr>\n",
       "    </tbody>\n",
       "</table>\n",
       "<p>... (43 rows omitted)</p>"
      ],
      "text/plain": [
       "State                | FIPS sum | County sum | Date sum | cases sum | cases_new sum | Population sum | fatalities sum | fatalities_new sum\n",
       "Alabama              | 71489    |            |          | 1063      | 1063          | 4903185        | 15             | 15\n",
       "Alaska               | 66469    |            |          | 129       | 129           | 740995         | 1              | 1\n",
       "Arizona              | 60208    |            |          | 1289      | 1288          | 7278717        | 12             | 12\n",
       "Arkansas             | 380625   |            |          | 489       | 489           | 3017804        | 5              | 5\n",
       "California           | 351364   |            |          | 8233      | 8221          | 39512223       | 173            | 173\n",
       "Colorado             | 515983   |            |          | 2837      | 2837          | 5758736        | 68             | 68\n",
       "Connecticut          | 72064    |            |          | 3051      | 3051          | 3565287        | 67             | 67\n",
       "Delaware             | 30009    |            |          | 319       | 319           | 973764         | 0              | 0\n",
       "Diamond Princess     | 88888    |            |          | 49        | 49            | 0              | 0              | 0\n",
       "District of Columbia | 11001    |            |          | 495       | 495           | 705749         | 9              | 9\n",
       "... (43 rows omitted)"
      ]
     },
     "execution_count": 29,
     "metadata": {},
     "output_type": "execute_result"
    }
   ],
   "source": [
    "#We are grouping all the counties into their states and taking the sum of the cases using this code.\n",
    "grouped_by_state = covid_mar20.group(\"State\", sum)\n",
    "grouped_by_state"
   ]
  },
  {
   "cell_type": "markdown",
   "metadata": {},
   "source": [
    "Notice the odd state, Diamond Princess. What is this state?\n",
    "How many states do we have?"
   ]
  },
  {
   "cell_type": "code",
   "execution_count": 30,
   "metadata": {},
   "outputs": [
    {
     "data": {
      "text/plain": [
       "53"
      ]
     },
     "execution_count": 30,
     "metadata": {},
     "output_type": "execute_result"
    }
   ],
   "source": [
    "grouped_by_state.num_rows"
   ]
  },
  {
   "cell_type": "code",
   "execution_count": 56,
   "metadata": {
    "scrolled": true
   },
   "outputs": [
    {
     "data": {
      "text/html": [
       "<table border=\"1\" class=\"dataframe\">\n",
       "    <thead>\n",
       "        <tr>\n",
       "            <th>State</th> <th>April sum</th> <th>May sum</th> <th>June sum</th>\n",
       "        </tr>\n",
       "    </thead>\n",
       "    <tbody>\n",
       "        <tr>\n",
       "            <td>Alabama             </td> <td>1060     </td> <td>7294   </td> <td>18630   </td>\n",
       "        </tr>\n",
       "        <tr>\n",
       "            <td>Alaska              </td> <td>132      </td> <td>364    </td> <td>466     </td>\n",
       "        </tr>\n",
       "        <tr>\n",
       "            <td>American Samoa      </td> <td>0        </td> <td>0      </td> <td>0       </td>\n",
       "        </tr>\n",
       "        <tr>\n",
       "            <td>Arizona             </td> <td>1413     </td> <td>7969   </td> <td>20129   </td>\n",
       "        </tr>\n",
       "        <tr>\n",
       "            <td>Arkansas            </td> <td>584      </td> <td>3337   </td> <td>7443    </td>\n",
       "        </tr>\n",
       "        <tr>\n",
       "            <td>California          </td> <td>9399     </td> <td>52026  </td> <td>114733  </td>\n",
       "        </tr>\n",
       "        <tr>\n",
       "            <td>Colorado            </td> <td>3342     </td> <td>15793  </td> <td>26563   </td>\n",
       "        </tr>\n",
       "        <tr>\n",
       "            <td>Connecticut         </td> <td>3557     </td> <td>28764  </td> <td>42740   </td>\n",
       "        </tr>\n",
       "        <tr>\n",
       "            <td>Delaware            </td> <td>368      </td> <td>4918   </td> <td>9605    </td>\n",
       "        </tr>\n",
       "        <tr>\n",
       "            <td>District of Columbia</td> <td>586      </td> <td>4658   </td> <td>8857    </td>\n",
       "        </tr>\n",
       "    </tbody>\n",
       "</table>\n",
       "<p>... (46 rows omitted)</p>"
      ],
      "text/plain": [
       "State                | April sum | May sum | June sum\n",
       "Alabama              | 1060      | 7294    | 18630\n",
       "Alaska               | 132       | 364     | 466\n",
       "American Samoa       | 0         | 0       | 0\n",
       "Arizona              | 1413      | 7969    | 20129\n",
       "Arkansas             | 584       | 3337    | 7443\n",
       "California           | 9399      | 52026   | 114733\n",
       "Colorado             | 3342      | 15793   | 26563\n",
       "Connecticut          | 3557      | 28764   | 42740\n",
       "Delaware             | 368       | 4918    | 9605\n",
       "District of Columbia | 586       | 4658    | 8857\n",
       "... (46 rows omitted)"
      ]
     },
     "execution_count": 56,
     "metadata": {},
     "output_type": "execute_result"
    }
   ],
   "source": [
    "#Now we will drop the County sum and Combined_Key sum because they \n",
    "#do not have numbers to add and we do not need the columns anymore.\n",
    "grouped_by_state = grouped_by_state.drop(1, 2)\n",
    "grouped_by_state"
   ]
  },
  {
   "cell_type": "markdown",
   "metadata": {},
   "source": [
    "<div class=\"alert alert-info\">\n",
    "<b>Question:</b> Now that we have it grouped by state, let's first look at the number of cases in June so we can compare it to the percentages we will look at later.\n",
    "   </div>"
   ]
  },
  {
   "cell_type": "code",
   "execution_count": 82,
   "metadata": {},
   "outputs": [
    {
     "data": {
      "image/png": "[encoded data removed]",
      "text/plain": [
       "<Figure size 432x360 with 1 Axes>"
      ]
     },
     "metadata": {},
     "output_type": "display_data"
    }
   ],
   "source": [
    "#Run this cell to see the number of\n",
    "grouped_by_state.sort(\"June sum\", descending = True).take(np.arange(10)).barh(\"State\", \"June sum\")"
   ]
  },
  {
   "cell_type": "markdown",
   "metadata": {},
   "source": [
    "<div class=\"alert alert-info\">\n",
    "<b>Question:</b> Now join this table with the pop_by_state table. \n",
    "   </div>"
   ]
  },
  {
   "cell_type": "code",
   "execution_count": 15,
   "metadata": {
    "scrolled": true
   },
   "outputs": [
    {
     "data": {
      "text/html": [
       "<table border=\"1\" class=\"dataframe\">\n",
       "    <thead>\n",
       "        <tr>\n",
       "            <th>State</th> <th>3/1/2020 sum</th> <th>4/1/2020 sum</th> <th>5/1/2020 sum</th> <th>6/1/2020 sum</th> <th>Population</th>\n",
       "        </tr>\n",
       "    </thead>\n",
       "    <tbody>\n",
       "        <tr>\n",
       "            <td>Alabama             </td> <td>0           </td> <td>1060        </td> <td>7294        </td> <td>18630       </td> <td>4903185   </td>\n",
       "        </tr>\n",
       "        <tr>\n",
       "            <td>Alaska              </td> <td>0           </td> <td>132         </td> <td>364         </td> <td>466         </td> <td>731545    </td>\n",
       "        </tr>\n",
       "        <tr>\n",
       "            <td>American Samoa      </td> <td>0           </td> <td>0           </td> <td>0           </td> <td>0           </td> <td>55641     </td>\n",
       "        </tr>\n",
       "        <tr>\n",
       "            <td>Arizona             </td> <td>1           </td> <td>1413        </td> <td>7969        </td> <td>20129       </td> <td>7278717   </td>\n",
       "        </tr>\n",
       "        <tr>\n",
       "            <td>Arkansas            </td> <td>0           </td> <td>584         </td> <td>3337        </td> <td>7443        </td> <td>3017804   </td>\n",
       "        </tr>\n",
       "        <tr>\n",
       "            <td>California          </td> <td>12          </td> <td>9399        </td> <td>52026       </td> <td>114733      </td> <td>39512223  </td>\n",
       "        </tr>\n",
       "        <tr>\n",
       "            <td>Colorado            </td> <td>0           </td> <td>3342        </td> <td>15793       </td> <td>26563       </td> <td>5758736   </td>\n",
       "        </tr>\n",
       "        <tr>\n",
       "            <td>Connecticut         </td> <td>0           </td> <td>3557        </td> <td>28764       </td> <td>42740       </td> <td>3565287   </td>\n",
       "        </tr>\n",
       "        <tr>\n",
       "            <td>Delaware            </td> <td>0           </td> <td>368         </td> <td>4918        </td> <td>9605        </td> <td>973764    </td>\n",
       "        </tr>\n",
       "        <tr>\n",
       "            <td>District of Columbia</td> <td>0           </td> <td>586         </td> <td>4658        </td> <td>8857        </td> <td>705749    </td>\n",
       "        </tr>\n",
       "    </tbody>\n",
       "</table>\n",
       "<p>... (46 rows omitted)</p>"
      ],
      "text/plain": [
       "State                | 3/1/2020 sum | 4/1/2020 sum | 5/1/2020 sum | 6/1/2020 sum | Population\n",
       "Alabama              | 0            | 1060         | 7294         | 18630        | 4903185\n",
       "Alaska               | 0            | 132          | 364          | 466          | 731545\n",
       "American Samoa       | 0            | 0            | 0            | 0            | 55641\n",
       "Arizona              | 1            | 1413         | 7969         | 20129        | 7278717\n",
       "Arkansas             | 0            | 584          | 3337         | 7443         | 3017804\n",
       "California           | 12           | 9399         | 52026        | 114733       | 39512223\n",
       "Colorado             | 0            | 3342         | 15793        | 26563        | 5758736\n",
       "Connecticut          | 0            | 3557         | 28764        | 42740        | 3565287\n",
       "Delaware             | 0            | 368          | 4918         | 9605         | 973764\n",
       "District of Columbia | 0            | 586          | 4658         | 8857         | 705749\n",
       "... (46 rows omitted)"
      ]
     },
     "execution_count": 15,
     "metadata": {},
     "output_type": "execute_result"
    }
   ],
   "source": [
    "#We are going to join the two tables by providing the column they share which is \"State\".\n",
    "with_pop = grouped_by_state.join(\"State\", pop_by_state)\n",
    "with_pop"
   ]
  },
  {
   "cell_type": "markdown",
   "metadata": {},
   "source": [
    "<div class=\"alert alert-info\">\n",
    "<b>Question:</b> Add a column called \"Percentage\" that has the number of cases collected in June divided by the population.\n",
    "   </div>"
   ]
  },
  {
   "cell_type": "code",
   "execution_count": 34,
   "metadata": {
    "scrolled": true
   },
   "outputs": [],
   "source": [
    "#First, we want to find the columns that would make up an array of the percentages.\n",
    "june_cases = with_pop.column(\"6/1/2020 sum\")\n",
    "population = ...\n",
    "percentage = (.../...)*100\n",
    "percentage"
   ]
  },
  {
   "cell_type": "code",
   "execution_count": 16,
   "metadata": {},
   "outputs": [
    {
     "data": {
      "text/plain": [
       "array([0.37995711, 0.0637008 , 0.        , 0.27654599, 0.2466363 ,\n",
       "       0.29037344, 0.46126442, 1.19878147, 0.98637863, 1.25497875,\n",
       "       0.26459957, 0.45116409, 0.10655852, 0.04604936, 0.15886384,\n",
       "       0.95672122, 0.51736285, 0.62436016, 0.34050569, 0.22485979,\n",
       "       0.86777345, 0.17474922, 0.88206786, 1.4625311 , 0.57607714,\n",
       "       0.44697952, 0.52927458, 0.20711186, 0.04856013, 0.74157055,\n",
       "       0.28251816, 0.34455851, 1.81169284, 0.37199028, 1.4208228 ,\n",
       "       0.28214877, 0.34446016, 0.03989555, 0.30784235, 0.16611191,\n",
       "       0.10199782, 0.59870384, 0.13203073, 1.41509835, 0.23594241,\n",
       "       0.56903281, 0.33043528, 0.22621489, 0.31188805, 0.15753483,\n",
       "       0.06525711, 0.53187158, 0.2886055 , 0.11316036, 0.31847506,\n",
       "       0.15723298])"
      ]
     },
     "execution_count": 16,
     "metadata": {},
     "output_type": "execute_result"
    }
   ],
   "source": [
    "#KEY\n",
    "june_cases = with_pop.column(\"6/1/2020 sum\")\n",
    "population = with_pop.column(\"Population\")\n",
    "percentage = (june_cases/population)*100\n",
    "percentage"
   ]
  },
  {
   "cell_type": "code",
   "execution_count": 21,
   "metadata": {},
   "outputs": [],
   "source": [
    "with_pct = with_pop.with_column(\"...\", ...)\n",
    "with_pct"
   ]
  },
  {
   "cell_type": "code",
   "execution_count": 17,
   "metadata": {
    "scrolled": true
   },
   "outputs": [
    {
     "data": {
      "text/html": [
       "<table border=\"1\" class=\"dataframe\">\n",
       "    <thead>\n",
       "        <tr>\n",
       "            <th>State</th> <th>3/1/2020 sum</th> <th>4/1/2020 sum</th> <th>5/1/2020 sum</th> <th>6/1/2020 sum</th> <th>Population</th> <th>Percentage</th>\n",
       "        </tr>\n",
       "    </thead>\n",
       "    <tbody>\n",
       "        <tr>\n",
       "            <td>Alabama             </td> <td>0           </td> <td>1060        </td> <td>7294        </td> <td>18630       </td> <td>4903185   </td> <td>0.379957  </td>\n",
       "        </tr>\n",
       "        <tr>\n",
       "            <td>Alaska              </td> <td>0           </td> <td>132         </td> <td>364         </td> <td>466         </td> <td>731545    </td> <td>0.0637008 </td>\n",
       "        </tr>\n",
       "        <tr>\n",
       "            <td>American Samoa      </td> <td>0           </td> <td>0           </td> <td>0           </td> <td>0           </td> <td>55641     </td> <td>0         </td>\n",
       "        </tr>\n",
       "        <tr>\n",
       "            <td>Arizona             </td> <td>1           </td> <td>1413        </td> <td>7969        </td> <td>20129       </td> <td>7278717   </td> <td>0.276546  </td>\n",
       "        </tr>\n",
       "        <tr>\n",
       "            <td>Arkansas            </td> <td>0           </td> <td>584         </td> <td>3337        </td> <td>7443        </td> <td>3017804   </td> <td>0.246636  </td>\n",
       "        </tr>\n",
       "        <tr>\n",
       "            <td>California          </td> <td>12          </td> <td>9399        </td> <td>52026       </td> <td>114733      </td> <td>39512223  </td> <td>0.290373  </td>\n",
       "        </tr>\n",
       "        <tr>\n",
       "            <td>Colorado            </td> <td>0           </td> <td>3342        </td> <td>15793       </td> <td>26563       </td> <td>5758736   </td> <td>0.461264  </td>\n",
       "        </tr>\n",
       "        <tr>\n",
       "            <td>Connecticut         </td> <td>0           </td> <td>3557        </td> <td>28764       </td> <td>42740       </td> <td>3565287   </td> <td>1.19878   </td>\n",
       "        </tr>\n",
       "        <tr>\n",
       "            <td>Delaware            </td> <td>0           </td> <td>368         </td> <td>4918        </td> <td>9605        </td> <td>973764    </td> <td>0.986379  </td>\n",
       "        </tr>\n",
       "        <tr>\n",
       "            <td>District of Columbia</td> <td>0           </td> <td>586         </td> <td>4658        </td> <td>8857        </td> <td>705749    </td> <td>1.25498   </td>\n",
       "        </tr>\n",
       "    </tbody>\n",
       "</table>\n",
       "<p>... (46 rows omitted)</p>"
      ],
      "text/plain": [
       "State                | 3/1/2020 sum | 4/1/2020 sum | 5/1/2020 sum | 6/1/2020 sum | Population | Percentage\n",
       "Alabama              | 0            | 1060         | 7294         | 18630        | 4903185    | 0.379957\n",
       "Alaska               | 0            | 132          | 364          | 466          | 731545     | 0.0637008\n",
       "American Samoa       | 0            | 0            | 0            | 0            | 55641      | 0\n",
       "Arizona              | 1            | 1413         | 7969         | 20129        | 7278717    | 0.276546\n",
       "Arkansas             | 0            | 584          | 3337         | 7443         | 3017804    | 0.246636\n",
       "California           | 12           | 9399         | 52026        | 114733       | 39512223   | 0.290373\n",
       "Colorado             | 0            | 3342         | 15793        | 26563        | 5758736    | 0.461264\n",
       "Connecticut          | 0            | 3557         | 28764        | 42740        | 3565287    | 1.19878\n",
       "Delaware             | 0            | 368          | 4918         | 9605         | 973764     | 0.986379\n",
       "District of Columbia | 0            | 586          | 4658         | 8857         | 705749     | 1.25498\n",
       "... (46 rows omitted)"
      ]
     },
     "execution_count": 17,
     "metadata": {},
     "output_type": "execute_result"
    }
   ],
   "source": [
    "#KEY\n",
    "with_pct = with_pop.with_column(\"Percentage\", percentage)\n",
    "with_pct"
   ]
  },
  {
   "cell_type": "markdown",
   "metadata": {},
   "source": [
    "<div class=\"alert alert-info\">\n",
    "<b>Question:</b> Like we did in the previous section, sort with_pct and include the top ten states with the most cases on June 1st. Then, create a bar chart to compare the states with the highest percentages of cases.\n",
    "   </div>"
   ]
  },
  {
   "cell_type": "code",
   "execution_count": 38,
   "metadata": {},
   "outputs": [],
   "source": [
    "top_ten_pct = ..."
   ]
  },
  {
   "cell_type": "code",
   "execution_count": 18,
   "metadata": {
    "scrolled": true
   },
   "outputs": [
    {
     "data": {
      "text/html": [
       "<table border=\"1\" class=\"dataframe\">\n",
       "    <thead>\n",
       "        <tr>\n",
       "            <th>State</th> <th>3/1/2020 sum</th> <th>4/1/2020 sum</th> <th>5/1/2020 sum</th> <th>6/1/2020 sum</th> <th>Population</th> <th>Percentage</th>\n",
       "        </tr>\n",
       "    </thead>\n",
       "    <tbody>\n",
       "        <tr>\n",
       "            <td>New Jersey          </td> <td>0           </td> <td>22255       </td> <td>121190      </td> <td>160918      </td> <td>8882190   </td> <td>1.81169   </td>\n",
       "        </tr>\n",
       "        <tr>\n",
       "            <td>Massachusetts       </td> <td>1           </td> <td>7738        </td> <td>64311       </td> <td>100805      </td> <td>6892503   </td> <td>1.46253   </td>\n",
       "        </tr>\n",
       "        <tr>\n",
       "            <td>New York            </td> <td>0           </td> <td>83948       </td> <td>308314      </td> <td>371711      </td> <td>26161672  </td> <td>1.42082   </td>\n",
       "        </tr>\n",
       "        <tr>\n",
       "            <td>Rhode Island        </td> <td>1           </td> <td>566         </td> <td>8962        </td> <td>14991       </td> <td>1059361   </td> <td>1.4151    </td>\n",
       "        </tr>\n",
       "        <tr>\n",
       "            <td>District of Columbia</td> <td>0           </td> <td>586         </td> <td>4658        </td> <td>8857        </td> <td>705749    </td> <td>1.25498   </td>\n",
       "        </tr>\n",
       "        <tr>\n",
       "            <td>Connecticut         </td> <td>0           </td> <td>3557        </td> <td>28764       </td> <td>42740       </td> <td>3565287   </td> <td>1.19878   </td>\n",
       "        </tr>\n",
       "        <tr>\n",
       "            <td>Delaware            </td> <td>0           </td> <td>368         </td> <td>4918        </td> <td>9605        </td> <td>973764    </td> <td>0.986379  </td>\n",
       "        </tr>\n",
       "        <tr>\n",
       "            <td>Illinois            </td> <td>3           </td> <td>6980        </td> <td>56055       </td> <td>121234      </td> <td>12671821  </td> <td>0.956721  </td>\n",
       "        </tr>\n",
       "        <tr>\n",
       "            <td>Maryland            </td> <td>0           </td> <td>1986        </td> <td>23472       </td> <td>53327       </td> <td>6045680   </td> <td>0.882068  </td>\n",
       "        </tr>\n",
       "        <tr>\n",
       "            <td>Louisiana           </td> <td>0           </td> <td>6424        </td> <td>28711       </td> <td>40341       </td> <td>4648794   </td> <td>0.867773  </td>\n",
       "        </tr>\n",
       "    </tbody>\n",
       "</table>"
      ],
      "text/plain": [
       "State                | 3/1/2020 sum | 4/1/2020 sum | 5/1/2020 sum | 6/1/2020 sum | Population | Percentage\n",
       "New Jersey           | 0            | 22255        | 121190       | 160918       | 8882190    | 1.81169\n",
       "Massachusetts        | 1            | 7738         | 64311        | 100805       | 6892503    | 1.46253\n",
       "New York             | 0            | 83948        | 308314       | 371711       | 26161672   | 1.42082\n",
       "Rhode Island         | 1            | 566          | 8962         | 14991        | 1059361    | 1.4151\n",
       "District of Columbia | 0            | 586          | 4658         | 8857         | 705749     | 1.25498\n",
       "Connecticut          | 0            | 3557         | 28764        | 42740        | 3565287    | 1.19878\n",
       "Delaware             | 0            | 368          | 4918         | 9605         | 973764     | 0.986379\n",
       "Illinois             | 3            | 6980         | 56055        | 121234       | 12671821   | 0.956721\n",
       "Maryland             | 0            | 1986         | 23472        | 53327        | 6045680    | 0.882068\n",
       "Louisiana            | 0            | 6424         | 28711        | 40341        | 4648794    | 0.867773"
      ]
     },
     "execution_count": 18,
     "metadata": {},
     "output_type": "execute_result"
    }
   ],
   "source": [
    "#KEY\n",
    "top_ten_pct = with_pct.sort(\"Percentage\", descending = True).take(np.arange(10))\n",
    "top_ten_pct"
   ]
  },
  {
   "cell_type": "code",
   "execution_count": 40,
   "metadata": {},
   "outputs": [],
   "source": [
    "#fill in the code to make the bar chart looking at the States and their Percentages.\n",
    "..."
   ]
  },
  {
   "cell_type": "code",
   "execution_count": 19,
   "metadata": {
    "scrolled": true
   },
   "outputs": [
    {
     "data": {
      "image/png": "[encoded data removed]",
      "text/plain": [
       "<Figure size 432x360 with 1 Axes>"
      ]
     },
     "metadata": {},
     "output_type": "display_data"
    }
   ],
   "source": [
    "#KEY\n",
    "top_ten_pct.barh(\"State\", \"Percentage\")"
   ]
  },
  {
   "cell_type": "markdown",
   "metadata": {},
   "source": [
    "<div class=\"alert alert-info\">\n",
    "<b>Question:</b> What differences do you see from the bar chart of the states when we just saw the number of cases? Give some possible reasons for the differences.\n",
    "   </div>"
   ]
  },
  {
   "cell_type": "markdown",
   "metadata": {},
   "source": [
    "*Insert answer here.*"
   ]
  },
  {
   "cell_type": "markdown",
   "metadata": {},
   "source": [
    "# Using prediction and inference to draw conclusions <a id='subsection 1a'></a>"
   ]
  },
  {
   "cell_type": "markdown",
   "metadata": {},
   "source": [
    "Now that we have some experience making these visualizations, let's go back to exponential growth. We know that, without intervention, a disease can behave like a rumor and spread at an alarming rate. From the previous section, we also know that we need to take into account the population of the region when looking at the number of cases."
   ]
  },
  {
   "cell_type": "markdown",
   "metadata": {},
   "source": [
    "Now we will read in two tables: Covid by State and Population by state in order to look at the percentage of the cases. And the growth of the "
   ]
  },
  {
   "cell_type": "code",
   "execution_count": 60,
   "metadata": {
    "scrolled": false
   },
   "outputs": [
    {
     "data": {
      "text/html": [
       "<table border=\"1\" class=\"dataframe\">\n",
       "    <thead>\n",
       "        <tr>\n",
       "            <th>Days since 3/1/20</th> <th>Alabama</th> <th>Alaska</th> <th>American Samoa</th> <th>Arizona</th> <th>Arkansas</th> <th>California</th> <th>Colorado</th> <th>Connecticut</th> <th>Delaware</th> <th>District of Columbia</th> <th>Florida</th> <th>Georgia</th> <th>Guam</th> <th>Hawaii</th> <th>Idaho</th> <th>Illinois</th> <th>Indiana</th> <th>Iowa</th> <th>Kansas</th> <th>Kentucky</th> <th>Louisiana</th> <th>Maine</th> <th>Maryland</th> <th>Massachusetts</th> <th>Michigan</th> <th>Minnesota</th> <th>Mississippi</th> <th>Missouri</th> <th>Montana</th> <th>Nebraska</th> <th>Nevada</th> <th>New Hampshire</th> <th>New Jersey</th> <th>New Mexico</th> <th>New York</th> <th>North Carolina</th> <th>North Dakota</th> <th>Northern Mariana Islands</th> <th>Ohio</th> <th>Oklahoma</th> <th>Oregon</th> <th>Pennsylvania</th> <th>Puerto Rico</th> <th>Rhode Island</th> <th>South Carolina</th> <th>South Dakota</th> <th>Tennessee</th> <th>Texas</th> <th>Utah</th> <th>Vermont</th> <th>Virgin Islands</th> <th>Virginia</th> <th>Washington</th> <th>West Virginia</th> <th>Wisconsin</th> <th>Wyoming</th>\n",
       "        </tr>\n",
       "    </thead>\n",
       "    <tbody>\n",
       "        <tr>\n",
       "            <td>0                </td> <td>0      </td> <td>0     </td> <td>0             </td> <td>1      </td> <td>0       </td> <td>12        </td> <td>0       </td> <td>0          </td> <td>0       </td> <td>0                   </td> <td>0      </td> <td>0      </td> <td>0   </td> <td>0     </td> <td>0    </td> <td>3       </td> <td>0      </td> <td>0   </td> <td>0     </td> <td>0       </td> <td>0        </td> <td>0    </td> <td>0       </td> <td>1            </td> <td>0       </td> <td>0        </td> <td>0          </td> <td>0       </td> <td>0      </td> <td>0       </td> <td>0     </td> <td>0            </td> <td>0         </td> <td>0         </td> <td>0       </td> <td>0             </td> <td>0           </td> <td>0                       </td> <td>0   </td> <td>0       </td> <td>1     </td> <td>0           </td> <td>0          </td> <td>1           </td> <td>0             </td> <td>0           </td> <td>0        </td> <td>0    </td> <td>0   </td> <td>0      </td> <td>0             </td> <td>0       </td> <td>11        </td> <td>0            </td> <td>0        </td> <td>0      </td>\n",
       "        </tr>\n",
       "        <tr>\n",
       "            <td>1                </td> <td>0      </td> <td>0     </td> <td>0             </td> <td>1      </td> <td>0       </td> <td>21        </td> <td>0       </td> <td>0          </td> <td>0       </td> <td>0                   </td> <td>1      </td> <td>0      </td> <td>0   </td> <td>0     </td> <td>0    </td> <td>4       </td> <td>0      </td> <td>0   </td> <td>0     </td> <td>0       </td> <td>0        </td> <td>0    </td> <td>0       </td> <td>1            </td> <td>0       </td> <td>0        </td> <td>0          </td> <td>0       </td> <td>0      </td> <td>0       </td> <td>0     </td> <td>1            </td> <td>0         </td> <td>0         </td> <td>1       </td> <td>0             </td> <td>0           </td> <td>0                       </td> <td>0   </td> <td>0       </td> <td>3     </td> <td>0           </td> <td>0          </td> <td>2           </td> <td>0             </td> <td>0           </td> <td>0        </td> <td>0    </td> <td>0   </td> <td>0      </td> <td>0             </td> <td>0       </td> <td>18        </td> <td>0            </td> <td>0        </td> <td>0      </td>\n",
       "        </tr>\n",
       "        <tr>\n",
       "            <td>2                </td> <td>0      </td> <td>0     </td> <td>0             </td> <td>1      </td> <td>0       </td> <td>25        </td> <td>0       </td> <td>0          </td> <td>0       </td> <td>0                   </td> <td>2      </td> <td>2      </td> <td>0   </td> <td>0     </td> <td>0    </td> <td>4       </td> <td>0      </td> <td>0   </td> <td>0     </td> <td>0       </td> <td>0        </td> <td>0    </td> <td>0       </td> <td>2            </td> <td>0       </td> <td>0        </td> <td>0          </td> <td>0       </td> <td>0      </td> <td>0       </td> <td>0     </td> <td>2            </td> <td>0         </td> <td>0         </td> <td>2       </td> <td>1             </td> <td>0           </td> <td>0                       </td> <td>0   </td> <td>0       </td> <td>3     </td> <td>0           </td> <td>0          </td> <td>2           </td> <td>0             </td> <td>0           </td> <td>0        </td> <td>0    </td> <td>0   </td> <td>0      </td> <td>0             </td> <td>0       </td> <td>27        </td> <td>0            </td> <td>0        </td> <td>0      </td>\n",
       "        </tr>\n",
       "        <tr>\n",
       "            <td>3                </td> <td>0      </td> <td>0     </td> <td>0             </td> <td>1      </td> <td>0       </td> <td>35        </td> <td>0       </td> <td>0          </td> <td>0       </td> <td>0                   </td> <td>2      </td> <td>2      </td> <td>0   </td> <td>0     </td> <td>0    </td> <td>4       </td> <td>0      </td> <td>0   </td> <td>0     </td> <td>0       </td> <td>0        </td> <td>0    </td> <td>0       </td> <td>2            </td> <td>0       </td> <td>0        </td> <td>0          </td> <td>0       </td> <td>0      </td> <td>0       </td> <td>0     </td> <td>2            </td> <td>0         </td> <td>0         </td> <td>11      </td> <td>1             </td> <td>0           </td> <td>0                       </td> <td>0   </td> <td>0       </td> <td>3     </td> <td>0           </td> <td>0          </td> <td>2           </td> <td>0             </td> <td>0           </td> <td>0        </td> <td>0    </td> <td>0   </td> <td>0      </td> <td>0             </td> <td>0       </td> <td>39        </td> <td>0            </td> <td>0        </td> <td>0      </td>\n",
       "        </tr>\n",
       "        <tr>\n",
       "            <td>4                </td> <td>0      </td> <td>0     </td> <td>0             </td> <td>1      </td> <td>0       </td> <td>51        </td> <td>2       </td> <td>0          </td> <td>0       </td> <td>0                   </td> <td>3      </td> <td>2      </td> <td>0   </td> <td>0     </td> <td>0    </td> <td>5       </td> <td>0      </td> <td>0   </td> <td>0     </td> <td>0       </td> <td>0        </td> <td>0    </td> <td>0       </td> <td>2            </td> <td>0       </td> <td>0        </td> <td>0          </td> <td>0       </td> <td>0      </td> <td>0       </td> <td>1     </td> <td>2            </td> <td>2         </td> <td>0         </td> <td>23      </td> <td>1             </td> <td>0           </td> <td>0                       </td> <td>0   </td> <td>0       </td> <td>3     </td> <td>0           </td> <td>0          </td> <td>2           </td> <td>0             </td> <td>0           </td> <td>1        </td> <td>3    </td> <td>0   </td> <td>0      </td> <td>0             </td> <td>0       </td> <td>70        </td> <td>0            </td> <td>0        </td> <td>0      </td>\n",
       "        </tr>\n",
       "    </tbody>\n",
       "</table>\n",
       "<p>... (96 rows omitted)</p>"
      ],
      "text/plain": [
       "<IPython.core.display.HTML object>"
      ]
     },
     "metadata": {},
     "output_type": "display_data"
    }
   ],
   "source": [
    "covid_by_state = Table().read_table(\"data/covid_by_state.csv\")\n",
    "covid_by_state.show(5)"
   ]
  },
  {
   "cell_type": "code",
   "execution_count": 71,
   "metadata": {},
   "outputs": [
    {
     "data": {
      "application/vnd.jupyter.widget-view+json": {
       "model_id": "08dbe6c694264a2d901edb121c52439b",
       "version_major": 2,
       "version_minor": 0
      },
      "text/plain": [
       "interactive(children=(Dropdown(description='state_1', options=('Alabama', 'Alaska', 'American Samoa', 'Arizona…"
      ]
     },
     "metadata": {},
     "output_type": "display_data"
    }
   ],
   "source": [
    "#run this cell to get a line plot!\n",
    "def plot_states(state_1, state_2):\n",
    "    covid_by_state.select(0, state_1, state_2).plot(0)\n",
    "interact(plot_states, \n",
    "         state_1=Dropdown(options=covid_by_state.labels[1:]), \n",
    "         state_2=Dropdown(options=covid_by_state.labels[1:]));"
   ]
  },
  {
   "cell_type": "markdown",
   "metadata": {},
   "source": [
    "Possible widget. Look at the growth of the cases and try to explain using your knowledge and other sources. Tell a story. (Presentation)\n",
    "\n",
    "Tell us what you learned about the two states you chose."
   ]
  },
  {
   "cell_type": "markdown",
   "metadata": {},
   "source": [
    "Tell us something interesting about this data"
   ]
  },
  {
   "cell_type": "markdown",
   "metadata": {},
   "source": [
    "Source: How Math (and Vaccines) Keep You Safe From the Flu by Patrick Honner (Quanta Magazine)\n",
    "Notebook Authors: Alleanna Clark, Ashley Quiterio, Karla Palos Castellanos"
   ]
  },
  {
   "cell_type": "code",
   "execution_count": null,
   "metadata": {},
   "outputs": [],
   "source": []
  }
 ],
 "metadata": {
  "kernelspec": {
   "display_name": "Python 3",
   "language": "python",
   "name": "python3"
  },
  "language_info": {
   "codemirror_mode": {
    "name": "ipython",
    "version": 3
   },
   "file_extension": ".py",
   "mimetype": "text/x-python",
   "name": "python",
   "nbconvert_exporter": "python",
   "pygments_lexer": "ipython3",
   "version": "3.7.4"
  }
 },
 "nbformat": 4,
 "nbformat_minor": 4
}
