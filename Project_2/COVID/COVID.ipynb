{
 "cells": [
  {
   "cell_type": "code",
   "execution_count": 1,
   "metadata": {},
   "outputs": [],
   "source": [
    "import pandas as pd\n",
    "import numpy as np\n",
    "from datascience import *\n",
    "from datascience import Table\n",
    "import matplotlib\n",
    "from ipywidgets import interact, Dropdown\n",
    "\n",
    "\n",
    "%matplotlib inline\n",
    "import matplotlib.pyplot as plt\n",
    "import numpy as np\n",
    "plt.style.use('fivethirtyeight')"
   ]
  },
  {
   "cell_type": "markdown",
   "metadata": {},
   "source": [
    "# Covid-19"
   ]
  },
  {
   "cell_type": "markdown",
   "metadata": {},
   "source": [
    "## The Data Science Life Cycle - Table of Contents\n",
    "\n",
    "<a href='#section 0'>Background Knowledge: Spread of Disease</a>\n",
    "\n",
    "<a href='#subsection 1a'>Formulating a question or problem</a> \n",
    "\n",
    "<a href='#subsection 1b'>Acquiring and preparing data</a>\n",
    "\n",
    "<a href='#subsection 1c'>Conducting exploratory data analysis</a>\n",
    "\n",
    "<a href='#subsection 1d'>Using prediction and inference to draw conclusions</a>\n",
    "<br><br>"
   ]
  },
  {
   "cell_type": "markdown",
   "metadata": {},
   "source": [
    "## Background<a id='section 0'></a>\n"
   ]
  },
  {
   "cell_type": "markdown",
   "metadata": {},
   "source": [
    "In March 2020, our lives were turned upside down as the COVID-19 virus spread throughout the United States.  The Centers for Disease Control (CDC) collects data to help health scientists better understand how disease spreads.\n",
    "\n",
    "Making comparisons between counties and states can us understand how rapidly a virus spreads, the impact of restrictions on public gatherings on the spread of a virus, and measure the changes in fatality as the medical profession learns how to treat the virus and as people get vaccinated. "
   ]
  },
  {
   "cell_type": "markdown",
   "metadata": {},
   "source": [
    "## Formulating a question or problem <a id='subsection 1a'></a>\n",
    "\n",
    "It is important to ask questions that will be informative and that will avoid misleading results. There are many different questions we could ask about Covid-19, for example, many researchers use data to predict the outcomes based on intervention techniques such as social distancing."
   ]
  },
  {
   "cell_type": "markdown",
   "metadata": {},
   "source": [
    "<div class=\"alert alert-info\">\n",
    "<b>Question:</b> Take some time to formulate questions you have about this pandemic and the data you would need to answer the questions. In addition, add the link of an article you found interesting with a description an why it interested you. \n",
    "   </div>"
   ]
  },
  {
   "cell_type": "markdown",
   "metadata": {},
   "source": [
    "**Your questions:** *here*\n",
    "\n",
    "**Data you would need:** *here*\n",
    "\n",
    "\n",
    "**Article:** *link*"
   ]
  },
  {
   "cell_type": "markdown",
   "metadata": {},
   "source": [
    "## Acquiring and preparing data <a id='subsection 1b'></a>\n",
    "\n",
    "You will be looking at data from the COVID-19 Data Repository at Johns Hopkins University. You can find the raw data [here](https://github.com/CSSEGISandData/COVID-19/tree/master/csse_covid_19_data/csse_covid_19_time_series). \n",
    "\n",
    "You will be investigating the cumulative number of cases, new cases, and fatalities in a month for counties in states accross the US, from March 2020 to May 2021.\n",
    "\n",
    "The following table, `covid_data`, contains the data collected for each month from March 2020 through May 2021 for every county in the United States."
   ]
  },
  {
   "cell_type": "code",
   "execution_count": 14,
   "metadata": {},
   "outputs": [],
   "source": [
    "covid_data = Table().read_table(\"data/covid_timeseries.csv\")"
   ]
  },
  {
   "cell_type": "markdown",
   "metadata": {},
   "source": [
    "Here are some of the important fields in our data set that you will focus on:\n",
    "\n",
    "|Variable Name   | Description |\n",
    "|:---|:---|\n",
    "|Admin2 | County name |\n",
    "|Province_State | State name |\n",
    "|month| Reporting month represented as the last day of the month, e.g., 3.31.20 |\n",
    "|total_cases | Cumulative number of COVID cases |\n",
    "|month_cases| New cases reported in the month |\n",
    "|total_fatalities | Cumulative number of fatal COVID cases |\n",
    "|month_fatalities| New fatal cases reported in the month |\n",
    "|Population | Population in the county |"
   ]
  },
  {
   "cell_type": "markdown",
   "metadata": {},
   "source": [
    "Let's take a look at the data."
   ]
  },
  {
   "cell_type": "code",
   "execution_count": 3,
   "metadata": {},
   "outputs": [
    {
     "data": {
      "text/html": [
       "<table border=\"1\" class=\"dataframe\">\n",
       "    <thead>\n",
       "        <tr>\n",
       "            <th>iso3</th> <th>FIPS</th> <th>Admin2</th> <th>Province_State</th> <th>Country_Region</th> <th>Lat</th> <th>Long_</th> <th>Combined_Key</th> <th>month</th> <th>cases</th> <th>cases_new</th> <th>Population</th> <th>fatalities</th> <th>fatalities_new</th>\n",
       "        </tr>\n",
       "    </thead>\n",
       "    <tbody>\n",
       "        <tr>\n",
       "            <td>USA </td> <td>1001</td> <td>Autauga </td> <td>Alabama       </td> <td>US            </td> <td>32.5395</td> <td>-86.6441</td> <td>Autauga, Alabama, US </td> <td>3/20 </td> <td>8    </td> <td>8        </td> <td>55869     </td> <td>0         </td> <td>0             </td>\n",
       "        </tr>\n",
       "        <tr>\n",
       "            <td>USA </td> <td>1003</td> <td>Baldwin </td> <td>Alabama       </td> <td>US            </td> <td>30.7277</td> <td>-87.7221</td> <td>Baldwin, Alabama, US </td> <td>3/20 </td> <td>23   </td> <td>23       </td> <td>223234    </td> <td>1         </td> <td>1             </td>\n",
       "        </tr>\n",
       "        <tr>\n",
       "            <td>USA </td> <td>1005</td> <td>Barbour </td> <td>Alabama       </td> <td>US            </td> <td>31.8683</td> <td>-85.3871</td> <td>Barbour, Alabama, US </td> <td>3/20 </td> <td>0    </td> <td>0        </td> <td>24686     </td> <td>0         </td> <td>0             </td>\n",
       "        </tr>\n",
       "        <tr>\n",
       "            <td>USA </td> <td>1007</td> <td>Bibb    </td> <td>Alabama       </td> <td>US            </td> <td>32.9964</td> <td>-87.1251</td> <td>Bibb, Alabama, US    </td> <td>3/20 </td> <td>3    </td> <td>3        </td> <td>22394     </td> <td>0         </td> <td>0             </td>\n",
       "        </tr>\n",
       "        <tr>\n",
       "            <td>USA </td> <td>1009</td> <td>Blount  </td> <td>Alabama       </td> <td>US            </td> <td>33.9821</td> <td>-86.5679</td> <td>Blount, Alabama, US  </td> <td>3/20 </td> <td>7    </td> <td>7        </td> <td>57826     </td> <td>0         </td> <td>0             </td>\n",
       "        </tr>\n",
       "        <tr>\n",
       "            <td>USA </td> <td>1011</td> <td>Bullock </td> <td>Alabama       </td> <td>US            </td> <td>32.1003</td> <td>-85.7127</td> <td>Bullock, Alabama, US </td> <td>3/20 </td> <td>2    </td> <td>2        </td> <td>10101     </td> <td>0         </td> <td>0             </td>\n",
       "        </tr>\n",
       "        <tr>\n",
       "            <td>USA </td> <td>1013</td> <td>Butler  </td> <td>Alabama       </td> <td>US            </td> <td>31.753 </td> <td>-86.6806</td> <td>Butler, Alabama, US  </td> <td>3/20 </td> <td>1    </td> <td>1        </td> <td>19448     </td> <td>0         </td> <td>0             </td>\n",
       "        </tr>\n",
       "        <tr>\n",
       "            <td>USA </td> <td>1015</td> <td>Calhoun </td> <td>Alabama       </td> <td>US            </td> <td>33.7748</td> <td>-85.8263</td> <td>Calhoun, Alabama, US </td> <td>3/20 </td> <td>10   </td> <td>10       </td> <td>113605    </td> <td>0         </td> <td>0             </td>\n",
       "        </tr>\n",
       "        <tr>\n",
       "            <td>USA </td> <td>1017</td> <td>Chambers</td> <td>Alabama       </td> <td>US            </td> <td>32.9136</td> <td>-85.3907</td> <td>Chambers, Alabama, US</td> <td>3/20 </td> <td>40   </td> <td>40       </td> <td>33254     </td> <td>4         </td> <td>4             </td>\n",
       "        </tr>\n",
       "        <tr>\n",
       "            <td>USA </td> <td>1019</td> <td>Cherokee</td> <td>Alabama       </td> <td>US            </td> <td>34.1781</td> <td>-85.6064</td> <td>Cherokee, Alabama, US</td> <td>3/20 </td> <td>1    </td> <td>1        </td> <td>26196     </td> <td>0         </td> <td>0             </td>\n",
       "        </tr>\n",
       "    </tbody>\n",
       "</table>\n",
       "<p>... (48560 rows omitted)</p>"
      ],
      "text/plain": [
       "<IPython.core.display.HTML object>"
      ]
     },
     "metadata": {},
     "output_type": "display_data"
    }
   ],
   "source": [
    "# Run this cell show the first ten rows of the data\n",
    "covid_data.show(10)"
   ]
  },
  {
   "cell_type": "markdown",
   "metadata": {},
   "source": [
    "<div class=\"alert alert-info\">\n",
    "<b>Question:</b> We want to learn more about the dataset. First, how many total rows are in this table? \n",
    "</div>"
   ]
  },
  {
   "cell_type": "code",
   "execution_count": 18,
   "metadata": {},
   "outputs": [
    {
     "data": {
      "text/plain": [
       "48570"
      ]
     },
     "execution_count": 18,
     "metadata": {},
     "output_type": "execute_result"
    }
   ],
   "source": [
    "total_rows = covid_data.num_rows\n",
    "total_rows"
   ]
  },
  {
   "cell_type": "markdown",
   "metadata": {},
   "source": [
    "**Your answer here:**"
   ]
  },
  {
   "cell_type": "markdown",
   "metadata": {},
   "source": [
    "<div class=\"alert alert-info\">\n",
    "<b>Question:</b> What does each row represent?\n",
    "   </div>    "
   ]
  },
  {
   "cell_type": "markdown",
   "metadata": {},
   "source": [
    "**Your answer here:**"
   ]
  },
  {
   "cell_type": "markdown",
   "metadata": {},
   "source": [
    "<div class=\"alert alert-info\">\n",
    "<b>Question:</b> This table has many columns that are not particularly informative for our investigation. Which ones can we ignore? Which ones do we need to keep for our analysis?  \n",
    "</div>"
   ]
  },
  {
   "cell_type": "markdown",
   "metadata": {},
   "source": [
    "**Your answer here:**"
   ]
  },
  {
   "cell_type": "markdown",
   "metadata": {},
   "source": [
    "Before we eliminate these columns, let's take a look at some of them to confirm that we don't need them.\n",
    "\n",
    "It looks like `iso3` has only the value \"USA\" and that `Country_Region` is always \"US\". Let's check that this is the case by grouping on each of these columns."
   ]
  },
  {
   "cell_type": "code",
   "execution_count": 4,
   "metadata": {},
   "outputs": [
    {
     "data": {
      "text/html": [
       "<table border=\"1\" class=\"dataframe\">\n",
       "    <thead>\n",
       "        <tr>\n",
       "            <th>iso3</th> <th>count</th>\n",
       "        </tr>\n",
       "    </thead>\n",
       "    <tbody>\n",
       "        <tr>\n",
       "            <td>ASM </td> <td>15   </td>\n",
       "        </tr>\n",
       "        <tr>\n",
       "            <td>GUM </td> <td>15   </td>\n",
       "        </tr>\n",
       "        <tr>\n",
       "            <td>MNP </td> <td>15   </td>\n",
       "        </tr>\n",
       "        <tr>\n",
       "            <td>PRI </td> <td>1170 </td>\n",
       "        </tr>\n",
       "        <tr>\n",
       "            <td>USA </td> <td>47340</td>\n",
       "        </tr>\n",
       "        <tr>\n",
       "            <td>VIR </td> <td>15   </td>\n",
       "        </tr>\n",
       "    </tbody>\n",
       "</table>"
      ],
      "text/plain": [
       "iso3 | count\n",
       "ASM  | 15\n",
       "GUM  | 15\n",
       "MNP  | 15\n",
       "PRI  | 1170\n",
       "USA  | 47340\n",
       "VIR  | 15"
      ]
     },
     "execution_count": 4,
     "metadata": {},
     "output_type": "execute_result"
    }
   ],
   "source": [
    "covid_data.group('iso3')"
   ]
  },
  {
   "cell_type": "code",
   "execution_count": 5,
   "metadata": {},
   "outputs": [
    {
     "data": {
      "text/html": [
       "<table border=\"1\" class=\"dataframe\">\n",
       "    <thead>\n",
       "        <tr>\n",
       "            <th>Country_Region</th> <th>count</th>\n",
       "        </tr>\n",
       "    </thead>\n",
       "    <tbody>\n",
       "        <tr>\n",
       "            <td>US            </td> <td>48570</td>\n",
       "        </tr>\n",
       "    </tbody>\n",
       "</table>"
      ],
      "text/plain": [
       "Country_Region | count\n",
       "US             | 48570"
      ]
     },
     "execution_count": 5,
     "metadata": {},
     "output_type": "execute_result"
    }
   ],
   "source": [
    "covid_data.group('Country_Region')"
   ]
  },
  {
   "cell_type": "markdown",
   "metadata": {},
   "source": [
    "<div class=\"alert alert-info\">\n",
    "<b>Question:</b> What did you learn? \n",
    "Try searching on the Internet to find out about these iso3 codes. \n",
    "What are they?\n",
    "   </div> "
   ]
  },
  {
   "cell_type": "markdown",
   "metadata": {},
   "source": [
    "**Your answer here:**"
   ]
  },
  {
   "cell_type": "markdown",
   "metadata": {},
   "source": [
    "We are primarily interested in the COVID cases in the states. \n",
    "Select the rows that correspond to states."
   ]
  },
  {
   "cell_type": "code",
   "execution_count": 12,
   "metadata": {},
   "outputs": [
    {
     "data": {
      "text/html": [
       "<table border=\"1\" class=\"dataframe\">\n",
       "    <thead>\n",
       "        <tr>\n",
       "            <th>iso3</th> <th>FIPS</th> <th>Admin2</th> <th>Province_State</th> <th>Country_Region</th> <th>Lat</th> <th>Long_</th> <th>Combined_Key</th> <th>month</th> <th>cases</th> <th>cases_new</th> <th>Population</th> <th>fatalities</th> <th>fatalities_new</th>\n",
       "        </tr>\n",
       "    </thead>\n",
       "    <tbody>\n",
       "        <tr>\n",
       "            <td>USA </td> <td>1001</td> <td>Autauga </td> <td>Alabama       </td> <td>US            </td> <td>32.5395</td> <td>-86.6441</td> <td>Autauga, Alabama, US </td> <td>3/20 </td> <td>8    </td> <td>8        </td> <td>55869     </td> <td>0         </td> <td>0             </td>\n",
       "        </tr>\n",
       "        <tr>\n",
       "            <td>USA </td> <td>1003</td> <td>Baldwin </td> <td>Alabama       </td> <td>US            </td> <td>30.7277</td> <td>-87.7221</td> <td>Baldwin, Alabama, US </td> <td>3/20 </td> <td>23   </td> <td>23       </td> <td>223234    </td> <td>1         </td> <td>1             </td>\n",
       "        </tr>\n",
       "        <tr>\n",
       "            <td>USA </td> <td>1005</td> <td>Barbour </td> <td>Alabama       </td> <td>US            </td> <td>31.8683</td> <td>-85.3871</td> <td>Barbour, Alabama, US </td> <td>3/20 </td> <td>0    </td> <td>0        </td> <td>24686     </td> <td>0         </td> <td>0             </td>\n",
       "        </tr>\n",
       "        <tr>\n",
       "            <td>USA </td> <td>1007</td> <td>Bibb    </td> <td>Alabama       </td> <td>US            </td> <td>32.9964</td> <td>-87.1251</td> <td>Bibb, Alabama, US    </td> <td>3/20 </td> <td>3    </td> <td>3        </td> <td>22394     </td> <td>0         </td> <td>0             </td>\n",
       "        </tr>\n",
       "        <tr>\n",
       "            <td>USA </td> <td>1009</td> <td>Blount  </td> <td>Alabama       </td> <td>US            </td> <td>33.9821</td> <td>-86.5679</td> <td>Blount, Alabama, US  </td> <td>3/20 </td> <td>7    </td> <td>7        </td> <td>57826     </td> <td>0         </td> <td>0             </td>\n",
       "        </tr>\n",
       "        <tr>\n",
       "            <td>USA </td> <td>1011</td> <td>Bullock </td> <td>Alabama       </td> <td>US            </td> <td>32.1003</td> <td>-85.7127</td> <td>Bullock, Alabama, US </td> <td>3/20 </td> <td>2    </td> <td>2        </td> <td>10101     </td> <td>0         </td> <td>0             </td>\n",
       "        </tr>\n",
       "        <tr>\n",
       "            <td>USA </td> <td>1013</td> <td>Butler  </td> <td>Alabama       </td> <td>US            </td> <td>31.753 </td> <td>-86.6806</td> <td>Butler, Alabama, US  </td> <td>3/20 </td> <td>1    </td> <td>1        </td> <td>19448     </td> <td>0         </td> <td>0             </td>\n",
       "        </tr>\n",
       "        <tr>\n",
       "            <td>USA </td> <td>1015</td> <td>Calhoun </td> <td>Alabama       </td> <td>US            </td> <td>33.7748</td> <td>-85.8263</td> <td>Calhoun, Alabama, US </td> <td>3/20 </td> <td>10   </td> <td>10       </td> <td>113605    </td> <td>0         </td> <td>0             </td>\n",
       "        </tr>\n",
       "        <tr>\n",
       "            <td>USA </td> <td>1017</td> <td>Chambers</td> <td>Alabama       </td> <td>US            </td> <td>32.9136</td> <td>-85.3907</td> <td>Chambers, Alabama, US</td> <td>3/20 </td> <td>40   </td> <td>40       </td> <td>33254     </td> <td>4         </td> <td>4             </td>\n",
       "        </tr>\n",
       "        <tr>\n",
       "            <td>USA </td> <td>1019</td> <td>Cherokee</td> <td>Alabama       </td> <td>US            </td> <td>34.1781</td> <td>-85.6064</td> <td>Cherokee, Alabama, US</td> <td>3/20 </td> <td>1    </td> <td>1        </td> <td>26196     </td> <td>0         </td> <td>0             </td>\n",
       "        </tr>\n",
       "    </tbody>\n",
       "</table>\n",
       "<p>... (47330 rows omitted)</p>"
      ],
      "text/plain": [
       "<IPython.core.display.HTML object>"
      ]
     },
     "metadata": {},
     "output_type": "display_data"
    }
   ],
   "source": [
    "covid_us = covid_data.where('iso3','USA')\n",
    "covid_us.show(10)\n"
   ]
  },
  {
   "cell_type": "markdown",
   "metadata": {},
   "source": [
    "Now how many rows remain?"
   ]
  },
  {
   "cell_type": "code",
   "execution_count": 8,
   "metadata": {},
   "outputs": [
    {
     "data": {
      "text/plain": [
       "47340"
      ]
     },
     "execution_count": 8,
     "metadata": {},
     "output_type": "execute_result"
    }
   ],
   "source": [
    "covid_us.num_rows"
   ]
  },
  {
   "cell_type": "markdown",
   "metadata": {},
   "source": [
    "Drop the columns: `iso3`, `Country_Region`, `Lat`, `Long_'`, `Combined_Key`\n",
    "\n",
    "Keep the column `FIPS` because it uniquely identifies a county. For example, Montana and Wyoming both have a county called \"Big Horn\". \n",
    "\n",
    "Next week, we will make maps, and then the columns `Lat` and `Long_` will be useful, but until then, drop them. "
   ]
  },
  {
   "cell_type": "code",
   "execution_count": 19,
   "metadata": {},
   "outputs": [
    {
     "data": {
      "text/html": [
       "<table border=\"1\" class=\"dataframe\">\n",
       "    <thead>\n",
       "        <tr>\n",
       "            <th>FIPS</th> <th>Admin2</th> <th>Province_State</th> <th>month</th> <th>cases</th> <th>cases_new</th> <th>Population</th> <th>fatalities</th> <th>fatalities_new</th>\n",
       "        </tr>\n",
       "    </thead>\n",
       "    <tbody>\n",
       "        <tr>\n",
       "            <td>1001</td> <td>Autauga </td> <td>Alabama       </td> <td>3/20 </td> <td>8    </td> <td>8        </td> <td>55869     </td> <td>0         </td> <td>0             </td>\n",
       "        </tr>\n",
       "        <tr>\n",
       "            <td>1003</td> <td>Baldwin </td> <td>Alabama       </td> <td>3/20 </td> <td>23   </td> <td>23       </td> <td>223234    </td> <td>1         </td> <td>1             </td>\n",
       "        </tr>\n",
       "        <tr>\n",
       "            <td>1005</td> <td>Barbour </td> <td>Alabama       </td> <td>3/20 </td> <td>0    </td> <td>0        </td> <td>24686     </td> <td>0         </td> <td>0             </td>\n",
       "        </tr>\n",
       "        <tr>\n",
       "            <td>1007</td> <td>Bibb    </td> <td>Alabama       </td> <td>3/20 </td> <td>3    </td> <td>3        </td> <td>22394     </td> <td>0         </td> <td>0             </td>\n",
       "        </tr>\n",
       "        <tr>\n",
       "            <td>1009</td> <td>Blount  </td> <td>Alabama       </td> <td>3/20 </td> <td>7    </td> <td>7        </td> <td>57826     </td> <td>0         </td> <td>0             </td>\n",
       "        </tr>\n",
       "        <tr>\n",
       "            <td>1011</td> <td>Bullock </td> <td>Alabama       </td> <td>3/20 </td> <td>2    </td> <td>2        </td> <td>10101     </td> <td>0         </td> <td>0             </td>\n",
       "        </tr>\n",
       "        <tr>\n",
       "            <td>1013</td> <td>Butler  </td> <td>Alabama       </td> <td>3/20 </td> <td>1    </td> <td>1        </td> <td>19448     </td> <td>0         </td> <td>0             </td>\n",
       "        </tr>\n",
       "        <tr>\n",
       "            <td>1015</td> <td>Calhoun </td> <td>Alabama       </td> <td>3/20 </td> <td>10   </td> <td>10       </td> <td>113605    </td> <td>0         </td> <td>0             </td>\n",
       "        </tr>\n",
       "        <tr>\n",
       "            <td>1017</td> <td>Chambers</td> <td>Alabama       </td> <td>3/20 </td> <td>40   </td> <td>40       </td> <td>33254     </td> <td>4         </td> <td>4             </td>\n",
       "        </tr>\n",
       "        <tr>\n",
       "            <td>1019</td> <td>Cherokee</td> <td>Alabama       </td> <td>3/20 </td> <td>1    </td> <td>1        </td> <td>26196     </td> <td>0         </td> <td>0             </td>\n",
       "        </tr>\n",
       "    </tbody>\n",
       "</table>\n",
       "<p>... (47330 rows omitted)</p>"
      ],
      "text/plain": [
       "<IPython.core.display.HTML object>"
      ]
     },
     "metadata": {},
     "output_type": "display_data"
    }
   ],
   "source": [
    "cols_to_drop = [\"iso3\", \"Country_Region\", \"Lat\", \"Long_\", \"Combined_Key\"]\n",
    "\n",
    "covid_us = covid_us.drop(cols_to_drop)\n",
    "\n",
    "covid_us.show(10)"
   ]
  },
  {
   "cell_type": "markdown",
   "metadata": {},
   "source": [
    "Let's give the remaining columns simpler, more meaningful names."
   ]
  },
  {
   "cell_type": "code",
   "execution_count": 20,
   "metadata": {},
   "outputs": [],
   "source": [
    "old_names = ['Admin2', 'Province_State', 'month']\n",
    "new_names = ['County', 'State', 'Date']"
   ]
  },
  {
   "cell_type": "code",
   "execution_count": 21,
   "metadata": {},
   "outputs": [],
   "source": [
    "covid_us = covid_us.relabel(old_names, new_names)"
   ]
  },
  {
   "cell_type": "code",
   "execution_count": 23,
   "metadata": {
    "scrolled": true
   },
   "outputs": [
    {
     "data": {
      "text/html": [
       "<table border=\"1\" class=\"dataframe\">\n",
       "    <thead>\n",
       "        <tr>\n",
       "            <th>FIPS</th> <th>County</th> <th>State</th> <th>Date</th> <th>cases</th> <th>cases_new</th> <th>Population</th> <th>fatalities</th> <th>fatalities_new</th>\n",
       "        </tr>\n",
       "    </thead>\n",
       "    <tbody>\n",
       "        <tr>\n",
       "            <td>1001</td> <td>Autauga </td> <td>Alabama</td> <td>3/20</td> <td>8    </td> <td>8        </td> <td>55869     </td> <td>0         </td> <td>0             </td>\n",
       "        </tr>\n",
       "        <tr>\n",
       "            <td>1003</td> <td>Baldwin </td> <td>Alabama</td> <td>3/20</td> <td>23   </td> <td>23       </td> <td>223234    </td> <td>1         </td> <td>1             </td>\n",
       "        </tr>\n",
       "        <tr>\n",
       "            <td>1005</td> <td>Barbour </td> <td>Alabama</td> <td>3/20</td> <td>0    </td> <td>0        </td> <td>24686     </td> <td>0         </td> <td>0             </td>\n",
       "        </tr>\n",
       "        <tr>\n",
       "            <td>1007</td> <td>Bibb    </td> <td>Alabama</td> <td>3/20</td> <td>3    </td> <td>3        </td> <td>22394     </td> <td>0         </td> <td>0             </td>\n",
       "        </tr>\n",
       "        <tr>\n",
       "            <td>1009</td> <td>Blount  </td> <td>Alabama</td> <td>3/20</td> <td>7    </td> <td>7        </td> <td>57826     </td> <td>0         </td> <td>0             </td>\n",
       "        </tr>\n",
       "        <tr>\n",
       "            <td>1011</td> <td>Bullock </td> <td>Alabama</td> <td>3/20</td> <td>2    </td> <td>2        </td> <td>10101     </td> <td>0         </td> <td>0             </td>\n",
       "        </tr>\n",
       "        <tr>\n",
       "            <td>1013</td> <td>Butler  </td> <td>Alabama</td> <td>3/20</td> <td>1    </td> <td>1        </td> <td>19448     </td> <td>0         </td> <td>0             </td>\n",
       "        </tr>\n",
       "        <tr>\n",
       "            <td>1015</td> <td>Calhoun </td> <td>Alabama</td> <td>3/20</td> <td>10   </td> <td>10       </td> <td>113605    </td> <td>0         </td> <td>0             </td>\n",
       "        </tr>\n",
       "        <tr>\n",
       "            <td>1017</td> <td>Chambers</td> <td>Alabama</td> <td>3/20</td> <td>40   </td> <td>40       </td> <td>33254     </td> <td>4         </td> <td>4             </td>\n",
       "        </tr>\n",
       "        <tr>\n",
       "            <td>1019</td> <td>Cherokee</td> <td>Alabama</td> <td>3/20</td> <td>1    </td> <td>1        </td> <td>26196     </td> <td>0         </td> <td>0             </td>\n",
       "        </tr>\n",
       "    </tbody>\n",
       "</table>\n",
       "<p>... (47330 rows omitted)</p>"
      ],
      "text/plain": [
       "<IPython.core.display.HTML object>"
      ]
     },
     "metadata": {},
     "output_type": "display_data"
    }
   ],
   "source": [
    "covid_us.show(10)"
   ]
  },
  {
   "cell_type": "markdown",
   "metadata": {},
   "source": [
    "<div class=\"alert alert-info\">\n",
    "<b>Question:</b> It's important to evalute our data source. What do you know about Johns Hopkins University? What motivations do they have for collecting this data? What data is missing?\n",
    "   </div>"
   ]
  },
  {
   "cell_type": "markdown",
   "metadata": {},
   "source": [
    "**Your answer here:**"
   ]
  },
  {
   "cell_type": "markdown",
   "metadata": {},
   "source": [
    "## Conducting exploratory data analysis <a id='subsection 1c'></a>"
   ]
  },
  {
   "cell_type": "markdown",
   "metadata": {},
   "source": [
    "Often when we begin our explorations, we first narrow down the data to explore. For example, we might choose a particular month to examine, or a particular state, or both. To get us started, let's narrow our exploartions to the first month, March 2020. Of course, you may choose to examine a different month.\n",
    "\n",
    "Visualizations help us to understand what the data is telling us. \n",
    "\n",
    "Also, the method of comparison is a common and powerful tool to help us understand the data. For example, we might want to compare the counties with the most confirmed cases via a bar chart. "
   ]
  },
  {
   "cell_type": "markdown",
   "metadata": {},
   "source": [
    "### Cases in March, 2020\n",
    "\n",
    "\n",
    "To explore the counties that had the highest number of cases in March 2020, we will need to first select the rows in the table that correspond to March, 2020. "
   ]
  },
  {
   "cell_type": "code",
   "execution_count": 32,
   "metadata": {},
   "outputs": [],
   "source": [
    "covid_mar20 = covid_us.where('Date', '3/20')"
   ]
  },
  {
   "cell_type": "code",
   "execution_count": 33,
   "metadata": {
    "scrolled": true
   },
   "outputs": [
    {
     "data": {
      "text/html": [
       "<table border=\"1\" class=\"dataframe\">\n",
       "    <thead>\n",
       "        <tr>\n",
       "            <th>FIPS</th> <th>County</th> <th>State</th> <th>Date</th> <th>cases</th> <th>cases_new</th> <th>Population</th> <th>fatalities</th> <th>fatalities_new</th>\n",
       "        </tr>\n",
       "    </thead>\n",
       "    <tbody>\n",
       "        <tr>\n",
       "            <td>1001</td> <td>Autauga </td> <td>Alabama</td> <td>3/20</td> <td>8    </td> <td>8        </td> <td>55869     </td> <td>0         </td> <td>0             </td>\n",
       "        </tr>\n",
       "        <tr>\n",
       "            <td>1003</td> <td>Baldwin </td> <td>Alabama</td> <td>3/20</td> <td>23   </td> <td>23       </td> <td>223234    </td> <td>1         </td> <td>1             </td>\n",
       "        </tr>\n",
       "        <tr>\n",
       "            <td>1005</td> <td>Barbour </td> <td>Alabama</td> <td>3/20</td> <td>0    </td> <td>0        </td> <td>24686     </td> <td>0         </td> <td>0             </td>\n",
       "        </tr>\n",
       "        <tr>\n",
       "            <td>1007</td> <td>Bibb    </td> <td>Alabama</td> <td>3/20</td> <td>3    </td> <td>3        </td> <td>22394     </td> <td>0         </td> <td>0             </td>\n",
       "        </tr>\n",
       "        <tr>\n",
       "            <td>1009</td> <td>Blount  </td> <td>Alabama</td> <td>3/20</td> <td>7    </td> <td>7        </td> <td>57826     </td> <td>0         </td> <td>0             </td>\n",
       "        </tr>\n",
       "        <tr>\n",
       "            <td>1011</td> <td>Bullock </td> <td>Alabama</td> <td>3/20</td> <td>2    </td> <td>2        </td> <td>10101     </td> <td>0         </td> <td>0             </td>\n",
       "        </tr>\n",
       "        <tr>\n",
       "            <td>1013</td> <td>Butler  </td> <td>Alabama</td> <td>3/20</td> <td>1    </td> <td>1        </td> <td>19448     </td> <td>0         </td> <td>0             </td>\n",
       "        </tr>\n",
       "        <tr>\n",
       "            <td>1015</td> <td>Calhoun </td> <td>Alabama</td> <td>3/20</td> <td>10   </td> <td>10       </td> <td>113605    </td> <td>0         </td> <td>0             </td>\n",
       "        </tr>\n",
       "        <tr>\n",
       "            <td>1017</td> <td>Chambers</td> <td>Alabama</td> <td>3/20</td> <td>40   </td> <td>40       </td> <td>33254     </td> <td>4         </td> <td>4             </td>\n",
       "        </tr>\n",
       "        <tr>\n",
       "            <td>1019</td> <td>Cherokee</td> <td>Alabama</td> <td>3/20</td> <td>1    </td> <td>1        </td> <td>26196     </td> <td>0         </td> <td>0             </td>\n",
       "        </tr>\n",
       "    </tbody>\n",
       "</table>\n",
       "<p>... (3146 rows omitted)</p>"
      ],
      "text/plain": [
       "<IPython.core.display.HTML object>"
      ]
     },
     "metadata": {},
     "output_type": "display_data"
    }
   ],
   "source": [
    "covid_mar20.show(10)"
   ]
  },
  {
   "cell_type": "markdown",
   "metadata": {},
   "source": [
    "<div class=\"alert alert-info\">\n",
    "<b>Question:</b> Next, sort the dataset to show the counties with the highest number of new cases for that month.   \n",
    "    \n",
    "   </div>"
   ]
  },
  {
   "cell_type": "code",
   "execution_count": 34,
   "metadata": {},
   "outputs": [
    {
     "data": {
      "text/html": [
       "<table border=\"1\" class=\"dataframe\">\n",
       "    <thead>\n",
       "        <tr>\n",
       "            <th>FIPS</th> <th>County</th> <th>State</th> <th>Date</th> <th>cases</th> <th>cases_new</th> <th>Population</th> <th>fatalities</th> <th>fatalities_new</th>\n",
       "        </tr>\n",
       "    </thead>\n",
       "    <tbody>\n",
       "        <tr>\n",
       "            <td>36081</td> <td>Queens     </td> <td>New York  </td> <td>3/20</td> <td>13691</td> <td>13691    </td> <td>2253858   </td> <td>660       </td> <td>660           </td>\n",
       "        </tr>\n",
       "        <tr>\n",
       "            <td>36047</td> <td>Kings      </td> <td>New York  </td> <td>3/20</td> <td>11917</td> <td>11917    </td> <td>2559903   </td> <td>662       </td> <td>662           </td>\n",
       "        </tr>\n",
       "        <tr>\n",
       "            <td>36119</td> <td>Westchester</td> <td>New York  </td> <td>3/20</td> <td>9967 </td> <td>9967     </td> <td>967506    </td> <td>10        </td> <td>10            </td>\n",
       "        </tr>\n",
       "        <tr>\n",
       "            <td>36059</td> <td>Nassau     </td> <td>New York  </td> <td>3/20</td> <td>8544 </td> <td>8544     </td> <td>1356924   </td> <td>48        </td> <td>48            </td>\n",
       "        </tr>\n",
       "        <tr>\n",
       "            <td>36005</td> <td>Bronx      </td> <td>New York  </td> <td>3/20</td> <td>7766 </td> <td>7766     </td> <td>1418207   </td> <td>465       </td> <td>465           </td>\n",
       "        </tr>\n",
       "        <tr>\n",
       "            <td>36061</td> <td>New York   </td> <td>New York  </td> <td>3/20</td> <td>6876 </td> <td>6876     </td> <td>1628706   </td> <td>292       </td> <td>292           </td>\n",
       "        </tr>\n",
       "        <tr>\n",
       "            <td>36103</td> <td>Suffolk    </td> <td>New York  </td> <td>3/20</td> <td>6713 </td> <td>6713     </td> <td>1476601   </td> <td>44        </td> <td>44            </td>\n",
       "        </tr>\n",
       "        <tr>\n",
       "            <td>17031</td> <td>Cook       </td> <td>Illinois  </td> <td>3/20</td> <td>4496 </td> <td>4494     </td> <td>5150233   </td> <td>61        </td> <td>61            </td>\n",
       "        </tr>\n",
       "        <tr>\n",
       "            <td>26163</td> <td>Wayne      </td> <td>Michigan  </td> <td>3/20</td> <td>3752 </td> <td>3752     </td> <td>1749343   </td> <td>142       </td> <td>142           </td>\n",
       "        </tr>\n",
       "        <tr>\n",
       "            <td>6037 </td> <td>Los Angeles</td> <td>California</td> <td>3/20</td> <td>3019 </td> <td>3018     </td> <td>10039107  </td> <td>54        </td> <td>54            </td>\n",
       "        </tr>\n",
       "    </tbody>\n",
       "</table>\n",
       "<p>... (3146 rows omitted)</p>"
      ],
      "text/plain": [
       "FIPS  | County      | State      | Date | cases | cases_new | Population | fatalities | fatalities_new\n",
       "36081 | Queens      | New York   | 3/20 | 13691 | 13691     | 2253858    | 660        | 660\n",
       "36047 | Kings       | New York   | 3/20 | 11917 | 11917     | 2559903    | 662        | 662\n",
       "36119 | Westchester | New York   | 3/20 | 9967  | 9967      | 967506     | 10         | 10\n",
       "36059 | Nassau      | New York   | 3/20 | 8544  | 8544      | 1356924    | 48         | 48\n",
       "36005 | Bronx       | New York   | 3/20 | 7766  | 7766      | 1418207    | 465        | 465\n",
       "36061 | New York    | New York   | 3/20 | 6876  | 6876      | 1628706    | 292        | 292\n",
       "36103 | Suffolk     | New York   | 3/20 | 6713  | 6713      | 1476601    | 44         | 44\n",
       "17031 | Cook        | Illinois   | 3/20 | 4496  | 4494      | 5150233    | 61         | 61\n",
       "26163 | Wayne       | Michigan   | 3/20 | 3752  | 3752      | 1749343    | 142        | 142\n",
       "6037  | Los Angeles | California | 3/20 | 3019  | 3018      | 10039107   | 54         | 54\n",
       "... (3146 rows omitted)"
      ]
     },
     "execution_count": 34,
     "metadata": {},
     "output_type": "execute_result"
    }
   ],
   "source": [
    "new_cases_sorted = covid_mar20.sort('cases_new', descending=True)\n",
    "new_cases_sorted"
   ]
  },
  {
   "cell_type": "markdown",
   "metadata": {},
   "source": [
    "<div class=\"alert alert-info\">\n",
    "<b>Question:</b> Now, cut down the table to only have the top twenty from sorted_cases above.\n",
    "   </div>"
   ]
  },
  {
   "cell_type": "code",
   "execution_count": null,
   "metadata": {},
   "outputs": [],
   "source": [
    "top_twenty = new_cases_sorted...(np.arange(20))\n",
    "top_twenty"
   ]
  },
  {
   "cell_type": "code",
   "execution_count": 35,
   "metadata": {},
   "outputs": [
    {
     "data": {
      "text/html": [
       "<table border=\"1\" class=\"dataframe\">\n",
       "    <thead>\n",
       "        <tr>\n",
       "            <th>FIPS</th> <th>County</th> <th>State</th> <th>Date</th> <th>cases</th> <th>cases_new</th> <th>Population</th> <th>fatalities</th> <th>fatalities_new</th>\n",
       "        </tr>\n",
       "    </thead>\n",
       "    <tbody>\n",
       "        <tr>\n",
       "            <td>36081</td> <td>Queens     </td> <td>New York  </td> <td>3/20</td> <td>13691</td> <td>13691    </td> <td>2253858   </td> <td>660       </td> <td>660           </td>\n",
       "        </tr>\n",
       "        <tr>\n",
       "            <td>36047</td> <td>Kings      </td> <td>New York  </td> <td>3/20</td> <td>11917</td> <td>11917    </td> <td>2559903   </td> <td>662       </td> <td>662           </td>\n",
       "        </tr>\n",
       "        <tr>\n",
       "            <td>36119</td> <td>Westchester</td> <td>New York  </td> <td>3/20</td> <td>9967 </td> <td>9967     </td> <td>967506    </td> <td>10        </td> <td>10            </td>\n",
       "        </tr>\n",
       "        <tr>\n",
       "            <td>36059</td> <td>Nassau     </td> <td>New York  </td> <td>3/20</td> <td>8544 </td> <td>8544     </td> <td>1356924   </td> <td>48        </td> <td>48            </td>\n",
       "        </tr>\n",
       "        <tr>\n",
       "            <td>36005</td> <td>Bronx      </td> <td>New York  </td> <td>3/20</td> <td>7766 </td> <td>7766     </td> <td>1418207   </td> <td>465       </td> <td>465           </td>\n",
       "        </tr>\n",
       "        <tr>\n",
       "            <td>36061</td> <td>New York   </td> <td>New York  </td> <td>3/20</td> <td>6876 </td> <td>6876     </td> <td>1628706   </td> <td>292       </td> <td>292           </td>\n",
       "        </tr>\n",
       "        <tr>\n",
       "            <td>36103</td> <td>Suffolk    </td> <td>New York  </td> <td>3/20</td> <td>6713 </td> <td>6713     </td> <td>1476601   </td> <td>44        </td> <td>44            </td>\n",
       "        </tr>\n",
       "        <tr>\n",
       "            <td>17031</td> <td>Cook       </td> <td>Illinois  </td> <td>3/20</td> <td>4496 </td> <td>4494     </td> <td>5150233   </td> <td>61        </td> <td>61            </td>\n",
       "        </tr>\n",
       "        <tr>\n",
       "            <td>26163</td> <td>Wayne      </td> <td>Michigan  </td> <td>3/20</td> <td>3752 </td> <td>3752     </td> <td>1749343   </td> <td>142       </td> <td>142           </td>\n",
       "        </tr>\n",
       "        <tr>\n",
       "            <td>6037 </td> <td>Los Angeles</td> <td>California</td> <td>3/20</td> <td>3019 </td> <td>3018     </td> <td>10039107  </td> <td>54        </td> <td>54            </td>\n",
       "        </tr>\n",
       "    </tbody>\n",
       "</table>\n",
       "<p>... (10 rows omitted)</p>"
      ],
      "text/plain": [
       "FIPS  | County      | State      | Date | cases | cases_new | Population | fatalities | fatalities_new\n",
       "36081 | Queens      | New York   | 3/20 | 13691 | 13691     | 2253858    | 660        | 660\n",
       "36047 | Kings       | New York   | 3/20 | 11917 | 11917     | 2559903    | 662        | 662\n",
       "36119 | Westchester | New York   | 3/20 | 9967  | 9967      | 967506     | 10         | 10\n",
       "36059 | Nassau      | New York   | 3/20 | 8544  | 8544      | 1356924    | 48         | 48\n",
       "36005 | Bronx       | New York   | 3/20 | 7766  | 7766      | 1418207    | 465        | 465\n",
       "36061 | New York    | New York   | 3/20 | 6876  | 6876      | 1628706    | 292        | 292\n",
       "36103 | Suffolk     | New York   | 3/20 | 6713  | 6713      | 1476601    | 44         | 44\n",
       "17031 | Cook        | Illinois   | 3/20 | 4496  | 4494      | 5150233    | 61         | 61\n",
       "26163 | Wayne       | Michigan   | 3/20 | 3752  | 3752      | 1749343    | 142        | 142\n",
       "6037  | Los Angeles | California | 3/20 | 3019  | 3018      | 10039107   | 54         | 54\n",
       "... (10 rows omitted)"
      ]
     },
     "execution_count": 35,
     "metadata": {},
     "output_type": "execute_result"
    }
   ],
   "source": [
    "#KEY\n",
    "top_twenty = new_cases_sorted.take(np.arange(20))\n",
    "top_twenty"
   ]
  },
  {
   "cell_type": "markdown",
   "metadata": {},
   "source": [
    "<div class=\"alert alert-info\">\n",
    "<b>Question:</b> Next, create a bar chart to visualize the comparison between the top_ten counties for the number of cases in March, 2020.\n",
    "   </div>"
   ]
  },
  {
   "cell_type": "code",
   "execution_count": null,
   "metadata": {},
   "outputs": [],
   "source": [
    "top_twenty...(\"...\", \"...\")"
   ]
  },
  {
   "cell_type": "code",
   "execution_count": 36,
   "metadata": {},
   "outputs": [
    {
     "data": {
      "image/png": "[encoded data removed]",
      "text/plain": [
       "<Figure size 432x720 with 1 Axes>"
      ]
     },
     "metadata": {},
     "output_type": "display_data"
    }
   ],
   "source": [
    "top_twenty.barh(\"County\", \"cases_new\")"
   ]
  },
  {
   "cell_type": "markdown",
   "metadata": {},
   "source": [
    "<div class=\"alert alert-info\">\n",
    "<b>Question:</b> Do you recognize the counties? Where are the most of these counties? Why might this be the case?\n",
    "</div>"
   ]
  },
  {
   "cell_type": "markdown",
   "metadata": {},
   "source": [
    "**Your answer here:**"
   ]
  },
  {
   "cell_type": "markdown",
   "metadata": {},
   "source": [
    "## Cases pers 100,000 people"
   ]
  },
  {
   "cell_type": "markdown",
   "metadata": {},
   "source": [
    "There is more than one way to measure the severity of the pandemic. Rather than looking at pure counts, we may want to adjust it according to how many people are in the county. For example, a county with 6,000 people, half of whom are sick, would not appear in the top 10 counties that we calculated. For this reason, we also want to compare the rates. We could calculate the percentage of cases in the population:\n",
    "\n",
    "$$100 * cases/population$$\n",
    "\n",
    "\n",
    "The percentage represents the average number of cases per 100 people. When percentages are small, we often use rates per 10,000 or 100,000 people, i.e.,\n",
    "\n",
    "$$100000 * cases/population$$\n",
    "\n",
    "Let's find the top 20 counties that have highest number of cases per 100,000. "
   ]
  },
  {
   "cell_type": "markdown",
   "metadata": {},
   "source": [
    "<div class=\"alert alert-info\">\n",
    "<b>Question:</b>  Which 20 counties that have highest number of cases per 100,000 people?\n",
    "</div>"
   ]
  },
  {
   "cell_type": "markdown",
   "metadata": {},
   "source": [
    "As a first step, we drop the counties that don't have a value for population. If you want, you can dig deeper and see which counties these are. It's just a hand full."
   ]
  },
  {
   "cell_type": "code",
   "execution_count": 37,
   "metadata": {},
   "outputs": [],
   "source": [
    "covid_mar20 = covid_mar20.where(covid_mar20['Population'] > 0)"
   ]
  },
  {
   "cell_type": "markdown",
   "metadata": {},
   "source": [
    "<div class=\"alert alert-info\">\n",
    "<b>Question:</b> Add a column called \"cases_new_per100k\" that has the number of cases in a county in March 2020 divided by the population of the county.\n",
    "   </div>"
   ]
  },
  {
   "cell_type": "code",
   "execution_count": 39,
   "metadata": {},
   "outputs": [],
   "source": [
    "covid_mar20['cases_per100k'] = 100000 * covid_mar20['cases_new'] / covid_mar20['Population']"
   ]
  },
  {
   "cell_type": "code",
   "execution_count": 40,
   "metadata": {},
   "outputs": [
    {
     "data": {
      "text/html": [
       "<table border=\"1\" class=\"dataframe\">\n",
       "    <thead>\n",
       "        <tr>\n",
       "            <th>FIPS</th> <th>County</th> <th>State</th> <th>Date</th> <th>cases</th> <th>cases_new</th> <th>Population</th> <th>fatalities</th> <th>fatalities_new</th> <th>cases_per100k</th>\n",
       "        </tr>\n",
       "    </thead>\n",
       "    <tbody>\n",
       "        <tr>\n",
       "            <td>36119</td> <td>Westchester</td> <td>New York </td> <td>3/20</td> <td>9967 </td> <td>9967     </td> <td>967506    </td> <td>10        </td> <td>10            </td> <td>1030.17      </td>\n",
       "        </tr>\n",
       "        <tr>\n",
       "            <td>36087</td> <td>Rockland   </td> <td>New York </td> <td>3/20</td> <td>2863 </td> <td>2863     </td> <td>325789    </td> <td>8         </td> <td>8             </td> <td>878.79       </td>\n",
       "        </tr>\n",
       "        <tr>\n",
       "            <td>16013</td> <td>Blaine     </td> <td>Idaho    </td> <td>3/20</td> <td>192  </td> <td>192      </td> <td>23021     </td> <td>2         </td> <td>2             </td> <td>834.021      </td>\n",
       "        </tr>\n",
       "        <tr>\n",
       "            <td>36059</td> <td>Nassau     </td> <td>New York </td> <td>3/20</td> <td>8544 </td> <td>8544     </td> <td>1356924   </td> <td>48        </td> <td>48            </td> <td>629.659      </td>\n",
       "        </tr>\n",
       "        <tr>\n",
       "            <td>36081</td> <td>Queens     </td> <td>New York </td> <td>3/20</td> <td>13691</td> <td>13691    </td> <td>2253858   </td> <td>660       </td> <td>660           </td> <td>607.447      </td>\n",
       "        </tr>\n",
       "        <tr>\n",
       "            <td>36085</td> <td>Richmond   </td> <td>New York </td> <td>3/20</td> <td>2889 </td> <td>2889     </td> <td>476143    </td> <td>113       </td> <td>113           </td> <td>606.75       </td>\n",
       "        </tr>\n",
       "        <tr>\n",
       "            <td>36005</td> <td>Bronx      </td> <td>New York </td> <td>3/20</td> <td>7766 </td> <td>7766     </td> <td>1418207   </td> <td>465       </td> <td>465           </td> <td>547.593      </td>\n",
       "        </tr>\n",
       "        <tr>\n",
       "            <td>13095</td> <td>Dougherty  </td> <td>Georgia  </td> <td>3/20</td> <td>462  </td> <td>462      </td> <td>87956     </td> <td>18        </td> <td>18            </td> <td>525.263      </td>\n",
       "        </tr>\n",
       "        <tr>\n",
       "            <td>22071</td> <td>Orleans    </td> <td>Louisiana</td> <td>3/20</td> <td>1834 </td> <td>1834     </td> <td>390144    </td> <td>101       </td> <td>101           </td> <td>470.083      </td>\n",
       "        </tr>\n",
       "        <tr>\n",
       "            <td>8051 </td> <td>Gunnison   </td> <td>Colorado </td> <td>3/20</td> <td>82   </td> <td>82       </td> <td>17462     </td> <td>1         </td> <td>1             </td> <td>469.591      </td>\n",
       "        </tr>\n",
       "    </tbody>\n",
       "</table>\n",
       "<p>... (3135 rows omitted)</p>"
      ],
      "text/plain": [
       "FIPS  | County      | State     | Date | cases | cases_new | Population | fatalities | fatalities_new | cases_per100k\n",
       "36119 | Westchester | New York  | 3/20 | 9967  | 9967      | 967506     | 10         | 10             | 1030.17\n",
       "36087 | Rockland    | New York  | 3/20 | 2863  | 2863      | 325789     | 8          | 8              | 878.79\n",
       "16013 | Blaine      | Idaho     | 3/20 | 192   | 192       | 23021      | 2          | 2              | 834.021\n",
       "36059 | Nassau      | New York  | 3/20 | 8544  | 8544      | 1356924    | 48         | 48             | 629.659\n",
       "36081 | Queens      | New York  | 3/20 | 13691 | 13691     | 2253858    | 660        | 660            | 607.447\n",
       "36085 | Richmond    | New York  | 3/20 | 2889  | 2889      | 476143     | 113        | 113            | 606.75\n",
       "36005 | Bronx       | New York  | 3/20 | 7766  | 7766      | 1418207    | 465        | 465            | 547.593\n",
       "13095 | Dougherty   | Georgia   | 3/20 | 462   | 462       | 87956      | 18         | 18             | 525.263\n",
       "22071 | Orleans     | Louisiana | 3/20 | 1834  | 1834      | 390144     | 101        | 101            | 470.083\n",
       "8051  | Gunnison    | Colorado  | 3/20 | 82    | 82        | 17462      | 1          | 1              | 469.591\n",
       "... (3135 rows omitted)"
      ]
     },
     "execution_count": 40,
     "metadata": {},
     "output_type": "execute_result"
    }
   ],
   "source": [
    "cases_per100k_sorted = covid_mar20.sort('cases_per100k', descending=True)\n",
    "cases_per100k_sorted"
   ]
  },
  {
   "cell_type": "code",
   "execution_count": 41,
   "metadata": {},
   "outputs": [
    {
     "data": {
      "image/png": "[encoded data removed]",
      "text/plain": [
       "<Figure size 432x720 with 1 Axes>"
      ]
     },
     "metadata": {},
     "output_type": "display_data"
    }
   ],
   "source": [
    "top_twenty_per100k = cases_per100k_sorted.take(np.arange(20))\n",
    "top_twenty_per100k.barh(\"County\", \"cases_per100k\")"
   ]
  },
  {
   "cell_type": "markdown",
   "metadata": {},
   "source": [
    "<div class=\"alert alert-info\">\n",
    "<b>Question:</b> What are some possible reasons for the disparities in the counties shown in these two bar plots? Hint: Think about the size of the counties.\n",
    "   </div>"
   ]
  },
  {
   "cell_type": "markdown",
   "metadata": {},
   "source": [
    "*Insert answer here.*"
   ]
  },
  {
   "cell_type": "markdown",
   "metadata": {},
   "source": [
    "### Monthly changes "
   ]
  },
  {
   "cell_type": "markdown",
   "metadata": {},
   "source": [
    "These data have the number of new cases of COVID each month from March 2020 through May 2021. Another possible exploration is to see how a county's cases change in time.\n",
    "\n",
    "Let's start by exploring one county in California"
   ]
  },
  {
   "cell_type": "markdown",
   "metadata": {},
   "source": [
    "<div class=\"alert alert-info\">\n",
    "<b>Question:</b> First, return a table that only has the data for California counties. Then, select the county that you are interested in from the California table. \n",
    "   </div>"
   ]
  },
  {
   "cell_type": "code",
   "execution_count": null,
   "metadata": {},
   "outputs": [],
   "source": [
    "ca_counties = covid_us.where(\"...\", \"...\")\n",
    "ca_counties.show(10)"
   ]
  },
  {
   "cell_type": "code",
   "execution_count": 46,
   "metadata": {},
   "outputs": [
    {
     "data": {
      "text/html": [
       "<table border=\"1\" class=\"dataframe\">\n",
       "    <thead>\n",
       "        <tr>\n",
       "            <th>FIPS</th> <th>County</th> <th>State</th> <th>Date</th> <th>cases</th> <th>cases_new</th> <th>Population</th> <th>fatalities</th> <th>fatalities_new</th>\n",
       "        </tr>\n",
       "    </thead>\n",
       "    <tbody>\n",
       "        <tr>\n",
       "            <td>6037</td> <td>Los Angeles   </td> <td>California</td> <td>12/20</td> <td>771519 </td> <td>370071   </td> <td>10039107  </td> <td>10359     </td> <td>2703          </td>\n",
       "        </tr>\n",
       "        <tr>\n",
       "            <td>6037</td> <td>Los Angeles   </td> <td>California</td> <td>1/21 </td> <td>1116948</td> <td>345429   </td> <td>10039107  </td> <td>16770     </td> <td>6411          </td>\n",
       "        </tr>\n",
       "        <tr>\n",
       "            <td>6071</td> <td>San Bernardino</td> <td>California</td> <td>12/20</td> <td>194377 </td> <td>100706   </td> <td>2180085   </td> <td>1591      </td> <td>368           </td>\n",
       "        </tr>\n",
       "        <tr>\n",
       "            <td>6059</td> <td>Orange        </td> <td>California</td> <td>12/20</td> <td>182684 </td> <td>94732    </td> <td>3175692   </td> <td>1875      </td> <td>298           </td>\n",
       "        </tr>\n",
       "        <tr>\n",
       "            <td>6037</td> <td>Los Angeles   </td> <td>California</td> <td>11/20</td> <td>401448 </td> <td>93830    </td> <td>10039107  </td> <td>7656      </td> <td>585           </td>\n",
       "        </tr>\n",
       "        <tr>\n",
       "            <td>6065</td> <td>Riverside     </td> <td>California</td> <td>12/20</td> <td>180553 </td> <td>93170    </td> <td>2470546   </td> <td>1985      </td> <td>543           </td>\n",
       "        </tr>\n",
       "        <tr>\n",
       "            <td>6065</td> <td>Riverside     </td> <td>California</td> <td>1/21 </td> <td>271910 </td> <td>91357    </td> <td>2470546   </td> <td>3091      </td> <td>1106          </td>\n",
       "        </tr>\n",
       "        <tr>\n",
       "            <td>6037</td> <td>Los Angeles   </td> <td>California</td> <td>7/20 </td> <td>188541 </td> <td>84691    </td> <td>10039107  </td> <td>4624      </td> <td>1253          </td>\n",
       "        </tr>\n",
       "        <tr>\n",
       "            <td>6073</td> <td>San Diego     </td> <td>California</td> <td>1/21 </td> <td>238042 </td> <td>82447    </td> <td>3338330   </td> <td>2619      </td> <td>1085          </td>\n",
       "        </tr>\n",
       "        <tr>\n",
       "            <td>6071</td> <td>San Bernardino</td> <td>California</td> <td>1/21 </td> <td>274429 </td> <td>80052    </td> <td>2180085   </td> <td>2122      </td> <td>531           </td>\n",
       "        </tr>\n",
       "    </tbody>\n",
       "</table>\n",
       "<p>... (860 rows omitted)</p>"
      ],
      "text/plain": [
       "<IPython.core.display.HTML object>"
      ]
     },
     "metadata": {},
     "output_type": "display_data"
    }
   ],
   "source": [
    "#KEY\n",
    "ca_counties = covid_us.where(\"State\", \"California\")\n",
    "ca_counties.sort('cases_new', descending = True).show(10)"
   ]
  },
  {
   "cell_type": "code",
   "execution_count": 47,
   "metadata": {},
   "outputs": [
    {
     "data": {
      "text/html": [
       "<table border=\"1\" class=\"dataframe\">\n",
       "    <thead>\n",
       "        <tr>\n",
       "            <th>FIPS</th> <th>County</th> <th>State</th> <th>Date</th> <th>cases</th> <th>cases_new</th> <th>Population</th> <th>fatalities</th> <th>fatalities_new</th> <th>cases_per100k</th>\n",
       "        </tr>\n",
       "    </thead>\n",
       "    <tbody>\n",
       "        <tr>\n",
       "            <td>6035</td> <td>Lassen        </td> <td>California</td> <td>12/20</td> <td>4691  </td> <td>2531     </td> <td>30573     </td> <td>10        </td> <td>7             </td> <td>8278.55      </td>\n",
       "        </tr>\n",
       "        <tr>\n",
       "            <td>6005</td> <td>Amador        </td> <td>California</td> <td>12/20</td> <td>2515  </td> <td>1877     </td> <td>39752     </td> <td>24        </td> <td>8             </td> <td>4721.78      </td>\n",
       "        </tr>\n",
       "        <tr>\n",
       "            <td>6071</td> <td>San Bernardino</td> <td>California</td> <td>12/20</td> <td>194377</td> <td>100706   </td> <td>2180085   </td> <td>1591      </td> <td>368           </td> <td>4619.36      </td>\n",
       "        </tr>\n",
       "        <tr>\n",
       "            <td>6035</td> <td>Lassen        </td> <td>California</td> <td>11/20</td> <td>2160  </td> <td>1383     </td> <td>30573     </td> <td>3         </td> <td>2             </td> <td>4523.6       </td>\n",
       "        </tr>\n",
       "        <tr>\n",
       "            <td>6003</td> <td>Alpine        </td> <td>California</td> <td>11/20</td> <td>51    </td> <td>43       </td> <td>1129      </td> <td>0         </td> <td>0             </td> <td>3808.68      </td>\n",
       "        </tr>\n",
       "        <tr>\n",
       "            <td>6065</td> <td>Riverside     </td> <td>California</td> <td>12/20</td> <td>180553</td> <td>93170    </td> <td>2470546   </td> <td>1985      </td> <td>543           </td> <td>3771.23      </td>\n",
       "        </tr>\n",
       "        <tr>\n",
       "            <td>6065</td> <td>Riverside     </td> <td>California</td> <td>1/21 </td> <td>271910</td> <td>91357    </td> <td>2470546   </td> <td>3091      </td> <td>1106          </td> <td>3697.85      </td>\n",
       "        </tr>\n",
       "        <tr>\n",
       "            <td>6037</td> <td>Los Angeles   </td> <td>California</td> <td>12/20</td> <td>771519</td> <td>370071   </td> <td>10039107  </td> <td>10359     </td> <td>2703          </td> <td>3686.29      </td>\n",
       "        </tr>\n",
       "        <tr>\n",
       "            <td>6071</td> <td>San Bernardino</td> <td>California</td> <td>1/21 </td> <td>274429</td> <td>80052    </td> <td>2180085   </td> <td>2122      </td> <td>531           </td> <td>3671.97      </td>\n",
       "        </tr>\n",
       "        <tr>\n",
       "            <td>6111</td> <td>Ventura       </td> <td>California</td> <td>1/21 </td> <td>69931 </td> <td>30372    </td> <td>846006    </td> <td>598       </td> <td>335           </td> <td>3590.05      </td>\n",
       "        </tr>\n",
       "    </tbody>\n",
       "</table>\n",
       "<p>... (860 rows omitted)</p>"
      ],
      "text/plain": [
       "<IPython.core.display.HTML object>"
      ]
     },
     "metadata": {},
     "output_type": "display_data"
    }
   ],
   "source": [
    "ca_counties['cases_per100k'] = 100000 * ca_counties['cases_new'] / ca_counties['Population']\n",
    "ca_counties.sort('cases_per100k', descending=True).show(10)"
   ]
  },
  {
   "cell_type": "code",
   "execution_count": 48,
   "metadata": {},
   "outputs": [
    {
     "data": {
      "text/html": [
       "<table border=\"1\" class=\"dataframe\">\n",
       "    <thead>\n",
       "        <tr>\n",
       "            <th>FIPS</th> <th>County</th> <th>State</th> <th>Date</th> <th>cases</th> <th>cases_new</th> <th>Population</th> <th>fatalities</th> <th>fatalities_new</th> <th>cases_per100k</th>\n",
       "        </tr>\n",
       "    </thead>\n",
       "    <tbody>\n",
       "        <tr>\n",
       "            <td>6037</td> <td>Los Angeles</td> <td>California</td> <td>3/20 </td> <td>3019  </td> <td>3018     </td> <td>10039107  </td> <td>54        </td> <td>54            </td> <td>30.0624      </td>\n",
       "        </tr>\n",
       "        <tr>\n",
       "            <td>6037</td> <td>Los Angeles</td> <td>California</td> <td>4/20 </td> <td>23220 </td> <td>20201    </td> <td>10039107  </td> <td>1111      </td> <td>1057          </td> <td>201.223      </td>\n",
       "        </tr>\n",
       "        <tr>\n",
       "            <td>6037</td> <td>Los Angeles</td> <td>California</td> <td>5/20 </td> <td>55001 </td> <td>31781    </td> <td>10039107  </td> <td>2362      </td> <td>1251          </td> <td>316.572      </td>\n",
       "        </tr>\n",
       "        <tr>\n",
       "            <td>6037</td> <td>Los Angeles</td> <td>California</td> <td>6/20 </td> <td>103850</td> <td>48849    </td> <td>10039107  </td> <td>3371      </td> <td>1009          </td> <td>486.587      </td>\n",
       "        </tr>\n",
       "        <tr>\n",
       "            <td>6037</td> <td>Los Angeles</td> <td>California</td> <td>7/20 </td> <td>188541</td> <td>84691    </td> <td>10039107  </td> <td>4624      </td> <td>1253          </td> <td>843.611      </td>\n",
       "        </tr>\n",
       "        <tr>\n",
       "            <td>6037</td> <td>Los Angeles</td> <td>California</td> <td>8/20 </td> <td>241768</td> <td>53227    </td> <td>10039107  </td> <td>5784      </td> <td>1160          </td> <td>530.197      </td>\n",
       "        </tr>\n",
       "        <tr>\n",
       "            <td>6037</td> <td>Los Angeles</td> <td>California</td> <td>9/20 </td> <td>270299</td> <td>28531    </td> <td>10039107  </td> <td>6576      </td> <td>792           </td> <td>284.199      </td>\n",
       "        </tr>\n",
       "        <tr>\n",
       "            <td>6037</td> <td>Los Angeles</td> <td>California</td> <td>10/20</td> <td>307618</td> <td>37319    </td> <td>10039107  </td> <td>7071      </td> <td>495           </td> <td>371.736      </td>\n",
       "        </tr>\n",
       "        <tr>\n",
       "            <td>6037</td> <td>Los Angeles</td> <td>California</td> <td>11/20</td> <td>401448</td> <td>93830    </td> <td>10039107  </td> <td>7656      </td> <td>585           </td> <td>934.645      </td>\n",
       "        </tr>\n",
       "        <tr>\n",
       "            <td>6037</td> <td>Los Angeles</td> <td>California</td> <td>12/20</td> <td>771519</td> <td>370071   </td> <td>10039107  </td> <td>10359     </td> <td>2703          </td> <td>3686.29      </td>\n",
       "        </tr>\n",
       "    </tbody>\n",
       "</table>\n",
       "<p>... (5 rows omitted)</p>"
      ],
      "text/plain": [
       "FIPS | County      | State      | Date  | cases  | cases_new | Population | fatalities | fatalities_new | cases_per100k\n",
       "6037 | Los Angeles | California | 3/20  | 3019   | 3018      | 10039107   | 54         | 54             | 30.0624\n",
       "6037 | Los Angeles | California | 4/20  | 23220  | 20201     | 10039107   | 1111       | 1057           | 201.223\n",
       "6037 | Los Angeles | California | 5/20  | 55001  | 31781     | 10039107   | 2362       | 1251           | 316.572\n",
       "6037 | Los Angeles | California | 6/20  | 103850 | 48849     | 10039107   | 3371       | 1009           | 486.587\n",
       "6037 | Los Angeles | California | 7/20  | 188541 | 84691     | 10039107   | 4624       | 1253           | 843.611\n",
       "6037 | Los Angeles | California | 8/20  | 241768 | 53227     | 10039107   | 5784       | 1160           | 530.197\n",
       "6037 | Los Angeles | California | 9/20  | 270299 | 28531     | 10039107   | 6576       | 792            | 284.199\n",
       "6037 | Los Angeles | California | 10/20 | 307618 | 37319     | 10039107   | 7071       | 495            | 371.736\n",
       "6037 | Los Angeles | California | 11/20 | 401448 | 93830     | 10039107   | 7656       | 585            | 934.645\n",
       "6037 | Los Angeles | California | 12/20 | 771519 | 370071    | 10039107   | 10359      | 2703           | 3686.29\n",
       "... (5 rows omitted)"
      ]
     },
     "execution_count": 48,
     "metadata": {},
     "output_type": "execute_result"
    }
   ],
   "source": [
    "#select_counties = [\"Los Angeles\", \"Alameda\", \"Orange\", \"San Bernardino\", \"Kern\"]\n",
    "\n",
    "\n",
    "select_counties = [\"Los Angeles\"]\n",
    "\n",
    "#This will take the counties you choose for the comparison.\n",
    "my_county = ca_counties.where(\"County\", are.contained_in(select_counties))\n",
    "my_county"
   ]
  },
  {
   "cell_type": "markdown",
   "metadata": {},
   "source": [
    "<div class=\"alert alert-info\">\n",
    "<b>Question:</b> Now make a line plot to see how the number of cases changes from March 2020 to May 2021.\n",
    "   </div>"
   ]
  },
  {
   "cell_type": "code",
   "execution_count": 53,
   "metadata": {},
   "outputs": [],
   "source": [
    "# FIX: CONVERT String to date \n",
    "# "
   ]
  },
  {
   "cell_type": "code",
   "execution_count": null,
   "metadata": {},
   "outputs": [],
   "source": [
    "# Use this cell to make a line chart of new cases each month \n",
    "..."
   ]
  },
  {
   "cell_type": "code",
   "execution_count": 49,
   "metadata": {},
   "outputs": [
    {
     "data": {
      "image/png": "[encoded data removed]",
      "text/plain": [
       "<Figure size 432x432 with 1 Axes>"
      ]
     },
     "metadata": {},
     "output_type": "display_data"
    }
   ],
   "source": [
    "#KEY\n",
    "my_county.plot(\"Date\", \"cases_new\")\n",
    "# FIX so that the Dates are in the correct order. "
   ]
  },
  {
   "cell_type": "markdown",
   "metadata": {},
   "source": [
    "<div class=\"alert alert-info\">\n",
    "<b>Question:</b> Can you use your knowledge about the context to describe the peeks in the cases? \n",
    "   </div>"
   ]
  },
  {
   "cell_type": "markdown",
   "metadata": {},
   "source": [
    "# Using prediction and inference to draw conclusions <a id='subsection 1a'></a>"
   ]
  },
  {
   "cell_type": "markdown",
   "metadata": {},
   "source": [
    "Now that we have some experience making and reading visualizations, let's compare a few counties over time. \n",
    "\n",
    "Settle on a few counties to examine. They could all be in California, or in different states. \n",
    "\n",
    "Decide whether the comparison should be of new cases, cumulative cases, new cases per 100,000, or cumulative cases per 100,000. \n",
    "\n",
    "Make line plots for the counties you have selected and "
   ]
  },
  {
   "cell_type": "markdown",
   "metadata": {},
   "source": [
    "Now we will read in two tables: Covid by State and Population by state in order to look at the percentage of the cases. And the growth of the "
   ]
  },
  {
   "cell_type": "code",
   "execution_count": 50,
   "metadata": {},
   "outputs": [],
   "source": [
    "#FIX: NEED CODE SNIPPETS FOR THIS"
   ]
  },
  {
   "cell_type": "markdown",
   "metadata": {},
   "source": [
    "Tell us something interesting about this data.\n",
    "\n",
    "Tell us what you learned about the counties that you chose."
   ]
  }
 ],
 "metadata": {
  "kernelspec": {
   "display_name": "Python 3",
   "language": "python",
   "name": "python3"
  },
  "language_info": {
   "codemirror_mode": {
    "name": "ipython",
    "version": 3
   },
   "file_extension": ".py",
   "mimetype": "text/x-python",
   "name": "python",
   "nbconvert_exporter": "python",
   "pygments_lexer": "ipython3",
   "version": "3.7.4"
  }
 },
 "nbformat": 4,
 "nbformat_minor": 4
}
