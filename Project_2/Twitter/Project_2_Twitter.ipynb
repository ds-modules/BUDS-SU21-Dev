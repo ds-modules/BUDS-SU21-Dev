{
 "cells": [
  {
   "cell_type": "markdown",
   "metadata": {},
   "source": [
    "Adapted from [Fall 2019 Data 100 HW 4: Trump, Twitter, and Text](http://www.ds100.org/fa19/syllabus/)"
   ]
  },
  {
   "cell_type": "code",
   "execution_count": 1,
   "metadata": {},
   "outputs": [],
   "source": [
    "import numpy as np\n",
    "from datascience import *\n",
    "\n",
    "# Table.interactive()\n",
    "\n",
    "import matplotlib\n",
    "%matplotlib inline\n",
    "import matplotlib.pyplot as plt\n",
    "plt.style.use('fivethirtyeight')"
   ]
  },
  {
   "cell_type": "markdown",
   "metadata": {},
   "source": [
    "# Project 2: Trump's Tweets"
   ]
  },
  {
   "cell_type": "markdown",
   "metadata": {},
   "source": [
    "## Table of Contents\n",
    "<a href='#section 0'>Background Knowledge: Twitter & the President </a>\n",
    "\n",
    "1. <a href='#section 1'> The Data Science Life Cycle</a>\n",
    "\n",
    "    a. <a href='#subsection 1a'>Formulating a question or problem</a> \n",
    "\n",
    "    b. <a href='#subsection 1b'>Acquiring and cleaning data</a>\n",
    "\n",
    "    c. <a href='#subsection 1c'>Conducting exploratory data analysis</a>\n",
    "\n",
    "    d. <a href='#subsection 1d'>Using prediction and inference to draw conclusions</a>\n",
    "<br><br>"
   ]
  },
  {
   "cell_type": "markdown",
   "metadata": {},
   "source": [
    "### Background Knowledge: Twitter & the President <a id='section 0'></a>\n"
   ]
  },
  {
   "cell_type": "markdown",
   "metadata": {},
   "source": [
    "<img src=\"twitter_trump.png\" width = 1000/>\n",
    "[Source](https://www.politico.com/magazine/story/2018/01/26/donald-trump-twitter-addiction-216530)"
   ]
  },
  {
   "cell_type": "markdown",
   "metadata": {},
   "source": [
    "President Donald Trump's Twitter history has grown over time from before he was elected into the presidency. From the image above, we can even see part of how he used his Twitter during the time that he was running for the election."
   ]
  },
  {
   "cell_type": "markdown",
   "metadata": {},
   "source": [
    "<div class=\"alert alert-warning\">\n",
    "<b>Question:</b> What are some key points you notice from the graph above? What are other points in President Trump's time in office that are notable (Think about his election, the Wall, Impeachment, etc.)?\n",
    "   </div>"
   ]
  },
  {
   "cell_type": "markdown",
   "metadata": {},
   "source": [
    "*Answer here*"
   ]
  },
  {
   "cell_type": "markdown",
   "metadata": {},
   "source": [
    "# The Data Science Life Cycle <a id='section 1'></a>"
   ]
  },
  {
   "cell_type": "markdown",
   "metadata": {},
   "source": [
    "## Formulating a question or problem <a id='subsection 1a'></a>\n",
    "It is important to ask questions that will be informative and that will avoid misleading results. There are many different questions we could ask about Trump's Tweets, for example, many people are interested in how he uses twitter to connect with his supporters."
   ]
  },
  {
   "cell_type": "markdown",
   "metadata": {},
   "source": [
    "<div class=\"alert alert-warning\">\n",
    "<b>Question:</b> Recall the questions you developed with your group on Tuesday. Write down that question below, and try to add on to it with the context from the articles from Wednesday. Think about what data you would need to answer your question. You can review the articles on the bCourses page under Module 4.3.\n",
    "   </div>\n",
    "   "
   ]
  },
  {
   "cell_type": "markdown",
   "metadata": {},
   "source": [
    "Original Question(s): *here*\n",
    "\n",
    "\n",
    "Updated Question(s): *here*\n",
    "\n",
    "\n",
    "\n",
    "Data you would need: *here*\n",
    "\n"
   ]
  },
  {
   "cell_type": "markdown",
   "metadata": {},
   "source": [
    "## Acquiring and cleaning data <a id='subsection 1b'></a>\n",
    "The following table, `trump`, contains tweets from President Donald Trump's Personal Twitter Account from January 2016 till February 2019. Here is information about the columns of the dataset.\n",
    "\n",
    "|<center>Codebook</center>|\n",
    "| --- | --- |\n",
    "| time |Coordinated Universal Time of Day that the Tweet was published|\n",
    "| source | Source of the Tweet (Andriod, iPhone, Web Browser, etc.)|\n",
    "| text| Original Text if the tweet (includes all punctuation)|\n",
    "|retweet_count| Number of Times Original Tweet was Shared|\n",
    "|year| Year the Tweet was released|\n",
    "|est_time| Eastern Standard Time of the Day that the Tweet was published|\n",
    "|hour| Hour of the Day the Tweet was Published|\n",
    "|no_punc| Text from Tweet without any punctuation|\n",
    "|Polarity| Score measuring the sentiment of the Tweet|"
   ]
  },
  {
   "cell_type": "code",
   "execution_count": 2,
   "metadata": {
    "scrolled": false
   },
   "outputs": [
    {
     "data": {
      "text/html": [
       "<table border=\"1\" class=\"dataframe\">\n",
       "    <thead>\n",
       "        <tr>\n",
       "            <th>time</th> <th>source</th> <th>text</th> <th>retweet_count</th> <th>year</th> <th>est_time</th> <th>hour</th> <th>no_punc</th> <th>polarity</th>\n",
       "        </tr>\n",
       "    </thead>\n",
       "    <tbody>\n",
       "        <tr>\n",
       "            <td>2016-01-21 13:56:11</td> <td>Twitter for Android</td> <td>\"@bigop1: @realdonaldtrump  @sarahpalinusa https://t.co/ ...</td> <td>1059         </td> <td>2016.05</td> <td>2016-01-21 08:56:11-05:00</td> <td>8.93639</td> <td>  bigop1   realdonaldtrump   sarahpalinusa https   t co  ...</td> <td>0       </td>\n",
       "        </tr>\n",
       "        <tr>\n",
       "            <td>2016-01-21 13:57:39</td> <td>Twitter for Android</td> <td>\"@americanaspie:  @glennbeck @sarahpalinusa remember whe ...</td> <td>1339         </td> <td>2016.05</td> <td>2016-01-21 08:57:39-05:00</td> <td>8.96083</td> <td>  americanaspie    glennbeck  sarahpalinusa remember whe ...</td> <td>-2.6    </td>\n",
       "        </tr>\n",
       "        <tr>\n",
       "            <td>2016-01-21 14:04:54</td> <td>Twitter for Android</td> <td>so sad that @cnn and many others refused to show the mas ...</td> <td>2006         </td> <td>2016.05</td> <td>2016-01-21 09:04:54-05:00</td> <td>9.08167</td> <td>so sad that  cnn and many others refused to show the mas ...</td> <td>-6      </td>\n",
       "        </tr>\n",
       "        <tr>\n",
       "            <td>2016-01-21 14:19:26</td> <td>Twitter for Android</td> <td>sad sack @jebbush has just done another ad on me, with s ...</td> <td>2266         </td> <td>2016.05</td> <td>2016-01-21 09:19:26-05:00</td> <td>9.32389</td> <td>sad sack  jebbush has just done another ad on me  with s ...</td> <td>4.3     </td>\n",
       "        </tr>\n",
       "        <tr>\n",
       "            <td>2016-01-21 14:32:57</td> <td>Twitter for Android</td> <td>low energy candidate @jebbush has wasted $80 million on  ...</td> <td>2886         </td> <td>2016.05</td> <td>2016-01-21 09:32:57-05:00</td> <td>9.54917</td> <td>low energy candidate  jebbush has wasted  80 million on  ...</td> <td>-2.6    </td>\n",
       "        </tr>\n",
       "        <tr>\n",
       "            <td>2016-01-21 20:36:09</td> <td>Twitter for iPhone </td> <td>new day on cnn treats me very badly. @alisyncamerota is  ...</td> <td>1429         </td> <td>2016.05</td> <td>2016-01-21 15:36:09-05:00</td> <td>15.6025</td> <td>new day on cnn treats me very badly   alisyncamerota is  ...</td> <td>-5.2    </td>\n",
       "        </tr>\n",
       "        <tr>\n",
       "            <td>2016-01-21 20:40:07</td> <td>Twitter for Android</td> <td>happy birthday to my friend, the great @jacknicklaus - a ...</td> <td>1053         </td> <td>2016.05</td> <td>2016-01-21 15:40:07-05:00</td> <td>15.6686</td> <td>happy birthday to my friend  the great  jacknicklaus   a ...</td> <td>9.7     </td>\n",
       "        </tr>\n",
       "        <tr>\n",
       "            <td>2016-01-21 23:21:42</td> <td>Twitter for iPhone </td> <td>thank you, iowa! #trump2016 https://t.co/ryhehetlqn         </td> <td>2329         </td> <td>2016.05</td> <td>2016-01-21 18:21:42-05:00</td> <td>18.3617</td> <td>thank you  iowa   trump2016 https   t co ryhehetlqn         </td> <td>1.5     </td>\n",
       "        </tr>\n",
       "        <tr>\n",
       "            <td>2016-01-21 23:29:04</td> <td>Twitter for iPhone </td> <td>thank you! #trump2016 https://t.co/pcdmyio1zt               </td> <td>1463         </td> <td>2016.05</td> <td>2016-01-21 18:29:04-05:00</td> <td>18.4844</td> <td>thank you   trump2016 https   t co pcdmyio1zt               </td> <td>1.5     </td>\n",
       "        </tr>\n",
       "        <tr>\n",
       "            <td>2016-01-21 23:29:43</td> <td>Twitter for iPhone </td> <td>thank you, new hampshire!\n",
       "#trump2016 https://t.co/tg9ozkly4l</td> <td>1761         </td> <td>2016.05</td> <td>2016-01-21 18:29:43-05:00</td> <td>18.4953</td> <td>thank you  new hampshire \n",
       " trump2016 https   t co tg9ozkly4l</td> <td>1.5     </td>\n",
       "        </tr>\n",
       "    </tbody>\n",
       "</table>\n",
       "<p>... (10360 rows omitted)</p>"
      ],
      "text/plain": [
       "time                | source              | text                                                         | retweet_count | year    | est_time                  | hour    | no_punc                                                      | polarity\n",
       "2016-01-21 13:56:11 | Twitter for Android | \"@bigop1: @realdonaldtrump  @sarahpalinusa https://t.co/ ... | 1059          | 2016.05 | 2016-01-21 08:56:11-05:00 | 8.93639 |   bigop1   realdonaldtrump   sarahpalinusa https   t co  ... | 0\n",
       "2016-01-21 13:57:39 | Twitter for Android | \"@americanaspie:  @glennbeck @sarahpalinusa remember whe ... | 1339          | 2016.05 | 2016-01-21 08:57:39-05:00 | 8.96083 |   americanaspie    glennbeck  sarahpalinusa remember whe ... | -2.6\n",
       "2016-01-21 14:04:54 | Twitter for Android | so sad that @cnn and many others refused to show the mas ... | 2006          | 2016.05 | 2016-01-21 09:04:54-05:00 | 9.08167 | so sad that  cnn and many others refused to show the mas ... | -6\n",
       "2016-01-21 14:19:26 | Twitter for Android | sad sack @jebbush has just done another ad on me, with s ... | 2266          | 2016.05 | 2016-01-21 09:19:26-05:00 | 9.32389 | sad sack  jebbush has just done another ad on me  with s ... | 4.3\n",
       "2016-01-21 14:32:57 | Twitter for Android | low energy candidate @jebbush has wasted $80 million on  ... | 2886          | 2016.05 | 2016-01-21 09:32:57-05:00 | 9.54917 | low energy candidate  jebbush has wasted  80 million on  ... | -2.6\n",
       "2016-01-21 20:36:09 | Twitter for iPhone  | new day on cnn treats me very badly. @alisyncamerota is  ... | 1429          | 2016.05 | 2016-01-21 15:36:09-05:00 | 15.6025 | new day on cnn treats me very badly   alisyncamerota is  ... | -5.2\n",
       "2016-01-21 20:40:07 | Twitter for Android | happy birthday to my friend, the great @jacknicklaus - a ... | 1053          | 2016.05 | 2016-01-21 15:40:07-05:00 | 15.6686 | happy birthday to my friend  the great  jacknicklaus   a ... | 9.7\n",
       "2016-01-21 23:21:42 | Twitter for iPhone  | thank you, iowa! #trump2016 https://t.co/ryhehetlqn          | 2329          | 2016.05 | 2016-01-21 18:21:42-05:00 | 18.3617 | thank you  iowa   trump2016 https   t co ryhehetlqn          | 1.5\n",
       "2016-01-21 23:29:04 | Twitter for iPhone  | thank you! #trump2016 https://t.co/pcdmyio1zt                | 1463          | 2016.05 | 2016-01-21 18:29:04-05:00 | 18.4844 | thank you   trump2016 https   t co pcdmyio1zt                | 1.5\n",
       "2016-01-21 23:29:43 | Twitter for iPhone  | thank you, new hampshire!\n",
       "#trump2016 https://t.co/tg9ozkly4l | 1761          | 2016.05 | 2016-01-21 18:29:43-05:00 | 18.4953 | thank you  new hampshire \n",
       " trump2016 https   t co tg9ozkly4l | 1.5\n",
       "... (10360 rows omitted)"
      ]
     },
     "execution_count": 2,
     "metadata": {},
     "output_type": "execute_result"
    }
   ],
   "source": [
    "trump = Table().read_table('trump_tweets.csv')\n",
    "trump"
   ]
  },
  {
   "cell_type": "markdown",
   "metadata": {},
   "source": [
    "<div class=\"alert alert-warning\">\n",
    "<b>Question:</b> It's important to evalute our data source. What do you know about the source (Trump's Twitter Account)? What motivations might he have for posting? What data might be missing? How might deleted tweets be dealt with?\n",
    "   </div>"
   ]
  },
  {
   "cell_type": "markdown",
   "metadata": {},
   "source": [
    "*Insert answer*"
   ]
  },
  {
   "cell_type": "markdown",
   "metadata": {},
   "source": [
    "<div class=\"alert alert-warning\">\n",
    "<b>Question:</b> We want to learn more about the dataset. First, how many total rows are in this table? What does each row represent?\n",
    "    \n",
    "   </div>"
   ]
  },
  {
   "cell_type": "code",
   "execution_count": 3,
   "metadata": {},
   "outputs": [],
   "source": [
    "total_rows = ..."
   ]
  },
  {
   "cell_type": "markdown",
   "metadata": {},
   "source": [
    "*Description of a row here*"
   ]
  },
  {
   "cell_type": "markdown",
   "metadata": {},
   "source": [
    "## Conducting exploratory data analysis <a id='subsection 1c'></a>"
   ]
  },
  {
   "cell_type": "markdown",
   "metadata": {},
   "source": [
    "We will explore how Trump's tweets vary by sentiment and extend that analysis in the context of how many retweets he gets and patterns over time. In the end, we will try to answer **\"How do Trump's tweets influence the interpretation of big events based on the sentiment of his tweets, reception of his tweets (retweets), and how his tweets of the event progress over time?\"**"
   ]
  },
  {
   "cell_type": "markdown",
   "metadata": {},
   "source": [
    "### Part 1: Polarity & Sentiment\n",
    "\n",
    "It turns out that we can use the words in Trump's tweets to calculate a measure of the sentiment of the tweet. For example, the sentence \"I love America!\" has positive sentiment, whereas the sentence \"I hate taxes!\" has a negative sentiment. In addition, some words have stronger positive / negative sentiment than others: \"I love America.\" is more positive than \"I like America.\"\n",
    "\n",
    "We will use the [VADER (Valence Aware Dictionary and sEntiment Reasoner)](https://github.com/cjhutto/vaderSentiment) lexicon to analyze the sentiment of Trump's tweets. VADER is a lexicon and rule-based sentiment analysis tool that is specifically attuned to sentiments expressed in social media which is great for our usage.\n",
    "\n",
    "The VADER lexicon gives the sentiment of individual words. Run the following cell to show a few rows of the lexicon:\n",
    "\n"
   ]
  },
  {
   "cell_type": "code",
   "execution_count": 4,
   "metadata": {},
   "outputs": [
    {
     "name": "stdout",
     "output_type": "stream",
     "text": [
      "lmao\t2.0\t1.18322\t[3, 0, 3, 0, 3, 1, 3, 2, 3, 2]\n",
      "lmbao\t1.8\t1.77764\t[3, 2, 2, 2, 1, 3, -3, 2, 4, 2]\n",
      "lmfao\t2.5\t1.28452\t[3, 2, 3, 3, 3, -1, 4, 2, 3, 2]\n",
      "lmso\t2.7\t0.78102\t[3, 3, 4, 3, 3, 1, 3, 3, 2, 2]\n",
      "lol\t2.9\t0.83066\t[4, 2, 2, 2, 4, 2, 3, 3, 4, 3]\n",
      "lolz\t2.7\t0.78102\t[2, 3, 3, 2, 2, 4, 4, 3, 2, 2]\n",
      "lts\t1.6\t0.66332\t[1, 1, 2, 2, 1, 3, 1, 1, 2, 2]\n",
      "ly\t2.6\t0.91652\t[2, 2, 1, 3, 4, 4, 3, 2, 2, 3]\n",
      "ly4e\t2.7\t0.78102\t[3, 3, 3, 2, 1, 3, 3, 4, 2, 3]\n",
      "lya\t3.3\t0.78102\t[3, 4, 4, 4, 2, 2, 3, 4, 3, 4]\n",
      "\n"
     ]
    }
   ],
   "source": [
    "print(''.join(open(\"vader_lexicon.txt\").readlines()[300:310]))"
   ]
  },
  {
   "cell_type": "markdown",
   "metadata": {},
   "source": [
    "We used the VADER Lexicon to calculate the polarity for each tweet. This is in the \"polarity\" column of the `trump` table. We can use this to find the most positive and negative tweets."
   ]
  },
  {
   "cell_type": "markdown",
   "metadata": {},
   "source": [
    "<div class=\"alert alert-warning\">\n",
    "<b>Question:</b> Find the 5 most negative tweets in the dataset. (Hint: first, sort the data.)\n",
    "   </div>"
   ]
  },
  {
   "cell_type": "code",
   "execution_count": 5,
   "metadata": {},
   "outputs": [
    {
     "data": {
      "text/html": [
       "<table border=\"1\" class=\"dataframe\">\n",
       "    <thead>\n",
       "        <tr>\n",
       "            <th>time</th> <th>source</th> <th>text</th> <th>retweet_count</th> <th>year</th> <th>est_time</th> <th>hour</th> <th>no_punc</th> <th>polarity</th>\n",
       "        </tr>\n",
       "    </thead>\n",
       "    <tbody>\n",
       "        <tr>\n",
       "            <td>2019-01-14 03:12:34</td> <td>Twitter for iPhone</td> <td>the trump portrait of an unsustainable border crisis is  ...</td> <td>21601        </td> <td>2019.04</td> <td>2019-01-13 22:12:34-05:00</td> <td>22.2094</td> <td>the trump portrait of an unsustainable border crisis is  ...</td> <td>-20.4   </td>\n",
       "        </tr>\n",
       "        <tr>\n",
       "            <td>2018-08-20 17:14:59</td> <td>Twitter for iPhone</td> <td>it is outrageous that poisonous synthetic heroin fentany ...</td> <td>26870        </td> <td>2018.63</td> <td>2018-08-20 12:14:59-05:00</td> <td>12.2497</td> <td>it is outrageous that poisonous synthetic heroin fentany ...</td> <td>-20.3   </td>\n",
       "        </tr>\n",
       "        <tr>\n",
       "            <td>2018-08-15 14:08:18</td> <td>Twitter for iPhone</td> <td>the rigged russian witch hunt goes on and on as the “ori ...</td> <td>18123        </td> <td>2018.62</td> <td>2018-08-15 09:08:18-05:00</td> <td>9.13833</td> <td>the rigged russian witch hunt goes on and on as the  ori ...</td> <td>-16.6   </td>\n",
       "        </tr>\n",
       "        <tr>\n",
       "            <td>2018-10-27 21:41:35</td> <td>Twitter for iPhone</td> <td>...this evil anti-semitic attack is an assault on humani ...</td> <td>20506        </td> <td>2018.82</td> <td>2018-10-27 16:41:35-05:00</td> <td>16.6931</td> <td>   this evil anti semitic attack is an assault on humani ...</td> <td>-16.1   </td>\n",
       "        </tr>\n",
       "        <tr>\n",
       "            <td>2018-04-13 12:01:47</td> <td>Twitter for iPhone</td> <td>james comey is a proven leaker &amp; liar. virtually eve ...</td> <td>31488        </td> <td>2018.28</td> <td>2018-04-13 07:01:47-05:00</td> <td>7.02972</td> <td>james comey is a proven leaker  amp  liar  virtually eve ...</td> <td>-16     </td>\n",
       "        </tr>\n",
       "    </tbody>\n",
       "</table>"
      ],
      "text/plain": [
       "time                | source             | text                                                         | retweet_count | year    | est_time                  | hour    | no_punc                                                      | polarity\n",
       "2019-01-14 03:12:34 | Twitter for iPhone | the trump portrait of an unsustainable border crisis is  ... | 21601         | 2019.04 | 2019-01-13 22:12:34-05:00 | 22.2094 | the trump portrait of an unsustainable border crisis is  ... | -20.4\n",
       "2018-08-20 17:14:59 | Twitter for iPhone | it is outrageous that poisonous synthetic heroin fentany ... | 26870         | 2018.63 | 2018-08-20 12:14:59-05:00 | 12.2497 | it is outrageous that poisonous synthetic heroin fentany ... | -20.3\n",
       "2018-08-15 14:08:18 | Twitter for iPhone | the rigged russian witch hunt goes on and on as the “ori ... | 18123         | 2018.62 | 2018-08-15 09:08:18-05:00 | 9.13833 | the rigged russian witch hunt goes on and on as the  ori ... | -16.6\n",
       "2018-10-27 21:41:35 | Twitter for iPhone | ...this evil anti-semitic attack is an assault on humani ... | 20506         | 2018.82 | 2018-10-27 16:41:35-05:00 | 16.6931 |    this evil anti semitic attack is an assault on humani ... | -16.1\n",
       "2018-04-13 12:01:47 | Twitter for iPhone | james comey is a proven leaker &amp; liar. virtually eve ... | 31488         | 2018.28 | 2018-04-13 07:01:47-05:00 | 7.02972 | james comey is a proven leaker  amp  liar  virtually eve ... | -16"
      ]
     },
     "execution_count": 5,
     "metadata": {},
     "output_type": "execute_result"
    }
   ],
   "source": [
    "most_negative = trump.sort('polarity').take(np.arange(5))\n",
    "most_negative\n",
    "\n",
    "\n",
    "# most_negative = trump...(...)...(np.arange(5))\n",
    "# most_negative"
   ]
  },
  {
   "cell_type": "code",
   "execution_count": 6,
   "metadata": {},
   "outputs": [
    {
     "name": "stdout",
     "output_type": "stream",
     "text": [
      "Most negative tweets:\n",
      "\n",
      "   the trump portrait of an unsustainable border crisis is dead on. “in the last two years, ice officers made 266,000 arrests of aliens with criminal records, including those charged or convicted of 100,000 assaults, 30,000 sex crimes &amp; 4000 violent killings.” america’s southern....\n",
      "\n",
      "   it is outrageous that poisonous synthetic heroin fentanyl comes pouring into the u.s. postal system from china. we can, and must, end this now! the senate should pass the stop act – and firmly stop this poison from killing our children and destroying our country. no more delay!\n",
      "\n",
      "   the rigged russian witch hunt goes on and on as the “originators and founders” of this scam continue to be fired and demoted for their corrupt and illegal activity. all credibility is gone from this terrible hoax, and much more will be lost as it proceeds. no collusion!\n",
      "\n",
      "   ...this evil anti-semitic attack is an assault on humanity. it will take all of us working together to extract the poison of anti-semitism from our world. we must unite to conquer hate.\n",
      "\n",
      "   james comey is a proven leaker &amp; liar. virtually everyone in washington thought he should be fired for the terrible job he did-until he was, in fact, fired. he leaked classified information, for which he should be prosecuted. he lied to congress under oath. he is a weak and.....\n"
     ]
    }
   ],
   "source": [
    "## Just Run this cell to view the whole text of the tweets in a nicer format\n",
    "print('Most negative tweets:')\n",
    "for t in most_negative.column('text'):\n",
    "    print('\\n  ', t)"
   ]
  },
  {
   "cell_type": "markdown",
   "metadata": {},
   "source": [
    "<div class=\"alert alert-warning\">\n",
    "<b>Question:</b> What patterns do you notice in the most negative tweets?\n",
    "   </div>"
   ]
  },
  {
   "cell_type": "markdown",
   "metadata": {},
   "source": [
    "*Answer here*"
   ]
  },
  {
   "cell_type": "markdown",
   "metadata": {},
   "source": [
    "<div class=\"alert alert-warning\">\n",
    "<b>Question:</b> Find the 5 most positive tweets in the dataset. (Hint: first, sort the data.)\n",
    "   </div>"
   ]
  },
  {
   "cell_type": "code",
   "execution_count": 7,
   "metadata": {},
   "outputs": [
    {
     "data": {
      "text/html": [
       "<table border=\"1\" class=\"dataframe\">\n",
       "    <thead>\n",
       "        <tr>\n",
       "            <th>time</th> <th>source</th> <th>text</th> <th>retweet_count</th> <th>year</th> <th>est_time</th> <th>hour</th> <th>no_punc</th> <th>polarity</th>\n",
       "        </tr>\n",
       "    </thead>\n",
       "    <tbody>\n",
       "        <tr>\n",
       "            <td>2018-04-09 00:43:27</td> <td>Twitter for iPhone</td> <td>congratulations to patrick reed on his great and courage ...</td> <td>12169        </td> <td>2018.27</td> <td>2018-04-08 19:43:27-05:00</td> <td>19.7242</td> <td>congratulations to patrick reed on his great and courage ...</td> <td>26.5    </td>\n",
       "        </tr>\n",
       "        <tr>\n",
       "            <td>2019-01-08 14:42:39</td> <td>Twitter for iPhone</td> <td>congratulations to a truly great football team, the clem ...</td> <td>20559        </td> <td>2019.02</td> <td>2019-01-08 09:42:39-05:00</td> <td>9.71083</td> <td>congratulations to a truly great football team  the clem ...</td> <td>21.2    </td>\n",
       "        </tr>\n",
       "        <tr>\n",
       "            <td>2018-06-16 13:12:14</td> <td>Twitter for iPhone</td> <td>my supporters are the smartest, strongest, most hard wor ...</td> <td>40651        </td> <td>2018.45</td> <td>2018-06-16 08:12:14-05:00</td> <td>8.20389</td> <td>my supporters are the smartest  strongest  most hard wor ...</td> <td>20.7    </td>\n",
       "        </tr>\n",
       "        <tr>\n",
       "            <td>2018-07-10 10:59:30</td> <td>Twitter for iPhone</td> <td>thank you to all of my great supporters, really big prog ...</td> <td>24369        </td> <td>2018.52</td> <td>2018-07-10 05:59:30-05:00</td> <td>5.99167</td> <td>thank you to all of my great supporters  really big prog ...</td> <td>18.9    </td>\n",
       "        </tr>\n",
       "        <tr>\n",
       "            <td>2018-03-14 00:25:59</td> <td>Twitter for iPhone</td> <td>it was my great honor to deliver a message at the marine ...</td> <td>14786        </td> <td>2018.2 </td> <td>2018-03-13 19:25:59-05:00</td> <td>19.4331</td> <td>it was my great honor to deliver a message at the marine ...</td> <td>18.9    </td>\n",
       "        </tr>\n",
       "    </tbody>\n",
       "</table>"
      ],
      "text/plain": [
       "time                | source             | text                                                         | retweet_count | year    | est_time                  | hour    | no_punc                                                      | polarity\n",
       "2018-04-09 00:43:27 | Twitter for iPhone | congratulations to patrick reed on his great and courage ... | 12169         | 2018.27 | 2018-04-08 19:43:27-05:00 | 19.7242 | congratulations to patrick reed on his great and courage ... | 26.5\n",
       "2019-01-08 14:42:39 | Twitter for iPhone | congratulations to a truly great football team, the clem ... | 20559         | 2019.02 | 2019-01-08 09:42:39-05:00 | 9.71083 | congratulations to a truly great football team  the clem ... | 21.2\n",
       "2018-06-16 13:12:14 | Twitter for iPhone | my supporters are the smartest, strongest, most hard wor ... | 40651         | 2018.45 | 2018-06-16 08:12:14-05:00 | 8.20389 | my supporters are the smartest  strongest  most hard wor ... | 20.7\n",
       "2018-07-10 10:59:30 | Twitter for iPhone | thank you to all of my great supporters, really big prog ... | 24369         | 2018.52 | 2018-07-10 05:59:30-05:00 | 5.99167 | thank you to all of my great supporters  really big prog ... | 18.9\n",
       "2018-03-14 00:25:59 | Twitter for iPhone | it was my great honor to deliver a message at the marine ... | 14786         | 2018.2  | 2018-03-13 19:25:59-05:00 | 19.4331 | it was my great honor to deliver a message at the marine ... | 18.9"
      ]
     },
     "execution_count": 7,
     "metadata": {},
     "output_type": "execute_result"
    }
   ],
   "source": [
    "most_positive = trump.sort('polarity', descending=True).take(np.arange(5))\n",
    "most_positive\n",
    "\n",
    "# most_positive = trump.sort('polarity', descending=True).take(np.arange(5))\n",
    "# most_positive"
   ]
  },
  {
   "cell_type": "code",
   "execution_count": 8,
   "metadata": {},
   "outputs": [
    {
     "name": "stdout",
     "output_type": "stream",
     "text": [
      "Most positive tweets:\n",
      "\n",
      "   congratulations to patrick reed on his great and courageous masters win! when patrick had his amazing win at doral 5 years ago, people saw his great talent, and a bright future ahead. now he is the masters champion!\n",
      "\n",
      "   congratulations to a truly great football team, the clemson tigers, on an incredible win last night against a powerful alabama team. a big win also for the great state of south carolina. look forward to seeing the team, and their brilliant coach, for the second time at the w.h.\n",
      "\n",
      "   my supporters are the smartest, strongest, most hard working and most loyal that we have seen in our countries history. it is a beautiful thing to watch as we win elections and gather support from all over the country. as we get stronger, so does our country. best numbers ever!\n",
      "\n",
      "   thank you to all of my great supporters, really big progress being made. other countries wanting to fix crazy trade deals. economy is roaring. supreme court pick getting great reviews. new poll says trump, at over 90%, is the most popular republican in history of the party. wow!\n",
      "\n",
      "   it was my great honor to deliver a message at the marine corps air station miramar to our great u.s. military, straight from the heart of the american people: we support you, we thank you, we love you - and we will always have your back! https://t.co/oct1nh3don\n"
     ]
    }
   ],
   "source": [
    "## Just Run this cell to view the whole text of the tweets in a nicer format\n",
    "print('Most positive tweets:')\n",
    "for t in most_positive.column('text'):\n",
    "    print('\\n  ', t)"
   ]
  },
  {
   "cell_type": "markdown",
   "metadata": {},
   "source": [
    "<div class=\"alert alert-warning\">\n",
    "<b>Question:</b> What patterns do you notice in the most positive tweets?\n",
    "   </div>"
   ]
  },
  {
   "cell_type": "markdown",
   "metadata": {},
   "source": [
    "*Answer here*"
   ]
  },
  {
   "cell_type": "markdown",
   "metadata": {
    "collapsed": true
   },
   "source": [
    "**Specific Words:** Based on these more extreme tweets, we can see some trends in the tweets. Based on what we know from these tweets and the news. Let's investigate specific words that Trump uses in his tweets. What context does he use these words in?"
   ]
  },
  {
   "cell_type": "markdown",
   "metadata": {},
   "source": [
    "<div class=\"alert alert-warning\">\n",
    "<b>Question:</b> Choose 6 different keywords. Then, calculate the average polarity for tweets that contain those keywords. Use the `avg_pol` function. Make sure to run the cell that defines the function. We have provided the word \"immigr\" as an example for format, feel free to change this.\n",
    "   </div>\n",
    "   \n",
    "Note: Some words are used more often then others, but there is usually a stem or root part of a word that appears more often. For example, if you are interested in immigration consider using \"immigr\", so that you find cases that contain immigration, immigrant, etc."
   ]
  },
  {
   "cell_type": "code",
   "execution_count": 9,
   "metadata": {},
   "outputs": [],
   "source": [
    "## RUN THIS CELL!!\n",
    "def avg_pol(keyword_array):\n",
    "    pol_arr = make_array()\n",
    "    for i in keyword_array:\n",
    "        tbl = trump.where(\"no_punc\", are.containing(i))\n",
    "        avg = np.average(tbl.column(\"polarity\"))\n",
    "        pol_arr = np.append(pol_arr,avg)\n",
    "    return pol_arr"
   ]
  },
  {
   "cell_type": "code",
   "execution_count": 10,
   "metadata": {},
   "outputs": [
    {
     "data": {
      "text/plain": [
       "array([-1.35449438,  4.91011132,  1.18322581, -0.74393723, -2.4530303 ,\n",
       "        0.22851852])"
      ]
     },
     "execution_count": 10,
     "metadata": {},
     "output_type": "execute_result"
    }
   ],
   "source": [
    "words = make_array(\"immigr\",  \"great\", \"china\", \"hillary\", \"crazy\", \"wall\")\n",
    "polarity_score = avg_pol(words)\n",
    "polarity_score\n",
    "\n",
    "# words = make_array(\"immigr\",  ..., ..., ..., ..., ...)\n",
    "# polarity_score = avg_pol(words)\n",
    "# polarity_score"
   ]
  },
  {
   "cell_type": "markdown",
   "metadata": {},
   "source": [
    "We have compiled the keywords we are interested in and their average polarities. In order to compare the numbers in the array, it would be easier if they were in a table, so let's create one.\n",
    "<div class=\"alert alert-warning\">\n",
    "<b>Question:</b> Create a table called `words_polarity` that has two columns. The first called `Word`, and the second called `Average Polarity` which contains the `polarity_score` array we made above. Then, sort the \"Average Polarity\" column in ascending order.\n",
    "   </div>"
   ]
  },
  {
   "cell_type": "code",
   "execution_count": 11,
   "metadata": {},
   "outputs": [
    {
     "data": {
      "text/html": [
       "<table border=\"1\" class=\"dataframe\">\n",
       "    <thead>\n",
       "        <tr>\n",
       "            <th>Words</th> <th>Average Polarity</th>\n",
       "        </tr>\n",
       "    </thead>\n",
       "    <tbody>\n",
       "        <tr>\n",
       "            <td>crazy  </td> <td>-2.45303        </td>\n",
       "        </tr>\n",
       "        <tr>\n",
       "            <td>immigr </td> <td>-1.35449        </td>\n",
       "        </tr>\n",
       "        <tr>\n",
       "            <td>hillary</td> <td>-0.743937       </td>\n",
       "        </tr>\n",
       "        <tr>\n",
       "            <td>wall   </td> <td>0.228519        </td>\n",
       "        </tr>\n",
       "        <tr>\n",
       "            <td>china  </td> <td>1.18323         </td>\n",
       "        </tr>\n",
       "        <tr>\n",
       "            <td>great  </td> <td>4.91011         </td>\n",
       "        </tr>\n",
       "    </tbody>\n",
       "</table>"
      ],
      "text/plain": [
       "Words   | Average Polarity\n",
       "crazy   | -2.45303\n",
       "immigr  | -1.35449\n",
       "hillary | -0.743937\n",
       "wall    | 0.228519\n",
       "china   | 1.18323\n",
       "great   | 4.91011"
      ]
     },
     "execution_count": 11,
     "metadata": {},
     "output_type": "execute_result"
    }
   ],
   "source": [
    "words_polarity = Table().with_columns(\"Words\", words, \"Average Polarity\", polarity_score).sort(\"Average Polarity\")\n",
    "words_polarity\n",
    "\n",
    "# words_polarity = Table().with_columns(\"...\", words, \"Average Polarity\", ...).sort(\"Polarity\")\n",
    "# words_polarity"
   ]
  },
  {
   "cell_type": "markdown",
   "metadata": {},
   "source": [
    "<div class=\"alert alert-warning\">\n",
    "<b>Question:</b> Using the words_polarity table, we can make a bar chart. Fill in the code below.\n",
    "   </div>"
   ]
  },
  {
   "cell_type": "code",
   "execution_count": 12,
   "metadata": {},
   "outputs": [
    {
     "data": {
      "image/png": "[encoded data removed]",
      "text/plain": [
       "<Figure size 432x288 with 1 Axes>"
      ]
     },
     "metadata": {},
     "output_type": "display_data"
    }
   ],
   "source": [
    "words_polarity.barh(\"Words\")"
   ]
  },
  {
   "cell_type": "markdown",
   "metadata": {},
   "source": [
    "<div class=\"alert alert-warning\">\n",
    "<b>Question:</b> What are some possible reasons for the disparities between the bars? \n",
    "   </div>"
   ]
  },
  {
   "cell_type": "markdown",
   "metadata": {},
   "source": [
    "*Insert answer here.*"
   ]
  },
  {
   "cell_type": "markdown",
   "metadata": {},
   "source": [
    "### Part 2: Polarity in relation to Retweets & Time"
   ]
  },
  {
   "cell_type": "markdown",
   "metadata": {},
   "source": [
    "In Part 1, we learned about polarity and the sentiment of some of Trump's tweets, but how does this relate to other parts of the data. Two other interesting components are the number of retweets certain posts get over others and differences over time in polarity. How are these variables related to sentiment? Let's start with retweets."
   ]
  },
  {
   "cell_type": "markdown",
   "metadata": {},
   "source": [
    "**Retweets:** Similar to other social media platforms, retweeting allows people to share content others post. The higher the number of retweets, then the more popular the post."
   ]
  },
  {
   "cell_type": "markdown",
   "metadata": {},
   "source": [
    "<div class=\"alert alert-warning\">\n",
    "<b>Question:</b> Find the 5 most retweeted posts in the dataset. (Hint: first, sort the data.)\n",
    "   </div>"
   ]
  },
  {
   "cell_type": "code",
   "execution_count": 13,
   "metadata": {},
   "outputs": [
    {
     "data": {
      "text/html": [
       "<table border=\"1\" class=\"dataframe\">\n",
       "    <thead>\n",
       "        <tr>\n",
       "            <th>time</th> <th>source</th> <th>text</th> <th>retweet_count</th> <th>year</th> <th>est_time</th> <th>hour</th> <th>no_punc</th> <th>polarity</th>\n",
       "        </tr>\n",
       "    </thead>\n",
       "    <tbody>\n",
       "        <tr>\n",
       "            <td>2017-07-02 13:21:42</td> <td>Twitter for iPhone </td> <td>#fraudnewscnn #fnn https://t.co/wyunhjjujg                  </td> <td>370272       </td> <td>2017.5 </td> <td>2017-07-02 08:21:42-05:00</td> <td>8.36167</td> <td> fraudnewscnn  fnn https   t co wyunhjjujg                  </td> <td>0       </td>\n",
       "        </tr>\n",
       "        <tr>\n",
       "            <td>2016-11-08 11:43:14</td> <td>Twitter for Android</td> <td>today we make america great again!                          </td> <td>337819       </td> <td>2016.85</td> <td>2016-11-08 06:43:14-05:00</td> <td>6.72056</td> <td>today we make america great again                           </td> <td>3.1     </td>\n",
       "        </tr>\n",
       "        <tr>\n",
       "            <td>2017-11-12 00:48:01</td> <td>Twitter Web Client </td> <td>why would kim jong-un insult me by calling me \"old,\" whe ...</td> <td>254000       </td> <td>2017.86</td> <td>2017-11-11 19:48:01-05:00</td> <td>19.8003</td> <td>why would kim jong un insult me by calling me  old   whe ...</td> <td>0.6     </td>\n",
       "        </tr>\n",
       "        <tr>\n",
       "            <td>2016-11-09 11:36:58</td> <td>Twitter for Android</td> <td>such a beautiful and important evening! the forgotten ma ...</td> <td>215794       </td> <td>2016.86</td> <td>2016-11-09 06:36:58-05:00</td> <td>6.61611</td> <td>such a beautiful and important evening  the forgotten ma ...</td> <td>1.9     </td>\n",
       "        </tr>\n",
       "        <tr>\n",
       "            <td>2018-01-03 00:49:19</td> <td>Twitter for iPhone </td> <td>north korean leader kim jong un just stated that the “nu ...</td> <td>180010       </td> <td>2018.01</td> <td>2018-01-02 19:49:19-05:00</td> <td>19.8219</td> <td>north korean leader kim jong un just stated that the  nu ...</td> <td>0.5     </td>\n",
       "        </tr>\n",
       "    </tbody>\n",
       "</table>"
      ],
      "text/plain": [
       "time                | source              | text                                                         | retweet_count | year    | est_time                  | hour    | no_punc                                                      | polarity\n",
       "2017-07-02 13:21:42 | Twitter for iPhone  | #fraudnewscnn #fnn https://t.co/wyunhjjujg                   | 370272        | 2017.5  | 2017-07-02 08:21:42-05:00 | 8.36167 |  fraudnewscnn  fnn https   t co wyunhjjujg                   | 0\n",
       "2016-11-08 11:43:14 | Twitter for Android | today we make america great again!                           | 337819        | 2016.85 | 2016-11-08 06:43:14-05:00 | 6.72056 | today we make america great again                            | 3.1\n",
       "2017-11-12 00:48:01 | Twitter Web Client  | why would kim jong-un insult me by calling me \"old,\" whe ... | 254000        | 2017.86 | 2017-11-11 19:48:01-05:00 | 19.8003 | why would kim jong un insult me by calling me  old   whe ... | 0.6\n",
       "2016-11-09 11:36:58 | Twitter for Android | such a beautiful and important evening! the forgotten ma ... | 215794        | 2016.86 | 2016-11-09 06:36:58-05:00 | 6.61611 | such a beautiful and important evening  the forgotten ma ... | 1.9\n",
       "2018-01-03 00:49:19 | Twitter for iPhone  | north korean leader kim jong un just stated that the “nu ... | 180010        | 2018.01 | 2018-01-02 19:49:19-05:00 | 19.8219 | north korean leader kim jong un just stated that the  nu ... | 0.5"
      ]
     },
     "execution_count": 13,
     "metadata": {},
     "output_type": "execute_result"
    }
   ],
   "source": [
    "most_retweeted = trump.sort(\"retweet_count\", descending= True).take(np.arange(5))\n",
    "most_retweeted"
   ]
  },
  {
   "cell_type": "code",
   "execution_count": 14,
   "metadata": {},
   "outputs": [
    {
     "name": "stdout",
     "output_type": "stream",
     "text": [
      "Most retweeted posts:\n",
      "\n",
      "   #fraudnewscnn #fnn https://t.co/wyunhjjujg\n",
      "\n",
      "   today we make america great again!\n",
      "\n",
      "   why would kim jong-un insult me by calling me \"old,\" when i would never call him \"short and fat?\" oh well, i try so hard to be his friend - and maybe someday that will happen!\n",
      "\n",
      "   such a beautiful and important evening! the forgotten man and woman will never be forgotten again. we will all come together as never before\n",
      "\n",
      "   north korean leader kim jong un just stated that the “nuclear button is on his desk at all times.” will someone from his depleted and food starved regime please inform him that i too have a nuclear button, but it is a much bigger &amp; more powerful one than his, and my button works!\n"
     ]
    }
   ],
   "source": [
    "## Just Run this cell to view the whole text of the tweets in a nicer format\n",
    "print('Most retweeted posts:')\n",
    "for t in most_retweeted.column('text'):\n",
    "    print('\\n  ', t)"
   ]
  },
  {
   "cell_type": "markdown",
   "metadata": {},
   "source": [
    "<div class=\"alert alert-warning\">\n",
    "<b>Question:</b> What patterns do you notice in the most retweeted tweets?\n",
    "   </div>"
   ]
  },
  {
   "cell_type": "markdown",
   "metadata": {},
   "source": [
    "*Answer here*"
   ]
  },
  {
   "cell_type": "markdown",
   "metadata": {},
   "source": [
    "\n",
    "<div class=\"alert alert-warning\">\n",
    "<b>Question:</b> How do retweets relate to polarity? Make a scatterplot that compares retweets and polarity\n",
    "   </div>"
   ]
  },
  {
   "cell_type": "code",
   "execution_count": 15,
   "metadata": {
    "scrolled": true
   },
   "outputs": [
    {
     "data": {
      "image/png": "[encoded data removed]",
      "text/plain": [
       "<Figure size 360x360 with 1 Axes>"
      ]
     },
     "metadata": {},
     "output_type": "display_data"
    }
   ],
   "source": [
    "trump.scatter(\"polarity\", \"retweet_count\")"
   ]
  },
  {
   "cell_type": "markdown",
   "metadata": {},
   "source": [
    "**Polarity Over Time:** We learned about retweeting patterns a little bit, but how do these patterns vary over time. Let's focus on years, so we can see the broad pattern over time.\n",
    "<div class=\"alert alert-warning\">\n",
    "<b>Question:</b> Group the data by year, so that each row represents a unique year. Take the average of every other column. If a column contains strings, make sure to drop it. Call this table `year_group`.\n",
    "   </div>"
   ]
  },
  {
   "cell_type": "code",
   "execution_count": 16,
   "metadata": {},
   "outputs": [
    {
     "data": {
      "text/html": [
       "<table border=\"1\" class=\"dataframe\">\n",
       "    <thead>\n",
       "        <tr>\n",
       "            <th>year</th> <th>retweet_count average</th> <th>hour average</th> <th>polarity average</th>\n",
       "        </tr>\n",
       "    </thead>\n",
       "    <tbody>\n",
       "        <tr>\n",
       "            <td>2016.05</td> <td>1800.73              </td> <td>13.7254     </td> <td>0.190909        </td>\n",
       "        </tr>\n",
       "        <tr>\n",
       "            <td>2016.06</td> <td>1971.19              </td> <td>13.813      </td> <td>0.154839        </td>\n",
       "        </tr>\n",
       "        <tr>\n",
       "            <td>2016.06</td> <td>1980.92              </td> <td>14.5338     </td> <td>2.444           </td>\n",
       "        </tr>\n",
       "        <tr>\n",
       "            <td>2016.06</td> <td>1507.63              </td> <td>12.6652     </td> <td>1.60526         </td>\n",
       "        </tr>\n",
       "        <tr>\n",
       "            <td>2016.07</td> <td>1379.13              </td> <td>16.4571     </td> <td>0.404348        </td>\n",
       "        </tr>\n",
       "        <tr>\n",
       "            <td>2016.07</td> <td>1676.97              </td> <td>13.2691     </td> <td>0.312903        </td>\n",
       "        </tr>\n",
       "        <tr>\n",
       "            <td>2016.07</td> <td>4676.4               </td> <td>15.5756     </td> <td>0.11            </td>\n",
       "        </tr>\n",
       "        <tr>\n",
       "            <td>2016.07</td> <td>2184.24              </td> <td>11.3493     </td> <td>0.893939        </td>\n",
       "        </tr>\n",
       "        <tr>\n",
       "            <td>2016.08</td> <td>3012.3               </td> <td>10.2797     </td> <td>2.695           </td>\n",
       "        </tr>\n",
       "        <tr>\n",
       "            <td>2016.08</td> <td>2971.79              </td> <td>17.7372     </td> <td>1.97143         </td>\n",
       "        </tr>\n",
       "    </tbody>\n",
       "</table>\n",
       "<p>... (1105 rows omitted)</p>"
      ],
      "text/plain": [
       "year    | retweet_count average | hour average | polarity average\n",
       "2016.05 | 1800.73               | 13.7254      | 0.190909\n",
       "2016.06 | 1971.19               | 13.813       | 0.154839\n",
       "2016.06 | 1980.92               | 14.5338      | 2.444\n",
       "2016.06 | 1507.63               | 12.6652      | 1.60526\n",
       "2016.07 | 1379.13               | 16.4571      | 0.404348\n",
       "2016.07 | 1676.97               | 13.2691      | 0.312903\n",
       "2016.07 | 4676.4                | 15.5756      | 0.11\n",
       "2016.07 | 2184.24               | 11.3493      | 0.893939\n",
       "2016.08 | 3012.3                | 10.2797      | 2.695\n",
       "2016.08 | 2971.79               | 17.7372      | 1.97143\n",
       "... (1105 rows omitted)"
      ]
     },
     "execution_count": 16,
     "metadata": {},
     "output_type": "execute_result"
    }
   ],
   "source": [
    "year_group = trump.group(\"year\", np.average).drop(1,2,3,5,7)\n",
    "year_group "
   ]
  },
  {
   "cell_type": "markdown",
   "metadata": {},
   "source": [
    "<div class=\"alert alert-warning\">\n",
    "<b>Question:</b> Using the grouped table, create a plot comparing `year` by `retweet_count average`.\n",
    "   </div>"
   ]
  },
  {
   "cell_type": "code",
   "execution_count": 17,
   "metadata": {},
   "outputs": [
    {
     "data": {
      "image/png": "[encoded data removed]",
      "text/plain": [
       "<Figure size 432x288 with 1 Axes>"
      ]
     },
     "metadata": {},
     "output_type": "display_data"
    }
   ],
   "source": [
    "year_group.plot(\"year\", \"retweet_count average\")"
   ]
  },
  {
   "cell_type": "markdown",
   "metadata": {},
   "source": [
    "<div class=\"alert alert-warning\">\n",
    "<b>Question:</b> What do you notice from the plot? What trend exists over time (if any)?\n",
    "   </div>"
   ]
  },
  {
   "cell_type": "markdown",
   "metadata": {
    "collapsed": true
   },
   "source": [
    "*Answer here*"
   ]
  },
  {
   "cell_type": "markdown",
   "metadata": {},
   "source": [
    "<div class=\"alert alert-warning\">\n",
    "<b>Question:</b> Let's do the same for polarity over time. Using the grouped table, create a plot comparing `year` by `polarity average`.\n",
    "   </div>"
   ]
  },
  {
   "cell_type": "code",
   "execution_count": 18,
   "metadata": {},
   "outputs": [
    {
     "data": {
      "image/png": "[encoded data removed]",
      "text/plain": [
       "<Figure size 432x288 with 1 Axes>"
      ]
     },
     "metadata": {},
     "output_type": "display_data"
    }
   ],
   "source": [
    "year_group.plot(\"year\", \"polarity average\")"
   ]
  },
  {
   "cell_type": "markdown",
   "metadata": {},
   "source": [
    "<div class=\"alert alert-warning\">\n",
    "<b>Question:</b> What do you notice from the plot? What trend exists over time (if any)?\n",
    "   </div>"
   ]
  },
  {
   "cell_type": "markdown",
   "metadata": {},
   "source": [
    "*Answer here*"
   ]
  },
  {
   "cell_type": "markdown",
   "metadata": {},
   "source": [
    "<div class=\"alert alert-warning\">\n",
    "<b>Question:</b> Given the changes in polarity and retweet counts over time, what might we expect to see from Trump's 2020 twitter data?\n",
    "   </div>"
   ]
  },
  {
   "cell_type": "markdown",
   "metadata": {},
   "source": [
    "*Answer here.*"
   ]
  },
  {
   "cell_type": "markdown",
   "metadata": {},
   "source": [
    "## Using prediction and inference to draw conclusions <a id='subsection 1a'></a>"
   ]
  },
  {
   "cell_type": "markdown",
   "metadata": {},
   "source": [
    "Now that we have some context for the data, let's think back to major events that have happened in Trump's period as president. Consider his fight against Hillary  & Bernie, his inauguration, the witch hunt period, fake new, Russia scandal, and Charlottesville to name a few. These are all major events that happened in the past few years. **How do these events appear in Trump's tweets?**\n",
    "\n",
    "From the previous sections, we have looked at the polarity of certain words, and we can do something similar to explore these events. As a group, choose an event you would like to explore more in depth."
   ]
  },
  {
   "cell_type": "markdown",
   "metadata": {},
   "source": [
    "<div class=\"alert alert-warning\">\n",
    "<b>Question:</b> What event are you interested in exploring? Determine a keyword you can use to find all related tweets to the event.\n",
    "   </div>"
   ]
  },
  {
   "cell_type": "markdown",
   "metadata": {},
   "source": [
    "*Answer here*"
   ]
  },
  {
   "cell_type": "markdown",
   "metadata": {},
   "source": [
    "<div class=\"alert alert-warning\">\n",
    "<b>Question:</b> Use your keyword to find all the tweets where your keyword in contained in the post.\n",
    "   </div>"
   ]
  },
  {
   "cell_type": "code",
   "execution_count": 19,
   "metadata": {},
   "outputs": [
    {
     "data": {
      "text/html": [
       "<table border=\"1\" class=\"dataframe\">\n",
       "    <thead>\n",
       "        <tr>\n",
       "            <th>time</th> <th>source</th> <th>text</th> <th>retweet_count</th> <th>year</th> <th>est_time</th> <th>hour</th> <th>no_punc</th> <th>polarity</th>\n",
       "        </tr>\n",
       "    </thead>\n",
       "    <tbody>\n",
       "        <tr>\n",
       "            <td>2017-08-12 18:00:28</td> <td>Twitter for iPhone</td> <td>am in bedminster for meetings &amp; press conference on  ...</td> <td>11134        </td> <td>2017.61</td> <td>2017-08-12 13:00:28-05:00</td> <td>13.0078</td> <td>am in bedminster for meetings  amp  press conference on  ...</td> <td>-0.2    </td>\n",
       "        </tr>\n",
       "        <tr>\n",
       "            <td>2017-08-12 20:23:15</td> <td>Twitter for iPhone</td> <td>what is vital now is a swift restoration of law and orde ...</td> <td>17230        </td> <td>2017.61</td> <td>2017-08-12 15:23:15-05:00</td> <td>15.3875</td> <td>what is vital now is a swift restoration of law and orde ...</td> <td>3.4     </td>\n",
       "        </tr>\n",
       "        <tr>\n",
       "            <td>2017-08-12 21:49:47</td> <td>Media Studio      </td> <td>we will continue to follow developments in charlottesvil ...</td> <td>15130        </td> <td>2017.61</td> <td>2017-08-12 16:49:47-05:00</td> <td>16.8297</td> <td>we will continue to follow developments in charlottesvil ...</td> <td>1.5     </td>\n",
       "        </tr>\n",
       "        <tr>\n",
       "            <td>2017-08-12 23:25:25</td> <td>Twitter for iPhone</td> <td>condolences to the family of the young woman killed toda ...</td> <td>22891        </td> <td>2017.61</td> <td>2017-08-12 18:25:25-05:00</td> <td>18.4236</td> <td>condolences to the family of the young woman killed toda ...</td> <td>-4.1    </td>\n",
       "        </tr>\n",
       "        <tr>\n",
       "            <td>2017-08-13 22:03:32</td> <td>Twitter for iPhone</td> <td>rt @axios: the doj is opening a civil rights investigati ...</td> <td>7062         </td> <td>2017.61</td> <td>2017-08-13 17:03:32-05:00</td> <td>17.0589</td> <td>rt  axios  the doj is opening a civil rights investigati ...</td> <td>-2.1    </td>\n",
       "        </tr>\n",
       "        <tr>\n",
       "            <td>2017-08-14 22:29:00</td> <td>Twitter for iPhone</td> <td>made additional remarks on charlottesville and realize o ...</td> <td>32803        </td> <td>2017.62</td> <td>2017-08-14 17:29:00-05:00</td> <td>17.4833</td> <td>made additional remarks on charlottesville and realize o ...</td> <td>-0.9    </td>\n",
       "        </tr>\n",
       "        <tr>\n",
       "            <td>2017-08-23 13:40:31</td> <td>Twitter for iPhone</td> <td>last night in phoenix i read the things from my statemen ...</td> <td>19175        </td> <td>2017.64</td> <td>2017-08-23 08:40:31-05:00</td> <td>8.67528</td> <td>last night in phoenix i read the things from my statemen ...</td> <td>-2.1    </td>\n",
       "        </tr>\n",
       "        <tr>\n",
       "            <td>2018-08-11 13:26:32</td> <td>Twitter for iPhone</td> <td>the riots in charlottesville a year ago resulted in sens ...</td> <td>30954        </td> <td>2018.61</td> <td>2018-08-11 08:26:32-05:00</td> <td>8.44222</td> <td>the riots in charlottesville a year ago resulted in sens ...</td> <td>-10.5   </td>\n",
       "        </tr>\n",
       "    </tbody>\n",
       "</table>"
      ],
      "text/plain": [
       "time                | source             | text                                                         | retweet_count | year    | est_time                  | hour    | no_punc                                                      | polarity\n",
       "2017-08-12 18:00:28 | Twitter for iPhone | am in bedminster for meetings &amp; press conference on  ... | 11134         | 2017.61 | 2017-08-12 13:00:28-05:00 | 13.0078 | am in bedminster for meetings  amp  press conference on  ... | -0.2\n",
       "2017-08-12 20:23:15 | Twitter for iPhone | what is vital now is a swift restoration of law and orde ... | 17230         | 2017.61 | 2017-08-12 15:23:15-05:00 | 15.3875 | what is vital now is a swift restoration of law and orde ... | 3.4\n",
       "2017-08-12 21:49:47 | Media Studio       | we will continue to follow developments in charlottesvil ... | 15130         | 2017.61 | 2017-08-12 16:49:47-05:00 | 16.8297 | we will continue to follow developments in charlottesvil ... | 1.5\n",
       "2017-08-12 23:25:25 | Twitter for iPhone | condolences to the family of the young woman killed toda ... | 22891         | 2017.61 | 2017-08-12 18:25:25-05:00 | 18.4236 | condolences to the family of the young woman killed toda ... | -4.1\n",
       "2017-08-13 22:03:32 | Twitter for iPhone | rt @axios: the doj is opening a civil rights investigati ... | 7062          | 2017.61 | 2017-08-13 17:03:32-05:00 | 17.0589 | rt  axios  the doj is opening a civil rights investigati ... | -2.1\n",
       "2017-08-14 22:29:00 | Twitter for iPhone | made additional remarks on charlottesville and realize o ... | 32803         | 2017.62 | 2017-08-14 17:29:00-05:00 | 17.4833 | made additional remarks on charlottesville and realize o ... | -0.9\n",
       "2017-08-23 13:40:31 | Twitter for iPhone | last night in phoenix i read the things from my statemen ... | 19175         | 2017.64 | 2017-08-23 08:40:31-05:00 | 8.67528 | last night in phoenix i read the things from my statemen ... | -2.1\n",
       "2018-08-11 13:26:32 | Twitter for iPhone | the riots in charlottesville a year ago resulted in sens ... | 30954         | 2018.61 | 2018-08-11 08:26:32-05:00 | 8.44222 | the riots in charlottesville a year ago resulted in sens ... | -10.5"
      ]
     },
     "execution_count": 19,
     "metadata": {},
     "output_type": "execute_result"
    }
   ],
   "source": [
    "event = trump.where(\"no_punc\", are.containing(\"charlottesville\"))\n",
    "event"
   ]
  },
  {
   "cell_type": "markdown",
   "metadata": {},
   "source": [
    "<div class=\"alert alert-warning\">\n",
    "<b>Question:</b> What is the time range of tweets related to your event? How does this compare to what you know of the event? I recommend searching a bit about the event you are exploring.\n",
    "   </div>"
   ]
  },
  {
   "cell_type": "markdown",
   "metadata": {},
   "source": [
    "*Answer here*\n",
    "\n",
    "#### The tweets are primarily from from August 2017, but he wrote a rememberance tweet in August 2018. https://en.wikipedia.org/wiki/Unite_the_Right_rally"
   ]
  },
  {
   "cell_type": "markdown",
   "metadata": {},
   "source": [
    "<div class=\"alert alert-warning\">\n",
    "<b>Question:</b> Plot the change over time in retweets for your event. Comment on what patterns you noticed.\n",
    "   </div>"
   ]
  },
  {
   "cell_type": "code",
   "execution_count": 20,
   "metadata": {},
   "outputs": [
    {
     "data": {
      "image/png": "[encoded data removed]",
      "text/plain": [
       "<Figure size 432x288 with 1 Axes>"
      ]
     },
     "metadata": {},
     "output_type": "display_data"
    }
   ],
   "source": [
    "event.plot(\"time\", \"retweet_count\")"
   ]
  },
  {
   "cell_type": "markdown",
   "metadata": {},
   "source": [
    "*Comment here*"
   ]
  },
  {
   "cell_type": "markdown",
   "metadata": {},
   "source": [
    "<div class=\"alert alert-warning\">\n",
    "<b>Question:</b> Plot the change over time in polarity for your event. Comment on what patterns you noticed.\n",
    "   </div>"
   ]
  },
  {
   "cell_type": "code",
   "execution_count": 21,
   "metadata": {},
   "outputs": [
    {
     "data": {
      "image/png": "[encoded data removed]",
      "text/plain": [
       "<Figure size 432x288 with 1 Axes>"
      ]
     },
     "metadata": {},
     "output_type": "display_data"
    }
   ],
   "source": [
    "event.plot(\"time\", \"polarity\")"
   ]
  },
  {
   "cell_type": "markdown",
   "metadata": {},
   "source": [
    "*Comment here*"
   ]
  },
  {
   "cell_type": "markdown",
   "metadata": {},
   "source": [
    "<div class=\"alert alert-warning\">\n",
    "<b>Question:</b> Based on these two measure, how do Trump's tweets frame the event? How does that differ from your interpretation of the event? How is it similar?\n",
    "   </div>"
   ]
  },
  {
   "cell_type": "markdown",
   "metadata": {},
   "source": [
    "*Answer here*"
   ]
  },
  {
   "cell_type": "markdown",
   "metadata": {},
   "source": [
    "<div class=\"alert alert-warning\">\n",
    "<b>Question:</b> What impact might President Trump's tweets have an effect on these major events? How does his use of twitter influence individuals who agree and disagree with his beliefs?\n",
    "   </div>"
   ]
  },
  {
   "cell_type": "markdown",
   "metadata": {},
   "source": [
    "*Answer here*"
   ]
  },
  {
   "cell_type": "markdown",
   "metadata": {},
   "source": [
    "<div class=\"alert alert-warning\">\n",
    "<b>Question:</b> What is something interesting you learned from the project?\n",
    "   </div>"
   ]
  },
  {
   "cell_type": "markdown",
   "metadata": {},
   "source": [
    "*Answer here*"
   ]
  },
  {
   "cell_type": "markdown",
   "metadata": {},
   "source": [
    "Source: Adapted from [Fall 2019 Data 100 HW 4: Trump, Twitter, and Text](http://www.ds100.org/fa19/syllabus/)\n",
    "Notebook Authors: Alleanna Clark, Ashley Quiterio, Karla Palos Castellanos"
   ]
  }
 ],
 "metadata": {
  "kernelspec": {
   "display_name": "Python 3",
   "language": "python",
   "name": "python3"
  },
  "language_info": {
   "codemirror_mode": {
    "name": "ipython",
    "version": 3
   },
   "file_extension": ".py",
   "mimetype": "text/x-python",
   "name": "python",
   "nbconvert_exporter": "python",
   "pygments_lexer": "ipython3",
   "version": "3.6.9"
  }
 },
 "nbformat": 4,
 "nbformat_minor": 4
}
