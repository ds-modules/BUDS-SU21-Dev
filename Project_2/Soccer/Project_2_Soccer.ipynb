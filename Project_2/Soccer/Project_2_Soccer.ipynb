{
 "cells": [
  {
   "cell_type": "code",
   "execution_count": null,
   "metadata": {},
   "outputs": [],
   "source": [
    "import numpy as np\n",
    "import pandas as pd\n",
    "from datascience import *\n",
    "\n",
    "import matplotlib.pyplot as plt\n",
    "%matplotlib inline\n",
    "plt.style.use('fivethirtyeight')"
   ]
  },
  {
   "cell_type": "markdown",
   "metadata": {},
   "source": [
    "# Project 2: Soccer"
   ]
  },
  {
   "cell_type": "markdown",
   "metadata": {},
   "source": [
    "## Table of Contents\n",
    "<a href='#section 0'>Background Knowledge: Topic</a>\n",
    "\n",
    "1.  <a href='#section 1'> The Data Science Life Cycle</a>\n",
    "\n",
    "    a. <a href='#subsection 1a'>Formulating a question or problem</a> \n",
    "\n",
    "    b. <a href='#subsection 1b'>Acquiring and cleaning data</a>\n",
    "\n",
    "    c. <a href='#subsection 1c'>Conducting exploratory data analysis</a>\n",
    "\n",
    "    d. <a href='#subsection 1d'>Using prediction and inference to draw conclusions</a>\n",
    "<br><br>"
   ]
  },
  {
   "cell_type": "markdown",
   "metadata": {},
   "source": [
    "### Background Knowledge <a id='section 0'></a>\n"
   ]
  },
  {
   "cell_type": "markdown",
   "metadata": {},
   "source": [
    "Nothing frustrates both soccer fans and players as much as being [red-carded](https://en.wikipedia.org/wiki/Penalty_card#Red_card). In soccer, receiving a red card from the referee means that the player awarded the red card is expelled from the game, and consequently his team must play with one fewer player for the remainder of the game.\n",
    "\n",
    "Due to the inherently subjective nature of referees' judgments, questions involving the fairness of red card decisions crop up frequently, especially when soccer players with darker complexions are red-carded.\n",
    "\n",
    "For the remainder of this project, we will explore a dataset on red-cards and skin color and attempt to understand how different approachs to analysis can lead to different conclusions to the general question: \"Are referees more likely to give red cards to darker-skinned players?\"\n"
   ]
  },
  {
   "cell_type": "markdown",
   "metadata": {},
   "source": [
    " <img src=\"images/redcard.jpg\" width = 700/>"
   ]
  },
  {
   "cell_type": "markdown",
   "metadata": {},
   "source": [
    "# The Data Science Life Cycle <a id='section 1'></a>"
   ]
  },
  {
   "cell_type": "markdown",
   "metadata": {},
   "source": [
    "## Formulating a question or problem <a id='subsection 1a'></a>\n",
    "It is important to ask questions that will be informative and that will avoid misleading results. "
   ]
  },
  {
   "cell_type": "markdown",
   "metadata": {},
   "source": [
    "<div class=\"alert alert-info\">\n",
    "<b>Question:</b> Recall the questions about red cards and skin color that you developed with your group on Tuesday. Write down that question below, and try to add on to it with the context from the articles from Wednesday. Think about what data you would need to answer your question. You can review the articles on the bCourses page under Module 4.3.\n",
    "   </div>\n",
    "   "
   ]
  },
  {
   "cell_type": "markdown",
   "metadata": {},
   "source": [
    "**Your questions:** *here*\n",
    "\n",
    "**Data you would need:** *here*\n",
    "\n",
    "\n",
    "**Article:** *link*"
   ]
  },
  {
   "cell_type": "markdown",
   "metadata": {},
   "source": [
    "## Acquiring and cleaning data <a id='subsection 1b'></a>\n",
    " \n",
    "In this notebook, you'll be working with a dataset containing entries for many European soccer players, containing variables such as club, position, games, and skin complexion.\n",
    "\n",
    "Important to note about this dataset is that it was generated as the result of an [observational study](https://en.wikipedia.org/wiki/Observational_study), rather than a [randomized controlled experiment](https://en.wikipedia.org/wiki/Randomized_controlled_trial). In an observational study, entities' independent variables (such as race, height, zip code) are observed, rather than controlled as in the randomized controlled experiment. Though data scientists often prefer the control and accuracy of controlled experiments, often performing one is either too costly or poses ethical questions (e.g., testing trial drugs and placebo treatments on cancer patients at random). Though our dataset was generated organically--in the real world rather than in a laboratory--it is statistically more challenging to prove causation among variables for these kinds of observational studies.\n",
    "\n",
    "\n",
    "Please read this summary of the [dataset's description](https://osf.io/9yh4x/) to familiarize yourself with the context of the data:\n",
    "\n",
    ">*...we obtained data and profile photos from all soccer players (N = 2053) playing in the first male divisions of England, Germany, France and Spain in the 2012-2013 season and all referees (N = 3147) that these players played under in their professional career. We created a dataset of player dyads including the number of matches players and referees encountered each other and our dependent variable, the number of red cards given to a player by a particular referee throughout all matches the two encountered each other.*\n",
    "\n",
    ">*...implicit bias scores for each referee country were calculated using a race implicit association test (IAT), with higher values corresponding to faster white | good, black | bad associations. Explicit bias scores for each referee country were calculated using a racial thermometer task, with higher values corresponding to greater feelings of warmth toward whites versus blacks.*"
   ]
  },
  {
   "cell_type": "code",
   "execution_count": null,
   "metadata": {
    "scrolled": false
   },
   "outputs": [],
   "source": [
    "# Run this cell to load the data\n",
    "\n",
    "data = pd.read_csv(\"data/CrowdstormingDataJuly1st.csv\").dropna()\n",
    "data = Table.from_df(data)"
   ]
  },
  {
   "cell_type": "markdown",
   "metadata": {},
   "source": [
    "Here are some of the important fields in our data set that we will focus on:\n",
    "\n",
    "|Variable Name   | Description |\n",
    "|--------------|------------|\n",
    "|`player` | player's name |\n",
    "|`club` | player's soccer club (team) |\n",
    "|`leagueCountry`| country of player club (England, Germany, France, and Spain) |\n",
    "|`height` | player height (in cm) |\n",
    "|`games`| number of games in the player-referee dyad |\n",
    "|`position` | detailed player position |\n",
    "|`goals`| goals scored by a player in the player-referee dyad |\n",
    "|`yellowCards`| number of yellow cards player received from referee |\n",
    "|`yellowReds`| number of yellow-red cards player received from referee |\n",
    "|`redCards`| number of red cards player received from referee |\n",
    "|`rater1`| skin rating of photo by rater 1 (5-point scale ranging from very light skin to very dark skin |\n",
    "|`rater2`| skin rating of photo by rater 2 (5-point scale ranging from very light skin to very dark skin |\n",
    "|`meanIAT`|  mean implicit bias score (using the race IAT) for referee country, higher values correspond to faster white good, black bad associations |\n",
    "|`meanExp`| mean explicit bias score (using a racial thermometer task) for referee country, higher values correspond to greater feelings of warmth toward whites versus blacks |"
   ]
  },
  {
   "cell_type": "markdown",
   "metadata": {},
   "source": [
    "As you can see on the table above, two of the variables we will be exploring is the ratings on skin tone (1-5) measured by two raters, Lisa and Shareef. For context, we have added a series of images that were given to them so that you can better understand their perspective on skin tones. Keep in mind that this might affect our hypothesis and drive our conclusions. \n",
    "\n",
    "Note: On the following images, the only two were the rating for the two raters coincide is image #3 on the top and image #6 on the bottom. "
   ]
  },
  {
   "cell_type": "markdown",
   "metadata": {},
   "source": [
    "<img src=\"images/L1S1.jpg\" style=\"float: left; width: 30%; margin-right: 1%; margin-bottom: 0.5em;\">\n",
    "<img src=\"images/L1S2.jpg\" style=\"float: left; width: 30%; margin-right: 1%; margin-bottom: 0.5em;\">\n",
    "<img src=\"images/L2S2.jpg\" style=\"float: left; width: 30%; margin-right: 1%; margin-bottom: 0.5em;\">\n",
    "<img src=\"images/L3S4.jpg\" style=\"float: left; width: 30%; margin-right: 1%; margin-bottom: 0.5em;\">\n",
    "<img src=\"images/L4S5.jpg\" style=\"float: left; width: 30%; margin-right: 1%; margin-bottom: 0.5em;\">\n",
    "<img src=\"images/L5S5.jpg\" style=\"float: left; width: 30%; margin-right: 1%; margin-bottom: 0.5em;\">\n",
    "<p style=\"clear: both;\">"
   ]
  },
  {
   "cell_type": "code",
   "execution_count": null,
   "metadata": {},
   "outputs": [],
   "source": [
    "# Run this cell show the first ten rows of the data\n",
    "data.show(10)"
   ]
  },
  {
   "cell_type": "markdown",
   "metadata": {},
   "source": [
    "Let's remove the columns we are not going to be working with."
   ]
  },
  {
   "cell_type": "code",
   "execution_count": null,
   "metadata": {},
   "outputs": [],
   "source": [
    "cols_to_drop = [\"birthday\", \"victories\", \"ties\", \"defeats\", \"goals\",\n",
    "                \"photoID\", \"Alpha_3\", \"nIAT\", \"nExp\"]\n",
    "\n",
    "data = data.drop(cols_to_drop)"
   ]
  },
  {
   "cell_type": "markdown",
   "metadata": {},
   "source": [
    "Let's reload the table to make sure we got rid of all of our undesired columns."
   ]
  },
  {
   "cell_type": "code",
   "execution_count": null,
   "metadata": {},
   "outputs": [],
   "source": [
    "data.show(5)"
   ]
  },
  {
   "cell_type": "markdown",
   "metadata": {},
   "source": [
    "<div class=\"alert alert-info\">\n",
    "<b>Question:</b> It's important to evalute our data source. How do you feel about the way ratings on skin tone are collected? What about how implicit/explicit bias is calculated?\n",
    "   </div>"
   ]
  },
  {
   "cell_type": "markdown",
   "metadata": {},
   "source": [
    "*Insert answer here*"
   ]
  },
  {
   "cell_type": "markdown",
   "metadata": {},
   "source": [
    "<div class=\"alert alert-info\">\n",
    "<b>Question:</b> We want to learn more about the dataset. First, how many total rows are in this table? What does each row represent?\n",
    "    \n",
    "   </div>"
   ]
  },
  {
   "cell_type": "code",
   "execution_count": null,
   "metadata": {},
   "outputs": [],
   "source": [
    "total_rows = ...\n",
    "total_rows"
   ]
  },
  {
   "cell_type": "markdown",
   "metadata": {},
   "source": [
    "*Insert answer here*"
   ]
  },
  {
   "cell_type": "markdown",
   "metadata": {},
   "source": [
    "<div class=\"alert alert-info\">\n",
    "<b>Question:</b> If we're trying to examine the relationship between red cards given and skin color, which variables should we consider? Classify the ones you choose as either independent or dependent variables and explain your choices.\n",
    "    \n",
    "   </div>"
   ]
  },
  {
   "cell_type": "markdown",
   "metadata": {},
   "source": [
    "*Insert answer here*"
   ]
  },
  {
   "cell_type": "markdown",
   "metadata": {},
   "source": [
    "## Conducting exploratory data analysis <a id='subsection 1c'></a>"
   ]
  },
  {
   "cell_type": "markdown",
   "metadata": {},
   "source": [
    "Visualizations help us to understand what the dataset is telling us."
   ]
  },
  {
   "cell_type": "markdown",
   "metadata": {},
   "source": [
    "### Part 1: Scatter plots"
   ]
  },
  {
   "cell_type": "markdown",
   "metadata": {},
   "source": [
    "To analyze the correlation between independent and dependent variables, we may use a scatter plot as a simple form of data visualization between one numerical \"x\" (independent) variable and one numerical \"y\" (dependent) variable. Below are a few scatterplot examples a data scientist might generate when asking the questions,\"How are implicit and explicit bias correlated?\", and \"Is a player's height correlated with the number of yellow cards he receives?\", respectively."
   ]
  },
  {
   "cell_type": "code",
   "execution_count": null,
   "metadata": {},
   "outputs": [],
   "source": [
    "# Just run this. You don't need to understand this cell\n",
    "# - it's just accumulating all the mean implicit and explicit bias values.\n",
    "\n",
    "data_df = pd.read_csv(\"data/CrowdstormingDataJuly1st.csv\")\n",
    "meanExp = []\n",
    "meanIAT = []\n",
    "for index, row in data_df.iterrows():\n",
    "    if row[\"meanExp\"] not in meanExp:\n",
    "        meanExp.append(row[\"meanExp\"])\n",
    "        meanIAT.append(row[\"meanIAT\"])\n",
    "exps = np.nan_to_num(meanExp)\n",
    "iats = np.nan_to_num(meanIAT)"
   ]
  },
  {
   "cell_type": "markdown",
   "metadata": {},
   "source": [
    "Run the following cell to create a table of means, called `means`"
   ]
  },
  {
   "cell_type": "code",
   "execution_count": null,
   "metadata": {},
   "outputs": [],
   "source": [
    "means = Table().with_columns(\"meanExps\", exps, \"meanIATs\", iats)\n",
    "means"
   ]
  },
  {
   "cell_type": "markdown",
   "metadata": {},
   "source": [
    "<div class=\"alert alert-info\">\n",
    "<b>Question:</b> Use the means table to create a scatter plot of meanExps vs meanIATs.\n",
    "   </div>"
   ]
  },
  {
   "cell_type": "code",
   "execution_count": null,
   "metadata": {},
   "outputs": [],
   "source": [
    "#YOUR CODE HERE"
   ]
  },
  {
   "cell_type": "markdown",
   "metadata": {},
   "source": [
    "<div class=\"alert alert-info\">\n",
    "<b>Question:</b> What do you observe from the scatter plot? Why might these two variables be related in this way? \n",
    "   </div>"
   ]
  },
  {
   "cell_type": "markdown",
   "metadata": {
    "collapsed": true
   },
   "source": [
    "*Insert Answer Here*"
   ]
  },
  {
   "cell_type": "markdown",
   "metadata": {},
   "source": [
    "<div class=\"alert alert-info\">\n",
    "<b>Question:</b> Fill in the code to create a scatter plot of height vs # of yellow cards.\n",
    "   </div>"
   ]
  },
  {
   "cell_type": "code",
   "execution_count": null,
   "metadata": {},
   "outputs": [],
   "source": [
    "#YOUR CODE HERE"
   ]
  },
  {
   "cell_type": "markdown",
   "metadata": {},
   "source": [
    "<div class=\"alert alert-info\">\n",
    "<b>Question:</b> What do you observe from the scatter plot? Do the two variables seem to be correlated? Why or why not?\n",
    "   </div>"
   ]
  },
  {
   "cell_type": "markdown",
   "metadata": {},
   "source": [
    "*Insert Answer Here*"
   ]
  },
  {
   "cell_type": "markdown",
   "metadata": {},
   "source": [
    "### Part 2: Bar plots"
   ]
  },
  {
   "cell_type": "markdown",
   "metadata": {},
   "source": [
    "Observe below how we're able to use a pivot table to make an insightful series of bar plots on the number of red cards awarded by referees officiating in different leagues across Europe. The number to the left of the plots' y axes represents the number of red cards awarded in those kinds of games. The labels of the plots' y axes is the number of games in that particular referee/league combination for the given number of red cards.\n",
    "\n",
    "Run the following cell to load a new table. The values represent the number of games for each **league, number of red cards** combination:"
   ]
  },
  {
   "cell_type": "code",
   "execution_count": null,
   "metadata": {
    "scrolled": true
   },
   "outputs": [],
   "source": [
    "agg = data.pivot(\"redCards\", \"leagueCountry\")\n",
    "agg"
   ]
  },
  {
   "cell_type": "markdown",
   "metadata": {},
   "source": [
    "And now run the below cell to plot a bar chart for each individual league"
   ]
  },
  {
   "cell_type": "code",
   "execution_count": null,
   "metadata": {},
   "outputs": [],
   "source": [
    "agg.bar(\"leagueCountry\", overlay=False)"
   ]
  },
  {
   "cell_type": "markdown",
   "metadata": {},
   "source": [
    "<div class=\"alert alert-info\">\n",
    "<b>Question:</b> \n",
    "Interpret what you see. Which countries (if any) do you hypothesis tend to award more/less red cards? Feel free to do some research on sport culture in each of these countries.\n",
    "   </div>"
   ]
  },
  {
   "cell_type": "markdown",
   "metadata": {
    "collapsed": true
   },
   "source": [
    "*Insert Answer Here*"
   ]
  },
  {
   "cell_type": "markdown",
   "metadata": {},
   "source": [
    "Observe below the further use of pivot tables to break down the distribution of red cards by player position."
   ]
  },
  {
   "cell_type": "code",
   "execution_count": null,
   "metadata": {},
   "outputs": [],
   "source": [
    "agg_position = data.pivot(\"redCards\", \"position\")\n",
    "agg_position"
   ]
  },
  {
   "cell_type": "markdown",
   "metadata": {},
   "source": [
    "<div class=\"alert alert-info\">\n",
    "<b>Question:</b> Use the above table to create a bar chart of number of red cards per position. (Some of the arguments are provided for you to ensure readable formatting.)\n",
    "   </div>"
   ]
  },
  {
   "cell_type": "code",
   "execution_count": null,
   "metadata": {},
   "outputs": [],
   "source": [
    "....bar(..., overlay=False, width=20)"
   ]
  },
  {
   "cell_type": "markdown",
   "metadata": {},
   "source": [
    "<div class=\"alert alert-info\">\n",
    "<b>Question:</b> Interpret each plot. What positions - <a href=https://en.wikipedia.org/wiki/Association_football_positions>Soccer Positions Info</a> - stand out and why might this be?\n",
    "   </div>"
   ]
  },
  {
   "cell_type": "markdown",
   "metadata": {
    "collapsed": true
   },
   "source": [
    "*Insert Answer Here*"
   ]
  },
  {
   "cell_type": "markdown",
   "metadata": {},
   "source": [
    "## Using prediction and inference to draw conclusions <a id='subsection 1a'></a>"
   ]
  },
  {
   "cell_type": "markdown",
   "metadata": {},
   "source": [
    "Let's get back to our original question - does  a player's skin color have anything to do with the bias that they face in the game? On our dataset we have two variables that contain that information- `rater1` and `rater2`. Since deciding what category (from very light skin- very dark skin) each player fits according to rating is a very subjective measure, we will look into each of these variables individually and then we will take the average of the two variables and use that as a new metric."
   ]
  },
  {
   "cell_type": "markdown",
   "metadata": {},
   "source": [
    "Getting the average of the two rates requires a series of steps. We will: \n",
    "1. Create get the average of the two raters and assign it to a new variable called `avg_rate`\n",
    "2. Add it to the orignal data table: `data`\n",
    "3. Remove from the data table any column that has missing data (nan) for the `avg_rate` column, and assign this clean table to `cleaned_soccer.`\n",
    "\n",
    "Run the following cell to make the appropriate changes:"
   ]
  },
  {
   "cell_type": "code",
   "execution_count": null,
   "metadata": {},
   "outputs": [],
   "source": [
    "# Calculate average rate, append to table\n",
    "avg_rate = (data.column('rater1') + data.column('rater2'))/2\n",
    "data.append_column('avgRate', avg_rate)\n",
    "\n",
    "# Remove nan values\n",
    "to_exclude= make_array()\n",
    "for row_index in range(len(data.column(\"avgRate\"))):\n",
    "    if np.isnan(data.column(\"avgRate\").item(row_index)):\n",
    "        to_exclude= np.append(to_exclude,int(row_index))\n",
    "cleaned_soccer = data.exclude(to_exclude)\n",
    "cleaned_soccer.show(5)"
   ]
  },
  {
   "cell_type": "markdown",
   "metadata": {},
   "source": [
    "Now we want to inspect the number of red, yellow, and yellow-red cards by skin color according to the two raters, and the average rate. To do this, we will:\n",
    "\n",
    "Create subtables using group, sort, and select.\n",
    "Plot the results of each rater group by the number of red cards awarded to players based on their skin color - Rater 1 is done for you!"
   ]
  },
  {
   "cell_type": "markdown",
   "metadata": {},
   "source": [
    "**Rater 1**"
   ]
  },
  {
   "cell_type": "code",
   "execution_count": null,
   "metadata": {},
   "outputs": [],
   "source": [
    "#YOUR CODE HERE -- the following format may help you\n",
    "\n",
    "#Table\n",
    "#group \n",
    "rater1_cards = cleaned_soccer.group('rater1',np.mean)\n",
    "#sort\n",
    "rater1_cards.sort('redCards mean', descending=True)\n",
    "#select\n",
    "rater1_cards.select(['rater1','redCards mean', 'yellowCards mean', 'yellowReds mean'])"
   ]
  },
  {
   "cell_type": "code",
   "execution_count": null,
   "metadata": {},
   "outputs": [],
   "source": [
    "#YOUR CODE HERE -- the following format may help you\n",
    "\n",
    "#Plot"
   ]
  },
  {
   "cell_type": "markdown",
   "metadata": {},
   "source": [
    "**Rater 2**"
   ]
  },
  {
   "cell_type": "code",
   "execution_count": null,
   "metadata": {},
   "outputs": [],
   "source": [
    "#YOUR CODE HERE -- the following format may help you\n",
    "\n",
    "#Table\n",
    "#group \n",
    "...\n",
    "#sort\n",
    "...\n",
    "#select\n",
    "..."
   ]
  },
  {
   "cell_type": "code",
   "execution_count": null,
   "metadata": {},
   "outputs": [],
   "source": [
    "#Plot\n",
    "..."
   ]
  },
  {
   "cell_type": "markdown",
   "metadata": {},
   "source": [
    "**Average Rating**"
   ]
  },
  {
   "cell_type": "code",
   "execution_count": null,
   "metadata": {},
   "outputs": [],
   "source": [
    "#YOUR CODE HERE -- the following format may help you\n",
    "\n",
    "#Table\n",
    "#group \n",
    "...\n",
    "#sort\n",
    "...\n",
    "#select\n",
    "..."
   ]
  },
  {
   "cell_type": "code",
   "execution_count": null,
   "metadata": {},
   "outputs": [],
   "source": [
    "#YOUR CODE HERE -- the following format may help you\n",
    "\n",
    "#Plot\n",
    "..."
   ]
  },
  {
   "cell_type": "markdown",
   "metadata": {},
   "source": [
    "<div class=\"alert alert-info\">\n",
    "<b>Question:</b> Interpret each plot. Go back to your original question - do you think skin color manifest in racial bias in soccer? Why or why not?\n",
    "   </div>"
   ]
  },
  {
   "cell_type": "markdown",
   "metadata": {},
   "source": [
    "*Insert Answer Here*"
   ]
  },
  {
   "cell_type": "markdown",
   "metadata": {},
   "source": [
    "<div class=\"alert alert-info\">\n",
    "<b>Question:</b> What is something interesting you learned from the project?\n",
    "   </div>"
   ]
  },
  {
   "cell_type": "markdown",
   "metadata": {},
   "source": [
    "*Insert Answer Here*"
   ]
  },
  {
   "cell_type": "markdown",
   "metadata": {},
   "source": [
    "**Source:** Data 88 (Sports Analytics)\n",
    "**Adapted by:** Alleanna Clark, Ashley Quiterio, Karla Palos Castellanos, Pratibha Sriram, William Furtado"
   ]
  }
 ],
 "metadata": {
  "kernelspec": {
   "display_name": "Python 3",
   "language": "python",
   "name": "python3"
  },
  "language_info": {
   "codemirror_mode": {
    "name": "ipython",
    "version": 3
   },
   "file_extension": ".py",
   "mimetype": "text/x-python",
   "name": "python",
   "nbconvert_exporter": "python",
   "pygments_lexer": "ipython3",
   "version": "3.7.4"
  }
 },
 "nbformat": 4,
 "nbformat_minor": 4
}
